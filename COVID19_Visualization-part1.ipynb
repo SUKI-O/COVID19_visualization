{
 "cells": [
  {
   "cell_type": "markdown",
   "metadata": {},
   "source": [
    "## GLOBAL LEVEL\n",
    "\n",
    "### 1. [Total_Cases](#Total_Cases)\n"
   ]
  },
  {
   "cell_type": "code",
   "execution_count": 2,
   "metadata": {},
   "outputs": [],
   "source": [
    "%matplotlib inline\n",
    "import numpy as np\n",
    "import seaborn as sns\n",
    "import matplotlib.pyplot as plt\n",
    "import pandas as pd\n",
    "import random\n",
    "import os\n",
    "from datetime import datetime\n",
    "import re\n",
    "import plotly\n",
    "import plotly.graph_objects as go\n",
    "import plotly.express as px\n",
    "import plotly.io as pio\n",
    "import plotly.offline as pyo\n",
    "h\n",
    "sns.set(style=\"darkgrid\")\n",
    "\n",
    "pd.set_option('display.max_rows', 500)\n",
    "pd.set_option('display.max_columns', 500)\n",
    "pd.set_option('display.width', 1000)\n"
   ]
  },
  {
   "cell_type": "code",
   "execution_count": 2,
   "metadata": {},
   "outputs": [],
   "source": [
    "country_profile = pd.read_csv('Country_Summary.csv')"
   ]
  },
  {
   "cell_type": "code",
   "execution_count": 3,
   "metadata": {},
   "outputs": [
    {
     "data": {
      "text/html": [
       "<div>\n",
       "<style scoped>\n",
       "    .dataframe tbody tr th:only-of-type {\n",
       "        vertical-align: middle;\n",
       "    }\n",
       "\n",
       "    .dataframe tbody tr th {\n",
       "        vertical-align: top;\n",
       "    }\n",
       "\n",
       "    .dataframe thead th {\n",
       "        text-align: right;\n",
       "    }\n",
       "</style>\n",
       "<table border=\"1\" class=\"dataframe\">\n",
       "  <thead>\n",
       "    <tr style=\"text-align: right;\">\n",
       "      <th></th>\n",
       "      <th>Unnamed: 0</th>\n",
       "      <th>Country Name</th>\n",
       "      <th>Country Code</th>\n",
       "      <th>Total_Pop</th>\n",
       "      <th>Pop_Over_65</th>\n",
       "      <th>Urban_Pop</th>\n",
       "      <th>Life_Expectancy</th>\n",
       "      <th>Pop_Desity</th>\n",
       "      <th>GNI_Per_Capita</th>\n",
       "      <th>Health_Coverage_last</th>\n",
       "      <th>Social_Coverage_last</th>\n",
       "      <th>Hospital_beds_per_1000_last</th>\n",
       "      <th>Physician_per_1000_last</th>\n",
       "      <th>Vulnerable_emp_last</th>\n",
       "      <th>Lat</th>\n",
       "      <th>Long</th>\n",
       "      <th>Confirmed</th>\n",
       "      <th>Deaths</th>\n",
       "      <th>Recovered</th>\n",
       "      <th>Deaths_Rate</th>\n",
       "      <th>Day_Change</th>\n",
       "    </tr>\n",
       "  </thead>\n",
       "  <tbody>\n",
       "    <tr>\n",
       "      <th>0</th>\n",
       "      <td>0</td>\n",
       "      <td>Argentina</td>\n",
       "      <td>ARG</td>\n",
       "      <td>4.449450e+07</td>\n",
       "      <td>4946805.0</td>\n",
       "      <td>40877099.0</td>\n",
       "      <td>76.372000</td>\n",
       "      <td>16.258510</td>\n",
       "      <td>12390.0</td>\n",
       "      <td>30.590558</td>\n",
       "      <td>46.360800</td>\n",
       "      <td>5.0</td>\n",
       "      <td>3.9600</td>\n",
       "      <td>21.502000</td>\n",
       "      <td>-38.416100</td>\n",
       "      <td>-63.616700</td>\n",
       "      <td>5776.000000</td>\n",
       "      <td>300.000000</td>\n",
       "      <td>1728.000000</td>\n",
       "      <td>0.051930</td>\n",
       "      <td>165.000000</td>\n",
       "    </tr>\n",
       "    <tr>\n",
       "      <th>1</th>\n",
       "      <td>1</td>\n",
       "      <td>Australia</td>\n",
       "      <td>AUS</td>\n",
       "      <td>2.499237e+07</td>\n",
       "      <td>3912924.0</td>\n",
       "      <td>21496436.0</td>\n",
       "      <td>82.497561</td>\n",
       "      <td>3.249129</td>\n",
       "      <td>53230.0</td>\n",
       "      <td>NaN</td>\n",
       "      <td>NaN</td>\n",
       "      <td>3.8</td>\n",
       "      <td>3.5874</td>\n",
       "      <td>10.729000</td>\n",
       "      <td>-31.996188</td>\n",
       "      <td>141.232788</td>\n",
       "      <td>867.375000</td>\n",
       "      <td>12.125000</td>\n",
       "      <td>767.625000</td>\n",
       "      <td>0.017800</td>\n",
       "      <td>2.625000</td>\n",
       "    </tr>\n",
       "    <tr>\n",
       "      <th>2</th>\n",
       "      <td>2</td>\n",
       "      <td>Brazil</td>\n",
       "      <td>BRA</td>\n",
       "      <td>2.094693e+08</td>\n",
       "      <td>18690609.0</td>\n",
       "      <td>181335507.0</td>\n",
       "      <td>75.456000</td>\n",
       "      <td>25.061716</td>\n",
       "      <td>9140.0</td>\n",
       "      <td>30.535312</td>\n",
       "      <td>53.808711</td>\n",
       "      <td>2.2</td>\n",
       "      <td>2.1499</td>\n",
       "      <td>27.524001</td>\n",
       "      <td>-14.235000</td>\n",
       "      <td>-51.925300</td>\n",
       "      <td>156061.000000</td>\n",
       "      <td>10656.000000</td>\n",
       "      <td>61685.000000</td>\n",
       "      <td>0.068281</td>\n",
       "      <td>9167.000000</td>\n",
       "    </tr>\n",
       "    <tr>\n",
       "      <th>3</th>\n",
       "      <td>3</td>\n",
       "      <td>China</td>\n",
       "      <td>CHN</td>\n",
       "      <td>1.392730e+09</td>\n",
       "      <td>152098421.0</td>\n",
       "      <td>823827650.0</td>\n",
       "      <td>76.470000</td>\n",
       "      <td>148.348833</td>\n",
       "      <td>9460.0</td>\n",
       "      <td>35.579581</td>\n",
       "      <td>63.053001</td>\n",
       "      <td>4.2</td>\n",
       "      <td>1.7855</td>\n",
       "      <td>43.828001</td>\n",
       "      <td>32.828385</td>\n",
       "      <td>111.649082</td>\n",
       "      <td>2545.151515</td>\n",
       "      <td>140.515152</td>\n",
       "      <td>2397.787879</td>\n",
       "      <td>0.010969</td>\n",
       "      <td>0.424242</td>\n",
       "    </tr>\n",
       "    <tr>\n",
       "      <th>4</th>\n",
       "      <td>4</td>\n",
       "      <td>France</td>\n",
       "      <td>FRA</td>\n",
       "      <td>6.698724e+07</td>\n",
       "      <td>13420643.0</td>\n",
       "      <td>53887219.0</td>\n",
       "      <td>82.524390</td>\n",
       "      <td>122.338396</td>\n",
       "      <td>41080.0</td>\n",
       "      <td>NaN</td>\n",
       "      <td>NaN</td>\n",
       "      <td>6.5</td>\n",
       "      <td>3.2349</td>\n",
       "      <td>7.442000</td>\n",
       "      <td>8.305673</td>\n",
       "      <td>5.429018</td>\n",
       "      <td>16071.090909</td>\n",
       "      <td>2392.090909</td>\n",
       "      <td>5104.363636</td>\n",
       "      <td>0.036566</td>\n",
       "      <td>52.727273</td>\n",
       "    </tr>\n",
       "  </tbody>\n",
       "</table>\n",
       "</div>"
      ],
      "text/plain": [
       "   Unnamed: 0 Country Name Country Code     Total_Pop  Pop_Over_65    Urban_Pop  Life_Expectancy  Pop_Desity  GNI_Per_Capita  Health_Coverage_last  Social_Coverage_last  Hospital_beds_per_1000_last  Physician_per_1000_last  Vulnerable_emp_last        Lat        Long      Confirmed        Deaths     Recovered  Deaths_Rate   Day_Change\n",
       "0           0    Argentina          ARG  4.449450e+07    4946805.0   40877099.0        76.372000   16.258510         12390.0             30.590558             46.360800                          5.0                   3.9600            21.502000 -38.416100  -63.616700    5776.000000    300.000000   1728.000000     0.051930   165.000000\n",
       "1           1    Australia          AUS  2.499237e+07    3912924.0   21496436.0        82.497561    3.249129         53230.0                   NaN                   NaN                          3.8                   3.5874            10.729000 -31.996188  141.232788     867.375000     12.125000    767.625000     0.017800     2.625000\n",
       "2           2       Brazil          BRA  2.094693e+08   18690609.0  181335507.0        75.456000   25.061716          9140.0             30.535312             53.808711                          2.2                   2.1499            27.524001 -14.235000  -51.925300  156061.000000  10656.000000  61685.000000     0.068281  9167.000000\n",
       "3           3        China          CHN  1.392730e+09  152098421.0  823827650.0        76.470000  148.348833          9460.0             35.579581             63.053001                          4.2                   1.7855            43.828001  32.828385  111.649082    2545.151515    140.515152   2397.787879     0.010969     0.424242\n",
       "4           4       France          FRA  6.698724e+07   13420643.0   53887219.0        82.524390  122.338396         41080.0                   NaN                   NaN                          6.5                   3.2349             7.442000   8.305673    5.429018   16071.090909   2392.090909   5104.363636     0.036566    52.727273"
      ]
     },
     "execution_count": 3,
     "metadata": {},
     "output_type": "execute_result"
    }
   ],
   "source": [
    "country_profile.head()"
   ]
  },
  {
   "cell_type": "code",
   "execution_count": 4,
   "metadata": {
    "scrolled": true
   },
   "outputs": [
    {
     "data": {
      "text/html": [
       "<div>\n",
       "<style scoped>\n",
       "    .dataframe tbody tr th:only-of-type {\n",
       "        vertical-align: middle;\n",
       "    }\n",
       "\n",
       "    .dataframe tbody tr th {\n",
       "        vertical-align: top;\n",
       "    }\n",
       "\n",
       "    .dataframe thead th {\n",
       "        text-align: right;\n",
       "    }\n",
       "</style>\n",
       "<table border=\"1\" class=\"dataframe\">\n",
       "  <thead>\n",
       "    <tr style=\"text-align: right;\">\n",
       "      <th></th>\n",
       "      <th>Unnamed: 0</th>\n",
       "      <th>Country Code</th>\n",
       "      <th>Total_Pop</th>\n",
       "      <th>Pop_Over_65</th>\n",
       "      <th>Urban_Pop</th>\n",
       "      <th>Life_Expectancy</th>\n",
       "      <th>Pop_Desity</th>\n",
       "      <th>GNI_Per_Capita</th>\n",
       "      <th>Health_Coverage_last</th>\n",
       "      <th>Social_Coverage_last</th>\n",
       "      <th>Hospital_beds_per_1000_last</th>\n",
       "      <th>Physician_per_1000_last</th>\n",
       "      <th>Vulnerable_emp_last</th>\n",
       "      <th>Lat</th>\n",
       "      <th>Long</th>\n",
       "      <th>Confirmed</th>\n",
       "      <th>Deaths</th>\n",
       "      <th>Recovered</th>\n",
       "      <th>Deaths_Rate</th>\n",
       "      <th>Day_Change</th>\n",
       "    </tr>\n",
       "    <tr>\n",
       "      <th>Country Name</th>\n",
       "      <th></th>\n",
       "      <th></th>\n",
       "      <th></th>\n",
       "      <th></th>\n",
       "      <th></th>\n",
       "      <th></th>\n",
       "      <th></th>\n",
       "      <th></th>\n",
       "      <th></th>\n",
       "      <th></th>\n",
       "      <th></th>\n",
       "      <th></th>\n",
       "      <th></th>\n",
       "      <th></th>\n",
       "      <th></th>\n",
       "      <th></th>\n",
       "      <th></th>\n",
       "      <th></th>\n",
       "      <th></th>\n",
       "      <th></th>\n",
       "    </tr>\n",
       "  </thead>\n",
       "  <tbody>\n",
       "    <tr>\n",
       "      <th>US</th>\n",
       "      <td>19</td>\n",
       "      <td>USA</td>\n",
       "      <td>3.271674e+08</td>\n",
       "      <td>51717496.0</td>\n",
       "      <td>269114845.0</td>\n",
       "      <td>78.539024</td>\n",
       "      <td>35.766089</td>\n",
       "      <td>63080.0</td>\n",
       "      <td>NaN</td>\n",
       "      <td>NaN</td>\n",
       "      <td>2.9</td>\n",
       "      <td>2.5948</td>\n",
       "      <td>3.734000</td>\n",
       "      <td>37.0902</td>\n",
       "      <td>-95.7129</td>\n",
       "      <td>1309550.0</td>\n",
       "      <td>78795.0</td>\n",
       "      <td>212534.0</td>\n",
       "      <td>0.060169</td>\n",
       "      <td>25621.0</td>\n",
       "    </tr>\n",
       "    <tr>\n",
       "      <th>Spain</th>\n",
       "      <td>15</td>\n",
       "      <td>ESP</td>\n",
       "      <td>4.672375e+07</td>\n",
       "      <td>9054365.0</td>\n",
       "      <td>37528982.0</td>\n",
       "      <td>83.329268</td>\n",
       "      <td>93.529058</td>\n",
       "      <td>29340.0</td>\n",
       "      <td>NaN</td>\n",
       "      <td>NaN</td>\n",
       "      <td>3.0</td>\n",
       "      <td>4.0691</td>\n",
       "      <td>11.362000</td>\n",
       "      <td>40.0000</td>\n",
       "      <td>-4.0000</td>\n",
       "      <td>223578.0</td>\n",
       "      <td>26478.0</td>\n",
       "      <td>133952.0</td>\n",
       "      <td>0.118428</td>\n",
       "      <td>721.0</td>\n",
       "    </tr>\n",
       "    <tr>\n",
       "      <th>Italy</th>\n",
       "      <td>8</td>\n",
       "      <td>ITA</td>\n",
       "      <td>6.043128e+07</td>\n",
       "      <td>13749132.0</td>\n",
       "      <td>42566587.0</td>\n",
       "      <td>83.243902</td>\n",
       "      <td>205.450748</td>\n",
       "      <td>33730.0</td>\n",
       "      <td>NaN</td>\n",
       "      <td>NaN</td>\n",
       "      <td>3.4</td>\n",
       "      <td>4.0931</td>\n",
       "      <td>17.000000</td>\n",
       "      <td>43.0000</td>\n",
       "      <td>12.0000</td>\n",
       "      <td>218268.0</td>\n",
       "      <td>30395.0</td>\n",
       "      <td>103031.0</td>\n",
       "      <td>0.139255</td>\n",
       "      <td>1083.0</td>\n",
       "    </tr>\n",
       "    <tr>\n",
       "      <th>Russia</th>\n",
       "      <td>13</td>\n",
       "      <td>RUS</td>\n",
       "      <td>1.444780e+08</td>\n",
       "      <td>21201732.0</td>\n",
       "      <td>107539347.0</td>\n",
       "      <td>72.119024</td>\n",
       "      <td>8.822080</td>\n",
       "      <td>10230.0</td>\n",
       "      <td>56.341200</td>\n",
       "      <td>77.875141</td>\n",
       "      <td>8.2</td>\n",
       "      <td>4.0139</td>\n",
       "      <td>5.247000</td>\n",
       "      <td>60.0000</td>\n",
       "      <td>90.0000</td>\n",
       "      <td>198676.0</td>\n",
       "      <td>1827.0</td>\n",
       "      <td>31916.0</td>\n",
       "      <td>0.009196</td>\n",
       "      <td>10817.0</td>\n",
       "    </tr>\n",
       "    <tr>\n",
       "      <th>Germany</th>\n",
       "      <td>5</td>\n",
       "      <td>DEU</td>\n",
       "      <td>8.292792e+07</td>\n",
       "      <td>17797959.0</td>\n",
       "      <td>64113235.0</td>\n",
       "      <td>80.990244</td>\n",
       "      <td>237.370970</td>\n",
       "      <td>47090.0</td>\n",
       "      <td>NaN</td>\n",
       "      <td>NaN</td>\n",
       "      <td>8.3</td>\n",
       "      <td>4.2087</td>\n",
       "      <td>5.825000</td>\n",
       "      <td>51.0000</td>\n",
       "      <td>9.0000</td>\n",
       "      <td>171324.0</td>\n",
       "      <td>7549.0</td>\n",
       "      <td>143300.0</td>\n",
       "      <td>0.044062</td>\n",
       "      <td>736.0</td>\n",
       "    </tr>\n",
       "    <tr>\n",
       "      <th>Brazil</th>\n",
       "      <td>2</td>\n",
       "      <td>BRA</td>\n",
       "      <td>2.094693e+08</td>\n",
       "      <td>18690609.0</td>\n",
       "      <td>181335507.0</td>\n",
       "      <td>75.456000</td>\n",
       "      <td>25.061716</td>\n",
       "      <td>9140.0</td>\n",
       "      <td>30.535312</td>\n",
       "      <td>53.808711</td>\n",
       "      <td>2.2</td>\n",
       "      <td>2.1499</td>\n",
       "      <td>27.524001</td>\n",
       "      <td>-14.2350</td>\n",
       "      <td>-51.9253</td>\n",
       "      <td>156061.0</td>\n",
       "      <td>10656.0</td>\n",
       "      <td>61685.0</td>\n",
       "      <td>0.068281</td>\n",
       "      <td>9167.0</td>\n",
       "    </tr>\n",
       "    <tr>\n",
       "      <th>Turkey</th>\n",
       "      <td>17</td>\n",
       "      <td>TUR</td>\n",
       "      <td>8.231972e+07</td>\n",
       "      <td>6983357.0</td>\n",
       "      <td>61857510.0</td>\n",
       "      <td>77.161000</td>\n",
       "      <td>106.960129</td>\n",
       "      <td>10420.0</td>\n",
       "      <td>36.060277</td>\n",
       "      <td>50.362132</td>\n",
       "      <td>2.7</td>\n",
       "      <td>1.7605</td>\n",
       "      <td>28.008999</td>\n",
       "      <td>38.9637</td>\n",
       "      <td>35.2433</td>\n",
       "      <td>137115.0</td>\n",
       "      <td>3739.0</td>\n",
       "      <td>89480.0</td>\n",
       "      <td>0.027269</td>\n",
       "      <td>1546.0</td>\n",
       "    </tr>\n",
       "    <tr>\n",
       "      <th>Iran</th>\n",
       "      <td>90</td>\n",
       "      <td>IRN</td>\n",
       "      <td>8.180027e+07</td>\n",
       "      <td>5058998.0</td>\n",
       "      <td>61266765.0</td>\n",
       "      <td>76.271000</td>\n",
       "      <td>50.222420</td>\n",
       "      <td>5470.0</td>\n",
       "      <td>NaN</td>\n",
       "      <td>NaN</td>\n",
       "      <td>1.5</td>\n",
       "      <td>1.1400</td>\n",
       "      <td>41.242000</td>\n",
       "      <td>32.0000</td>\n",
       "      <td>53.0000</td>\n",
       "      <td>106220.0</td>\n",
       "      <td>6589.0</td>\n",
       "      <td>85064.0</td>\n",
       "      <td>0.062031</td>\n",
       "      <td>1529.0</td>\n",
       "    </tr>\n",
       "    <tr>\n",
       "      <th>Peru</th>\n",
       "      <td>136</td>\n",
       "      <td>PER</td>\n",
       "      <td>3.198926e+07</td>\n",
       "      <td>2587417.0</td>\n",
       "      <td>24921870.0</td>\n",
       "      <td>76.286000</td>\n",
       "      <td>24.991606</td>\n",
       "      <td>6470.0</td>\n",
       "      <td>11.515865</td>\n",
       "      <td>64.854444</td>\n",
       "      <td>1.6</td>\n",
       "      <td>1.2700</td>\n",
       "      <td>50.954999</td>\n",
       "      <td>-9.1900</td>\n",
       "      <td>-75.0152</td>\n",
       "      <td>65015.0</td>\n",
       "      <td>1814.0</td>\n",
       "      <td>20246.0</td>\n",
       "      <td>0.027901</td>\n",
       "      <td>3168.0</td>\n",
       "    </tr>\n",
       "    <tr>\n",
       "      <th>India</th>\n",
       "      <td>6</td>\n",
       "      <td>IND</td>\n",
       "      <td>1.352617e+09</td>\n",
       "      <td>83591151.0</td>\n",
       "      <td>460295677.0</td>\n",
       "      <td>69.165000</td>\n",
       "      <td>454.938073</td>\n",
       "      <td>2020.0</td>\n",
       "      <td>17.663517</td>\n",
       "      <td>93.988803</td>\n",
       "      <td>0.7</td>\n",
       "      <td>0.7776</td>\n",
       "      <td>76.695003</td>\n",
       "      <td>21.0000</td>\n",
       "      <td>78.0000</td>\n",
       "      <td>62808.0</td>\n",
       "      <td>2101.0</td>\n",
       "      <td>19301.0</td>\n",
       "      <td>0.033451</td>\n",
       "      <td>3113.0</td>\n",
       "    </tr>\n",
       "    <tr>\n",
       "      <th>Belgium</th>\n",
       "      <td>34</td>\n",
       "      <td>BEL</td>\n",
       "      <td>1.142207e+07</td>\n",
       "      <td>2146063.0</td>\n",
       "      <td>11193741.0</td>\n",
       "      <td>81.439024</td>\n",
       "      <td>377.214927</td>\n",
       "      <td>45910.0</td>\n",
       "      <td>NaN</td>\n",
       "      <td>NaN</td>\n",
       "      <td>6.2</td>\n",
       "      <td>3.3234</td>\n",
       "      <td>10.201000</td>\n",
       "      <td>50.8333</td>\n",
       "      <td>4.0000</td>\n",
       "      <td>52596.0</td>\n",
       "      <td>8581.0</td>\n",
       "      <td>13411.0</td>\n",
       "      <td>0.163146</td>\n",
       "      <td>585.0</td>\n",
       "    </tr>\n",
       "    <tr>\n",
       "      <th>Saudi Arabia</th>\n",
       "      <td>14</td>\n",
       "      <td>SAU</td>\n",
       "      <td>3.369995e+07</td>\n",
       "      <td>1116846.0</td>\n",
       "      <td>28255384.0</td>\n",
       "      <td>74.874000</td>\n",
       "      <td>15.676654</td>\n",
       "      <td>21600.0</td>\n",
       "      <td>NaN</td>\n",
       "      <td>NaN</td>\n",
       "      <td>2.7</td>\n",
       "      <td>2.3900</td>\n",
       "      <td>2.961000</td>\n",
       "      <td>24.0000</td>\n",
       "      <td>45.0000</td>\n",
       "      <td>37136.0</td>\n",
       "      <td>239.0</td>\n",
       "      <td>10144.0</td>\n",
       "      <td>0.006436</td>\n",
       "      <td>1704.0</td>\n",
       "    </tr>\n",
       "    <tr>\n",
       "      <th>Mexico</th>\n",
       "      <td>11</td>\n",
       "      <td>MEX</td>\n",
       "      <td>1.261908e+08</td>\n",
       "      <td>9115625.0</td>\n",
       "      <td>101149488.0</td>\n",
       "      <td>74.947000</td>\n",
       "      <td>64.914626</td>\n",
       "      <td>9180.0</td>\n",
       "      <td>41.889061</td>\n",
       "      <td>65.682965</td>\n",
       "      <td>1.5</td>\n",
       "      <td>2.2478</td>\n",
       "      <td>26.818999</td>\n",
       "      <td>23.6345</td>\n",
       "      <td>-102.5528</td>\n",
       "      <td>33460.0</td>\n",
       "      <td>3353.0</td>\n",
       "      <td>21824.0</td>\n",
       "      <td>0.100206</td>\n",
       "      <td>1938.0</td>\n",
       "    </tr>\n",
       "    <tr>\n",
       "      <th>Switzerland</th>\n",
       "      <td>16</td>\n",
       "      <td>CHE</td>\n",
       "      <td>8.516543e+06</td>\n",
       "      <td>1586054.0</td>\n",
       "      <td>6284953.0</td>\n",
       "      <td>83.602439</td>\n",
       "      <td>215.521378</td>\n",
       "      <td>84410.0</td>\n",
       "      <td>NaN</td>\n",
       "      <td>NaN</td>\n",
       "      <td>4.7</td>\n",
       "      <td>4.2363</td>\n",
       "      <td>8.983000</td>\n",
       "      <td>46.8182</td>\n",
       "      <td>8.2275</td>\n",
       "      <td>30251.0</td>\n",
       "      <td>1830.0</td>\n",
       "      <td>26400.0</td>\n",
       "      <td>0.060492</td>\n",
       "      <td>44.0</td>\n",
       "    </tr>\n",
       "    <tr>\n",
       "      <th>Ecuador</th>\n",
       "      <td>66</td>\n",
       "      <td>ECU</td>\n",
       "      <td>1.708436e+07</td>\n",
       "      <td>1222777.0</td>\n",
       "      <td>10903407.0</td>\n",
       "      <td>76.584000</td>\n",
       "      <td>68.788682</td>\n",
       "      <td>6110.0</td>\n",
       "      <td>10.930421</td>\n",
       "      <td>72.575481</td>\n",
       "      <td>1.5</td>\n",
       "      <td>2.0500</td>\n",
       "      <td>46.120999</td>\n",
       "      <td>-1.8312</td>\n",
       "      <td>-78.1834</td>\n",
       "      <td>29071.0</td>\n",
       "      <td>1717.0</td>\n",
       "      <td>3433.0</td>\n",
       "      <td>0.059060</td>\n",
       "      <td>253.0</td>\n",
       "    </tr>\n",
       "    <tr>\n",
       "      <th>Pakistan</th>\n",
       "      <td>132</td>\n",
       "      <td>PAK</td>\n",
       "      <td>2.122150e+08</td>\n",
       "      <td>9152355.0</td>\n",
       "      <td>77810763.0</td>\n",
       "      <td>66.947000</td>\n",
       "      <td>275.289319</td>\n",
       "      <td>1590.0</td>\n",
       "      <td>6.008008</td>\n",
       "      <td>16.799389</td>\n",
       "      <td>0.6</td>\n",
       "      <td>0.9753</td>\n",
       "      <td>59.250000</td>\n",
       "      <td>30.3753</td>\n",
       "      <td>69.3451</td>\n",
       "      <td>28736.0</td>\n",
       "      <td>636.0</td>\n",
       "      <td>7809.0</td>\n",
       "      <td>0.022132</td>\n",
       "      <td>2301.0</td>\n",
       "    </tr>\n",
       "    <tr>\n",
       "      <th>Portugal</th>\n",
       "      <td>139</td>\n",
       "      <td>PRT</td>\n",
       "      <td>1.028176e+07</td>\n",
       "      <td>2257243.0</td>\n",
       "      <td>6704840.0</td>\n",
       "      <td>81.124390</td>\n",
       "      <td>112.239453</td>\n",
       "      <td>21990.0</td>\n",
       "      <td>NaN</td>\n",
       "      <td>NaN</td>\n",
       "      <td>3.4</td>\n",
       "      <td>3.3356</td>\n",
       "      <td>12.226000</td>\n",
       "      <td>39.3999</td>\n",
       "      <td>-8.2245</td>\n",
       "      <td>27406.0</td>\n",
       "      <td>1126.0</td>\n",
       "      <td>2499.0</td>\n",
       "      <td>0.041084</td>\n",
       "      <td>138.0</td>\n",
       "    </tr>\n",
       "    <tr>\n",
       "      <th>Chile</th>\n",
       "      <td>51</td>\n",
       "      <td>CHL</td>\n",
       "      <td>1.872916e+07</td>\n",
       "      <td>2159435.0</td>\n",
       "      <td>16400002.0</td>\n",
       "      <td>79.909000</td>\n",
       "      <td>25.189446</td>\n",
       "      <td>14670.0</td>\n",
       "      <td>44.912702</td>\n",
       "      <td>87.722474</td>\n",
       "      <td>2.2</td>\n",
       "      <td>1.0800</td>\n",
       "      <td>24.070000</td>\n",
       "      <td>-35.6751</td>\n",
       "      <td>-71.5430</td>\n",
       "      <td>27219.0</td>\n",
       "      <td>304.0</td>\n",
       "      <td>12667.0</td>\n",
       "      <td>0.011168</td>\n",
       "      <td>1247.0</td>\n",
       "    </tr>\n",
       "    <tr>\n",
       "      <th>Sweden</th>\n",
       "      <td>161</td>\n",
       "      <td>SWE</td>\n",
       "      <td>1.018318e+07</td>\n",
       "      <td>2046362.0</td>\n",
       "      <td>8903252.0</td>\n",
       "      <td>82.307317</td>\n",
       "      <td>25.001043</td>\n",
       "      <td>55490.0</td>\n",
       "      <td>NaN</td>\n",
       "      <td>NaN</td>\n",
       "      <td>2.6</td>\n",
       "      <td>5.3996</td>\n",
       "      <td>6.235000</td>\n",
       "      <td>63.0000</td>\n",
       "      <td>16.0000</td>\n",
       "      <td>25921.0</td>\n",
       "      <td>3220.0</td>\n",
       "      <td>4971.0</td>\n",
       "      <td>0.124219</td>\n",
       "      <td>656.0</td>\n",
       "    </tr>\n",
       "    <tr>\n",
       "      <th>Ireland</th>\n",
       "      <td>92</td>\n",
       "      <td>IRL</td>\n",
       "      <td>4.853506e+06</td>\n",
       "      <td>672978.0</td>\n",
       "      <td>3065960.0</td>\n",
       "      <td>81.956098</td>\n",
       "      <td>70.452983</td>\n",
       "      <td>61390.0</td>\n",
       "      <td>NaN</td>\n",
       "      <td>NaN</td>\n",
       "      <td>2.8</td>\n",
       "      <td>3.0861</td>\n",
       "      <td>10.855000</td>\n",
       "      <td>53.1424</td>\n",
       "      <td>-7.6921</td>\n",
       "      <td>22760.0</td>\n",
       "      <td>1446.0</td>\n",
       "      <td>17110.0</td>\n",
       "      <td>0.063530</td>\n",
       "      <td>219.0</td>\n",
       "    </tr>\n",
       "  </tbody>\n",
       "</table>\n",
       "</div>"
      ],
      "text/plain": [
       "              Unnamed: 0 Country Code     Total_Pop  Pop_Over_65    Urban_Pop  Life_Expectancy  Pop_Desity  GNI_Per_Capita  Health_Coverage_last  Social_Coverage_last  Hospital_beds_per_1000_last  Physician_per_1000_last  Vulnerable_emp_last      Lat      Long  Confirmed   Deaths  Recovered  Deaths_Rate  Day_Change\n",
       "Country Name                                                                                                                                                                                                                                                                                                                \n",
       "US                    19          USA  3.271674e+08   51717496.0  269114845.0        78.539024   35.766089         63080.0                   NaN                   NaN                          2.9                   2.5948             3.734000  37.0902  -95.7129  1309550.0  78795.0   212534.0     0.060169     25621.0\n",
       "Spain                 15          ESP  4.672375e+07    9054365.0   37528982.0        83.329268   93.529058         29340.0                   NaN                   NaN                          3.0                   4.0691            11.362000  40.0000   -4.0000   223578.0  26478.0   133952.0     0.118428       721.0\n",
       "Italy                  8          ITA  6.043128e+07   13749132.0   42566587.0        83.243902  205.450748         33730.0                   NaN                   NaN                          3.4                   4.0931            17.000000  43.0000   12.0000   218268.0  30395.0   103031.0     0.139255      1083.0\n",
       "Russia                13          RUS  1.444780e+08   21201732.0  107539347.0        72.119024    8.822080         10230.0             56.341200             77.875141                          8.2                   4.0139             5.247000  60.0000   90.0000   198676.0   1827.0    31916.0     0.009196     10817.0\n",
       "Germany                5          DEU  8.292792e+07   17797959.0   64113235.0        80.990244  237.370970         47090.0                   NaN                   NaN                          8.3                   4.2087             5.825000  51.0000    9.0000   171324.0   7549.0   143300.0     0.044062       736.0\n",
       "Brazil                 2          BRA  2.094693e+08   18690609.0  181335507.0        75.456000   25.061716          9140.0             30.535312             53.808711                          2.2                   2.1499            27.524001 -14.2350  -51.9253   156061.0  10656.0    61685.0     0.068281      9167.0\n",
       "Turkey                17          TUR  8.231972e+07    6983357.0   61857510.0        77.161000  106.960129         10420.0             36.060277             50.362132                          2.7                   1.7605            28.008999  38.9637   35.2433   137115.0   3739.0    89480.0     0.027269      1546.0\n",
       "Iran                  90          IRN  8.180027e+07    5058998.0   61266765.0        76.271000   50.222420          5470.0                   NaN                   NaN                          1.5                   1.1400            41.242000  32.0000   53.0000   106220.0   6589.0    85064.0     0.062031      1529.0\n",
       "Peru                 136          PER  3.198926e+07    2587417.0   24921870.0        76.286000   24.991606          6470.0             11.515865             64.854444                          1.6                   1.2700            50.954999  -9.1900  -75.0152    65015.0   1814.0    20246.0     0.027901      3168.0\n",
       "India                  6          IND  1.352617e+09   83591151.0  460295677.0        69.165000  454.938073          2020.0             17.663517             93.988803                          0.7                   0.7776            76.695003  21.0000   78.0000    62808.0   2101.0    19301.0     0.033451      3113.0\n",
       "Belgium               34          BEL  1.142207e+07    2146063.0   11193741.0        81.439024  377.214927         45910.0                   NaN                   NaN                          6.2                   3.3234            10.201000  50.8333    4.0000    52596.0   8581.0    13411.0     0.163146       585.0\n",
       "Saudi Arabia          14          SAU  3.369995e+07    1116846.0   28255384.0        74.874000   15.676654         21600.0                   NaN                   NaN                          2.7                   2.3900             2.961000  24.0000   45.0000    37136.0    239.0    10144.0     0.006436      1704.0\n",
       "Mexico                11          MEX  1.261908e+08    9115625.0  101149488.0        74.947000   64.914626          9180.0             41.889061             65.682965                          1.5                   2.2478            26.818999  23.6345 -102.5528    33460.0   3353.0    21824.0     0.100206      1938.0\n",
       "Switzerland           16          CHE  8.516543e+06    1586054.0    6284953.0        83.602439  215.521378         84410.0                   NaN                   NaN                          4.7                   4.2363             8.983000  46.8182    8.2275    30251.0   1830.0    26400.0     0.060492        44.0\n",
       "Ecuador               66          ECU  1.708436e+07    1222777.0   10903407.0        76.584000   68.788682          6110.0             10.930421             72.575481                          1.5                   2.0500            46.120999  -1.8312  -78.1834    29071.0   1717.0     3433.0     0.059060       253.0\n",
       "Pakistan             132          PAK  2.122150e+08    9152355.0   77810763.0        66.947000  275.289319          1590.0              6.008008             16.799389                          0.6                   0.9753            59.250000  30.3753   69.3451    28736.0    636.0     7809.0     0.022132      2301.0\n",
       "Portugal             139          PRT  1.028176e+07    2257243.0    6704840.0        81.124390  112.239453         21990.0                   NaN                   NaN                          3.4                   3.3356            12.226000  39.3999   -8.2245    27406.0   1126.0     2499.0     0.041084       138.0\n",
       "Chile                 51          CHL  1.872916e+07    2159435.0   16400002.0        79.909000   25.189446         14670.0             44.912702             87.722474                          2.2                   1.0800            24.070000 -35.6751  -71.5430    27219.0    304.0    12667.0     0.011168      1247.0\n",
       "Sweden               161          SWE  1.018318e+07    2046362.0    8903252.0        82.307317   25.001043         55490.0                   NaN                   NaN                          2.6                   5.3996             6.235000  63.0000   16.0000    25921.0   3220.0     4971.0     0.124219       656.0\n",
       "Ireland               92          IRL  4.853506e+06     672978.0    3065960.0        81.956098   70.452983         61390.0                   NaN                   NaN                          2.8                   3.0861            10.855000  53.1424   -7.6921    22760.0   1446.0    17110.0     0.063530       219.0"
      ]
     },
     "execution_count": 4,
     "metadata": {},
     "output_type": "execute_result"
    }
   ],
   "source": [
    "top_20 = country_profile.sort_values(by= 'Confirmed',ascending = False).iloc[0:20,:].set_index(keys='Country Name')\n",
    "others = country_profile.sort_values(by= 'Confirmed',ascending = False).iloc[20::,:].set_index(keys='Country Name')\n",
    "top_20"
   ]
  },
  {
   "cell_type": "code",
   "execution_count": 5,
   "metadata": {},
   "outputs": [],
   "source": [
    "df = pd.DataFrame(top_20.loc[:,['Confirmed', 'Deaths', 'Recovered']].T)\n",
    "top_20_countries = np.array(df.columns)\n",
    "top_20_confirmed = df.loc['Confirmed',:]\n",
    "top_20_deaths = df.loc['Deaths',:]\n",
    "top_20_recovered = df.loc['Recovered',:]"
   ]
  },
  {
   "cell_type": "code",
   "execution_count": 6,
   "metadata": {},
   "outputs": [],
   "source": [
    "top_20_countries = np.array(top_20.index)      "
   ]
  },
  {
   "cell_type": "code",
   "execution_count": 7,
   "metadata": {},
   "outputs": [],
   "source": [
    "df = pd.DataFrame(top_20.loc[:,['Confirmed', 'Deaths', 'Recovered']].T)\n",
    "top_20_countries = np.array(df.columns)\n",
    "top_20_confirmed = df.loc['Confirmed',:]\n",
    "top_20_deaths = df.loc['Deaths',:]\n",
    "top_20_recovered = df.loc['Recovered',:]"
   ]
  },
  {
   "cell_type": "code",
   "execution_count": 9,
   "metadata": {},
   "outputs": [],
   "source": [
    "confirmed_time_series = pd.read_csv('.\\resource\\confirmed_time_series.csv').drop(['Unnamed: 0'], axis=1)\n",
    "confirmed_time_series = confirmed_time_series.drop([ 'Lat', 'Long'], axis = 1)\n",
    "confirmed_time_series = confirmed_time_series.groupby('Country/Region').sum().T"
   ]
  },
  {
   "cell_type": "code",
   "execution_count": 10,
   "metadata": {},
   "outputs": [],
   "source": [
    "deaths_time_series = pd.read_csv('.\\resource\\deaths_time_series.csv').drop(['Unnamed: 0'], axis=1)\n",
    "deaths_time_series = deaths_time_series.drop([ 'Lat', 'Long'], axis = 1)\n",
    "deaths_time_series = deaths_time_series.groupby('Country/Region').sum().T"
   ]
  },
  {
   "cell_type": "code",
   "execution_count": 11,
   "metadata": {},
   "outputs": [],
   "source": [
    "recovered_time_series = pd.read_csv('.\\resource\\recovered_time_series.csv').drop(['Unnamed: 0'], axis=1)\n",
    "recovered_time_series = recovered_time_series.drop([ 'Lat', 'Long'], axis = 1)\n",
    "recovered_time_series = recovered_time_series.groupby('Country/Region').sum().T"
   ]
  },
  {
   "cell_type": "code",
   "execution_count": 12,
   "metadata": {},
   "outputs": [],
   "source": [
    "countries = np.array(confirmed_time_series.columns)\n",
    "countries = pd.Series(countries).replace({'United States' :'US', \n",
    "                              'Iran, Islamic Rep.': 'Iran', \n",
    "                              'Russian Federation':'Russia', \n",
    "                              'Korea, Rep.' : 'Korea, South'})"
   ]
  },
  {
   "cell_type": "code",
   "execution_count": 13,
   "metadata": {},
   "outputs": [],
   "source": [
    "top_20_time_series = confirmed_time_series.loc[:,top_20_countries]\n",
    "top_20_time_series_deaths = deaths_time_series.loc[:,top_20_countries]\n",
    "top_20_time_series_recovered = recovered_time_series.loc[:,top_20_countries]"
   ]
  },
  {
   "cell_type": "code",
   "execution_count": 14,
   "metadata": {},
   "outputs": [],
   "source": [
    "df1 = top_20_time_series\n",
    "df2 = top_20_time_series_deaths\n",
    "df3 = top_20_time_series_recovered"
   ]
  },
  {
   "cell_type": "code",
   "execution_count": 15,
   "metadata": {},
   "outputs": [
    {
     "data": {
      "application/vnd.plotly.v1+json": {
       "config": {
        "linkText": "Export to plot.ly",
        "plotlyServerURL": "https://plot.ly",
        "showLink": false
       },
       "data": [
        {
         "alignmentgroup": "True",
         "hovertemplate": "type=confirmed<br>date=1/22/20<br>country=%{x}<br>count=%{y}<extra></extra>",
         "legendgroup": "confirmed",
         "marker": {
          "color": "#636efa"
         },
         "name": "confirmed",
         "offsetgroup": "confirmed",
         "orientation": "v",
         "showlegend": true,
         "textposition": "auto",
         "type": "bar",
         "x": [
          "US",
          "Spain",
          "Italy",
          "Russia",
          "Germany",
          "Brazil",
          "Turkey",
          "Iran",
          "Peru",
          "India",
          "Belgium",
          "Saudi Arabia",
          "Mexico",
          "Switzerland",
          "Ecuador",
          "Pakistan",
          "Portugal",
          "Chile",
          "Sweden",
          "Ireland"
         ],
         "xaxis": "x",
         "y": [
          1,
          0,
          0,
          0,
          0,
          0,
          0,
          0,
          0,
          0,
          0,
          0,
          0,
          0,
          0,
          0,
          0,
          0,
          0,
          0
         ],
         "yaxis": "y"
        },
        {
         "alignmentgroup": "True",
         "hovertemplate": "type=death<br>date=1/22/20<br>country=%{x}<br>count=%{y}<extra></extra>",
         "legendgroup": "death",
         "marker": {
          "color": "#EF553B"
         },
         "name": "death",
         "offsetgroup": "death",
         "orientation": "v",
         "showlegend": true,
         "textposition": "auto",
         "type": "bar",
         "x": [
          "US",
          "Spain",
          "Italy",
          "Russia",
          "Germany",
          "Brazil",
          "Turkey",
          "Iran",
          "Peru",
          "India",
          "Belgium",
          "Saudi Arabia",
          "Mexico",
          "Switzerland",
          "Ecuador",
          "Pakistan",
          "Portugal",
          "Chile",
          "Sweden",
          "Ireland"
         ],
         "xaxis": "x",
         "y": [
          0,
          0,
          0,
          0,
          0,
          0,
          0,
          0,
          0,
          0,
          0,
          0,
          0,
          0,
          0,
          0,
          0,
          0,
          0,
          0
         ],
         "yaxis": "y"
        },
        {
         "alignmentgroup": "True",
         "hovertemplate": "type=recovered<br>date=1/22/20<br>country=%{x}<br>count=%{y}<extra></extra>",
         "legendgroup": "recovered",
         "marker": {
          "color": "#00cc96"
         },
         "name": "recovered",
         "offsetgroup": "recovered",
         "orientation": "v",
         "showlegend": true,
         "textposition": "auto",
         "type": "bar",
         "x": [
          "US",
          "Spain",
          "Italy",
          "Russia",
          "Germany",
          "Brazil",
          "Turkey",
          "Iran",
          "Peru",
          "India",
          "Belgium",
          "Saudi Arabia",
          "Mexico",
          "Switzerland",
          "Ecuador",
          "Pakistan",
          "Portugal",
          "Chile",
          "Sweden",
          "Ireland"
         ],
         "xaxis": "x",
         "y": [
          0,
          0,
          0,
          0,
          0,
          0,
          0,
          0,
          0,
          0,
          0,
          0,
          0,
          0,
          0,
          0,
          0,
          0,
          0,
          0
         ],
         "yaxis": "y"
        }
       ],
       "frames": [
        {
         "data": [
          {
           "alignmentgroup": "True",
           "hovertemplate": "type=confirmed<br>date=1/22/20<br>country=%{x}<br>count=%{y}<extra></extra>",
           "legendgroup": "confirmed",
           "marker": {
            "color": "#636efa"
           },
           "name": "confirmed",
           "offsetgroup": "confirmed",
           "orientation": "v",
           "showlegend": true,
           "textposition": "auto",
           "type": "bar",
           "x": [
            "US",
            "Spain",
            "Italy",
            "Russia",
            "Germany",
            "Brazil",
            "Turkey",
            "Iran",
            "Peru",
            "India",
            "Belgium",
            "Saudi Arabia",
            "Mexico",
            "Switzerland",
            "Ecuador",
            "Pakistan",
            "Portugal",
            "Chile",
            "Sweden",
            "Ireland"
           ],
           "xaxis": "x",
           "y": [
            1,
            0,
            0,
            0,
            0,
            0,
            0,
            0,
            0,
            0,
            0,
            0,
            0,
            0,
            0,
            0,
            0,
            0,
            0,
            0
           ],
           "yaxis": "y"
          },
          {
           "alignmentgroup": "True",
           "hovertemplate": "type=death<br>date=1/22/20<br>country=%{x}<br>count=%{y}<extra></extra>",
           "legendgroup": "death",
           "marker": {
            "color": "#EF553B"
           },
           "name": "death",
           "offsetgroup": "death",
           "orientation": "v",
           "showlegend": true,
           "textposition": "auto",
           "type": "bar",
           "x": [
            "US",
            "Spain",
            "Italy",
            "Russia",
            "Germany",
            "Brazil",
            "Turkey",
            "Iran",
            "Peru",
            "India",
            "Belgium",
            "Saudi Arabia",
            "Mexico",
            "Switzerland",
            "Ecuador",
            "Pakistan",
            "Portugal",
            "Chile",
            "Sweden",
            "Ireland"
           ],
           "xaxis": "x",
           "y": [
            0,
            0,
            0,
            0,
            0,
            0,
            0,
            0,
            0,
            0,
            0,
            0,
            0,
            0,
            0,
            0,
            0,
            0,
            0,
            0
           ],
           "yaxis": "y"
          },
          {
           "alignmentgroup": "True",
           "hovertemplate": "type=recovered<br>date=1/22/20<br>country=%{x}<br>count=%{y}<extra></extra>",
           "legendgroup": "recovered",
           "marker": {
            "color": "#00cc96"
           },
           "name": "recovered",
           "offsetgroup": "recovered",
           "orientation": "v",
           "showlegend": true,
           "textposition": "auto",
           "type": "bar",
           "x": [
            "US",
            "Spain",
            "Italy",
            "Russia",
            "Germany",
            "Brazil",
            "Turkey",
            "Iran",
            "Peru",
            "India",
            "Belgium",
            "Saudi Arabia",
            "Mexico",
            "Switzerland",
            "Ecuador",
            "Pakistan",
            "Portugal",
            "Chile",
            "Sweden",
            "Ireland"
           ],
           "xaxis": "x",
           "y": [
            0,
            0,
            0,
            0,
            0,
            0,
            0,
            0,
            0,
            0,
            0,
            0,
            0,
            0,
            0,
            0,
            0,
            0,
            0,
            0
           ],
           "yaxis": "y"
          }
         ],
         "name": "1/22/20"
        },
        {
         "data": [
          {
           "alignmentgroup": "True",
           "hovertemplate": "type=confirmed<br>date=1/23/20<br>country=%{x}<br>count=%{y}<extra></extra>",
           "legendgroup": "confirmed",
           "marker": {
            "color": "#636efa"
           },
           "name": "confirmed",
           "offsetgroup": "confirmed",
           "orientation": "v",
           "showlegend": true,
           "textposition": "auto",
           "type": "bar",
           "x": [
            "US",
            "Spain",
            "Italy",
            "Russia",
            "Germany",
            "Brazil",
            "Turkey",
            "Iran",
            "Peru",
            "India",
            "Belgium",
            "Saudi Arabia",
            "Mexico",
            "Switzerland",
            "Ecuador",
            "Pakistan",
            "Portugal",
            "Chile",
            "Sweden",
            "Ireland"
           ],
           "xaxis": "x",
           "y": [
            1,
            0,
            0,
            0,
            0,
            0,
            0,
            0,
            0,
            0,
            0,
            0,
            0,
            0,
            0,
            0,
            0,
            0,
            0,
            0
           ],
           "yaxis": "y"
          },
          {
           "alignmentgroup": "True",
           "hovertemplate": "type=death<br>date=1/23/20<br>country=%{x}<br>count=%{y}<extra></extra>",
           "legendgroup": "death",
           "marker": {
            "color": "#EF553B"
           },
           "name": "death",
           "offsetgroup": "death",
           "orientation": "v",
           "showlegend": true,
           "textposition": "auto",
           "type": "bar",
           "x": [
            "US",
            "Spain",
            "Italy",
            "Russia",
            "Germany",
            "Brazil",
            "Turkey",
            "Iran",
            "Peru",
            "India",
            "Belgium",
            "Saudi Arabia",
            "Mexico",
            "Switzerland",
            "Ecuador",
            "Pakistan",
            "Portugal",
            "Chile",
            "Sweden",
            "Ireland"
           ],
           "xaxis": "x",
           "y": [
            0,
            0,
            0,
            0,
            0,
            0,
            0,
            0,
            0,
            0,
            0,
            0,
            0,
            0,
            0,
            0,
            0,
            0,
            0,
            0
           ],
           "yaxis": "y"
          },
          {
           "alignmentgroup": "True",
           "hovertemplate": "type=recovered<br>date=1/23/20<br>country=%{x}<br>count=%{y}<extra></extra>",
           "legendgroup": "recovered",
           "marker": {
            "color": "#00cc96"
           },
           "name": "recovered",
           "offsetgroup": "recovered",
           "orientation": "v",
           "showlegend": true,
           "textposition": "auto",
           "type": "bar",
           "x": [
            "US",
            "Spain",
            "Italy",
            "Russia",
            "Germany",
            "Brazil",
            "Turkey",
            "Iran",
            "Peru",
            "India",
            "Belgium",
            "Saudi Arabia",
            "Mexico",
            "Switzerland",
            "Ecuador",
            "Pakistan",
            "Portugal",
            "Chile",
            "Sweden",
            "Ireland"
           ],
           "xaxis": "x",
           "y": [
            0,
            0,
            0,
            0,
            0,
            0,
            0,
            0,
            0,
            0,
            0,
            0,
            0,
            0,
            0,
            0,
            0,
            0,
            0,
            0
           ],
           "yaxis": "y"
          }
         ],
         "name": "1/23/20"
        },
        {
         "data": [
          {
           "alignmentgroup": "True",
           "hovertemplate": "type=confirmed<br>date=1/24/20<br>country=%{x}<br>count=%{y}<extra></extra>",
           "legendgroup": "confirmed",
           "marker": {
            "color": "#636efa"
           },
           "name": "confirmed",
           "offsetgroup": "confirmed",
           "orientation": "v",
           "showlegend": true,
           "textposition": "auto",
           "type": "bar",
           "x": [
            "US",
            "Spain",
            "Italy",
            "Russia",
            "Germany",
            "Brazil",
            "Turkey",
            "Iran",
            "Peru",
            "India",
            "Belgium",
            "Saudi Arabia",
            "Mexico",
            "Switzerland",
            "Ecuador",
            "Pakistan",
            "Portugal",
            "Chile",
            "Sweden",
            "Ireland"
           ],
           "xaxis": "x",
           "y": [
            2,
            0,
            0,
            0,
            0,
            0,
            0,
            0,
            0,
            0,
            0,
            0,
            0,
            0,
            0,
            0,
            0,
            0,
            0,
            0
           ],
           "yaxis": "y"
          },
          {
           "alignmentgroup": "True",
           "hovertemplate": "type=death<br>date=1/24/20<br>country=%{x}<br>count=%{y}<extra></extra>",
           "legendgroup": "death",
           "marker": {
            "color": "#EF553B"
           },
           "name": "death",
           "offsetgroup": "death",
           "orientation": "v",
           "showlegend": true,
           "textposition": "auto",
           "type": "bar",
           "x": [
            "US",
            "Spain",
            "Italy",
            "Russia",
            "Germany",
            "Brazil",
            "Turkey",
            "Iran",
            "Peru",
            "India",
            "Belgium",
            "Saudi Arabia",
            "Mexico",
            "Switzerland",
            "Ecuador",
            "Pakistan",
            "Portugal",
            "Chile",
            "Sweden",
            "Ireland"
           ],
           "xaxis": "x",
           "y": [
            0,
            0,
            0,
            0,
            0,
            0,
            0,
            0,
            0,
            0,
            0,
            0,
            0,
            0,
            0,
            0,
            0,
            0,
            0,
            0
           ],
           "yaxis": "y"
          },
          {
           "alignmentgroup": "True",
           "hovertemplate": "type=recovered<br>date=1/24/20<br>country=%{x}<br>count=%{y}<extra></extra>",
           "legendgroup": "recovered",
           "marker": {
            "color": "#00cc96"
           },
           "name": "recovered",
           "offsetgroup": "recovered",
           "orientation": "v",
           "showlegend": true,
           "textposition": "auto",
           "type": "bar",
           "x": [
            "US",
            "Spain",
            "Italy",
            "Russia",
            "Germany",
            "Brazil",
            "Turkey",
            "Iran",
            "Peru",
            "India",
            "Belgium",
            "Saudi Arabia",
            "Mexico",
            "Switzerland",
            "Ecuador",
            "Pakistan",
            "Portugal",
            "Chile",
            "Sweden",
            "Ireland"
           ],
           "xaxis": "x",
           "y": [
            0,
            0,
            0,
            0,
            0,
            0,
            0,
            0,
            0,
            0,
            0,
            0,
            0,
            0,
            0,
            0,
            0,
            0,
            0,
            0
           ],
           "yaxis": "y"
          }
         ],
         "name": "1/24/20"
        },
        {
         "data": [
          {
           "alignmentgroup": "True",
           "hovertemplate": "type=confirmed<br>date=1/25/20<br>country=%{x}<br>count=%{y}<extra></extra>",
           "legendgroup": "confirmed",
           "marker": {
            "color": "#636efa"
           },
           "name": "confirmed",
           "offsetgroup": "confirmed",
           "orientation": "v",
           "showlegend": true,
           "textposition": "auto",
           "type": "bar",
           "x": [
            "US",
            "Spain",
            "Italy",
            "Russia",
            "Germany",
            "Brazil",
            "Turkey",
            "Iran",
            "Peru",
            "India",
            "Belgium",
            "Saudi Arabia",
            "Mexico",
            "Switzerland",
            "Ecuador",
            "Pakistan",
            "Portugal",
            "Chile",
            "Sweden",
            "Ireland"
           ],
           "xaxis": "x",
           "y": [
            2,
            0,
            0,
            0,
            0,
            0,
            0,
            0,
            0,
            0,
            0,
            0,
            0,
            0,
            0,
            0,
            0,
            0,
            0,
            0
           ],
           "yaxis": "y"
          },
          {
           "alignmentgroup": "True",
           "hovertemplate": "type=death<br>date=1/25/20<br>country=%{x}<br>count=%{y}<extra></extra>",
           "legendgroup": "death",
           "marker": {
            "color": "#EF553B"
           },
           "name": "death",
           "offsetgroup": "death",
           "orientation": "v",
           "showlegend": true,
           "textposition": "auto",
           "type": "bar",
           "x": [
            "US",
            "Spain",
            "Italy",
            "Russia",
            "Germany",
            "Brazil",
            "Turkey",
            "Iran",
            "Peru",
            "India",
            "Belgium",
            "Saudi Arabia",
            "Mexico",
            "Switzerland",
            "Ecuador",
            "Pakistan",
            "Portugal",
            "Chile",
            "Sweden",
            "Ireland"
           ],
           "xaxis": "x",
           "y": [
            0,
            0,
            0,
            0,
            0,
            0,
            0,
            0,
            0,
            0,
            0,
            0,
            0,
            0,
            0,
            0,
            0,
            0,
            0,
            0
           ],
           "yaxis": "y"
          },
          {
           "alignmentgroup": "True",
           "hovertemplate": "type=recovered<br>date=1/25/20<br>country=%{x}<br>count=%{y}<extra></extra>",
           "legendgroup": "recovered",
           "marker": {
            "color": "#00cc96"
           },
           "name": "recovered",
           "offsetgroup": "recovered",
           "orientation": "v",
           "showlegend": true,
           "textposition": "auto",
           "type": "bar",
           "x": [
            "US",
            "Spain",
            "Italy",
            "Russia",
            "Germany",
            "Brazil",
            "Turkey",
            "Iran",
            "Peru",
            "India",
            "Belgium",
            "Saudi Arabia",
            "Mexico",
            "Switzerland",
            "Ecuador",
            "Pakistan",
            "Portugal",
            "Chile",
            "Sweden",
            "Ireland"
           ],
           "xaxis": "x",
           "y": [
            0,
            0,
            0,
            0,
            0,
            0,
            0,
            0,
            0,
            0,
            0,
            0,
            0,
            0,
            0,
            0,
            0,
            0,
            0,
            0
           ],
           "yaxis": "y"
          }
         ],
         "name": "1/25/20"
        },
        {
         "data": [
          {
           "alignmentgroup": "True",
           "hovertemplate": "type=confirmed<br>date=1/26/20<br>country=%{x}<br>count=%{y}<extra></extra>",
           "legendgroup": "confirmed",
           "marker": {
            "color": "#636efa"
           },
           "name": "confirmed",
           "offsetgroup": "confirmed",
           "orientation": "v",
           "showlegend": true,
           "textposition": "auto",
           "type": "bar",
           "x": [
            "US",
            "Spain",
            "Italy",
            "Russia",
            "Germany",
            "Brazil",
            "Turkey",
            "Iran",
            "Peru",
            "India",
            "Belgium",
            "Saudi Arabia",
            "Mexico",
            "Switzerland",
            "Ecuador",
            "Pakistan",
            "Portugal",
            "Chile",
            "Sweden",
            "Ireland"
           ],
           "xaxis": "x",
           "y": [
            5,
            0,
            0,
            0,
            0,
            0,
            0,
            0,
            0,
            0,
            0,
            0,
            0,
            0,
            0,
            0,
            0,
            0,
            0,
            0
           ],
           "yaxis": "y"
          },
          {
           "alignmentgroup": "True",
           "hovertemplate": "type=death<br>date=1/26/20<br>country=%{x}<br>count=%{y}<extra></extra>",
           "legendgroup": "death",
           "marker": {
            "color": "#EF553B"
           },
           "name": "death",
           "offsetgroup": "death",
           "orientation": "v",
           "showlegend": true,
           "textposition": "auto",
           "type": "bar",
           "x": [
            "US",
            "Spain",
            "Italy",
            "Russia",
            "Germany",
            "Brazil",
            "Turkey",
            "Iran",
            "Peru",
            "India",
            "Belgium",
            "Saudi Arabia",
            "Mexico",
            "Switzerland",
            "Ecuador",
            "Pakistan",
            "Portugal",
            "Chile",
            "Sweden",
            "Ireland"
           ],
           "xaxis": "x",
           "y": [
            0,
            0,
            0,
            0,
            0,
            0,
            0,
            0,
            0,
            0,
            0,
            0,
            0,
            0,
            0,
            0,
            0,
            0,
            0,
            0
           ],
           "yaxis": "y"
          },
          {
           "alignmentgroup": "True",
           "hovertemplate": "type=recovered<br>date=1/26/20<br>country=%{x}<br>count=%{y}<extra></extra>",
           "legendgroup": "recovered",
           "marker": {
            "color": "#00cc96"
           },
           "name": "recovered",
           "offsetgroup": "recovered",
           "orientation": "v",
           "showlegend": true,
           "textposition": "auto",
           "type": "bar",
           "x": [
            "US",
            "Spain",
            "Italy",
            "Russia",
            "Germany",
            "Brazil",
            "Turkey",
            "Iran",
            "Peru",
            "India",
            "Belgium",
            "Saudi Arabia",
            "Mexico",
            "Switzerland",
            "Ecuador",
            "Pakistan",
            "Portugal",
            "Chile",
            "Sweden",
            "Ireland"
           ],
           "xaxis": "x",
           "y": [
            0,
            0,
            0,
            0,
            0,
            0,
            0,
            0,
            0,
            0,
            0,
            0,
            0,
            0,
            0,
            0,
            0,
            0,
            0,
            0
           ],
           "yaxis": "y"
          }
         ],
         "name": "1/26/20"
        },
        {
         "data": [
          {
           "alignmentgroup": "True",
           "hovertemplate": "type=confirmed<br>date=1/27/20<br>country=%{x}<br>count=%{y}<extra></extra>",
           "legendgroup": "confirmed",
           "marker": {
            "color": "#636efa"
           },
           "name": "confirmed",
           "offsetgroup": "confirmed",
           "orientation": "v",
           "showlegend": true,
           "textposition": "auto",
           "type": "bar",
           "x": [
            "US",
            "Spain",
            "Italy",
            "Russia",
            "Germany",
            "Brazil",
            "Turkey",
            "Iran",
            "Peru",
            "India",
            "Belgium",
            "Saudi Arabia",
            "Mexico",
            "Switzerland",
            "Ecuador",
            "Pakistan",
            "Portugal",
            "Chile",
            "Sweden",
            "Ireland"
           ],
           "xaxis": "x",
           "y": [
            5,
            0,
            0,
            0,
            1,
            0,
            0,
            0,
            0,
            0,
            0,
            0,
            0,
            0,
            0,
            0,
            0,
            0,
            0,
            0
           ],
           "yaxis": "y"
          },
          {
           "alignmentgroup": "True",
           "hovertemplate": "type=death<br>date=1/27/20<br>country=%{x}<br>count=%{y}<extra></extra>",
           "legendgroup": "death",
           "marker": {
            "color": "#EF553B"
           },
           "name": "death",
           "offsetgroup": "death",
           "orientation": "v",
           "showlegend": true,
           "textposition": "auto",
           "type": "bar",
           "x": [
            "US",
            "Spain",
            "Italy",
            "Russia",
            "Germany",
            "Brazil",
            "Turkey",
            "Iran",
            "Peru",
            "India",
            "Belgium",
            "Saudi Arabia",
            "Mexico",
            "Switzerland",
            "Ecuador",
            "Pakistan",
            "Portugal",
            "Chile",
            "Sweden",
            "Ireland"
           ],
           "xaxis": "x",
           "y": [
            0,
            0,
            0,
            0,
            0,
            0,
            0,
            0,
            0,
            0,
            0,
            0,
            0,
            0,
            0,
            0,
            0,
            0,
            0,
            0
           ],
           "yaxis": "y"
          },
          {
           "alignmentgroup": "True",
           "hovertemplate": "type=recovered<br>date=1/27/20<br>country=%{x}<br>count=%{y}<extra></extra>",
           "legendgroup": "recovered",
           "marker": {
            "color": "#00cc96"
           },
           "name": "recovered",
           "offsetgroup": "recovered",
           "orientation": "v",
           "showlegend": true,
           "textposition": "auto",
           "type": "bar",
           "x": [
            "US",
            "Spain",
            "Italy",
            "Russia",
            "Germany",
            "Brazil",
            "Turkey",
            "Iran",
            "Peru",
            "India",
            "Belgium",
            "Saudi Arabia",
            "Mexico",
            "Switzerland",
            "Ecuador",
            "Pakistan",
            "Portugal",
            "Chile",
            "Sweden",
            "Ireland"
           ],
           "xaxis": "x",
           "y": [
            0,
            0,
            0,
            0,
            0,
            0,
            0,
            0,
            0,
            0,
            0,
            0,
            0,
            0,
            0,
            0,
            0,
            0,
            0,
            0
           ],
           "yaxis": "y"
          }
         ],
         "name": "1/27/20"
        },
        {
         "data": [
          {
           "alignmentgroup": "True",
           "hovertemplate": "type=confirmed<br>date=1/28/20<br>country=%{x}<br>count=%{y}<extra></extra>",
           "legendgroup": "confirmed",
           "marker": {
            "color": "#636efa"
           },
           "name": "confirmed",
           "offsetgroup": "confirmed",
           "orientation": "v",
           "showlegend": true,
           "textposition": "auto",
           "type": "bar",
           "x": [
            "US",
            "Spain",
            "Italy",
            "Russia",
            "Germany",
            "Brazil",
            "Turkey",
            "Iran",
            "Peru",
            "India",
            "Belgium",
            "Saudi Arabia",
            "Mexico",
            "Switzerland",
            "Ecuador",
            "Pakistan",
            "Portugal",
            "Chile",
            "Sweden",
            "Ireland"
           ],
           "xaxis": "x",
           "y": [
            5,
            0,
            0,
            0,
            4,
            0,
            0,
            0,
            0,
            0,
            0,
            0,
            0,
            0,
            0,
            0,
            0,
            0,
            0,
            0
           ],
           "yaxis": "y"
          },
          {
           "alignmentgroup": "True",
           "hovertemplate": "type=death<br>date=1/28/20<br>country=%{x}<br>count=%{y}<extra></extra>",
           "legendgroup": "death",
           "marker": {
            "color": "#EF553B"
           },
           "name": "death",
           "offsetgroup": "death",
           "orientation": "v",
           "showlegend": true,
           "textposition": "auto",
           "type": "bar",
           "x": [
            "US",
            "Spain",
            "Italy",
            "Russia",
            "Germany",
            "Brazil",
            "Turkey",
            "Iran",
            "Peru",
            "India",
            "Belgium",
            "Saudi Arabia",
            "Mexico",
            "Switzerland",
            "Ecuador",
            "Pakistan",
            "Portugal",
            "Chile",
            "Sweden",
            "Ireland"
           ],
           "xaxis": "x",
           "y": [
            0,
            0,
            0,
            0,
            0,
            0,
            0,
            0,
            0,
            0,
            0,
            0,
            0,
            0,
            0,
            0,
            0,
            0,
            0,
            0
           ],
           "yaxis": "y"
          },
          {
           "alignmentgroup": "True",
           "hovertemplate": "type=recovered<br>date=1/28/20<br>country=%{x}<br>count=%{y}<extra></extra>",
           "legendgroup": "recovered",
           "marker": {
            "color": "#00cc96"
           },
           "name": "recovered",
           "offsetgroup": "recovered",
           "orientation": "v",
           "showlegend": true,
           "textposition": "auto",
           "type": "bar",
           "x": [
            "US",
            "Spain",
            "Italy",
            "Russia",
            "Germany",
            "Brazil",
            "Turkey",
            "Iran",
            "Peru",
            "India",
            "Belgium",
            "Saudi Arabia",
            "Mexico",
            "Switzerland",
            "Ecuador",
            "Pakistan",
            "Portugal",
            "Chile",
            "Sweden",
            "Ireland"
           ],
           "xaxis": "x",
           "y": [
            0,
            0,
            0,
            0,
            0,
            0,
            0,
            0,
            0,
            0,
            0,
            0,
            0,
            0,
            0,
            0,
            0,
            0,
            0,
            0
           ],
           "yaxis": "y"
          }
         ],
         "name": "1/28/20"
        },
        {
         "data": [
          {
           "alignmentgroup": "True",
           "hovertemplate": "type=confirmed<br>date=1/29/20<br>country=%{x}<br>count=%{y}<extra></extra>",
           "legendgroup": "confirmed",
           "marker": {
            "color": "#636efa"
           },
           "name": "confirmed",
           "offsetgroup": "confirmed",
           "orientation": "v",
           "showlegend": true,
           "textposition": "auto",
           "type": "bar",
           "x": [
            "US",
            "Spain",
            "Italy",
            "Russia",
            "Germany",
            "Brazil",
            "Turkey",
            "Iran",
            "Peru",
            "India",
            "Belgium",
            "Saudi Arabia",
            "Mexico",
            "Switzerland",
            "Ecuador",
            "Pakistan",
            "Portugal",
            "Chile",
            "Sweden",
            "Ireland"
           ],
           "xaxis": "x",
           "y": [
            5,
            0,
            0,
            0,
            4,
            0,
            0,
            0,
            0,
            0,
            0,
            0,
            0,
            0,
            0,
            0,
            0,
            0,
            0,
            0
           ],
           "yaxis": "y"
          },
          {
           "alignmentgroup": "True",
           "hovertemplate": "type=death<br>date=1/29/20<br>country=%{x}<br>count=%{y}<extra></extra>",
           "legendgroup": "death",
           "marker": {
            "color": "#EF553B"
           },
           "name": "death",
           "offsetgroup": "death",
           "orientation": "v",
           "showlegend": true,
           "textposition": "auto",
           "type": "bar",
           "x": [
            "US",
            "Spain",
            "Italy",
            "Russia",
            "Germany",
            "Brazil",
            "Turkey",
            "Iran",
            "Peru",
            "India",
            "Belgium",
            "Saudi Arabia",
            "Mexico",
            "Switzerland",
            "Ecuador",
            "Pakistan",
            "Portugal",
            "Chile",
            "Sweden",
            "Ireland"
           ],
           "xaxis": "x",
           "y": [
            0,
            0,
            0,
            0,
            0,
            0,
            0,
            0,
            0,
            0,
            0,
            0,
            0,
            0,
            0,
            0,
            0,
            0,
            0,
            0
           ],
           "yaxis": "y"
          },
          {
           "alignmentgroup": "True",
           "hovertemplate": "type=recovered<br>date=1/29/20<br>country=%{x}<br>count=%{y}<extra></extra>",
           "legendgroup": "recovered",
           "marker": {
            "color": "#00cc96"
           },
           "name": "recovered",
           "offsetgroup": "recovered",
           "orientation": "v",
           "showlegend": true,
           "textposition": "auto",
           "type": "bar",
           "x": [
            "US",
            "Spain",
            "Italy",
            "Russia",
            "Germany",
            "Brazil",
            "Turkey",
            "Iran",
            "Peru",
            "India",
            "Belgium",
            "Saudi Arabia",
            "Mexico",
            "Switzerland",
            "Ecuador",
            "Pakistan",
            "Portugal",
            "Chile",
            "Sweden",
            "Ireland"
           ],
           "xaxis": "x",
           "y": [
            0,
            0,
            0,
            0,
            0,
            0,
            0,
            0,
            0,
            0,
            0,
            0,
            0,
            0,
            0,
            0,
            0,
            0,
            0,
            0
           ],
           "yaxis": "y"
          }
         ],
         "name": "1/29/20"
        },
        {
         "data": [
          {
           "alignmentgroup": "True",
           "hovertemplate": "type=confirmed<br>date=1/30/20<br>country=%{x}<br>count=%{y}<extra></extra>",
           "legendgroup": "confirmed",
           "marker": {
            "color": "#636efa"
           },
           "name": "confirmed",
           "offsetgroup": "confirmed",
           "orientation": "v",
           "showlegend": true,
           "textposition": "auto",
           "type": "bar",
           "x": [
            "US",
            "Spain",
            "Italy",
            "Russia",
            "Germany",
            "Brazil",
            "Turkey",
            "Iran",
            "Peru",
            "India",
            "Belgium",
            "Saudi Arabia",
            "Mexico",
            "Switzerland",
            "Ecuador",
            "Pakistan",
            "Portugal",
            "Chile",
            "Sweden",
            "Ireland"
           ],
           "xaxis": "x",
           "y": [
            5,
            0,
            0,
            0,
            4,
            0,
            0,
            0,
            0,
            1,
            0,
            0,
            0,
            0,
            0,
            0,
            0,
            0,
            0,
            0
           ],
           "yaxis": "y"
          },
          {
           "alignmentgroup": "True",
           "hovertemplate": "type=death<br>date=1/30/20<br>country=%{x}<br>count=%{y}<extra></extra>",
           "legendgroup": "death",
           "marker": {
            "color": "#EF553B"
           },
           "name": "death",
           "offsetgroup": "death",
           "orientation": "v",
           "showlegend": true,
           "textposition": "auto",
           "type": "bar",
           "x": [
            "US",
            "Spain",
            "Italy",
            "Russia",
            "Germany",
            "Brazil",
            "Turkey",
            "Iran",
            "Peru",
            "India",
            "Belgium",
            "Saudi Arabia",
            "Mexico",
            "Switzerland",
            "Ecuador",
            "Pakistan",
            "Portugal",
            "Chile",
            "Sweden",
            "Ireland"
           ],
           "xaxis": "x",
           "y": [
            0,
            0,
            0,
            0,
            0,
            0,
            0,
            0,
            0,
            0,
            0,
            0,
            0,
            0,
            0,
            0,
            0,
            0,
            0,
            0
           ],
           "yaxis": "y"
          },
          {
           "alignmentgroup": "True",
           "hovertemplate": "type=recovered<br>date=1/30/20<br>country=%{x}<br>count=%{y}<extra></extra>",
           "legendgroup": "recovered",
           "marker": {
            "color": "#00cc96"
           },
           "name": "recovered",
           "offsetgroup": "recovered",
           "orientation": "v",
           "showlegend": true,
           "textposition": "auto",
           "type": "bar",
           "x": [
            "US",
            "Spain",
            "Italy",
            "Russia",
            "Germany",
            "Brazil",
            "Turkey",
            "Iran",
            "Peru",
            "India",
            "Belgium",
            "Saudi Arabia",
            "Mexico",
            "Switzerland",
            "Ecuador",
            "Pakistan",
            "Portugal",
            "Chile",
            "Sweden",
            "Ireland"
           ],
           "xaxis": "x",
           "y": [
            0,
            0,
            0,
            0,
            0,
            0,
            0,
            0,
            0,
            0,
            0,
            0,
            0,
            0,
            0,
            0,
            0,
            0,
            0,
            0
           ],
           "yaxis": "y"
          }
         ],
         "name": "1/30/20"
        },
        {
         "data": [
          {
           "alignmentgroup": "True",
           "hovertemplate": "type=confirmed<br>date=1/31/20<br>country=%{x}<br>count=%{y}<extra></extra>",
           "legendgroup": "confirmed",
           "marker": {
            "color": "#636efa"
           },
           "name": "confirmed",
           "offsetgroup": "confirmed",
           "orientation": "v",
           "showlegend": true,
           "textposition": "auto",
           "type": "bar",
           "x": [
            "US",
            "Spain",
            "Italy",
            "Russia",
            "Germany",
            "Brazil",
            "Turkey",
            "Iran",
            "Peru",
            "India",
            "Belgium",
            "Saudi Arabia",
            "Mexico",
            "Switzerland",
            "Ecuador",
            "Pakistan",
            "Portugal",
            "Chile",
            "Sweden",
            "Ireland"
           ],
           "xaxis": "x",
           "y": [
            7,
            0,
            2,
            2,
            5,
            0,
            0,
            0,
            0,
            1,
            0,
            0,
            0,
            0,
            0,
            0,
            0,
            0,
            1,
            0
           ],
           "yaxis": "y"
          },
          {
           "alignmentgroup": "True",
           "hovertemplate": "type=death<br>date=1/31/20<br>country=%{x}<br>count=%{y}<extra></extra>",
           "legendgroup": "death",
           "marker": {
            "color": "#EF553B"
           },
           "name": "death",
           "offsetgroup": "death",
           "orientation": "v",
           "showlegend": true,
           "textposition": "auto",
           "type": "bar",
           "x": [
            "US",
            "Spain",
            "Italy",
            "Russia",
            "Germany",
            "Brazil",
            "Turkey",
            "Iran",
            "Peru",
            "India",
            "Belgium",
            "Saudi Arabia",
            "Mexico",
            "Switzerland",
            "Ecuador",
            "Pakistan",
            "Portugal",
            "Chile",
            "Sweden",
            "Ireland"
           ],
           "xaxis": "x",
           "y": [
            0,
            0,
            0,
            0,
            0,
            0,
            0,
            0,
            0,
            0,
            0,
            0,
            0,
            0,
            0,
            0,
            0,
            0,
            0,
            0
           ],
           "yaxis": "y"
          },
          {
           "alignmentgroup": "True",
           "hovertemplate": "type=recovered<br>date=1/31/20<br>country=%{x}<br>count=%{y}<extra></extra>",
           "legendgroup": "recovered",
           "marker": {
            "color": "#00cc96"
           },
           "name": "recovered",
           "offsetgroup": "recovered",
           "orientation": "v",
           "showlegend": true,
           "textposition": "auto",
           "type": "bar",
           "x": [
            "US",
            "Spain",
            "Italy",
            "Russia",
            "Germany",
            "Brazil",
            "Turkey",
            "Iran",
            "Peru",
            "India",
            "Belgium",
            "Saudi Arabia",
            "Mexico",
            "Switzerland",
            "Ecuador",
            "Pakistan",
            "Portugal",
            "Chile",
            "Sweden",
            "Ireland"
           ],
           "xaxis": "x",
           "y": [
            0,
            0,
            0,
            0,
            0,
            0,
            0,
            0,
            0,
            0,
            0,
            0,
            0,
            0,
            0,
            0,
            0,
            0,
            0,
            0
           ],
           "yaxis": "y"
          }
         ],
         "name": "1/31/20"
        },
        {
         "data": [
          {
           "alignmentgroup": "True",
           "hovertemplate": "type=confirmed<br>date=2/1/20<br>country=%{x}<br>count=%{y}<extra></extra>",
           "legendgroup": "confirmed",
           "marker": {
            "color": "#636efa"
           },
           "name": "confirmed",
           "offsetgroup": "confirmed",
           "orientation": "v",
           "showlegend": true,
           "textposition": "auto",
           "type": "bar",
           "x": [
            "US",
            "Spain",
            "Italy",
            "Russia",
            "Germany",
            "Brazil",
            "Turkey",
            "Iran",
            "Peru",
            "India",
            "Belgium",
            "Saudi Arabia",
            "Mexico",
            "Switzerland",
            "Ecuador",
            "Pakistan",
            "Portugal",
            "Chile",
            "Sweden",
            "Ireland"
           ],
           "xaxis": "x",
           "y": [
            8,
            1,
            2,
            2,
            8,
            0,
            0,
            0,
            0,
            1,
            0,
            0,
            0,
            0,
            0,
            0,
            0,
            0,
            1,
            0
           ],
           "yaxis": "y"
          },
          {
           "alignmentgroup": "True",
           "hovertemplate": "type=death<br>date=2/1/20<br>country=%{x}<br>count=%{y}<extra></extra>",
           "legendgroup": "death",
           "marker": {
            "color": "#EF553B"
           },
           "name": "death",
           "offsetgroup": "death",
           "orientation": "v",
           "showlegend": true,
           "textposition": "auto",
           "type": "bar",
           "x": [
            "US",
            "Spain",
            "Italy",
            "Russia",
            "Germany",
            "Brazil",
            "Turkey",
            "Iran",
            "Peru",
            "India",
            "Belgium",
            "Saudi Arabia",
            "Mexico",
            "Switzerland",
            "Ecuador",
            "Pakistan",
            "Portugal",
            "Chile",
            "Sweden",
            "Ireland"
           ],
           "xaxis": "x",
           "y": [
            0,
            0,
            0,
            0,
            0,
            0,
            0,
            0,
            0,
            0,
            0,
            0,
            0,
            0,
            0,
            0,
            0,
            0,
            0,
            0
           ],
           "yaxis": "y"
          },
          {
           "alignmentgroup": "True",
           "hovertemplate": "type=recovered<br>date=2/1/20<br>country=%{x}<br>count=%{y}<extra></extra>",
           "legendgroup": "recovered",
           "marker": {
            "color": "#00cc96"
           },
           "name": "recovered",
           "offsetgroup": "recovered",
           "orientation": "v",
           "showlegend": true,
           "textposition": "auto",
           "type": "bar",
           "x": [
            "US",
            "Spain",
            "Italy",
            "Russia",
            "Germany",
            "Brazil",
            "Turkey",
            "Iran",
            "Peru",
            "India",
            "Belgium",
            "Saudi Arabia",
            "Mexico",
            "Switzerland",
            "Ecuador",
            "Pakistan",
            "Portugal",
            "Chile",
            "Sweden",
            "Ireland"
           ],
           "xaxis": "x",
           "y": [
            0,
            0,
            0,
            0,
            0,
            0,
            0,
            0,
            0,
            0,
            0,
            0,
            0,
            0,
            0,
            0,
            0,
            0,
            0,
            0
           ],
           "yaxis": "y"
          }
         ],
         "name": "2/1/20"
        },
        {
         "data": [
          {
           "alignmentgroup": "True",
           "hovertemplate": "type=confirmed<br>date=2/2/20<br>country=%{x}<br>count=%{y}<extra></extra>",
           "legendgroup": "confirmed",
           "marker": {
            "color": "#636efa"
           },
           "name": "confirmed",
           "offsetgroup": "confirmed",
           "orientation": "v",
           "showlegend": true,
           "textposition": "auto",
           "type": "bar",
           "x": [
            "US",
            "Spain",
            "Italy",
            "Russia",
            "Germany",
            "Brazil",
            "Turkey",
            "Iran",
            "Peru",
            "India",
            "Belgium",
            "Saudi Arabia",
            "Mexico",
            "Switzerland",
            "Ecuador",
            "Pakistan",
            "Portugal",
            "Chile",
            "Sweden",
            "Ireland"
           ],
           "xaxis": "x",
           "y": [
            8,
            1,
            2,
            2,
            10,
            0,
            0,
            0,
            0,
            2,
            0,
            0,
            0,
            0,
            0,
            0,
            0,
            0,
            1,
            0
           ],
           "yaxis": "y"
          },
          {
           "alignmentgroup": "True",
           "hovertemplate": "type=death<br>date=2/2/20<br>country=%{x}<br>count=%{y}<extra></extra>",
           "legendgroup": "death",
           "marker": {
            "color": "#EF553B"
           },
           "name": "death",
           "offsetgroup": "death",
           "orientation": "v",
           "showlegend": true,
           "textposition": "auto",
           "type": "bar",
           "x": [
            "US",
            "Spain",
            "Italy",
            "Russia",
            "Germany",
            "Brazil",
            "Turkey",
            "Iran",
            "Peru",
            "India",
            "Belgium",
            "Saudi Arabia",
            "Mexico",
            "Switzerland",
            "Ecuador",
            "Pakistan",
            "Portugal",
            "Chile",
            "Sweden",
            "Ireland"
           ],
           "xaxis": "x",
           "y": [
            0,
            0,
            0,
            0,
            0,
            0,
            0,
            0,
            0,
            0,
            0,
            0,
            0,
            0,
            0,
            0,
            0,
            0,
            0,
            0
           ],
           "yaxis": "y"
          },
          {
           "alignmentgroup": "True",
           "hovertemplate": "type=recovered<br>date=2/2/20<br>country=%{x}<br>count=%{y}<extra></extra>",
           "legendgroup": "recovered",
           "marker": {
            "color": "#00cc96"
           },
           "name": "recovered",
           "offsetgroup": "recovered",
           "orientation": "v",
           "showlegend": true,
           "textposition": "auto",
           "type": "bar",
           "x": [
            "US",
            "Spain",
            "Italy",
            "Russia",
            "Germany",
            "Brazil",
            "Turkey",
            "Iran",
            "Peru",
            "India",
            "Belgium",
            "Saudi Arabia",
            "Mexico",
            "Switzerland",
            "Ecuador",
            "Pakistan",
            "Portugal",
            "Chile",
            "Sweden",
            "Ireland"
           ],
           "xaxis": "x",
           "y": [
            0,
            0,
            0,
            0,
            0,
            0,
            0,
            0,
            0,
            0,
            0,
            0,
            0,
            0,
            0,
            0,
            0,
            0,
            0,
            0
           ],
           "yaxis": "y"
          }
         ],
         "name": "2/2/20"
        },
        {
         "data": [
          {
           "alignmentgroup": "True",
           "hovertemplate": "type=confirmed<br>date=2/3/20<br>country=%{x}<br>count=%{y}<extra></extra>",
           "legendgroup": "confirmed",
           "marker": {
            "color": "#636efa"
           },
           "name": "confirmed",
           "offsetgroup": "confirmed",
           "orientation": "v",
           "showlegend": true,
           "textposition": "auto",
           "type": "bar",
           "x": [
            "US",
            "Spain",
            "Italy",
            "Russia",
            "Germany",
            "Brazil",
            "Turkey",
            "Iran",
            "Peru",
            "India",
            "Belgium",
            "Saudi Arabia",
            "Mexico",
            "Switzerland",
            "Ecuador",
            "Pakistan",
            "Portugal",
            "Chile",
            "Sweden",
            "Ireland"
           ],
           "xaxis": "x",
           "y": [
            11,
            1,
            2,
            2,
            12,
            0,
            0,
            0,
            0,
            3,
            0,
            0,
            0,
            0,
            0,
            0,
            0,
            0,
            1,
            0
           ],
           "yaxis": "y"
          },
          {
           "alignmentgroup": "True",
           "hovertemplate": "type=death<br>date=2/3/20<br>country=%{x}<br>count=%{y}<extra></extra>",
           "legendgroup": "death",
           "marker": {
            "color": "#EF553B"
           },
           "name": "death",
           "offsetgroup": "death",
           "orientation": "v",
           "showlegend": true,
           "textposition": "auto",
           "type": "bar",
           "x": [
            "US",
            "Spain",
            "Italy",
            "Russia",
            "Germany",
            "Brazil",
            "Turkey",
            "Iran",
            "Peru",
            "India",
            "Belgium",
            "Saudi Arabia",
            "Mexico",
            "Switzerland",
            "Ecuador",
            "Pakistan",
            "Portugal",
            "Chile",
            "Sweden",
            "Ireland"
           ],
           "xaxis": "x",
           "y": [
            0,
            0,
            0,
            0,
            0,
            0,
            0,
            0,
            0,
            0,
            0,
            0,
            0,
            0,
            0,
            0,
            0,
            0,
            0,
            0
           ],
           "yaxis": "y"
          },
          {
           "alignmentgroup": "True",
           "hovertemplate": "type=recovered<br>date=2/3/20<br>country=%{x}<br>count=%{y}<extra></extra>",
           "legendgroup": "recovered",
           "marker": {
            "color": "#00cc96"
           },
           "name": "recovered",
           "offsetgroup": "recovered",
           "orientation": "v",
           "showlegend": true,
           "textposition": "auto",
           "type": "bar",
           "x": [
            "US",
            "Spain",
            "Italy",
            "Russia",
            "Germany",
            "Brazil",
            "Turkey",
            "Iran",
            "Peru",
            "India",
            "Belgium",
            "Saudi Arabia",
            "Mexico",
            "Switzerland",
            "Ecuador",
            "Pakistan",
            "Portugal",
            "Chile",
            "Sweden",
            "Ireland"
           ],
           "xaxis": "x",
           "y": [
            0,
            0,
            0,
            0,
            0,
            0,
            0,
            0,
            0,
            0,
            0,
            0,
            0,
            0,
            0,
            0,
            0,
            0,
            0,
            0
           ],
           "yaxis": "y"
          }
         ],
         "name": "2/3/20"
        },
        {
         "data": [
          {
           "alignmentgroup": "True",
           "hovertemplate": "type=confirmed<br>date=2/4/20<br>country=%{x}<br>count=%{y}<extra></extra>",
           "legendgroup": "confirmed",
           "marker": {
            "color": "#636efa"
           },
           "name": "confirmed",
           "offsetgroup": "confirmed",
           "orientation": "v",
           "showlegend": true,
           "textposition": "auto",
           "type": "bar",
           "x": [
            "US",
            "Spain",
            "Italy",
            "Russia",
            "Germany",
            "Brazil",
            "Turkey",
            "Iran",
            "Peru",
            "India",
            "Belgium",
            "Saudi Arabia",
            "Mexico",
            "Switzerland",
            "Ecuador",
            "Pakistan",
            "Portugal",
            "Chile",
            "Sweden",
            "Ireland"
           ],
           "xaxis": "x",
           "y": [
            11,
            1,
            2,
            2,
            12,
            0,
            0,
            0,
            0,
            3,
            1,
            0,
            0,
            0,
            0,
            0,
            0,
            0,
            1,
            0
           ],
           "yaxis": "y"
          },
          {
           "alignmentgroup": "True",
           "hovertemplate": "type=death<br>date=2/4/20<br>country=%{x}<br>count=%{y}<extra></extra>",
           "legendgroup": "death",
           "marker": {
            "color": "#EF553B"
           },
           "name": "death",
           "offsetgroup": "death",
           "orientation": "v",
           "showlegend": true,
           "textposition": "auto",
           "type": "bar",
           "x": [
            "US",
            "Spain",
            "Italy",
            "Russia",
            "Germany",
            "Brazil",
            "Turkey",
            "Iran",
            "Peru",
            "India",
            "Belgium",
            "Saudi Arabia",
            "Mexico",
            "Switzerland",
            "Ecuador",
            "Pakistan",
            "Portugal",
            "Chile",
            "Sweden",
            "Ireland"
           ],
           "xaxis": "x",
           "y": [
            0,
            0,
            0,
            0,
            0,
            0,
            0,
            0,
            0,
            0,
            0,
            0,
            0,
            0,
            0,
            0,
            0,
            0,
            0,
            0
           ],
           "yaxis": "y"
          },
          {
           "alignmentgroup": "True",
           "hovertemplate": "type=recovered<br>date=2/4/20<br>country=%{x}<br>count=%{y}<extra></extra>",
           "legendgroup": "recovered",
           "marker": {
            "color": "#00cc96"
           },
           "name": "recovered",
           "offsetgroup": "recovered",
           "orientation": "v",
           "showlegend": true,
           "textposition": "auto",
           "type": "bar",
           "x": [
            "US",
            "Spain",
            "Italy",
            "Russia",
            "Germany",
            "Brazil",
            "Turkey",
            "Iran",
            "Peru",
            "India",
            "Belgium",
            "Saudi Arabia",
            "Mexico",
            "Switzerland",
            "Ecuador",
            "Pakistan",
            "Portugal",
            "Chile",
            "Sweden",
            "Ireland"
           ],
           "xaxis": "x",
           "y": [
            0,
            0,
            0,
            0,
            0,
            0,
            0,
            0,
            0,
            0,
            0,
            0,
            0,
            0,
            0,
            0,
            0,
            0,
            0,
            0
           ],
           "yaxis": "y"
          }
         ],
         "name": "2/4/20"
        },
        {
         "data": [
          {
           "alignmentgroup": "True",
           "hovertemplate": "type=confirmed<br>date=2/5/20<br>country=%{x}<br>count=%{y}<extra></extra>",
           "legendgroup": "confirmed",
           "marker": {
            "color": "#636efa"
           },
           "name": "confirmed",
           "offsetgroup": "confirmed",
           "orientation": "v",
           "showlegend": true,
           "textposition": "auto",
           "type": "bar",
           "x": [
            "US",
            "Spain",
            "Italy",
            "Russia",
            "Germany",
            "Brazil",
            "Turkey",
            "Iran",
            "Peru",
            "India",
            "Belgium",
            "Saudi Arabia",
            "Mexico",
            "Switzerland",
            "Ecuador",
            "Pakistan",
            "Portugal",
            "Chile",
            "Sweden",
            "Ireland"
           ],
           "xaxis": "x",
           "y": [
            11,
            1,
            2,
            2,
            12,
            0,
            0,
            0,
            0,
            3,
            1,
            0,
            0,
            0,
            0,
            0,
            0,
            0,
            1,
            0
           ],
           "yaxis": "y"
          },
          {
           "alignmentgroup": "True",
           "hovertemplate": "type=death<br>date=2/5/20<br>country=%{x}<br>count=%{y}<extra></extra>",
           "legendgroup": "death",
           "marker": {
            "color": "#EF553B"
           },
           "name": "death",
           "offsetgroup": "death",
           "orientation": "v",
           "showlegend": true,
           "textposition": "auto",
           "type": "bar",
           "x": [
            "US",
            "Spain",
            "Italy",
            "Russia",
            "Germany",
            "Brazil",
            "Turkey",
            "Iran",
            "Peru",
            "India",
            "Belgium",
            "Saudi Arabia",
            "Mexico",
            "Switzerland",
            "Ecuador",
            "Pakistan",
            "Portugal",
            "Chile",
            "Sweden",
            "Ireland"
           ],
           "xaxis": "x",
           "y": [
            0,
            0,
            0,
            0,
            0,
            0,
            0,
            0,
            0,
            0,
            0,
            0,
            0,
            0,
            0,
            0,
            0,
            0,
            0,
            0
           ],
           "yaxis": "y"
          },
          {
           "alignmentgroup": "True",
           "hovertemplate": "type=recovered<br>date=2/5/20<br>country=%{x}<br>count=%{y}<extra></extra>",
           "legendgroup": "recovered",
           "marker": {
            "color": "#00cc96"
           },
           "name": "recovered",
           "offsetgroup": "recovered",
           "orientation": "v",
           "showlegend": true,
           "textposition": "auto",
           "type": "bar",
           "x": [
            "US",
            "Spain",
            "Italy",
            "Russia",
            "Germany",
            "Brazil",
            "Turkey",
            "Iran",
            "Peru",
            "India",
            "Belgium",
            "Saudi Arabia",
            "Mexico",
            "Switzerland",
            "Ecuador",
            "Pakistan",
            "Portugal",
            "Chile",
            "Sweden",
            "Ireland"
           ],
           "xaxis": "x",
           "y": [
            0,
            0,
            0,
            0,
            0,
            0,
            0,
            0,
            0,
            0,
            0,
            0,
            0,
            0,
            0,
            0,
            0,
            0,
            0,
            0
           ],
           "yaxis": "y"
          }
         ],
         "name": "2/5/20"
        },
        {
         "data": [
          {
           "alignmentgroup": "True",
           "hovertemplate": "type=confirmed<br>date=2/6/20<br>country=%{x}<br>count=%{y}<extra></extra>",
           "legendgroup": "confirmed",
           "marker": {
            "color": "#636efa"
           },
           "name": "confirmed",
           "offsetgroup": "confirmed",
           "orientation": "v",
           "showlegend": true,
           "textposition": "auto",
           "type": "bar",
           "x": [
            "US",
            "Spain",
            "Italy",
            "Russia",
            "Germany",
            "Brazil",
            "Turkey",
            "Iran",
            "Peru",
            "India",
            "Belgium",
            "Saudi Arabia",
            "Mexico",
            "Switzerland",
            "Ecuador",
            "Pakistan",
            "Portugal",
            "Chile",
            "Sweden",
            "Ireland"
           ],
           "xaxis": "x",
           "y": [
            11,
            1,
            2,
            2,
            12,
            0,
            0,
            0,
            0,
            3,
            1,
            0,
            0,
            0,
            0,
            0,
            0,
            0,
            1,
            0
           ],
           "yaxis": "y"
          },
          {
           "alignmentgroup": "True",
           "hovertemplate": "type=death<br>date=2/6/20<br>country=%{x}<br>count=%{y}<extra></extra>",
           "legendgroup": "death",
           "marker": {
            "color": "#EF553B"
           },
           "name": "death",
           "offsetgroup": "death",
           "orientation": "v",
           "showlegend": true,
           "textposition": "auto",
           "type": "bar",
           "x": [
            "US",
            "Spain",
            "Italy",
            "Russia",
            "Germany",
            "Brazil",
            "Turkey",
            "Iran",
            "Peru",
            "India",
            "Belgium",
            "Saudi Arabia",
            "Mexico",
            "Switzerland",
            "Ecuador",
            "Pakistan",
            "Portugal",
            "Chile",
            "Sweden",
            "Ireland"
           ],
           "xaxis": "x",
           "y": [
            0,
            0,
            0,
            0,
            0,
            0,
            0,
            0,
            0,
            0,
            0,
            0,
            0,
            0,
            0,
            0,
            0,
            0,
            0,
            0
           ],
           "yaxis": "y"
          },
          {
           "alignmentgroup": "True",
           "hovertemplate": "type=recovered<br>date=2/6/20<br>country=%{x}<br>count=%{y}<extra></extra>",
           "legendgroup": "recovered",
           "marker": {
            "color": "#00cc96"
           },
           "name": "recovered",
           "offsetgroup": "recovered",
           "orientation": "v",
           "showlegend": true,
           "textposition": "auto",
           "type": "bar",
           "x": [
            "US",
            "Spain",
            "Italy",
            "Russia",
            "Germany",
            "Brazil",
            "Turkey",
            "Iran",
            "Peru",
            "India",
            "Belgium",
            "Saudi Arabia",
            "Mexico",
            "Switzerland",
            "Ecuador",
            "Pakistan",
            "Portugal",
            "Chile",
            "Sweden",
            "Ireland"
           ],
           "xaxis": "x",
           "y": [
            0,
            0,
            0,
            0,
            0,
            0,
            0,
            0,
            0,
            0,
            0,
            0,
            0,
            0,
            0,
            0,
            0,
            0,
            0,
            0
           ],
           "yaxis": "y"
          }
         ],
         "name": "2/6/20"
        },
        {
         "data": [
          {
           "alignmentgroup": "True",
           "hovertemplate": "type=confirmed<br>date=2/7/20<br>country=%{x}<br>count=%{y}<extra></extra>",
           "legendgroup": "confirmed",
           "marker": {
            "color": "#636efa"
           },
           "name": "confirmed",
           "offsetgroup": "confirmed",
           "orientation": "v",
           "showlegend": true,
           "textposition": "auto",
           "type": "bar",
           "x": [
            "US",
            "Spain",
            "Italy",
            "Russia",
            "Germany",
            "Brazil",
            "Turkey",
            "Iran",
            "Peru",
            "India",
            "Belgium",
            "Saudi Arabia",
            "Mexico",
            "Switzerland",
            "Ecuador",
            "Pakistan",
            "Portugal",
            "Chile",
            "Sweden",
            "Ireland"
           ],
           "xaxis": "x",
           "y": [
            11,
            1,
            3,
            2,
            13,
            0,
            0,
            0,
            0,
            3,
            1,
            0,
            0,
            0,
            0,
            0,
            0,
            0,
            1,
            0
           ],
           "yaxis": "y"
          },
          {
           "alignmentgroup": "True",
           "hovertemplate": "type=death<br>date=2/7/20<br>country=%{x}<br>count=%{y}<extra></extra>",
           "legendgroup": "death",
           "marker": {
            "color": "#EF553B"
           },
           "name": "death",
           "offsetgroup": "death",
           "orientation": "v",
           "showlegend": true,
           "textposition": "auto",
           "type": "bar",
           "x": [
            "US",
            "Spain",
            "Italy",
            "Russia",
            "Germany",
            "Brazil",
            "Turkey",
            "Iran",
            "Peru",
            "India",
            "Belgium",
            "Saudi Arabia",
            "Mexico",
            "Switzerland",
            "Ecuador",
            "Pakistan",
            "Portugal",
            "Chile",
            "Sweden",
            "Ireland"
           ],
           "xaxis": "x",
           "y": [
            0,
            0,
            0,
            0,
            0,
            0,
            0,
            0,
            0,
            0,
            0,
            0,
            0,
            0,
            0,
            0,
            0,
            0,
            0,
            0
           ],
           "yaxis": "y"
          },
          {
           "alignmentgroup": "True",
           "hovertemplate": "type=recovered<br>date=2/7/20<br>country=%{x}<br>count=%{y}<extra></extra>",
           "legendgroup": "recovered",
           "marker": {
            "color": "#00cc96"
           },
           "name": "recovered",
           "offsetgroup": "recovered",
           "orientation": "v",
           "showlegend": true,
           "textposition": "auto",
           "type": "bar",
           "x": [
            "US",
            "Spain",
            "Italy",
            "Russia",
            "Germany",
            "Brazil",
            "Turkey",
            "Iran",
            "Peru",
            "India",
            "Belgium",
            "Saudi Arabia",
            "Mexico",
            "Switzerland",
            "Ecuador",
            "Pakistan",
            "Portugal",
            "Chile",
            "Sweden",
            "Ireland"
           ],
           "xaxis": "x",
           "y": [
            0,
            0,
            0,
            0,
            0,
            0,
            0,
            0,
            0,
            0,
            0,
            0,
            0,
            0,
            0,
            0,
            0,
            0,
            0,
            0
           ],
           "yaxis": "y"
          }
         ],
         "name": "2/7/20"
        },
        {
         "data": [
          {
           "alignmentgroup": "True",
           "hovertemplate": "type=confirmed<br>date=2/8/20<br>country=%{x}<br>count=%{y}<extra></extra>",
           "legendgroup": "confirmed",
           "marker": {
            "color": "#636efa"
           },
           "name": "confirmed",
           "offsetgroup": "confirmed",
           "orientation": "v",
           "showlegend": true,
           "textposition": "auto",
           "type": "bar",
           "x": [
            "US",
            "Spain",
            "Italy",
            "Russia",
            "Germany",
            "Brazil",
            "Turkey",
            "Iran",
            "Peru",
            "India",
            "Belgium",
            "Saudi Arabia",
            "Mexico",
            "Switzerland",
            "Ecuador",
            "Pakistan",
            "Portugal",
            "Chile",
            "Sweden",
            "Ireland"
           ],
           "xaxis": "x",
           "y": [
            11,
            1,
            3,
            2,
            13,
            0,
            0,
            0,
            0,
            3,
            1,
            0,
            0,
            0,
            0,
            0,
            0,
            0,
            1,
            0
           ],
           "yaxis": "y"
          },
          {
           "alignmentgroup": "True",
           "hovertemplate": "type=death<br>date=2/8/20<br>country=%{x}<br>count=%{y}<extra></extra>",
           "legendgroup": "death",
           "marker": {
            "color": "#EF553B"
           },
           "name": "death",
           "offsetgroup": "death",
           "orientation": "v",
           "showlegend": true,
           "textposition": "auto",
           "type": "bar",
           "x": [
            "US",
            "Spain",
            "Italy",
            "Russia",
            "Germany",
            "Brazil",
            "Turkey",
            "Iran",
            "Peru",
            "India",
            "Belgium",
            "Saudi Arabia",
            "Mexico",
            "Switzerland",
            "Ecuador",
            "Pakistan",
            "Portugal",
            "Chile",
            "Sweden",
            "Ireland"
           ],
           "xaxis": "x",
           "y": [
            0,
            0,
            0,
            0,
            0,
            0,
            0,
            0,
            0,
            0,
            0,
            0,
            0,
            0,
            0,
            0,
            0,
            0,
            0,
            0
           ],
           "yaxis": "y"
          },
          {
           "alignmentgroup": "True",
           "hovertemplate": "type=recovered<br>date=2/8/20<br>country=%{x}<br>count=%{y}<extra></extra>",
           "legendgroup": "recovered",
           "marker": {
            "color": "#00cc96"
           },
           "name": "recovered",
           "offsetgroup": "recovered",
           "orientation": "v",
           "showlegend": true,
           "textposition": "auto",
           "type": "bar",
           "x": [
            "US",
            "Spain",
            "Italy",
            "Russia",
            "Germany",
            "Brazil",
            "Turkey",
            "Iran",
            "Peru",
            "India",
            "Belgium",
            "Saudi Arabia",
            "Mexico",
            "Switzerland",
            "Ecuador",
            "Pakistan",
            "Portugal",
            "Chile",
            "Sweden",
            "Ireland"
           ],
           "xaxis": "x",
           "y": [
            0,
            0,
            0,
            0,
            0,
            0,
            0,
            0,
            0,
            0,
            0,
            0,
            0,
            0,
            0,
            0,
            0,
            0,
            0,
            0
           ],
           "yaxis": "y"
          }
         ],
         "name": "2/8/20"
        },
        {
         "data": [
          {
           "alignmentgroup": "True",
           "hovertemplate": "type=confirmed<br>date=2/9/20<br>country=%{x}<br>count=%{y}<extra></extra>",
           "legendgroup": "confirmed",
           "marker": {
            "color": "#636efa"
           },
           "name": "confirmed",
           "offsetgroup": "confirmed",
           "orientation": "v",
           "showlegend": true,
           "textposition": "auto",
           "type": "bar",
           "x": [
            "US",
            "Spain",
            "Italy",
            "Russia",
            "Germany",
            "Brazil",
            "Turkey",
            "Iran",
            "Peru",
            "India",
            "Belgium",
            "Saudi Arabia",
            "Mexico",
            "Switzerland",
            "Ecuador",
            "Pakistan",
            "Portugal",
            "Chile",
            "Sweden",
            "Ireland"
           ],
           "xaxis": "x",
           "y": [
            8,
            2,
            3,
            2,
            14,
            0,
            0,
            0,
            0,
            3,
            1,
            0,
            0,
            0,
            0,
            0,
            0,
            0,
            1,
            0
           ],
           "yaxis": "y"
          },
          {
           "alignmentgroup": "True",
           "hovertemplate": "type=death<br>date=2/9/20<br>country=%{x}<br>count=%{y}<extra></extra>",
           "legendgroup": "death",
           "marker": {
            "color": "#EF553B"
           },
           "name": "death",
           "offsetgroup": "death",
           "orientation": "v",
           "showlegend": true,
           "textposition": "auto",
           "type": "bar",
           "x": [
            "US",
            "Spain",
            "Italy",
            "Russia",
            "Germany",
            "Brazil",
            "Turkey",
            "Iran",
            "Peru",
            "India",
            "Belgium",
            "Saudi Arabia",
            "Mexico",
            "Switzerland",
            "Ecuador",
            "Pakistan",
            "Portugal",
            "Chile",
            "Sweden",
            "Ireland"
           ],
           "xaxis": "x",
           "y": [
            0,
            0,
            0,
            0,
            0,
            0,
            0,
            0,
            0,
            0,
            0,
            0,
            0,
            0,
            0,
            0,
            0,
            0,
            0,
            0
           ],
           "yaxis": "y"
          },
          {
           "alignmentgroup": "True",
           "hovertemplate": "type=recovered<br>date=2/9/20<br>country=%{x}<br>count=%{y}<extra></extra>",
           "legendgroup": "recovered",
           "marker": {
            "color": "#00cc96"
           },
           "name": "recovered",
           "offsetgroup": "recovered",
           "orientation": "v",
           "showlegend": true,
           "textposition": "auto",
           "type": "bar",
           "x": [
            "US",
            "Spain",
            "Italy",
            "Russia",
            "Germany",
            "Brazil",
            "Turkey",
            "Iran",
            "Peru",
            "India",
            "Belgium",
            "Saudi Arabia",
            "Mexico",
            "Switzerland",
            "Ecuador",
            "Pakistan",
            "Portugal",
            "Chile",
            "Sweden",
            "Ireland"
           ],
           "xaxis": "x",
           "y": [
            3,
            0,
            0,
            0,
            0,
            0,
            0,
            0,
            0,
            0,
            0,
            0,
            0,
            0,
            0,
            0,
            0,
            0,
            0,
            0
           ],
           "yaxis": "y"
          }
         ],
         "name": "2/9/20"
        },
        {
         "data": [
          {
           "alignmentgroup": "True",
           "hovertemplate": "type=confirmed<br>date=2/10/20<br>country=%{x}<br>count=%{y}<extra></extra>",
           "legendgroup": "confirmed",
           "marker": {
            "color": "#636efa"
           },
           "name": "confirmed",
           "offsetgroup": "confirmed",
           "orientation": "v",
           "showlegend": true,
           "textposition": "auto",
           "type": "bar",
           "x": [
            "US",
            "Spain",
            "Italy",
            "Russia",
            "Germany",
            "Brazil",
            "Turkey",
            "Iran",
            "Peru",
            "India",
            "Belgium",
            "Saudi Arabia",
            "Mexico",
            "Switzerland",
            "Ecuador",
            "Pakistan",
            "Portugal",
            "Chile",
            "Sweden",
            "Ireland"
           ],
           "xaxis": "x",
           "y": [
            8,
            2,
            3,
            2,
            14,
            0,
            0,
            0,
            0,
            3,
            1,
            0,
            0,
            0,
            0,
            0,
            0,
            0,
            1,
            0
           ],
           "yaxis": "y"
          },
          {
           "alignmentgroup": "True",
           "hovertemplate": "type=death<br>date=2/10/20<br>country=%{x}<br>count=%{y}<extra></extra>",
           "legendgroup": "death",
           "marker": {
            "color": "#EF553B"
           },
           "name": "death",
           "offsetgroup": "death",
           "orientation": "v",
           "showlegend": true,
           "textposition": "auto",
           "type": "bar",
           "x": [
            "US",
            "Spain",
            "Italy",
            "Russia",
            "Germany",
            "Brazil",
            "Turkey",
            "Iran",
            "Peru",
            "India",
            "Belgium",
            "Saudi Arabia",
            "Mexico",
            "Switzerland",
            "Ecuador",
            "Pakistan",
            "Portugal",
            "Chile",
            "Sweden",
            "Ireland"
           ],
           "xaxis": "x",
           "y": [
            0,
            0,
            0,
            0,
            0,
            0,
            0,
            0,
            0,
            0,
            0,
            0,
            0,
            0,
            0,
            0,
            0,
            0,
            0,
            0
           ],
           "yaxis": "y"
          },
          {
           "alignmentgroup": "True",
           "hovertemplate": "type=recovered<br>date=2/10/20<br>country=%{x}<br>count=%{y}<extra></extra>",
           "legendgroup": "recovered",
           "marker": {
            "color": "#00cc96"
           },
           "name": "recovered",
           "offsetgroup": "recovered",
           "orientation": "v",
           "showlegend": true,
           "textposition": "auto",
           "type": "bar",
           "x": [
            "US",
            "Spain",
            "Italy",
            "Russia",
            "Germany",
            "Brazil",
            "Turkey",
            "Iran",
            "Peru",
            "India",
            "Belgium",
            "Saudi Arabia",
            "Mexico",
            "Switzerland",
            "Ecuador",
            "Pakistan",
            "Portugal",
            "Chile",
            "Sweden",
            "Ireland"
           ],
           "xaxis": "x",
           "y": [
            3,
            0,
            0,
            0,
            0,
            0,
            0,
            0,
            0,
            0,
            0,
            0,
            0,
            0,
            0,
            0,
            0,
            0,
            0,
            0
           ],
           "yaxis": "y"
          }
         ],
         "name": "2/10/20"
        },
        {
         "data": [
          {
           "alignmentgroup": "True",
           "hovertemplate": "type=confirmed<br>date=2/11/20<br>country=%{x}<br>count=%{y}<extra></extra>",
           "legendgroup": "confirmed",
           "marker": {
            "color": "#636efa"
           },
           "name": "confirmed",
           "offsetgroup": "confirmed",
           "orientation": "v",
           "showlegend": true,
           "textposition": "auto",
           "type": "bar",
           "x": [
            "US",
            "Spain",
            "Italy",
            "Russia",
            "Germany",
            "Brazil",
            "Turkey",
            "Iran",
            "Peru",
            "India",
            "Belgium",
            "Saudi Arabia",
            "Mexico",
            "Switzerland",
            "Ecuador",
            "Pakistan",
            "Portugal",
            "Chile",
            "Sweden",
            "Ireland"
           ],
           "xaxis": "x",
           "y": [
            9,
            2,
            3,
            2,
            16,
            0,
            0,
            0,
            0,
            3,
            1,
            0,
            0,
            0,
            0,
            0,
            0,
            0,
            1,
            0
           ],
           "yaxis": "y"
          },
          {
           "alignmentgroup": "True",
           "hovertemplate": "type=death<br>date=2/11/20<br>country=%{x}<br>count=%{y}<extra></extra>",
           "legendgroup": "death",
           "marker": {
            "color": "#EF553B"
           },
           "name": "death",
           "offsetgroup": "death",
           "orientation": "v",
           "showlegend": true,
           "textposition": "auto",
           "type": "bar",
           "x": [
            "US",
            "Spain",
            "Italy",
            "Russia",
            "Germany",
            "Brazil",
            "Turkey",
            "Iran",
            "Peru",
            "India",
            "Belgium",
            "Saudi Arabia",
            "Mexico",
            "Switzerland",
            "Ecuador",
            "Pakistan",
            "Portugal",
            "Chile",
            "Sweden",
            "Ireland"
           ],
           "xaxis": "x",
           "y": [
            0,
            0,
            0,
            0,
            0,
            0,
            0,
            0,
            0,
            0,
            0,
            0,
            0,
            0,
            0,
            0,
            0,
            0,
            0,
            0
           ],
           "yaxis": "y"
          },
          {
           "alignmentgroup": "True",
           "hovertemplate": "type=recovered<br>date=2/11/20<br>country=%{x}<br>count=%{y}<extra></extra>",
           "legendgroup": "recovered",
           "marker": {
            "color": "#00cc96"
           },
           "name": "recovered",
           "offsetgroup": "recovered",
           "orientation": "v",
           "showlegend": true,
           "textposition": "auto",
           "type": "bar",
           "x": [
            "US",
            "Spain",
            "Italy",
            "Russia",
            "Germany",
            "Brazil",
            "Turkey",
            "Iran",
            "Peru",
            "India",
            "Belgium",
            "Saudi Arabia",
            "Mexico",
            "Switzerland",
            "Ecuador",
            "Pakistan",
            "Portugal",
            "Chile",
            "Sweden",
            "Ireland"
           ],
           "xaxis": "x",
           "y": [
            3,
            0,
            0,
            0,
            0,
            0,
            0,
            0,
            0,
            0,
            0,
            0,
            0,
            0,
            0,
            0,
            0,
            0,
            0,
            0
           ],
           "yaxis": "y"
          }
         ],
         "name": "2/11/20"
        },
        {
         "data": [
          {
           "alignmentgroup": "True",
           "hovertemplate": "type=confirmed<br>date=2/12/20<br>country=%{x}<br>count=%{y}<extra></extra>",
           "legendgroup": "confirmed",
           "marker": {
            "color": "#636efa"
           },
           "name": "confirmed",
           "offsetgroup": "confirmed",
           "orientation": "v",
           "showlegend": true,
           "textposition": "auto",
           "type": "bar",
           "x": [
            "US",
            "Spain",
            "Italy",
            "Russia",
            "Germany",
            "Brazil",
            "Turkey",
            "Iran",
            "Peru",
            "India",
            "Belgium",
            "Saudi Arabia",
            "Mexico",
            "Switzerland",
            "Ecuador",
            "Pakistan",
            "Portugal",
            "Chile",
            "Sweden",
            "Ireland"
           ],
           "xaxis": "x",
           "y": [
            9,
            2,
            3,
            0,
            16,
            0,
            0,
            0,
            0,
            3,
            1,
            0,
            0,
            0,
            0,
            0,
            0,
            0,
            1,
            0
           ],
           "yaxis": "y"
          },
          {
           "alignmentgroup": "True",
           "hovertemplate": "type=death<br>date=2/12/20<br>country=%{x}<br>count=%{y}<extra></extra>",
           "legendgroup": "death",
           "marker": {
            "color": "#EF553B"
           },
           "name": "death",
           "offsetgroup": "death",
           "orientation": "v",
           "showlegend": true,
           "textposition": "auto",
           "type": "bar",
           "x": [
            "US",
            "Spain",
            "Italy",
            "Russia",
            "Germany",
            "Brazil",
            "Turkey",
            "Iran",
            "Peru",
            "India",
            "Belgium",
            "Saudi Arabia",
            "Mexico",
            "Switzerland",
            "Ecuador",
            "Pakistan",
            "Portugal",
            "Chile",
            "Sweden",
            "Ireland"
           ],
           "xaxis": "x",
           "y": [
            0,
            0,
            0,
            0,
            0,
            0,
            0,
            0,
            0,
            0,
            0,
            0,
            0,
            0,
            0,
            0,
            0,
            0,
            0,
            0
           ],
           "yaxis": "y"
          },
          {
           "alignmentgroup": "True",
           "hovertemplate": "type=recovered<br>date=2/12/20<br>country=%{x}<br>count=%{y}<extra></extra>",
           "legendgroup": "recovered",
           "marker": {
            "color": "#00cc96"
           },
           "name": "recovered",
           "offsetgroup": "recovered",
           "orientation": "v",
           "showlegend": true,
           "textposition": "auto",
           "type": "bar",
           "x": [
            "US",
            "Spain",
            "Italy",
            "Russia",
            "Germany",
            "Brazil",
            "Turkey",
            "Iran",
            "Peru",
            "India",
            "Belgium",
            "Saudi Arabia",
            "Mexico",
            "Switzerland",
            "Ecuador",
            "Pakistan",
            "Portugal",
            "Chile",
            "Sweden",
            "Ireland"
           ],
           "xaxis": "x",
           "y": [
            3,
            0,
            0,
            2,
            0,
            0,
            0,
            0,
            0,
            0,
            0,
            0,
            0,
            0,
            0,
            0,
            0,
            0,
            0,
            0
           ],
           "yaxis": "y"
          }
         ],
         "name": "2/12/20"
        },
        {
         "data": [
          {
           "alignmentgroup": "True",
           "hovertemplate": "type=confirmed<br>date=2/13/20<br>country=%{x}<br>count=%{y}<extra></extra>",
           "legendgroup": "confirmed",
           "marker": {
            "color": "#636efa"
           },
           "name": "confirmed",
           "offsetgroup": "confirmed",
           "orientation": "v",
           "showlegend": true,
           "textposition": "auto",
           "type": "bar",
           "x": [
            "US",
            "Spain",
            "Italy",
            "Russia",
            "Germany",
            "Brazil",
            "Turkey",
            "Iran",
            "Peru",
            "India",
            "Belgium",
            "Saudi Arabia",
            "Mexico",
            "Switzerland",
            "Ecuador",
            "Pakistan",
            "Portugal",
            "Chile",
            "Sweden",
            "Ireland"
           ],
           "xaxis": "x",
           "y": [
            10,
            2,
            3,
            0,
            15,
            0,
            0,
            0,
            0,
            3,
            1,
            0,
            0,
            0,
            0,
            0,
            0,
            0,
            1,
            0
           ],
           "yaxis": "y"
          },
          {
           "alignmentgroup": "True",
           "hovertemplate": "type=death<br>date=2/13/20<br>country=%{x}<br>count=%{y}<extra></extra>",
           "legendgroup": "death",
           "marker": {
            "color": "#EF553B"
           },
           "name": "death",
           "offsetgroup": "death",
           "orientation": "v",
           "showlegend": true,
           "textposition": "auto",
           "type": "bar",
           "x": [
            "US",
            "Spain",
            "Italy",
            "Russia",
            "Germany",
            "Brazil",
            "Turkey",
            "Iran",
            "Peru",
            "India",
            "Belgium",
            "Saudi Arabia",
            "Mexico",
            "Switzerland",
            "Ecuador",
            "Pakistan",
            "Portugal",
            "Chile",
            "Sweden",
            "Ireland"
           ],
           "xaxis": "x",
           "y": [
            0,
            0,
            0,
            0,
            0,
            0,
            0,
            0,
            0,
            0,
            0,
            0,
            0,
            0,
            0,
            0,
            0,
            0,
            0,
            0
           ],
           "yaxis": "y"
          },
          {
           "alignmentgroup": "True",
           "hovertemplate": "type=recovered<br>date=2/13/20<br>country=%{x}<br>count=%{y}<extra></extra>",
           "legendgroup": "recovered",
           "marker": {
            "color": "#00cc96"
           },
           "name": "recovered",
           "offsetgroup": "recovered",
           "orientation": "v",
           "showlegend": true,
           "textposition": "auto",
           "type": "bar",
           "x": [
            "US",
            "Spain",
            "Italy",
            "Russia",
            "Germany",
            "Brazil",
            "Turkey",
            "Iran",
            "Peru",
            "India",
            "Belgium",
            "Saudi Arabia",
            "Mexico",
            "Switzerland",
            "Ecuador",
            "Pakistan",
            "Portugal",
            "Chile",
            "Sweden",
            "Ireland"
           ],
           "xaxis": "x",
           "y": [
            3,
            0,
            0,
            2,
            1,
            0,
            0,
            0,
            0,
            0,
            0,
            0,
            0,
            0,
            0,
            0,
            0,
            0,
            0,
            0
           ],
           "yaxis": "y"
          }
         ],
         "name": "2/13/20"
        },
        {
         "data": [
          {
           "alignmentgroup": "True",
           "hovertemplate": "type=confirmed<br>date=2/14/20<br>country=%{x}<br>count=%{y}<extra></extra>",
           "legendgroup": "confirmed",
           "marker": {
            "color": "#636efa"
           },
           "name": "confirmed",
           "offsetgroup": "confirmed",
           "orientation": "v",
           "showlegend": true,
           "textposition": "auto",
           "type": "bar",
           "x": [
            "US",
            "Spain",
            "Italy",
            "Russia",
            "Germany",
            "Brazil",
            "Turkey",
            "Iran",
            "Peru",
            "India",
            "Belgium",
            "Saudi Arabia",
            "Mexico",
            "Switzerland",
            "Ecuador",
            "Pakistan",
            "Portugal",
            "Chile",
            "Sweden",
            "Ireland"
           ],
           "xaxis": "x",
           "y": [
            10,
            2,
            3,
            0,
            15,
            0,
            0,
            0,
            0,
            3,
            1,
            0,
            0,
            0,
            0,
            0,
            0,
            0,
            1,
            0
           ],
           "yaxis": "y"
          },
          {
           "alignmentgroup": "True",
           "hovertemplate": "type=death<br>date=2/14/20<br>country=%{x}<br>count=%{y}<extra></extra>",
           "legendgroup": "death",
           "marker": {
            "color": "#EF553B"
           },
           "name": "death",
           "offsetgroup": "death",
           "orientation": "v",
           "showlegend": true,
           "textposition": "auto",
           "type": "bar",
           "x": [
            "US",
            "Spain",
            "Italy",
            "Russia",
            "Germany",
            "Brazil",
            "Turkey",
            "Iran",
            "Peru",
            "India",
            "Belgium",
            "Saudi Arabia",
            "Mexico",
            "Switzerland",
            "Ecuador",
            "Pakistan",
            "Portugal",
            "Chile",
            "Sweden",
            "Ireland"
           ],
           "xaxis": "x",
           "y": [
            0,
            0,
            0,
            0,
            0,
            0,
            0,
            0,
            0,
            0,
            0,
            0,
            0,
            0,
            0,
            0,
            0,
            0,
            0,
            0
           ],
           "yaxis": "y"
          },
          {
           "alignmentgroup": "True",
           "hovertemplate": "type=recovered<br>date=2/14/20<br>country=%{x}<br>count=%{y}<extra></extra>",
           "legendgroup": "recovered",
           "marker": {
            "color": "#00cc96"
           },
           "name": "recovered",
           "offsetgroup": "recovered",
           "orientation": "v",
           "showlegend": true,
           "textposition": "auto",
           "type": "bar",
           "x": [
            "US",
            "Spain",
            "Italy",
            "Russia",
            "Germany",
            "Brazil",
            "Turkey",
            "Iran",
            "Peru",
            "India",
            "Belgium",
            "Saudi Arabia",
            "Mexico",
            "Switzerland",
            "Ecuador",
            "Pakistan",
            "Portugal",
            "Chile",
            "Sweden",
            "Ireland"
           ],
           "xaxis": "x",
           "y": [
            3,
            0,
            0,
            2,
            1,
            0,
            0,
            0,
            0,
            0,
            0,
            0,
            0,
            0,
            0,
            0,
            0,
            0,
            0,
            0
           ],
           "yaxis": "y"
          }
         ],
         "name": "2/14/20"
        },
        {
         "data": [
          {
           "alignmentgroup": "True",
           "hovertemplate": "type=confirmed<br>date=2/15/20<br>country=%{x}<br>count=%{y}<extra></extra>",
           "legendgroup": "confirmed",
           "marker": {
            "color": "#636efa"
           },
           "name": "confirmed",
           "offsetgroup": "confirmed",
           "orientation": "v",
           "showlegend": true,
           "textposition": "auto",
           "type": "bar",
           "x": [
            "US",
            "Spain",
            "Italy",
            "Russia",
            "Germany",
            "Brazil",
            "Turkey",
            "Iran",
            "Peru",
            "India",
            "Belgium",
            "Saudi Arabia",
            "Mexico",
            "Switzerland",
            "Ecuador",
            "Pakistan",
            "Portugal",
            "Chile",
            "Sweden",
            "Ireland"
           ],
           "xaxis": "x",
           "y": [
            10,
            0,
            3,
            0,
            15,
            0,
            0,
            0,
            0,
            3,
            1,
            0,
            0,
            0,
            0,
            0,
            0,
            0,
            1,
            0
           ],
           "yaxis": "y"
          },
          {
           "alignmentgroup": "True",
           "hovertemplate": "type=death<br>date=2/15/20<br>country=%{x}<br>count=%{y}<extra></extra>",
           "legendgroup": "death",
           "marker": {
            "color": "#EF553B"
           },
           "name": "death",
           "offsetgroup": "death",
           "orientation": "v",
           "showlegend": true,
           "textposition": "auto",
           "type": "bar",
           "x": [
            "US",
            "Spain",
            "Italy",
            "Russia",
            "Germany",
            "Brazil",
            "Turkey",
            "Iran",
            "Peru",
            "India",
            "Belgium",
            "Saudi Arabia",
            "Mexico",
            "Switzerland",
            "Ecuador",
            "Pakistan",
            "Portugal",
            "Chile",
            "Sweden",
            "Ireland"
           ],
           "xaxis": "x",
           "y": [
            0,
            0,
            0,
            0,
            0,
            0,
            0,
            0,
            0,
            0,
            0,
            0,
            0,
            0,
            0,
            0,
            0,
            0,
            0,
            0
           ],
           "yaxis": "y"
          },
          {
           "alignmentgroup": "True",
           "hovertemplate": "type=recovered<br>date=2/15/20<br>country=%{x}<br>count=%{y}<extra></extra>",
           "legendgroup": "recovered",
           "marker": {
            "color": "#00cc96"
           },
           "name": "recovered",
           "offsetgroup": "recovered",
           "orientation": "v",
           "showlegend": true,
           "textposition": "auto",
           "type": "bar",
           "x": [
            "US",
            "Spain",
            "Italy",
            "Russia",
            "Germany",
            "Brazil",
            "Turkey",
            "Iran",
            "Peru",
            "India",
            "Belgium",
            "Saudi Arabia",
            "Mexico",
            "Switzerland",
            "Ecuador",
            "Pakistan",
            "Portugal",
            "Chile",
            "Sweden",
            "Ireland"
           ],
           "xaxis": "x",
           "y": [
            3,
            2,
            0,
            2,
            1,
            0,
            0,
            0,
            0,
            0,
            0,
            0,
            0,
            0,
            0,
            0,
            0,
            0,
            0,
            0
           ],
           "yaxis": "y"
          }
         ],
         "name": "2/15/20"
        },
        {
         "data": [
          {
           "alignmentgroup": "True",
           "hovertemplate": "type=confirmed<br>date=2/16/20<br>country=%{x}<br>count=%{y}<extra></extra>",
           "legendgroup": "confirmed",
           "marker": {
            "color": "#636efa"
           },
           "name": "confirmed",
           "offsetgroup": "confirmed",
           "orientation": "v",
           "showlegend": true,
           "textposition": "auto",
           "type": "bar",
           "x": [
            "US",
            "Spain",
            "Italy",
            "Russia",
            "Germany",
            "Brazil",
            "Turkey",
            "Iran",
            "Peru",
            "India",
            "Belgium",
            "Saudi Arabia",
            "Mexico",
            "Switzerland",
            "Ecuador",
            "Pakistan",
            "Portugal",
            "Chile",
            "Sweden",
            "Ireland"
           ],
           "xaxis": "x",
           "y": [
            10,
            0,
            3,
            0,
            15,
            0,
            0,
            0,
            0,
            0,
            1,
            0,
            0,
            0,
            0,
            0,
            0,
            0,
            1,
            0
           ],
           "yaxis": "y"
          },
          {
           "alignmentgroup": "True",
           "hovertemplate": "type=death<br>date=2/16/20<br>country=%{x}<br>count=%{y}<extra></extra>",
           "legendgroup": "death",
           "marker": {
            "color": "#EF553B"
           },
           "name": "death",
           "offsetgroup": "death",
           "orientation": "v",
           "showlegend": true,
           "textposition": "auto",
           "type": "bar",
           "x": [
            "US",
            "Spain",
            "Italy",
            "Russia",
            "Germany",
            "Brazil",
            "Turkey",
            "Iran",
            "Peru",
            "India",
            "Belgium",
            "Saudi Arabia",
            "Mexico",
            "Switzerland",
            "Ecuador",
            "Pakistan",
            "Portugal",
            "Chile",
            "Sweden",
            "Ireland"
           ],
           "xaxis": "x",
           "y": [
            0,
            0,
            0,
            0,
            0,
            0,
            0,
            0,
            0,
            0,
            0,
            0,
            0,
            0,
            0,
            0,
            0,
            0,
            0,
            0
           ],
           "yaxis": "y"
          },
          {
           "alignmentgroup": "True",
           "hovertemplate": "type=recovered<br>date=2/16/20<br>country=%{x}<br>count=%{y}<extra></extra>",
           "legendgroup": "recovered",
           "marker": {
            "color": "#00cc96"
           },
           "name": "recovered",
           "offsetgroup": "recovered",
           "orientation": "v",
           "showlegend": true,
           "textposition": "auto",
           "type": "bar",
           "x": [
            "US",
            "Spain",
            "Italy",
            "Russia",
            "Germany",
            "Brazil",
            "Turkey",
            "Iran",
            "Peru",
            "India",
            "Belgium",
            "Saudi Arabia",
            "Mexico",
            "Switzerland",
            "Ecuador",
            "Pakistan",
            "Portugal",
            "Chile",
            "Sweden",
            "Ireland"
           ],
           "xaxis": "x",
           "y": [
            3,
            2,
            0,
            2,
            1,
            0,
            0,
            0,
            0,
            3,
            0,
            0,
            0,
            0,
            0,
            0,
            0,
            0,
            0,
            0
           ],
           "yaxis": "y"
          }
         ],
         "name": "2/16/20"
        },
        {
         "data": [
          {
           "alignmentgroup": "True",
           "hovertemplate": "type=confirmed<br>date=2/17/20<br>country=%{x}<br>count=%{y}<extra></extra>",
           "legendgroup": "confirmed",
           "marker": {
            "color": "#636efa"
           },
           "name": "confirmed",
           "offsetgroup": "confirmed",
           "orientation": "v",
           "showlegend": true,
           "textposition": "auto",
           "type": "bar",
           "x": [
            "US",
            "Spain",
            "Italy",
            "Russia",
            "Germany",
            "Brazil",
            "Turkey",
            "Iran",
            "Peru",
            "India",
            "Belgium",
            "Saudi Arabia",
            "Mexico",
            "Switzerland",
            "Ecuador",
            "Pakistan",
            "Portugal",
            "Chile",
            "Sweden",
            "Ireland"
           ],
           "xaxis": "x",
           "y": [
            10,
            0,
            3,
            0,
            15,
            0,
            0,
            0,
            0,
            0,
            0,
            0,
            0,
            0,
            0,
            0,
            0,
            0,
            1,
            0
           ],
           "yaxis": "y"
          },
          {
           "alignmentgroup": "True",
           "hovertemplate": "type=death<br>date=2/17/20<br>country=%{x}<br>count=%{y}<extra></extra>",
           "legendgroup": "death",
           "marker": {
            "color": "#EF553B"
           },
           "name": "death",
           "offsetgroup": "death",
           "orientation": "v",
           "showlegend": true,
           "textposition": "auto",
           "type": "bar",
           "x": [
            "US",
            "Spain",
            "Italy",
            "Russia",
            "Germany",
            "Brazil",
            "Turkey",
            "Iran",
            "Peru",
            "India",
            "Belgium",
            "Saudi Arabia",
            "Mexico",
            "Switzerland",
            "Ecuador",
            "Pakistan",
            "Portugal",
            "Chile",
            "Sweden",
            "Ireland"
           ],
           "xaxis": "x",
           "y": [
            0,
            0,
            0,
            0,
            0,
            0,
            0,
            0,
            0,
            0,
            0,
            0,
            0,
            0,
            0,
            0,
            0,
            0,
            0,
            0
           ],
           "yaxis": "y"
          },
          {
           "alignmentgroup": "True",
           "hovertemplate": "type=recovered<br>date=2/17/20<br>country=%{x}<br>count=%{y}<extra></extra>",
           "legendgroup": "recovered",
           "marker": {
            "color": "#00cc96"
           },
           "name": "recovered",
           "offsetgroup": "recovered",
           "orientation": "v",
           "showlegend": true,
           "textposition": "auto",
           "type": "bar",
           "x": [
            "US",
            "Spain",
            "Italy",
            "Russia",
            "Germany",
            "Brazil",
            "Turkey",
            "Iran",
            "Peru",
            "India",
            "Belgium",
            "Saudi Arabia",
            "Mexico",
            "Switzerland",
            "Ecuador",
            "Pakistan",
            "Portugal",
            "Chile",
            "Sweden",
            "Ireland"
           ],
           "xaxis": "x",
           "y": [
            3,
            2,
            0,
            2,
            1,
            0,
            0,
            0,
            0,
            3,
            1,
            0,
            0,
            0,
            0,
            0,
            0,
            0,
            0,
            0
           ],
           "yaxis": "y"
          }
         ],
         "name": "2/17/20"
        },
        {
         "data": [
          {
           "alignmentgroup": "True",
           "hovertemplate": "type=confirmed<br>date=2/18/20<br>country=%{x}<br>count=%{y}<extra></extra>",
           "legendgroup": "confirmed",
           "marker": {
            "color": "#636efa"
           },
           "name": "confirmed",
           "offsetgroup": "confirmed",
           "orientation": "v",
           "showlegend": true,
           "textposition": "auto",
           "type": "bar",
           "x": [
            "US",
            "Spain",
            "Italy",
            "Russia",
            "Germany",
            "Brazil",
            "Turkey",
            "Iran",
            "Peru",
            "India",
            "Belgium",
            "Saudi Arabia",
            "Mexico",
            "Switzerland",
            "Ecuador",
            "Pakistan",
            "Portugal",
            "Chile",
            "Sweden",
            "Ireland"
           ],
           "xaxis": "x",
           "y": [
            10,
            0,
            3,
            0,
            4,
            0,
            0,
            0,
            0,
            0,
            0,
            0,
            0,
            0,
            0,
            0,
            0,
            0,
            1,
            0
           ],
           "yaxis": "y"
          },
          {
           "alignmentgroup": "True",
           "hovertemplate": "type=death<br>date=2/18/20<br>country=%{x}<br>count=%{y}<extra></extra>",
           "legendgroup": "death",
           "marker": {
            "color": "#EF553B"
           },
           "name": "death",
           "offsetgroup": "death",
           "orientation": "v",
           "showlegend": true,
           "textposition": "auto",
           "type": "bar",
           "x": [
            "US",
            "Spain",
            "Italy",
            "Russia",
            "Germany",
            "Brazil",
            "Turkey",
            "Iran",
            "Peru",
            "India",
            "Belgium",
            "Saudi Arabia",
            "Mexico",
            "Switzerland",
            "Ecuador",
            "Pakistan",
            "Portugal",
            "Chile",
            "Sweden",
            "Ireland"
           ],
           "xaxis": "x",
           "y": [
            0,
            0,
            0,
            0,
            0,
            0,
            0,
            0,
            0,
            0,
            0,
            0,
            0,
            0,
            0,
            0,
            0,
            0,
            0,
            0
           ],
           "yaxis": "y"
          },
          {
           "alignmentgroup": "True",
           "hovertemplate": "type=recovered<br>date=2/18/20<br>country=%{x}<br>count=%{y}<extra></extra>",
           "legendgroup": "recovered",
           "marker": {
            "color": "#00cc96"
           },
           "name": "recovered",
           "offsetgroup": "recovered",
           "orientation": "v",
           "showlegend": true,
           "textposition": "auto",
           "type": "bar",
           "x": [
            "US",
            "Spain",
            "Italy",
            "Russia",
            "Germany",
            "Brazil",
            "Turkey",
            "Iran",
            "Peru",
            "India",
            "Belgium",
            "Saudi Arabia",
            "Mexico",
            "Switzerland",
            "Ecuador",
            "Pakistan",
            "Portugal",
            "Chile",
            "Sweden",
            "Ireland"
           ],
           "xaxis": "x",
           "y": [
            3,
            2,
            0,
            2,
            12,
            0,
            0,
            0,
            0,
            3,
            1,
            0,
            0,
            0,
            0,
            0,
            0,
            0,
            0,
            0
           ],
           "yaxis": "y"
          }
         ],
         "name": "2/18/20"
        },
        {
         "data": [
          {
           "alignmentgroup": "True",
           "hovertemplate": "type=confirmed<br>date=2/19/20<br>country=%{x}<br>count=%{y}<extra></extra>",
           "legendgroup": "confirmed",
           "marker": {
            "color": "#636efa"
           },
           "name": "confirmed",
           "offsetgroup": "confirmed",
           "orientation": "v",
           "showlegend": true,
           "textposition": "auto",
           "type": "bar",
           "x": [
            "US",
            "Spain",
            "Italy",
            "Russia",
            "Germany",
            "Brazil",
            "Turkey",
            "Iran",
            "Peru",
            "India",
            "Belgium",
            "Saudi Arabia",
            "Mexico",
            "Switzerland",
            "Ecuador",
            "Pakistan",
            "Portugal",
            "Chile",
            "Sweden",
            "Ireland"
           ],
           "xaxis": "x",
           "y": [
            10,
            0,
            3,
            0,
            4,
            0,
            0,
            0,
            0,
            0,
            0,
            0,
            0,
            0,
            0,
            0,
            0,
            0,
            1,
            0
           ],
           "yaxis": "y"
          },
          {
           "alignmentgroup": "True",
           "hovertemplate": "type=death<br>date=2/19/20<br>country=%{x}<br>count=%{y}<extra></extra>",
           "legendgroup": "death",
           "marker": {
            "color": "#EF553B"
           },
           "name": "death",
           "offsetgroup": "death",
           "orientation": "v",
           "showlegend": true,
           "textposition": "auto",
           "type": "bar",
           "x": [
            "US",
            "Spain",
            "Italy",
            "Russia",
            "Germany",
            "Brazil",
            "Turkey",
            "Iran",
            "Peru",
            "India",
            "Belgium",
            "Saudi Arabia",
            "Mexico",
            "Switzerland",
            "Ecuador",
            "Pakistan",
            "Portugal",
            "Chile",
            "Sweden",
            "Ireland"
           ],
           "xaxis": "x",
           "y": [
            0,
            0,
            0,
            0,
            0,
            0,
            0,
            2,
            0,
            0,
            0,
            0,
            0,
            0,
            0,
            0,
            0,
            0,
            0,
            0
           ],
           "yaxis": "y"
          },
          {
           "alignmentgroup": "True",
           "hovertemplate": "type=recovered<br>date=2/19/20<br>country=%{x}<br>count=%{y}<extra></extra>",
           "legendgroup": "recovered",
           "marker": {
            "color": "#00cc96"
           },
           "name": "recovered",
           "offsetgroup": "recovered",
           "orientation": "v",
           "showlegend": true,
           "textposition": "auto",
           "type": "bar",
           "x": [
            "US",
            "Spain",
            "Italy",
            "Russia",
            "Germany",
            "Brazil",
            "Turkey",
            "Iran",
            "Peru",
            "India",
            "Belgium",
            "Saudi Arabia",
            "Mexico",
            "Switzerland",
            "Ecuador",
            "Pakistan",
            "Portugal",
            "Chile",
            "Sweden",
            "Ireland"
           ],
           "xaxis": "x",
           "y": [
            3,
            2,
            0,
            2,
            12,
            0,
            0,
            0,
            0,
            3,
            1,
            0,
            0,
            0,
            0,
            0,
            0,
            0,
            0,
            0
           ],
           "yaxis": "y"
          }
         ],
         "name": "2/19/20"
        },
        {
         "data": [
          {
           "alignmentgroup": "True",
           "hovertemplate": "type=confirmed<br>date=2/20/20<br>country=%{x}<br>count=%{y}<extra></extra>",
           "legendgroup": "confirmed",
           "marker": {
            "color": "#636efa"
           },
           "name": "confirmed",
           "offsetgroup": "confirmed",
           "orientation": "v",
           "showlegend": true,
           "textposition": "auto",
           "type": "bar",
           "x": [
            "US",
            "Spain",
            "Italy",
            "Russia",
            "Germany",
            "Brazil",
            "Turkey",
            "Iran",
            "Peru",
            "India",
            "Belgium",
            "Saudi Arabia",
            "Mexico",
            "Switzerland",
            "Ecuador",
            "Pakistan",
            "Portugal",
            "Chile",
            "Sweden",
            "Ireland"
           ],
           "xaxis": "x",
           "y": [
            10,
            0,
            3,
            0,
            4,
            0,
            0,
            3,
            0,
            0,
            0,
            0,
            0,
            0,
            0,
            0,
            0,
            0,
            1,
            0
           ],
           "yaxis": "y"
          },
          {
           "alignmentgroup": "True",
           "hovertemplate": "type=death<br>date=2/20/20<br>country=%{x}<br>count=%{y}<extra></extra>",
           "legendgroup": "death",
           "marker": {
            "color": "#EF553B"
           },
           "name": "death",
           "offsetgroup": "death",
           "orientation": "v",
           "showlegend": true,
           "textposition": "auto",
           "type": "bar",
           "x": [
            "US",
            "Spain",
            "Italy",
            "Russia",
            "Germany",
            "Brazil",
            "Turkey",
            "Iran",
            "Peru",
            "India",
            "Belgium",
            "Saudi Arabia",
            "Mexico",
            "Switzerland",
            "Ecuador",
            "Pakistan",
            "Portugal",
            "Chile",
            "Sweden",
            "Ireland"
           ],
           "xaxis": "x",
           "y": [
            0,
            0,
            0,
            0,
            0,
            0,
            0,
            2,
            0,
            0,
            0,
            0,
            0,
            0,
            0,
            0,
            0,
            0,
            0,
            0
           ],
           "yaxis": "y"
          },
          {
           "alignmentgroup": "True",
           "hovertemplate": "type=recovered<br>date=2/20/20<br>country=%{x}<br>count=%{y}<extra></extra>",
           "legendgroup": "recovered",
           "marker": {
            "color": "#00cc96"
           },
           "name": "recovered",
           "offsetgroup": "recovered",
           "orientation": "v",
           "showlegend": true,
           "textposition": "auto",
           "type": "bar",
           "x": [
            "US",
            "Spain",
            "Italy",
            "Russia",
            "Germany",
            "Brazil",
            "Turkey",
            "Iran",
            "Peru",
            "India",
            "Belgium",
            "Saudi Arabia",
            "Mexico",
            "Switzerland",
            "Ecuador",
            "Pakistan",
            "Portugal",
            "Chile",
            "Sweden",
            "Ireland"
           ],
           "xaxis": "x",
           "y": [
            3,
            2,
            0,
            2,
            12,
            0,
            0,
            0,
            0,
            3,
            1,
            0,
            0,
            0,
            0,
            0,
            0,
            0,
            0,
            0
           ],
           "yaxis": "y"
          }
         ],
         "name": "2/20/20"
        },
        {
         "data": [
          {
           "alignmentgroup": "True",
           "hovertemplate": "type=confirmed<br>date=2/21/20<br>country=%{x}<br>count=%{y}<extra></extra>",
           "legendgroup": "confirmed",
           "marker": {
            "color": "#636efa"
           },
           "name": "confirmed",
           "offsetgroup": "confirmed",
           "orientation": "v",
           "showlegend": true,
           "textposition": "auto",
           "type": "bar",
           "x": [
            "US",
            "Spain",
            "Italy",
            "Russia",
            "Germany",
            "Brazil",
            "Turkey",
            "Iran",
            "Peru",
            "India",
            "Belgium",
            "Saudi Arabia",
            "Mexico",
            "Switzerland",
            "Ecuador",
            "Pakistan",
            "Portugal",
            "Chile",
            "Sweden",
            "Ireland"
           ],
           "xaxis": "x",
           "y": [
            10,
            0,
            19,
            0,
            2,
            0,
            0,
            14,
            0,
            0,
            0,
            0,
            0,
            0,
            0,
            0,
            0,
            0,
            1,
            0
           ],
           "yaxis": "y"
          },
          {
           "alignmentgroup": "True",
           "hovertemplate": "type=death<br>date=2/21/20<br>country=%{x}<br>count=%{y}<extra></extra>",
           "legendgroup": "death",
           "marker": {
            "color": "#EF553B"
           },
           "name": "death",
           "offsetgroup": "death",
           "orientation": "v",
           "showlegend": true,
           "textposition": "auto",
           "type": "bar",
           "x": [
            "US",
            "Spain",
            "Italy",
            "Russia",
            "Germany",
            "Brazil",
            "Turkey",
            "Iran",
            "Peru",
            "India",
            "Belgium",
            "Saudi Arabia",
            "Mexico",
            "Switzerland",
            "Ecuador",
            "Pakistan",
            "Portugal",
            "Chile",
            "Sweden",
            "Ireland"
           ],
           "xaxis": "x",
           "y": [
            0,
            0,
            1,
            0,
            0,
            0,
            0,
            4,
            0,
            0,
            0,
            0,
            0,
            0,
            0,
            0,
            0,
            0,
            0,
            0
           ],
           "yaxis": "y"
          },
          {
           "alignmentgroup": "True",
           "hovertemplate": "type=recovered<br>date=2/21/20<br>country=%{x}<br>count=%{y}<extra></extra>",
           "legendgroup": "recovered",
           "marker": {
            "color": "#00cc96"
           },
           "name": "recovered",
           "offsetgroup": "recovered",
           "orientation": "v",
           "showlegend": true,
           "textposition": "auto",
           "type": "bar",
           "x": [
            "US",
            "Spain",
            "Italy",
            "Russia",
            "Germany",
            "Brazil",
            "Turkey",
            "Iran",
            "Peru",
            "India",
            "Belgium",
            "Saudi Arabia",
            "Mexico",
            "Switzerland",
            "Ecuador",
            "Pakistan",
            "Portugal",
            "Chile",
            "Sweden",
            "Ireland"
           ],
           "xaxis": "x",
           "y": [
            5,
            2,
            0,
            2,
            14,
            0,
            0,
            0,
            0,
            3,
            1,
            0,
            0,
            0,
            0,
            0,
            0,
            0,
            0,
            0
           ],
           "yaxis": "y"
          }
         ],
         "name": "2/21/20"
        },
        {
         "data": [
          {
           "alignmentgroup": "True",
           "hovertemplate": "type=confirmed<br>date=2/22/20<br>country=%{x}<br>count=%{y}<extra></extra>",
           "legendgroup": "confirmed",
           "marker": {
            "color": "#636efa"
           },
           "name": "confirmed",
           "offsetgroup": "confirmed",
           "orientation": "v",
           "showlegend": true,
           "textposition": "auto",
           "type": "bar",
           "x": [
            "US",
            "Spain",
            "Italy",
            "Russia",
            "Germany",
            "Brazil",
            "Turkey",
            "Iran",
            "Peru",
            "India",
            "Belgium",
            "Saudi Arabia",
            "Mexico",
            "Switzerland",
            "Ecuador",
            "Pakistan",
            "Portugal",
            "Chile",
            "Sweden",
            "Ireland"
           ],
           "xaxis": "x",
           "y": [
            10,
            0,
            59,
            0,
            2,
            0,
            0,
            23,
            0,
            0,
            0,
            0,
            0,
            0,
            0,
            0,
            0,
            0,
            1,
            0
           ],
           "yaxis": "y"
          },
          {
           "alignmentgroup": "True",
           "hovertemplate": "type=death<br>date=2/22/20<br>country=%{x}<br>count=%{y}<extra></extra>",
           "legendgroup": "death",
           "marker": {
            "color": "#EF553B"
           },
           "name": "death",
           "offsetgroup": "death",
           "orientation": "v",
           "showlegend": true,
           "textposition": "auto",
           "type": "bar",
           "x": [
            "US",
            "Spain",
            "Italy",
            "Russia",
            "Germany",
            "Brazil",
            "Turkey",
            "Iran",
            "Peru",
            "India",
            "Belgium",
            "Saudi Arabia",
            "Mexico",
            "Switzerland",
            "Ecuador",
            "Pakistan",
            "Portugal",
            "Chile",
            "Sweden",
            "Ireland"
           ],
           "xaxis": "x",
           "y": [
            0,
            0,
            2,
            0,
            0,
            0,
            0,
            5,
            0,
            0,
            0,
            0,
            0,
            0,
            0,
            0,
            0,
            0,
            0,
            0
           ],
           "yaxis": "y"
          },
          {
           "alignmentgroup": "True",
           "hovertemplate": "type=recovered<br>date=2/22/20<br>country=%{x}<br>count=%{y}<extra></extra>",
           "legendgroup": "recovered",
           "marker": {
            "color": "#00cc96"
           },
           "name": "recovered",
           "offsetgroup": "recovered",
           "orientation": "v",
           "showlegend": true,
           "textposition": "auto",
           "type": "bar",
           "x": [
            "US",
            "Spain",
            "Italy",
            "Russia",
            "Germany",
            "Brazil",
            "Turkey",
            "Iran",
            "Peru",
            "India",
            "Belgium",
            "Saudi Arabia",
            "Mexico",
            "Switzerland",
            "Ecuador",
            "Pakistan",
            "Portugal",
            "Chile",
            "Sweden",
            "Ireland"
           ],
           "xaxis": "x",
           "y": [
            5,
            2,
            1,
            2,
            14,
            0,
            0,
            0,
            0,
            3,
            1,
            0,
            0,
            0,
            0,
            0,
            0,
            0,
            0,
            0
           ],
           "yaxis": "y"
          }
         ],
         "name": "2/22/20"
        },
        {
         "data": [
          {
           "alignmentgroup": "True",
           "hovertemplate": "type=confirmed<br>date=2/23/20<br>country=%{x}<br>count=%{y}<extra></extra>",
           "legendgroup": "confirmed",
           "marker": {
            "color": "#636efa"
           },
           "name": "confirmed",
           "offsetgroup": "confirmed",
           "orientation": "v",
           "showlegend": true,
           "textposition": "auto",
           "type": "bar",
           "x": [
            "US",
            "Spain",
            "Italy",
            "Russia",
            "Germany",
            "Brazil",
            "Turkey",
            "Iran",
            "Peru",
            "India",
            "Belgium",
            "Saudi Arabia",
            "Mexico",
            "Switzerland",
            "Ecuador",
            "Pakistan",
            "Portugal",
            "Chile",
            "Sweden",
            "Ireland"
           ],
           "xaxis": "x",
           "y": [
            10,
            0,
            150,
            0,
            2,
            0,
            0,
            35,
            0,
            0,
            0,
            0,
            0,
            0,
            0,
            0,
            0,
            0,
            1,
            0
           ],
           "yaxis": "y"
          },
          {
           "alignmentgroup": "True",
           "hovertemplate": "type=death<br>date=2/23/20<br>country=%{x}<br>count=%{y}<extra></extra>",
           "legendgroup": "death",
           "marker": {
            "color": "#EF553B"
           },
           "name": "death",
           "offsetgroup": "death",
           "orientation": "v",
           "showlegend": true,
           "textposition": "auto",
           "type": "bar",
           "x": [
            "US",
            "Spain",
            "Italy",
            "Russia",
            "Germany",
            "Brazil",
            "Turkey",
            "Iran",
            "Peru",
            "India",
            "Belgium",
            "Saudi Arabia",
            "Mexico",
            "Switzerland",
            "Ecuador",
            "Pakistan",
            "Portugal",
            "Chile",
            "Sweden",
            "Ireland"
           ],
           "xaxis": "x",
           "y": [
            0,
            0,
            3,
            0,
            0,
            0,
            0,
            8,
            0,
            0,
            0,
            0,
            0,
            0,
            0,
            0,
            0,
            0,
            0,
            0
           ],
           "yaxis": "y"
          },
          {
           "alignmentgroup": "True",
           "hovertemplate": "type=recovered<br>date=2/23/20<br>country=%{x}<br>count=%{y}<extra></extra>",
           "legendgroup": "recovered",
           "marker": {
            "color": "#00cc96"
           },
           "name": "recovered",
           "offsetgroup": "recovered",
           "orientation": "v",
           "showlegend": true,
           "textposition": "auto",
           "type": "bar",
           "x": [
            "US",
            "Spain",
            "Italy",
            "Russia",
            "Germany",
            "Brazil",
            "Turkey",
            "Iran",
            "Peru",
            "India",
            "Belgium",
            "Saudi Arabia",
            "Mexico",
            "Switzerland",
            "Ecuador",
            "Pakistan",
            "Portugal",
            "Chile",
            "Sweden",
            "Ireland"
           ],
           "xaxis": "x",
           "y": [
            5,
            2,
            2,
            2,
            14,
            0,
            0,
            0,
            0,
            3,
            1,
            0,
            0,
            0,
            0,
            0,
            0,
            0,
            0,
            0
           ],
           "yaxis": "y"
          }
         ],
         "name": "2/23/20"
        },
        {
         "data": [
          {
           "alignmentgroup": "True",
           "hovertemplate": "type=confirmed<br>date=2/24/20<br>country=%{x}<br>count=%{y}<extra></extra>",
           "legendgroup": "confirmed",
           "marker": {
            "color": "#636efa"
           },
           "name": "confirmed",
           "offsetgroup": "confirmed",
           "orientation": "v",
           "showlegend": true,
           "textposition": "auto",
           "type": "bar",
           "x": [
            "US",
            "Spain",
            "Italy",
            "Russia",
            "Germany",
            "Brazil",
            "Turkey",
            "Iran",
            "Peru",
            "India",
            "Belgium",
            "Saudi Arabia",
            "Mexico",
            "Switzerland",
            "Ecuador",
            "Pakistan",
            "Portugal",
            "Chile",
            "Sweden",
            "Ireland"
           ],
           "xaxis": "x",
           "y": [
            46,
            0,
            221,
            0,
            2,
            0,
            0,
            49,
            0,
            0,
            0,
            0,
            0,
            0,
            0,
            0,
            0,
            0,
            1,
            0
           ],
           "yaxis": "y"
          },
          {
           "alignmentgroup": "True",
           "hovertemplate": "type=death<br>date=2/24/20<br>country=%{x}<br>count=%{y}<extra></extra>",
           "legendgroup": "death",
           "marker": {
            "color": "#EF553B"
           },
           "name": "death",
           "offsetgroup": "death",
           "orientation": "v",
           "showlegend": true,
           "textposition": "auto",
           "type": "bar",
           "x": [
            "US",
            "Spain",
            "Italy",
            "Russia",
            "Germany",
            "Brazil",
            "Turkey",
            "Iran",
            "Peru",
            "India",
            "Belgium",
            "Saudi Arabia",
            "Mexico",
            "Switzerland",
            "Ecuador",
            "Pakistan",
            "Portugal",
            "Chile",
            "Sweden",
            "Ireland"
           ],
           "xaxis": "x",
           "y": [
            0,
            0,
            7,
            0,
            0,
            0,
            0,
            12,
            0,
            0,
            0,
            0,
            0,
            0,
            0,
            0,
            0,
            0,
            0,
            0
           ],
           "yaxis": "y"
          },
          {
           "alignmentgroup": "True",
           "hovertemplate": "type=recovered<br>date=2/24/20<br>country=%{x}<br>count=%{y}<extra></extra>",
           "legendgroup": "recovered",
           "marker": {
            "color": "#00cc96"
           },
           "name": "recovered",
           "offsetgroup": "recovered",
           "orientation": "v",
           "showlegend": true,
           "textposition": "auto",
           "type": "bar",
           "x": [
            "US",
            "Spain",
            "Italy",
            "Russia",
            "Germany",
            "Brazil",
            "Turkey",
            "Iran",
            "Peru",
            "India",
            "Belgium",
            "Saudi Arabia",
            "Mexico",
            "Switzerland",
            "Ecuador",
            "Pakistan",
            "Portugal",
            "Chile",
            "Sweden",
            "Ireland"
           ],
           "xaxis": "x",
           "y": [
            5,
            2,
            1,
            2,
            14,
            0,
            0,
            0,
            0,
            3,
            1,
            0,
            0,
            0,
            0,
            0,
            0,
            0,
            0,
            0
           ],
           "yaxis": "y"
          }
         ],
         "name": "2/24/20"
        },
        {
         "data": [
          {
           "alignmentgroup": "True",
           "hovertemplate": "type=confirmed<br>date=2/25/20<br>country=%{x}<br>count=%{y}<extra></extra>",
           "legendgroup": "confirmed",
           "marker": {
            "color": "#636efa"
           },
           "name": "confirmed",
           "offsetgroup": "confirmed",
           "orientation": "v",
           "showlegend": true,
           "textposition": "auto",
           "type": "bar",
           "x": [
            "US",
            "Spain",
            "Italy",
            "Russia",
            "Germany",
            "Brazil",
            "Turkey",
            "Iran",
            "Peru",
            "India",
            "Belgium",
            "Saudi Arabia",
            "Mexico",
            "Switzerland",
            "Ecuador",
            "Pakistan",
            "Portugal",
            "Chile",
            "Sweden",
            "Ireland"
           ],
           "xaxis": "x",
           "y": [
            45,
            4,
            311,
            0,
            3,
            0,
            0,
            79,
            0,
            0,
            0,
            0,
            0,
            1,
            0,
            0,
            0,
            0,
            1,
            0
           ],
           "yaxis": "y"
          },
          {
           "alignmentgroup": "True",
           "hovertemplate": "type=death<br>date=2/25/20<br>country=%{x}<br>count=%{y}<extra></extra>",
           "legendgroup": "death",
           "marker": {
            "color": "#EF553B"
           },
           "name": "death",
           "offsetgroup": "death",
           "orientation": "v",
           "showlegend": true,
           "textposition": "auto",
           "type": "bar",
           "x": [
            "US",
            "Spain",
            "Italy",
            "Russia",
            "Germany",
            "Brazil",
            "Turkey",
            "Iran",
            "Peru",
            "India",
            "Belgium",
            "Saudi Arabia",
            "Mexico",
            "Switzerland",
            "Ecuador",
            "Pakistan",
            "Portugal",
            "Chile",
            "Sweden",
            "Ireland"
           ],
           "xaxis": "x",
           "y": [
            0,
            0,
            10,
            0,
            0,
            0,
            0,
            16,
            0,
            0,
            0,
            0,
            0,
            0,
            0,
            0,
            0,
            0,
            0,
            0
           ],
           "yaxis": "y"
          },
          {
           "alignmentgroup": "True",
           "hovertemplate": "type=recovered<br>date=2/25/20<br>country=%{x}<br>count=%{y}<extra></extra>",
           "legendgroup": "recovered",
           "marker": {
            "color": "#00cc96"
           },
           "name": "recovered",
           "offsetgroup": "recovered",
           "orientation": "v",
           "showlegend": true,
           "textposition": "auto",
           "type": "bar",
           "x": [
            "US",
            "Spain",
            "Italy",
            "Russia",
            "Germany",
            "Brazil",
            "Turkey",
            "Iran",
            "Peru",
            "India",
            "Belgium",
            "Saudi Arabia",
            "Mexico",
            "Switzerland",
            "Ecuador",
            "Pakistan",
            "Portugal",
            "Chile",
            "Sweden",
            "Ireland"
           ],
           "xaxis": "x",
           "y": [
            6,
            2,
            1,
            2,
            14,
            0,
            0,
            0,
            0,
            3,
            1,
            0,
            0,
            0,
            0,
            0,
            0,
            0,
            0,
            0
           ],
           "yaxis": "y"
          }
         ],
         "name": "2/25/20"
        },
        {
         "data": [
          {
           "alignmentgroup": "True",
           "hovertemplate": "type=confirmed<br>date=2/26/20<br>country=%{x}<br>count=%{y}<extra></extra>",
           "legendgroup": "confirmed",
           "marker": {
            "color": "#636efa"
           },
           "name": "confirmed",
           "offsetgroup": "confirmed",
           "orientation": "v",
           "showlegend": true,
           "textposition": "auto",
           "type": "bar",
           "x": [
            "US",
            "Spain",
            "Italy",
            "Russia",
            "Germany",
            "Brazil",
            "Turkey",
            "Iran",
            "Peru",
            "India",
            "Belgium",
            "Saudi Arabia",
            "Mexico",
            "Switzerland",
            "Ecuador",
            "Pakistan",
            "Portugal",
            "Chile",
            "Sweden",
            "Ireland"
           ],
           "xaxis": "x",
           "y": [
            51,
            11,
            438,
            0,
            12,
            1,
            0,
            71,
            0,
            0,
            0,
            0,
            0,
            1,
            0,
            2,
            0,
            0,
            2,
            0
           ],
           "yaxis": "y"
          },
          {
           "alignmentgroup": "True",
           "hovertemplate": "type=death<br>date=2/26/20<br>country=%{x}<br>count=%{y}<extra></extra>",
           "legendgroup": "death",
           "marker": {
            "color": "#EF553B"
           },
           "name": "death",
           "offsetgroup": "death",
           "orientation": "v",
           "showlegend": true,
           "textposition": "auto",
           "type": "bar",
           "x": [
            "US",
            "Spain",
            "Italy",
            "Russia",
            "Germany",
            "Brazil",
            "Turkey",
            "Iran",
            "Peru",
            "India",
            "Belgium",
            "Saudi Arabia",
            "Mexico",
            "Switzerland",
            "Ecuador",
            "Pakistan",
            "Portugal",
            "Chile",
            "Sweden",
            "Ireland"
           ],
           "xaxis": "x",
           "y": [
            0,
            0,
            12,
            0,
            0,
            0,
            0,
            19,
            0,
            0,
            0,
            0,
            0,
            0,
            0,
            0,
            0,
            0,
            0,
            0
           ],
           "yaxis": "y"
          },
          {
           "alignmentgroup": "True",
           "hovertemplate": "type=recovered<br>date=2/26/20<br>country=%{x}<br>count=%{y}<extra></extra>",
           "legendgroup": "recovered",
           "marker": {
            "color": "#00cc96"
           },
           "name": "recovered",
           "offsetgroup": "recovered",
           "orientation": "v",
           "showlegend": true,
           "textposition": "auto",
           "type": "bar",
           "x": [
            "US",
            "Spain",
            "Italy",
            "Russia",
            "Germany",
            "Brazil",
            "Turkey",
            "Iran",
            "Peru",
            "India",
            "Belgium",
            "Saudi Arabia",
            "Mexico",
            "Switzerland",
            "Ecuador",
            "Pakistan",
            "Portugal",
            "Chile",
            "Sweden",
            "Ireland"
           ],
           "xaxis": "x",
           "y": [
            6,
            2,
            3,
            2,
            15,
            0,
            0,
            49,
            0,
            3,
            1,
            0,
            0,
            0,
            0,
            0,
            0,
            0,
            0,
            0
           ],
           "yaxis": "y"
          }
         ],
         "name": "2/26/20"
        },
        {
         "data": [
          {
           "alignmentgroup": "True",
           "hovertemplate": "type=confirmed<br>date=2/27/20<br>country=%{x}<br>count=%{y}<extra></extra>",
           "legendgroup": "confirmed",
           "marker": {
            "color": "#636efa"
           },
           "name": "confirmed",
           "offsetgroup": "confirmed",
           "orientation": "v",
           "showlegend": true,
           "textposition": "auto",
           "type": "bar",
           "x": [
            "US",
            "Spain",
            "Italy",
            "Russia",
            "Germany",
            "Brazil",
            "Turkey",
            "Iran",
            "Peru",
            "India",
            "Belgium",
            "Saudi Arabia",
            "Mexico",
            "Switzerland",
            "Ecuador",
            "Pakistan",
            "Portugal",
            "Chile",
            "Sweden",
            "Ireland"
           ],
           "xaxis": "x",
           "y": [
            52,
            13,
            593,
            0,
            30,
            1,
            0,
            170,
            0,
            0,
            0,
            0,
            0,
            8,
            0,
            2,
            0,
            0,
            7,
            0
           ],
           "yaxis": "y"
          },
          {
           "alignmentgroup": "True",
           "hovertemplate": "type=death<br>date=2/27/20<br>country=%{x}<br>count=%{y}<extra></extra>",
           "legendgroup": "death",
           "marker": {
            "color": "#EF553B"
           },
           "name": "death",
           "offsetgroup": "death",
           "orientation": "v",
           "showlegend": true,
           "textposition": "auto",
           "type": "bar",
           "x": [
            "US",
            "Spain",
            "Italy",
            "Russia",
            "Germany",
            "Brazil",
            "Turkey",
            "Iran",
            "Peru",
            "India",
            "Belgium",
            "Saudi Arabia",
            "Mexico",
            "Switzerland",
            "Ecuador",
            "Pakistan",
            "Portugal",
            "Chile",
            "Sweden",
            "Ireland"
           ],
           "xaxis": "x",
           "y": [
            0,
            0,
            17,
            0,
            0,
            0,
            0,
            26,
            0,
            0,
            0,
            0,
            0,
            0,
            0,
            0,
            0,
            0,
            0,
            0
           ],
           "yaxis": "y"
          },
          {
           "alignmentgroup": "True",
           "hovertemplate": "type=recovered<br>date=2/27/20<br>country=%{x}<br>count=%{y}<extra></extra>",
           "legendgroup": "recovered",
           "marker": {
            "color": "#00cc96"
           },
           "name": "recovered",
           "offsetgroup": "recovered",
           "orientation": "v",
           "showlegend": true,
           "textposition": "auto",
           "type": "bar",
           "x": [
            "US",
            "Spain",
            "Italy",
            "Russia",
            "Germany",
            "Brazil",
            "Turkey",
            "Iran",
            "Peru",
            "India",
            "Belgium",
            "Saudi Arabia",
            "Mexico",
            "Switzerland",
            "Ecuador",
            "Pakistan",
            "Portugal",
            "Chile",
            "Sweden",
            "Ireland"
           ],
           "xaxis": "x",
           "y": [
            6,
            2,
            45,
            2,
            16,
            0,
            0,
            49,
            0,
            3,
            1,
            0,
            0,
            0,
            0,
            0,
            0,
            0,
            0,
            0
           ],
           "yaxis": "y"
          }
         ],
         "name": "2/27/20"
        },
        {
         "data": [
          {
           "alignmentgroup": "True",
           "hovertemplate": "type=confirmed<br>date=2/28/20<br>country=%{x}<br>count=%{y}<extra></extra>",
           "legendgroup": "confirmed",
           "marker": {
            "color": "#636efa"
           },
           "name": "confirmed",
           "offsetgroup": "confirmed",
           "orientation": "v",
           "showlegend": true,
           "textposition": "auto",
           "type": "bar",
           "x": [
            "US",
            "Spain",
            "Italy",
            "Russia",
            "Germany",
            "Brazil",
            "Turkey",
            "Iran",
            "Peru",
            "India",
            "Belgium",
            "Saudi Arabia",
            "Mexico",
            "Switzerland",
            "Ecuador",
            "Pakistan",
            "Portugal",
            "Chile",
            "Sweden",
            "Ireland"
           ],
           "xaxis": "x",
           "y": [
            53,
            30,
            821,
            0,
            32,
            1,
            0,
            281,
            0,
            0,
            0,
            0,
            1,
            8,
            0,
            2,
            0,
            0,
            7,
            0
           ],
           "yaxis": "y"
          },
          {
           "alignmentgroup": "True",
           "hovertemplate": "type=death<br>date=2/28/20<br>country=%{x}<br>count=%{y}<extra></extra>",
           "legendgroup": "death",
           "marker": {
            "color": "#EF553B"
           },
           "name": "death",
           "offsetgroup": "death",
           "orientation": "v",
           "showlegend": true,
           "textposition": "auto",
           "type": "bar",
           "x": [
            "US",
            "Spain",
            "Italy",
            "Russia",
            "Germany",
            "Brazil",
            "Turkey",
            "Iran",
            "Peru",
            "India",
            "Belgium",
            "Saudi Arabia",
            "Mexico",
            "Switzerland",
            "Ecuador",
            "Pakistan",
            "Portugal",
            "Chile",
            "Sweden",
            "Ireland"
           ],
           "xaxis": "x",
           "y": [
            0,
            0,
            21,
            0,
            0,
            0,
            0,
            34,
            0,
            0,
            0,
            0,
            0,
            0,
            0,
            0,
            0,
            0,
            0,
            0
           ],
           "yaxis": "y"
          },
          {
           "alignmentgroup": "True",
           "hovertemplate": "type=recovered<br>date=2/28/20<br>country=%{x}<br>count=%{y}<extra></extra>",
           "legendgroup": "recovered",
           "marker": {
            "color": "#00cc96"
           },
           "name": "recovered",
           "offsetgroup": "recovered",
           "orientation": "v",
           "showlegend": true,
           "textposition": "auto",
           "type": "bar",
           "x": [
            "US",
            "Spain",
            "Italy",
            "Russia",
            "Germany",
            "Brazil",
            "Turkey",
            "Iran",
            "Peru",
            "India",
            "Belgium",
            "Saudi Arabia",
            "Mexico",
            "Switzerland",
            "Ecuador",
            "Pakistan",
            "Portugal",
            "Chile",
            "Sweden",
            "Ireland"
           ],
           "xaxis": "x",
           "y": [
            7,
            2,
            46,
            2,
            16,
            0,
            0,
            73,
            0,
            3,
            1,
            0,
            0,
            0,
            0,
            0,
            0,
            0,
            0,
            0
           ],
           "yaxis": "y"
          }
         ],
         "name": "2/28/20"
        },
        {
         "data": [
          {
           "alignmentgroup": "True",
           "hovertemplate": "type=confirmed<br>date=2/29/20<br>country=%{x}<br>count=%{y}<extra></extra>",
           "legendgroup": "confirmed",
           "marker": {
            "color": "#636efa"
           },
           "name": "confirmed",
           "offsetgroup": "confirmed",
           "orientation": "v",
           "showlegend": true,
           "textposition": "auto",
           "type": "bar",
           "x": [
            "US",
            "Spain",
            "Italy",
            "Russia",
            "Germany",
            "Brazil",
            "Turkey",
            "Iran",
            "Peru",
            "India",
            "Belgium",
            "Saudi Arabia",
            "Mexico",
            "Switzerland",
            "Ecuador",
            "Pakistan",
            "Portugal",
            "Chile",
            "Sweden",
            "Ireland"
           ],
           "xaxis": "x",
           "y": [
            60,
            43,
            1053,
            0,
            63,
            2,
            0,
            427,
            0,
            0,
            0,
            0,
            4,
            18,
            0,
            4,
            0,
            0,
            12,
            1
           ],
           "yaxis": "y"
          },
          {
           "alignmentgroup": "True",
           "hovertemplate": "type=death<br>date=2/29/20<br>country=%{x}<br>count=%{y}<extra></extra>",
           "legendgroup": "death",
           "marker": {
            "color": "#EF553B"
           },
           "name": "death",
           "offsetgroup": "death",
           "orientation": "v",
           "showlegend": true,
           "textposition": "auto",
           "type": "bar",
           "x": [
            "US",
            "Spain",
            "Italy",
            "Russia",
            "Germany",
            "Brazil",
            "Turkey",
            "Iran",
            "Peru",
            "India",
            "Belgium",
            "Saudi Arabia",
            "Mexico",
            "Switzerland",
            "Ecuador",
            "Pakistan",
            "Portugal",
            "Chile",
            "Sweden",
            "Ireland"
           ],
           "xaxis": "x",
           "y": [
            1,
            0,
            29,
            0,
            0,
            0,
            0,
            43,
            0,
            0,
            0,
            0,
            0,
            0,
            0,
            0,
            0,
            0,
            0,
            0
           ],
           "yaxis": "y"
          },
          {
           "alignmentgroup": "True",
           "hovertemplate": "type=recovered<br>date=2/29/20<br>country=%{x}<br>count=%{y}<extra></extra>",
           "legendgroup": "recovered",
           "marker": {
            "color": "#00cc96"
           },
           "name": "recovered",
           "offsetgroup": "recovered",
           "orientation": "v",
           "showlegend": true,
           "textposition": "auto",
           "type": "bar",
           "x": [
            "US",
            "Spain",
            "Italy",
            "Russia",
            "Germany",
            "Brazil",
            "Turkey",
            "Iran",
            "Peru",
            "India",
            "Belgium",
            "Saudi Arabia",
            "Mexico",
            "Switzerland",
            "Ecuador",
            "Pakistan",
            "Portugal",
            "Chile",
            "Sweden",
            "Ireland"
           ],
           "xaxis": "x",
           "y": [
            7,
            2,
            46,
            2,
            16,
            0,
            0,
            123,
            0,
            3,
            1,
            0,
            0,
            0,
            0,
            0,
            0,
            0,
            0,
            0
           ],
           "yaxis": "y"
          }
         ],
         "name": "2/29/20"
        },
        {
         "data": [
          {
           "alignmentgroup": "True",
           "hovertemplate": "type=confirmed<br>date=3/1/20<br>country=%{x}<br>count=%{y}<extra></extra>",
           "legendgroup": "confirmed",
           "marker": {
            "color": "#636efa"
           },
           "name": "confirmed",
           "offsetgroup": "confirmed",
           "orientation": "v",
           "showlegend": true,
           "textposition": "auto",
           "type": "bar",
           "x": [
            "US",
            "Spain",
            "Italy",
            "Russia",
            "Germany",
            "Brazil",
            "Turkey",
            "Iran",
            "Peru",
            "India",
            "Belgium",
            "Saudi Arabia",
            "Mexico",
            "Switzerland",
            "Ecuador",
            "Pakistan",
            "Portugal",
            "Chile",
            "Sweden",
            "Ireland"
           ],
           "xaxis": "x",
           "y": [
            66,
            82,
            1577,
            0,
            114,
            2,
            0,
            749,
            0,
            0,
            1,
            0,
            5,
            27,
            6,
            4,
            0,
            0,
            14,
            1
           ],
           "yaxis": "y"
          },
          {
           "alignmentgroup": "True",
           "hovertemplate": "type=death<br>date=3/1/20<br>country=%{x}<br>count=%{y}<extra></extra>",
           "legendgroup": "death",
           "marker": {
            "color": "#EF553B"
           },
           "name": "death",
           "offsetgroup": "death",
           "orientation": "v",
           "showlegend": true,
           "textposition": "auto",
           "type": "bar",
           "x": [
            "US",
            "Spain",
            "Italy",
            "Russia",
            "Germany",
            "Brazil",
            "Turkey",
            "Iran",
            "Peru",
            "India",
            "Belgium",
            "Saudi Arabia",
            "Mexico",
            "Switzerland",
            "Ecuador",
            "Pakistan",
            "Portugal",
            "Chile",
            "Sweden",
            "Ireland"
           ],
           "xaxis": "x",
           "y": [
            1,
            0,
            34,
            0,
            0,
            0,
            0,
            54,
            0,
            0,
            0,
            0,
            0,
            0,
            0,
            0,
            0,
            0,
            0,
            0
           ],
           "yaxis": "y"
          },
          {
           "alignmentgroup": "True",
           "hovertemplate": "type=recovered<br>date=3/1/20<br>country=%{x}<br>count=%{y}<extra></extra>",
           "legendgroup": "recovered",
           "marker": {
            "color": "#00cc96"
           },
           "name": "recovered",
           "offsetgroup": "recovered",
           "orientation": "v",
           "showlegend": true,
           "textposition": "auto",
           "type": "bar",
           "x": [
            "US",
            "Spain",
            "Italy",
            "Russia",
            "Germany",
            "Brazil",
            "Turkey",
            "Iran",
            "Peru",
            "India",
            "Belgium",
            "Saudi Arabia",
            "Mexico",
            "Switzerland",
            "Ecuador",
            "Pakistan",
            "Portugal",
            "Chile",
            "Sweden",
            "Ireland"
           ],
           "xaxis": "x",
           "y": [
            7,
            2,
            83,
            2,
            16,
            0,
            0,
            175,
            0,
            3,
            1,
            0,
            0,
            0,
            0,
            0,
            0,
            0,
            0,
            0
           ],
           "yaxis": "y"
          }
         ],
         "name": "3/1/20"
        },
        {
         "data": [
          {
           "alignmentgroup": "True",
           "hovertemplate": "type=confirmed<br>date=3/2/20<br>country=%{x}<br>count=%{y}<extra></extra>",
           "legendgroup": "confirmed",
           "marker": {
            "color": "#636efa"
           },
           "name": "confirmed",
           "offsetgroup": "confirmed",
           "orientation": "v",
           "showlegend": true,
           "textposition": "auto",
           "type": "bar",
           "x": [
            "US",
            "Spain",
            "Italy",
            "Russia",
            "Germany",
            "Brazil",
            "Turkey",
            "Iran",
            "Peru",
            "India",
            "Belgium",
            "Saudi Arabia",
            "Mexico",
            "Switzerland",
            "Ecuador",
            "Pakistan",
            "Portugal",
            "Chile",
            "Sweden",
            "Ireland"
           ],
           "xaxis": "x",
           "y": [
            85,
            118,
            1835,
            1,
            143,
            2,
            0,
            1144,
            0,
            2,
            7,
            1,
            5,
            42,
            6,
            4,
            2,
            0,
            15,
            1
           ],
           "yaxis": "y"
          },
          {
           "alignmentgroup": "True",
           "hovertemplate": "type=death<br>date=3/2/20<br>country=%{x}<br>count=%{y}<extra></extra>",
           "legendgroup": "death",
           "marker": {
            "color": "#EF553B"
           },
           "name": "death",
           "offsetgroup": "death",
           "orientation": "v",
           "showlegend": true,
           "textposition": "auto",
           "type": "bar",
           "x": [
            "US",
            "Spain",
            "Italy",
            "Russia",
            "Germany",
            "Brazil",
            "Turkey",
            "Iran",
            "Peru",
            "India",
            "Belgium",
            "Saudi Arabia",
            "Mexico",
            "Switzerland",
            "Ecuador",
            "Pakistan",
            "Portugal",
            "Chile",
            "Sweden",
            "Ireland"
           ],
           "xaxis": "x",
           "y": [
            6,
            0,
            52,
            0,
            0,
            0,
            0,
            66,
            0,
            0,
            0,
            0,
            0,
            0,
            0,
            0,
            0,
            0,
            0,
            0
           ],
           "yaxis": "y"
          },
          {
           "alignmentgroup": "True",
           "hovertemplate": "type=recovered<br>date=3/2/20<br>country=%{x}<br>count=%{y}<extra></extra>",
           "legendgroup": "recovered",
           "marker": {
            "color": "#00cc96"
           },
           "name": "recovered",
           "offsetgroup": "recovered",
           "orientation": "v",
           "showlegend": true,
           "textposition": "auto",
           "type": "bar",
           "x": [
            "US",
            "Spain",
            "Italy",
            "Russia",
            "Germany",
            "Brazil",
            "Turkey",
            "Iran",
            "Peru",
            "India",
            "Belgium",
            "Saudi Arabia",
            "Mexico",
            "Switzerland",
            "Ecuador",
            "Pakistan",
            "Portugal",
            "Chile",
            "Sweden",
            "Ireland"
           ],
           "xaxis": "x",
           "y": [
            7,
            2,
            149,
            2,
            16,
            0,
            0,
            291,
            0,
            3,
            1,
            0,
            0,
            0,
            0,
            0,
            0,
            0,
            0,
            0
           ],
           "yaxis": "y"
          }
         ],
         "name": "3/2/20"
        },
        {
         "data": [
          {
           "alignmentgroup": "True",
           "hovertemplate": "type=confirmed<br>date=3/3/20<br>country=%{x}<br>count=%{y}<extra></extra>",
           "legendgroup": "confirmed",
           "marker": {
            "color": "#636efa"
           },
           "name": "confirmed",
           "offsetgroup": "confirmed",
           "orientation": "v",
           "showlegend": true,
           "textposition": "auto",
           "type": "bar",
           "x": [
            "US",
            "Spain",
            "Italy",
            "Russia",
            "Germany",
            "Brazil",
            "Turkey",
            "Iran",
            "Peru",
            "India",
            "Belgium",
            "Saudi Arabia",
            "Mexico",
            "Switzerland",
            "Ecuador",
            "Pakistan",
            "Portugal",
            "Chile",
            "Sweden",
            "Ireland"
           ],
           "xaxis": "x",
           "y": [
            104,
            162,
            2263,
            1,
            180,
            2,
            0,
            1968,
            0,
            2,
            12,
            1,
            4,
            54,
            7,
            5,
            2,
            1,
            21,
            2
           ],
           "yaxis": "y"
          },
          {
           "alignmentgroup": "True",
           "hovertemplate": "type=death<br>date=3/3/20<br>country=%{x}<br>count=%{y}<extra></extra>",
           "legendgroup": "death",
           "marker": {
            "color": "#EF553B"
           },
           "name": "death",
           "offsetgroup": "death",
           "orientation": "v",
           "showlegend": true,
           "textposition": "auto",
           "type": "bar",
           "x": [
            "US",
            "Spain",
            "Italy",
            "Russia",
            "Germany",
            "Brazil",
            "Turkey",
            "Iran",
            "Peru",
            "India",
            "Belgium",
            "Saudi Arabia",
            "Mexico",
            "Switzerland",
            "Ecuador",
            "Pakistan",
            "Portugal",
            "Chile",
            "Sweden",
            "Ireland"
           ],
           "xaxis": "x",
           "y": [
            7,
            1,
            79,
            0,
            0,
            0,
            0,
            77,
            0,
            0,
            0,
            0,
            0,
            0,
            0,
            0,
            0,
            0,
            0,
            0
           ],
           "yaxis": "y"
          },
          {
           "alignmentgroup": "True",
           "hovertemplate": "type=recovered<br>date=3/3/20<br>country=%{x}<br>count=%{y}<extra></extra>",
           "legendgroup": "recovered",
           "marker": {
            "color": "#00cc96"
           },
           "name": "recovered",
           "offsetgroup": "recovered",
           "orientation": "v",
           "showlegend": true,
           "textposition": "auto",
           "type": "bar",
           "x": [
            "US",
            "Spain",
            "Italy",
            "Russia",
            "Germany",
            "Brazil",
            "Turkey",
            "Iran",
            "Peru",
            "India",
            "Belgium",
            "Saudi Arabia",
            "Mexico",
            "Switzerland",
            "Ecuador",
            "Pakistan",
            "Portugal",
            "Chile",
            "Sweden",
            "Ireland"
           ],
           "xaxis": "x",
           "y": [
            7,
            2,
            160,
            2,
            16,
            0,
            0,
            291,
            0,
            3,
            1,
            0,
            1,
            2,
            0,
            0,
            0,
            0,
            0,
            0
           ],
           "yaxis": "y"
          }
         ],
         "name": "3/3/20"
        },
        {
         "data": [
          {
           "alignmentgroup": "True",
           "hovertemplate": "type=confirmed<br>date=3/4/20<br>country=%{x}<br>count=%{y}<extra></extra>",
           "legendgroup": "confirmed",
           "marker": {
            "color": "#636efa"
           },
           "name": "confirmed",
           "offsetgroup": "confirmed",
           "orientation": "v",
           "showlegend": true,
           "textposition": "auto",
           "type": "bar",
           "x": [
            "US",
            "Spain",
            "Italy",
            "Russia",
            "Germany",
            "Brazil",
            "Turkey",
            "Iran",
            "Peru",
            "India",
            "Belgium",
            "Saudi Arabia",
            "Mexico",
            "Switzerland",
            "Ecuador",
            "Pakistan",
            "Portugal",
            "Chile",
            "Sweden",
            "Ireland"
           ],
           "xaxis": "x",
           "y": [
            131,
            218,
            2706,
            1,
            246,
            4,
            0,
            2278,
            0,
            25,
            22,
            1,
            4,
            87,
            10,
            5,
            5,
            1,
            35,
            6
           ],
           "yaxis": "y"
          },
          {
           "alignmentgroup": "True",
           "hovertemplate": "type=death<br>date=3/4/20<br>country=%{x}<br>count=%{y}<extra></extra>",
           "legendgroup": "death",
           "marker": {
            "color": "#EF553B"
           },
           "name": "death",
           "offsetgroup": "death",
           "orientation": "v",
           "showlegend": true,
           "textposition": "auto",
           "type": "bar",
           "x": [
            "US",
            "Spain",
            "Italy",
            "Russia",
            "Germany",
            "Brazil",
            "Turkey",
            "Iran",
            "Peru",
            "India",
            "Belgium",
            "Saudi Arabia",
            "Mexico",
            "Switzerland",
            "Ecuador",
            "Pakistan",
            "Portugal",
            "Chile",
            "Sweden",
            "Ireland"
           ],
           "xaxis": "x",
           "y": [
            11,
            2,
            107,
            0,
            0,
            0,
            0,
            92,
            0,
            0,
            0,
            0,
            0,
            0,
            0,
            0,
            0,
            0,
            0,
            0
           ],
           "yaxis": "y"
          },
          {
           "alignmentgroup": "True",
           "hovertemplate": "type=recovered<br>date=3/4/20<br>country=%{x}<br>count=%{y}<extra></extra>",
           "legendgroup": "recovered",
           "marker": {
            "color": "#00cc96"
           },
           "name": "recovered",
           "offsetgroup": "recovered",
           "orientation": "v",
           "showlegend": true,
           "textposition": "auto",
           "type": "bar",
           "x": [
            "US",
            "Spain",
            "Italy",
            "Russia",
            "Germany",
            "Brazil",
            "Turkey",
            "Iran",
            "Peru",
            "India",
            "Belgium",
            "Saudi Arabia",
            "Mexico",
            "Switzerland",
            "Ecuador",
            "Pakistan",
            "Portugal",
            "Chile",
            "Sweden",
            "Ireland"
           ],
           "xaxis": "x",
           "y": [
            7,
            2,
            276,
            2,
            16,
            0,
            0,
            552,
            0,
            3,
            1,
            0,
            1,
            3,
            0,
            0,
            0,
            0,
            0,
            0
           ],
           "yaxis": "y"
          }
         ],
         "name": "3/4/20"
        },
        {
         "data": [
          {
           "alignmentgroup": "True",
           "hovertemplate": "type=confirmed<br>date=3/5/20<br>country=%{x}<br>count=%{y}<extra></extra>",
           "legendgroup": "confirmed",
           "marker": {
            "color": "#636efa"
           },
           "name": "confirmed",
           "offsetgroup": "confirmed",
           "orientation": "v",
           "showlegend": true,
           "textposition": "auto",
           "type": "bar",
           "x": [
            "US",
            "Spain",
            "Italy",
            "Russia",
            "Germany",
            "Brazil",
            "Turkey",
            "Iran",
            "Peru",
            "India",
            "Belgium",
            "Saudi Arabia",
            "Mexico",
            "Switzerland",
            "Ecuador",
            "Pakistan",
            "Portugal",
            "Chile",
            "Sweden",
            "Ireland"
           ],
           "xaxis": "x",
           "y": [
            198,
            254,
            3296,
            2,
            466,
            4,
            0,
            2667,
            0,
            27,
            49,
            5,
            4,
            110,
            13,
            5,
            8,
            4,
            94,
            6
           ],
           "yaxis": "y"
          },
          {
           "alignmentgroup": "True",
           "hovertemplate": "type=death<br>date=3/5/20<br>country=%{x}<br>count=%{y}<extra></extra>",
           "legendgroup": "death",
           "marker": {
            "color": "#EF553B"
           },
           "name": "death",
           "offsetgroup": "death",
           "orientation": "v",
           "showlegend": true,
           "textposition": "auto",
           "type": "bar",
           "x": [
            "US",
            "Spain",
            "Italy",
            "Russia",
            "Germany",
            "Brazil",
            "Turkey",
            "Iran",
            "Peru",
            "India",
            "Belgium",
            "Saudi Arabia",
            "Mexico",
            "Switzerland",
            "Ecuador",
            "Pakistan",
            "Portugal",
            "Chile",
            "Sweden",
            "Ireland"
           ],
           "xaxis": "x",
           "y": [
            12,
            3,
            148,
            0,
            0,
            0,
            0,
            107,
            0,
            0,
            0,
            0,
            0,
            1,
            0,
            0,
            0,
            0,
            0,
            0
           ],
           "yaxis": "y"
          },
          {
           "alignmentgroup": "True",
           "hovertemplate": "type=recovered<br>date=3/5/20<br>country=%{x}<br>count=%{y}<extra></extra>",
           "legendgroup": "recovered",
           "marker": {
            "color": "#00cc96"
           },
           "name": "recovered",
           "offsetgroup": "recovered",
           "orientation": "v",
           "showlegend": true,
           "textposition": "auto",
           "type": "bar",
           "x": [
            "US",
            "Spain",
            "Italy",
            "Russia",
            "Germany",
            "Brazil",
            "Turkey",
            "Iran",
            "Peru",
            "India",
            "Belgium",
            "Saudi Arabia",
            "Mexico",
            "Switzerland",
            "Ecuador",
            "Pakistan",
            "Portugal",
            "Chile",
            "Sweden",
            "Ireland"
           ],
           "xaxis": "x",
           "y": [
            7,
            2,
            414,
            2,
            16,
            0,
            0,
            739,
            0,
            3,
            1,
            0,
            1,
            3,
            0,
            0,
            0,
            0,
            0,
            0
           ],
           "yaxis": "y"
          }
         ],
         "name": "3/5/20"
        },
        {
         "data": [
          {
           "alignmentgroup": "True",
           "hovertemplate": "type=confirmed<br>date=3/6/20<br>country=%{x}<br>count=%{y}<extra></extra>",
           "legendgroup": "confirmed",
           "marker": {
            "color": "#636efa"
           },
           "name": "confirmed",
           "offsetgroup": "confirmed",
           "orientation": "v",
           "showlegend": true,
           "textposition": "auto",
           "type": "bar",
           "x": [
            "US",
            "Spain",
            "Italy",
            "Russia",
            "Germany",
            "Brazil",
            "Turkey",
            "Iran",
            "Peru",
            "India",
            "Belgium",
            "Saudi Arabia",
            "Mexico",
            "Switzerland",
            "Ecuador",
            "Pakistan",
            "Portugal",
            "Chile",
            "Sweden",
            "Ireland"
           ],
           "xaxis": "x",
           "y": [
            241,
            393,
            3916,
            11,
            653,
            13,
            0,
            3710,
            1,
            28,
            108,
            5,
            5,
            210,
            13,
            6,
            13,
            4,
            101,
            18
           ],
           "yaxis": "y"
          },
          {
           "alignmentgroup": "True",
           "hovertemplate": "type=death<br>date=3/6/20<br>country=%{x}<br>count=%{y}<extra></extra>",
           "legendgroup": "death",
           "marker": {
            "color": "#EF553B"
           },
           "name": "death",
           "offsetgroup": "death",
           "orientation": "v",
           "showlegend": true,
           "textposition": "auto",
           "type": "bar",
           "x": [
            "US",
            "Spain",
            "Italy",
            "Russia",
            "Germany",
            "Brazil",
            "Turkey",
            "Iran",
            "Peru",
            "India",
            "Belgium",
            "Saudi Arabia",
            "Mexico",
            "Switzerland",
            "Ecuador",
            "Pakistan",
            "Portugal",
            "Chile",
            "Sweden",
            "Ireland"
           ],
           "xaxis": "x",
           "y": [
            14,
            5,
            197,
            0,
            0,
            0,
            0,
            124,
            0,
            0,
            0,
            0,
            0,
            1,
            0,
            0,
            0,
            0,
            0,
            0
           ],
           "yaxis": "y"
          },
          {
           "alignmentgroup": "True",
           "hovertemplate": "type=recovered<br>date=3/6/20<br>country=%{x}<br>count=%{y}<extra></extra>",
           "legendgroup": "recovered",
           "marker": {
            "color": "#00cc96"
           },
           "name": "recovered",
           "offsetgroup": "recovered",
           "orientation": "v",
           "showlegend": true,
           "textposition": "auto",
           "type": "bar",
           "x": [
            "US",
            "Spain",
            "Italy",
            "Russia",
            "Germany",
            "Brazil",
            "Turkey",
            "Iran",
            "Peru",
            "India",
            "Belgium",
            "Saudi Arabia",
            "Mexico",
            "Switzerland",
            "Ecuador",
            "Pakistan",
            "Portugal",
            "Chile",
            "Sweden",
            "Ireland"
           ],
           "xaxis": "x",
           "y": [
            7,
            2,
            523,
            2,
            17,
            0,
            0,
            913,
            0,
            3,
            1,
            0,
            1,
            3,
            0,
            0,
            0,
            0,
            0,
            0
           ],
           "yaxis": "y"
          }
         ],
         "name": "3/6/20"
        },
        {
         "data": [
          {
           "alignmentgroup": "True",
           "hovertemplate": "type=confirmed<br>date=3/7/20<br>country=%{x}<br>count=%{y}<extra></extra>",
           "legendgroup": "confirmed",
           "marker": {
            "color": "#636efa"
           },
           "name": "confirmed",
           "offsetgroup": "confirmed",
           "orientation": "v",
           "showlegend": true,
           "textposition": "auto",
           "type": "bar",
           "x": [
            "US",
            "Spain",
            "Italy",
            "Russia",
            "Germany",
            "Brazil",
            "Turkey",
            "Iran",
            "Peru",
            "India",
            "Belgium",
            "Saudi Arabia",
            "Mexico",
            "Switzerland",
            "Ecuador",
            "Pakistan",
            "Portugal",
            "Chile",
            "Sweden",
            "Ireland"
           ],
           "xaxis": "x",
           "y": [
            378,
            460,
            5061,
            11,
            781,
            13,
            0,
            4009,
            1,
            31,
            168,
            5,
            5,
            264,
            13,
            6,
            20,
            4,
            161,
            18
           ],
           "yaxis": "y"
          },
          {
           "alignmentgroup": "True",
           "hovertemplate": "type=death<br>date=3/7/20<br>country=%{x}<br>count=%{y}<extra></extra>",
           "legendgroup": "death",
           "marker": {
            "color": "#EF553B"
           },
           "name": "death",
           "offsetgroup": "death",
           "orientation": "v",
           "showlegend": true,
           "textposition": "auto",
           "type": "bar",
           "x": [
            "US",
            "Spain",
            "Italy",
            "Russia",
            "Germany",
            "Brazil",
            "Turkey",
            "Iran",
            "Peru",
            "India",
            "Belgium",
            "Saudi Arabia",
            "Mexico",
            "Switzerland",
            "Ecuador",
            "Pakistan",
            "Portugal",
            "Chile",
            "Sweden",
            "Ireland"
           ],
           "xaxis": "x",
           "y": [
            17,
            10,
            233,
            0,
            0,
            0,
            0,
            145,
            0,
            0,
            0,
            0,
            0,
            1,
            0,
            0,
            0,
            0,
            0,
            0
           ],
           "yaxis": "y"
          },
          {
           "alignmentgroup": "True",
           "hovertemplate": "type=recovered<br>date=3/7/20<br>country=%{x}<br>count=%{y}<extra></extra>",
           "legendgroup": "recovered",
           "marker": {
            "color": "#00cc96"
           },
           "name": "recovered",
           "offsetgroup": "recovered",
           "orientation": "v",
           "showlegend": true,
           "textposition": "auto",
           "type": "bar",
           "x": [
            "US",
            "Spain",
            "Italy",
            "Russia",
            "Germany",
            "Brazil",
            "Turkey",
            "Iran",
            "Peru",
            "India",
            "Belgium",
            "Saudi Arabia",
            "Mexico",
            "Switzerland",
            "Ecuador",
            "Pakistan",
            "Portugal",
            "Chile",
            "Sweden",
            "Ireland"
           ],
           "xaxis": "x",
           "y": [
            7,
            30,
            589,
            2,
            18,
            0,
            0,
            1669,
            0,
            3,
            1,
            0,
            1,
            3,
            0,
            0,
            0,
            0,
            0,
            0
           ],
           "yaxis": "y"
          }
         ],
         "name": "3/7/20"
        },
        {
         "data": [
          {
           "alignmentgroup": "True",
           "hovertemplate": "type=confirmed<br>date=3/8/20<br>country=%{x}<br>count=%{y}<extra></extra>",
           "legendgroup": "confirmed",
           "marker": {
            "color": "#636efa"
           },
           "name": "confirmed",
           "offsetgroup": "confirmed",
           "orientation": "v",
           "showlegend": true,
           "textposition": "auto",
           "type": "bar",
           "x": [
            "US",
            "Spain",
            "Italy",
            "Russia",
            "Germany",
            "Brazil",
            "Turkey",
            "Iran",
            "Peru",
            "India",
            "Belgium",
            "Saudi Arabia",
            "Mexico",
            "Switzerland",
            "Ecuador",
            "Pakistan",
            "Portugal",
            "Chile",
            "Sweden",
            "Ireland"
           ],
           "xaxis": "x",
           "y": [
            490,
            626,
            6387,
            14,
            1022,
            20,
            0,
            4238,
            6,
            36,
            199,
            11,
            6,
            332,
            14,
            5,
            30,
            8,
            203,
            19
           ],
           "yaxis": "y"
          },
          {
           "alignmentgroup": "True",
           "hovertemplate": "type=death<br>date=3/8/20<br>country=%{x}<br>count=%{y}<extra></extra>",
           "legendgroup": "death",
           "marker": {
            "color": "#EF553B"
           },
           "name": "death",
           "offsetgroup": "death",
           "orientation": "v",
           "showlegend": true,
           "textposition": "auto",
           "type": "bar",
           "x": [
            "US",
            "Spain",
            "Italy",
            "Russia",
            "Germany",
            "Brazil",
            "Turkey",
            "Iran",
            "Peru",
            "India",
            "Belgium",
            "Saudi Arabia",
            "Mexico",
            "Switzerland",
            "Ecuador",
            "Pakistan",
            "Portugal",
            "Chile",
            "Sweden",
            "Ireland"
           ],
           "xaxis": "x",
           "y": [
            21,
            17,
            366,
            0,
            0,
            0,
            0,
            194,
            0,
            0,
            0,
            0,
            0,
            2,
            0,
            0,
            0,
            0,
            0,
            0
           ],
           "yaxis": "y"
          },
          {
           "alignmentgroup": "True",
           "hovertemplate": "type=recovered<br>date=3/8/20<br>country=%{x}<br>count=%{y}<extra></extra>",
           "legendgroup": "recovered",
           "marker": {
            "color": "#00cc96"
           },
           "name": "recovered",
           "offsetgroup": "recovered",
           "orientation": "v",
           "showlegend": true,
           "textposition": "auto",
           "type": "bar",
           "x": [
            "US",
            "Spain",
            "Italy",
            "Russia",
            "Germany",
            "Brazil",
            "Turkey",
            "Iran",
            "Peru",
            "India",
            "Belgium",
            "Saudi Arabia",
            "Mexico",
            "Switzerland",
            "Ecuador",
            "Pakistan",
            "Portugal",
            "Chile",
            "Sweden",
            "Ireland"
           ],
           "xaxis": "x",
           "y": [
            7,
            30,
            622,
            3,
            18,
            0,
            0,
            2134,
            0,
            3,
            1,
            0,
            1,
            3,
            0,
            1,
            0,
            0,
            0,
            0
           ],
           "yaxis": "y"
          }
         ],
         "name": "3/8/20"
        },
        {
         "data": [
          {
           "alignmentgroup": "True",
           "hovertemplate": "type=confirmed<br>date=3/9/20<br>country=%{x}<br>count=%{y}<extra></extra>",
           "legendgroup": "confirmed",
           "marker": {
            "color": "#636efa"
           },
           "name": "confirmed",
           "offsetgroup": "confirmed",
           "orientation": "v",
           "showlegend": true,
           "textposition": "auto",
           "type": "bar",
           "x": [
            "US",
            "Spain",
            "Italy",
            "Russia",
            "Germany",
            "Brazil",
            "Turkey",
            "Iran",
            "Peru",
            "India",
            "Belgium",
            "Saudi Arabia",
            "Mexico",
            "Switzerland",
            "Ecuador",
            "Pakistan",
            "Portugal",
            "Chile",
            "Sweden",
            "Ireland"
           ],
           "xaxis": "x",
           "y": [
            554,
            1013,
            7985,
            14,
            1156,
            25,
            0,
            4530,
            7,
            40,
            238,
            15,
            6,
            369,
            15,
            5,
            30,
            8,
            247,
            21
           ],
           "yaxis": "y"
          },
          {
           "alignmentgroup": "True",
           "hovertemplate": "type=death<br>date=3/9/20<br>country=%{x}<br>count=%{y}<extra></extra>",
           "legendgroup": "death",
           "marker": {
            "color": "#EF553B"
           },
           "name": "death",
           "offsetgroup": "death",
           "orientation": "v",
           "showlegend": true,
           "textposition": "auto",
           "type": "bar",
           "x": [
            "US",
            "Spain",
            "Italy",
            "Russia",
            "Germany",
            "Brazil",
            "Turkey",
            "Iran",
            "Peru",
            "India",
            "Belgium",
            "Saudi Arabia",
            "Mexico",
            "Switzerland",
            "Ecuador",
            "Pakistan",
            "Portugal",
            "Chile",
            "Sweden",
            "Ireland"
           ],
           "xaxis": "x",
           "y": [
            22,
            28,
            463,
            0,
            2,
            0,
            0,
            237,
            0,
            0,
            0,
            0,
            0,
            2,
            0,
            0,
            0,
            0,
            0,
            0
           ],
           "yaxis": "y"
          },
          {
           "alignmentgroup": "True",
           "hovertemplate": "type=recovered<br>date=3/9/20<br>country=%{x}<br>count=%{y}<extra></extra>",
           "legendgroup": "recovered",
           "marker": {
            "color": "#00cc96"
           },
           "name": "recovered",
           "offsetgroup": "recovered",
           "orientation": "v",
           "showlegend": true,
           "textposition": "auto",
           "type": "bar",
           "x": [
            "US",
            "Spain",
            "Italy",
            "Russia",
            "Germany",
            "Brazil",
            "Turkey",
            "Iran",
            "Peru",
            "India",
            "Belgium",
            "Saudi Arabia",
            "Mexico",
            "Switzerland",
            "Ecuador",
            "Pakistan",
            "Portugal",
            "Chile",
            "Sweden",
            "Ireland"
           ],
           "xaxis": "x",
           "y": [
            7,
            32,
            724,
            3,
            18,
            0,
            0,
            2394,
            0,
            3,
            1,
            0,
            1,
            3,
            0,
            1,
            0,
            0,
            1,
            0
           ],
           "yaxis": "y"
          }
         ],
         "name": "3/9/20"
        },
        {
         "data": [
          {
           "alignmentgroup": "True",
           "hovertemplate": "type=confirmed<br>date=3/10/20<br>country=%{x}<br>count=%{y}<extra></extra>",
           "legendgroup": "confirmed",
           "marker": {
            "color": "#636efa"
           },
           "name": "confirmed",
           "offsetgroup": "confirmed",
           "orientation": "v",
           "showlegend": true,
           "textposition": "auto",
           "type": "bar",
           "x": [
            "US",
            "Spain",
            "Italy",
            "Russia",
            "Germany",
            "Brazil",
            "Turkey",
            "Iran",
            "Peru",
            "India",
            "Belgium",
            "Saudi Arabia",
            "Mexico",
            "Switzerland",
            "Ecuador",
            "Pakistan",
            "Portugal",
            "Chile",
            "Sweden",
            "Ireland"
           ],
           "xaxis": "x",
           "y": [
            923,
            1628,
            8794,
            17,
            1437,
            31,
            0,
            5020,
            11,
            52,
            266,
            19,
            3,
            485,
            15,
            15,
            41,
            13,
            354,
            34
           ],
           "yaxis": "y"
          },
          {
           "alignmentgroup": "True",
           "hovertemplate": "type=death<br>date=3/10/20<br>country=%{x}<br>count=%{y}<extra></extra>",
           "legendgroup": "death",
           "marker": {
            "color": "#EF553B"
           },
           "name": "death",
           "offsetgroup": "death",
           "orientation": "v",
           "showlegend": true,
           "textposition": "auto",
           "type": "bar",
           "x": [
            "US",
            "Spain",
            "Italy",
            "Russia",
            "Germany",
            "Brazil",
            "Turkey",
            "Iran",
            "Peru",
            "India",
            "Belgium",
            "Saudi Arabia",
            "Mexico",
            "Switzerland",
            "Ecuador",
            "Pakistan",
            "Portugal",
            "Chile",
            "Sweden",
            "Ireland"
           ],
           "xaxis": "x",
           "y": [
            28,
            35,
            631,
            0,
            2,
            0,
            0,
            291,
            0,
            0,
            0,
            0,
            0,
            3,
            0,
            0,
            0,
            0,
            0,
            0
           ],
           "yaxis": "y"
          },
          {
           "alignmentgroup": "True",
           "hovertemplate": "type=recovered<br>date=3/10/20<br>country=%{x}<br>count=%{y}<extra></extra>",
           "legendgroup": "recovered",
           "marker": {
            "color": "#00cc96"
           },
           "name": "recovered",
           "offsetgroup": "recovered",
           "orientation": "v",
           "showlegend": true,
           "textposition": "auto",
           "type": "bar",
           "x": [
            "US",
            "Spain",
            "Italy",
            "Russia",
            "Germany",
            "Brazil",
            "Turkey",
            "Iran",
            "Peru",
            "India",
            "Belgium",
            "Saudi Arabia",
            "Mexico",
            "Switzerland",
            "Ecuador",
            "Pakistan",
            "Portugal",
            "Chile",
            "Sweden",
            "Ireland"
           ],
           "xaxis": "x",
           "y": [
            8,
            32,
            724,
            3,
            18,
            0,
            0,
            2731,
            0,
            4,
            1,
            1,
            4,
            3,
            0,
            1,
            0,
            0,
            1,
            0
           ],
           "yaxis": "y"
          }
         ],
         "name": "3/10/20"
        },
        {
         "data": [
          {
           "alignmentgroup": "True",
           "hovertemplate": "type=confirmed<br>date=3/11/20<br>country=%{x}<br>count=%{y}<extra></extra>",
           "legendgroup": "confirmed",
           "marker": {
            "color": "#636efa"
           },
           "name": "confirmed",
           "offsetgroup": "confirmed",
           "orientation": "v",
           "showlegend": true,
           "textposition": "auto",
           "type": "bar",
           "x": [
            "US",
            "Spain",
            "Italy",
            "Russia",
            "Germany",
            "Brazil",
            "Turkey",
            "Iran",
            "Peru",
            "India",
            "Belgium",
            "Saudi Arabia",
            "Mexico",
            "Switzerland",
            "Ecuador",
            "Pakistan",
            "Portugal",
            "Chile",
            "Sweden",
            "Ireland"
           ],
           "xaxis": "x",
           "y": [
            1237,
            2040,
            10590,
            17,
            1880,
            38,
            1,
            5687,
            11,
            57,
            310,
            20,
            4,
            644,
            17,
            17,
            59,
            23,
            498,
            42
           ],
           "yaxis": "y"
          },
          {
           "alignmentgroup": "True",
           "hovertemplate": "type=death<br>date=3/11/20<br>country=%{x}<br>count=%{y}<extra></extra>",
           "legendgroup": "death",
           "marker": {
            "color": "#EF553B"
           },
           "name": "death",
           "offsetgroup": "death",
           "orientation": "v",
           "showlegend": true,
           "textposition": "auto",
           "type": "bar",
           "x": [
            "US",
            "Spain",
            "Italy",
            "Russia",
            "Germany",
            "Brazil",
            "Turkey",
            "Iran",
            "Peru",
            "India",
            "Belgium",
            "Saudi Arabia",
            "Mexico",
            "Switzerland",
            "Ecuador",
            "Pakistan",
            "Portugal",
            "Chile",
            "Sweden",
            "Ireland"
           ],
           "xaxis": "x",
           "y": [
            36,
            54,
            827,
            0,
            3,
            0,
            0,
            354,
            0,
            1,
            3,
            0,
            0,
            4,
            0,
            0,
            0,
            0,
            1,
            1
           ],
           "yaxis": "y"
          },
          {
           "alignmentgroup": "True",
           "hovertemplate": "type=recovered<br>date=3/11/20<br>country=%{x}<br>count=%{y}<extra></extra>",
           "legendgroup": "recovered",
           "marker": {
            "color": "#00cc96"
           },
           "name": "recovered",
           "offsetgroup": "recovered",
           "orientation": "v",
           "showlegend": true,
           "textposition": "auto",
           "type": "bar",
           "x": [
            "US",
            "Spain",
            "Italy",
            "Russia",
            "Germany",
            "Brazil",
            "Turkey",
            "Iran",
            "Peru",
            "India",
            "Belgium",
            "Saudi Arabia",
            "Mexico",
            "Switzerland",
            "Ecuador",
            "Pakistan",
            "Portugal",
            "Chile",
            "Sweden",
            "Ireland"
           ],
           "xaxis": "x",
           "y": [
            8,
            183,
            1045,
            3,
            25,
            0,
            0,
            2959,
            0,
            4,
            1,
            1,
            4,
            4,
            0,
            2,
            0,
            0,
            1,
            0
           ],
           "yaxis": "y"
          }
         ],
         "name": "3/11/20"
        },
        {
         "data": [
          {
           "alignmentgroup": "True",
           "hovertemplate": "type=confirmed<br>date=3/12/20<br>country=%{x}<br>count=%{y}<extra></extra>",
           "legendgroup": "confirmed",
           "marker": {
            "color": "#636efa"
           },
           "name": "confirmed",
           "offsetgroup": "confirmed",
           "orientation": "v",
           "showlegend": true,
           "textposition": "auto",
           "type": "bar",
           "x": [
            "US",
            "Spain",
            "Italy",
            "Russia",
            "Germany",
            "Brazil",
            "Turkey",
            "Iran",
            "Peru",
            "India",
            "Belgium",
            "Saudi Arabia",
            "Mexico",
            "Switzerland",
            "Ecuador",
            "Pakistan",
            "Portugal",
            "Chile",
            "Sweden",
            "Ireland"
           ],
           "xaxis": "x",
           "y": [
            1610,
            2039,
            10590,
            25,
            2050,
            52,
            1,
            6687,
            15,
            68,
            310,
            44,
            8,
            644,
            17,
            18,
            59,
            23,
            597,
            42
           ],
           "yaxis": "y"
          },
          {
           "alignmentgroup": "True",
           "hovertemplate": "type=death<br>date=3/12/20<br>country=%{x}<br>count=%{y}<extra></extra>",
           "legendgroup": "death",
           "marker": {
            "color": "#EF553B"
           },
           "name": "death",
           "offsetgroup": "death",
           "orientation": "v",
           "showlegend": true,
           "textposition": "auto",
           "type": "bar",
           "x": [
            "US",
            "Spain",
            "Italy",
            "Russia",
            "Germany",
            "Brazil",
            "Turkey",
            "Iran",
            "Peru",
            "India",
            "Belgium",
            "Saudi Arabia",
            "Mexico",
            "Switzerland",
            "Ecuador",
            "Pakistan",
            "Portugal",
            "Chile",
            "Sweden",
            "Ireland"
           ],
           "xaxis": "x",
           "y": [
            41,
            55,
            827,
            0,
            3,
            0,
            0,
            429,
            0,
            1,
            3,
            0,
            0,
            4,
            0,
            0,
            0,
            0,
            1,
            1
           ],
           "yaxis": "y"
          },
          {
           "alignmentgroup": "True",
           "hovertemplate": "type=recovered<br>date=3/12/20<br>country=%{x}<br>count=%{y}<extra></extra>",
           "legendgroup": "recovered",
           "marker": {
            "color": "#00cc96"
           },
           "name": "recovered",
           "offsetgroup": "recovered",
           "orientation": "v",
           "showlegend": true,
           "textposition": "auto",
           "type": "bar",
           "x": [
            "US",
            "Spain",
            "Italy",
            "Russia",
            "Germany",
            "Brazil",
            "Turkey",
            "Iran",
            "Peru",
            "India",
            "Belgium",
            "Saudi Arabia",
            "Mexico",
            "Switzerland",
            "Ecuador",
            "Pakistan",
            "Portugal",
            "Chile",
            "Sweden",
            "Ireland"
           ],
           "xaxis": "x",
           "y": [
            12,
            183,
            1045,
            3,
            25,
            0,
            0,
            2959,
            0,
            4,
            1,
            1,
            4,
            4,
            0,
            2,
            0,
            0,
            1,
            0
           ],
           "yaxis": "y"
          }
         ],
         "name": "3/12/20"
        },
        {
         "data": [
          {
           "alignmentgroup": "True",
           "hovertemplate": "type=confirmed<br>date=3/13/20<br>country=%{x}<br>count=%{y}<extra></extra>",
           "legendgroup": "confirmed",
           "marker": {
            "color": "#636efa"
           },
           "name": "confirmed",
           "offsetgroup": "confirmed",
           "orientation": "v",
           "showlegend": true,
           "textposition": "auto",
           "type": "bar",
           "x": [
            "US",
            "Spain",
            "Italy",
            "Russia",
            "Germany",
            "Brazil",
            "Turkey",
            "Iran",
            "Peru",
            "India",
            "Belgium",
            "Saudi Arabia",
            "Mexico",
            "Switzerland",
            "Ecuador",
            "Pakistan",
            "Portugal",
            "Chile",
            "Sweden",
            "Ireland"
           ],
           "xaxis": "x",
           "y": [
            2118,
            4906,
            14955,
            42,
            3622,
            151,
            5,
            7891,
            28,
            76,
            555,
            85,
            22,
            1124,
            17,
            26,
            111,
            43,
            812,
            89
           ],
           "yaxis": "y"
          },
          {
           "alignmentgroup": "True",
           "hovertemplate": "type=death<br>date=3/13/20<br>country=%{x}<br>count=%{y}<extra></extra>",
           "legendgroup": "death",
           "marker": {
            "color": "#EF553B"
           },
           "name": "death",
           "offsetgroup": "death",
           "orientation": "v",
           "showlegend": true,
           "textposition": "auto",
           "type": "bar",
           "x": [
            "US",
            "Spain",
            "Italy",
            "Russia",
            "Germany",
            "Brazil",
            "Turkey",
            "Iran",
            "Peru",
            "India",
            "Belgium",
            "Saudi Arabia",
            "Mexico",
            "Switzerland",
            "Ecuador",
            "Pakistan",
            "Portugal",
            "Chile",
            "Sweden",
            "Ireland"
           ],
           "xaxis": "x",
           "y": [
            49,
            133,
            1266,
            0,
            7,
            0,
            0,
            514,
            0,
            2,
            3,
            0,
            0,
            11,
            0,
            0,
            0,
            0,
            1,
            1
           ],
           "yaxis": "y"
          },
          {
           "alignmentgroup": "True",
           "hovertemplate": "type=recovered<br>date=3/13/20<br>country=%{x}<br>count=%{y}<extra></extra>",
           "legendgroup": "recovered",
           "marker": {
            "color": "#00cc96"
           },
           "name": "recovered",
           "offsetgroup": "recovered",
           "orientation": "v",
           "showlegend": true,
           "textposition": "auto",
           "type": "bar",
           "x": [
            "US",
            "Spain",
            "Italy",
            "Russia",
            "Germany",
            "Brazil",
            "Turkey",
            "Iran",
            "Peru",
            "India",
            "Belgium",
            "Saudi Arabia",
            "Mexico",
            "Switzerland",
            "Ecuador",
            "Pakistan",
            "Portugal",
            "Chile",
            "Sweden",
            "Ireland"
           ],
           "xaxis": "x",
           "y": [
            12,
            193,
            1439,
            3,
            46,
            0,
            0,
            2959,
            0,
            4,
            1,
            1,
            4,
            4,
            0,
            2,
            1,
            0,
            1,
            0
           ],
           "yaxis": "y"
          }
         ],
         "name": "3/13/20"
        },
        {
         "data": [
          {
           "alignmentgroup": "True",
           "hovertemplate": "type=confirmed<br>date=3/14/20<br>country=%{x}<br>count=%{y}<extra></extra>",
           "legendgroup": "confirmed",
           "marker": {
            "color": "#636efa"
           },
           "name": "confirmed",
           "offsetgroup": "confirmed",
           "orientation": "v",
           "showlegend": true,
           "textposition": "auto",
           "type": "bar",
           "x": [
            "US",
            "Spain",
            "Italy",
            "Russia",
            "Germany",
            "Brazil",
            "Turkey",
            "Iran",
            "Peru",
            "India",
            "Belgium",
            "Saudi Arabia",
            "Mexico",
            "Switzerland",
            "Ecuador",
            "Pakistan",
            "Portugal",
            "Chile",
            "Sweden",
            "Ireland"
           ],
           "xaxis": "x",
           "y": [
            2657,
            5679,
            17750,
            51,
            4530,
            151,
            5,
            9159,
            38,
            96,
            684,
            102,
            37,
            1342,
            26,
            29,
            167,
            61,
            958,
            127
           ],
           "yaxis": "y"
          },
          {
           "alignmentgroup": "True",
           "hovertemplate": "type=death<br>date=3/14/20<br>country=%{x}<br>count=%{y}<extra></extra>",
           "legendgroup": "death",
           "marker": {
            "color": "#EF553B"
           },
           "name": "death",
           "offsetgroup": "death",
           "orientation": "v",
           "showlegend": true,
           "textposition": "auto",
           "type": "bar",
           "x": [
            "US",
            "Spain",
            "Italy",
            "Russia",
            "Germany",
            "Brazil",
            "Turkey",
            "Iran",
            "Peru",
            "India",
            "Belgium",
            "Saudi Arabia",
            "Mexico",
            "Switzerland",
            "Ecuador",
            "Pakistan",
            "Portugal",
            "Chile",
            "Sweden",
            "Ireland"
           ],
           "xaxis": "x",
           "y": [
            58,
            195,
            1441,
            0,
            9,
            0,
            0,
            611,
            0,
            2,
            4,
            0,
            0,
            13,
            2,
            0,
            0,
            0,
            2,
            2
           ],
           "yaxis": "y"
          },
          {
           "alignmentgroup": "True",
           "hovertemplate": "type=recovered<br>date=3/14/20<br>country=%{x}<br>count=%{y}<extra></extra>",
           "legendgroup": "recovered",
           "marker": {
            "color": "#00cc96"
           },
           "name": "recovered",
           "offsetgroup": "recovered",
           "orientation": "v",
           "showlegend": true,
           "textposition": "auto",
           "type": "bar",
           "x": [
            "US",
            "Spain",
            "Italy",
            "Russia",
            "Germany",
            "Brazil",
            "Turkey",
            "Iran",
            "Peru",
            "India",
            "Belgium",
            "Saudi Arabia",
            "Mexico",
            "Switzerland",
            "Ecuador",
            "Pakistan",
            "Portugal",
            "Chile",
            "Sweden",
            "Ireland"
           ],
           "xaxis": "x",
           "y": [
            12,
            517,
            1966,
            8,
            46,
            0,
            0,
            2959,
            0,
            4,
            1,
            1,
            4,
            4,
            0,
            2,
            2,
            0,
            1,
            0
           ],
           "yaxis": "y"
          }
         ],
         "name": "3/14/20"
        },
        {
         "data": [
          {
           "alignmentgroup": "True",
           "hovertemplate": "type=confirmed<br>date=3/15/20<br>country=%{x}<br>count=%{y}<extra></extra>",
           "legendgroup": "confirmed",
           "marker": {
            "color": "#636efa"
           },
           "name": "confirmed",
           "offsetgroup": "confirmed",
           "orientation": "v",
           "showlegend": true,
           "textposition": "auto",
           "type": "bar",
           "x": [
            "US",
            "Spain",
            "Italy",
            "Russia",
            "Germany",
            "Brazil",
            "Turkey",
            "Iran",
            "Peru",
            "India",
            "Belgium",
            "Saudi Arabia",
            "Mexico",
            "Switzerland",
            "Ecuador",
            "Pakistan",
            "Portugal",
            "Chile",
            "Sweden",
            "Ireland"
           ],
           "xaxis": "x",
           "y": [
            3414,
            6992,
            20603,
            55,
            5738,
            162,
            6,
            8624,
            43,
            98,
            881,
            102,
            49,
            2182,
            26,
            51,
            243,
            74,
            1018,
            127
           ],
           "yaxis": "y"
          },
          {
           "alignmentgroup": "True",
           "hovertemplate": "type=death<br>date=3/15/20<br>country=%{x}<br>count=%{y}<extra></extra>",
           "legendgroup": "death",
           "marker": {
            "color": "#EF553B"
           },
           "name": "death",
           "offsetgroup": "death",
           "orientation": "v",
           "showlegend": true,
           "textposition": "auto",
           "type": "bar",
           "x": [
            "US",
            "Spain",
            "Italy",
            "Russia",
            "Germany",
            "Brazil",
            "Turkey",
            "Iran",
            "Peru",
            "India",
            "Belgium",
            "Saudi Arabia",
            "Mexico",
            "Switzerland",
            "Ecuador",
            "Pakistan",
            "Portugal",
            "Chile",
            "Sweden",
            "Ireland"
           ],
           "xaxis": "x",
           "y": [
            73,
            289,
            1809,
            0,
            11,
            0,
            0,
            724,
            0,
            2,
            4,
            0,
            0,
            14,
            2,
            0,
            0,
            0,
            3,
            2
           ],
           "yaxis": "y"
          },
          {
           "alignmentgroup": "True",
           "hovertemplate": "type=recovered<br>date=3/15/20<br>country=%{x}<br>count=%{y}<extra></extra>",
           "legendgroup": "recovered",
           "marker": {
            "color": "#00cc96"
           },
           "name": "recovered",
           "offsetgroup": "recovered",
           "orientation": "v",
           "showlegend": true,
           "textposition": "auto",
           "type": "bar",
           "x": [
            "US",
            "Spain",
            "Italy",
            "Russia",
            "Germany",
            "Brazil",
            "Turkey",
            "Iran",
            "Peru",
            "India",
            "Belgium",
            "Saudi Arabia",
            "Mexico",
            "Switzerland",
            "Ecuador",
            "Pakistan",
            "Portugal",
            "Chile",
            "Sweden",
            "Ireland"
           ],
           "xaxis": "x",
           "y": [
            12,
            517,
            2335,
            8,
            46,
            0,
            0,
            4590,
            0,
            13,
            1,
            1,
            4,
            4,
            0,
            2,
            2,
            0,
            1,
            0
           ],
           "yaxis": "y"
          }
         ],
         "name": "3/15/20"
        },
        {
         "data": [
          {
           "alignmentgroup": "True",
           "hovertemplate": "type=confirmed<br>date=3/16/20<br>country=%{x}<br>count=%{y}<extra></extra>",
           "legendgroup": "confirmed",
           "marker": {
            "color": "#636efa"
           },
           "name": "confirmed",
           "offsetgroup": "confirmed",
           "orientation": "v",
           "showlegend": true,
           "textposition": "auto",
           "type": "bar",
           "x": [
            "US",
            "Spain",
            "Italy",
            "Russia",
            "Germany",
            "Brazil",
            "Turkey",
            "Iran",
            "Peru",
            "India",
            "Belgium",
            "Saudi Arabia",
            "Mexico",
            "Switzerland",
            "Ecuador",
            "Pakistan",
            "Portugal",
            "Chile",
            "Sweden",
            "Ireland"
           ],
           "xaxis": "x",
           "y": [
            4516,
            9070,
            23073,
            82,
            7188,
            199,
            18,
            9548,
            86,
            104,
            1052,
            116,
            78,
            2182,
            35,
            134,
            328,
            155,
            1096,
            167
           ],
           "yaxis": "y"
          },
          {
           "alignmentgroup": "True",
           "hovertemplate": "type=death<br>date=3/16/20<br>country=%{x}<br>count=%{y}<extra></extra>",
           "legendgroup": "death",
           "marker": {
            "color": "#EF553B"
           },
           "name": "death",
           "offsetgroup": "death",
           "orientation": "v",
           "showlegend": true,
           "textposition": "auto",
           "type": "bar",
           "x": [
            "US",
            "Spain",
            "Italy",
            "Russia",
            "Germany",
            "Brazil",
            "Turkey",
            "Iran",
            "Peru",
            "India",
            "Belgium",
            "Saudi Arabia",
            "Mexico",
            "Switzerland",
            "Ecuador",
            "Pakistan",
            "Portugal",
            "Chile",
            "Sweden",
            "Ireland"
           ],
           "xaxis": "x",
           "y": [
            99,
            342,
            2158,
            0,
            17,
            0,
            0,
            853,
            0,
            2,
            5,
            0,
            0,
            14,
            2,
            0,
            0,
            0,
            6,
            2
           ],
           "yaxis": "y"
          },
          {
           "alignmentgroup": "True",
           "hovertemplate": "type=recovered<br>date=3/16/20<br>country=%{x}<br>count=%{y}<extra></extra>",
           "legendgroup": "recovered",
           "marker": {
            "color": "#00cc96"
           },
           "name": "recovered",
           "offsetgroup": "recovered",
           "orientation": "v",
           "showlegend": true,
           "textposition": "auto",
           "type": "bar",
           "x": [
            "US",
            "Spain",
            "Italy",
            "Russia",
            "Germany",
            "Brazil",
            "Turkey",
            "Iran",
            "Peru",
            "India",
            "Belgium",
            "Saudi Arabia",
            "Mexico",
            "Switzerland",
            "Ecuador",
            "Pakistan",
            "Portugal",
            "Chile",
            "Sweden",
            "Ireland"
           ],
           "xaxis": "x",
           "y": [
            17,
            530,
            2749,
            8,
            67,
            1,
            0,
            4590,
            0,
            13,
            1,
            2,
            4,
            4,
            0,
            2,
            3,
            0,
            1,
            0
           ],
           "yaxis": "y"
          }
         ],
         "name": "3/16/20"
        },
        {
         "data": [
          {
           "alignmentgroup": "True",
           "hovertemplate": "type=confirmed<br>date=3/17/20<br>country=%{x}<br>count=%{y}<extra></extra>",
           "legendgroup": "confirmed",
           "marker": {
            "color": "#636efa"
           },
           "name": "confirmed",
           "offsetgroup": "confirmed",
           "orientation": "v",
           "showlegend": true,
           "textposition": "auto",
           "type": "bar",
           "x": [
            "US",
            "Spain",
            "Italy",
            "Russia",
            "Germany",
            "Brazil",
            "Turkey",
            "Iran",
            "Peru",
            "India",
            "Belgium",
            "Saudi Arabia",
            "Mexico",
            "Switzerland",
            "Ecuador",
            "Pakistan",
            "Portugal",
            "Chile",
            "Sweden",
            "Ireland"
           ],
           "xaxis": "x",
           "y": [
            6271,
            10187,
            26062,
            106,
            9166,
            318,
            46,
            9792,
            116,
            125,
            1232,
            165,
            89,
            2669,
            56,
            234,
            444,
            201,
            1182,
            216
           ],
           "yaxis": "y"
          },
          {
           "alignmentgroup": "True",
           "hovertemplate": "type=death<br>date=3/17/20<br>country=%{x}<br>count=%{y}<extra></extra>",
           "legendgroup": "death",
           "marker": {
            "color": "#EF553B"
           },
           "name": "death",
           "offsetgroup": "death",
           "orientation": "v",
           "showlegend": true,
           "textposition": "auto",
           "type": "bar",
           "x": [
            "US",
            "Spain",
            "Italy",
            "Russia",
            "Germany",
            "Brazil",
            "Turkey",
            "Iran",
            "Peru",
            "India",
            "Belgium",
            "Saudi Arabia",
            "Mexico",
            "Switzerland",
            "Ecuador",
            "Pakistan",
            "Portugal",
            "Chile",
            "Sweden",
            "Ireland"
           ],
           "xaxis": "x",
           "y": [
            133,
            533,
            2503,
            0,
            24,
            1,
            1,
            988,
            0,
            3,
            10,
            0,
            0,
            27,
            2,
            0,
            1,
            0,
            7,
            2
           ],
           "yaxis": "y"
          },
          {
           "alignmentgroup": "True",
           "hovertemplate": "type=recovered<br>date=3/17/20<br>country=%{x}<br>count=%{y}<extra></extra>",
           "legendgroup": "recovered",
           "marker": {
            "color": "#00cc96"
           },
           "name": "recovered",
           "offsetgroup": "recovered",
           "orientation": "v",
           "showlegend": true,
           "textposition": "auto",
           "type": "bar",
           "x": [
            "US",
            "Spain",
            "Italy",
            "Russia",
            "Germany",
            "Brazil",
            "Turkey",
            "Iran",
            "Peru",
            "India",
            "Belgium",
            "Saudi Arabia",
            "Mexico",
            "Switzerland",
            "Ecuador",
            "Pakistan",
            "Portugal",
            "Chile",
            "Sweden",
            "Ireland"
           ],
           "xaxis": "x",
           "y": [
            17,
            1028,
            2941,
            8,
            67,
            2,
            0,
            5389,
            1,
            14,
            1,
            6,
            4,
            4,
            0,
            2,
            3,
            0,
            1,
            5
           ],
           "yaxis": "y"
          }
         ],
         "name": "3/17/20"
        },
        {
         "data": [
          {
           "alignmentgroup": "True",
           "hovertemplate": "type=confirmed<br>date=3/18/20<br>country=%{x}<br>count=%{y}<extra></extra>",
           "legendgroup": "confirmed",
           "marker": {
            "color": "#636efa"
           },
           "name": "confirmed",
           "offsetgroup": "confirmed",
           "orientation": "v",
           "showlegend": true,
           "textposition": "auto",
           "type": "bar",
           "x": [
            "US",
            "Spain",
            "Italy",
            "Russia",
            "Germany",
            "Brazil",
            "Turkey",
            "Iran",
            "Peru",
            "India",
            "Belgium",
            "Saudi Arabia",
            "Mexico",
            "Switzerland",
            "Ecuador",
            "Pakistan",
            "Portugal",
            "Chile",
            "Sweden",
            "Ireland"
           ],
           "xaxis": "x",
           "y": [
            7514,
            12206,
            28710,
            139,
            12194,
            367,
            97,
            10837,
            144,
            139,
            1441,
            165,
            114,
            2985,
            109,
            297,
            443,
            238,
            1268,
            285
           ],
           "yaxis": "y"
          },
          {
           "alignmentgroup": "True",
           "hovertemplate": "type=death<br>date=3/18/20<br>country=%{x}<br>count=%{y}<extra></extra>",
           "legendgroup": "death",
           "marker": {
            "color": "#EF553B"
           },
           "name": "death",
           "offsetgroup": "death",
           "orientation": "v",
           "showlegend": true,
           "textposition": "auto",
           "type": "bar",
           "x": [
            "US",
            "Spain",
            "Italy",
            "Russia",
            "Germany",
            "Brazil",
            "Turkey",
            "Iran",
            "Peru",
            "India",
            "Belgium",
            "Saudi Arabia",
            "Mexico",
            "Switzerland",
            "Ecuador",
            "Pakistan",
            "Portugal",
            "Chile",
            "Sweden",
            "Ireland"
           ],
           "xaxis": "x",
           "y": [
            164,
            623,
            2978,
            0,
            28,
            3,
            1,
            1135,
            0,
            3,
            14,
            0,
            0,
            28,
            2,
            0,
            2,
            0,
            10,
            2
           ],
           "yaxis": "y"
          },
          {
           "alignmentgroup": "True",
           "hovertemplate": "type=recovered<br>date=3/18/20<br>country=%{x}<br>count=%{y}<extra></extra>",
           "legendgroup": "recovered",
           "marker": {
            "color": "#00cc96"
           },
           "name": "recovered",
           "offsetgroup": "recovered",
           "orientation": "v",
           "showlegend": true,
           "textposition": "auto",
           "type": "bar",
           "x": [
            "US",
            "Spain",
            "Italy",
            "Russia",
            "Germany",
            "Brazil",
            "Turkey",
            "Iran",
            "Peru",
            "India",
            "Belgium",
            "Saudi Arabia",
            "Mexico",
            "Switzerland",
            "Ecuador",
            "Pakistan",
            "Portugal",
            "Chile",
            "Sweden",
            "Ireland"
           ],
           "xaxis": "x",
           "y": [
            105,
            1081,
            4025,
            8,
            105,
            2,
            0,
            5389,
            1,
            14,
            31,
            6,
            4,
            15,
            0,
            2,
            3,
            0,
            1,
            5
           ],
           "yaxis": "y"
          }
         ],
         "name": "3/18/20"
        },
        {
         "data": [
          {
           "alignmentgroup": "True",
           "hovertemplate": "type=confirmed<br>date=3/19/20<br>country=%{x}<br>count=%{y}<extra></extra>",
           "legendgroup": "confirmed",
           "marker": {
            "color": "#636efa"
           },
           "name": "confirmed",
           "offsetgroup": "confirmed",
           "orientation": "v",
           "showlegend": true,
           "textposition": "auto",
           "type": "bar",
           "x": [
            "US",
            "Spain",
            "Italy",
            "Russia",
            "Germany",
            "Brazil",
            "Turkey",
            "Iran",
            "Peru",
            "India",
            "Belgium",
            "Saudi Arabia",
            "Mexico",
            "Switzerland",
            "Ecuador",
            "Pakistan",
            "Portugal",
            "Chile",
            "Sweden",
            "Ireland"
           ],
           "xaxis": "x",
           "y": [
            13368,
            16026,
            33190,
            189,
            15163,
            613,
            189,
            11413,
            233,
            175,
            1743,
            268,
            159,
            4019,
            196,
            439,
            779,
            238,
            1412,
            549
           ],
           "yaxis": "y"
          },
          {
           "alignmentgroup": "True",
           "hovertemplate": "type=death<br>date=3/19/20<br>country=%{x}<br>count=%{y}<extra></extra>",
           "legendgroup": "death",
           "marker": {
            "color": "#EF553B"
           },
           "name": "death",
           "offsetgroup": "death",
           "orientation": "v",
           "showlegend": true,
           "textposition": "auto",
           "type": "bar",
           "x": [
            "US",
            "Spain",
            "Italy",
            "Russia",
            "Germany",
            "Brazil",
            "Turkey",
            "Iran",
            "Peru",
            "India",
            "Belgium",
            "Saudi Arabia",
            "Mexico",
            "Switzerland",
            "Ecuador",
            "Pakistan",
            "Portugal",
            "Chile",
            "Sweden",
            "Ireland"
           ],
           "xaxis": "x",
           "y": [
            258,
            830,
            3405,
            1,
            44,
            6,
            3,
            1284,
            0,
            4,
            21,
            0,
            1,
            41,
            3,
            2,
            3,
            0,
            11,
            3
           ],
           "yaxis": "y"
          },
          {
           "alignmentgroup": "True",
           "hovertemplate": "type=recovered<br>date=3/19/20<br>country=%{x}<br>count=%{y}<extra></extra>",
           "legendgroup": "recovered",
           "marker": {
            "color": "#00cc96"
           },
           "name": "recovered",
           "offsetgroup": "recovered",
           "orientation": "v",
           "showlegend": true,
           "textposition": "auto",
           "type": "bar",
           "x": [
            "US",
            "Spain",
            "Italy",
            "Russia",
            "Germany",
            "Brazil",
            "Turkey",
            "Iran",
            "Peru",
            "India",
            "Belgium",
            "Saudi Arabia",
            "Mexico",
            "Switzerland",
            "Ecuador",
            "Pakistan",
            "Portugal",
            "Chile",
            "Sweden",
            "Ireland"
           ],
           "xaxis": "x",
           "y": [
            121,
            1107,
            4440,
            9,
            113,
            2,
            0,
            5710,
            1,
            15,
            31,
            6,
            4,
            15,
            0,
            13,
            3,
            0,
            16,
            5
           ],
           "yaxis": "y"
          }
         ],
         "name": "3/19/20"
        },
        {
         "data": [
          {
           "alignmentgroup": "True",
           "hovertemplate": "type=confirmed<br>date=3/20/20<br>country=%{x}<br>count=%{y}<extra></extra>",
           "legendgroup": "confirmed",
           "marker": {
            "color": "#636efa"
           },
           "name": "confirmed",
           "offsetgroup": "confirmed",
           "orientation": "v",
           "showlegend": true,
           "textposition": "auto",
           "type": "bar",
           "x": [
            "US",
            "Spain",
            "Italy",
            "Russia",
            "Germany",
            "Brazil",
            "Turkey",
            "Iran",
            "Peru",
            "India",
            "Belgium",
            "Saudi Arabia",
            "Mexico",
            "Switzerland",
            "Ecuador",
            "Pakistan",
            "Portugal",
            "Chile",
            "Sweden",
            "Ireland"
           ],
           "xaxis": "x",
           "y": [
            18777,
            17779,
            38549,
            243,
            19601,
            780,
            355,
            11466,
            230,
            219,
            2219,
            336,
            197,
            5225,
            362,
            485,
            1009,
            428,
            1607,
            675
           ],
           "yaxis": "y"
          },
          {
           "alignmentgroup": "True",
           "hovertemplate": "type=death<br>date=3/20/20<br>country=%{x}<br>count=%{y}<extra></extra>",
           "legendgroup": "death",
           "marker": {
            "color": "#EF553B"
           },
           "name": "death",
           "offsetgroup": "death",
           "orientation": "v",
           "showlegend": true,
           "textposition": "auto",
           "type": "bar",
           "x": [
            "US",
            "Spain",
            "Italy",
            "Russia",
            "Germany",
            "Brazil",
            "Turkey",
            "Iran",
            "Peru",
            "India",
            "Belgium",
            "Saudi Arabia",
            "Mexico",
            "Switzerland",
            "Ecuador",
            "Pakistan",
            "Portugal",
            "Chile",
            "Sweden",
            "Ireland"
           ],
           "xaxis": "x",
           "y": [
            349,
            1043,
            4032,
            1,
            67,
            11,
            4,
            1433,
            3,
            5,
            37,
            0,
            2,
            54,
            5,
            3,
            6,
            0,
            16,
            3
           ],
           "yaxis": "y"
          },
          {
           "alignmentgroup": "True",
           "hovertemplate": "type=recovered<br>date=3/20/20<br>country=%{x}<br>count=%{y}<extra></extra>",
           "legendgroup": "recovered",
           "marker": {
            "color": "#00cc96"
           },
           "name": "recovered",
           "offsetgroup": "recovered",
           "orientation": "v",
           "showlegend": true,
           "textposition": "auto",
           "type": "bar",
           "x": [
            "US",
            "Spain",
            "Italy",
            "Russia",
            "Germany",
            "Brazil",
            "Turkey",
            "Iran",
            "Peru",
            "India",
            "Belgium",
            "Saudi Arabia",
            "Mexico",
            "Switzerland",
            "Ecuador",
            "Pakistan",
            "Portugal",
            "Chile",
            "Sweden",
            "Ireland"
           ],
           "xaxis": "x",
           "y": [
            147,
            1588,
            4440,
            9,
            180,
            2,
            0,
            6745,
            1,
            20,
            1,
            8,
            4,
            15,
            0,
            13,
            5,
            6,
            16,
            5
           ],
           "yaxis": "y"
          }
         ],
         "name": "3/20/20"
        },
        {
         "data": [
          {
           "alignmentgroup": "True",
           "hovertemplate": "type=confirmed<br>date=3/21/20<br>country=%{x}<br>count=%{y}<extra></extra>",
           "legendgroup": "confirmed",
           "marker": {
            "color": "#636efa"
           },
           "name": "confirmed",
           "offsetgroup": "confirmed",
           "orientation": "v",
           "showlegend": true,
           "textposition": "auto",
           "type": "bar",
           "x": [
            "US",
            "Spain",
            "Italy",
            "Russia",
            "Germany",
            "Brazil",
            "Turkey",
            "Iran",
            "Peru",
            "India",
            "Belgium",
            "Saudi Arabia",
            "Mexico",
            "Switzerland",
            "Ecuador",
            "Pakistan",
            "Portugal",
            "Chile",
            "Sweden",
            "Ireland"
           ],
           "xaxis": "x",
           "y": [
            24982,
            21874,
            42681,
            293,
            21896,
            1004,
            661,
            11419,
            312,
            303,
            2485,
            376,
            245,
            6485,
            496,
            714,
            1263,
            531,
            1727,
            777
           ],
           "yaxis": "y"
          },
          {
           "alignmentgroup": "True",
           "hovertemplate": "type=death<br>date=3/21/20<br>country=%{x}<br>count=%{y}<extra></extra>",
           "legendgroup": "death",
           "marker": {
            "color": "#EF553B"
           },
           "name": "death",
           "offsetgroup": "death",
           "orientation": "v",
           "showlegend": true,
           "textposition": "auto",
           "type": "bar",
           "x": [
            "US",
            "Spain",
            "Italy",
            "Russia",
            "Germany",
            "Brazil",
            "Turkey",
            "Iran",
            "Peru",
            "India",
            "Belgium",
            "Saudi Arabia",
            "Mexico",
            "Switzerland",
            "Ecuador",
            "Pakistan",
            "Portugal",
            "Chile",
            "Sweden",
            "Ireland"
           ],
           "xaxis": "x",
           "y": [
            442,
            1375,
            4825,
            1,
            84,
            15,
            9,
            1556,
            5,
            4,
            67,
            0,
            2,
            75,
            7,
            3,
            12,
            0,
            20,
            3
           ],
           "yaxis": "y"
          },
          {
           "alignmentgroup": "True",
           "hovertemplate": "type=recovered<br>date=3/21/20<br>country=%{x}<br>count=%{y}<extra></extra>",
           "legendgroup": "recovered",
           "marker": {
            "color": "#00cc96"
           },
           "name": "recovered",
           "offsetgroup": "recovered",
           "orientation": "v",
           "showlegend": true,
           "textposition": "auto",
           "type": "bar",
           "x": [
            "US",
            "Spain",
            "Italy",
            "Russia",
            "Germany",
            "Brazil",
            "Turkey",
            "Iran",
            "Peru",
            "India",
            "Belgium",
            "Saudi Arabia",
            "Mexico",
            "Switzerland",
            "Ecuador",
            "Pakistan",
            "Portugal",
            "Chile",
            "Sweden",
            "Ireland"
           ],
           "xaxis": "x",
           "y": [
            176,
            2125,
            6072,
            12,
            233,
            2,
            0,
            7635,
            1,
            23,
            263,
            16,
            4,
            15,
            3,
            13,
            5,
            6,
            16,
            5
           ],
           "yaxis": "y"
          }
         ],
         "name": "3/21/20"
        },
        {
         "data": [
          {
           "alignmentgroup": "True",
           "hovertemplate": "type=confirmed<br>date=3/22/20<br>country=%{x}<br>count=%{y}<extra></extra>",
           "legendgroup": "confirmed",
           "marker": {
            "color": "#636efa"
           },
           "name": "confirmed",
           "offsetgroup": "confirmed",
           "orientation": "v",
           "showlegend": true,
           "textposition": "auto",
           "type": "bar",
           "x": [
            "US",
            "Spain",
            "Italy",
            "Russia",
            "Germany",
            "Brazil",
            "Turkey",
            "Iran",
            "Peru",
            "India",
            "Belgium",
            "Saudi Arabia",
            "Mexico",
            "Switzerland",
            "Ecuador",
            "Pakistan",
            "Portugal",
            "Chile",
            "Sweden",
            "Ireland"
           ],
           "xaxis": "x",
           "y": [
            32512,
            24421,
            46638,
            350,
            24513,
            1519,
            1206,
            12022,
            357,
            362,
            3063,
            495,
            309,
            7245,
            772,
            766,
            1581,
            623,
            1897,
            897
           ],
           "yaxis": "y"
          },
          {
           "alignmentgroup": "True",
           "hovertemplate": "type=death<br>date=3/22/20<br>country=%{x}<br>count=%{y}<extra></extra>",
           "legendgroup": "death",
           "marker": {
            "color": "#EF553B"
           },
           "name": "death",
           "offsetgroup": "death",
           "orientation": "v",
           "showlegend": true,
           "textposition": "auto",
           "type": "bar",
           "x": [
            "US",
            "Spain",
            "Italy",
            "Russia",
            "Germany",
            "Brazil",
            "Turkey",
            "Iran",
            "Peru",
            "India",
            "Belgium",
            "Saudi Arabia",
            "Mexico",
            "Switzerland",
            "Ecuador",
            "Pakistan",
            "Portugal",
            "Chile",
            "Sweden",
            "Ireland"
           ],
           "xaxis": "x",
           "y": [
            586,
            1772,
            5476,
            1,
            94,
            25,
            30,
            1685,
            5,
            7,
            75,
            0,
            3,
            98,
            14,
            5,
            14,
            1,
            21,
            4
           ],
           "yaxis": "y"
          },
          {
           "alignmentgroup": "True",
           "hovertemplate": "type=recovered<br>date=3/22/20<br>country=%{x}<br>count=%{y}<extra></extra>",
           "legendgroup": "recovered",
           "marker": {
            "color": "#00cc96"
           },
           "name": "recovered",
           "offsetgroup": "recovered",
           "orientation": "v",
           "showlegend": true,
           "textposition": "auto",
           "type": "bar",
           "x": [
            "US",
            "Spain",
            "Italy",
            "Russia",
            "Germany",
            "Brazil",
            "Turkey",
            "Iran",
            "Peru",
            "India",
            "Belgium",
            "Saudi Arabia",
            "Mexico",
            "Switzerland",
            "Ecuador",
            "Pakistan",
            "Portugal",
            "Chile",
            "Sweden",
            "Ireland"
           ],
           "xaxis": "x",
           "y": [
            178,
            2575,
            7024,
            16,
            266,
            2,
            0,
            7931,
            1,
            27,
            263,
            16,
            4,
            131,
            3,
            5,
            5,
            8,
            16,
            5
           ],
           "yaxis": "y"
          }
         ],
         "name": "3/22/20"
        },
        {
         "data": [
          {
           "alignmentgroup": "True",
           "hovertemplate": "type=confirmed<br>date=3/23/20<br>country=%{x}<br>count=%{y}<extra></extra>",
           "legendgroup": "confirmed",
           "marker": {
            "color": "#636efa"
           },
           "name": "confirmed",
           "offsetgroup": "confirmed",
           "orientation": "v",
           "showlegend": true,
           "textposition": "auto",
           "type": "bar",
           "x": [
            "US",
            "Spain",
            "Italy",
            "Russia",
            "Germany",
            "Brazil",
            "Turkey",
            "Iran",
            "Peru",
            "India",
            "Belgium",
            "Saudi Arabia",
            "Mexico",
            "Switzerland",
            "Ecuador",
            "Pakistan",
            "Portugal",
            "Chile",
            "Sweden",
            "Ireland"
           ],
           "xaxis": "x",
           "y": [
            42879,
            30250,
            50826,
            421,
            28667,
            1888,
            1492,
            13306,
            389,
            462,
            3392,
            546,
            359,
            8544,
            960,
            864,
            2032,
            736,
            2005,
            1114
           ],
           "yaxis": "y"
          },
          {
           "alignmentgroup": "True",
           "hovertemplate": "type=death<br>date=3/23/20<br>country=%{x}<br>count=%{y}<extra></extra>",
           "legendgroup": "death",
           "marker": {
            "color": "#EF553B"
           },
           "name": "death",
           "offsetgroup": "death",
           "orientation": "v",
           "showlegend": true,
           "textposition": "auto",
           "type": "bar",
           "x": [
            "US",
            "Spain",
            "Italy",
            "Russia",
            "Germany",
            "Brazil",
            "Turkey",
            "Iran",
            "Peru",
            "India",
            "Belgium",
            "Saudi Arabia",
            "Mexico",
            "Switzerland",
            "Ecuador",
            "Pakistan",
            "Portugal",
            "Chile",
            "Sweden",
            "Ireland"
           ],
           "xaxis": "x",
           "y": [
            786,
            2311,
            6077,
            1,
            123,
            34,
            37,
            1812,
            5,
            10,
            88,
            0,
            4,
            120,
            18,
            6,
            23,
            2,
            25,
            6
           ],
           "yaxis": "y"
          },
          {
           "alignmentgroup": "True",
           "hovertemplate": "type=recovered<br>date=3/23/20<br>country=%{x}<br>count=%{y}<extra></extra>",
           "legendgroup": "recovered",
           "marker": {
            "color": "#00cc96"
           },
           "name": "recovered",
           "offsetgroup": "recovered",
           "orientation": "v",
           "showlegend": true,
           "textposition": "auto",
           "type": "bar",
           "x": [
            "US",
            "Spain",
            "Italy",
            "Russia",
            "Germany",
            "Brazil",
            "Turkey",
            "Iran",
            "Peru",
            "India",
            "Belgium",
            "Saudi Arabia",
            "Mexico",
            "Switzerland",
            "Ecuador",
            "Pakistan",
            "Portugal",
            "Chile",
            "Sweden",
            "Ireland"
           ],
           "xaxis": "x",
           "y": [
            178,
            2575,
            7024,
            16,
            266,
            2,
            0,
            7931,
            1,
            27,
            263,
            16,
            4,
            131,
            3,
            5,
            5,
            8,
            16,
            5
           ],
           "yaxis": "y"
          }
         ],
         "name": "3/23/20"
        },
        {
         "data": [
          {
           "alignmentgroup": "True",
           "hovertemplate": "type=confirmed<br>date=3/24/20<br>country=%{x}<br>count=%{y}<extra></extra>",
           "legendgroup": "confirmed",
           "marker": {
            "color": "#636efa"
           },
           "name": "confirmed",
           "offsetgroup": "confirmed",
           "orientation": "v",
           "showlegend": true,
           "textposition": "auto",
           "type": "bar",
           "x": [
            "US",
            "Spain",
            "Italy",
            "Russia",
            "Germany",
            "Brazil",
            "Turkey",
            "Iran",
            "Peru",
            "India",
            "Belgium",
            "Saudi Arabia",
            "Mexico",
            "Switzerland",
            "Ecuador",
            "Pakistan",
            "Portugal",
            "Chile",
            "Sweden",
            "Ireland"
           ],
           "xaxis": "x",
           "y": [
            52380,
            33283,
            54030,
            472,
            29586,
            2199,
            1828,
            13964,
            408,
            486,
            3686,
            738,
            396,
            9624,
            1052,
            947,
            2307,
            903,
            2234,
            1317
           ],
           "yaxis": "y"
          },
          {
           "alignmentgroup": "True",
           "hovertemplate": "type=death<br>date=3/24/20<br>country=%{x}<br>count=%{y}<extra></extra>",
           "legendgroup": "death",
           "marker": {
            "color": "#EF553B"
           },
           "name": "death",
           "offsetgroup": "death",
           "orientation": "v",
           "showlegend": true,
           "textposition": "auto",
           "type": "bar",
           "x": [
            "US",
            "Spain",
            "Italy",
            "Russia",
            "Germany",
            "Brazil",
            "Turkey",
            "Iran",
            "Peru",
            "India",
            "Belgium",
            "Saudi Arabia",
            "Mexico",
            "Switzerland",
            "Ecuador",
            "Pakistan",
            "Portugal",
            "Chile",
            "Sweden",
            "Ireland"
           ],
           "xaxis": "x",
           "y": [
            1008,
            2808,
            6820,
            1,
            157,
            46,
            44,
            1934,
            7,
            10,
            122,
            1,
            5,
            122,
            27,
            7,
            33,
            2,
            36,
            7
           ],
           "yaxis": "y"
          },
          {
           "alignmentgroup": "True",
           "hovertemplate": "type=recovered<br>date=3/24/20<br>country=%{x}<br>count=%{y}<extra></extra>",
           "legendgroup": "recovered",
           "marker": {
            "color": "#00cc96"
           },
           "name": "recovered",
           "offsetgroup": "recovered",
           "orientation": "v",
           "showlegend": true,
           "textposition": "auto",
           "type": "bar",
           "x": [
            "US",
            "Spain",
            "Italy",
            "Russia",
            "Germany",
            "Brazil",
            "Turkey",
            "Iran",
            "Peru",
            "India",
            "Belgium",
            "Saudi Arabia",
            "Mexico",
            "Switzerland",
            "Ecuador",
            "Pakistan",
            "Portugal",
            "Chile",
            "Sweden",
            "Ireland"
           ],
           "xaxis": "x",
           "y": [
            348,
            3794,
            8326,
            22,
            3243,
            2,
            0,
            8913,
            1,
            40,
            461,
            28,
            4,
            131,
            3,
            18,
            22,
            17,
            16,
            5
           ],
           "yaxis": "y"
          }
         ],
         "name": "3/24/20"
        },
        {
         "data": [
          {
           "alignmentgroup": "True",
           "hovertemplate": "type=confirmed<br>date=3/25/20<br>country=%{x}<br>count=%{y}<extra></extra>",
           "legendgroup": "confirmed",
           "marker": {
            "color": "#636efa"
           },
           "name": "confirmed",
           "offsetgroup": "confirmed",
           "orientation": "v",
           "showlegend": true,
           "textposition": "auto",
           "type": "bar",
           "x": [
            "US",
            "Spain",
            "Italy",
            "Russia",
            "Germany",
            "Brazil",
            "Turkey",
            "Iran",
            "Peru",
            "India",
            "Belgium",
            "Saudi Arabia",
            "Mexico",
            "Switzerland",
            "Ecuador",
            "Pakistan",
            "Portugal",
            "Chile",
            "Sweden",
            "Ireland"
           ],
           "xaxis": "x",
           "y": [
            64101,
            40501,
            57521,
            626,
            33570,
            2493,
            2348,
            15315,
            470,
            602,
            4212,
            869,
            465,
            10613,
            1142,
            1034,
            2930,
            1117,
            2448,
            1550
           ],
           "yaxis": "y"
          },
          {
           "alignmentgroup": "True",
           "hovertemplate": "type=death<br>date=3/25/20<br>country=%{x}<br>count=%{y}<extra></extra>",
           "legendgroup": "death",
           "marker": {
            "color": "#EF553B"
           },
           "name": "death",
           "offsetgroup": "death",
           "orientation": "v",
           "showlegend": true,
           "textposition": "auto",
           "type": "bar",
           "x": [
            "US",
            "Spain",
            "Italy",
            "Russia",
            "Germany",
            "Brazil",
            "Turkey",
            "Iran",
            "Peru",
            "India",
            "Belgium",
            "Saudi Arabia",
            "Mexico",
            "Switzerland",
            "Ecuador",
            "Pakistan",
            "Portugal",
            "Chile",
            "Sweden",
            "Ireland"
           ],
           "xaxis": "x",
           "y": [
            1316,
            3647,
            7503,
            3,
            206,
            59,
            59,
            2077,
            9,
            12,
            178,
            2,
            6,
            153,
            28,
            8,
            43,
            3,
            62,
            9
           ],
           "yaxis": "y"
          },
          {
           "alignmentgroup": "True",
           "hovertemplate": "type=recovered<br>date=3/25/20<br>country=%{x}<br>count=%{y}<extra></extra>",
           "legendgroup": "recovered",
           "marker": {
            "color": "#00cc96"
           },
           "name": "recovered",
           "offsetgroup": "recovered",
           "orientation": "v",
           "showlegend": true,
           "textposition": "auto",
           "type": "bar",
           "x": [
            "US",
            "Spain",
            "Italy",
            "Russia",
            "Germany",
            "Brazil",
            "Turkey",
            "Iran",
            "Peru",
            "India",
            "Belgium",
            "Saudi Arabia",
            "Mexico",
            "Switzerland",
            "Ecuador",
            "Pakistan",
            "Portugal",
            "Chile",
            "Sweden",
            "Ireland"
           ],
           "xaxis": "x",
           "y": [
            361,
            5367,
            9362,
            29,
            3547,
            2,
            26,
            9625,
            1,
            43,
            547,
            29,
            4,
            131,
            3,
            21,
            22,
            22,
            16,
            5
           ],
           "yaxis": "y"
          }
         ],
         "name": "3/25/20"
        },
        {
         "data": [
          {
           "alignmentgroup": "True",
           "hovertemplate": "type=confirmed<br>date=3/26/20<br>country=%{x}<br>count=%{y}<extra></extra>",
           "legendgroup": "confirmed",
           "marker": {
            "color": "#636efa"
           },
           "name": "confirmed",
           "offsetgroup": "confirmed",
           "orientation": "v",
           "showlegend": true,
           "textposition": "auto",
           "type": "bar",
           "x": [
            "US",
            "Spain",
            "Italy",
            "Russia",
            "Germany",
            "Brazil",
            "Turkey",
            "Iran",
            "Peru",
            "India",
            "Belgium",
            "Saudi Arabia",
            "Mexico",
            "Switzerland",
            "Ecuador",
            "Pakistan",
            "Portugal",
            "Chile",
            "Sweden",
            "Ireland"
           ],
           "xaxis": "x",
           "y": [
            81429,
            46406,
            62013,
            799,
            37998,
            2902,
            3528,
            16715,
            557,
            662,
            5340,
            976,
            573,
            11489,
            1366,
            1171,
            3441,
            1280,
            2747,
            1795
           ],
           "yaxis": "y"
          },
          {
           "alignmentgroup": "True",
           "hovertemplate": "type=death<br>date=3/26/20<br>country=%{x}<br>count=%{y}<extra></extra>",
           "legendgroup": "death",
           "marker": {
            "color": "#EF553B"
           },
           "name": "death",
           "offsetgroup": "death",
           "orientation": "v",
           "showlegend": true,
           "textposition": "auto",
           "type": "bar",
           "x": [
            "US",
            "Spain",
            "Italy",
            "Russia",
            "Germany",
            "Brazil",
            "Turkey",
            "Iran",
            "Peru",
            "India",
            "Belgium",
            "Saudi Arabia",
            "Mexico",
            "Switzerland",
            "Ecuador",
            "Pakistan",
            "Portugal",
            "Chile",
            "Sweden",
            "Ireland"
           ],
           "xaxis": "x",
           "y": [
            1726,
            4365,
            8215,
            3,
            267,
            77,
            75,
            2234,
            9,
            20,
            220,
            3,
            8,
            191,
            34,
            9,
            60,
            4,
            77,
            19
           ],
           "yaxis": "y"
          },
          {
           "alignmentgroup": "True",
           "hovertemplate": "type=recovered<br>date=3/26/20<br>country=%{x}<br>count=%{y}<extra></extra>",
           "legendgroup": "recovered",
           "marker": {
            "color": "#00cc96"
           },
           "name": "recovered",
           "offsetgroup": "recovered",
           "orientation": "v",
           "showlegend": true,
           "textposition": "auto",
           "type": "bar",
           "x": [
            "US",
            "Spain",
            "Italy",
            "Russia",
            "Germany",
            "Brazil",
            "Turkey",
            "Iran",
            "Peru",
            "India",
            "Belgium",
            "Saudi Arabia",
            "Mexico",
            "Switzerland",
            "Ecuador",
            "Pakistan",
            "Portugal",
            "Chile",
            "Sweden",
            "Ireland"
           ],
           "xaxis": "x",
           "y": [
            681,
            7015,
            10361,
            38,
            5673,
            6,
            26,
            10457,
            14,
            45,
            675,
            33,
            4,
            131,
            3,
            21,
            43,
            22,
            16,
            5
           ],
           "yaxis": "y"
          }
         ],
         "name": "3/26/20"
        },
        {
         "data": [
          {
           "alignmentgroup": "True",
           "hovertemplate": "type=confirmed<br>date=3/27/20<br>country=%{x}<br>count=%{y}<extra></extra>",
           "legendgroup": "confirmed",
           "marker": {
            "color": "#636efa"
           },
           "name": "confirmed",
           "offsetgroup": "confirmed",
           "orientation": "v",
           "showlegend": true,
           "textposition": "auto",
           "type": "bar",
           "x": [
            "US",
            "Spain",
            "Italy",
            "Russia",
            "Germany",
            "Brazil",
            "Turkey",
            "Iran",
            "Peru",
            "India",
            "Belgium",
            "Saudi Arabia",
            "Mexico",
            "Switzerland",
            "Ecuador",
            "Pakistan",
            "Portugal",
            "Chile",
            "Sweden",
            "Ireland"
           ],
           "xaxis": "x",
           "y": [
            98523,
            51224,
            66414,
            987,
            43871,
            3319,
            5564,
            18821,
            608,
            794,
            6137,
            1066,
            701,
            11167,
            1556,
            1339,
            4149,
            1562,
            2948,
            2094
           ],
           "yaxis": "y"
          },
          {
           "alignmentgroup": "True",
           "hovertemplate": "type=death<br>date=3/27/20<br>country=%{x}<br>count=%{y}<extra></extra>",
           "legendgroup": "death",
           "marker": {
            "color": "#EF553B"
           },
           "name": "death",
           "offsetgroup": "death",
           "orientation": "v",
           "showlegend": true,
           "textposition": "auto",
           "type": "bar",
           "x": [
            "US",
            "Spain",
            "Italy",
            "Russia",
            "Germany",
            "Brazil",
            "Turkey",
            "Iran",
            "Peru",
            "India",
            "Belgium",
            "Saudi Arabia",
            "Mexico",
            "Switzerland",
            "Ecuador",
            "Pakistan",
            "Portugal",
            "Chile",
            "Sweden",
            "Ireland"
           ],
           "xaxis": "x",
           "y": [
            2265,
            5138,
            9134,
            4,
            342,
            92,
            92,
            2378,
            11,
            20,
            289,
            3,
            12,
            231,
            36,
            11,
            76,
            5,
            105,
            22
           ],
           "yaxis": "y"
          },
          {
           "alignmentgroup": "True",
           "hovertemplate": "type=recovered<br>date=3/27/20<br>country=%{x}<br>count=%{y}<extra></extra>",
           "legendgroup": "recovered",
           "marker": {
            "color": "#00cc96"
           },
           "name": "recovered",
           "offsetgroup": "recovered",
           "orientation": "v",
           "showlegend": true,
           "textposition": "auto",
           "type": "bar",
           "x": [
            "US",
            "Spain",
            "Italy",
            "Russia",
            "Germany",
            "Brazil",
            "Turkey",
            "Iran",
            "Peru",
            "India",
            "Belgium",
            "Saudi Arabia",
            "Mexico",
            "Switzerland",
            "Ecuador",
            "Pakistan",
            "Portugal",
            "Chile",
            "Sweden",
            "Ireland"
           ],
           "xaxis": "x",
           "y": [
            869,
            9357,
            10950,
            45,
            6658,
            6,
            42,
            11133,
            16,
            73,
            858,
            35,
            4,
            1530,
            3,
            23,
            43,
            43,
            16,
            5
           ],
           "yaxis": "y"
          }
         ],
         "name": "3/27/20"
        },
        {
         "data": [
          {
           "alignmentgroup": "True",
           "hovertemplate": "type=confirmed<br>date=3/28/20<br>country=%{x}<br>count=%{y}<extra></extra>",
           "legendgroup": "confirmed",
           "marker": {
            "color": "#636efa"
           },
           "name": "confirmed",
           "offsetgroup": "confirmed",
           "orientation": "v",
           "showlegend": true,
           "textposition": "auto",
           "type": "bar",
           "x": [
            "US",
            "Spain",
            "Italy",
            "Russia",
            "Germany",
            "Brazil",
            "Turkey",
            "Iran",
            "Peru",
            "India",
            "Belgium",
            "Saudi Arabia",
            "Mexico",
            "Switzerland",
            "Ecuador",
            "Pakistan",
            "Portugal",
            "Chile",
            "Sweden",
            "Ireland"
           ],
           "xaxis": "x",
           "y": [
            117662,
            54968,
            70065,
            1211,
            48781,
            3787,
            7224,
            21212,
            639,
            879,
            7718,
            1162,
            828,
            12282,
            1772,
            1454,
            5027,
            1842,
            3326,
            2374
           ],
           "yaxis": "y"
          },
          {
           "alignmentgroup": "True",
           "hovertemplate": "type=death<br>date=3/28/20<br>country=%{x}<br>count=%{y}<extra></extra>",
           "legendgroup": "death",
           "marker": {
            "color": "#EF553B"
           },
           "name": "death",
           "offsetgroup": "death",
           "orientation": "v",
           "showlegend": true,
           "textposition": "auto",
           "type": "bar",
           "x": [
            "US",
            "Spain",
            "Italy",
            "Russia",
            "Germany",
            "Brazil",
            "Turkey",
            "Iran",
            "Peru",
            "India",
            "Belgium",
            "Saudi Arabia",
            "Mexico",
            "Switzerland",
            "Ecuador",
            "Pakistan",
            "Portugal",
            "Chile",
            "Sweden",
            "Ireland"
           ],
           "xaxis": "x",
           "y": [
            2731,
            5982,
            10023,
            4,
            433,
            111,
            108,
            2517,
            16,
            24,
            353,
            4,
            16,
            264,
            48,
            12,
            100,
            6,
            105,
            36
           ],
           "yaxis": "y"
          },
          {
           "alignmentgroup": "True",
           "hovertemplate": "type=recovered<br>date=3/28/20<br>country=%{x}<br>count=%{y}<extra></extra>",
           "legendgroup": "recovered",
           "marker": {
            "color": "#00cc96"
           },
           "name": "recovered",
           "offsetgroup": "recovered",
           "orientation": "v",
           "showlegend": true,
           "textposition": "auto",
           "type": "bar",
           "x": [
            "US",
            "Spain",
            "Italy",
            "Russia",
            "Germany",
            "Brazil",
            "Turkey",
            "Iran",
            "Peru",
            "India",
            "Belgium",
            "Saudi Arabia",
            "Mexico",
            "Switzerland",
            "Ecuador",
            "Pakistan",
            "Portugal",
            "Chile",
            "Sweden",
            "Ireland"
           ],
           "xaxis": "x",
           "y": [
            1072,
            12285,
            12384,
            49,
            8481,
            6,
            70,
            11679,
            16,
            84,
            1063,
            37,
            4,
            1530,
            3,
            29,
            43,
            61,
            16,
            5
           ],
           "yaxis": "y"
          }
         ],
         "name": "3/28/20"
        },
        {
         "data": [
          {
           "alignmentgroup": "True",
           "hovertemplate": "type=confirmed<br>date=3/29/20<br>country=%{x}<br>count=%{y}<extra></extra>",
           "legendgroup": "confirmed",
           "marker": {
            "color": "#636efa"
           },
           "name": "confirmed",
           "offsetgroup": "confirmed",
           "orientation": "v",
           "showlegend": true,
           "textposition": "auto",
           "type": "bar",
           "x": [
            "US",
            "Spain",
            "Italy",
            "Russia",
            "Germany",
            "Brazil",
            "Turkey",
            "Iran",
            "Peru",
            "India",
            "Belgium",
            "Saudi Arabia",
            "Mexico",
            "Switzerland",
            "Ecuador",
            "Pakistan",
            "Portugal",
            "Chile",
            "Sweden",
            "Ireland"
           ],
           "xaxis": "x",
           "y": [
            134824,
            58598,
            73880,
            1462,
            52351,
            4114,
            8981,
            23278,
            818,
            902,
            9046,
            1225,
            969,
            12934,
            1863,
            1554,
            5800,
            2057,
            3574,
            2564
           ],
           "yaxis": "y"
          },
          {
           "alignmentgroup": "True",
           "hovertemplate": "type=death<br>date=3/29/20<br>country=%{x}<br>count=%{y}<extra></extra>",
           "legendgroup": "death",
           "marker": {
            "color": "#EF553B"
           },
           "name": "death",
           "offsetgroup": "death",
           "orientation": "v",
           "showlegend": true,
           "textposition": "auto",
           "type": "bar",
           "x": [
            "US",
            "Spain",
            "Italy",
            "Russia",
            "Germany",
            "Brazil",
            "Turkey",
            "Iran",
            "Peru",
            "India",
            "Belgium",
            "Saudi Arabia",
            "Mexico",
            "Switzerland",
            "Ecuador",
            "Pakistan",
            "Portugal",
            "Chile",
            "Sweden",
            "Ireland"
           ],
           "xaxis": "x",
           "y": [
            3420,
            6803,
            10779,
            8,
            533,
            136,
            131,
            2640,
            18,
            27,
            431,
            8,
            20,
            300,
            58,
            14,
            119,
            7,
            110,
            46
           ],
           "yaxis": "y"
          },
          {
           "alignmentgroup": "True",
           "hovertemplate": "type=recovered<br>date=3/29/20<br>country=%{x}<br>count=%{y}<extra></extra>",
           "legendgroup": "recovered",
           "marker": {
            "color": "#00cc96"
           },
           "name": "recovered",
           "offsetgroup": "recovered",
           "orientation": "v",
           "showlegend": true,
           "textposition": "auto",
           "type": "bar",
           "x": [
            "US",
            "Spain",
            "Italy",
            "Russia",
            "Germany",
            "Brazil",
            "Turkey",
            "Iran",
            "Peru",
            "India",
            "Belgium",
            "Saudi Arabia",
            "Mexico",
            "Switzerland",
            "Ecuador",
            "Pakistan",
            "Portugal",
            "Chile",
            "Sweden",
            "Ireland"
           ],
           "xaxis": "x",
           "y": [
            2665,
            14709,
            13030,
            64,
            9211,
            6,
            105,
            12391,
            16,
            95,
            1359,
            66,
            4,
            1595,
            3,
            29,
            43,
            75,
            16,
            5
           ],
           "yaxis": "y"
          }
         ],
         "name": "3/29/20"
        },
        {
         "data": [
          {
           "alignmentgroup": "True",
           "hovertemplate": "type=confirmed<br>date=3/30/20<br>country=%{x}<br>count=%{y}<extra></extra>",
           "legendgroup": "confirmed",
           "marker": {
            "color": "#636efa"
           },
           "name": "confirmed",
           "offsetgroup": "confirmed",
           "orientation": "v",
           "showlegend": true,
           "textposition": "auto",
           "type": "bar",
           "x": [
            "US",
            "Spain",
            "Italy",
            "Russia",
            "Germany",
            "Brazil",
            "Turkey",
            "Iran",
            "Peru",
            "India",
            "Belgium",
            "Saudi Arabia",
            "Mexico",
            "Switzerland",
            "Ecuador",
            "Pakistan",
            "Portugal",
            "Chile",
            "Sweden",
            "Ireland"
           ],
           "xaxis": "x",
           "y": [
            151995,
            63460,
            75528,
            1761,
            52740,
            4300,
            10497,
            24827,
            873,
            1117,
            9859,
            1330,
            1031,
            13740,
            1899,
            1620,
            6225,
            2285,
            3866,
            2851
           ],
           "yaxis": "y"
          },
          {
           "alignmentgroup": "True",
           "hovertemplate": "type=death<br>date=3/30/20<br>country=%{x}<br>count=%{y}<extra></extra>",
           "legendgroup": "death",
           "marker": {
            "color": "#EF553B"
           },
           "name": "death",
           "offsetgroup": "death",
           "orientation": "v",
           "showlegend": true,
           "textposition": "auto",
           "type": "bar",
           "x": [
            "US",
            "Spain",
            "Italy",
            "Russia",
            "Germany",
            "Brazil",
            "Turkey",
            "Iran",
            "Peru",
            "India",
            "Belgium",
            "Saudi Arabia",
            "Mexico",
            "Switzerland",
            "Ecuador",
            "Pakistan",
            "Portugal",
            "Chile",
            "Sweden",
            "Ireland"
           ],
           "xaxis": "x",
           "y": [
            4192,
            7716,
            11591,
            9,
            645,
            159,
            168,
            2757,
            24,
            32,
            513,
            8,
            28,
            359,
            60,
            21,
            140,
            8,
            146,
            54
           ],
           "yaxis": "y"
          },
          {
           "alignmentgroup": "True",
           "hovertemplate": "type=recovered<br>date=3/30/20<br>country=%{x}<br>count=%{y}<extra></extra>",
           "legendgroup": "recovered",
           "marker": {
            "color": "#00cc96"
           },
           "name": "recovered",
           "offsetgroup": "recovered",
           "orientation": "v",
           "showlegend": true,
           "textposition": "auto",
           "type": "bar",
           "x": [
            "US",
            "Spain",
            "Italy",
            "Russia",
            "Germany",
            "Brazil",
            "Turkey",
            "Iran",
            "Peru",
            "India",
            "Belgium",
            "Saudi Arabia",
            "Mexico",
            "Switzerland",
            "Ecuador",
            "Pakistan",
            "Portugal",
            "Chile",
            "Sweden",
            "Ireland"
           ],
           "xaxis": "x",
           "y": [
            5644,
            16780,
            14620,
            66,
            13500,
            120,
            162,
            13911,
            53,
            102,
            1527,
            115,
            35,
            1823,
            3,
            76,
            43,
            156,
            16,
            5
           ],
           "yaxis": "y"
          }
         ],
         "name": "3/30/20"
        },
        {
         "data": [
          {
           "alignmentgroup": "True",
           "hovertemplate": "type=confirmed<br>date=3/31/20<br>country=%{x}<br>count=%{y}<extra></extra>",
           "legendgroup": "confirmed",
           "marker": {
            "color": "#636efa"
           },
           "name": "confirmed",
           "offsetgroup": "confirmed",
           "orientation": "v",
           "showlegend": true,
           "textposition": "auto",
           "type": "bar",
           "x": [
            "US",
            "Spain",
            "Italy",
            "Russia",
            "Germany",
            "Brazil",
            "Turkey",
            "Iran",
            "Peru",
            "India",
            "Belgium",
            "Saudi Arabia",
            "Mexico",
            "Switzerland",
            "Ecuador",
            "Pakistan",
            "Portugal",
            "Chile",
            "Sweden",
            "Ireland"
           ],
           "xaxis": "x",
           "y": [
            175781,
            68200,
            77635,
            2199,
            54933,
            5389,
            13074,
            27051,
            641,
            1239,
            10374,
            1388,
            1151,
            14349,
            2111,
            1836,
            7240,
            2570,
            4239,
            3159
           ],
           "yaxis": "y"
          },
          {
           "alignmentgroup": "True",
           "hovertemplate": "type=death<br>date=3/31/20<br>country=%{x}<br>count=%{y}<extra></extra>",
           "legendgroup": "death",
           "marker": {
            "color": "#EF553B"
           },
           "name": "death",
           "offsetgroup": "death",
           "orientation": "v",
           "showlegend": true,
           "textposition": "auto",
           "type": "bar",
           "x": [
            "US",
            "Spain",
            "Italy",
            "Russia",
            "Germany",
            "Brazil",
            "Turkey",
            "Iran",
            "Peru",
            "India",
            "Belgium",
            "Saudi Arabia",
            "Mexico",
            "Switzerland",
            "Ecuador",
            "Pakistan",
            "Portugal",
            "Chile",
            "Sweden",
            "Ireland"
           ],
           "xaxis": "x",
           "y": [
            5367,
            8464,
            12428,
            17,
            775,
            201,
            214,
            2898,
            30,
            35,
            705,
            10,
            29,
            433,
            75,
            26,
            160,
            12,
            180,
            71
           ],
           "yaxis": "y"
          },
          {
           "alignmentgroup": "True",
           "hovertemplate": "type=recovered<br>date=3/31/20<br>country=%{x}<br>count=%{y}<extra></extra>",
           "legendgroup": "recovered",
           "marker": {
            "color": "#00cc96"
           },
           "name": "recovered",
           "offsetgroup": "recovered",
           "orientation": "v",
           "showlegend": true,
           "textposition": "auto",
           "type": "bar",
           "x": [
            "US",
            "Spain",
            "Italy",
            "Russia",
            "Germany",
            "Brazil",
            "Turkey",
            "Iran",
            "Peru",
            "India",
            "Belgium",
            "Saudi Arabia",
            "Mexico",
            "Switzerland",
            "Ecuador",
            "Pakistan",
            "Portugal",
            "Chile",
            "Sweden",
            "Ireland"
           ],
           "xaxis": "x",
           "y": [
            7024,
            19259,
            15729,
            121,
            16100,
            127,
            243,
            14656,
            394,
            123,
            1696,
            165,
            35,
            1823,
            54,
            76,
            43,
            156,
            16,
            5
           ],
           "yaxis": "y"
          }
         ],
         "name": "3/31/20"
        },
        {
         "data": [
          {
           "alignmentgroup": "True",
           "hovertemplate": "type=confirmed<br>date=4/1/20<br>country=%{x}<br>count=%{y}<extra></extra>",
           "legendgroup": "confirmed",
           "marker": {
            "color": "#636efa"
           },
           "name": "confirmed",
           "offsetgroup": "confirmed",
           "orientation": "v",
           "showlegend": true,
           "textposition": "auto",
           "type": "bar",
           "x": [
            "US",
            "Spain",
            "Italy",
            "Russia",
            "Germany",
            "Brazil",
            "Turkey",
            "Iran",
            "Peru",
            "India",
            "Belgium",
            "Saudi Arabia",
            "Mexico",
            "Switzerland",
            "Ecuador",
            "Pakistan",
            "Portugal",
            "Chile",
            "Sweden",
            "Ireland"
           ],
           "xaxis": "x",
           "y": [
            198267,
            72084,
            80572,
            2563,
            58252,
            6469,
            15069,
            29084,
            891,
            1792,
            11004,
            1440,
            1306,
            14313,
            2597,
            1997,
            8021,
            2781,
            4605,
            3357
           ],
           "yaxis": "y"
          },
          {
           "alignmentgroup": "True",
           "hovertemplate": "type=death<br>date=4/1/20<br>country=%{x}<br>count=%{y}<extra></extra>",
           "legendgroup": "death",
           "marker": {
            "color": "#EF553B"
           },
           "name": "death",
           "offsetgroup": "death",
           "orientation": "v",
           "showlegend": true,
           "textposition": "auto",
           "type": "bar",
           "x": [
            "US",
            "Spain",
            "Italy",
            "Russia",
            "Germany",
            "Brazil",
            "Turkey",
            "Iran",
            "Peru",
            "India",
            "Belgium",
            "Saudi Arabia",
            "Mexico",
            "Switzerland",
            "Ecuador",
            "Pakistan",
            "Portugal",
            "Chile",
            "Sweden",
            "Ireland"
           ],
           "xaxis": "x",
           "y": [
            6501,
            9387,
            13155,
            24,
            920,
            240,
            277,
            3036,
            38,
            58,
            828,
            16,
            37,
            488,
            93,
            27,
            187,
            16,
            239,
            85
           ],
           "yaxis": "y"
          },
          {
           "alignmentgroup": "True",
           "hovertemplate": "type=recovered<br>date=4/1/20<br>country=%{x}<br>count=%{y}<extra></extra>",
           "legendgroup": "recovered",
           "marker": {
            "color": "#00cc96"
           },
           "name": "recovered",
           "offsetgroup": "recovered",
           "orientation": "v",
           "showlegend": true,
           "textposition": "auto",
           "type": "bar",
           "x": [
            "US",
            "Spain",
            "Italy",
            "Russia",
            "Germany",
            "Brazil",
            "Turkey",
            "Iran",
            "Peru",
            "India",
            "Belgium",
            "Saudi Arabia",
            "Mexico",
            "Switzerland",
            "Ecuador",
            "Pakistan",
            "Portugal",
            "Chile",
            "Sweden",
            "Ireland"
           ],
           "xaxis": "x",
           "y": [
            8474,
            22647,
            16847,
            190,
            18700,
            127,
            333,
            15473,
            394,
            148,
            2132,
            264,
            35,
            2967,
            58,
            94,
            43,
            234,
            103,
            5
           ],
           "yaxis": "y"
          }
         ],
         "name": "4/1/20"
        },
        {
         "data": [
          {
           "alignmentgroup": "True",
           "hovertemplate": "type=confirmed<br>date=4/2/20<br>country=%{x}<br>count=%{y}<extra></extra>",
           "legendgroup": "confirmed",
           "marker": {
            "color": "#636efa"
           },
           "name": "confirmed",
           "offsetgroup": "confirmed",
           "orientation": "v",
           "showlegend": true,
           "textposition": "auto",
           "type": "bar",
           "x": [
            "US",
            "Spain",
            "Italy",
            "Russia",
            "Germany",
            "Brazil",
            "Turkey",
            "Iran",
            "Peru",
            "India",
            "Belgium",
            "Saudi Arabia",
            "Mexico",
            "Switzerland",
            "Ecuador",
            "Pakistan",
            "Portugal",
            "Chile",
            "Sweden",
            "Ireland"
           ],
           "xaxis": "x",
           "y": [
            226700,
            74974,
            83049,
            3283,
            61247,
            7593,
            17364,
            30597,
            822,
            2280,
            11842,
            1536,
            1425,
            14278,
            2978,
            2262,
            8757,
            3051,
            5157,
            3746
           ],
           "yaxis": "y"
          },
          {
           "alignmentgroup": "True",
           "hovertemplate": "type=death<br>date=4/2/20<br>country=%{x}<br>count=%{y}<extra></extra>",
           "legendgroup": "death",
           "marker": {
            "color": "#EF553B"
           },
           "name": "death",
           "offsetgroup": "death",
           "orientation": "v",
           "showlegend": true,
           "textposition": "auto",
           "type": "bar",
           "x": [
            "US",
            "Spain",
            "Italy",
            "Russia",
            "Germany",
            "Brazil",
            "Turkey",
            "Iran",
            "Peru",
            "India",
            "Belgium",
            "Saudi Arabia",
            "Mexico",
            "Switzerland",
            "Ecuador",
            "Pakistan",
            "Portugal",
            "Chile",
            "Sweden",
            "Ireland"
           ],
           "xaxis": "x",
           "y": [
            7921,
            10348,
            13915,
            30,
            1107,
            324,
            356,
            3160,
            55,
            72,
            1011,
            21,
            50,
            536,
            120,
            34,
            209,
            18,
            308,
            98
           ],
           "yaxis": "y"
          },
          {
           "alignmentgroup": "True",
           "hovertemplate": "type=recovered<br>date=4/2/20<br>country=%{x}<br>count=%{y}<extra></extra>",
           "legendgroup": "recovered",
           "marker": {
            "color": "#00cc96"
           },
           "name": "recovered",
           "offsetgroup": "recovered",
           "orientation": "v",
           "showlegend": true,
           "textposition": "auto",
           "type": "bar",
           "x": [
            "US",
            "Spain",
            "Italy",
            "Russia",
            "Germany",
            "Brazil",
            "Turkey",
            "Iran",
            "Peru",
            "India",
            "Belgium",
            "Saudi Arabia",
            "Mexico",
            "Switzerland",
            "Ecuador",
            "Pakistan",
            "Portugal",
            "Chile",
            "Sweden",
            "Ireland"
           ],
           "xaxis": "x",
           "y": [
            9001,
            26743,
            18278,
            235,
            22440,
            127,
            415,
            16711,
            537,
            191,
            2495,
            328,
            35,
            4013,
            65,
            125,
            68,
            335,
            103,
            5
           ],
           "yaxis": "y"
          }
         ],
         "name": "4/2/20"
        },
        {
         "data": [
          {
           "alignmentgroup": "True",
           "hovertemplate": "type=confirmed<br>date=4/3/20<br>country=%{x}<br>count=%{y}<extra></extra>",
           "legendgroup": "confirmed",
           "marker": {
            "color": "#636efa"
           },
           "name": "confirmed",
           "offsetgroup": "confirmed",
           "orientation": "v",
           "showlegend": true,
           "textposition": "auto",
           "type": "bar",
           "x": [
            "US",
            "Spain",
            "Italy",
            "Russia",
            "Germany",
            "Brazil",
            "Turkey",
            "Iran",
            "Peru",
            "India",
            "Belgium",
            "Saudi Arabia",
            "Mexico",
            "Switzerland",
            "Ecuador",
            "Pakistan",
            "Portugal",
            "Chile",
            "Sweden",
            "Ireland"
           ],
           "xaxis": "x",
           "y": [
            256414,
            77488,
            85388,
            3834,
            65309,
            8570,
            20012,
            31954,
            997,
            2303,
            12755,
            1663,
            995,
            14169,
            3158,
            2520,
            9572,
            3288,
            5568,
            4148
           ],
           "yaxis": "y"
          },
          {
           "alignmentgroup": "True",
           "hovertemplate": "type=death<br>date=4/3/20<br>country=%{x}<br>count=%{y}<extra></extra>",
           "legendgroup": "death",
           "marker": {
            "color": "#EF553B"
           },
           "name": "death",
           "offsetgroup": "death",
           "orientation": "v",
           "showlegend": true,
           "textposition": "auto",
           "type": "bar",
           "x": [
            "US",
            "Spain",
            "Italy",
            "Russia",
            "Germany",
            "Brazil",
            "Turkey",
            "Iran",
            "Peru",
            "India",
            "Belgium",
            "Saudi Arabia",
            "Mexico",
            "Switzerland",
            "Ecuador",
            "Pakistan",
            "Portugal",
            "Chile",
            "Sweden",
            "Ireland"
           ],
           "xaxis": "x",
           "y": [
            9246,
            11198,
            14681,
            34,
            1275,
            359,
            425,
            3294,
            61,
            72,
            1143,
            25,
            60,
            591,
            145,
            40,
            246,
            22,
            358,
            120
           ],
           "yaxis": "y"
          },
          {
           "alignmentgroup": "True",
           "hovertemplate": "type=recovered<br>date=4/3/20<br>country=%{x}<br>count=%{y}<extra></extra>",
           "legendgroup": "recovered",
           "marker": {
            "color": "#00cc96"
           },
           "name": "recovered",
           "offsetgroup": "recovered",
           "orientation": "v",
           "showlegend": true,
           "textposition": "auto",
           "type": "bar",
           "x": [
            "US",
            "Spain",
            "Italy",
            "Russia",
            "Germany",
            "Brazil",
            "Turkey",
            "Iran",
            "Peru",
            "India",
            "Belgium",
            "Saudi Arabia",
            "Mexico",
            "Switzerland",
            "Ecuador",
            "Pakistan",
            "Portugal",
            "Chile",
            "Sweden",
            "Ireland"
           ],
           "xaxis": "x",
           "y": [
            9707,
            30513,
            19758,
            281,
            24575,
            127,
            484,
            17935,
            537,
            192,
            2872,
            351,
            633,
            4846,
            65,
            126,
            68,
            427,
            205,
            5
           ],
           "yaxis": "y"
          }
         ],
         "name": "4/3/20"
        },
        {
         "data": [
          {
           "alignmentgroup": "True",
           "hovertemplate": "type=confirmed<br>date=4/4/20<br>country=%{x}<br>count=%{y}<extra></extra>",
           "legendgroup": "confirmed",
           "marker": {
            "color": "#636efa"
           },
           "name": "confirmed",
           "offsetgroup": "confirmed",
           "orientation": "v",
           "showlegend": true,
           "textposition": "auto",
           "type": "bar",
           "x": [
            "US",
            "Spain",
            "Italy",
            "Russia",
            "Germany",
            "Brazil",
            "Turkey",
            "Iran",
            "Peru",
            "India",
            "Belgium",
            "Saudi Arabia",
            "Mexico",
            "Switzerland",
            "Ecuador",
            "Pakistan",
            "Portugal",
            "Chile",
            "Sweden",
            "Ireland"
           ],
           "xaxis": "x",
           "y": [
            283143,
            80002,
            88274,
            4355,
            68248,
            9788,
            22647,
            32555,
            759,
            2767,
            13901,
            1730,
            1178,
            13424,
            3193,
            2646,
            10183,
            3606,
            5865,
            4442
           ],
           "yaxis": "y"
          },
          {
           "alignmentgroup": "True",
           "hovertemplate": "type=death<br>date=4/4/20<br>country=%{x}<br>count=%{y}<extra></extra>",
           "legendgroup": "death",
           "marker": {
            "color": "#EF553B"
           },
           "name": "death",
           "offsetgroup": "death",
           "orientation": "v",
           "showlegend": true,
           "textposition": "auto",
           "type": "bar",
           "x": [
            "US",
            "Spain",
            "Italy",
            "Russia",
            "Germany",
            "Brazil",
            "Turkey",
            "Iran",
            "Peru",
            "India",
            "Belgium",
            "Saudi Arabia",
            "Mexico",
            "Switzerland",
            "Ecuador",
            "Pakistan",
            "Portugal",
            "Chile",
            "Sweden",
            "Ireland"
           ],
           "xaxis": "x",
           "y": [
            10855,
            11947,
            15362,
            43,
            1444,
            445,
            501,
            3452,
            73,
            86,
            1283,
            29,
            79,
            666,
            172,
            41,
            266,
            27,
            373,
            137
           ],
           "yaxis": "y"
          },
          {
           "alignmentgroup": "True",
           "hovertemplate": "type=recovered<br>date=4/4/20<br>country=%{x}<br>count=%{y}<extra></extra>",
           "legendgroup": "recovered",
           "marker": {
            "color": "#00cc96"
           },
           "name": "recovered",
           "offsetgroup": "recovered",
           "orientation": "v",
           "showlegend": true,
           "textposition": "auto",
           "type": "bar",
           "x": [
            "US",
            "Spain",
            "Italy",
            "Russia",
            "Germany",
            "Brazil",
            "Turkey",
            "Iran",
            "Peru",
            "India",
            "Belgium",
            "Saudi Arabia",
            "Mexico",
            "Switzerland",
            "Ecuador",
            "Pakistan",
            "Portugal",
            "Chile",
            "Sweden",
            "Ireland"
           ],
           "xaxis": "x",
           "y": [
            14652,
            34219,
            20996,
            333,
            26400,
            127,
            786,
            19736,
            914,
            229,
            3247,
            420,
            633,
            6415,
            100,
            131,
            75,
            528,
            205,
            25
           ],
           "yaxis": "y"
          }
         ],
         "name": "4/4/20"
        },
        {
         "data": [
          {
           "alignmentgroup": "True",
           "hovertemplate": "type=confirmed<br>date=4/5/20<br>country=%{x}<br>count=%{y}<extra></extra>",
           "legendgroup": "confirmed",
           "marker": {
            "color": "#636efa"
           },
           "name": "confirmed",
           "offsetgroup": "confirmed",
           "orientation": "v",
           "showlegend": true,
           "textposition": "auto",
           "type": "bar",
           "x": [
            "US",
            "Spain",
            "Italy",
            "Russia",
            "Germany",
            "Brazil",
            "Turkey",
            "Iran",
            "Peru",
            "India",
            "Belgium",
            "Saudi Arabia",
            "Mexico",
            "Switzerland",
            "Ecuador",
            "Pakistan",
            "Portugal",
            "Chile",
            "Sweden",
            "Ireland"
           ],
           "xaxis": "x",
           "y": [
            306979,
            80925,
            91246,
            4989,
            69839,
            10517,
            25453,
            34887,
            1209,
            3260,
            14493,
            1880,
            1416,
            13970,
            3366,
            2899,
            10908,
            3819,
            6224,
            4811
           ],
           "yaxis": "y"
          },
          {
           "alignmentgroup": "True",
           "hovertemplate": "type=death<br>date=4/5/20<br>country=%{x}<br>count=%{y}<extra></extra>",
           "legendgroup": "death",
           "marker": {
            "color": "#EF553B"
           },
           "name": "death",
           "offsetgroup": "death",
           "orientation": "v",
           "showlegend": true,
           "textposition": "auto",
           "type": "bar",
           "x": [
            "US",
            "Spain",
            "Italy",
            "Russia",
            "Germany",
            "Brazil",
            "Turkey",
            "Iran",
            "Peru",
            "India",
            "Belgium",
            "Saudi Arabia",
            "Mexico",
            "Switzerland",
            "Ecuador",
            "Pakistan",
            "Portugal",
            "Chile",
            "Sweden",
            "Ireland"
           ],
           "xaxis": "x",
           "y": [
            12375,
            12641,
            15887,
            45,
            1584,
            486,
            574,
            3603,
            83,
            99,
            1447,
            34,
            94,
            715,
            180,
            47,
            295,
            34,
            401,
            158
           ],
           "yaxis": "y"
          },
          {
           "alignmentgroup": "True",
           "hovertemplate": "type=recovered<br>date=4/5/20<br>country=%{x}<br>count=%{y}<extra></extra>",
           "legendgroup": "recovered",
           "marker": {
            "color": "#00cc96"
           },
           "name": "recovered",
           "offsetgroup": "recovered",
           "orientation": "v",
           "showlegend": true,
           "textposition": "auto",
           "type": "bar",
           "x": [
            "US",
            "Spain",
            "Italy",
            "Russia",
            "Germany",
            "Brazil",
            "Turkey",
            "Iran",
            "Peru",
            "India",
            "Belgium",
            "Saudi Arabia",
            "Mexico",
            "Switzerland",
            "Ecuador",
            "Pakistan",
            "Portugal",
            "Chile",
            "Sweden",
            "Ireland"
           ],
           "xaxis": "x",
           "y": [
            17448,
            38080,
            21815,
            355,
            28700,
            127,
            1042,
            19736,
            989,
            229,
            3751,
            488,
            633,
            6415,
            100,
            211,
            75,
            618,
            205,
            25
           ],
           "yaxis": "y"
          }
         ],
         "name": "4/5/20"
        },
        {
         "data": [
          {
           "alignmentgroup": "True",
           "hovertemplate": "type=confirmed<br>date=4/6/20<br>country=%{x}<br>count=%{y}<extra></extra>",
           "legendgroup": "confirmed",
           "marker": {
            "color": "#636efa"
           },
           "name": "confirmed",
           "offsetgroup": "confirmed",
           "orientation": "v",
           "showlegend": true,
           "textposition": "auto",
           "type": "bar",
           "x": [
            "US",
            "Spain",
            "Italy",
            "Russia",
            "Germany",
            "Brazil",
            "Turkey",
            "Iran",
            "Peru",
            "India",
            "Belgium",
            "Saudi Arabia",
            "Mexico",
            "Switzerland",
            "Ecuador",
            "Pakistan",
            "Portugal",
            "Chile",
            "Sweden",
            "Ireland"
           ],
           "xaxis": "x",
           "y": [
            332842,
            82897,
            93187,
            5890,
            72864,
            11470,
            28242,
            32525,
            1472,
            4267,
            15196,
            2016,
            1681,
            12836,
            3456,
            3454,
            11279,
            4050,
            6524,
            5165
           ],
           "yaxis": "y"
          },
          {
           "alignmentgroup": "True",
           "hovertemplate": "type=death<br>date=4/6/20<br>country=%{x}<br>count=%{y}<extra></extra>",
           "legendgroup": "death",
           "marker": {
            "color": "#EF553B"
           },
           "name": "death",
           "offsetgroup": "death",
           "orientation": "v",
           "showlegend": true,
           "textposition": "auto",
           "type": "bar",
           "x": [
            "US",
            "Spain",
            "Italy",
            "Russia",
            "Germany",
            "Brazil",
            "Turkey",
            "Iran",
            "Peru",
            "India",
            "Belgium",
            "Saudi Arabia",
            "Mexico",
            "Switzerland",
            "Ecuador",
            "Pakistan",
            "Portugal",
            "Chile",
            "Sweden",
            "Ireland"
           ],
           "xaxis": "x",
           "y": [
            13894,
            13341,
            16523,
            47,
            1810,
            564,
            649,
            3739,
            92,
            136,
            1632,
            38,
            125,
            765,
            191,
            53,
            311,
            37,
            477,
            174
           ],
           "yaxis": "y"
          },
          {
           "alignmentgroup": "True",
           "hovertemplate": "type=recovered<br>date=4/6/20<br>country=%{x}<br>count=%{y}<extra></extra>",
           "legendgroup": "recovered",
           "marker": {
            "color": "#00cc96"
           },
           "name": "recovered",
           "offsetgroup": "recovered",
           "orientation": "v",
           "showlegend": true,
           "textposition": "auto",
           "type": "bar",
           "x": [
            "US",
            "Spain",
            "Italy",
            "Russia",
            "Germany",
            "Brazil",
            "Turkey",
            "Iran",
            "Peru",
            "India",
            "Belgium",
            "Saudi Arabia",
            "Mexico",
            "Switzerland",
            "Ecuador",
            "Pakistan",
            "Portugal",
            "Chile",
            "Sweden",
            "Ireland"
           ],
           "xaxis": "x",
           "y": [
            19581,
            40437,
            22837,
            406,
            28700,
            127,
            1326,
            24236,
            997,
            375,
            3986,
            551,
            633,
            8056,
            100,
            259,
            140,
            728,
            205,
            25
           ],
           "yaxis": "y"
          }
         ],
         "name": "4/6/20"
        },
        {
         "data": [
          {
           "alignmentgroup": "True",
           "hovertemplate": "type=confirmed<br>date=4/7/20<br>country=%{x}<br>count=%{y}<extra></extra>",
           "legendgroup": "confirmed",
           "marker": {
            "color": "#636efa"
           },
           "name": "confirmed",
           "offsetgroup": "confirmed",
           "orientation": "v",
           "showlegend": true,
           "textposition": "auto",
           "type": "bar",
           "x": [
            "US",
            "Spain",
            "Italy",
            "Russia",
            "Germany",
            "Brazil",
            "Turkey",
            "Iran",
            "Peru",
            "India",
            "Belgium",
            "Saudi Arabia",
            "Mexico",
            "Switzerland",
            "Ecuador",
            "Pakistan",
            "Portugal",
            "Chile",
            "Sweden",
            "Ireland"
           ],
           "xaxis": "x",
           "y": [
            359167,
            84689,
            94067,
            6945,
            69566,
            13221,
            31802,
            31678,
            1546,
            4740,
            16002,
            2139,
            2011,
            12728,
            3456,
            3549,
            11913,
            4175,
            6897,
            5474
           ],
           "yaxis": "y"
          },
          {
           "alignmentgroup": "True",
           "hovertemplate": "type=death<br>date=4/7/20<br>country=%{x}<br>count=%{y}<extra></extra>",
           "legendgroup": "death",
           "marker": {
            "color": "#EF553B"
           },
           "name": "death",
           "offsetgroup": "death",
           "orientation": "v",
           "showlegend": true,
           "textposition": "auto",
           "type": "bar",
           "x": [
            "US",
            "Spain",
            "Italy",
            "Russia",
            "Germany",
            "Brazil",
            "Turkey",
            "Iran",
            "Peru",
            "India",
            "Belgium",
            "Saudi Arabia",
            "Mexico",
            "Switzerland",
            "Ecuador",
            "Pakistan",
            "Portugal",
            "Chile",
            "Sweden",
            "Ireland"
           ],
           "xaxis": "x",
           "y": [
            16191,
            14045,
            17127,
            58,
            2016,
            686,
            725,
            3872,
            107,
            150,
            2035,
            41,
            141,
            821,
            191,
            57,
            345,
            43,
            591,
            210
           ],
           "yaxis": "y"
          },
          {
           "alignmentgroup": "True",
           "hovertemplate": "type=recovered<br>date=4/7/20<br>country=%{x}<br>count=%{y}<extra></extra>",
           "legendgroup": "recovered",
           "marker": {
            "color": "#00cc96"
           },
           "name": "recovered",
           "offsetgroup": "recovered",
           "orientation": "v",
           "showlegend": true,
           "textposition": "auto",
           "type": "bar",
           "x": [
            "US",
            "Spain",
            "Italy",
            "Russia",
            "Germany",
            "Brazil",
            "Turkey",
            "Iran",
            "Peru",
            "India",
            "Belgium",
            "Saudi Arabia",
            "Mexico",
            "Switzerland",
            "Ecuador",
            "Pakistan",
            "Portugal",
            "Chile",
            "Sweden",
            "Ireland"
           ],
           "xaxis": "x",
           "y": [
            21763,
            43208,
            24392,
            494,
            36081,
            127,
            1582,
            27039,
            1301,
            421,
            4157,
            615,
            633,
            8704,
            100,
            429,
            184,
            898,
            205,
            25
           ],
           "yaxis": "y"
          }
         ],
         "name": "4/7/20"
        },
        {
         "data": [
          {
           "alignmentgroup": "True",
           "hovertemplate": "type=confirmed<br>date=4/8/20<br>country=%{x}<br>count=%{y}<extra></extra>",
           "legendgroup": "confirmed",
           "marker": {
            "color": "#636efa"
           },
           "name": "confirmed",
           "offsetgroup": "confirmed",
           "orientation": "v",
           "showlegend": true,
           "textposition": "auto",
           "type": "bar",
           "x": [
            "US",
            "Spain",
            "Italy",
            "Russia",
            "Germany",
            "Brazil",
            "Turkey",
            "Iran",
            "Peru",
            "India",
            "Belgium",
            "Saudi Arabia",
            "Mexico",
            "Switzerland",
            "Ecuador",
            "Pakistan",
            "Portugal",
            "Chile",
            "Sweden",
            "Ireland"
           ],
           "xaxis": "x",
           "y": [
            386825,
            85407,
            95262,
            8029,
            64647,
            15224,
            35568,
            30781,
            2888,
            5232,
            16482,
            2260,
            2374,
            12585,
            4068,
            3735,
            12565,
            4383,
            7527,
            5814
           ],
           "yaxis": "y"
          },
          {
           "alignmentgroup": "True",
           "hovertemplate": "type=death<br>date=4/8/20<br>country=%{x}<br>count=%{y}<extra></extra>",
           "legendgroup": "death",
           "marker": {
            "color": "#EF553B"
           },
           "name": "death",
           "offsetgroup": "death",
           "orientation": "v",
           "showlegend": true,
           "textposition": "auto",
           "type": "bar",
           "x": [
            "US",
            "Spain",
            "Italy",
            "Russia",
            "Germany",
            "Brazil",
            "Turkey",
            "Iran",
            "Peru",
            "India",
            "Belgium",
            "Saudi Arabia",
            "Mexico",
            "Switzerland",
            "Ecuador",
            "Pakistan",
            "Portugal",
            "Chile",
            "Sweden",
            "Ireland"
           ],
           "xaxis": "x",
           "y": [
            18270,
            14792,
            17669,
            63,
            2349,
            819,
            812,
            3993,
            121,
            178,
            2240,
            41,
            174,
            895,
            242,
            61,
            380,
            48,
            687,
            235
           ],
           "yaxis": "y"
          },
          {
           "alignmentgroup": "True",
           "hovertemplate": "type=recovered<br>date=4/8/20<br>country=%{x}<br>count=%{y}<extra></extra>",
           "legendgroup": "recovered",
           "marker": {
            "color": "#00cc96"
           },
           "name": "recovered",
           "offsetgroup": "recovered",
           "orientation": "v",
           "showlegend": true,
           "textposition": "auto",
           "type": "bar",
           "x": [
            "US",
            "Spain",
            "Italy",
            "Russia",
            "Germany",
            "Brazil",
            "Turkey",
            "Iran",
            "Peru",
            "India",
            "Belgium",
            "Saudi Arabia",
            "Mexico",
            "Switzerland",
            "Ecuador",
            "Pakistan",
            "Portugal",
            "Chile",
            "Sweden",
            "Ireland"
           ],
           "xaxis": "x",
           "y": [
            23559,
            48021,
            26491,
            580,
            46300,
            127,
            1846,
            29812,
            1333,
            506,
            4681,
            631,
            633,
            9800,
            140,
            467,
            196,
            1115,
            205,
            25
           ],
           "yaxis": "y"
          }
         ],
         "name": "4/8/20"
        },
        {
         "data": [
          {
           "alignmentgroup": "True",
           "hovertemplate": "type=confirmed<br>date=4/9/20<br>country=%{x}<br>count=%{y}<extra></extra>",
           "legendgroup": "confirmed",
           "marker": {
            "color": "#636efa"
           },
           "name": "confirmed",
           "offsetgroup": "confirmed",
           "orientation": "v",
           "showlegend": true,
           "textposition": "auto",
           "type": "bar",
           "x": [
            "US",
            "Spain",
            "Italy",
            "Russia",
            "Germany",
            "Brazil",
            "Turkey",
            "Iran",
            "Peru",
            "India",
            "Belgium",
            "Saudi Arabia",
            "Mexico",
            "Switzerland",
            "Ecuador",
            "Pakistan",
            "Portugal",
            "Chile",
            "Sweden",
            "Ireland"
           ],
           "xaxis": "x",
           "y": [
            417115,
            85610,
            96877,
            9357,
            63167,
            16969,
            39232,
            29801,
            3680,
            5879,
            17296,
            2577,
            2614,
            12503,
            4354,
            3852,
            13342,
            4641,
            8143,
            6286
           ],
           "yaxis": "y"
          },
          {
           "alignmentgroup": "True",
           "hovertemplate": "type=death<br>date=4/9/20<br>country=%{x}<br>count=%{y}<extra></extra>",
           "legendgroup": "death",
           "marker": {
            "color": "#EF553B"
           },
           "name": "death",
           "offsetgroup": "death",
           "orientation": "v",
           "showlegend": true,
           "textposition": "auto",
           "type": "bar",
           "x": [
            "US",
            "Spain",
            "Italy",
            "Russia",
            "Germany",
            "Brazil",
            "Turkey",
            "Iran",
            "Peru",
            "India",
            "Belgium",
            "Saudi Arabia",
            "Mexico",
            "Switzerland",
            "Ecuador",
            "Pakistan",
            "Portugal",
            "Chile",
            "Sweden",
            "Ireland"
           ],
           "xaxis": "x",
           "y": [
            20255,
            15447,
            18279,
            76,
            2607,
            950,
            908,
            4110,
            138,
            226,
            2523,
            44,
            194,
            948,
            272,
            65,
            409,
            57,
            793,
            263
           ],
           "yaxis": "y"
          },
          {
           "alignmentgroup": "True",
           "hovertemplate": "type=recovered<br>date=4/9/20<br>country=%{x}<br>count=%{y}<extra></extra>",
           "legendgroup": "recovered",
           "marker": {
            "color": "#00cc96"
           },
           "name": "recovered",
           "offsetgroup": "recovered",
           "orientation": "v",
           "showlegend": true,
           "textposition": "auto",
           "type": "bar",
           "x": [
            "US",
            "Spain",
            "Italy",
            "Russia",
            "Germany",
            "Brazil",
            "Turkey",
            "Iran",
            "Peru",
            "India",
            "Belgium",
            "Saudi Arabia",
            "Mexico",
            "Switzerland",
            "Ecuador",
            "Pakistan",
            "Portugal",
            "Chile",
            "Sweden",
            "Ireland"
           ],
           "xaxis": "x",
           "y": [
            25410,
            52165,
            28470,
            698,
            52407,
            173,
            2142,
            32309,
            1438,
            620,
            5164,
            666,
            633,
            10600,
            339,
            572,
            205,
            1274,
            205,
            25
           ],
           "yaxis": "y"
          }
         ],
         "name": "4/9/20"
        },
        {
         "data": [
          {
           "alignmentgroup": "True",
           "hovertemplate": "type=confirmed<br>date=4/10/20<br>country=%{x}<br>count=%{y}<extra></extra>",
           "legendgroup": "confirmed",
           "marker": {
            "color": "#636efa"
           },
           "name": "confirmed",
           "offsetgroup": "confirmed",
           "orientation": "v",
           "showlegend": true,
           "textposition": "auto",
           "type": "bar",
           "x": [
            "US",
            "Spain",
            "Italy",
            "Russia",
            "Germany",
            "Brazil",
            "Turkey",
            "Iran",
            "Peru",
            "India",
            "Belgium",
            "Saudi Arabia",
            "Mexico",
            "Switzerland",
            "Ecuador",
            "Pakistan",
            "Portugal",
            "Chile",
            "Sweden",
            "Ireland"
           ],
           "xaxis": "x",
           "y": [
            445412,
            86524,
            98273,
            11028,
            65491,
            18408,
            43600,
            28495,
            4159,
            6578,
            18080,
            2919,
            2978,
            12449,
            6496,
            3902,
            14804,
            4865,
            8434,
            7777
           ],
           "yaxis": "y"
          },
          {
           "alignmentgroup": "True",
           "hovertemplate": "type=death<br>date=4/10/20<br>country=%{x}<br>count=%{y}<extra></extra>",
           "legendgroup": "death",
           "marker": {
            "color": "#EF553B"
           },
           "name": "death",
           "offsetgroup": "death",
           "orientation": "v",
           "showlegend": true,
           "textposition": "auto",
           "type": "bar",
           "x": [
            "US",
            "Spain",
            "Italy",
            "Russia",
            "Germany",
            "Brazil",
            "Turkey",
            "Iran",
            "Peru",
            "India",
            "Belgium",
            "Saudi Arabia",
            "Mexico",
            "Switzerland",
            "Ecuador",
            "Pakistan",
            "Portugal",
            "Chile",
            "Sweden",
            "Ireland"
           ],
           "xaxis": "x",
           "y": [
            22333,
            16081,
            18849,
            94,
            2767,
            1057,
            1006,
            4232,
            169,
            246,
            3019,
            47,
            233,
            1002,
            297,
            66,
            435,
            65,
            870,
            287
           ],
           "yaxis": "y"
          },
          {
           "alignmentgroup": "True",
           "hovertemplate": "type=recovered<br>date=4/10/20<br>country=%{x}<br>count=%{y}<extra></extra>",
           "legendgroup": "recovered",
           "marker": {
            "color": "#00cc96"
           },
           "name": "recovered",
           "offsetgroup": "recovered",
           "orientation": "v",
           "showlegend": true,
           "textposition": "auto",
           "type": "bar",
           "x": [
            "US",
            "Spain",
            "Italy",
            "Russia",
            "Germany",
            "Brazil",
            "Turkey",
            "Iran",
            "Peru",
            "India",
            "Belgium",
            "Saudi Arabia",
            "Mexico",
            "Switzerland",
            "Ecuador",
            "Pakistan",
            "Portugal",
            "Chile",
            "Sweden",
            "Ireland"
           ],
           "xaxis": "x",
           "y": [
            28790,
            55668,
            30455,
            795,
            53913,
            173,
            2423,
            35465,
            1569,
            774,
            5568,
            685,
            633,
            11100,
            368,
            727,
            233,
            1571,
            381,
            25
           ],
           "yaxis": "y"
          }
         ],
         "name": "4/10/20"
        },
        {
         "data": [
          {
           "alignmentgroup": "True",
           "hovertemplate": "type=confirmed<br>date=4/11/20<br>country=%{x}<br>count=%{y}<extra></extra>",
           "legendgroup": "confirmed",
           "marker": {
            "color": "#636efa"
           },
           "name": "confirmed",
           "offsetgroup": "confirmed",
           "orientation": "v",
           "showlegend": true,
           "textposition": "auto",
           "type": "bar",
           "x": [
            "US",
            "Spain",
            "Italy",
            "Russia",
            "Germany",
            "Brazil",
            "Turkey",
            "Iran",
            "Peru",
            "India",
            "Belgium",
            "Saudi Arabia",
            "Mexico",
            "Switzerland",
            "Ecuador",
            "Pakistan",
            "Portugal",
            "Chile",
            "Sweden",
            "Ireland"
           ],
           "xaxis": "x",
           "y": [
            470784,
            87312,
            100269,
            12433,
            64772,
            19430,
            48101,
            23725,
            4928,
            7189,
            18686,
            3261,
            3313,
            11971,
            6531,
            4163,
            15251,
            4990,
            8883,
            8583
           ],
           "yaxis": "y"
          },
          {
           "alignmentgroup": "True",
           "hovertemplate": "type=death<br>date=4/11/20<br>country=%{x}<br>count=%{y}<extra></extra>",
           "legendgroup": "death",
           "marker": {
            "color": "#EF553B"
           },
           "name": "death",
           "offsetgroup": "death",
           "orientation": "v",
           "showlegend": true,
           "textposition": "auto",
           "type": "bar",
           "x": [
            "US",
            "Spain",
            "Italy",
            "Russia",
            "Germany",
            "Brazil",
            "Turkey",
            "Iran",
            "Peru",
            "India",
            "Belgium",
            "Saudi Arabia",
            "Mexico",
            "Switzerland",
            "Ecuador",
            "Pakistan",
            "Portugal",
            "Chile",
            "Sweden",
            "Ireland"
           ],
           "xaxis": "x",
           "y": [
            24342,
            16606,
            19468,
            106,
            2736,
            1124,
            1101,
            4357,
            181,
            288,
            3346,
            52,
            273,
            1036,
            315,
            86,
            470,
            73,
            887,
            320
           ],
           "yaxis": "y"
          },
          {
           "alignmentgroup": "True",
           "hovertemplate": "type=recovered<br>date=4/11/20<br>country=%{x}<br>count=%{y}<extra></extra>",
           "legendgroup": "recovered",
           "marker": {
            "color": "#00cc96"
           },
           "name": "recovered",
           "offsetgroup": "recovered",
           "orientation": "v",
           "showlegend": true,
           "textposition": "auto",
           "type": "bar",
           "x": [
            "US",
            "Spain",
            "Italy",
            "Russia",
            "Germany",
            "Brazil",
            "Turkey",
            "Iran",
            "Peru",
            "India",
            "Belgium",
            "Saudi Arabia",
            "Mexico",
            "Switzerland",
            "Ecuador",
            "Pakistan",
            "Portugal",
            "Chile",
            "Sweden",
            "Ireland"
           ],
           "xaxis": "x",
           "y": [
            31270,
            59109,
            32534,
            1045,
            57400,
            173,
            2965,
            41947,
            1739,
            969,
            5986,
            720,
            633,
            12100,
            411,
            762,
            266,
            1864,
            381,
            25
           ],
           "yaxis": "y"
          }
         ],
         "name": "4/11/20"
        },
        {
         "data": [
          {
           "alignmentgroup": "True",
           "hovertemplate": "type=confirmed<br>date=4/12/20<br>country=%{x}<br>count=%{y}<extra></extra>",
           "legendgroup": "confirmed",
           "marker": {
            "color": "#636efa"
           },
           "name": "confirmed",
           "offsetgroup": "confirmed",
           "orientation": "v",
           "showlegend": true,
           "textposition": "auto",
           "type": "bar",
           "x": [
            "US",
            "Spain",
            "Italy",
            "Russia",
            "Germany",
            "Brazil",
            "Turkey",
            "Iran",
            "Peru",
            "India",
            "Belgium",
            "Saudi Arabia",
            "Mexico",
            "Switzerland",
            "Ecuador",
            "Pakistan",
            "Portugal",
            "Chile",
            "Sweden",
            "Ireland"
           ],
           "xaxis": "x",
           "y": [
            496239,
            87231,
            102253,
            14349,
            64532,
            20796,
            52312,
            23318,
            5528,
            7794,
            19584,
            3642,
            2593,
            11609,
            6632,
            4111,
            15804,
            5074,
            9203,
            9296
           ],
           "yaxis": "y"
          },
          {
           "alignmentgroup": "True",
           "hovertemplate": "type=death<br>date=4/12/20<br>country=%{x}<br>count=%{y}<extra></extra>",
           "legendgroup": "death",
           "marker": {
            "color": "#EF553B"
           },
           "name": "death",
           "offsetgroup": "death",
           "orientation": "v",
           "showlegend": true,
           "textposition": "auto",
           "type": "bar",
           "x": [
            "US",
            "Spain",
            "Italy",
            "Russia",
            "Germany",
            "Brazil",
            "Turkey",
            "Iran",
            "Peru",
            "India",
            "Belgium",
            "Saudi Arabia",
            "Mexico",
            "Switzerland",
            "Ecuador",
            "Pakistan",
            "Portugal",
            "Chile",
            "Sweden",
            "Ireland"
           ],
           "xaxis": "x",
           "y": [
            26086,
            17209,
            19899,
            130,
            3022,
            1223,
            1198,
            4474,
            193,
            331,
            3600,
            59,
            296,
            1106,
            333,
            91,
            504,
            80,
            899,
            334
           ],
           "yaxis": "y"
          },
          {
           "alignmentgroup": "True",
           "hovertemplate": "type=recovered<br>date=4/12/20<br>country=%{x}<br>count=%{y}<extra></extra>",
           "legendgroup": "recovered",
           "marker": {
            "color": "#00cc96"
           },
           "name": "recovered",
           "offsetgroup": "recovered",
           "orientation": "v",
           "showlegend": true,
           "textposition": "auto",
           "type": "bar",
           "x": [
            "US",
            "Spain",
            "Italy",
            "Russia",
            "Germany",
            "Brazil",
            "Turkey",
            "Iran",
            "Peru",
            "India",
            "Belgium",
            "Saudi Arabia",
            "Mexico",
            "Switzerland",
            "Ecuador",
            "Pakistan",
            "Portugal",
            "Chile",
            "Sweden",
            "Ireland"
           ],
           "xaxis": "x",
           "y": [
            32988,
            62391,
            34211,
            1291,
            60300,
            173,
            3446,
            43894,
            1798,
            1080,
            6463,
            761,
            1772,
            12700,
            501,
            1028,
            277,
            2059,
            381,
            25
           ],
           "yaxis": "y"
          }
         ],
         "name": "4/12/20"
        },
        {
         "data": [
          {
           "alignmentgroup": "True",
           "hovertemplate": "type=confirmed<br>date=4/13/20<br>country=%{x}<br>count=%{y}<extra></extra>",
           "legendgroup": "confirmed",
           "marker": {
            "color": "#636efa"
           },
           "name": "confirmed",
           "offsetgroup": "confirmed",
           "orientation": "v",
           "showlegend": true,
           "textposition": "auto",
           "type": "bar",
           "x": [
            "US",
            "Spain",
            "Italy",
            "Russia",
            "Germany",
            "Brazil",
            "Turkey",
            "Iran",
            "Peru",
            "India",
            "Belgium",
            "Saudi Arabia",
            "Mexico",
            "Switzerland",
            "Ecuador",
            "Pakistan",
            "Portugal",
            "Chile",
            "Sweden",
            "Ireland"
           ],
           "xaxis": "x",
           "y": [
            509267,
            87616,
            103616,
            16710,
            62578,
            21929,
            55796,
            22735,
            6926,
            8914,
            19979,
            4064,
            2839,
            10850,
            6577,
            4308,
            16122,
            5076,
            9648,
            10257
           ],
           "yaxis": "y"
          },
          {
           "alignmentgroup": "True",
           "hovertemplate": "type=death<br>date=4/13/20<br>country=%{x}<br>count=%{y}<extra></extra>",
           "legendgroup": "death",
           "marker": {
            "color": "#EF553B"
           },
           "name": "death",
           "offsetgroup": "death",
           "orientation": "v",
           "showlegend": true,
           "textposition": "auto",
           "type": "bar",
           "x": [
            "US",
            "Spain",
            "Italy",
            "Russia",
            "Germany",
            "Brazil",
            "Turkey",
            "Iran",
            "Peru",
            "India",
            "Belgium",
            "Saudi Arabia",
            "Mexico",
            "Switzerland",
            "Ecuador",
            "Pakistan",
            "Portugal",
            "Chile",
            "Sweden",
            "Ireland"
           ],
           "xaxis": "x",
           "y": [
            27870,
            17756,
            20465,
            148,
            3194,
            1328,
            1296,
            4585,
            216,
            358,
            3903,
            65,
            332,
            1138,
            355,
            93,
            535,
            82,
            919,
            365
           ],
           "yaxis": "y"
          },
          {
           "alignmentgroup": "True",
           "hovertemplate": "type=recovered<br>date=4/13/20<br>country=%{x}<br>count=%{y}<extra></extra>",
           "legendgroup": "recovered",
           "marker": {
            "color": "#00cc96"
           },
           "name": "recovered",
           "offsetgroup": "recovered",
           "orientation": "v",
           "showlegend": true,
           "textposition": "auto",
           "type": "bar",
           "x": [
            "US",
            "Spain",
            "Italy",
            "Russia",
            "Germany",
            "Brazil",
            "Turkey",
            "Iran",
            "Peru",
            "India",
            "Belgium",
            "Saudi Arabia",
            "Mexico",
            "Switzerland",
            "Ecuador",
            "Pakistan",
            "Portugal",
            "Chile",
            "Sweden",
            "Ireland"
           ],
           "xaxis": "x",
           "y": [
            43482,
            64727,
            35435,
            1470,
            64300,
            173,
            3957,
            45983,
            2642,
            1181,
            6707,
            805,
            1843,
            13700,
            597,
            1095,
            277,
            2367,
            381,
            25
           ],
           "yaxis": "y"
          }
         ],
         "name": "4/13/20"
        },
        {
         "data": [
          {
           "alignmentgroup": "True",
           "hovertemplate": "type=confirmed<br>date=4/14/20<br>country=%{x}<br>count=%{y}<extra></extra>",
           "legendgroup": "confirmed",
           "marker": {
            "color": "#636efa"
           },
           "name": "confirmed",
           "offsetgroup": "confirmed",
           "orientation": "v",
           "showlegend": true,
           "textposition": "auto",
           "type": "bar",
           "x": [
            "US",
            "Spain",
            "Italy",
            "Russia",
            "Germany",
            "Brazil",
            "Turkey",
            "Iran",
            "Peru",
            "India",
            "Belgium",
            "Saudi Arabia",
            "Mexico",
            "Switzerland",
            "Ecuador",
            "Pakistan",
            "Portugal",
            "Chile",
            "Sweden",
            "Ireland"
           ],
           "xaxis": "x",
           "y": [
            529645,
            86981,
            104291,
            19238,
            59865,
            20684,
            58909,
            22065,
            7204,
            9735,
            20094,
            4407,
            3029,
            11062,
            6538,
            4363,
            16534,
            5179,
            10031,
            11048
           ],
           "yaxis": "y"
          },
          {
           "alignmentgroup": "True",
           "hovertemplate": "type=death<br>date=4/14/20<br>country=%{x}<br>count=%{y}<extra></extra>",
           "legendgroup": "death",
           "marker": {
            "color": "#EF553B"
           },
           "name": "death",
           "offsetgroup": "death",
           "orientation": "v",
           "showlegend": true,
           "textposition": "auto",
           "type": "bar",
           "x": [
            "US",
            "Spain",
            "Italy",
            "Russia",
            "Germany",
            "Brazil",
            "Turkey",
            "Iran",
            "Peru",
            "India",
            "Belgium",
            "Saudi Arabia",
            "Mexico",
            "Switzerland",
            "Ecuador",
            "Pakistan",
            "Portugal",
            "Chile",
            "Sweden",
            "Ireland"
           ],
           "xaxis": "x",
           "y": [
            30262,
            18056,
            21067,
            170,
            3294,
            1532,
            1403,
            4683,
            230,
            393,
            4157,
            73,
            406,
            1174,
            369,
            96,
            567,
            92,
            1033,
            406
           ],
           "yaxis": "y"
          },
          {
           "alignmentgroup": "True",
           "hovertemplate": "type=recovered<br>date=4/14/20<br>country=%{x}<br>count=%{y}<extra></extra>",
           "legendgroup": "recovered",
           "marker": {
            "color": "#00cc96"
           },
           "name": "recovered",
           "offsetgroup": "recovered",
           "orientation": "v",
           "showlegend": true,
           "textposition": "auto",
           "type": "bar",
           "x": [
            "US",
            "Spain",
            "Italy",
            "Russia",
            "Germany",
            "Brazil",
            "Turkey",
            "Iran",
            "Peru",
            "India",
            "Belgium",
            "Saudi Arabia",
            "Mexico",
            "Switzerland",
            "Ecuador",
            "Pakistan",
            "Portugal",
            "Chile",
            "Sweden",
            "Ireland"
           ],
           "xaxis": "x",
           "y": [
            47763,
            67504,
            37130,
            1694,
            68200,
            3046,
            4799,
            48129,
            2869,
            1359,
            6868,
            889,
            1964,
            13700,
            696,
            1378,
            347,
            2646,
            381,
            25
           ],
           "yaxis": "y"
          }
         ],
         "name": "4/14/20"
        },
        {
         "data": [
          {
           "alignmentgroup": "True",
           "hovertemplate": "type=confirmed<br>date=4/15/20<br>country=%{x}<br>count=%{y}<extra></extra>",
           "legendgroup": "confirmed",
           "marker": {
            "color": "#636efa"
           },
           "name": "confirmed",
           "offsetgroup": "confirmed",
           "orientation": "v",
           "showlegend": true,
           "textposition": "auto",
           "type": "bar",
           "x": [
            "US",
            "Spain",
            "Italy",
            "Russia",
            "Germany",
            "Brazil",
            "Turkey",
            "Iran",
            "Peru",
            "India",
            "Belgium",
            "Saudi Arabia",
            "Mexico",
            "Switzerland",
            "Ecuador",
            "Pakistan",
            "Portugal",
            "Chile",
            "Sweden",
            "Ireland"
           ],
           "xaxis": "x",
           "y": [
            551520,
            88083,
            105418,
            22306,
            58349,
            12558,
            62200,
            21679,
            8113,
            10485,
            22026,
            4852,
            3273,
            9697,
            6690,
            4826,
            17109,
            5242,
            10343,
            12026
           ],
           "yaxis": "y"
          },
          {
           "alignmentgroup": "True",
           "hovertemplate": "type=death<br>date=4/15/20<br>country=%{x}<br>count=%{y}<extra></extra>",
           "legendgroup": "death",
           "marker": {
            "color": "#EF553B"
           },
           "name": "death",
           "offsetgroup": "death",
           "orientation": "v",
           "showlegend": true,
           "textposition": "auto",
           "type": "bar",
           "x": [
            "US",
            "Spain",
            "Italy",
            "Russia",
            "Germany",
            "Brazil",
            "Turkey",
            "Iran",
            "Peru",
            "India",
            "Belgium",
            "Saudi Arabia",
            "Mexico",
            "Switzerland",
            "Ecuador",
            "Pakistan",
            "Portugal",
            "Chile",
            "Sweden",
            "Ireland"
           ],
           "xaxis": "x",
           "y": [
            32734,
            18708,
            21645,
            198,
            3804,
            1736,
            1518,
            4777,
            254,
            405,
            4440,
            79,
            449,
            1239,
            388,
            111,
            599,
            94,
            1203,
            444
           ],
           "yaxis": "y"
          },
          {
           "alignmentgroup": "True",
           "hovertemplate": "type=recovered<br>date=4/15/20<br>country=%{x}<br>count=%{y}<extra></extra>",
           "legendgroup": "recovered",
           "marker": {
            "color": "#00cc96"
           },
           "name": "recovered",
           "offsetgroup": "recovered",
           "orientation": "v",
           "showlegend": true,
           "textposition": "auto",
           "type": "bar",
           "x": [
            "US",
            "Spain",
            "Italy",
            "Russia",
            "Germany",
            "Brazil",
            "Turkey",
            "Iran",
            "Peru",
            "India",
            "Belgium",
            "Saudi Arabia",
            "Mexico",
            "Switzerland",
            "Ecuador",
            "Pakistan",
            "Portugal",
            "Chile",
            "Sweden",
            "Ireland"
           ],
           "xaxis": "x",
           "y": [
            52096,
            70853,
            38092,
            1986,
            72600,
            14026,
            5674,
            49933,
            3108,
            1432,
            7107,
            931,
            2125,
            15400,
            780,
            1446,
            383,
            2937,
            381,
            77
           ],
           "yaxis": "y"
          }
         ],
         "name": "4/15/20"
        },
        {
         "data": [
          {
           "alignmentgroup": "True",
           "hovertemplate": "type=confirmed<br>date=4/16/20<br>country=%{x}<br>count=%{y}<extra></extra>",
           "legendgroup": "confirmed",
           "marker": {
            "color": "#636efa"
           },
           "name": "confirmed",
           "offsetgroup": "confirmed",
           "orientation": "v",
           "showlegend": true,
           "textposition": "auto",
           "type": "bar",
           "x": [
            "US",
            "Spain",
            "Italy",
            "Russia",
            "Germany",
            "Brazil",
            "Turkey",
            "Iran",
            "Peru",
            "India",
            "Belgium",
            "Saudi Arabia",
            "Mexico",
            "Switzerland",
            "Ecuador",
            "Pakistan",
            "Portugal",
            "Chile",
            "Sweden",
            "Ireland"
           ],
           "xaxis": "x",
           "y": [
            578062,
            90836,
            106607,
            25402,
            56646,
            14475,
            65461,
            20897,
            6097,
            11214,
            22390,
            5307,
            3686,
            9551,
            6984,
            5146,
            17719,
            5403,
            10657,
            12708
           ],
           "yaxis": "y"
          },
          {
           "alignmentgroup": "True",
           "hovertemplate": "type=death<br>date=4/16/20<br>country=%{x}<br>count=%{y}<extra></extra>",
           "legendgroup": "death",
           "marker": {
            "color": "#EF553B"
           },
           "name": "death",
           "offsetgroup": "death",
           "orientation": "v",
           "showlegend": true,
           "textposition": "auto",
           "type": "bar",
           "x": [
            "US",
            "Spain",
            "Italy",
            "Russia",
            "Germany",
            "Brazil",
            "Turkey",
            "Iran",
            "Peru",
            "India",
            "Belgium",
            "Saudi Arabia",
            "Mexico",
            "Switzerland",
            "Ecuador",
            "Pakistan",
            "Portugal",
            "Chile",
            "Sweden",
            "Ireland"
           ],
           "xaxis": "x",
           "y": [
            34827,
            19315,
            22170,
            232,
            4052,
            1924,
            1643,
            4869,
            274,
            448,
            4857,
            83,
            486,
            1281,
            403,
            128,
            629,
            105,
            1333,
            486
           ],
           "yaxis": "y"
          },
          {
           "alignmentgroup": "True",
           "hovertemplate": "type=recovered<br>date=4/16/20<br>country=%{x}<br>count=%{y}<extra></extra>",
           "legendgroup": "recovered",
           "marker": {
            "color": "#00cc96"
           },
           "name": "recovered",
           "offsetgroup": "recovered",
           "orientation": "v",
           "showlegend": true,
           "textposition": "auto",
           "type": "bar",
           "x": [
            "US",
            "Spain",
            "Italy",
            "Russia",
            "Germany",
            "Brazil",
            "Turkey",
            "Iran",
            "Peru",
            "India",
            "Belgium",
            "Saudi Arabia",
            "Mexico",
            "Switzerland",
            "Ecuador",
            "Pakistan",
            "Portugal",
            "Chile",
            "Sweden",
            "Ireland"
           ],
           "xaxis": "x",
           "y": [
            54703,
            74797,
            40164,
            2304,
            77000,
            14026,
            7089,
            52229,
            6120,
            1768,
            7562,
            990,
            2125,
            15900,
            838,
            1645,
            493,
            3299,
            550,
            77
           ],
           "yaxis": "y"
          }
         ],
         "name": "4/16/20"
        },
        {
         "data": [
          {
           "alignmentgroup": "True",
           "hovertemplate": "type=confirmed<br>date=4/17/20<br>country=%{x}<br>count=%{y}<extra></extra>",
           "legendgroup": "confirmed",
           "marker": {
            "color": "#636efa"
           },
           "name": "confirmed",
           "offsetgroup": "confirmed",
           "orientation": "v",
           "showlegend": true,
           "textposition": "auto",
           "type": "bar",
           "x": [
            "US",
            "Spain",
            "Italy",
            "Russia",
            "Germany",
            "Brazil",
            "Turkey",
            "Iran",
            "Peru",
            "India",
            "Belgium",
            "Saudi Arabia",
            "Mexico",
            "Switzerland",
            "Ecuador",
            "Pakistan",
            "Portugal",
            "Chile",
            "Sweden",
            "Ireland"
           ],
           "xaxis": "x",
           "y": [
            603750,
            96040,
            106962,
            29145,
            53931,
            17515,
            68146,
            20472,
            6648,
            11825,
            23014,
            6006,
            4204,
            9351,
            7191,
            5125,
            17846,
            5515,
            11266,
            13373
           ],
           "yaxis": "y"
          },
          {
           "alignmentgroup": "True",
           "hovertemplate": "type=death<br>date=4/17/20<br>country=%{x}<br>count=%{y}<extra></extra>",
           "legendgroup": "death",
           "marker": {
            "color": "#EF553B"
           },
           "name": "death",
           "offsetgroup": "death",
           "orientation": "v",
           "showlegend": true,
           "textposition": "auto",
           "type": "bar",
           "x": [
            "US",
            "Spain",
            "Italy",
            "Russia",
            "Germany",
            "Brazil",
            "Turkey",
            "Iran",
            "Peru",
            "India",
            "Belgium",
            "Saudi Arabia",
            "Mexico",
            "Switzerland",
            "Ecuador",
            "Pakistan",
            "Portugal",
            "Chile",
            "Sweden",
            "Ireland"
           ],
           "xaxis": "x",
           "y": [
            37411,
            20002,
            22745,
            273,
            4352,
            2141,
            1769,
            4958,
            300,
            486,
            5163,
            87,
            546,
            1327,
            421,
            135,
            657,
            116,
            1400,
            530
           ],
           "yaxis": "y"
          },
          {
           "alignmentgroup": "True",
           "hovertemplate": "type=recovered<br>date=4/17/20<br>country=%{x}<br>count=%{y}<extra></extra>",
           "legendgroup": "recovered",
           "marker": {
            "color": "#00cc96"
           },
           "name": "recovered",
           "offsetgroup": "recovered",
           "orientation": "v",
           "showlegend": true,
           "textposition": "auto",
           "type": "bar",
           "x": [
            "US",
            "Spain",
            "Italy",
            "Russia",
            "Germany",
            "Brazil",
            "Turkey",
            "Iran",
            "Peru",
            "India",
            "Belgium",
            "Saudi Arabia",
            "Mexico",
            "Switzerland",
            "Ecuador",
            "Pakistan",
            "Portugal",
            "Chile",
            "Sweden",
            "Ireland"
           ],
           "xaxis": "x",
           "y": [
            58545,
            74797,
            42727,
            2590,
            83114,
            14026,
            8631,
            54064,
            6541,
            2041,
            7961,
            1049,
            2125,
            16400,
            838,
            1765,
            519,
            3621,
            550,
            77
           ],
           "yaxis": "y"
          }
         ],
         "name": "4/17/20"
        },
        {
         "data": [
          {
           "alignmentgroup": "True",
           "hovertemplate": "type=confirmed<br>date=4/18/20<br>country=%{x}<br>count=%{y}<extra></extra>",
           "legendgroup": "confirmed",
           "marker": {
            "color": "#636efa"
           },
           "name": "confirmed",
           "offsetgroup": "confirmed",
           "orientation": "v",
           "showlegend": true,
           "textposition": "auto",
           "type": "bar",
           "x": [
            "US",
            "Spain",
            "Italy",
            "Russia",
            "Germany",
            "Brazil",
            "Turkey",
            "Iran",
            "Peru",
            "India",
            "Belgium",
            "Saudi Arabia",
            "Mexico",
            "Switzerland",
            "Ecuador",
            "Pakistan",
            "Portugal",
            "Chile",
            "Sweden",
            "Ireland"
           ],
           "xaxis": "x",
           "y": [
            627604,
            96886,
            107771,
            33423,
            53483,
            20278,
            69986,
            19850,
            7388,
            12738,
            23382,
            6853,
            4722,
            8936,
            7558,
            5663,
            18388,
            5569,
            11761,
            14110
           ],
           "yaxis": "y"
          },
          {
           "alignmentgroup": "True",
           "hovertemplate": "type=death<br>date=4/18/20<br>country=%{x}<br>count=%{y}<extra></extra>",
           "legendgroup": "death",
           "marker": {
            "color": "#EF553B"
           },
           "name": "death",
           "offsetgroup": "death",
           "orientation": "v",
           "showlegend": true,
           "textposition": "auto",
           "type": "bar",
           "x": [
            "US",
            "Spain",
            "Italy",
            "Russia",
            "Germany",
            "Brazil",
            "Turkey",
            "Iran",
            "Peru",
            "India",
            "Belgium",
            "Saudi Arabia",
            "Mexico",
            "Switzerland",
            "Ecuador",
            "Pakistan",
            "Portugal",
            "Chile",
            "Sweden",
            "Ireland"
           ],
           "xaxis": "x",
           "y": [
            39753,
            20043,
            23227,
            313,
            4459,
            2354,
            1890,
            5031,
            348,
            521,
            5453,
            92,
            650,
            1368,
            456,
            143,
            687,
            126,
            1511,
            571
           ],
           "yaxis": "y"
          },
          {
           "alignmentgroup": "True",
           "hovertemplate": "type=recovered<br>date=4/18/20<br>country=%{x}<br>count=%{y}<extra></extra>",
           "legendgroup": "recovered",
           "marker": {
            "color": "#00cc96"
           },
           "name": "recovered",
           "offsetgroup": "recovered",
           "orientation": "v",
           "showlegend": true,
           "textposition": "auto",
           "type": "bar",
           "x": [
            "US",
            "Spain",
            "Italy",
            "Russia",
            "Germany",
            "Brazil",
            "Turkey",
            "Iran",
            "Peru",
            "India",
            "Belgium",
            "Saudi Arabia",
            "Mexico",
            "Switzerland",
            "Ecuador",
            "Pakistan",
            "Portugal",
            "Chile",
            "Sweden",
            "Ireland"
           ],
           "xaxis": "x",
           "y": [
            64840,
            74797,
            44927,
            3057,
            85400,
            14026,
            10453,
            55987,
            6684,
            2463,
            8348,
            1329,
            2125,
            17100,
            1008,
            1832,
            610,
            4035,
            550,
            77
           ],
           "yaxis": "y"
          }
         ],
         "name": "4/18/20"
        },
        {
         "data": [
          {
           "alignmentgroup": "True",
           "hovertemplate": "type=confirmed<br>date=4/19/20<br>country=%{x}<br>count=%{y}<extra></extra>",
           "legendgroup": "confirmed",
           "marker": {
            "color": "#636efa"
           },
           "name": "confirmed",
           "offsetgroup": "confirmed",
           "orientation": "v",
           "showlegend": true,
           "textposition": "auto",
           "type": "bar",
           "x": [
            "US",
            "Spain",
            "Italy",
            "Russia",
            "Germany",
            "Brazil",
            "Turkey",
            "Iran",
            "Peru",
            "India",
            "Belgium",
            "Saudi Arabia",
            "Mexico",
            "Switzerland",
            "Ecuador",
            "Pakistan",
            "Portugal",
            "Chile",
            "Sweden",
            "Ireland"
           ],
           "xaxis": "x",
           "y": [
            647527,
            100864,
            108257,
            39201,
            52598,
            14062,
            72313,
            20070,
            8417,
            14202,
            24056,
            7867,
            4948,
            8547,
            7933,
            6312,
            18882,
            5617,
            12295,
            14564
           ],
           "yaxis": "y"
          },
          {
           "alignmentgroup": "True",
           "hovertemplate": "type=death<br>date=4/19/20<br>country=%{x}<br>count=%{y}<extra></extra>",
           "legendgroup": "death",
           "marker": {
            "color": "#EF553B"
           },
           "name": "death",
           "offsetgroup": "death",
           "orientation": "v",
           "showlegend": true,
           "textposition": "auto",
           "type": "bar",
           "x": [
            "US",
            "Spain",
            "Italy",
            "Russia",
            "Germany",
            "Brazil",
            "Turkey",
            "Iran",
            "Peru",
            "India",
            "Belgium",
            "Saudi Arabia",
            "Mexico",
            "Switzerland",
            "Ecuador",
            "Pakistan",
            "Portugal",
            "Chile",
            "Sweden",
            "Ireland"
           ],
           "xaxis": "x",
           "y": [
            40945,
            20453,
            23660,
            361,
            4586,
            2462,
            2017,
            5118,
            400,
            559,
            5683,
            97,
            686,
            1393,
            474,
            168,
            714,
            133,
            1540,
            610
           ],
           "yaxis": "y"
          },
          {
           "alignmentgroup": "True",
           "hovertemplate": "type=recovered<br>date=4/19/20<br>country=%{x}<br>count=%{y}<extra></extra>",
           "legendgroup": "recovered",
           "marker": {
            "color": "#00cc96"
           },
           "name": "recovered",
           "offsetgroup": "recovered",
           "orientation": "v",
           "showlegend": true,
           "textposition": "auto",
           "type": "bar",
           "x": [
            "US",
            "Spain",
            "Italy",
            "Russia",
            "Germany",
            "Brazil",
            "Turkey",
            "Iran",
            "Peru",
            "India",
            "Belgium",
            "Saudi Arabia",
            "Mexico",
            "Switzerland",
            "Ecuador",
            "Pakistan",
            "Portugal",
            "Chile",
            "Sweden",
            "Ireland"
           ],
           "xaxis": "x",
           "y": [
            70337,
            77357,
            47055,
            3291,
            88000,
            22130,
            11976,
            57023,
            6811,
            2854,
            8757,
            1398,
            2627,
            17800,
            1061,
            1868,
            610,
            4338,
            550,
            77
           ],
           "yaxis": "y"
          }
         ],
         "name": "4/19/20"
        },
        {
         "data": [
          {
           "alignmentgroup": "True",
           "hovertemplate": "type=confirmed<br>date=4/20/20<br>country=%{x}<br>count=%{y}<extra></extra>",
           "legendgroup": "confirmed",
           "marker": {
            "color": "#636efa"
           },
           "name": "confirmed",
           "offsetgroup": "confirmed",
           "orientation": "v",
           "showlegend": true,
           "textposition": "auto",
           "type": "bar",
           "x": [
            "US",
            "Spain",
            "Italy",
            "Russia",
            "Germany",
            "Brazil",
            "Turkey",
            "Iran",
            "Peru",
            "India",
            "Belgium",
            "Saudi Arabia",
            "Mexico",
            "Switzerland",
            "Ecuador",
            "Pakistan",
            "Portugal",
            "Chile",
            "Sweden",
            "Ireland"
           ],
           "xaxis": "x",
           "y": [
            669338,
            98771,
            108237,
            43270,
            50703,
            16026,
            75410,
            19023,
            8912,
            14674,
            25260,
            8891,
            5433,
            7915,
            8471,
            6272,
            19518,
            5692,
            12647,
            14888
           ],
           "yaxis": "y"
          },
          {
           "alignmentgroup": "True",
           "hovertemplate": "type=death<br>date=4/20/20<br>country=%{x}<br>count=%{y}<extra></extra>",
           "legendgroup": "death",
           "marker": {
            "color": "#EF553B"
           },
           "name": "death",
           "offsetgroup": "death",
           "orientation": "v",
           "showlegend": true,
           "textposition": "auto",
           "type": "bar",
           "x": [
            "US",
            "Spain",
            "Italy",
            "Russia",
            "Germany",
            "Brazil",
            "Turkey",
            "Iran",
            "Peru",
            "India",
            "Belgium",
            "Saudi Arabia",
            "Mexico",
            "Switzerland",
            "Ecuador",
            "Pakistan",
            "Portugal",
            "Chile",
            "Sweden",
            "Ireland"
           ],
           "xaxis": "x",
           "y": [
            42659,
            20852,
            24114,
            405,
            4862,
            2587,
            2140,
            5209,
            445,
            592,
            5828,
            103,
            712,
            1429,
            507,
            176,
            735,
            139,
            1580,
            687
           ],
           "yaxis": "y"
          },
          {
           "alignmentgroup": "True",
           "hovertemplate": "type=recovered<br>date=4/20/20<br>country=%{x}<br>count=%{y}<extra></extra>",
           "legendgroup": "recovered",
           "marker": {
            "color": "#00cc96"
           },
           "name": "recovered",
           "offsetgroup": "recovered",
           "orientation": "v",
           "showlegend": true,
           "textposition": "auto",
           "type": "bar",
           "x": [
            "US",
            "Spain",
            "Italy",
            "Russia",
            "Germany",
            "Brazil",
            "Turkey",
            "Iran",
            "Peru",
            "India",
            "Belgium",
            "Saudi Arabia",
            "Mexico",
            "Switzerland",
            "Ecuador",
            "Pakistan",
            "Portugal",
            "Chile",
            "Sweden",
            "Ireland"
           ],
           "xaxis": "x",
           "y": [
            72329,
            80587,
            48877,
            3446,
            91500,
            22130,
            13430,
            59273,
            6968,
            3273,
            8895,
            1490,
            2627,
            18600,
            1150,
            1970,
            610,
            4676,
            550,
            77
           ],
           "yaxis": "y"
          }
         ],
         "name": "4/20/20"
        },
        {
         "data": [
          {
           "alignmentgroup": "True",
           "hovertemplate": "type=confirmed<br>date=4/21/20<br>country=%{x}<br>count=%{y}<extra></extra>",
           "legendgroup": "confirmed",
           "marker": {
            "color": "#636efa"
           },
           "name": "confirmed",
           "offsetgroup": "confirmed",
           "orientation": "v",
           "showlegend": true,
           "textposition": "auto",
           "type": "bar",
           "x": [
            "US",
            "Spain",
            "Italy",
            "Russia",
            "Germany",
            "Brazil",
            "Turkey",
            "Iran",
            "Peru",
            "India",
            "Belgium",
            "Saudi Arabia",
            "Mexico",
            "Switzerland",
            "Ecuador",
            "Pakistan",
            "Portugal",
            "Chile",
            "Sweden",
            "Ireland"
           ],
           "xaxis": "x",
           "y": [
            691575,
            100382,
            107709,
            48434,
            48058,
            17347,
            78414,
            18540,
            10371,
            15460,
            25956,
            9882,
            6017,
            7185,
            8671,
            7291,
            19700,
            5716,
            13007,
            6077
           ],
           "yaxis": "y"
          },
          {
           "alignmentgroup": "True",
           "hovertemplate": "type=death<br>date=4/21/20<br>country=%{x}<br>count=%{y}<extra></extra>",
           "legendgroup": "death",
           "marker": {
            "color": "#EF553B"
           },
           "name": "death",
           "offsetgroup": "death",
           "orientation": "v",
           "showlegend": true,
           "textposition": "auto",
           "type": "bar",
           "x": [
            "US",
            "Spain",
            "Italy",
            "Russia",
            "Germany",
            "Brazil",
            "Turkey",
            "Iran",
            "Peru",
            "India",
            "Belgium",
            "Saudi Arabia",
            "Mexico",
            "Switzerland",
            "Ecuador",
            "Pakistan",
            "Portugal",
            "Chile",
            "Sweden",
            "Ireland"
           ],
           "xaxis": "x",
           "y": [
            45086,
            21282,
            24648,
            456,
            5033,
            2741,
            2259,
            5297,
            484,
            645,
            5998,
            109,
            857,
            1478,
            520,
            201,
            762,
            147,
            1765,
            730
           ],
           "yaxis": "y"
          },
          {
           "alignmentgroup": "True",
           "hovertemplate": "type=recovered<br>date=4/21/20<br>country=%{x}<br>count=%{y}<extra></extra>",
           "legendgroup": "recovered",
           "marker": {
            "color": "#00cc96"
           },
           "name": "recovered",
           "offsetgroup": "recovered",
           "orientation": "v",
           "showlegend": true,
           "textposition": "auto",
           "type": "bar",
           "x": [
            "US",
            "Spain",
            "Italy",
            "Russia",
            "Germany",
            "Brazil",
            "Turkey",
            "Iran",
            "Peru",
            "India",
            "Belgium",
            "Saudi Arabia",
            "Mexico",
            "Switzerland",
            "Ecuador",
            "Pakistan",
            "Portugal",
            "Chile",
            "Sweden",
            "Ireland"
           ],
           "xaxis": "x",
           "y": [
            75204,
            82514,
            51600,
            3873,
            95200,
            22991,
            14918,
            60965,
            6982,
            3975,
            9002,
            1640,
            2627,
            19400,
            1207,
            2073,
            917,
            4969,
            550,
            9233
           ],
           "yaxis": "y"
          }
         ],
         "name": "4/21/20"
        },
        {
         "data": [
          {
           "alignmentgroup": "True",
           "hovertemplate": "type=confirmed<br>date=4/22/20<br>country=%{x}<br>count=%{y}<extra></extra>",
           "legendgroup": "confirmed",
           "marker": {
            "color": "#636efa"
           },
           "name": "confirmed",
           "offsetgroup": "confirmed",
           "orientation": "v",
           "showlegend": true,
           "textposition": "auto",
           "type": "bar",
           "x": [
            "US",
            "Spain",
            "Italy",
            "Russia",
            "Germany",
            "Brazil",
            "Turkey",
            "Iran",
            "Peru",
            "India",
            "Belgium",
            "Saudi Arabia",
            "Mexico",
            "Switzerland",
            "Ecuador",
            "Pakistan",
            "Portugal",
            "Chile",
            "Sweden",
            "Ireland"
           ],
           "xaxis": "x",
           "y": [
            715573,
            100757,
            107699,
            53066,
            45969,
            17533,
            79821,
            17492,
            11693,
            16319,
            26194,
            10846,
            6947,
            6859,
            9051,
            7708,
            20054,
            5750,
            13517,
            6669
           ],
           "yaxis": "y"
          },
          {
           "alignmentgroup": "True",
           "hovertemplate": "type=death<br>date=4/22/20<br>country=%{x}<br>count=%{y}<extra></extra>",
           "legendgroup": "death",
           "marker": {
            "color": "#EF553B"
           },
           "name": "death",
           "offsetgroup": "death",
           "orientation": "v",
           "showlegend": true,
           "textposition": "auto",
           "type": "bar",
           "x": [
            "US",
            "Spain",
            "Italy",
            "Russia",
            "Germany",
            "Brazil",
            "Turkey",
            "Iran",
            "Peru",
            "India",
            "Belgium",
            "Saudi Arabia",
            "Mexico",
            "Switzerland",
            "Ecuador",
            "Pakistan",
            "Portugal",
            "Chile",
            "Sweden",
            "Ireland"
           ],
           "xaxis": "x",
           "y": [
            47412,
            21717,
            25085,
            513,
            5279,
            2906,
            2376,
            5391,
            530,
            681,
            6262,
            114,
            970,
            1509,
            537,
            212,
            785,
            160,
            1937,
            769
           ],
           "yaxis": "y"
          },
          {
           "alignmentgroup": "True",
           "hovertemplate": "type=recovered<br>date=4/22/20<br>country=%{x}<br>count=%{y}<extra></extra>",
           "legendgroup": "recovered",
           "marker": {
            "color": "#00cc96"
           },
           "name": "recovered",
           "offsetgroup": "recovered",
           "orientation": "v",
           "showlegend": true,
           "textposition": "auto",
           "type": "bar",
           "x": [
            "US",
            "Spain",
            "Italy",
            "Russia",
            "Germany",
            "Brazil",
            "Turkey",
            "Iran",
            "Peru",
            "India",
            "Belgium",
            "Saudi Arabia",
            "Mexico",
            "Switzerland",
            "Ecuador",
            "Pakistan",
            "Portugal",
            "Chile",
            "Sweden",
            "Ireland"
           ],
           "xaxis": "x",
           "y": [
            77366,
            85915,
            54543,
            4420,
            99400,
            25318,
            16477,
            63113,
            7027,
            4370,
            9433,
            1812,
            2627,
            19900,
            1262,
            2156,
            1143,
            5386,
            550,
            9233
           ],
           "yaxis": "y"
          }
         ],
         "name": "4/22/20"
        },
        {
         "data": [
          {
           "alignmentgroup": "True",
           "hovertemplate": "type=confirmed<br>date=4/23/20<br>country=%{x}<br>count=%{y}<extra></extra>",
           "legendgroup": "confirmed",
           "marker": {
            "color": "#636efa"
           },
           "name": "confirmed",
           "offsetgroup": "confirmed",
           "orientation": "v",
           "showlegend": true,
           "textposition": "auto",
           "type": "bar",
           "x": [
            "US",
            "Spain",
            "Italy",
            "Russia",
            "Germany",
            "Brazil",
            "Turkey",
            "Iran",
            "Peru",
            "India",
            "Belgium",
            "Saudi Arabia",
            "Mexico",
            "Switzerland",
            "Ecuador",
            "Pakistan",
            "Portugal",
            "Chile",
            "Sweden",
            "Ireland"
           ],
           "xaxis": "x",
           "y": [
            739243,
            101617,
            106848,
            57327,
            44254,
            20132,
            80808,
            16702,
            12920,
            17344,
            26507,
            11884,
            7937,
            6347,
            9295,
            8391,
            20332,
            5840,
            14184,
            7580
           ],
           "yaxis": "y"
          },
          {
           "alignmentgroup": "True",
           "hovertemplate": "type=death<br>date=4/23/20<br>country=%{x}<br>count=%{y}<extra></extra>",
           "legendgroup": "death",
           "marker": {
            "color": "#EF553B"
           },
           "name": "death",
           "offsetgroup": "death",
           "orientation": "v",
           "showlegend": true,
           "textposition": "auto",
           "type": "bar",
           "x": [
            "US",
            "Spain",
            "Italy",
            "Russia",
            "Germany",
            "Brazil",
            "Turkey",
            "Iran",
            "Peru",
            "India",
            "Belgium",
            "Saudi Arabia",
            "Mexico",
            "Switzerland",
            "Ecuador",
            "Pakistan",
            "Portugal",
            "Chile",
            "Sweden",
            "Ireland"
           ],
           "xaxis": "x",
           "y": [
            49724,
            22157,
            25549,
            555,
            5575,
            3331,
            2491,
            5481,
            572,
            721,
            6490,
            121,
            1069,
            1549,
            560,
            237,
            820,
            168,
            2021,
            794
           ],
           "yaxis": "y"
          },
          {
           "alignmentgroup": "True",
           "hovertemplate": "type=recovered<br>date=4/23/20<br>country=%{x}<br>count=%{y}<extra></extra>",
           "legendgroup": "recovered",
           "marker": {
            "color": "#00cc96"
           },
           "name": "recovered",
           "offsetgroup": "recovered",
           "orientation": "v",
           "showlegend": true,
           "textposition": "auto",
           "type": "bar",
           "x": [
            "US",
            "Spain",
            "Italy",
            "Russia",
            "Germany",
            "Brazil",
            "Turkey",
            "Iran",
            "Peru",
            "India",
            "Belgium",
            "Saudi Arabia",
            "Mexico",
            "Switzerland",
            "Ecuador",
            "Pakistan",
            "Portugal",
            "Chile",
            "Sweden",
            "Ireland"
           ],
           "xaxis": "x",
           "y": [
            80203,
            89250,
            57576,
            4891,
            103300,
            26573,
            18491,
            64843,
            7422,
            5012,
            9800,
            1925,
            2627,
            20600,
            1328,
            2527,
            1201,
            5804,
            550,
            9233
           ],
           "yaxis": "y"
          }
         ],
         "name": "4/23/20"
        },
        {
         "data": [
          {
           "alignmentgroup": "True",
           "hovertemplate": "type=confirmed<br>date=4/24/20<br>country=%{x}<br>count=%{y}<extra></extra>",
           "legendgroup": "confirmed",
           "marker": {
            "color": "#636efa"
           },
           "name": "confirmed",
           "offsetgroup": "confirmed",
           "orientation": "v",
           "showlegend": true,
           "textposition": "auto",
           "type": "bar",
           "x": [
            "US",
            "Spain",
            "Italy",
            "Russia",
            "Germany",
            "Brazil",
            "Turkey",
            "Iran",
            "Peru",
            "India",
            "Belgium",
            "Saudi Arabia",
            "Mexico",
            "Switzerland",
            "Ecuador",
            "Pakistan",
            "Portugal",
            "Chile",
            "Sweden",
            "Ireland"
           ],
           "xaxis": "x",
           "y": [
            754786,
            88111,
            106527,
            62439,
            39439,
            22684,
            80575,
            16021,
            13518,
            18252,
            27492,
            12926,
            9024,
            6088,
            20777,
            8932,
            20715,
            5805,
            14410,
            7937
           ],
           "yaxis": "y"
          },
          {
           "alignmentgroup": "True",
           "hovertemplate": "type=death<br>date=4/24/20<br>country=%{x}<br>count=%{y}<extra></extra>",
           "legendgroup": "death",
           "marker": {
            "color": "#EF553B"
           },
           "name": "death",
           "offsetgroup": "death",
           "orientation": "v",
           "showlegend": true,
           "textposition": "auto",
           "type": "bar",
           "x": [
            "US",
            "Spain",
            "Italy",
            "Russia",
            "Germany",
            "Brazil",
            "Turkey",
            "Iran",
            "Peru",
            "India",
            "Belgium",
            "Saudi Arabia",
            "Mexico",
            "Switzerland",
            "Ecuador",
            "Pakistan",
            "Portugal",
            "Chile",
            "Sweden",
            "Ireland"
           ],
           "xaxis": "x",
           "y": [
            51493,
            22524,
            25969,
            615,
            5760,
            3704,
            2600,
            5574,
            634,
            780,
            6679,
            127,
            1221,
            1589,
            576,
            253,
            854,
            174,
            2152,
            1014
           ],
           "yaxis": "y"
          },
          {
           "alignmentgroup": "True",
           "hovertemplate": "type=recovered<br>date=4/24/20<br>country=%{x}<br>count=%{y}<extra></extra>",
           "legendgroup": "recovered",
           "marker": {
            "color": "#00cc96"
           },
           "name": "recovered",
           "offsetgroup": "recovered",
           "orientation": "v",
           "showlegend": true,
           "textposition": "auto",
           "type": "bar",
           "x": [
            "US",
            "Spain",
            "Italy",
            "Russia",
            "Germany",
            "Brazil",
            "Turkey",
            "Iran",
            "Peru",
            "India",
            "Belgium",
            "Saudi Arabia",
            "Mexico",
            "Switzerland",
            "Ecuador",
            "Pakistan",
            "Portugal",
            "Chile",
            "Sweden",
            "Ireland"
           ],
           "xaxis": "x",
           "y": [
            99079,
            92355,
            60498,
            5568,
            109800,
            27655,
            21737,
            66599,
            7496,
            5498,
            10122,
            2049,
            2627,
            21000,
            1366,
            2755,
            1228,
            6327,
            1005,
            9233
           ],
           "yaxis": "y"
          }
         ],
         "name": "4/24/20"
        },
        {
         "data": [
          {
           "alignmentgroup": "True",
           "hovertemplate": "type=confirmed<br>date=4/25/20<br>country=%{x}<br>count=%{y}<extra></extra>",
           "legendgroup": "confirmed",
           "marker": {
            "color": "#636efa"
           },
           "name": "confirmed",
           "offsetgroup": "confirmed",
           "orientation": "v",
           "showlegend": true,
           "textposition": "auto",
           "type": "bar",
           "x": [
            "US",
            "Spain",
            "Italy",
            "Russia",
            "Germany",
            "Brazil",
            "Turkey",
            "Iran",
            "Peru",
            "India",
            "Belgium",
            "Saudi Arabia",
            "Mexico",
            "Switzerland",
            "Ecuador",
            "Pakistan",
            "Portugal",
            "Chile",
            "Sweden",
            "Ireland"
           ],
           "xaxis": "x",
           "y": [
            784027,
            87295,
            105847,
            67657,
            40836,
            26107,
            79485,
            15485,
            16834,
            19519,
            27991,
            13948,
            5388,
            5995,
            20777,
            9588,
            21235,
            5931,
            14980,
            8265
           ],
           "yaxis": "y"
          },
          {
           "alignmentgroup": "True",
           "hovertemplate": "type=death<br>date=4/25/20<br>country=%{x}<br>count=%{y}<extra></extra>",
           "legendgroup": "death",
           "marker": {
            "color": "#EF553B"
           },
           "name": "death",
           "offsetgroup": "death",
           "orientation": "v",
           "showlegend": true,
           "textposition": "auto",
           "type": "bar",
           "x": [
            "US",
            "Spain",
            "Italy",
            "Russia",
            "Germany",
            "Brazil",
            "Turkey",
            "Iran",
            "Peru",
            "India",
            "Belgium",
            "Saudi Arabia",
            "Mexico",
            "Switzerland",
            "Ecuador",
            "Pakistan",
            "Portugal",
            "Chile",
            "Sweden",
            "Ireland"
           ],
           "xaxis": "x",
           "y": [
            53755,
            22902,
            26384,
            681,
            5877,
            4057,
            2706,
            5650,
            700,
            825,
            6917,
            136,
            1305,
            1599,
            576,
            269,
            880,
            181,
            2192,
            1063
           ],
           "yaxis": "y"
          },
          {
           "alignmentgroup": "True",
           "hovertemplate": "type=recovered<br>date=4/25/20<br>country=%{x}<br>count=%{y}<extra></extra>",
           "legendgroup": "recovered",
           "marker": {
            "color": "#00cc96"
           },
           "name": "recovered",
           "offsetgroup": "recovered",
           "orientation": "v",
           "showlegend": true,
           "textposition": "auto",
           "type": "bar",
           "x": [
            "US",
            "Spain",
            "Italy",
            "Russia",
            "Germany",
            "Brazil",
            "Turkey",
            "Iran",
            "Peru",
            "India",
            "Belgium",
            "Saudi Arabia",
            "Mexico",
            "Switzerland",
            "Ecuador",
            "Pakistan",
            "Portugal",
            "Chile",
            "Sweden",
            "Ireland"
           ],
           "xaxis": "x",
           "y": [
            100372,
            95708,
            63120,
            6250,
            109800,
            29160,
            25582,
            68193,
            7797,
            5939,
            10417,
            2215,
            7149,
            21300,
            1366,
            2866,
            1277,
            6746,
            1005,
            9233
           ],
           "yaxis": "y"
          }
         ],
         "name": "4/25/20"
        },
        {
         "data": [
          {
           "alignmentgroup": "True",
           "hovertemplate": "type=confirmed<br>date=4/26/20<br>country=%{x}<br>count=%{y}<extra></extra>",
           "legendgroup": "confirmed",
           "marker": {
            "color": "#636efa"
           },
           "name": "confirmed",
           "offsetgroup": "confirmed",
           "orientation": "v",
           "showlegend": true,
           "textposition": "auto",
           "type": "bar",
           "x": [
            "US",
            "Spain",
            "Italy",
            "Russia",
            "Germany",
            "Brazil",
            "Turkey",
            "Iran",
            "Peru",
            "India",
            "Belgium",
            "Saudi Arabia",
            "Mexico",
            "Switzerland",
            "Ecuador",
            "Pakistan",
            "Portugal",
            "Chile",
            "Sweden",
            "Ireland"
           ],
           "xaxis": "x",
           "y": [
            803916,
            86072,
            106103,
            73435,
            39794,
            28662,
            78185,
            15114,
            18701,
            20486,
            28255,
            15026,
            4972,
            5651,
            20777,
            10111,
            21632,
            6118,
            15441,
            8942
           ],
           "yaxis": "y"
          },
          {
           "alignmentgroup": "True",
           "hovertemplate": "type=death<br>date=4/26/20<br>country=%{x}<br>count=%{y}<extra></extra>",
           "legendgroup": "death",
           "marker": {
            "color": "#EF553B"
           },
           "name": "death",
           "offsetgroup": "death",
           "orientation": "v",
           "showlegend": true,
           "textposition": "auto",
           "type": "bar",
           "x": [
            "US",
            "Spain",
            "Italy",
            "Russia",
            "Germany",
            "Brazil",
            "Turkey",
            "Iran",
            "Peru",
            "India",
            "Belgium",
            "Saudi Arabia",
            "Mexico",
            "Switzerland",
            "Ecuador",
            "Pakistan",
            "Portugal",
            "Chile",
            "Sweden",
            "Ireland"
           ],
           "xaxis": "x",
           "y": [
            54881,
            23190,
            26644,
            747,
            5976,
            4286,
            2805,
            5710,
            728,
            881,
            7094,
            139,
            1351,
            1610,
            576,
            281,
            903,
            189,
            2194,
            1087
           ],
           "yaxis": "y"
          },
          {
           "alignmentgroup": "True",
           "hovertemplate": "type=recovered<br>date=4/26/20<br>country=%{x}<br>count=%{y}<extra></extra>",
           "legendgroup": "recovered",
           "marker": {
            "color": "#00cc96"
           },
           "name": "recovered",
           "offsetgroup": "recovered",
           "orientation": "v",
           "showlegend": true,
           "textposition": "auto",
           "type": "bar",
           "x": [
            "US",
            "Spain",
            "Italy",
            "Russia",
            "Germany",
            "Brazil",
            "Turkey",
            "Iran",
            "Peru",
            "India",
            "Belgium",
            "Saudi Arabia",
            "Mexico",
            "Switzerland",
            "Ecuador",
            "Pakistan",
            "Portugal",
            "Chile",
            "Sweden",
            "Ireland"
           ],
           "xaxis": "x",
           "y": [
            106988,
            98372,
            64928,
            6767,
            112000,
            30152,
            29140,
            69657,
            8088,
            6523,
            10785,
            2357,
            8354,
            21800,
            1366,
            2936,
            1329,
            7024,
            1005,
            9233
           ],
           "yaxis": "y"
          }
         ],
         "name": "4/26/20"
        },
        {
         "data": [
          {
           "alignmentgroup": "True",
           "hovertemplate": "type=confirmed<br>date=4/27/20<br>country=%{x}<br>count=%{y}<extra></extra>",
           "legendgroup": "confirmed",
           "marker": {
            "color": "#636efa"
           },
           "name": "confirmed",
           "offsetgroup": "confirmed",
           "orientation": "v",
           "showlegend": true,
           "textposition": "auto",
           "type": "bar",
           "x": [
            "US",
            "Spain",
            "Italy",
            "Russia",
            "Germany",
            "Brazil",
            "Turkey",
            "Iran",
            "Peru",
            "India",
            "Belgium",
            "Saudi Arabia",
            "Mexico",
            "Switzerland",
            "Ecuador",
            "Pakistan",
            "Portugal",
            "Chile",
            "Sweden",
            "Ireland"
           ],
           "xaxis": "x",
           "y": [
            820554,
            85069,
            105813,
            79007,
            38132,
            31701,
            75570,
            14733,
            19492,
            21375,
            28602,
            16136,
            5009,
            5299,
            21020,
            10594,
            21742,
            6288,
            15647,
            9313
           ],
           "yaxis": "y"
          },
          {
           "alignmentgroup": "True",
           "hovertemplate": "type=death<br>date=4/27/20<br>country=%{x}<br>count=%{y}<extra></extra>",
           "legendgroup": "death",
           "marker": {
            "color": "#EF553B"
           },
           "name": "death",
           "offsetgroup": "death",
           "orientation": "v",
           "showlegend": true,
           "textposition": "auto",
           "type": "bar",
           "x": [
            "US",
            "Spain",
            "Italy",
            "Russia",
            "Germany",
            "Brazil",
            "Turkey",
            "Iran",
            "Peru",
            "India",
            "Belgium",
            "Saudi Arabia",
            "Mexico",
            "Switzerland",
            "Ecuador",
            "Pakistan",
            "Portugal",
            "Chile",
            "Sweden",
            "Ireland"
           ],
           "xaxis": "x",
           "y": [
            56219,
            23521,
            26977,
            794,
            6126,
            4603,
            2900,
            5806,
            782,
            939,
            7207,
            144,
            1434,
            1665,
            663,
            292,
            928,
            198,
            2274,
            1102
           ],
           "yaxis": "y"
          },
          {
           "alignmentgroup": "True",
           "hovertemplate": "type=recovered<br>date=4/27/20<br>country=%{x}<br>count=%{y}<extra></extra>",
           "legendgroup": "recovered",
           "marker": {
            "color": "#00cc96"
           },
           "name": "recovered",
           "offsetgroup": "recovered",
           "orientation": "v",
           "showlegend": true,
           "textposition": "auto",
           "type": "bar",
           "x": [
            "US",
            "Spain",
            "Italy",
            "Russia",
            "Germany",
            "Brazil",
            "Turkey",
            "Iran",
            "Peru",
            "India",
            "Belgium",
            "Saudi Arabia",
            "Mexico",
            "Switzerland",
            "Ecuador",
            "Pakistan",
            "Portugal",
            "Chile",
            "Sweden",
            "Ireland"
           ],
           "xaxis": "x",
           "y": [
            111424,
            100875,
            66624,
            7346,
            114500,
            31142,
            33791,
            70933,
            8425,
            7137,
            10878,
            2531,
            9086,
            22200,
            1557,
            3029,
            1357,
            7327,
            1005,
            9233
           ],
           "yaxis": "y"
          }
         ],
         "name": "4/27/20"
        },
        {
         "data": [
          {
           "alignmentgroup": "True",
           "hovertemplate": "type=confirmed<br>date=4/28/20<br>country=%{x}<br>count=%{y}<extra></extra>",
           "legendgroup": "confirmed",
           "marker": {
            "color": "#636efa"
           },
           "name": "confirmed",
           "offsetgroup": "confirmed",
           "orientation": "v",
           "showlegend": true,
           "textposition": "auto",
           "type": "bar",
           "x": [
            "US",
            "Spain",
            "Italy",
            "Russia",
            "Germany",
            "Brazil",
            "Turkey",
            "Iran",
            "Peru",
            "India",
            "Belgium",
            "Saudi Arabia",
            "Mexico",
            "Switzerland",
            "Ecuador",
            "Pakistan",
            "Portugal",
            "Chile",
            "Sweden",
            "Ireland"
           ],
           "xaxis": "x",
           "y": [
            838291,
            84403,
            105205,
            84235,
            36198,
            35608,
            72852,
            14268,
            21157,
            22569,
            29060,
            17141,
            3760,
            4965,
            21830,
            11067,
            21985,
            6448,
            16261,
            9485
           ],
           "yaxis": "y"
          },
          {
           "alignmentgroup": "True",
           "hovertemplate": "type=death<br>date=4/28/20<br>country=%{x}<br>count=%{y}<extra></extra>",
           "legendgroup": "death",
           "marker": {
            "color": "#EF553B"
           },
           "name": "death",
           "offsetgroup": "death",
           "orientation": "v",
           "showlegend": true,
           "textposition": "auto",
           "type": "bar",
           "x": [
            "US",
            "Spain",
            "Italy",
            "Russia",
            "Germany",
            "Brazil",
            "Turkey",
            "Iran",
            "Peru",
            "India",
            "Belgium",
            "Saudi Arabia",
            "Mexico",
            "Switzerland",
            "Ecuador",
            "Pakistan",
            "Portugal",
            "Chile",
            "Sweden",
            "Ireland"
           ],
           "xaxis": "x",
           "y": [
            58355,
            23822,
            27359,
            867,
            6314,
            5083,
            2992,
            5877,
            854,
            1008,
            7331,
            152,
            1569,
            1699,
            871,
            312,
            948,
            207,
            2355,
            1159
           ],
           "yaxis": "y"
          },
          {
           "alignmentgroup": "True",
           "hovertemplate": "type=recovered<br>date=4/28/20<br>country=%{x}<br>count=%{y}<extra></extra>",
           "legendgroup": "recovered",
           "marker": {
            "color": "#00cc96"
           },
           "name": "recovered",
           "offsetgroup": "recovered",
           "orientation": "v",
           "showlegend": true,
           "textposition": "auto",
           "type": "bar",
           "x": [
            "US",
            "Spain",
            "Italy",
            "Russia",
            "Germany",
            "Brazil",
            "Turkey",
            "Iran",
            "Peru",
            "India",
            "Belgium",
            "Saudi Arabia",
            "Mexico",
            "Switzerland",
            "Ecuador",
            "Pakistan",
            "Portugal",
            "Chile",
            "Sweden",
            "Ireland"
           ],
           "xaxis": "x",
           "y": [
            115936,
            102548,
            68941,
            8456,
            117400,
            32544,
            38809,
            72439,
            9179,
            7747,
            10943,
            2784,
            11423,
            22600,
            1557,
            3233,
            1389,
            7710,
            1005,
            9233
           ],
           "yaxis": "y"
          }
         ],
         "name": "4/28/20"
        },
        {
         "data": [
          {
           "alignmentgroup": "True",
           "hovertemplate": "type=confirmed<br>date=4/29/20<br>country=%{x}<br>count=%{y}<extra></extra>",
           "legendgroup": "confirmed",
           "marker": {
            "color": "#636efa"
           },
           "name": "confirmed",
           "offsetgroup": "confirmed",
           "orientation": "v",
           "showlegend": true,
           "textposition": "auto",
           "type": "bar",
           "x": [
            "US",
            "Spain",
            "Italy",
            "Russia",
            "Germany",
            "Brazil",
            "Turkey",
            "Iran",
            "Peru",
            "India",
            "Belgium",
            "Saudi Arabia",
            "Mexico",
            "Switzerland",
            "Ecuador",
            "Pakistan",
            "Portugal",
            "Chile",
            "Sweden",
            "Ireland"
           ],
           "xaxis": "x",
           "y": [
            858222,
            79695,
            104657,
            88141,
            34672,
            40040,
            70468,
            13909,
            22951,
            23546,
            29075,
            18292,
            4644,
            5091,
            22235,
            11757,
            22062,
            6612,
            16835,
            5677
           ],
           "yaxis": "y"
          },
          {
           "alignmentgroup": "True",
           "hovertemplate": "type=death<br>date=4/29/20<br>country=%{x}<br>count=%{y}<extra></extra>",
           "legendgroup": "death",
           "marker": {
            "color": "#EF553B"
           },
           "name": "death",
           "offsetgroup": "death",
           "orientation": "v",
           "showlegend": true,
           "textposition": "auto",
           "type": "bar",
           "x": [
            "US",
            "Spain",
            "Italy",
            "Russia",
            "Germany",
            "Brazil",
            "Turkey",
            "Iran",
            "Peru",
            "India",
            "Belgium",
            "Saudi Arabia",
            "Mexico",
            "Switzerland",
            "Ecuador",
            "Pakistan",
            "Portugal",
            "Chile",
            "Sweden",
            "Ireland"
           ],
           "xaxis": "x",
           "y": [
            60967,
            24275,
            27682,
            972,
            6467,
            5513,
            3081,
            5957,
            943,
            1079,
            7501,
            157,
            1732,
            1716,
            883,
            343,
            973,
            216,
            2462,
            1190
           ],
           "yaxis": "y"
          },
          {
           "alignmentgroup": "True",
           "hovertemplate": "type=recovered<br>date=4/29/20<br>country=%{x}<br>count=%{y}<extra></extra>",
           "legendgroup": "recovered",
           "marker": {
            "color": "#00cc96"
           },
           "name": "recovered",
           "offsetgroup": "recovered",
           "orientation": "v",
           "showlegend": true,
           "textposition": "auto",
           "type": "bar",
           "x": [
            "US",
            "Spain",
            "Italy",
            "Russia",
            "Germany",
            "Brazil",
            "Turkey",
            "Iran",
            "Peru",
            "India",
            "Belgium",
            "Saudi Arabia",
            "Mexico",
            "Switzerland",
            "Ecuador",
            "Pakistan",
            "Portugal",
            "Chile",
            "Sweden",
            "Ireland"
           ],
           "xaxis": "x",
           "y": [
            120720,
            108947,
            71252,
            10286,
            120400,
            34132,
            44040,
            73791,
            10037,
            8437,
            11283,
            2953,
            11423,
            22600,
            1557,
            3425,
            1470,
            8057,
            1005,
            13386
           ],
           "yaxis": "y"
          }
         ],
         "name": "4/29/20"
        },
        {
         "data": [
          {
           "alignmentgroup": "True",
           "hovertemplate": "type=confirmed<br>date=4/30/20<br>country=%{x}<br>count=%{y}<extra></extra>",
           "legendgroup": "confirmed",
           "marker": {
            "color": "#636efa"
           },
           "name": "confirmed",
           "offsetgroup": "confirmed",
           "orientation": "v",
           "showlegend": true,
           "textposition": "auto",
           "type": "bar",
           "x": [
            "US",
            "Spain",
            "Italy",
            "Russia",
            "Germany",
            "Brazil",
            "Turkey",
            "Iran",
            "Peru",
            "India",
            "Belgium",
            "Saudi Arabia",
            "Mexico",
            "Switzerland",
            "Ecuador",
            "Pakistan",
            "Portugal",
            "Chile",
            "Sweden",
            "Ireland"
           ],
           "xaxis": "x",
           "y": [
            852481,
            76842,
            101551,
            93806,
            32886,
            45246,
            68144,
            13509,
            25520,
            24641,
            29349,
            19428,
            5942,
            4449,
            22476,
            12117,
            22537,
            7216,
            17501,
            5994
           ],
           "yaxis": "y"
          },
          {
           "alignmentgroup": "True",
           "hovertemplate": "type=death<br>date=4/30/20<br>country=%{x}<br>count=%{y}<extra></extra>",
           "legendgroup": "death",
           "marker": {
            "color": "#EF553B"
           },
           "name": "death",
           "offsetgroup": "death",
           "orientation": "v",
           "showlegend": true,
           "textposition": "auto",
           "type": "bar",
           "x": [
            "US",
            "Spain",
            "Italy",
            "Russia",
            "Germany",
            "Brazil",
            "Turkey",
            "Iran",
            "Peru",
            "India",
            "Belgium",
            "Saudi Arabia",
            "Mexico",
            "Switzerland",
            "Ecuador",
            "Pakistan",
            "Portugal",
            "Chile",
            "Sweden",
            "Ireland"
           ],
           "xaxis": "x",
           "y": [
            62996,
            24543,
            27967,
            1073,
            6623,
            6006,
            3174,
            6028,
            1051,
            1154,
            7594,
            162,
            1859,
            1737,
            900,
            385,
            989,
            227,
            2586,
            1232
           ],
           "yaxis": "y"
          },
          {
           "alignmentgroup": "True",
           "hovertemplate": "type=recovered<br>date=4/30/20<br>country=%{x}<br>count=%{y}<extra></extra>",
           "legendgroup": "recovered",
           "marker": {
            "color": "#00cc96"
           },
           "name": "recovered",
           "offsetgroup": "recovered",
           "orientation": "v",
           "showlegend": true,
           "textposition": "auto",
           "type": "bar",
           "x": [
            "US",
            "Spain",
            "Italy",
            "Russia",
            "Germany",
            "Brazil",
            "Turkey",
            "Iran",
            "Peru",
            "India",
            "Belgium",
            "Saudi Arabia",
            "Mexico",
            "Switzerland",
            "Ecuador",
            "Pakistan",
            "Portugal",
            "Chile",
            "Sweden",
            "Ireland"
           ],
           "xaxis": "x",
           "y": [
            153947,
            112050,
            75945,
            11619,
            123500,
            35935,
            48886,
            75103,
            10405,
            9068,
            11576,
            3163,
            11423,
            23400,
            1558,
            4315,
            1519,
            8580,
            1005,
            13386
           ],
           "yaxis": "y"
          }
         ],
         "name": "4/30/20"
        },
        {
         "data": [
          {
           "alignmentgroup": "True",
           "hovertemplate": "type=confirmed<br>date=5/1/20<br>country=%{x}<br>count=%{y}<extra></extra>",
           "legendgroup": "confirmed",
           "marker": {
            "color": "#636efa"
           },
           "name": "confirmed",
           "offsetgroup": "confirmed",
           "orientation": "v",
           "showlegend": true,
           "textposition": "auto",
           "type": "bar",
           "x": [
            "US",
            "Spain",
            "Italy",
            "Russia",
            "Germany",
            "Brazil",
            "Turkey",
            "Iran",
            "Peru",
            "India",
            "Belgium",
            "Saudi Arabia",
            "Mexico",
            "Switzerland",
            "Ecuador",
            "Pakistan",
            "Portugal",
            "Chile",
            "Sweden",
            "Ireland"
           ],
           "xaxis": "x",
           "y": [
            874503,
            76842,
            100943,
            100042,
            30441,
            47751,
            65326,
            13237,
            28206,
            26027,
            29437,
            20373,
            6390,
            4051,
            23360,
            12982,
            22697,
            7756,
            17862,
            6182
           ],
           "yaxis": "y"
          },
          {
           "alignmentgroup": "True",
           "hovertemplate": "type=death<br>date=5/1/20<br>country=%{x}<br>count=%{y}<extra></extra>",
           "legendgroup": "death",
           "marker": {
            "color": "#EF553B"
           },
           "name": "death",
           "offsetgroup": "death",
           "orientation": "v",
           "showlegend": true,
           "textposition": "auto",
           "type": "bar",
           "x": [
            "US",
            "Spain",
            "Italy",
            "Russia",
            "Germany",
            "Brazil",
            "Turkey",
            "Iran",
            "Peru",
            "India",
            "Belgium",
            "Saudi Arabia",
            "Mexico",
            "Switzerland",
            "Ecuador",
            "Pakistan",
            "Portugal",
            "Chile",
            "Sweden",
            "Ireland"
           ],
           "xaxis": "x",
           "y": [
            64943,
            24543,
            28236,
            1169,
            6736,
            6412,
            3258,
            6091,
            1124,
            1223,
            7703,
            169,
            1972,
            1754,
            1063,
            417,
            1007,
            234,
            2653,
            1265
           ],
           "yaxis": "y"
          },
          {
           "alignmentgroup": "True",
           "hovertemplate": "type=recovered<br>date=5/1/20<br>country=%{x}<br>count=%{y}<extra></extra>",
           "legendgroup": "recovered",
           "marker": {
            "color": "#00cc96"
           },
           "name": "recovered",
           "offsetgroup": "recovered",
           "orientation": "v",
           "showlegend": true,
           "textposition": "auto",
           "type": "bar",
           "x": [
            "US",
            "Spain",
            "Italy",
            "Russia",
            "Germany",
            "Brazil",
            "Turkey",
            "Iran",
            "Peru",
            "India",
            "Belgium",
            "Saudi Arabia",
            "Mexico",
            "Switzerland",
            "Ecuador",
            "Pakistan",
            "Portugal",
            "Chile",
            "Sweden",
            "Ireland"
           ],
           "xaxis": "x",
           "y": [
            164015,
            112050,
            78249,
            13220,
            126900,
            38039,
            53808,
            76318,
            11129,
            10007,
            11892,
            3555,
            12377,
            23900,
            1913,
            4715,
            1647,
            9018,
            1005,
            13386
           ],
           "yaxis": "y"
          }
         ],
         "name": "5/1/20"
        },
        {
         "data": [
          {
           "alignmentgroup": "True",
           "hovertemplate": "type=confirmed<br>date=5/2/20<br>country=%{x}<br>count=%{y}<extra></extra>",
           "legendgroup": "confirmed",
           "marker": {
            "color": "#636efa"
           },
           "name": "confirmed",
           "offsetgroup": "confirmed",
           "orientation": "v",
           "showlegend": true,
           "textposition": "auto",
           "type": "bar",
           "x": [
            "US",
            "Spain",
            "Italy",
            "Russia",
            "Germany",
            "Brazil",
            "Turkey",
            "Iran",
            "Peru",
            "India",
            "Belgium",
            "Saudi Arabia",
            "Mexico",
            "Switzerland",
            "Ecuador",
            "Pakistan",
            "Portugal",
            "Chile",
            "Sweden",
            "Ireland"
           ],
           "xaxis": "x",
           "y": [
            890788,
            74234,
            100704,
            107819,
            29155,
            49402,
            62780,
            12942,
            28900,
            27557,
            29541,
            21518,
            7650,
            3855,
            23961,
            13846,
            22496,
            8616,
            18408,
            6504
           ],
           "yaxis": "y"
          },
          {
           "alignmentgroup": "True",
           "hovertemplate": "type=death<br>date=5/2/20<br>country=%{x}<br>count=%{y}<extra></extra>",
           "legendgroup": "death",
           "marker": {
            "color": "#EF553B"
           },
           "name": "death",
           "offsetgroup": "death",
           "orientation": "v",
           "showlegend": true,
           "textposition": "auto",
           "type": "bar",
           "x": [
            "US",
            "Spain",
            "Italy",
            "Russia",
            "Germany",
            "Brazil",
            "Turkey",
            "Iran",
            "Peru",
            "India",
            "Belgium",
            "Saudi Arabia",
            "Mexico",
            "Switzerland",
            "Ecuador",
            "Pakistan",
            "Portugal",
            "Chile",
            "Sweden",
            "Ireland"
           ],
           "xaxis": "x",
           "y": [
            66369,
            25100,
            28710,
            1222,
            6812,
            6761,
            3336,
            6156,
            1200,
            1323,
            7765,
            176,
            2061,
            1762,
            1371,
            440,
            1023,
            247,
            2669,
            1286
           ],
           "yaxis": "y"
          },
          {
           "alignmentgroup": "True",
           "hovertemplate": "type=recovered<br>date=5/2/20<br>country=%{x}<br>count=%{y}<extra></extra>",
           "legendgroup": "recovered",
           "marker": {
            "color": "#00cc96"
           },
           "name": "recovered",
           "offsetgroup": "recovered",
           "orientation": "v",
           "showlegend": true,
           "textposition": "auto",
           "type": "bar",
           "x": [
            "US",
            "Spain",
            "Italy",
            "Russia",
            "Germany",
            "Brazil",
            "Turkey",
            "Iran",
            "Peru",
            "India",
            "Belgium",
            "Saudi Arabia",
            "Mexico",
            "Switzerland",
            "Ecuador",
            "Pakistan",
            "Portugal",
            "Chile",
            "Sweden",
            "Ireland"
           ],
           "xaxis": "x",
           "y": [
            175382,
            117248,
            79914,
            15013,
            129000,
            40937,
            58259,
            77350,
            12434,
            10819,
            12211,
            3765,
            12377,
            24200,
            2132,
            4817,
            1671,
            9572,
            1005,
            13386
           ],
           "yaxis": "y"
          }
         ],
         "name": "5/2/20"
        },
        {
         "data": [
          {
           "alignmentgroup": "True",
           "hovertemplate": "type=confirmed<br>date=5/3/20<br>country=%{x}<br>count=%{y}<extra></extra>",
           "legendgroup": "confirmed",
           "marker": {
            "color": "#636efa"
           },
           "name": "confirmed",
           "offsetgroup": "confirmed",
           "orientation": "v",
           "showlegend": true,
           "textposition": "auto",
           "type": "bar",
           "x": [
            "US",
            "Spain",
            "Italy",
            "Russia",
            "Germany",
            "Brazil",
            "Turkey",
            "Iran",
            "Peru",
            "India",
            "Belgium",
            "Saudi Arabia",
            "Mexico",
            "Switzerland",
            "Ecuador",
            "Pakistan",
            "Portugal",
            "Chile",
            "Sweden",
            "Ireland"
           ],
           "xaxis": "x",
           "y": [
            910206,
            73300,
            100179,
            116768,
            28198,
            51784,
            59497,
            12799,
            31092,
            29339,
            29753,
            22693,
            7870,
            3643,
            24674,
            14513,
            22550,
            9362,
            18633,
            6817
           ],
           "yaxis": "y"
          },
          {
           "alignmentgroup": "True",
           "hovertemplate": "type=death<br>date=5/3/20<br>country=%{x}<br>count=%{y}<extra></extra>",
           "legendgroup": "death",
           "marker": {
            "color": "#EF553B"
           },
           "name": "death",
           "offsetgroup": "death",
           "orientation": "v",
           "showlegend": true,
           "textposition": "auto",
           "type": "bar",
           "x": [
            "US",
            "Spain",
            "Italy",
            "Russia",
            "Germany",
            "Brazil",
            "Turkey",
            "Iran",
            "Peru",
            "India",
            "Belgium",
            "Saudi Arabia",
            "Mexico",
            "Switzerland",
            "Ecuador",
            "Pakistan",
            "Portugal",
            "Chile",
            "Sweden",
            "Ireland"
           ],
           "xaxis": "x",
           "y": [
            67682,
            25264,
            28884,
            1280,
            6866,
            7051,
            3397,
            6203,
            1286,
            1391,
            7844,
            184,
            2154,
            1762,
            1564,
            457,
            1043,
            260,
            2679,
            1303
           ],
           "yaxis": "y"
          },
          {
           "alignmentgroup": "True",
           "hovertemplate": "type=recovered<br>date=5/3/20<br>country=%{x}<br>count=%{y}<extra></extra>",
           "legendgroup": "recovered",
           "marker": {
            "color": "#00cc96"
           },
           "name": "recovered",
           "offsetgroup": "recovered",
           "orientation": "v",
           "showlegend": true,
           "textposition": "auto",
           "type": "bar",
           "x": [
            "US",
            "Spain",
            "Italy",
            "Russia",
            "Germany",
            "Brazil",
            "Turkey",
            "Iran",
            "Peru",
            "India",
            "Belgium",
            "Saudi Arabia",
            "Mexico",
            "Switzerland",
            "Ecuador",
            "Pakistan",
            "Portugal",
            "Chile",
            "Sweden",
            "Ireland"
           ],
           "xaxis": "x",
           "y": [
            180152,
            118902,
            81654,
            16639,
            130600,
            42991,
            63151,
            78422,
            13550,
            11775,
            12309,
            4134,
            13447,
            24500,
            3300,
            5114,
            1689,
            10041,
            1005,
            13386
           ],
           "yaxis": "y"
          }
         ],
         "name": "5/3/20"
        },
        {
         "data": [
          {
           "alignmentgroup": "True",
           "hovertemplate": "type=confirmed<br>date=5/4/20<br>country=%{x}<br>count=%{y}<extra></extra>",
           "legendgroup": "confirmed",
           "marker": {
            "color": "#636efa"
           },
           "name": "confirmed",
           "offsetgroup": "confirmed",
           "orientation": "v",
           "showlegend": true,
           "textposition": "auto",
           "type": "bar",
           "x": [
            "US",
            "Spain",
            "Italy",
            "Russia",
            "Germany",
            "Brazil",
            "Turkey",
            "Iran",
            "Peru",
            "India",
            "Belgium",
            "Saudi Arabia",
            "Mexico",
            "Switzerland",
            "Ecuador",
            "Pakistan",
            "Portugal",
            "Chile",
            "Sweden",
            "Ireland"
           ],
           "xaxis": "x",
           "y": [
            924273,
            71240,
            99980,
            125817,
            26459,
            55438,
            56032,
            12991,
            31601,
            32024,
            29965,
            23989,
            9187,
            2997,
            26879,
            14830,
            22749,
            9958,
            15878,
            7067
           ],
           "yaxis": "y"
          },
          {
           "alignmentgroup": "True",
           "hovertemplate": "type=death<br>date=5/4/20<br>country=%{x}<br>count=%{y}<extra></extra>",
           "legendgroup": "death",
           "marker": {
            "color": "#EF553B"
           },
           "name": "death",
           "offsetgroup": "death",
           "orientation": "v",
           "showlegend": true,
           "textposition": "auto",
           "type": "bar",
           "x": [
            "US",
            "Spain",
            "Italy",
            "Russia",
            "Germany",
            "Brazil",
            "Turkey",
            "Iran",
            "Peru",
            "India",
            "Belgium",
            "Saudi Arabia",
            "Mexico",
            "Switzerland",
            "Ecuador",
            "Pakistan",
            "Portugal",
            "Chile",
            "Sweden",
            "Ireland"
           ],
           "xaxis": "x",
           "y": [
            68922,
            25428,
            29079,
            1356,
            6993,
            7367,
            3461,
            6277,
            1344,
            1566,
            7924,
            191,
            2271,
            1784,
            1569,
            476,
            1063,
            270,
            2769,
            1319
           ],
           "yaxis": "y"
          },
          {
           "alignmentgroup": "True",
           "hovertemplate": "type=recovered<br>date=5/4/20<br>country=%{x}<br>count=%{y}<extra></extra>",
           "legendgroup": "recovered",
           "marker": {
            "color": "#00cc96"
           },
           "name": "recovered",
           "offsetgroup": "recovered",
           "orientation": "v",
           "showlegend": true,
           "textposition": "auto",
           "type": "bar",
           "x": [
            "US",
            "Spain",
            "Italy",
            "Russia",
            "Germany",
            "Brazil",
            "Turkey",
            "Iran",
            "Peru",
            "India",
            "Belgium",
            "Saudi Arabia",
            "Mexico",
            "Switzerland",
            "Ecuador",
            "Pakistan",
            "Portugal",
            "Chile",
            "Sweden",
            "Ireland"
           ],
           "xaxis": "x",
           "y": [
            187180,
            121343,
            82879,
            18095,
            132700,
            45815,
            68166,
            79379,
            14427,
            12847,
            12378,
            4476,
            13447,
            25200,
            3433,
            5635,
            1712,
            10415,
            4074,
            13386
           ],
           "yaxis": "y"
          }
         ],
         "name": "5/4/20"
        },
        {
         "data": [
          {
           "alignmentgroup": "True",
           "hovertemplate": "type=confirmed<br>date=5/5/20<br>country=%{x}<br>count=%{y}<extra></extra>",
           "legendgroup": "confirmed",
           "marker": {
            "color": "#636efa"
           },
           "name": "confirmed",
           "offsetgroup": "confirmed",
           "orientation": "v",
           "showlegend": true,
           "textposition": "auto",
           "type": "bar",
           "x": [
            "US",
            "Spain",
            "Italy",
            "Russia",
            "Germany",
            "Brazil",
            "Turkey",
            "Iran",
            "Peru",
            "India",
            "Belgium",
            "Saudi Arabia",
            "Mexico",
            "Switzerland",
            "Ecuador",
            "Pakistan",
            "Portugal",
            "Chile",
            "Sweden",
            "Ireland"
           ],
           "xaxis": "x",
           "y": [
            943496,
            70230,
            98467,
            134054,
            24914,
            59296,
            52686,
            13155,
            34332,
            33565,
            30052,
            24620,
            6708,
            2814,
            26879,
            15734,
            22885,
            11031,
            16288,
            7258
           ],
           "yaxis": "y"
          },
          {
           "alignmentgroup": "True",
           "hovertemplate": "type=death<br>date=5/5/20<br>country=%{x}<br>count=%{y}<extra></extra>",
           "legendgroup": "death",
           "marker": {
            "color": "#EF553B"
           },
           "name": "death",
           "offsetgroup": "death",
           "orientation": "v",
           "showlegend": true,
           "textposition": "auto",
           "type": "bar",
           "x": [
            "US",
            "Spain",
            "Italy",
            "Russia",
            "Germany",
            "Brazil",
            "Turkey",
            "Iran",
            "Peru",
            "India",
            "Belgium",
            "Saudi Arabia",
            "Mexico",
            "Switzerland",
            "Ecuador",
            "Pakistan",
            "Portugal",
            "Chile",
            "Sweden",
            "Ireland"
           ],
           "xaxis": "x",
           "y": [
            71064,
            25613,
            29315,
            1451,
            6993,
            7938,
            3520,
            6340,
            1444,
            1693,
            8016,
            200,
            2507,
            1795,
            1569,
            514,
            1074,
            275,
            2854,
            1339
           ],
           "yaxis": "y"
          },
          {
           "alignmentgroup": "True",
           "hovertemplate": "type=recovered<br>date=5/5/20<br>country=%{x}<br>count=%{y}<extra></extra>",
           "legendgroup": "recovered",
           "marker": {
            "color": "#00cc96"
           },
           "name": "recovered",
           "offsetgroup": "recovered",
           "orientation": "v",
           "showlegend": true,
           "textposition": "auto",
           "type": "bar",
           "x": [
            "US",
            "Spain",
            "Italy",
            "Russia",
            "Germany",
            "Brazil",
            "Turkey",
            "Iran",
            "Peru",
            "India",
            "Belgium",
            "Saudi Arabia",
            "Mexico",
            "Switzerland",
            "Ecuador",
            "Pakistan",
            "Portugal",
            "Chile",
            "Sweden",
            "Ireland"
           ],
           "xaxis": "x",
           "y": [
            189791,
            123486,
            85231,
            19865,
            135100,
            48221,
            73285,
            80475,
            15413,
            14142,
            12441,
            5431,
            16810,
            25400,
            3433,
            5801,
            1743,
            10710,
            4074,
            13386
           ],
           "yaxis": "y"
          }
         ],
         "name": "5/5/20"
        },
        {
         "data": [
          {
           "alignmentgroup": "True",
           "hovertemplate": "type=confirmed<br>date=5/6/20<br>country=%{x}<br>count=%{y}<extra></extra>",
           "legendgroup": "confirmed",
           "marker": {
            "color": "#636efa"
           },
           "name": "confirmed",
           "offsetgroup": "confirmed",
           "orientation": "v",
           "showlegend": true,
           "textposition": "auto",
           "type": "bar",
           "x": [
            "US",
            "Spain",
            "Italy",
            "Russia",
            "Germany",
            "Brazil",
            "Turkey",
            "Iran",
            "Peru",
            "India",
            "Belgium",
            "Saudi Arabia",
            "Mexico",
            "Switzerland",
            "Ecuador",
            "Pakistan",
            "Portugal",
            "Chile",
            "Sweden",
            "Ireland"
           ],
           "xaxis": "x",
           "y": [
            965966,
            68466,
            91528,
            143065,
            20987,
            66653,
            49958,
            13645,
            35757,
            35871,
            29711,
            24946,
            7149,
            2555,
            26830,
            17045,
            23017,
            11578,
            16903,
            3763
           ],
           "yaxis": "y"
          },
          {
           "alignmentgroup": "True",
           "hovertemplate": "type=death<br>date=5/6/20<br>country=%{x}<br>count=%{y}<extra></extra>",
           "legendgroup": "death",
           "marker": {
            "color": "#EF553B"
           },
           "name": "death",
           "offsetgroup": "death",
           "orientation": "v",
           "showlegend": true,
           "textposition": "auto",
           "type": "bar",
           "x": [
            "US",
            "Spain",
            "Italy",
            "Russia",
            "Germany",
            "Brazil",
            "Turkey",
            "Iran",
            "Peru",
            "India",
            "Belgium",
            "Saudi Arabia",
            "Mexico",
            "Switzerland",
            "Ecuador",
            "Pakistan",
            "Portugal",
            "Chile",
            "Sweden",
            "Ireland"
           ],
           "xaxis": "x",
           "y": [
            73455,
            25857,
            29684,
            1537,
            7275,
            8588,
            3584,
            6418,
            1533,
            1785,
            8339,
            209,
            2704,
            1805,
            1618,
            564,
            1089,
            281,
            2941,
            1375
           ],
           "yaxis": "y"
          },
          {
           "alignmentgroup": "True",
           "hovertemplate": "type=recovered<br>date=5/6/20<br>country=%{x}<br>count=%{y}<extra></extra>",
           "legendgroup": "recovered",
           "marker": {
            "color": "#00cc96"
           },
           "name": "recovered",
           "offsetgroup": "recovered",
           "orientation": "v",
           "showlegend": true,
           "textposition": "auto",
           "type": "bar",
           "x": [
            "US",
            "Spain",
            "Italy",
            "Russia",
            "Germany",
            "Brazil",
            "Turkey",
            "Iran",
            "Peru",
            "India",
            "Belgium",
            "Saudi Arabia",
            "Mexico",
            "Switzerland",
            "Ecuador",
            "Pakistan",
            "Portugal",
            "Chile",
            "Sweden",
            "Ireland"
           ],
           "xaxis": "x",
           "y": [
            189910,
            126002,
            93245,
            21327,
            139900,
            51370,
            78202,
            81587,
            17527,
            15331,
            12731,
            6783,
            17781,
            25700,
            3433,
            6464,
            2076,
            11189,
            4074,
            17110
           ],
           "yaxis": "y"
          }
         ],
         "name": "5/6/20"
        },
        {
         "data": [
          {
           "alignmentgroup": "True",
           "hovertemplate": "type=confirmed<br>date=5/7/20<br>country=%{x}<br>count=%{y}<extra></extra>",
           "legendgroup": "confirmed",
           "marker": {
            "color": "#636efa"
           },
           "name": "confirmed",
           "offsetgroup": "confirmed",
           "orientation": "v",
           "showlegend": true,
           "textposition": "auto",
           "type": "bar",
           "x": [
            "US",
            "Spain",
            "Italy",
            "Russia",
            "Germany",
            "Brazil",
            "Turkey",
            "Iran",
            "Peru",
            "India",
            "Belgium",
            "Saudi Arabia",
            "Mexico",
            "Switzerland",
            "Ecuador",
            "Pakistan",
            "Portugal",
            "Chile",
            "Sweden",
            "Ireland"
           ],
           "xaxis": "x",
           "y": [
            986325,
            66866,
            89624,
            151732,
            20338,
            71233,
            47096,
            13905,
            38511,
            37686,
            30025,
            25714,
            8874,
            2416,
            25211,
            17595,
            23352,
            12632,
            16612,
            3872
           ],
           "yaxis": "y"
          },
          {
           "alignmentgroup": "True",
           "hovertemplate": "type=death<br>date=5/7/20<br>country=%{x}<br>count=%{y}<extra></extra>",
           "legendgroup": "death",
           "marker": {
            "color": "#EF553B"
           },
           "name": "death",
           "offsetgroup": "death",
           "orientation": "v",
           "showlegend": true,
           "textposition": "auto",
           "type": "bar",
           "x": [
            "US",
            "Spain",
            "Italy",
            "Russia",
            "Germany",
            "Brazil",
            "Turkey",
            "Iran",
            "Peru",
            "India",
            "Belgium",
            "Saudi Arabia",
            "Mexico",
            "Switzerland",
            "Ecuador",
            "Pakistan",
            "Portugal",
            "Chile",
            "Sweden",
            "Ireland"
           ],
           "xaxis": "x",
           "y": [
            75662,
            26070,
            29958,
            1625,
            7392,
            9190,
            3641,
            6486,
            1627,
            1889,
            8415,
            219,
            2961,
            1810,
            1654,
            585,
            1105,
            285,
            3040,
            1403
           ],
           "yaxis": "y"
          },
          {
           "alignmentgroup": "True",
           "hovertemplate": "type=recovered<br>date=5/7/20<br>country=%{x}<br>count=%{y}<extra></extra>",
           "legendgroup": "recovered",
           "marker": {
            "color": "#00cc96"
           },
           "name": "recovered",
           "offsetgroup": "recovered",
           "orientation": "v",
           "showlegend": true,
           "textposition": "auto",
           "type": "bar",
           "x": [
            "US",
            "Spain",
            "Italy",
            "Russia",
            "Germany",
            "Brazil",
            "Turkey",
            "Iran",
            "Peru",
            "India",
            "Belgium",
            "Saudi Arabia",
            "Mexico",
            "Switzerland",
            "Ecuador",
            "Pakistan",
            "Portugal",
            "Chile",
            "Sweden",
            "Ireland"
           ],
           "xaxis": "x",
           "y": [
            195036,
            128511,
            96276,
            23803,
            141700,
            55350,
            82984,
            82744,
            18388,
            16776,
            12980,
            7798,
            17781,
            25900,
            3433,
            6464,
            2258,
            11664,
            4971,
            17110
           ],
           "yaxis": "y"
          }
         ],
         "name": "5/7/20"
        },
        {
         "data": [
          {
           "alignmentgroup": "True",
           "hovertemplate": "type=confirmed<br>date=5/8/20<br>country=%{x}<br>count=%{y}<extra></extra>",
           "legendgroup": "confirmed",
           "marker": {
            "color": "#636efa"
           },
           "name": "confirmed",
           "offsetgroup": "confirmed",
           "orientation": "v",
           "showlegend": true,
           "textposition": "auto",
           "type": "bar",
           "x": [
            "US",
            "Spain",
            "Italy",
            "Russia",
            "Germany",
            "Brazil",
            "Turkey",
            "Iran",
            "Peru",
            "India",
            "Belgium",
            "Saudi Arabia",
            "Mexico",
            "Switzerland",
            "Ecuador",
            "Pakistan",
            "Portugal",
            "Chile",
            "Sweden",
            "Ireland"
           ],
           "xaxis": "x",
           "y": [
            1007756,
            65410,
            87961,
            159528,
            21378,
            77580,
            45484,
            14313,
            41121,
            39823,
            30289,
            26083,
            8048,
            2284,
            23681,
            18306,
            23732,
            13518,
            17119,
            4002
           ],
           "yaxis": "y"
          },
          {
           "alignmentgroup": "True",
           "hovertemplate": "type=death<br>date=5/8/20<br>country=%{x}<br>count=%{y}<extra></extra>",
           "legendgroup": "death",
           "marker": {
            "color": "#EF553B"
           },
           "name": "death",
           "offsetgroup": "death",
           "orientation": "v",
           "showlegend": true,
           "textposition": "auto",
           "type": "bar",
           "x": [
            "US",
            "Spain",
            "Italy",
            "Russia",
            "Germany",
            "Brazil",
            "Turkey",
            "Iran",
            "Peru",
            "India",
            "Belgium",
            "Saudi Arabia",
            "Mexico",
            "Switzerland",
            "Ecuador",
            "Pakistan",
            "Portugal",
            "Chile",
            "Sweden",
            "Ireland"
           ],
           "xaxis": "x",
           "y": [
            77180,
            26299,
            30201,
            1723,
            7510,
            10017,
            3689,
            6541,
            1714,
            1985,
            8521,
            229,
            3160,
            1823,
            1704,
            599,
            1114,
            294,
            3175,
            1429
           ],
           "yaxis": "y"
          },
          {
           "alignmentgroup": "True",
           "hovertemplate": "type=recovered<br>date=5/8/20<br>country=%{x}<br>count=%{y}<extra></extra>",
           "legendgroup": "recovered",
           "marker": {
            "color": "#00cc96"
           },
           "name": "recovered",
           "offsetgroup": "recovered",
           "orientation": "v",
           "showlegend": true,
           "textposition": "auto",
           "type": "bar",
           "x": [
            "US",
            "Spain",
            "Italy",
            "Russia",
            "Germany",
            "Brazil",
            "Turkey",
            "Iran",
            "Peru",
            "India",
            "Belgium",
            "Saudi Arabia",
            "Mexico",
            "Switzerland",
            "Ecuador",
            "Pakistan",
            "Portugal",
            "Chile",
            "Sweden",
            "Ireland"
           ],
           "xaxis": "x",
           "y": [
            198993,
            131148,
            99023,
            26608,
            141700,
            59297,
            86396,
            83837,
            19012,
            17887,
            13201,
            9120,
            20314,
            26100,
            3433,
            7530,
            2422,
            12160,
            4971,
            17110
           ],
           "yaxis": "y"
          }
         ],
         "name": "5/8/20"
        },
        {
         "data": [
          {
           "alignmentgroup": "True",
           "hovertemplate": "type=confirmed<br>date=5/9/20<br>country=%{x}<br>count=%{y}<extra></extra>",
           "legendgroup": "confirmed",
           "marker": {
            "color": "#636efa"
           },
           "name": "confirmed",
           "offsetgroup": "confirmed",
           "orientation": "v",
           "showlegend": true,
           "textposition": "auto",
           "type": "bar",
           "x": [
            "US",
            "Spain",
            "Italy",
            "Russia",
            "Germany",
            "Brazil",
            "Turkey",
            "Iran",
            "Peru",
            "India",
            "Belgium",
            "Saudi Arabia",
            "Mexico",
            "Switzerland",
            "Ecuador",
            "Pakistan",
            "Portugal",
            "Chile",
            "Sweden",
            "Ireland"
           ],
           "xaxis": "x",
           "y": [
            1018221,
            63148,
            84842,
            164933,
            20475,
            83720,
            43896,
            14567,
            42955,
            41406,
            30604,
            26753,
            8283,
            2021,
            23921,
            20291,
            23781,
            14248,
            17730,
            4204
           ],
           "yaxis": "y"
          },
          {
           "alignmentgroup": "True",
           "hovertemplate": "type=death<br>date=5/9/20<br>country=%{x}<br>count=%{y}<extra></extra>",
           "legendgroup": "death",
           "marker": {
            "color": "#EF553B"
           },
           "name": "death",
           "offsetgroup": "death",
           "orientation": "v",
           "showlegend": true,
           "textposition": "auto",
           "type": "bar",
           "x": [
            "US",
            "Spain",
            "Italy",
            "Russia",
            "Germany",
            "Brazil",
            "Turkey",
            "Iran",
            "Peru",
            "India",
            "Belgium",
            "Saudi Arabia",
            "Mexico",
            "Switzerland",
            "Ecuador",
            "Pakistan",
            "Portugal",
            "Chile",
            "Sweden",
            "Ireland"
           ],
           "xaxis": "x",
           "y": [
            78795,
            26478,
            30395,
            1827,
            7549,
            10656,
            3739,
            6589,
            1814,
            2101,
            8581,
            239,
            3353,
            1830,
            1717,
            636,
            1126,
            304,
            3220,
            1446
           ],
           "yaxis": "y"
          },
          {
           "alignmentgroup": "True",
           "hovertemplate": "type=recovered<br>date=5/9/20<br>country=%{x}<br>count=%{y}<extra></extra>",
           "legendgroup": "recovered",
           "marker": {
            "color": "#00cc96"
           },
           "name": "recovered",
           "offsetgroup": "recovered",
           "orientation": "v",
           "showlegend": true,
           "textposition": "auto",
           "type": "bar",
           "x": [
            "US",
            "Spain",
            "Italy",
            "Russia",
            "Germany",
            "Brazil",
            "Turkey",
            "Iran",
            "Peru",
            "India",
            "Belgium",
            "Saudi Arabia",
            "Mexico",
            "Switzerland",
            "Ecuador",
            "Pakistan",
            "Portugal",
            "Chile",
            "Sweden",
            "Ireland"
           ],
           "xaxis": "x",
           "y": [
            212534,
            133952,
            103031,
            31916,
            143300,
            61685,
            89480,
            85064,
            20246,
            19301,
            13411,
            10144,
            21824,
            26400,
            3433,
            7809,
            2499,
            12667,
            4971,
            17110
           ],
           "yaxis": "y"
          }
         ],
         "name": "5/9/20"
        }
       ],
       "layout": {
        "barmode": "relative",
        "legend": {
         "title": {
          "text": "type"
         },
         "tracegroupgap": 0
        },
        "sliders": [
         {
          "active": 0,
          "currentvalue": {
           "prefix": "date="
          },
          "len": 0.9,
          "pad": {
           "b": 10,
           "t": 60
          },
          "steps": [
           {
            "args": [
             [
              "1/22/20"
             ],
             {
              "frame": {
               "duration": 0,
               "redraw": true
              },
              "fromcurrent": true,
              "mode": "immediate",
              "transition": {
               "duration": 0,
               "easing": "linear"
              }
             }
            ],
            "label": "1/22/20",
            "method": "animate"
           },
           {
            "args": [
             [
              "1/23/20"
             ],
             {
              "frame": {
               "duration": 0,
               "redraw": true
              },
              "fromcurrent": true,
              "mode": "immediate",
              "transition": {
               "duration": 0,
               "easing": "linear"
              }
             }
            ],
            "label": "1/23/20",
            "method": "animate"
           },
           {
            "args": [
             [
              "1/24/20"
             ],
             {
              "frame": {
               "duration": 0,
               "redraw": true
              },
              "fromcurrent": true,
              "mode": "immediate",
              "transition": {
               "duration": 0,
               "easing": "linear"
              }
             }
            ],
            "label": "1/24/20",
            "method": "animate"
           },
           {
            "args": [
             [
              "1/25/20"
             ],
             {
              "frame": {
               "duration": 0,
               "redraw": true
              },
              "fromcurrent": true,
              "mode": "immediate",
              "transition": {
               "duration": 0,
               "easing": "linear"
              }
             }
            ],
            "label": "1/25/20",
            "method": "animate"
           },
           {
            "args": [
             [
              "1/26/20"
             ],
             {
              "frame": {
               "duration": 0,
               "redraw": true
              },
              "fromcurrent": true,
              "mode": "immediate",
              "transition": {
               "duration": 0,
               "easing": "linear"
              }
             }
            ],
            "label": "1/26/20",
            "method": "animate"
           },
           {
            "args": [
             [
              "1/27/20"
             ],
             {
              "frame": {
               "duration": 0,
               "redraw": true
              },
              "fromcurrent": true,
              "mode": "immediate",
              "transition": {
               "duration": 0,
               "easing": "linear"
              }
             }
            ],
            "label": "1/27/20",
            "method": "animate"
           },
           {
            "args": [
             [
              "1/28/20"
             ],
             {
              "frame": {
               "duration": 0,
               "redraw": true
              },
              "fromcurrent": true,
              "mode": "immediate",
              "transition": {
               "duration": 0,
               "easing": "linear"
              }
             }
            ],
            "label": "1/28/20",
            "method": "animate"
           },
           {
            "args": [
             [
              "1/29/20"
             ],
             {
              "frame": {
               "duration": 0,
               "redraw": true
              },
              "fromcurrent": true,
              "mode": "immediate",
              "transition": {
               "duration": 0,
               "easing": "linear"
              }
             }
            ],
            "label": "1/29/20",
            "method": "animate"
           },
           {
            "args": [
             [
              "1/30/20"
             ],
             {
              "frame": {
               "duration": 0,
               "redraw": true
              },
              "fromcurrent": true,
              "mode": "immediate",
              "transition": {
               "duration": 0,
               "easing": "linear"
              }
             }
            ],
            "label": "1/30/20",
            "method": "animate"
           },
           {
            "args": [
             [
              "1/31/20"
             ],
             {
              "frame": {
               "duration": 0,
               "redraw": true
              },
              "fromcurrent": true,
              "mode": "immediate",
              "transition": {
               "duration": 0,
               "easing": "linear"
              }
             }
            ],
            "label": "1/31/20",
            "method": "animate"
           },
           {
            "args": [
             [
              "2/1/20"
             ],
             {
              "frame": {
               "duration": 0,
               "redraw": true
              },
              "fromcurrent": true,
              "mode": "immediate",
              "transition": {
               "duration": 0,
               "easing": "linear"
              }
             }
            ],
            "label": "2/1/20",
            "method": "animate"
           },
           {
            "args": [
             [
              "2/2/20"
             ],
             {
              "frame": {
               "duration": 0,
               "redraw": true
              },
              "fromcurrent": true,
              "mode": "immediate",
              "transition": {
               "duration": 0,
               "easing": "linear"
              }
             }
            ],
            "label": "2/2/20",
            "method": "animate"
           },
           {
            "args": [
             [
              "2/3/20"
             ],
             {
              "frame": {
               "duration": 0,
               "redraw": true
              },
              "fromcurrent": true,
              "mode": "immediate",
              "transition": {
               "duration": 0,
               "easing": "linear"
              }
             }
            ],
            "label": "2/3/20",
            "method": "animate"
           },
           {
            "args": [
             [
              "2/4/20"
             ],
             {
              "frame": {
               "duration": 0,
               "redraw": true
              },
              "fromcurrent": true,
              "mode": "immediate",
              "transition": {
               "duration": 0,
               "easing": "linear"
              }
             }
            ],
            "label": "2/4/20",
            "method": "animate"
           },
           {
            "args": [
             [
              "2/5/20"
             ],
             {
              "frame": {
               "duration": 0,
               "redraw": true
              },
              "fromcurrent": true,
              "mode": "immediate",
              "transition": {
               "duration": 0,
               "easing": "linear"
              }
             }
            ],
            "label": "2/5/20",
            "method": "animate"
           },
           {
            "args": [
             [
              "2/6/20"
             ],
             {
              "frame": {
               "duration": 0,
               "redraw": true
              },
              "fromcurrent": true,
              "mode": "immediate",
              "transition": {
               "duration": 0,
               "easing": "linear"
              }
             }
            ],
            "label": "2/6/20",
            "method": "animate"
           },
           {
            "args": [
             [
              "2/7/20"
             ],
             {
              "frame": {
               "duration": 0,
               "redraw": true
              },
              "fromcurrent": true,
              "mode": "immediate",
              "transition": {
               "duration": 0,
               "easing": "linear"
              }
             }
            ],
            "label": "2/7/20",
            "method": "animate"
           },
           {
            "args": [
             [
              "2/8/20"
             ],
             {
              "frame": {
               "duration": 0,
               "redraw": true
              },
              "fromcurrent": true,
              "mode": "immediate",
              "transition": {
               "duration": 0,
               "easing": "linear"
              }
             }
            ],
            "label": "2/8/20",
            "method": "animate"
           },
           {
            "args": [
             [
              "2/9/20"
             ],
             {
              "frame": {
               "duration": 0,
               "redraw": true
              },
              "fromcurrent": true,
              "mode": "immediate",
              "transition": {
               "duration": 0,
               "easing": "linear"
              }
             }
            ],
            "label": "2/9/20",
            "method": "animate"
           },
           {
            "args": [
             [
              "2/10/20"
             ],
             {
              "frame": {
               "duration": 0,
               "redraw": true
              },
              "fromcurrent": true,
              "mode": "immediate",
              "transition": {
               "duration": 0,
               "easing": "linear"
              }
             }
            ],
            "label": "2/10/20",
            "method": "animate"
           },
           {
            "args": [
             [
              "2/11/20"
             ],
             {
              "frame": {
               "duration": 0,
               "redraw": true
              },
              "fromcurrent": true,
              "mode": "immediate",
              "transition": {
               "duration": 0,
               "easing": "linear"
              }
             }
            ],
            "label": "2/11/20",
            "method": "animate"
           },
           {
            "args": [
             [
              "2/12/20"
             ],
             {
              "frame": {
               "duration": 0,
               "redraw": true
              },
              "fromcurrent": true,
              "mode": "immediate",
              "transition": {
               "duration": 0,
               "easing": "linear"
              }
             }
            ],
            "label": "2/12/20",
            "method": "animate"
           },
           {
            "args": [
             [
              "2/13/20"
             ],
             {
              "frame": {
               "duration": 0,
               "redraw": true
              },
              "fromcurrent": true,
              "mode": "immediate",
              "transition": {
               "duration": 0,
               "easing": "linear"
              }
             }
            ],
            "label": "2/13/20",
            "method": "animate"
           },
           {
            "args": [
             [
              "2/14/20"
             ],
             {
              "frame": {
               "duration": 0,
               "redraw": true
              },
              "fromcurrent": true,
              "mode": "immediate",
              "transition": {
               "duration": 0,
               "easing": "linear"
              }
             }
            ],
            "label": "2/14/20",
            "method": "animate"
           },
           {
            "args": [
             [
              "2/15/20"
             ],
             {
              "frame": {
               "duration": 0,
               "redraw": true
              },
              "fromcurrent": true,
              "mode": "immediate",
              "transition": {
               "duration": 0,
               "easing": "linear"
              }
             }
            ],
            "label": "2/15/20",
            "method": "animate"
           },
           {
            "args": [
             [
              "2/16/20"
             ],
             {
              "frame": {
               "duration": 0,
               "redraw": true
              },
              "fromcurrent": true,
              "mode": "immediate",
              "transition": {
               "duration": 0,
               "easing": "linear"
              }
             }
            ],
            "label": "2/16/20",
            "method": "animate"
           },
           {
            "args": [
             [
              "2/17/20"
             ],
             {
              "frame": {
               "duration": 0,
               "redraw": true
              },
              "fromcurrent": true,
              "mode": "immediate",
              "transition": {
               "duration": 0,
               "easing": "linear"
              }
             }
            ],
            "label": "2/17/20",
            "method": "animate"
           },
           {
            "args": [
             [
              "2/18/20"
             ],
             {
              "frame": {
               "duration": 0,
               "redraw": true
              },
              "fromcurrent": true,
              "mode": "immediate",
              "transition": {
               "duration": 0,
               "easing": "linear"
              }
             }
            ],
            "label": "2/18/20",
            "method": "animate"
           },
           {
            "args": [
             [
              "2/19/20"
             ],
             {
              "frame": {
               "duration": 0,
               "redraw": true
              },
              "fromcurrent": true,
              "mode": "immediate",
              "transition": {
               "duration": 0,
               "easing": "linear"
              }
             }
            ],
            "label": "2/19/20",
            "method": "animate"
           },
           {
            "args": [
             [
              "2/20/20"
             ],
             {
              "frame": {
               "duration": 0,
               "redraw": true
              },
              "fromcurrent": true,
              "mode": "immediate",
              "transition": {
               "duration": 0,
               "easing": "linear"
              }
             }
            ],
            "label": "2/20/20",
            "method": "animate"
           },
           {
            "args": [
             [
              "2/21/20"
             ],
             {
              "frame": {
               "duration": 0,
               "redraw": true
              },
              "fromcurrent": true,
              "mode": "immediate",
              "transition": {
               "duration": 0,
               "easing": "linear"
              }
             }
            ],
            "label": "2/21/20",
            "method": "animate"
           },
           {
            "args": [
             [
              "2/22/20"
             ],
             {
              "frame": {
               "duration": 0,
               "redraw": true
              },
              "fromcurrent": true,
              "mode": "immediate",
              "transition": {
               "duration": 0,
               "easing": "linear"
              }
             }
            ],
            "label": "2/22/20",
            "method": "animate"
           },
           {
            "args": [
             [
              "2/23/20"
             ],
             {
              "frame": {
               "duration": 0,
               "redraw": true
              },
              "fromcurrent": true,
              "mode": "immediate",
              "transition": {
               "duration": 0,
               "easing": "linear"
              }
             }
            ],
            "label": "2/23/20",
            "method": "animate"
           },
           {
            "args": [
             [
              "2/24/20"
             ],
             {
              "frame": {
               "duration": 0,
               "redraw": true
              },
              "fromcurrent": true,
              "mode": "immediate",
              "transition": {
               "duration": 0,
               "easing": "linear"
              }
             }
            ],
            "label": "2/24/20",
            "method": "animate"
           },
           {
            "args": [
             [
              "2/25/20"
             ],
             {
              "frame": {
               "duration": 0,
               "redraw": true
              },
              "fromcurrent": true,
              "mode": "immediate",
              "transition": {
               "duration": 0,
               "easing": "linear"
              }
             }
            ],
            "label": "2/25/20",
            "method": "animate"
           },
           {
            "args": [
             [
              "2/26/20"
             ],
             {
              "frame": {
               "duration": 0,
               "redraw": true
              },
              "fromcurrent": true,
              "mode": "immediate",
              "transition": {
               "duration": 0,
               "easing": "linear"
              }
             }
            ],
            "label": "2/26/20",
            "method": "animate"
           },
           {
            "args": [
             [
              "2/27/20"
             ],
             {
              "frame": {
               "duration": 0,
               "redraw": true
              },
              "fromcurrent": true,
              "mode": "immediate",
              "transition": {
               "duration": 0,
               "easing": "linear"
              }
             }
            ],
            "label": "2/27/20",
            "method": "animate"
           },
           {
            "args": [
             [
              "2/28/20"
             ],
             {
              "frame": {
               "duration": 0,
               "redraw": true
              },
              "fromcurrent": true,
              "mode": "immediate",
              "transition": {
               "duration": 0,
               "easing": "linear"
              }
             }
            ],
            "label": "2/28/20",
            "method": "animate"
           },
           {
            "args": [
             [
              "2/29/20"
             ],
             {
              "frame": {
               "duration": 0,
               "redraw": true
              },
              "fromcurrent": true,
              "mode": "immediate",
              "transition": {
               "duration": 0,
               "easing": "linear"
              }
             }
            ],
            "label": "2/29/20",
            "method": "animate"
           },
           {
            "args": [
             [
              "3/1/20"
             ],
             {
              "frame": {
               "duration": 0,
               "redraw": true
              },
              "fromcurrent": true,
              "mode": "immediate",
              "transition": {
               "duration": 0,
               "easing": "linear"
              }
             }
            ],
            "label": "3/1/20",
            "method": "animate"
           },
           {
            "args": [
             [
              "3/2/20"
             ],
             {
              "frame": {
               "duration": 0,
               "redraw": true
              },
              "fromcurrent": true,
              "mode": "immediate",
              "transition": {
               "duration": 0,
               "easing": "linear"
              }
             }
            ],
            "label": "3/2/20",
            "method": "animate"
           },
           {
            "args": [
             [
              "3/3/20"
             ],
             {
              "frame": {
               "duration": 0,
               "redraw": true
              },
              "fromcurrent": true,
              "mode": "immediate",
              "transition": {
               "duration": 0,
               "easing": "linear"
              }
             }
            ],
            "label": "3/3/20",
            "method": "animate"
           },
           {
            "args": [
             [
              "3/4/20"
             ],
             {
              "frame": {
               "duration": 0,
               "redraw": true
              },
              "fromcurrent": true,
              "mode": "immediate",
              "transition": {
               "duration": 0,
               "easing": "linear"
              }
             }
            ],
            "label": "3/4/20",
            "method": "animate"
           },
           {
            "args": [
             [
              "3/5/20"
             ],
             {
              "frame": {
               "duration": 0,
               "redraw": true
              },
              "fromcurrent": true,
              "mode": "immediate",
              "transition": {
               "duration": 0,
               "easing": "linear"
              }
             }
            ],
            "label": "3/5/20",
            "method": "animate"
           },
           {
            "args": [
             [
              "3/6/20"
             ],
             {
              "frame": {
               "duration": 0,
               "redraw": true
              },
              "fromcurrent": true,
              "mode": "immediate",
              "transition": {
               "duration": 0,
               "easing": "linear"
              }
             }
            ],
            "label": "3/6/20",
            "method": "animate"
           },
           {
            "args": [
             [
              "3/7/20"
             ],
             {
              "frame": {
               "duration": 0,
               "redraw": true
              },
              "fromcurrent": true,
              "mode": "immediate",
              "transition": {
               "duration": 0,
               "easing": "linear"
              }
             }
            ],
            "label": "3/7/20",
            "method": "animate"
           },
           {
            "args": [
             [
              "3/8/20"
             ],
             {
              "frame": {
               "duration": 0,
               "redraw": true
              },
              "fromcurrent": true,
              "mode": "immediate",
              "transition": {
               "duration": 0,
               "easing": "linear"
              }
             }
            ],
            "label": "3/8/20",
            "method": "animate"
           },
           {
            "args": [
             [
              "3/9/20"
             ],
             {
              "frame": {
               "duration": 0,
               "redraw": true
              },
              "fromcurrent": true,
              "mode": "immediate",
              "transition": {
               "duration": 0,
               "easing": "linear"
              }
             }
            ],
            "label": "3/9/20",
            "method": "animate"
           },
           {
            "args": [
             [
              "3/10/20"
             ],
             {
              "frame": {
               "duration": 0,
               "redraw": true
              },
              "fromcurrent": true,
              "mode": "immediate",
              "transition": {
               "duration": 0,
               "easing": "linear"
              }
             }
            ],
            "label": "3/10/20",
            "method": "animate"
           },
           {
            "args": [
             [
              "3/11/20"
             ],
             {
              "frame": {
               "duration": 0,
               "redraw": true
              },
              "fromcurrent": true,
              "mode": "immediate",
              "transition": {
               "duration": 0,
               "easing": "linear"
              }
             }
            ],
            "label": "3/11/20",
            "method": "animate"
           },
           {
            "args": [
             [
              "3/12/20"
             ],
             {
              "frame": {
               "duration": 0,
               "redraw": true
              },
              "fromcurrent": true,
              "mode": "immediate",
              "transition": {
               "duration": 0,
               "easing": "linear"
              }
             }
            ],
            "label": "3/12/20",
            "method": "animate"
           },
           {
            "args": [
             [
              "3/13/20"
             ],
             {
              "frame": {
               "duration": 0,
               "redraw": true
              },
              "fromcurrent": true,
              "mode": "immediate",
              "transition": {
               "duration": 0,
               "easing": "linear"
              }
             }
            ],
            "label": "3/13/20",
            "method": "animate"
           },
           {
            "args": [
             [
              "3/14/20"
             ],
             {
              "frame": {
               "duration": 0,
               "redraw": true
              },
              "fromcurrent": true,
              "mode": "immediate",
              "transition": {
               "duration": 0,
               "easing": "linear"
              }
             }
            ],
            "label": "3/14/20",
            "method": "animate"
           },
           {
            "args": [
             [
              "3/15/20"
             ],
             {
              "frame": {
               "duration": 0,
               "redraw": true
              },
              "fromcurrent": true,
              "mode": "immediate",
              "transition": {
               "duration": 0,
               "easing": "linear"
              }
             }
            ],
            "label": "3/15/20",
            "method": "animate"
           },
           {
            "args": [
             [
              "3/16/20"
             ],
             {
              "frame": {
               "duration": 0,
               "redraw": true
              },
              "fromcurrent": true,
              "mode": "immediate",
              "transition": {
               "duration": 0,
               "easing": "linear"
              }
             }
            ],
            "label": "3/16/20",
            "method": "animate"
           },
           {
            "args": [
             [
              "3/17/20"
             ],
             {
              "frame": {
               "duration": 0,
               "redraw": true
              },
              "fromcurrent": true,
              "mode": "immediate",
              "transition": {
               "duration": 0,
               "easing": "linear"
              }
             }
            ],
            "label": "3/17/20",
            "method": "animate"
           },
           {
            "args": [
             [
              "3/18/20"
             ],
             {
              "frame": {
               "duration": 0,
               "redraw": true
              },
              "fromcurrent": true,
              "mode": "immediate",
              "transition": {
               "duration": 0,
               "easing": "linear"
              }
             }
            ],
            "label": "3/18/20",
            "method": "animate"
           },
           {
            "args": [
             [
              "3/19/20"
             ],
             {
              "frame": {
               "duration": 0,
               "redraw": true
              },
              "fromcurrent": true,
              "mode": "immediate",
              "transition": {
               "duration": 0,
               "easing": "linear"
              }
             }
            ],
            "label": "3/19/20",
            "method": "animate"
           },
           {
            "args": [
             [
              "3/20/20"
             ],
             {
              "frame": {
               "duration": 0,
               "redraw": true
              },
              "fromcurrent": true,
              "mode": "immediate",
              "transition": {
               "duration": 0,
               "easing": "linear"
              }
             }
            ],
            "label": "3/20/20",
            "method": "animate"
           },
           {
            "args": [
             [
              "3/21/20"
             ],
             {
              "frame": {
               "duration": 0,
               "redraw": true
              },
              "fromcurrent": true,
              "mode": "immediate",
              "transition": {
               "duration": 0,
               "easing": "linear"
              }
             }
            ],
            "label": "3/21/20",
            "method": "animate"
           },
           {
            "args": [
             [
              "3/22/20"
             ],
             {
              "frame": {
               "duration": 0,
               "redraw": true
              },
              "fromcurrent": true,
              "mode": "immediate",
              "transition": {
               "duration": 0,
               "easing": "linear"
              }
             }
            ],
            "label": "3/22/20",
            "method": "animate"
           },
           {
            "args": [
             [
              "3/23/20"
             ],
             {
              "frame": {
               "duration": 0,
               "redraw": true
              },
              "fromcurrent": true,
              "mode": "immediate",
              "transition": {
               "duration": 0,
               "easing": "linear"
              }
             }
            ],
            "label": "3/23/20",
            "method": "animate"
           },
           {
            "args": [
             [
              "3/24/20"
             ],
             {
              "frame": {
               "duration": 0,
               "redraw": true
              },
              "fromcurrent": true,
              "mode": "immediate",
              "transition": {
               "duration": 0,
               "easing": "linear"
              }
             }
            ],
            "label": "3/24/20",
            "method": "animate"
           },
           {
            "args": [
             [
              "3/25/20"
             ],
             {
              "frame": {
               "duration": 0,
               "redraw": true
              },
              "fromcurrent": true,
              "mode": "immediate",
              "transition": {
               "duration": 0,
               "easing": "linear"
              }
             }
            ],
            "label": "3/25/20",
            "method": "animate"
           },
           {
            "args": [
             [
              "3/26/20"
             ],
             {
              "frame": {
               "duration": 0,
               "redraw": true
              },
              "fromcurrent": true,
              "mode": "immediate",
              "transition": {
               "duration": 0,
               "easing": "linear"
              }
             }
            ],
            "label": "3/26/20",
            "method": "animate"
           },
           {
            "args": [
             [
              "3/27/20"
             ],
             {
              "frame": {
               "duration": 0,
               "redraw": true
              },
              "fromcurrent": true,
              "mode": "immediate",
              "transition": {
               "duration": 0,
               "easing": "linear"
              }
             }
            ],
            "label": "3/27/20",
            "method": "animate"
           },
           {
            "args": [
             [
              "3/28/20"
             ],
             {
              "frame": {
               "duration": 0,
               "redraw": true
              },
              "fromcurrent": true,
              "mode": "immediate",
              "transition": {
               "duration": 0,
               "easing": "linear"
              }
             }
            ],
            "label": "3/28/20",
            "method": "animate"
           },
           {
            "args": [
             [
              "3/29/20"
             ],
             {
              "frame": {
               "duration": 0,
               "redraw": true
              },
              "fromcurrent": true,
              "mode": "immediate",
              "transition": {
               "duration": 0,
               "easing": "linear"
              }
             }
            ],
            "label": "3/29/20",
            "method": "animate"
           },
           {
            "args": [
             [
              "3/30/20"
             ],
             {
              "frame": {
               "duration": 0,
               "redraw": true
              },
              "fromcurrent": true,
              "mode": "immediate",
              "transition": {
               "duration": 0,
               "easing": "linear"
              }
             }
            ],
            "label": "3/30/20",
            "method": "animate"
           },
           {
            "args": [
             [
              "3/31/20"
             ],
             {
              "frame": {
               "duration": 0,
               "redraw": true
              },
              "fromcurrent": true,
              "mode": "immediate",
              "transition": {
               "duration": 0,
               "easing": "linear"
              }
             }
            ],
            "label": "3/31/20",
            "method": "animate"
           },
           {
            "args": [
             [
              "4/1/20"
             ],
             {
              "frame": {
               "duration": 0,
               "redraw": true
              },
              "fromcurrent": true,
              "mode": "immediate",
              "transition": {
               "duration": 0,
               "easing": "linear"
              }
             }
            ],
            "label": "4/1/20",
            "method": "animate"
           },
           {
            "args": [
             [
              "4/2/20"
             ],
             {
              "frame": {
               "duration": 0,
               "redraw": true
              },
              "fromcurrent": true,
              "mode": "immediate",
              "transition": {
               "duration": 0,
               "easing": "linear"
              }
             }
            ],
            "label": "4/2/20",
            "method": "animate"
           },
           {
            "args": [
             [
              "4/3/20"
             ],
             {
              "frame": {
               "duration": 0,
               "redraw": true
              },
              "fromcurrent": true,
              "mode": "immediate",
              "transition": {
               "duration": 0,
               "easing": "linear"
              }
             }
            ],
            "label": "4/3/20",
            "method": "animate"
           },
           {
            "args": [
             [
              "4/4/20"
             ],
             {
              "frame": {
               "duration": 0,
               "redraw": true
              },
              "fromcurrent": true,
              "mode": "immediate",
              "transition": {
               "duration": 0,
               "easing": "linear"
              }
             }
            ],
            "label": "4/4/20",
            "method": "animate"
           },
           {
            "args": [
             [
              "4/5/20"
             ],
             {
              "frame": {
               "duration": 0,
               "redraw": true
              },
              "fromcurrent": true,
              "mode": "immediate",
              "transition": {
               "duration": 0,
               "easing": "linear"
              }
             }
            ],
            "label": "4/5/20",
            "method": "animate"
           },
           {
            "args": [
             [
              "4/6/20"
             ],
             {
              "frame": {
               "duration": 0,
               "redraw": true
              },
              "fromcurrent": true,
              "mode": "immediate",
              "transition": {
               "duration": 0,
               "easing": "linear"
              }
             }
            ],
            "label": "4/6/20",
            "method": "animate"
           },
           {
            "args": [
             [
              "4/7/20"
             ],
             {
              "frame": {
               "duration": 0,
               "redraw": true
              },
              "fromcurrent": true,
              "mode": "immediate",
              "transition": {
               "duration": 0,
               "easing": "linear"
              }
             }
            ],
            "label": "4/7/20",
            "method": "animate"
           },
           {
            "args": [
             [
              "4/8/20"
             ],
             {
              "frame": {
               "duration": 0,
               "redraw": true
              },
              "fromcurrent": true,
              "mode": "immediate",
              "transition": {
               "duration": 0,
               "easing": "linear"
              }
             }
            ],
            "label": "4/8/20",
            "method": "animate"
           },
           {
            "args": [
             [
              "4/9/20"
             ],
             {
              "frame": {
               "duration": 0,
               "redraw": true
              },
              "fromcurrent": true,
              "mode": "immediate",
              "transition": {
               "duration": 0,
               "easing": "linear"
              }
             }
            ],
            "label": "4/9/20",
            "method": "animate"
           },
           {
            "args": [
             [
              "4/10/20"
             ],
             {
              "frame": {
               "duration": 0,
               "redraw": true
              },
              "fromcurrent": true,
              "mode": "immediate",
              "transition": {
               "duration": 0,
               "easing": "linear"
              }
             }
            ],
            "label": "4/10/20",
            "method": "animate"
           },
           {
            "args": [
             [
              "4/11/20"
             ],
             {
              "frame": {
               "duration": 0,
               "redraw": true
              },
              "fromcurrent": true,
              "mode": "immediate",
              "transition": {
               "duration": 0,
               "easing": "linear"
              }
             }
            ],
            "label": "4/11/20",
            "method": "animate"
           },
           {
            "args": [
             [
              "4/12/20"
             ],
             {
              "frame": {
               "duration": 0,
               "redraw": true
              },
              "fromcurrent": true,
              "mode": "immediate",
              "transition": {
               "duration": 0,
               "easing": "linear"
              }
             }
            ],
            "label": "4/12/20",
            "method": "animate"
           },
           {
            "args": [
             [
              "4/13/20"
             ],
             {
              "frame": {
               "duration": 0,
               "redraw": true
              },
              "fromcurrent": true,
              "mode": "immediate",
              "transition": {
               "duration": 0,
               "easing": "linear"
              }
             }
            ],
            "label": "4/13/20",
            "method": "animate"
           },
           {
            "args": [
             [
              "4/14/20"
             ],
             {
              "frame": {
               "duration": 0,
               "redraw": true
              },
              "fromcurrent": true,
              "mode": "immediate",
              "transition": {
               "duration": 0,
               "easing": "linear"
              }
             }
            ],
            "label": "4/14/20",
            "method": "animate"
           },
           {
            "args": [
             [
              "4/15/20"
             ],
             {
              "frame": {
               "duration": 0,
               "redraw": true
              },
              "fromcurrent": true,
              "mode": "immediate",
              "transition": {
               "duration": 0,
               "easing": "linear"
              }
             }
            ],
            "label": "4/15/20",
            "method": "animate"
           },
           {
            "args": [
             [
              "4/16/20"
             ],
             {
              "frame": {
               "duration": 0,
               "redraw": true
              },
              "fromcurrent": true,
              "mode": "immediate",
              "transition": {
               "duration": 0,
               "easing": "linear"
              }
             }
            ],
            "label": "4/16/20",
            "method": "animate"
           },
           {
            "args": [
             [
              "4/17/20"
             ],
             {
              "frame": {
               "duration": 0,
               "redraw": true
              },
              "fromcurrent": true,
              "mode": "immediate",
              "transition": {
               "duration": 0,
               "easing": "linear"
              }
             }
            ],
            "label": "4/17/20",
            "method": "animate"
           },
           {
            "args": [
             [
              "4/18/20"
             ],
             {
              "frame": {
               "duration": 0,
               "redraw": true
              },
              "fromcurrent": true,
              "mode": "immediate",
              "transition": {
               "duration": 0,
               "easing": "linear"
              }
             }
            ],
            "label": "4/18/20",
            "method": "animate"
           },
           {
            "args": [
             [
              "4/19/20"
             ],
             {
              "frame": {
               "duration": 0,
               "redraw": true
              },
              "fromcurrent": true,
              "mode": "immediate",
              "transition": {
               "duration": 0,
               "easing": "linear"
              }
             }
            ],
            "label": "4/19/20",
            "method": "animate"
           },
           {
            "args": [
             [
              "4/20/20"
             ],
             {
              "frame": {
               "duration": 0,
               "redraw": true
              },
              "fromcurrent": true,
              "mode": "immediate",
              "transition": {
               "duration": 0,
               "easing": "linear"
              }
             }
            ],
            "label": "4/20/20",
            "method": "animate"
           },
           {
            "args": [
             [
              "4/21/20"
             ],
             {
              "frame": {
               "duration": 0,
               "redraw": true
              },
              "fromcurrent": true,
              "mode": "immediate",
              "transition": {
               "duration": 0,
               "easing": "linear"
              }
             }
            ],
            "label": "4/21/20",
            "method": "animate"
           },
           {
            "args": [
             [
              "4/22/20"
             ],
             {
              "frame": {
               "duration": 0,
               "redraw": true
              },
              "fromcurrent": true,
              "mode": "immediate",
              "transition": {
               "duration": 0,
               "easing": "linear"
              }
             }
            ],
            "label": "4/22/20",
            "method": "animate"
           },
           {
            "args": [
             [
              "4/23/20"
             ],
             {
              "frame": {
               "duration": 0,
               "redraw": true
              },
              "fromcurrent": true,
              "mode": "immediate",
              "transition": {
               "duration": 0,
               "easing": "linear"
              }
             }
            ],
            "label": "4/23/20",
            "method": "animate"
           },
           {
            "args": [
             [
              "4/24/20"
             ],
             {
              "frame": {
               "duration": 0,
               "redraw": true
              },
              "fromcurrent": true,
              "mode": "immediate",
              "transition": {
               "duration": 0,
               "easing": "linear"
              }
             }
            ],
            "label": "4/24/20",
            "method": "animate"
           },
           {
            "args": [
             [
              "4/25/20"
             ],
             {
              "frame": {
               "duration": 0,
               "redraw": true
              },
              "fromcurrent": true,
              "mode": "immediate",
              "transition": {
               "duration": 0,
               "easing": "linear"
              }
             }
            ],
            "label": "4/25/20",
            "method": "animate"
           },
           {
            "args": [
             [
              "4/26/20"
             ],
             {
              "frame": {
               "duration": 0,
               "redraw": true
              },
              "fromcurrent": true,
              "mode": "immediate",
              "transition": {
               "duration": 0,
               "easing": "linear"
              }
             }
            ],
            "label": "4/26/20",
            "method": "animate"
           },
           {
            "args": [
             [
              "4/27/20"
             ],
             {
              "frame": {
               "duration": 0,
               "redraw": true
              },
              "fromcurrent": true,
              "mode": "immediate",
              "transition": {
               "duration": 0,
               "easing": "linear"
              }
             }
            ],
            "label": "4/27/20",
            "method": "animate"
           },
           {
            "args": [
             [
              "4/28/20"
             ],
             {
              "frame": {
               "duration": 0,
               "redraw": true
              },
              "fromcurrent": true,
              "mode": "immediate",
              "transition": {
               "duration": 0,
               "easing": "linear"
              }
             }
            ],
            "label": "4/28/20",
            "method": "animate"
           },
           {
            "args": [
             [
              "4/29/20"
             ],
             {
              "frame": {
               "duration": 0,
               "redraw": true
              },
              "fromcurrent": true,
              "mode": "immediate",
              "transition": {
               "duration": 0,
               "easing": "linear"
              }
             }
            ],
            "label": "4/29/20",
            "method": "animate"
           },
           {
            "args": [
             [
              "4/30/20"
             ],
             {
              "frame": {
               "duration": 0,
               "redraw": true
              },
              "fromcurrent": true,
              "mode": "immediate",
              "transition": {
               "duration": 0,
               "easing": "linear"
              }
             }
            ],
            "label": "4/30/20",
            "method": "animate"
           },
           {
            "args": [
             [
              "5/1/20"
             ],
             {
              "frame": {
               "duration": 0,
               "redraw": true
              },
              "fromcurrent": true,
              "mode": "immediate",
              "transition": {
               "duration": 0,
               "easing": "linear"
              }
             }
            ],
            "label": "5/1/20",
            "method": "animate"
           },
           {
            "args": [
             [
              "5/2/20"
             ],
             {
              "frame": {
               "duration": 0,
               "redraw": true
              },
              "fromcurrent": true,
              "mode": "immediate",
              "transition": {
               "duration": 0,
               "easing": "linear"
              }
             }
            ],
            "label": "5/2/20",
            "method": "animate"
           },
           {
            "args": [
             [
              "5/3/20"
             ],
             {
              "frame": {
               "duration": 0,
               "redraw": true
              },
              "fromcurrent": true,
              "mode": "immediate",
              "transition": {
               "duration": 0,
               "easing": "linear"
              }
             }
            ],
            "label": "5/3/20",
            "method": "animate"
           },
           {
            "args": [
             [
              "5/4/20"
             ],
             {
              "frame": {
               "duration": 0,
               "redraw": true
              },
              "fromcurrent": true,
              "mode": "immediate",
              "transition": {
               "duration": 0,
               "easing": "linear"
              }
             }
            ],
            "label": "5/4/20",
            "method": "animate"
           },
           {
            "args": [
             [
              "5/5/20"
             ],
             {
              "frame": {
               "duration": 0,
               "redraw": true
              },
              "fromcurrent": true,
              "mode": "immediate",
              "transition": {
               "duration": 0,
               "easing": "linear"
              }
             }
            ],
            "label": "5/5/20",
            "method": "animate"
           },
           {
            "args": [
             [
              "5/6/20"
             ],
             {
              "frame": {
               "duration": 0,
               "redraw": true
              },
              "fromcurrent": true,
              "mode": "immediate",
              "transition": {
               "duration": 0,
               "easing": "linear"
              }
             }
            ],
            "label": "5/6/20",
            "method": "animate"
           },
           {
            "args": [
             [
              "5/7/20"
             ],
             {
              "frame": {
               "duration": 0,
               "redraw": true
              },
              "fromcurrent": true,
              "mode": "immediate",
              "transition": {
               "duration": 0,
               "easing": "linear"
              }
             }
            ],
            "label": "5/7/20",
            "method": "animate"
           },
           {
            "args": [
             [
              "5/8/20"
             ],
             {
              "frame": {
               "duration": 0,
               "redraw": true
              },
              "fromcurrent": true,
              "mode": "immediate",
              "transition": {
               "duration": 0,
               "easing": "linear"
              }
             }
            ],
            "label": "5/8/20",
            "method": "animate"
           },
           {
            "args": [
             [
              "5/9/20"
             ],
             {
              "frame": {
               "duration": 0,
               "redraw": true
              },
              "fromcurrent": true,
              "mode": "immediate",
              "transition": {
               "duration": 0,
               "easing": "linear"
              }
             }
            ],
            "label": "5/9/20",
            "method": "animate"
           }
          ],
          "x": 0.1,
          "xanchor": "left",
          "y": 0,
          "yanchor": "top"
         }
        ],
        "template": {
         "data": {
          "bar": [
           {
            "error_x": {
             "color": "#2a3f5f"
            },
            "error_y": {
             "color": "#2a3f5f"
            },
            "marker": {
             "line": {
              "color": "#E5ECF6",
              "width": 0.5
             }
            },
            "type": "bar"
           }
          ],
          "barpolar": [
           {
            "marker": {
             "line": {
              "color": "#E5ECF6",
              "width": 0.5
             }
            },
            "type": "barpolar"
           }
          ],
          "carpet": [
           {
            "aaxis": {
             "endlinecolor": "#2a3f5f",
             "gridcolor": "white",
             "linecolor": "white",
             "minorgridcolor": "white",
             "startlinecolor": "#2a3f5f"
            },
            "baxis": {
             "endlinecolor": "#2a3f5f",
             "gridcolor": "white",
             "linecolor": "white",
             "minorgridcolor": "white",
             "startlinecolor": "#2a3f5f"
            },
            "type": "carpet"
           }
          ],
          "choropleth": [
           {
            "colorbar": {
             "outlinewidth": 0,
             "ticks": ""
            },
            "type": "choropleth"
           }
          ],
          "contour": [
           {
            "colorbar": {
             "outlinewidth": 0,
             "ticks": ""
            },
            "colorscale": [
             [
              0,
              "#0d0887"
             ],
             [
              0.1111111111111111,
              "#46039f"
             ],
             [
              0.2222222222222222,
              "#7201a8"
             ],
             [
              0.3333333333333333,
              "#9c179e"
             ],
             [
              0.4444444444444444,
              "#bd3786"
             ],
             [
              0.5555555555555556,
              "#d8576b"
             ],
             [
              0.6666666666666666,
              "#ed7953"
             ],
             [
              0.7777777777777778,
              "#fb9f3a"
             ],
             [
              0.8888888888888888,
              "#fdca26"
             ],
             [
              1,
              "#f0f921"
             ]
            ],
            "type": "contour"
           }
          ],
          "contourcarpet": [
           {
            "colorbar": {
             "outlinewidth": 0,
             "ticks": ""
            },
            "type": "contourcarpet"
           }
          ],
          "heatmap": [
           {
            "colorbar": {
             "outlinewidth": 0,
             "ticks": ""
            },
            "colorscale": [
             [
              0,
              "#0d0887"
             ],
             [
              0.1111111111111111,
              "#46039f"
             ],
             [
              0.2222222222222222,
              "#7201a8"
             ],
             [
              0.3333333333333333,
              "#9c179e"
             ],
             [
              0.4444444444444444,
              "#bd3786"
             ],
             [
              0.5555555555555556,
              "#d8576b"
             ],
             [
              0.6666666666666666,
              "#ed7953"
             ],
             [
              0.7777777777777778,
              "#fb9f3a"
             ],
             [
              0.8888888888888888,
              "#fdca26"
             ],
             [
              1,
              "#f0f921"
             ]
            ],
            "type": "heatmap"
           }
          ],
          "heatmapgl": [
           {
            "colorbar": {
             "outlinewidth": 0,
             "ticks": ""
            },
            "colorscale": [
             [
              0,
              "#0d0887"
             ],
             [
              0.1111111111111111,
              "#46039f"
             ],
             [
              0.2222222222222222,
              "#7201a8"
             ],
             [
              0.3333333333333333,
              "#9c179e"
             ],
             [
              0.4444444444444444,
              "#bd3786"
             ],
             [
              0.5555555555555556,
              "#d8576b"
             ],
             [
              0.6666666666666666,
              "#ed7953"
             ],
             [
              0.7777777777777778,
              "#fb9f3a"
             ],
             [
              0.8888888888888888,
              "#fdca26"
             ],
             [
              1,
              "#f0f921"
             ]
            ],
            "type": "heatmapgl"
           }
          ],
          "histogram": [
           {
            "marker": {
             "colorbar": {
              "outlinewidth": 0,
              "ticks": ""
             }
            },
            "type": "histogram"
           }
          ],
          "histogram2d": [
           {
            "colorbar": {
             "outlinewidth": 0,
             "ticks": ""
            },
            "colorscale": [
             [
              0,
              "#0d0887"
             ],
             [
              0.1111111111111111,
              "#46039f"
             ],
             [
              0.2222222222222222,
              "#7201a8"
             ],
             [
              0.3333333333333333,
              "#9c179e"
             ],
             [
              0.4444444444444444,
              "#bd3786"
             ],
             [
              0.5555555555555556,
              "#d8576b"
             ],
             [
              0.6666666666666666,
              "#ed7953"
             ],
             [
              0.7777777777777778,
              "#fb9f3a"
             ],
             [
              0.8888888888888888,
              "#fdca26"
             ],
             [
              1,
              "#f0f921"
             ]
            ],
            "type": "histogram2d"
           }
          ],
          "histogram2dcontour": [
           {
            "colorbar": {
             "outlinewidth": 0,
             "ticks": ""
            },
            "colorscale": [
             [
              0,
              "#0d0887"
             ],
             [
              0.1111111111111111,
              "#46039f"
             ],
             [
              0.2222222222222222,
              "#7201a8"
             ],
             [
              0.3333333333333333,
              "#9c179e"
             ],
             [
              0.4444444444444444,
              "#bd3786"
             ],
             [
              0.5555555555555556,
              "#d8576b"
             ],
             [
              0.6666666666666666,
              "#ed7953"
             ],
             [
              0.7777777777777778,
              "#fb9f3a"
             ],
             [
              0.8888888888888888,
              "#fdca26"
             ],
             [
              1,
              "#f0f921"
             ]
            ],
            "type": "histogram2dcontour"
           }
          ],
          "mesh3d": [
           {
            "colorbar": {
             "outlinewidth": 0,
             "ticks": ""
            },
            "type": "mesh3d"
           }
          ],
          "parcoords": [
           {
            "line": {
             "colorbar": {
              "outlinewidth": 0,
              "ticks": ""
             }
            },
            "type": "parcoords"
           }
          ],
          "pie": [
           {
            "automargin": true,
            "type": "pie"
           }
          ],
          "scatter": [
           {
            "marker": {
             "colorbar": {
              "outlinewidth": 0,
              "ticks": ""
             }
            },
            "type": "scatter"
           }
          ],
          "scatter3d": [
           {
            "line": {
             "colorbar": {
              "outlinewidth": 0,
              "ticks": ""
             }
            },
            "marker": {
             "colorbar": {
              "outlinewidth": 0,
              "ticks": ""
             }
            },
            "type": "scatter3d"
           }
          ],
          "scattercarpet": [
           {
            "marker": {
             "colorbar": {
              "outlinewidth": 0,
              "ticks": ""
             }
            },
            "type": "scattercarpet"
           }
          ],
          "scattergeo": [
           {
            "marker": {
             "colorbar": {
              "outlinewidth": 0,
              "ticks": ""
             }
            },
            "type": "scattergeo"
           }
          ],
          "scattergl": [
           {
            "marker": {
             "colorbar": {
              "outlinewidth": 0,
              "ticks": ""
             }
            },
            "type": "scattergl"
           }
          ],
          "scattermapbox": [
           {
            "marker": {
             "colorbar": {
              "outlinewidth": 0,
              "ticks": ""
             }
            },
            "type": "scattermapbox"
           }
          ],
          "scatterpolar": [
           {
            "marker": {
             "colorbar": {
              "outlinewidth": 0,
              "ticks": ""
             }
            },
            "type": "scatterpolar"
           }
          ],
          "scatterpolargl": [
           {
            "marker": {
             "colorbar": {
              "outlinewidth": 0,
              "ticks": ""
             }
            },
            "type": "scatterpolargl"
           }
          ],
          "scatterternary": [
           {
            "marker": {
             "colorbar": {
              "outlinewidth": 0,
              "ticks": ""
             }
            },
            "type": "scatterternary"
           }
          ],
          "surface": [
           {
            "colorbar": {
             "outlinewidth": 0,
             "ticks": ""
            },
            "colorscale": [
             [
              0,
              "#0d0887"
             ],
             [
              0.1111111111111111,
              "#46039f"
             ],
             [
              0.2222222222222222,
              "#7201a8"
             ],
             [
              0.3333333333333333,
              "#9c179e"
             ],
             [
              0.4444444444444444,
              "#bd3786"
             ],
             [
              0.5555555555555556,
              "#d8576b"
             ],
             [
              0.6666666666666666,
              "#ed7953"
             ],
             [
              0.7777777777777778,
              "#fb9f3a"
             ],
             [
              0.8888888888888888,
              "#fdca26"
             ],
             [
              1,
              "#f0f921"
             ]
            ],
            "type": "surface"
           }
          ],
          "table": [
           {
            "cells": {
             "fill": {
              "color": "#EBF0F8"
             },
             "line": {
              "color": "white"
             }
            },
            "header": {
             "fill": {
              "color": "#C8D4E3"
             },
             "line": {
              "color": "white"
             }
            },
            "type": "table"
           }
          ]
         },
         "layout": {
          "annotationdefaults": {
           "arrowcolor": "#2a3f5f",
           "arrowhead": 0,
           "arrowwidth": 1
          },
          "coloraxis": {
           "colorbar": {
            "outlinewidth": 0,
            "ticks": ""
           }
          },
          "colorscale": {
           "diverging": [
            [
             0,
             "#8e0152"
            ],
            [
             0.1,
             "#c51b7d"
            ],
            [
             0.2,
             "#de77ae"
            ],
            [
             0.3,
             "#f1b6da"
            ],
            [
             0.4,
             "#fde0ef"
            ],
            [
             0.5,
             "#f7f7f7"
            ],
            [
             0.6,
             "#e6f5d0"
            ],
            [
             0.7,
             "#b8e186"
            ],
            [
             0.8,
             "#7fbc41"
            ],
            [
             0.9,
             "#4d9221"
            ],
            [
             1,
             "#276419"
            ]
           ],
           "sequential": [
            [
             0,
             "#0d0887"
            ],
            [
             0.1111111111111111,
             "#46039f"
            ],
            [
             0.2222222222222222,
             "#7201a8"
            ],
            [
             0.3333333333333333,
             "#9c179e"
            ],
            [
             0.4444444444444444,
             "#bd3786"
            ],
            [
             0.5555555555555556,
             "#d8576b"
            ],
            [
             0.6666666666666666,
             "#ed7953"
            ],
            [
             0.7777777777777778,
             "#fb9f3a"
            ],
            [
             0.8888888888888888,
             "#fdca26"
            ],
            [
             1,
             "#f0f921"
            ]
           ],
           "sequentialminus": [
            [
             0,
             "#0d0887"
            ],
            [
             0.1111111111111111,
             "#46039f"
            ],
            [
             0.2222222222222222,
             "#7201a8"
            ],
            [
             0.3333333333333333,
             "#9c179e"
            ],
            [
             0.4444444444444444,
             "#bd3786"
            ],
            [
             0.5555555555555556,
             "#d8576b"
            ],
            [
             0.6666666666666666,
             "#ed7953"
            ],
            [
             0.7777777777777778,
             "#fb9f3a"
            ],
            [
             0.8888888888888888,
             "#fdca26"
            ],
            [
             1,
             "#f0f921"
            ]
           ]
          },
          "colorway": [
           "#636efa",
           "#EF553B",
           "#00cc96",
           "#ab63fa",
           "#FFA15A",
           "#19d3f3",
           "#FF6692",
           "#B6E880",
           "#FF97FF",
           "#FECB52"
          ],
          "font": {
           "color": "#2a3f5f"
          },
          "geo": {
           "bgcolor": "white",
           "lakecolor": "white",
           "landcolor": "#E5ECF6",
           "showlakes": true,
           "showland": true,
           "subunitcolor": "white"
          },
          "hoverlabel": {
           "align": "left"
          },
          "hovermode": "closest",
          "mapbox": {
           "style": "light"
          },
          "paper_bgcolor": "white",
          "plot_bgcolor": "#E5ECF6",
          "polar": {
           "angularaxis": {
            "gridcolor": "white",
            "linecolor": "white",
            "ticks": ""
           },
           "bgcolor": "#E5ECF6",
           "radialaxis": {
            "gridcolor": "white",
            "linecolor": "white",
            "ticks": ""
           }
          },
          "scene": {
           "xaxis": {
            "backgroundcolor": "#E5ECF6",
            "gridcolor": "white",
            "gridwidth": 2,
            "linecolor": "white",
            "showbackground": true,
            "ticks": "",
            "zerolinecolor": "white"
           },
           "yaxis": {
            "backgroundcolor": "#E5ECF6",
            "gridcolor": "white",
            "gridwidth": 2,
            "linecolor": "white",
            "showbackground": true,
            "ticks": "",
            "zerolinecolor": "white"
           },
           "zaxis": {
            "backgroundcolor": "#E5ECF6",
            "gridcolor": "white",
            "gridwidth": 2,
            "linecolor": "white",
            "showbackground": true,
            "ticks": "",
            "zerolinecolor": "white"
           }
          },
          "shapedefaults": {
           "line": {
            "color": "#2a3f5f"
           }
          },
          "ternary": {
           "aaxis": {
            "gridcolor": "white",
            "linecolor": "white",
            "ticks": ""
           },
           "baxis": {
            "gridcolor": "white",
            "linecolor": "white",
            "ticks": ""
           },
           "bgcolor": "#E5ECF6",
           "caxis": {
            "gridcolor": "white",
            "linecolor": "white",
            "ticks": ""
           }
          },
          "title": {
           "x": 0.05
          },
          "xaxis": {
           "automargin": true,
           "gridcolor": "white",
           "linecolor": "white",
           "ticks": "",
           "title": {
            "standoff": 15
           },
           "zerolinecolor": "white",
           "zerolinewidth": 2
          },
          "yaxis": {
           "automargin": true,
           "gridcolor": "white",
           "linecolor": "white",
           "ticks": "",
           "title": {
            "standoff": 15
           },
           "zerolinecolor": "white",
           "zerolinewidth": 2
          }
         }
        },
        "title": {
         "text": "Covid19 Confirmed/Death/Recovered"
        },
        "updatemenus": [
         {
          "buttons": [
           {
            "args": [
             null,
             {
              "frame": {
               "duration": 500,
               "redraw": true
              },
              "fromcurrent": true,
              "mode": "immediate",
              "transition": {
               "duration": 500,
               "easing": "linear"
              }
             }
            ],
            "label": "&#9654;",
            "method": "animate"
           },
           {
            "args": [
             [
              null
             ],
             {
              "frame": {
               "duration": 0,
               "redraw": true
              },
              "fromcurrent": true,
              "mode": "immediate",
              "transition": {
               "duration": 0,
               "easing": "linear"
              }
             }
            ],
            "label": "&#9724;",
            "method": "animate"
           }
          ],
          "direction": "left",
          "pad": {
           "r": 10,
           "t": 70
          },
          "showactive": false,
          "type": "buttons",
          "x": 0.1,
          "xanchor": "right",
          "y": 0,
          "yanchor": "top"
         }
        ],
        "xaxis": {
         "anchor": "y",
         "domain": [
          0,
          1
         ],
         "title": {
          "text": "country"
         }
        },
        "yaxis": {
         "anchor": "x",
         "domain": [
          0,
          1
         ],
         "range": [
          0,
          1319550
         ],
         "title": {
          "text": "count"
         }
        }
       }
      },
      "text/html": [
       "<div>\n",
       "        \n",
       "        \n",
       "            <div id=\"c9535148-9fd8-49de-909a-a6fb860ba3cc\" class=\"plotly-graph-div\" style=\"height:525px; width:100%;\"></div>\n",
       "            <script type=\"text/javascript\">\n",
       "                require([\"plotly\"], function(Plotly) {\n",
       "                    window.PLOTLYENV=window.PLOTLYENV || {};\n",
       "                    \n",
       "                if (document.getElementById(\"c9535148-9fd8-49de-909a-a6fb860ba3cc\")) {\n",
       "                    Plotly.newPlot(\n",
       "                        'c9535148-9fd8-49de-909a-a6fb860ba3cc',\n",
       "                        [{\"alignmentgroup\": \"True\", \"hovertemplate\": \"type=confirmed<br>date=1/22/20<br>country=%{x}<br>count=%{y}<extra></extra>\", \"legendgroup\": \"confirmed\", \"marker\": {\"color\": \"#636efa\"}, \"name\": \"confirmed\", \"offsetgroup\": \"confirmed\", \"orientation\": \"v\", \"showlegend\": true, \"textposition\": \"auto\", \"type\": \"bar\", \"x\": [\"US\", \"Spain\", \"Italy\", \"Russia\", \"Germany\", \"Brazil\", \"Turkey\", \"Iran\", \"Peru\", \"India\", \"Belgium\", \"Saudi Arabia\", \"Mexico\", \"Switzerland\", \"Ecuador\", \"Pakistan\", \"Portugal\", \"Chile\", \"Sweden\", \"Ireland\"], \"xaxis\": \"x\", \"y\": [1, 0, 0, 0, 0, 0, 0, 0, 0, 0, 0, 0, 0, 0, 0, 0, 0, 0, 0, 0], \"yaxis\": \"y\"}, {\"alignmentgroup\": \"True\", \"hovertemplate\": \"type=death<br>date=1/22/20<br>country=%{x}<br>count=%{y}<extra></extra>\", \"legendgroup\": \"death\", \"marker\": {\"color\": \"#EF553B\"}, \"name\": \"death\", \"offsetgroup\": \"death\", \"orientation\": \"v\", \"showlegend\": true, \"textposition\": \"auto\", \"type\": \"bar\", \"x\": [\"US\", \"Spain\", \"Italy\", \"Russia\", \"Germany\", \"Brazil\", \"Turkey\", \"Iran\", \"Peru\", \"India\", \"Belgium\", \"Saudi Arabia\", \"Mexico\", \"Switzerland\", \"Ecuador\", \"Pakistan\", \"Portugal\", \"Chile\", \"Sweden\", \"Ireland\"], \"xaxis\": \"x\", \"y\": [0, 0, 0, 0, 0, 0, 0, 0, 0, 0, 0, 0, 0, 0, 0, 0, 0, 0, 0, 0], \"yaxis\": \"y\"}, {\"alignmentgroup\": \"True\", \"hovertemplate\": \"type=recovered<br>date=1/22/20<br>country=%{x}<br>count=%{y}<extra></extra>\", \"legendgroup\": \"recovered\", \"marker\": {\"color\": \"#00cc96\"}, \"name\": \"recovered\", \"offsetgroup\": \"recovered\", \"orientation\": \"v\", \"showlegend\": true, \"textposition\": \"auto\", \"type\": \"bar\", \"x\": [\"US\", \"Spain\", \"Italy\", \"Russia\", \"Germany\", \"Brazil\", \"Turkey\", \"Iran\", \"Peru\", \"India\", \"Belgium\", \"Saudi Arabia\", \"Mexico\", \"Switzerland\", \"Ecuador\", \"Pakistan\", \"Portugal\", \"Chile\", \"Sweden\", \"Ireland\"], \"xaxis\": \"x\", \"y\": [0, 0, 0, 0, 0, 0, 0, 0, 0, 0, 0, 0, 0, 0, 0, 0, 0, 0, 0, 0], \"yaxis\": \"y\"}],\n",
       "                        {\"barmode\": \"relative\", \"legend\": {\"title\": {\"text\": \"type\"}, \"tracegroupgap\": 0}, \"sliders\": [{\"active\": 0, \"currentvalue\": {\"prefix\": \"date=\"}, \"len\": 0.9, \"pad\": {\"b\": 10, \"t\": 60}, \"steps\": [{\"args\": [[\"1/22/20\"], {\"frame\": {\"duration\": 0, \"redraw\": true}, \"fromcurrent\": true, \"mode\": \"immediate\", \"transition\": {\"duration\": 0, \"easing\": \"linear\"}}], \"label\": \"1/22/20\", \"method\": \"animate\"}, {\"args\": [[\"1/23/20\"], {\"frame\": {\"duration\": 0, \"redraw\": true}, \"fromcurrent\": true, \"mode\": \"immediate\", \"transition\": {\"duration\": 0, \"easing\": \"linear\"}}], \"label\": \"1/23/20\", \"method\": \"animate\"}, {\"args\": [[\"1/24/20\"], {\"frame\": {\"duration\": 0, \"redraw\": true}, \"fromcurrent\": true, \"mode\": \"immediate\", \"transition\": {\"duration\": 0, \"easing\": \"linear\"}}], \"label\": \"1/24/20\", \"method\": \"animate\"}, {\"args\": [[\"1/25/20\"], {\"frame\": {\"duration\": 0, \"redraw\": true}, \"fromcurrent\": true, \"mode\": \"immediate\", \"transition\": {\"duration\": 0, \"easing\": \"linear\"}}], \"label\": \"1/25/20\", \"method\": \"animate\"}, {\"args\": [[\"1/26/20\"], {\"frame\": {\"duration\": 0, \"redraw\": true}, \"fromcurrent\": true, \"mode\": \"immediate\", \"transition\": {\"duration\": 0, \"easing\": \"linear\"}}], \"label\": \"1/26/20\", \"method\": \"animate\"}, {\"args\": [[\"1/27/20\"], {\"frame\": {\"duration\": 0, \"redraw\": true}, \"fromcurrent\": true, \"mode\": \"immediate\", \"transition\": {\"duration\": 0, \"easing\": \"linear\"}}], \"label\": \"1/27/20\", \"method\": \"animate\"}, {\"args\": [[\"1/28/20\"], {\"frame\": {\"duration\": 0, \"redraw\": true}, \"fromcurrent\": true, \"mode\": \"immediate\", \"transition\": {\"duration\": 0, \"easing\": \"linear\"}}], \"label\": \"1/28/20\", \"method\": \"animate\"}, {\"args\": [[\"1/29/20\"], {\"frame\": {\"duration\": 0, \"redraw\": true}, \"fromcurrent\": true, \"mode\": \"immediate\", \"transition\": {\"duration\": 0, \"easing\": \"linear\"}}], \"label\": \"1/29/20\", \"method\": \"animate\"}, {\"args\": [[\"1/30/20\"], {\"frame\": {\"duration\": 0, \"redraw\": true}, \"fromcurrent\": true, \"mode\": \"immediate\", \"transition\": {\"duration\": 0, \"easing\": \"linear\"}}], \"label\": \"1/30/20\", \"method\": \"animate\"}, {\"args\": [[\"1/31/20\"], {\"frame\": {\"duration\": 0, \"redraw\": true}, \"fromcurrent\": true, \"mode\": \"immediate\", \"transition\": {\"duration\": 0, \"easing\": \"linear\"}}], \"label\": \"1/31/20\", \"method\": \"animate\"}, {\"args\": [[\"2/1/20\"], {\"frame\": {\"duration\": 0, \"redraw\": true}, \"fromcurrent\": true, \"mode\": \"immediate\", \"transition\": {\"duration\": 0, \"easing\": \"linear\"}}], \"label\": \"2/1/20\", \"method\": \"animate\"}, {\"args\": [[\"2/2/20\"], {\"frame\": {\"duration\": 0, \"redraw\": true}, \"fromcurrent\": true, \"mode\": \"immediate\", \"transition\": {\"duration\": 0, \"easing\": \"linear\"}}], \"label\": \"2/2/20\", \"method\": \"animate\"}, {\"args\": [[\"2/3/20\"], {\"frame\": {\"duration\": 0, \"redraw\": true}, \"fromcurrent\": true, \"mode\": \"immediate\", \"transition\": {\"duration\": 0, \"easing\": \"linear\"}}], \"label\": \"2/3/20\", \"method\": \"animate\"}, {\"args\": [[\"2/4/20\"], {\"frame\": {\"duration\": 0, \"redraw\": true}, \"fromcurrent\": true, \"mode\": \"immediate\", \"transition\": {\"duration\": 0, \"easing\": \"linear\"}}], \"label\": \"2/4/20\", \"method\": \"animate\"}, {\"args\": [[\"2/5/20\"], {\"frame\": {\"duration\": 0, \"redraw\": true}, \"fromcurrent\": true, \"mode\": \"immediate\", \"transition\": {\"duration\": 0, \"easing\": \"linear\"}}], \"label\": \"2/5/20\", \"method\": \"animate\"}, {\"args\": [[\"2/6/20\"], {\"frame\": {\"duration\": 0, \"redraw\": true}, \"fromcurrent\": true, \"mode\": \"immediate\", \"transition\": {\"duration\": 0, \"easing\": \"linear\"}}], \"label\": \"2/6/20\", \"method\": \"animate\"}, {\"args\": [[\"2/7/20\"], {\"frame\": {\"duration\": 0, \"redraw\": true}, \"fromcurrent\": true, \"mode\": \"immediate\", \"transition\": {\"duration\": 0, \"easing\": \"linear\"}}], \"label\": \"2/7/20\", \"method\": \"animate\"}, {\"args\": [[\"2/8/20\"], {\"frame\": {\"duration\": 0, \"redraw\": true}, \"fromcurrent\": true, \"mode\": \"immediate\", \"transition\": {\"duration\": 0, \"easing\": \"linear\"}}], \"label\": \"2/8/20\", \"method\": \"animate\"}, {\"args\": [[\"2/9/20\"], {\"frame\": {\"duration\": 0, \"redraw\": true}, \"fromcurrent\": true, \"mode\": \"immediate\", \"transition\": {\"duration\": 0, \"easing\": \"linear\"}}], \"label\": \"2/9/20\", \"method\": \"animate\"}, {\"args\": [[\"2/10/20\"], {\"frame\": {\"duration\": 0, \"redraw\": true}, \"fromcurrent\": true, \"mode\": \"immediate\", \"transition\": {\"duration\": 0, \"easing\": \"linear\"}}], \"label\": \"2/10/20\", \"method\": \"animate\"}, {\"args\": [[\"2/11/20\"], {\"frame\": {\"duration\": 0, \"redraw\": true}, \"fromcurrent\": true, \"mode\": \"immediate\", \"transition\": {\"duration\": 0, \"easing\": \"linear\"}}], \"label\": \"2/11/20\", \"method\": \"animate\"}, {\"args\": [[\"2/12/20\"], {\"frame\": {\"duration\": 0, \"redraw\": true}, \"fromcurrent\": true, \"mode\": \"immediate\", \"transition\": {\"duration\": 0, \"easing\": \"linear\"}}], \"label\": \"2/12/20\", \"method\": \"animate\"}, {\"args\": [[\"2/13/20\"], {\"frame\": {\"duration\": 0, \"redraw\": true}, \"fromcurrent\": true, \"mode\": \"immediate\", \"transition\": {\"duration\": 0, \"easing\": \"linear\"}}], \"label\": \"2/13/20\", \"method\": \"animate\"}, {\"args\": [[\"2/14/20\"], {\"frame\": {\"duration\": 0, \"redraw\": true}, \"fromcurrent\": true, \"mode\": \"immediate\", \"transition\": {\"duration\": 0, \"easing\": \"linear\"}}], \"label\": \"2/14/20\", \"method\": \"animate\"}, {\"args\": [[\"2/15/20\"], {\"frame\": {\"duration\": 0, \"redraw\": true}, \"fromcurrent\": true, \"mode\": \"immediate\", \"transition\": {\"duration\": 0, \"easing\": \"linear\"}}], \"label\": \"2/15/20\", \"method\": \"animate\"}, {\"args\": [[\"2/16/20\"], {\"frame\": {\"duration\": 0, \"redraw\": true}, \"fromcurrent\": true, \"mode\": \"immediate\", \"transition\": {\"duration\": 0, \"easing\": \"linear\"}}], \"label\": \"2/16/20\", \"method\": \"animate\"}, {\"args\": [[\"2/17/20\"], {\"frame\": {\"duration\": 0, \"redraw\": true}, \"fromcurrent\": true, \"mode\": \"immediate\", \"transition\": {\"duration\": 0, \"easing\": \"linear\"}}], \"label\": \"2/17/20\", \"method\": \"animate\"}, {\"args\": [[\"2/18/20\"], {\"frame\": {\"duration\": 0, \"redraw\": true}, \"fromcurrent\": true, \"mode\": \"immediate\", \"transition\": {\"duration\": 0, \"easing\": \"linear\"}}], \"label\": \"2/18/20\", \"method\": \"animate\"}, {\"args\": [[\"2/19/20\"], {\"frame\": {\"duration\": 0, \"redraw\": true}, \"fromcurrent\": true, \"mode\": \"immediate\", \"transition\": {\"duration\": 0, \"easing\": \"linear\"}}], \"label\": \"2/19/20\", \"method\": \"animate\"}, {\"args\": [[\"2/20/20\"], {\"frame\": {\"duration\": 0, \"redraw\": true}, \"fromcurrent\": true, \"mode\": \"immediate\", \"transition\": {\"duration\": 0, \"easing\": \"linear\"}}], \"label\": \"2/20/20\", \"method\": \"animate\"}, {\"args\": [[\"2/21/20\"], {\"frame\": {\"duration\": 0, \"redraw\": true}, \"fromcurrent\": true, \"mode\": \"immediate\", \"transition\": {\"duration\": 0, \"easing\": \"linear\"}}], \"label\": \"2/21/20\", \"method\": \"animate\"}, {\"args\": [[\"2/22/20\"], {\"frame\": {\"duration\": 0, \"redraw\": true}, \"fromcurrent\": true, \"mode\": \"immediate\", \"transition\": {\"duration\": 0, \"easing\": \"linear\"}}], \"label\": \"2/22/20\", \"method\": \"animate\"}, {\"args\": [[\"2/23/20\"], {\"frame\": {\"duration\": 0, \"redraw\": true}, \"fromcurrent\": true, \"mode\": \"immediate\", \"transition\": {\"duration\": 0, \"easing\": \"linear\"}}], \"label\": \"2/23/20\", \"method\": \"animate\"}, {\"args\": [[\"2/24/20\"], {\"frame\": {\"duration\": 0, \"redraw\": true}, \"fromcurrent\": true, \"mode\": \"immediate\", \"transition\": {\"duration\": 0, \"easing\": \"linear\"}}], \"label\": \"2/24/20\", \"method\": \"animate\"}, {\"args\": [[\"2/25/20\"], {\"frame\": {\"duration\": 0, \"redraw\": true}, \"fromcurrent\": true, \"mode\": \"immediate\", \"transition\": {\"duration\": 0, \"easing\": \"linear\"}}], \"label\": \"2/25/20\", \"method\": \"animate\"}, {\"args\": [[\"2/26/20\"], {\"frame\": {\"duration\": 0, \"redraw\": true}, \"fromcurrent\": true, \"mode\": \"immediate\", \"transition\": {\"duration\": 0, \"easing\": \"linear\"}}], \"label\": \"2/26/20\", \"method\": \"animate\"}, {\"args\": [[\"2/27/20\"], {\"frame\": {\"duration\": 0, \"redraw\": true}, \"fromcurrent\": true, \"mode\": \"immediate\", \"transition\": {\"duration\": 0, \"easing\": \"linear\"}}], \"label\": \"2/27/20\", \"method\": \"animate\"}, {\"args\": [[\"2/28/20\"], {\"frame\": {\"duration\": 0, \"redraw\": true}, \"fromcurrent\": true, \"mode\": \"immediate\", \"transition\": {\"duration\": 0, \"easing\": \"linear\"}}], \"label\": \"2/28/20\", \"method\": \"animate\"}, {\"args\": [[\"2/29/20\"], {\"frame\": {\"duration\": 0, \"redraw\": true}, \"fromcurrent\": true, \"mode\": \"immediate\", \"transition\": {\"duration\": 0, \"easing\": \"linear\"}}], \"label\": \"2/29/20\", \"method\": \"animate\"}, {\"args\": [[\"3/1/20\"], {\"frame\": {\"duration\": 0, \"redraw\": true}, \"fromcurrent\": true, \"mode\": \"immediate\", \"transition\": {\"duration\": 0, \"easing\": \"linear\"}}], \"label\": \"3/1/20\", \"method\": \"animate\"}, {\"args\": [[\"3/2/20\"], {\"frame\": {\"duration\": 0, \"redraw\": true}, \"fromcurrent\": true, \"mode\": \"immediate\", \"transition\": {\"duration\": 0, \"easing\": \"linear\"}}], \"label\": \"3/2/20\", \"method\": \"animate\"}, {\"args\": [[\"3/3/20\"], {\"frame\": {\"duration\": 0, \"redraw\": true}, \"fromcurrent\": true, \"mode\": \"immediate\", \"transition\": {\"duration\": 0, \"easing\": \"linear\"}}], \"label\": \"3/3/20\", \"method\": \"animate\"}, {\"args\": [[\"3/4/20\"], {\"frame\": {\"duration\": 0, \"redraw\": true}, \"fromcurrent\": true, \"mode\": \"immediate\", \"transition\": {\"duration\": 0, \"easing\": \"linear\"}}], \"label\": \"3/4/20\", \"method\": \"animate\"}, {\"args\": [[\"3/5/20\"], {\"frame\": {\"duration\": 0, \"redraw\": true}, \"fromcurrent\": true, \"mode\": \"immediate\", \"transition\": {\"duration\": 0, \"easing\": \"linear\"}}], \"label\": \"3/5/20\", \"method\": \"animate\"}, {\"args\": [[\"3/6/20\"], {\"frame\": {\"duration\": 0, \"redraw\": true}, \"fromcurrent\": true, \"mode\": \"immediate\", \"transition\": {\"duration\": 0, \"easing\": \"linear\"}}], \"label\": \"3/6/20\", \"method\": \"animate\"}, {\"args\": [[\"3/7/20\"], {\"frame\": {\"duration\": 0, \"redraw\": true}, \"fromcurrent\": true, \"mode\": \"immediate\", \"transition\": {\"duration\": 0, \"easing\": \"linear\"}}], \"label\": \"3/7/20\", \"method\": \"animate\"}, {\"args\": [[\"3/8/20\"], {\"frame\": {\"duration\": 0, \"redraw\": true}, \"fromcurrent\": true, \"mode\": \"immediate\", \"transition\": {\"duration\": 0, \"easing\": \"linear\"}}], \"label\": \"3/8/20\", \"method\": \"animate\"}, {\"args\": [[\"3/9/20\"], {\"frame\": {\"duration\": 0, \"redraw\": true}, \"fromcurrent\": true, \"mode\": \"immediate\", \"transition\": {\"duration\": 0, \"easing\": \"linear\"}}], \"label\": \"3/9/20\", \"method\": \"animate\"}, {\"args\": [[\"3/10/20\"], {\"frame\": {\"duration\": 0, \"redraw\": true}, \"fromcurrent\": true, \"mode\": \"immediate\", \"transition\": {\"duration\": 0, \"easing\": \"linear\"}}], \"label\": \"3/10/20\", \"method\": \"animate\"}, {\"args\": [[\"3/11/20\"], {\"frame\": {\"duration\": 0, \"redraw\": true}, \"fromcurrent\": true, \"mode\": \"immediate\", \"transition\": {\"duration\": 0, \"easing\": \"linear\"}}], \"label\": \"3/11/20\", \"method\": \"animate\"}, {\"args\": [[\"3/12/20\"], {\"frame\": {\"duration\": 0, \"redraw\": true}, \"fromcurrent\": true, \"mode\": \"immediate\", \"transition\": {\"duration\": 0, \"easing\": \"linear\"}}], \"label\": \"3/12/20\", \"method\": \"animate\"}, {\"args\": [[\"3/13/20\"], {\"frame\": {\"duration\": 0, \"redraw\": true}, \"fromcurrent\": true, \"mode\": \"immediate\", \"transition\": {\"duration\": 0, \"easing\": \"linear\"}}], \"label\": \"3/13/20\", \"method\": \"animate\"}, {\"args\": [[\"3/14/20\"], {\"frame\": {\"duration\": 0, \"redraw\": true}, \"fromcurrent\": true, \"mode\": \"immediate\", \"transition\": {\"duration\": 0, \"easing\": \"linear\"}}], \"label\": \"3/14/20\", \"method\": \"animate\"}, {\"args\": [[\"3/15/20\"], {\"frame\": {\"duration\": 0, \"redraw\": true}, \"fromcurrent\": true, \"mode\": \"immediate\", \"transition\": {\"duration\": 0, \"easing\": \"linear\"}}], \"label\": \"3/15/20\", \"method\": \"animate\"}, {\"args\": [[\"3/16/20\"], {\"frame\": {\"duration\": 0, \"redraw\": true}, \"fromcurrent\": true, \"mode\": \"immediate\", \"transition\": {\"duration\": 0, \"easing\": \"linear\"}}], \"label\": \"3/16/20\", \"method\": \"animate\"}, {\"args\": [[\"3/17/20\"], {\"frame\": {\"duration\": 0, \"redraw\": true}, \"fromcurrent\": true, \"mode\": \"immediate\", \"transition\": {\"duration\": 0, \"easing\": \"linear\"}}], \"label\": \"3/17/20\", \"method\": \"animate\"}, {\"args\": [[\"3/18/20\"], {\"frame\": {\"duration\": 0, \"redraw\": true}, \"fromcurrent\": true, \"mode\": \"immediate\", \"transition\": {\"duration\": 0, \"easing\": \"linear\"}}], \"label\": \"3/18/20\", \"method\": \"animate\"}, {\"args\": [[\"3/19/20\"], {\"frame\": {\"duration\": 0, \"redraw\": true}, \"fromcurrent\": true, \"mode\": \"immediate\", \"transition\": {\"duration\": 0, \"easing\": \"linear\"}}], \"label\": \"3/19/20\", \"method\": \"animate\"}, {\"args\": [[\"3/20/20\"], {\"frame\": {\"duration\": 0, \"redraw\": true}, \"fromcurrent\": true, \"mode\": \"immediate\", \"transition\": {\"duration\": 0, \"easing\": \"linear\"}}], \"label\": \"3/20/20\", \"method\": \"animate\"}, {\"args\": [[\"3/21/20\"], {\"frame\": {\"duration\": 0, \"redraw\": true}, \"fromcurrent\": true, \"mode\": \"immediate\", \"transition\": {\"duration\": 0, \"easing\": \"linear\"}}], \"label\": \"3/21/20\", \"method\": \"animate\"}, {\"args\": [[\"3/22/20\"], {\"frame\": {\"duration\": 0, \"redraw\": true}, \"fromcurrent\": true, \"mode\": \"immediate\", \"transition\": {\"duration\": 0, \"easing\": \"linear\"}}], \"label\": \"3/22/20\", \"method\": \"animate\"}, {\"args\": [[\"3/23/20\"], {\"frame\": {\"duration\": 0, \"redraw\": true}, \"fromcurrent\": true, \"mode\": \"immediate\", \"transition\": {\"duration\": 0, \"easing\": \"linear\"}}], \"label\": \"3/23/20\", \"method\": \"animate\"}, {\"args\": [[\"3/24/20\"], {\"frame\": {\"duration\": 0, \"redraw\": true}, \"fromcurrent\": true, \"mode\": \"immediate\", \"transition\": {\"duration\": 0, \"easing\": \"linear\"}}], \"label\": \"3/24/20\", \"method\": \"animate\"}, {\"args\": [[\"3/25/20\"], {\"frame\": {\"duration\": 0, \"redraw\": true}, \"fromcurrent\": true, \"mode\": \"immediate\", \"transition\": {\"duration\": 0, \"easing\": \"linear\"}}], \"label\": \"3/25/20\", \"method\": \"animate\"}, {\"args\": [[\"3/26/20\"], {\"frame\": {\"duration\": 0, \"redraw\": true}, \"fromcurrent\": true, \"mode\": \"immediate\", \"transition\": {\"duration\": 0, \"easing\": \"linear\"}}], \"label\": \"3/26/20\", \"method\": \"animate\"}, {\"args\": [[\"3/27/20\"], {\"frame\": {\"duration\": 0, \"redraw\": true}, \"fromcurrent\": true, \"mode\": \"immediate\", \"transition\": {\"duration\": 0, \"easing\": \"linear\"}}], \"label\": \"3/27/20\", \"method\": \"animate\"}, {\"args\": [[\"3/28/20\"], {\"frame\": {\"duration\": 0, \"redraw\": true}, \"fromcurrent\": true, \"mode\": \"immediate\", \"transition\": {\"duration\": 0, \"easing\": \"linear\"}}], \"label\": \"3/28/20\", \"method\": \"animate\"}, {\"args\": [[\"3/29/20\"], {\"frame\": {\"duration\": 0, \"redraw\": true}, \"fromcurrent\": true, \"mode\": \"immediate\", \"transition\": {\"duration\": 0, \"easing\": \"linear\"}}], \"label\": \"3/29/20\", \"method\": \"animate\"}, {\"args\": [[\"3/30/20\"], {\"frame\": {\"duration\": 0, \"redraw\": true}, \"fromcurrent\": true, \"mode\": \"immediate\", \"transition\": {\"duration\": 0, \"easing\": \"linear\"}}], \"label\": \"3/30/20\", \"method\": \"animate\"}, {\"args\": [[\"3/31/20\"], {\"frame\": {\"duration\": 0, \"redraw\": true}, \"fromcurrent\": true, \"mode\": \"immediate\", \"transition\": {\"duration\": 0, \"easing\": \"linear\"}}], \"label\": \"3/31/20\", \"method\": \"animate\"}, {\"args\": [[\"4/1/20\"], {\"frame\": {\"duration\": 0, \"redraw\": true}, \"fromcurrent\": true, \"mode\": \"immediate\", \"transition\": {\"duration\": 0, \"easing\": \"linear\"}}], \"label\": \"4/1/20\", \"method\": \"animate\"}, {\"args\": [[\"4/2/20\"], {\"frame\": {\"duration\": 0, \"redraw\": true}, \"fromcurrent\": true, \"mode\": \"immediate\", \"transition\": {\"duration\": 0, \"easing\": \"linear\"}}], \"label\": \"4/2/20\", \"method\": \"animate\"}, {\"args\": [[\"4/3/20\"], {\"frame\": {\"duration\": 0, \"redraw\": true}, \"fromcurrent\": true, \"mode\": \"immediate\", \"transition\": {\"duration\": 0, \"easing\": \"linear\"}}], \"label\": \"4/3/20\", \"method\": \"animate\"}, {\"args\": [[\"4/4/20\"], {\"frame\": {\"duration\": 0, \"redraw\": true}, \"fromcurrent\": true, \"mode\": \"immediate\", \"transition\": {\"duration\": 0, \"easing\": \"linear\"}}], \"label\": \"4/4/20\", \"method\": \"animate\"}, {\"args\": [[\"4/5/20\"], {\"frame\": {\"duration\": 0, \"redraw\": true}, \"fromcurrent\": true, \"mode\": \"immediate\", \"transition\": {\"duration\": 0, \"easing\": \"linear\"}}], \"label\": \"4/5/20\", \"method\": \"animate\"}, {\"args\": [[\"4/6/20\"], {\"frame\": {\"duration\": 0, \"redraw\": true}, \"fromcurrent\": true, \"mode\": \"immediate\", \"transition\": {\"duration\": 0, \"easing\": \"linear\"}}], \"label\": \"4/6/20\", \"method\": \"animate\"}, {\"args\": [[\"4/7/20\"], {\"frame\": {\"duration\": 0, \"redraw\": true}, \"fromcurrent\": true, \"mode\": \"immediate\", \"transition\": {\"duration\": 0, \"easing\": \"linear\"}}], \"label\": \"4/7/20\", \"method\": \"animate\"}, {\"args\": [[\"4/8/20\"], {\"frame\": {\"duration\": 0, \"redraw\": true}, \"fromcurrent\": true, \"mode\": \"immediate\", \"transition\": {\"duration\": 0, \"easing\": \"linear\"}}], \"label\": \"4/8/20\", \"method\": \"animate\"}, {\"args\": [[\"4/9/20\"], {\"frame\": {\"duration\": 0, \"redraw\": true}, \"fromcurrent\": true, \"mode\": \"immediate\", \"transition\": {\"duration\": 0, \"easing\": \"linear\"}}], \"label\": \"4/9/20\", \"method\": \"animate\"}, {\"args\": [[\"4/10/20\"], {\"frame\": {\"duration\": 0, \"redraw\": true}, \"fromcurrent\": true, \"mode\": \"immediate\", \"transition\": {\"duration\": 0, \"easing\": \"linear\"}}], \"label\": \"4/10/20\", \"method\": \"animate\"}, {\"args\": [[\"4/11/20\"], {\"frame\": {\"duration\": 0, \"redraw\": true}, \"fromcurrent\": true, \"mode\": \"immediate\", \"transition\": {\"duration\": 0, \"easing\": \"linear\"}}], \"label\": \"4/11/20\", \"method\": \"animate\"}, {\"args\": [[\"4/12/20\"], {\"frame\": {\"duration\": 0, \"redraw\": true}, \"fromcurrent\": true, \"mode\": \"immediate\", \"transition\": {\"duration\": 0, \"easing\": \"linear\"}}], \"label\": \"4/12/20\", \"method\": \"animate\"}, {\"args\": [[\"4/13/20\"], {\"frame\": {\"duration\": 0, \"redraw\": true}, \"fromcurrent\": true, \"mode\": \"immediate\", \"transition\": {\"duration\": 0, \"easing\": \"linear\"}}], \"label\": \"4/13/20\", \"method\": \"animate\"}, {\"args\": [[\"4/14/20\"], {\"frame\": {\"duration\": 0, \"redraw\": true}, \"fromcurrent\": true, \"mode\": \"immediate\", \"transition\": {\"duration\": 0, \"easing\": \"linear\"}}], \"label\": \"4/14/20\", \"method\": \"animate\"}, {\"args\": [[\"4/15/20\"], {\"frame\": {\"duration\": 0, \"redraw\": true}, \"fromcurrent\": true, \"mode\": \"immediate\", \"transition\": {\"duration\": 0, \"easing\": \"linear\"}}], \"label\": \"4/15/20\", \"method\": \"animate\"}, {\"args\": [[\"4/16/20\"], {\"frame\": {\"duration\": 0, \"redraw\": true}, \"fromcurrent\": true, \"mode\": \"immediate\", \"transition\": {\"duration\": 0, \"easing\": \"linear\"}}], \"label\": \"4/16/20\", \"method\": \"animate\"}, {\"args\": [[\"4/17/20\"], {\"frame\": {\"duration\": 0, \"redraw\": true}, \"fromcurrent\": true, \"mode\": \"immediate\", \"transition\": {\"duration\": 0, \"easing\": \"linear\"}}], \"label\": \"4/17/20\", \"method\": \"animate\"}, {\"args\": [[\"4/18/20\"], {\"frame\": {\"duration\": 0, \"redraw\": true}, \"fromcurrent\": true, \"mode\": \"immediate\", \"transition\": {\"duration\": 0, \"easing\": \"linear\"}}], \"label\": \"4/18/20\", \"method\": \"animate\"}, {\"args\": [[\"4/19/20\"], {\"frame\": {\"duration\": 0, \"redraw\": true}, \"fromcurrent\": true, \"mode\": \"immediate\", \"transition\": {\"duration\": 0, \"easing\": \"linear\"}}], \"label\": \"4/19/20\", \"method\": \"animate\"}, {\"args\": [[\"4/20/20\"], {\"frame\": {\"duration\": 0, \"redraw\": true}, \"fromcurrent\": true, \"mode\": \"immediate\", \"transition\": {\"duration\": 0, \"easing\": \"linear\"}}], \"label\": \"4/20/20\", \"method\": \"animate\"}, {\"args\": [[\"4/21/20\"], {\"frame\": {\"duration\": 0, \"redraw\": true}, \"fromcurrent\": true, \"mode\": \"immediate\", \"transition\": {\"duration\": 0, \"easing\": \"linear\"}}], \"label\": \"4/21/20\", \"method\": \"animate\"}, {\"args\": [[\"4/22/20\"], {\"frame\": {\"duration\": 0, \"redraw\": true}, \"fromcurrent\": true, \"mode\": \"immediate\", \"transition\": {\"duration\": 0, \"easing\": \"linear\"}}], \"label\": \"4/22/20\", \"method\": \"animate\"}, {\"args\": [[\"4/23/20\"], {\"frame\": {\"duration\": 0, \"redraw\": true}, \"fromcurrent\": true, \"mode\": \"immediate\", \"transition\": {\"duration\": 0, \"easing\": \"linear\"}}], \"label\": \"4/23/20\", \"method\": \"animate\"}, {\"args\": [[\"4/24/20\"], {\"frame\": {\"duration\": 0, \"redraw\": true}, \"fromcurrent\": true, \"mode\": \"immediate\", \"transition\": {\"duration\": 0, \"easing\": \"linear\"}}], \"label\": \"4/24/20\", \"method\": \"animate\"}, {\"args\": [[\"4/25/20\"], {\"frame\": {\"duration\": 0, \"redraw\": true}, \"fromcurrent\": true, \"mode\": \"immediate\", \"transition\": {\"duration\": 0, \"easing\": \"linear\"}}], \"label\": \"4/25/20\", \"method\": \"animate\"}, {\"args\": [[\"4/26/20\"], {\"frame\": {\"duration\": 0, \"redraw\": true}, \"fromcurrent\": true, \"mode\": \"immediate\", \"transition\": {\"duration\": 0, \"easing\": \"linear\"}}], \"label\": \"4/26/20\", \"method\": \"animate\"}, {\"args\": [[\"4/27/20\"], {\"frame\": {\"duration\": 0, \"redraw\": true}, \"fromcurrent\": true, \"mode\": \"immediate\", \"transition\": {\"duration\": 0, \"easing\": \"linear\"}}], \"label\": \"4/27/20\", \"method\": \"animate\"}, {\"args\": [[\"4/28/20\"], {\"frame\": {\"duration\": 0, \"redraw\": true}, \"fromcurrent\": true, \"mode\": \"immediate\", \"transition\": {\"duration\": 0, \"easing\": \"linear\"}}], \"label\": \"4/28/20\", \"method\": \"animate\"}, {\"args\": [[\"4/29/20\"], {\"frame\": {\"duration\": 0, \"redraw\": true}, \"fromcurrent\": true, \"mode\": \"immediate\", \"transition\": {\"duration\": 0, \"easing\": \"linear\"}}], \"label\": \"4/29/20\", \"method\": \"animate\"}, {\"args\": [[\"4/30/20\"], {\"frame\": {\"duration\": 0, \"redraw\": true}, \"fromcurrent\": true, \"mode\": \"immediate\", \"transition\": {\"duration\": 0, \"easing\": \"linear\"}}], \"label\": \"4/30/20\", \"method\": \"animate\"}, {\"args\": [[\"5/1/20\"], {\"frame\": {\"duration\": 0, \"redraw\": true}, \"fromcurrent\": true, \"mode\": \"immediate\", \"transition\": {\"duration\": 0, \"easing\": \"linear\"}}], \"label\": \"5/1/20\", \"method\": \"animate\"}, {\"args\": [[\"5/2/20\"], {\"frame\": {\"duration\": 0, \"redraw\": true}, \"fromcurrent\": true, \"mode\": \"immediate\", \"transition\": {\"duration\": 0, \"easing\": \"linear\"}}], \"label\": \"5/2/20\", \"method\": \"animate\"}, {\"args\": [[\"5/3/20\"], {\"frame\": {\"duration\": 0, \"redraw\": true}, \"fromcurrent\": true, \"mode\": \"immediate\", \"transition\": {\"duration\": 0, \"easing\": \"linear\"}}], \"label\": \"5/3/20\", \"method\": \"animate\"}, {\"args\": [[\"5/4/20\"], {\"frame\": {\"duration\": 0, \"redraw\": true}, \"fromcurrent\": true, \"mode\": \"immediate\", \"transition\": {\"duration\": 0, \"easing\": \"linear\"}}], \"label\": \"5/4/20\", \"method\": \"animate\"}, {\"args\": [[\"5/5/20\"], {\"frame\": {\"duration\": 0, \"redraw\": true}, \"fromcurrent\": true, \"mode\": \"immediate\", \"transition\": {\"duration\": 0, \"easing\": \"linear\"}}], \"label\": \"5/5/20\", \"method\": \"animate\"}, {\"args\": [[\"5/6/20\"], {\"frame\": {\"duration\": 0, \"redraw\": true}, \"fromcurrent\": true, \"mode\": \"immediate\", \"transition\": {\"duration\": 0, \"easing\": \"linear\"}}], \"label\": \"5/6/20\", \"method\": \"animate\"}, {\"args\": [[\"5/7/20\"], {\"frame\": {\"duration\": 0, \"redraw\": true}, \"fromcurrent\": true, \"mode\": \"immediate\", \"transition\": {\"duration\": 0, \"easing\": \"linear\"}}], \"label\": \"5/7/20\", \"method\": \"animate\"}, {\"args\": [[\"5/8/20\"], {\"frame\": {\"duration\": 0, \"redraw\": true}, \"fromcurrent\": true, \"mode\": \"immediate\", \"transition\": {\"duration\": 0, \"easing\": \"linear\"}}], \"label\": \"5/8/20\", \"method\": \"animate\"}, {\"args\": [[\"5/9/20\"], {\"frame\": {\"duration\": 0, \"redraw\": true}, \"fromcurrent\": true, \"mode\": \"immediate\", \"transition\": {\"duration\": 0, \"easing\": \"linear\"}}], \"label\": \"5/9/20\", \"method\": \"animate\"}], \"x\": 0.1, \"xanchor\": \"left\", \"y\": 0, \"yanchor\": \"top\"}], \"template\": {\"data\": {\"bar\": [{\"error_x\": {\"color\": \"#2a3f5f\"}, \"error_y\": {\"color\": \"#2a3f5f\"}, \"marker\": {\"line\": {\"color\": \"#E5ECF6\", \"width\": 0.5}}, \"type\": \"bar\"}], \"barpolar\": [{\"marker\": {\"line\": {\"color\": \"#E5ECF6\", \"width\": 0.5}}, \"type\": \"barpolar\"}], \"carpet\": [{\"aaxis\": {\"endlinecolor\": \"#2a3f5f\", \"gridcolor\": \"white\", \"linecolor\": \"white\", \"minorgridcolor\": \"white\", \"startlinecolor\": \"#2a3f5f\"}, \"baxis\": {\"endlinecolor\": \"#2a3f5f\", \"gridcolor\": \"white\", \"linecolor\": \"white\", \"minorgridcolor\": \"white\", \"startlinecolor\": \"#2a3f5f\"}, \"type\": \"carpet\"}], \"choropleth\": [{\"colorbar\": {\"outlinewidth\": 0, \"ticks\": \"\"}, \"type\": \"choropleth\"}], \"contour\": [{\"colorbar\": {\"outlinewidth\": 0, \"ticks\": \"\"}, \"colorscale\": [[0.0, \"#0d0887\"], [0.1111111111111111, \"#46039f\"], [0.2222222222222222, \"#7201a8\"], [0.3333333333333333, \"#9c179e\"], [0.4444444444444444, \"#bd3786\"], [0.5555555555555556, \"#d8576b\"], [0.6666666666666666, \"#ed7953\"], [0.7777777777777778, \"#fb9f3a\"], [0.8888888888888888, \"#fdca26\"], [1.0, \"#f0f921\"]], \"type\": \"contour\"}], \"contourcarpet\": [{\"colorbar\": {\"outlinewidth\": 0, \"ticks\": \"\"}, \"type\": \"contourcarpet\"}], \"heatmap\": [{\"colorbar\": {\"outlinewidth\": 0, \"ticks\": \"\"}, \"colorscale\": [[0.0, \"#0d0887\"], [0.1111111111111111, \"#46039f\"], [0.2222222222222222, \"#7201a8\"], [0.3333333333333333, \"#9c179e\"], [0.4444444444444444, \"#bd3786\"], [0.5555555555555556, \"#d8576b\"], [0.6666666666666666, \"#ed7953\"], [0.7777777777777778, \"#fb9f3a\"], [0.8888888888888888, \"#fdca26\"], [1.0, \"#f0f921\"]], \"type\": \"heatmap\"}], \"heatmapgl\": [{\"colorbar\": {\"outlinewidth\": 0, \"ticks\": \"\"}, \"colorscale\": [[0.0, \"#0d0887\"], [0.1111111111111111, \"#46039f\"], [0.2222222222222222, \"#7201a8\"], [0.3333333333333333, \"#9c179e\"], [0.4444444444444444, \"#bd3786\"], [0.5555555555555556, \"#d8576b\"], [0.6666666666666666, \"#ed7953\"], [0.7777777777777778, \"#fb9f3a\"], [0.8888888888888888, \"#fdca26\"], [1.0, \"#f0f921\"]], \"type\": \"heatmapgl\"}], \"histogram\": [{\"marker\": {\"colorbar\": {\"outlinewidth\": 0, \"ticks\": \"\"}}, \"type\": \"histogram\"}], \"histogram2d\": [{\"colorbar\": {\"outlinewidth\": 0, \"ticks\": \"\"}, \"colorscale\": [[0.0, \"#0d0887\"], [0.1111111111111111, \"#46039f\"], [0.2222222222222222, \"#7201a8\"], [0.3333333333333333, \"#9c179e\"], [0.4444444444444444, \"#bd3786\"], [0.5555555555555556, \"#d8576b\"], [0.6666666666666666, \"#ed7953\"], [0.7777777777777778, \"#fb9f3a\"], [0.8888888888888888, \"#fdca26\"], [1.0, \"#f0f921\"]], \"type\": \"histogram2d\"}], \"histogram2dcontour\": [{\"colorbar\": {\"outlinewidth\": 0, \"ticks\": \"\"}, \"colorscale\": [[0.0, \"#0d0887\"], [0.1111111111111111, \"#46039f\"], [0.2222222222222222, \"#7201a8\"], [0.3333333333333333, \"#9c179e\"], [0.4444444444444444, \"#bd3786\"], [0.5555555555555556, \"#d8576b\"], [0.6666666666666666, \"#ed7953\"], [0.7777777777777778, \"#fb9f3a\"], [0.8888888888888888, \"#fdca26\"], [1.0, \"#f0f921\"]], \"type\": \"histogram2dcontour\"}], \"mesh3d\": [{\"colorbar\": {\"outlinewidth\": 0, \"ticks\": \"\"}, \"type\": \"mesh3d\"}], \"parcoords\": [{\"line\": {\"colorbar\": {\"outlinewidth\": 0, \"ticks\": \"\"}}, \"type\": \"parcoords\"}], \"pie\": [{\"automargin\": true, \"type\": \"pie\"}], \"scatter\": [{\"marker\": {\"colorbar\": {\"outlinewidth\": 0, \"ticks\": \"\"}}, \"type\": \"scatter\"}], \"scatter3d\": [{\"line\": {\"colorbar\": {\"outlinewidth\": 0, \"ticks\": \"\"}}, \"marker\": {\"colorbar\": {\"outlinewidth\": 0, \"ticks\": \"\"}}, \"type\": \"scatter3d\"}], \"scattercarpet\": [{\"marker\": {\"colorbar\": {\"outlinewidth\": 0, \"ticks\": \"\"}}, \"type\": \"scattercarpet\"}], \"scattergeo\": [{\"marker\": {\"colorbar\": {\"outlinewidth\": 0, \"ticks\": \"\"}}, \"type\": \"scattergeo\"}], \"scattergl\": [{\"marker\": {\"colorbar\": {\"outlinewidth\": 0, \"ticks\": \"\"}}, \"type\": \"scattergl\"}], \"scattermapbox\": [{\"marker\": {\"colorbar\": {\"outlinewidth\": 0, \"ticks\": \"\"}}, \"type\": \"scattermapbox\"}], \"scatterpolar\": [{\"marker\": {\"colorbar\": {\"outlinewidth\": 0, \"ticks\": \"\"}}, \"type\": \"scatterpolar\"}], \"scatterpolargl\": [{\"marker\": {\"colorbar\": {\"outlinewidth\": 0, \"ticks\": \"\"}}, \"type\": \"scatterpolargl\"}], \"scatterternary\": [{\"marker\": {\"colorbar\": {\"outlinewidth\": 0, \"ticks\": \"\"}}, \"type\": \"scatterternary\"}], \"surface\": [{\"colorbar\": {\"outlinewidth\": 0, \"ticks\": \"\"}, \"colorscale\": [[0.0, \"#0d0887\"], [0.1111111111111111, \"#46039f\"], [0.2222222222222222, \"#7201a8\"], [0.3333333333333333, \"#9c179e\"], [0.4444444444444444, \"#bd3786\"], [0.5555555555555556, \"#d8576b\"], [0.6666666666666666, \"#ed7953\"], [0.7777777777777778, \"#fb9f3a\"], [0.8888888888888888, \"#fdca26\"], [1.0, \"#f0f921\"]], \"type\": \"surface\"}], \"table\": [{\"cells\": {\"fill\": {\"color\": \"#EBF0F8\"}, \"line\": {\"color\": \"white\"}}, \"header\": {\"fill\": {\"color\": \"#C8D4E3\"}, \"line\": {\"color\": \"white\"}}, \"type\": \"table\"}]}, \"layout\": {\"annotationdefaults\": {\"arrowcolor\": \"#2a3f5f\", \"arrowhead\": 0, \"arrowwidth\": 1}, \"coloraxis\": {\"colorbar\": {\"outlinewidth\": 0, \"ticks\": \"\"}}, \"colorscale\": {\"diverging\": [[0, \"#8e0152\"], [0.1, \"#c51b7d\"], [0.2, \"#de77ae\"], [0.3, \"#f1b6da\"], [0.4, \"#fde0ef\"], [0.5, \"#f7f7f7\"], [0.6, \"#e6f5d0\"], [0.7, \"#b8e186\"], [0.8, \"#7fbc41\"], [0.9, \"#4d9221\"], [1, \"#276419\"]], \"sequential\": [[0.0, \"#0d0887\"], [0.1111111111111111, \"#46039f\"], [0.2222222222222222, \"#7201a8\"], [0.3333333333333333, \"#9c179e\"], [0.4444444444444444, \"#bd3786\"], [0.5555555555555556, \"#d8576b\"], [0.6666666666666666, \"#ed7953\"], [0.7777777777777778, \"#fb9f3a\"], [0.8888888888888888, \"#fdca26\"], [1.0, \"#f0f921\"]], \"sequentialminus\": [[0.0, \"#0d0887\"], [0.1111111111111111, \"#46039f\"], [0.2222222222222222, \"#7201a8\"], [0.3333333333333333, \"#9c179e\"], [0.4444444444444444, \"#bd3786\"], [0.5555555555555556, \"#d8576b\"], [0.6666666666666666, \"#ed7953\"], [0.7777777777777778, \"#fb9f3a\"], [0.8888888888888888, \"#fdca26\"], [1.0, \"#f0f921\"]]}, \"colorway\": [\"#636efa\", \"#EF553B\", \"#00cc96\", \"#ab63fa\", \"#FFA15A\", \"#19d3f3\", \"#FF6692\", \"#B6E880\", \"#FF97FF\", \"#FECB52\"], \"font\": {\"color\": \"#2a3f5f\"}, \"geo\": {\"bgcolor\": \"white\", \"lakecolor\": \"white\", \"landcolor\": \"#E5ECF6\", \"showlakes\": true, \"showland\": true, \"subunitcolor\": \"white\"}, \"hoverlabel\": {\"align\": \"left\"}, \"hovermode\": \"closest\", \"mapbox\": {\"style\": \"light\"}, \"paper_bgcolor\": \"white\", \"plot_bgcolor\": \"#E5ECF6\", \"polar\": {\"angularaxis\": {\"gridcolor\": \"white\", \"linecolor\": \"white\", \"ticks\": \"\"}, \"bgcolor\": \"#E5ECF6\", \"radialaxis\": {\"gridcolor\": \"white\", \"linecolor\": \"white\", \"ticks\": \"\"}}, \"scene\": {\"xaxis\": {\"backgroundcolor\": \"#E5ECF6\", \"gridcolor\": \"white\", \"gridwidth\": 2, \"linecolor\": \"white\", \"showbackground\": true, \"ticks\": \"\", \"zerolinecolor\": \"white\"}, \"yaxis\": {\"backgroundcolor\": \"#E5ECF6\", \"gridcolor\": \"white\", \"gridwidth\": 2, \"linecolor\": \"white\", \"showbackground\": true, \"ticks\": \"\", \"zerolinecolor\": \"white\"}, \"zaxis\": {\"backgroundcolor\": \"#E5ECF6\", \"gridcolor\": \"white\", \"gridwidth\": 2, \"linecolor\": \"white\", \"showbackground\": true, \"ticks\": \"\", \"zerolinecolor\": \"white\"}}, \"shapedefaults\": {\"line\": {\"color\": \"#2a3f5f\"}}, \"ternary\": {\"aaxis\": {\"gridcolor\": \"white\", \"linecolor\": \"white\", \"ticks\": \"\"}, \"baxis\": {\"gridcolor\": \"white\", \"linecolor\": \"white\", \"ticks\": \"\"}, \"bgcolor\": \"#E5ECF6\", \"caxis\": {\"gridcolor\": \"white\", \"linecolor\": \"white\", \"ticks\": \"\"}}, \"title\": {\"x\": 0.05}, \"xaxis\": {\"automargin\": true, \"gridcolor\": \"white\", \"linecolor\": \"white\", \"ticks\": \"\", \"title\": {\"standoff\": 15}, \"zerolinecolor\": \"white\", \"zerolinewidth\": 2}, \"yaxis\": {\"automargin\": true, \"gridcolor\": \"white\", \"linecolor\": \"white\", \"ticks\": \"\", \"title\": {\"standoff\": 15}, \"zerolinecolor\": \"white\", \"zerolinewidth\": 2}}}, \"title\": {\"text\": \"Covid19 Confirmed/Death/Recovered\"}, \"updatemenus\": [{\"buttons\": [{\"args\": [null, {\"frame\": {\"duration\": 500, \"redraw\": true}, \"fromcurrent\": true, \"mode\": \"immediate\", \"transition\": {\"duration\": 500, \"easing\": \"linear\"}}], \"label\": \"&#9654;\", \"method\": \"animate\"}, {\"args\": [[null], {\"frame\": {\"duration\": 0, \"redraw\": true}, \"fromcurrent\": true, \"mode\": \"immediate\", \"transition\": {\"duration\": 0, \"easing\": \"linear\"}}], \"label\": \"&#9724;\", \"method\": \"animate\"}], \"direction\": \"left\", \"pad\": {\"r\": 10, \"t\": 70}, \"showactive\": false, \"type\": \"buttons\", \"x\": 0.1, \"xanchor\": \"right\", \"y\": 0, \"yanchor\": \"top\"}], \"xaxis\": {\"anchor\": \"y\", \"domain\": [0.0, 1.0], \"title\": {\"text\": \"country\"}}, \"yaxis\": {\"anchor\": \"x\", \"domain\": [0.0, 1.0], \"range\": [0, 1319550], \"title\": {\"text\": \"count\"}}},\n",
       "                        {\"responsive\": true}\n",
       "                    ).then(function(){\n",
       "                            Plotly.addFrames('c9535148-9fd8-49de-909a-a6fb860ba3cc', [{\"data\": [{\"alignmentgroup\": \"True\", \"hovertemplate\": \"type=confirmed<br>date=1/22/20<br>country=%{x}<br>count=%{y}<extra></extra>\", \"legendgroup\": \"confirmed\", \"marker\": {\"color\": \"#636efa\"}, \"name\": \"confirmed\", \"offsetgroup\": \"confirmed\", \"orientation\": \"v\", \"showlegend\": true, \"textposition\": \"auto\", \"x\": [\"US\", \"Spain\", \"Italy\", \"Russia\", \"Germany\", \"Brazil\", \"Turkey\", \"Iran\", \"Peru\", \"India\", \"Belgium\", \"Saudi Arabia\", \"Mexico\", \"Switzerland\", \"Ecuador\", \"Pakistan\", \"Portugal\", \"Chile\", \"Sweden\", \"Ireland\"], \"xaxis\": \"x\", \"y\": [1, 0, 0, 0, 0, 0, 0, 0, 0, 0, 0, 0, 0, 0, 0, 0, 0, 0, 0, 0], \"yaxis\": \"y\", \"type\": \"bar\"}, {\"alignmentgroup\": \"True\", \"hovertemplate\": \"type=death<br>date=1/22/20<br>country=%{x}<br>count=%{y}<extra></extra>\", \"legendgroup\": \"death\", \"marker\": {\"color\": \"#EF553B\"}, \"name\": \"death\", \"offsetgroup\": \"death\", \"orientation\": \"v\", \"showlegend\": true, \"textposition\": \"auto\", \"x\": [\"US\", \"Spain\", \"Italy\", \"Russia\", \"Germany\", \"Brazil\", \"Turkey\", \"Iran\", \"Peru\", \"India\", \"Belgium\", \"Saudi Arabia\", \"Mexico\", \"Switzerland\", \"Ecuador\", \"Pakistan\", \"Portugal\", \"Chile\", \"Sweden\", \"Ireland\"], \"xaxis\": \"x\", \"y\": [0, 0, 0, 0, 0, 0, 0, 0, 0, 0, 0, 0, 0, 0, 0, 0, 0, 0, 0, 0], \"yaxis\": \"y\", \"type\": \"bar\"}, {\"alignmentgroup\": \"True\", \"hovertemplate\": \"type=recovered<br>date=1/22/20<br>country=%{x}<br>count=%{y}<extra></extra>\", \"legendgroup\": \"recovered\", \"marker\": {\"color\": \"#00cc96\"}, \"name\": \"recovered\", \"offsetgroup\": \"recovered\", \"orientation\": \"v\", \"showlegend\": true, \"textposition\": \"auto\", \"x\": [\"US\", \"Spain\", \"Italy\", \"Russia\", \"Germany\", \"Brazil\", \"Turkey\", \"Iran\", \"Peru\", \"India\", \"Belgium\", \"Saudi Arabia\", \"Mexico\", \"Switzerland\", \"Ecuador\", \"Pakistan\", \"Portugal\", \"Chile\", \"Sweden\", \"Ireland\"], \"xaxis\": \"x\", \"y\": [0, 0, 0, 0, 0, 0, 0, 0, 0, 0, 0, 0, 0, 0, 0, 0, 0, 0, 0, 0], \"yaxis\": \"y\", \"type\": \"bar\"}], \"name\": \"1/22/20\"}, {\"data\": [{\"alignmentgroup\": \"True\", \"hovertemplate\": \"type=confirmed<br>date=1/23/20<br>country=%{x}<br>count=%{y}<extra></extra>\", \"legendgroup\": \"confirmed\", \"marker\": {\"color\": \"#636efa\"}, \"name\": \"confirmed\", \"offsetgroup\": \"confirmed\", \"orientation\": \"v\", \"showlegend\": true, \"textposition\": \"auto\", \"x\": [\"US\", \"Spain\", \"Italy\", \"Russia\", \"Germany\", \"Brazil\", \"Turkey\", \"Iran\", \"Peru\", \"India\", \"Belgium\", \"Saudi Arabia\", \"Mexico\", \"Switzerland\", \"Ecuador\", \"Pakistan\", \"Portugal\", \"Chile\", \"Sweden\", \"Ireland\"], \"xaxis\": \"x\", \"y\": [1, 0, 0, 0, 0, 0, 0, 0, 0, 0, 0, 0, 0, 0, 0, 0, 0, 0, 0, 0], \"yaxis\": \"y\", \"type\": \"bar\"}, {\"alignmentgroup\": \"True\", \"hovertemplate\": \"type=death<br>date=1/23/20<br>country=%{x}<br>count=%{y}<extra></extra>\", \"legendgroup\": \"death\", \"marker\": {\"color\": \"#EF553B\"}, \"name\": \"death\", \"offsetgroup\": \"death\", \"orientation\": \"v\", \"showlegend\": true, \"textposition\": \"auto\", \"x\": [\"US\", \"Spain\", \"Italy\", \"Russia\", \"Germany\", \"Brazil\", \"Turkey\", \"Iran\", \"Peru\", \"India\", \"Belgium\", \"Saudi Arabia\", \"Mexico\", \"Switzerland\", \"Ecuador\", \"Pakistan\", \"Portugal\", \"Chile\", \"Sweden\", \"Ireland\"], \"xaxis\": \"x\", \"y\": [0, 0, 0, 0, 0, 0, 0, 0, 0, 0, 0, 0, 0, 0, 0, 0, 0, 0, 0, 0], \"yaxis\": \"y\", \"type\": \"bar\"}, {\"alignmentgroup\": \"True\", \"hovertemplate\": \"type=recovered<br>date=1/23/20<br>country=%{x}<br>count=%{y}<extra></extra>\", \"legendgroup\": \"recovered\", \"marker\": {\"color\": \"#00cc96\"}, \"name\": \"recovered\", \"offsetgroup\": \"recovered\", \"orientation\": \"v\", \"showlegend\": true, \"textposition\": \"auto\", \"x\": [\"US\", \"Spain\", \"Italy\", \"Russia\", \"Germany\", \"Brazil\", \"Turkey\", \"Iran\", \"Peru\", \"India\", \"Belgium\", \"Saudi Arabia\", \"Mexico\", \"Switzerland\", \"Ecuador\", \"Pakistan\", \"Portugal\", \"Chile\", \"Sweden\", \"Ireland\"], \"xaxis\": \"x\", \"y\": [0, 0, 0, 0, 0, 0, 0, 0, 0, 0, 0, 0, 0, 0, 0, 0, 0, 0, 0, 0], \"yaxis\": \"y\", \"type\": \"bar\"}], \"name\": \"1/23/20\"}, {\"data\": [{\"alignmentgroup\": \"True\", \"hovertemplate\": \"type=confirmed<br>date=1/24/20<br>country=%{x}<br>count=%{y}<extra></extra>\", \"legendgroup\": \"confirmed\", \"marker\": {\"color\": \"#636efa\"}, \"name\": \"confirmed\", \"offsetgroup\": \"confirmed\", \"orientation\": \"v\", \"showlegend\": true, \"textposition\": \"auto\", \"x\": [\"US\", \"Spain\", \"Italy\", \"Russia\", \"Germany\", \"Brazil\", \"Turkey\", \"Iran\", \"Peru\", \"India\", \"Belgium\", \"Saudi Arabia\", \"Mexico\", \"Switzerland\", \"Ecuador\", \"Pakistan\", \"Portugal\", \"Chile\", \"Sweden\", \"Ireland\"], \"xaxis\": \"x\", \"y\": [2, 0, 0, 0, 0, 0, 0, 0, 0, 0, 0, 0, 0, 0, 0, 0, 0, 0, 0, 0], \"yaxis\": \"y\", \"type\": \"bar\"}, {\"alignmentgroup\": \"True\", \"hovertemplate\": \"type=death<br>date=1/24/20<br>country=%{x}<br>count=%{y}<extra></extra>\", \"legendgroup\": \"death\", \"marker\": {\"color\": \"#EF553B\"}, \"name\": \"death\", \"offsetgroup\": \"death\", \"orientation\": \"v\", \"showlegend\": true, \"textposition\": \"auto\", \"x\": [\"US\", \"Spain\", \"Italy\", \"Russia\", \"Germany\", \"Brazil\", \"Turkey\", \"Iran\", \"Peru\", \"India\", \"Belgium\", \"Saudi Arabia\", \"Mexico\", \"Switzerland\", \"Ecuador\", \"Pakistan\", \"Portugal\", \"Chile\", \"Sweden\", \"Ireland\"], \"xaxis\": \"x\", \"y\": [0, 0, 0, 0, 0, 0, 0, 0, 0, 0, 0, 0, 0, 0, 0, 0, 0, 0, 0, 0], \"yaxis\": \"y\", \"type\": \"bar\"}, {\"alignmentgroup\": \"True\", \"hovertemplate\": \"type=recovered<br>date=1/24/20<br>country=%{x}<br>count=%{y}<extra></extra>\", \"legendgroup\": \"recovered\", \"marker\": {\"color\": \"#00cc96\"}, \"name\": \"recovered\", \"offsetgroup\": \"recovered\", \"orientation\": \"v\", \"showlegend\": true, \"textposition\": \"auto\", \"x\": [\"US\", \"Spain\", \"Italy\", \"Russia\", \"Germany\", \"Brazil\", \"Turkey\", \"Iran\", \"Peru\", \"India\", \"Belgium\", \"Saudi Arabia\", \"Mexico\", \"Switzerland\", \"Ecuador\", \"Pakistan\", \"Portugal\", \"Chile\", \"Sweden\", \"Ireland\"], \"xaxis\": \"x\", \"y\": [0, 0, 0, 0, 0, 0, 0, 0, 0, 0, 0, 0, 0, 0, 0, 0, 0, 0, 0, 0], \"yaxis\": \"y\", \"type\": \"bar\"}], \"name\": \"1/24/20\"}, {\"data\": [{\"alignmentgroup\": \"True\", \"hovertemplate\": \"type=confirmed<br>date=1/25/20<br>country=%{x}<br>count=%{y}<extra></extra>\", \"legendgroup\": \"confirmed\", \"marker\": {\"color\": \"#636efa\"}, \"name\": \"confirmed\", \"offsetgroup\": \"confirmed\", \"orientation\": \"v\", \"showlegend\": true, \"textposition\": \"auto\", \"x\": [\"US\", \"Spain\", \"Italy\", \"Russia\", \"Germany\", \"Brazil\", \"Turkey\", \"Iran\", \"Peru\", \"India\", \"Belgium\", \"Saudi Arabia\", \"Mexico\", \"Switzerland\", \"Ecuador\", \"Pakistan\", \"Portugal\", \"Chile\", \"Sweden\", \"Ireland\"], \"xaxis\": \"x\", \"y\": [2, 0, 0, 0, 0, 0, 0, 0, 0, 0, 0, 0, 0, 0, 0, 0, 0, 0, 0, 0], \"yaxis\": \"y\", \"type\": \"bar\"}, {\"alignmentgroup\": \"True\", \"hovertemplate\": \"type=death<br>date=1/25/20<br>country=%{x}<br>count=%{y}<extra></extra>\", \"legendgroup\": \"death\", \"marker\": {\"color\": \"#EF553B\"}, \"name\": \"death\", \"offsetgroup\": \"death\", \"orientation\": \"v\", \"showlegend\": true, \"textposition\": \"auto\", \"x\": [\"US\", \"Spain\", \"Italy\", \"Russia\", \"Germany\", \"Brazil\", \"Turkey\", \"Iran\", \"Peru\", \"India\", \"Belgium\", \"Saudi Arabia\", \"Mexico\", \"Switzerland\", \"Ecuador\", \"Pakistan\", \"Portugal\", \"Chile\", \"Sweden\", \"Ireland\"], \"xaxis\": \"x\", \"y\": [0, 0, 0, 0, 0, 0, 0, 0, 0, 0, 0, 0, 0, 0, 0, 0, 0, 0, 0, 0], \"yaxis\": \"y\", \"type\": \"bar\"}, {\"alignmentgroup\": \"True\", \"hovertemplate\": \"type=recovered<br>date=1/25/20<br>country=%{x}<br>count=%{y}<extra></extra>\", \"legendgroup\": \"recovered\", \"marker\": {\"color\": \"#00cc96\"}, \"name\": \"recovered\", \"offsetgroup\": \"recovered\", \"orientation\": \"v\", \"showlegend\": true, \"textposition\": \"auto\", \"x\": [\"US\", \"Spain\", \"Italy\", \"Russia\", \"Germany\", \"Brazil\", \"Turkey\", \"Iran\", \"Peru\", \"India\", \"Belgium\", \"Saudi Arabia\", \"Mexico\", \"Switzerland\", \"Ecuador\", \"Pakistan\", \"Portugal\", \"Chile\", \"Sweden\", \"Ireland\"], \"xaxis\": \"x\", \"y\": [0, 0, 0, 0, 0, 0, 0, 0, 0, 0, 0, 0, 0, 0, 0, 0, 0, 0, 0, 0], \"yaxis\": \"y\", \"type\": \"bar\"}], \"name\": \"1/25/20\"}, {\"data\": [{\"alignmentgroup\": \"True\", \"hovertemplate\": \"type=confirmed<br>date=1/26/20<br>country=%{x}<br>count=%{y}<extra></extra>\", \"legendgroup\": \"confirmed\", \"marker\": {\"color\": \"#636efa\"}, \"name\": \"confirmed\", \"offsetgroup\": \"confirmed\", \"orientation\": \"v\", \"showlegend\": true, \"textposition\": \"auto\", \"x\": [\"US\", \"Spain\", \"Italy\", \"Russia\", \"Germany\", \"Brazil\", \"Turkey\", \"Iran\", \"Peru\", \"India\", \"Belgium\", \"Saudi Arabia\", \"Mexico\", \"Switzerland\", \"Ecuador\", \"Pakistan\", \"Portugal\", \"Chile\", \"Sweden\", \"Ireland\"], \"xaxis\": \"x\", \"y\": [5, 0, 0, 0, 0, 0, 0, 0, 0, 0, 0, 0, 0, 0, 0, 0, 0, 0, 0, 0], \"yaxis\": \"y\", \"type\": \"bar\"}, {\"alignmentgroup\": \"True\", \"hovertemplate\": \"type=death<br>date=1/26/20<br>country=%{x}<br>count=%{y}<extra></extra>\", \"legendgroup\": \"death\", \"marker\": {\"color\": \"#EF553B\"}, \"name\": \"death\", \"offsetgroup\": \"death\", \"orientation\": \"v\", \"showlegend\": true, \"textposition\": \"auto\", \"x\": [\"US\", \"Spain\", \"Italy\", \"Russia\", \"Germany\", \"Brazil\", \"Turkey\", \"Iran\", \"Peru\", \"India\", \"Belgium\", \"Saudi Arabia\", \"Mexico\", \"Switzerland\", \"Ecuador\", \"Pakistan\", \"Portugal\", \"Chile\", \"Sweden\", \"Ireland\"], \"xaxis\": \"x\", \"y\": [0, 0, 0, 0, 0, 0, 0, 0, 0, 0, 0, 0, 0, 0, 0, 0, 0, 0, 0, 0], \"yaxis\": \"y\", \"type\": \"bar\"}, {\"alignmentgroup\": \"True\", \"hovertemplate\": \"type=recovered<br>date=1/26/20<br>country=%{x}<br>count=%{y}<extra></extra>\", \"legendgroup\": \"recovered\", \"marker\": {\"color\": \"#00cc96\"}, \"name\": \"recovered\", \"offsetgroup\": \"recovered\", \"orientation\": \"v\", \"showlegend\": true, \"textposition\": \"auto\", \"x\": [\"US\", \"Spain\", \"Italy\", \"Russia\", \"Germany\", \"Brazil\", \"Turkey\", \"Iran\", \"Peru\", \"India\", \"Belgium\", \"Saudi Arabia\", \"Mexico\", \"Switzerland\", \"Ecuador\", \"Pakistan\", \"Portugal\", \"Chile\", \"Sweden\", \"Ireland\"], \"xaxis\": \"x\", \"y\": [0, 0, 0, 0, 0, 0, 0, 0, 0, 0, 0, 0, 0, 0, 0, 0, 0, 0, 0, 0], \"yaxis\": \"y\", \"type\": \"bar\"}], \"name\": \"1/26/20\"}, {\"data\": [{\"alignmentgroup\": \"True\", \"hovertemplate\": \"type=confirmed<br>date=1/27/20<br>country=%{x}<br>count=%{y}<extra></extra>\", \"legendgroup\": \"confirmed\", \"marker\": {\"color\": \"#636efa\"}, \"name\": \"confirmed\", \"offsetgroup\": \"confirmed\", \"orientation\": \"v\", \"showlegend\": true, \"textposition\": \"auto\", \"x\": [\"US\", \"Spain\", \"Italy\", \"Russia\", \"Germany\", \"Brazil\", \"Turkey\", \"Iran\", \"Peru\", \"India\", \"Belgium\", \"Saudi Arabia\", \"Mexico\", \"Switzerland\", \"Ecuador\", \"Pakistan\", \"Portugal\", \"Chile\", \"Sweden\", \"Ireland\"], \"xaxis\": \"x\", \"y\": [5, 0, 0, 0, 1, 0, 0, 0, 0, 0, 0, 0, 0, 0, 0, 0, 0, 0, 0, 0], \"yaxis\": \"y\", \"type\": \"bar\"}, {\"alignmentgroup\": \"True\", \"hovertemplate\": \"type=death<br>date=1/27/20<br>country=%{x}<br>count=%{y}<extra></extra>\", \"legendgroup\": \"death\", \"marker\": {\"color\": \"#EF553B\"}, \"name\": \"death\", \"offsetgroup\": \"death\", \"orientation\": \"v\", \"showlegend\": true, \"textposition\": \"auto\", \"x\": [\"US\", \"Spain\", \"Italy\", \"Russia\", \"Germany\", \"Brazil\", \"Turkey\", \"Iran\", \"Peru\", \"India\", \"Belgium\", \"Saudi Arabia\", \"Mexico\", \"Switzerland\", \"Ecuador\", \"Pakistan\", \"Portugal\", \"Chile\", \"Sweden\", \"Ireland\"], \"xaxis\": \"x\", \"y\": [0, 0, 0, 0, 0, 0, 0, 0, 0, 0, 0, 0, 0, 0, 0, 0, 0, 0, 0, 0], \"yaxis\": \"y\", \"type\": \"bar\"}, {\"alignmentgroup\": \"True\", \"hovertemplate\": \"type=recovered<br>date=1/27/20<br>country=%{x}<br>count=%{y}<extra></extra>\", \"legendgroup\": \"recovered\", \"marker\": {\"color\": \"#00cc96\"}, \"name\": \"recovered\", \"offsetgroup\": \"recovered\", \"orientation\": \"v\", \"showlegend\": true, \"textposition\": \"auto\", \"x\": [\"US\", \"Spain\", \"Italy\", \"Russia\", \"Germany\", \"Brazil\", \"Turkey\", \"Iran\", \"Peru\", \"India\", \"Belgium\", \"Saudi Arabia\", \"Mexico\", \"Switzerland\", \"Ecuador\", \"Pakistan\", \"Portugal\", \"Chile\", \"Sweden\", \"Ireland\"], \"xaxis\": \"x\", \"y\": [0, 0, 0, 0, 0, 0, 0, 0, 0, 0, 0, 0, 0, 0, 0, 0, 0, 0, 0, 0], \"yaxis\": \"y\", \"type\": \"bar\"}], \"name\": \"1/27/20\"}, {\"data\": [{\"alignmentgroup\": \"True\", \"hovertemplate\": \"type=confirmed<br>date=1/28/20<br>country=%{x}<br>count=%{y}<extra></extra>\", \"legendgroup\": \"confirmed\", \"marker\": {\"color\": \"#636efa\"}, \"name\": \"confirmed\", \"offsetgroup\": \"confirmed\", \"orientation\": \"v\", \"showlegend\": true, \"textposition\": \"auto\", \"x\": [\"US\", \"Spain\", \"Italy\", \"Russia\", \"Germany\", \"Brazil\", \"Turkey\", \"Iran\", \"Peru\", \"India\", \"Belgium\", \"Saudi Arabia\", \"Mexico\", \"Switzerland\", \"Ecuador\", \"Pakistan\", \"Portugal\", \"Chile\", \"Sweden\", \"Ireland\"], \"xaxis\": \"x\", \"y\": [5, 0, 0, 0, 4, 0, 0, 0, 0, 0, 0, 0, 0, 0, 0, 0, 0, 0, 0, 0], \"yaxis\": \"y\", \"type\": \"bar\"}, {\"alignmentgroup\": \"True\", \"hovertemplate\": \"type=death<br>date=1/28/20<br>country=%{x}<br>count=%{y}<extra></extra>\", \"legendgroup\": \"death\", \"marker\": {\"color\": \"#EF553B\"}, \"name\": \"death\", \"offsetgroup\": \"death\", \"orientation\": \"v\", \"showlegend\": true, \"textposition\": \"auto\", \"x\": [\"US\", \"Spain\", \"Italy\", \"Russia\", \"Germany\", \"Brazil\", \"Turkey\", \"Iran\", \"Peru\", \"India\", \"Belgium\", \"Saudi Arabia\", \"Mexico\", \"Switzerland\", \"Ecuador\", \"Pakistan\", \"Portugal\", \"Chile\", \"Sweden\", \"Ireland\"], \"xaxis\": \"x\", \"y\": [0, 0, 0, 0, 0, 0, 0, 0, 0, 0, 0, 0, 0, 0, 0, 0, 0, 0, 0, 0], \"yaxis\": \"y\", \"type\": \"bar\"}, {\"alignmentgroup\": \"True\", \"hovertemplate\": \"type=recovered<br>date=1/28/20<br>country=%{x}<br>count=%{y}<extra></extra>\", \"legendgroup\": \"recovered\", \"marker\": {\"color\": \"#00cc96\"}, \"name\": \"recovered\", \"offsetgroup\": \"recovered\", \"orientation\": \"v\", \"showlegend\": true, \"textposition\": \"auto\", \"x\": [\"US\", \"Spain\", \"Italy\", \"Russia\", \"Germany\", \"Brazil\", \"Turkey\", \"Iran\", \"Peru\", \"India\", \"Belgium\", \"Saudi Arabia\", \"Mexico\", \"Switzerland\", \"Ecuador\", \"Pakistan\", \"Portugal\", \"Chile\", \"Sweden\", \"Ireland\"], \"xaxis\": \"x\", \"y\": [0, 0, 0, 0, 0, 0, 0, 0, 0, 0, 0, 0, 0, 0, 0, 0, 0, 0, 0, 0], \"yaxis\": \"y\", \"type\": \"bar\"}], \"name\": \"1/28/20\"}, {\"data\": [{\"alignmentgroup\": \"True\", \"hovertemplate\": \"type=confirmed<br>date=1/29/20<br>country=%{x}<br>count=%{y}<extra></extra>\", \"legendgroup\": \"confirmed\", \"marker\": {\"color\": \"#636efa\"}, \"name\": \"confirmed\", \"offsetgroup\": \"confirmed\", \"orientation\": \"v\", \"showlegend\": true, \"textposition\": \"auto\", \"x\": [\"US\", \"Spain\", \"Italy\", \"Russia\", \"Germany\", \"Brazil\", \"Turkey\", \"Iran\", \"Peru\", \"India\", \"Belgium\", \"Saudi Arabia\", \"Mexico\", \"Switzerland\", \"Ecuador\", \"Pakistan\", \"Portugal\", \"Chile\", \"Sweden\", \"Ireland\"], \"xaxis\": \"x\", \"y\": [5, 0, 0, 0, 4, 0, 0, 0, 0, 0, 0, 0, 0, 0, 0, 0, 0, 0, 0, 0], \"yaxis\": \"y\", \"type\": \"bar\"}, {\"alignmentgroup\": \"True\", \"hovertemplate\": \"type=death<br>date=1/29/20<br>country=%{x}<br>count=%{y}<extra></extra>\", \"legendgroup\": \"death\", \"marker\": {\"color\": \"#EF553B\"}, \"name\": \"death\", \"offsetgroup\": \"death\", \"orientation\": \"v\", \"showlegend\": true, \"textposition\": \"auto\", \"x\": [\"US\", \"Spain\", \"Italy\", \"Russia\", \"Germany\", \"Brazil\", \"Turkey\", \"Iran\", \"Peru\", \"India\", \"Belgium\", \"Saudi Arabia\", \"Mexico\", \"Switzerland\", \"Ecuador\", \"Pakistan\", \"Portugal\", \"Chile\", \"Sweden\", \"Ireland\"], \"xaxis\": \"x\", \"y\": [0, 0, 0, 0, 0, 0, 0, 0, 0, 0, 0, 0, 0, 0, 0, 0, 0, 0, 0, 0], \"yaxis\": \"y\", \"type\": \"bar\"}, {\"alignmentgroup\": \"True\", \"hovertemplate\": \"type=recovered<br>date=1/29/20<br>country=%{x}<br>count=%{y}<extra></extra>\", \"legendgroup\": \"recovered\", \"marker\": {\"color\": \"#00cc96\"}, \"name\": \"recovered\", \"offsetgroup\": \"recovered\", \"orientation\": \"v\", \"showlegend\": true, \"textposition\": \"auto\", \"x\": [\"US\", \"Spain\", \"Italy\", \"Russia\", \"Germany\", \"Brazil\", \"Turkey\", \"Iran\", \"Peru\", \"India\", \"Belgium\", \"Saudi Arabia\", \"Mexico\", \"Switzerland\", \"Ecuador\", \"Pakistan\", \"Portugal\", \"Chile\", \"Sweden\", \"Ireland\"], \"xaxis\": \"x\", \"y\": [0, 0, 0, 0, 0, 0, 0, 0, 0, 0, 0, 0, 0, 0, 0, 0, 0, 0, 0, 0], \"yaxis\": \"y\", \"type\": \"bar\"}], \"name\": \"1/29/20\"}, {\"data\": [{\"alignmentgroup\": \"True\", \"hovertemplate\": \"type=confirmed<br>date=1/30/20<br>country=%{x}<br>count=%{y}<extra></extra>\", \"legendgroup\": \"confirmed\", \"marker\": {\"color\": \"#636efa\"}, \"name\": \"confirmed\", \"offsetgroup\": \"confirmed\", \"orientation\": \"v\", \"showlegend\": true, \"textposition\": \"auto\", \"x\": [\"US\", \"Spain\", \"Italy\", \"Russia\", \"Germany\", \"Brazil\", \"Turkey\", \"Iran\", \"Peru\", \"India\", \"Belgium\", \"Saudi Arabia\", \"Mexico\", \"Switzerland\", \"Ecuador\", \"Pakistan\", \"Portugal\", \"Chile\", \"Sweden\", \"Ireland\"], \"xaxis\": \"x\", \"y\": [5, 0, 0, 0, 4, 0, 0, 0, 0, 1, 0, 0, 0, 0, 0, 0, 0, 0, 0, 0], \"yaxis\": \"y\", \"type\": \"bar\"}, {\"alignmentgroup\": \"True\", \"hovertemplate\": \"type=death<br>date=1/30/20<br>country=%{x}<br>count=%{y}<extra></extra>\", \"legendgroup\": \"death\", \"marker\": {\"color\": \"#EF553B\"}, \"name\": \"death\", \"offsetgroup\": \"death\", \"orientation\": \"v\", \"showlegend\": true, \"textposition\": \"auto\", \"x\": [\"US\", \"Spain\", \"Italy\", \"Russia\", \"Germany\", \"Brazil\", \"Turkey\", \"Iran\", \"Peru\", \"India\", \"Belgium\", \"Saudi Arabia\", \"Mexico\", \"Switzerland\", \"Ecuador\", \"Pakistan\", \"Portugal\", \"Chile\", \"Sweden\", \"Ireland\"], \"xaxis\": \"x\", \"y\": [0, 0, 0, 0, 0, 0, 0, 0, 0, 0, 0, 0, 0, 0, 0, 0, 0, 0, 0, 0], \"yaxis\": \"y\", \"type\": \"bar\"}, {\"alignmentgroup\": \"True\", \"hovertemplate\": \"type=recovered<br>date=1/30/20<br>country=%{x}<br>count=%{y}<extra></extra>\", \"legendgroup\": \"recovered\", \"marker\": {\"color\": \"#00cc96\"}, \"name\": \"recovered\", \"offsetgroup\": \"recovered\", \"orientation\": \"v\", \"showlegend\": true, \"textposition\": \"auto\", \"x\": [\"US\", \"Spain\", \"Italy\", \"Russia\", \"Germany\", \"Brazil\", \"Turkey\", \"Iran\", \"Peru\", \"India\", \"Belgium\", \"Saudi Arabia\", \"Mexico\", \"Switzerland\", \"Ecuador\", \"Pakistan\", \"Portugal\", \"Chile\", \"Sweden\", \"Ireland\"], \"xaxis\": \"x\", \"y\": [0, 0, 0, 0, 0, 0, 0, 0, 0, 0, 0, 0, 0, 0, 0, 0, 0, 0, 0, 0], \"yaxis\": \"y\", \"type\": \"bar\"}], \"name\": \"1/30/20\"}, {\"data\": [{\"alignmentgroup\": \"True\", \"hovertemplate\": \"type=confirmed<br>date=1/31/20<br>country=%{x}<br>count=%{y}<extra></extra>\", \"legendgroup\": \"confirmed\", \"marker\": {\"color\": \"#636efa\"}, \"name\": \"confirmed\", \"offsetgroup\": \"confirmed\", \"orientation\": \"v\", \"showlegend\": true, \"textposition\": \"auto\", \"x\": [\"US\", \"Spain\", \"Italy\", \"Russia\", \"Germany\", \"Brazil\", \"Turkey\", \"Iran\", \"Peru\", \"India\", \"Belgium\", \"Saudi Arabia\", \"Mexico\", \"Switzerland\", \"Ecuador\", \"Pakistan\", \"Portugal\", \"Chile\", \"Sweden\", \"Ireland\"], \"xaxis\": \"x\", \"y\": [7, 0, 2, 2, 5, 0, 0, 0, 0, 1, 0, 0, 0, 0, 0, 0, 0, 0, 1, 0], \"yaxis\": \"y\", \"type\": \"bar\"}, {\"alignmentgroup\": \"True\", \"hovertemplate\": \"type=death<br>date=1/31/20<br>country=%{x}<br>count=%{y}<extra></extra>\", \"legendgroup\": \"death\", \"marker\": {\"color\": \"#EF553B\"}, \"name\": \"death\", \"offsetgroup\": \"death\", \"orientation\": \"v\", \"showlegend\": true, \"textposition\": \"auto\", \"x\": [\"US\", \"Spain\", \"Italy\", \"Russia\", \"Germany\", \"Brazil\", \"Turkey\", \"Iran\", \"Peru\", \"India\", \"Belgium\", \"Saudi Arabia\", \"Mexico\", \"Switzerland\", \"Ecuador\", \"Pakistan\", \"Portugal\", \"Chile\", \"Sweden\", \"Ireland\"], \"xaxis\": \"x\", \"y\": [0, 0, 0, 0, 0, 0, 0, 0, 0, 0, 0, 0, 0, 0, 0, 0, 0, 0, 0, 0], \"yaxis\": \"y\", \"type\": \"bar\"}, {\"alignmentgroup\": \"True\", \"hovertemplate\": \"type=recovered<br>date=1/31/20<br>country=%{x}<br>count=%{y}<extra></extra>\", \"legendgroup\": \"recovered\", \"marker\": {\"color\": \"#00cc96\"}, \"name\": \"recovered\", \"offsetgroup\": \"recovered\", \"orientation\": \"v\", \"showlegend\": true, \"textposition\": \"auto\", \"x\": [\"US\", \"Spain\", \"Italy\", \"Russia\", \"Germany\", \"Brazil\", \"Turkey\", \"Iran\", \"Peru\", \"India\", \"Belgium\", \"Saudi Arabia\", \"Mexico\", \"Switzerland\", \"Ecuador\", \"Pakistan\", \"Portugal\", \"Chile\", \"Sweden\", \"Ireland\"], \"xaxis\": \"x\", \"y\": [0, 0, 0, 0, 0, 0, 0, 0, 0, 0, 0, 0, 0, 0, 0, 0, 0, 0, 0, 0], \"yaxis\": \"y\", \"type\": \"bar\"}], \"name\": \"1/31/20\"}, {\"data\": [{\"alignmentgroup\": \"True\", \"hovertemplate\": \"type=confirmed<br>date=2/1/20<br>country=%{x}<br>count=%{y}<extra></extra>\", \"legendgroup\": \"confirmed\", \"marker\": {\"color\": \"#636efa\"}, \"name\": \"confirmed\", \"offsetgroup\": \"confirmed\", \"orientation\": \"v\", \"showlegend\": true, \"textposition\": \"auto\", \"x\": [\"US\", \"Spain\", \"Italy\", \"Russia\", \"Germany\", \"Brazil\", \"Turkey\", \"Iran\", \"Peru\", \"India\", \"Belgium\", \"Saudi Arabia\", \"Mexico\", \"Switzerland\", \"Ecuador\", \"Pakistan\", \"Portugal\", \"Chile\", \"Sweden\", \"Ireland\"], \"xaxis\": \"x\", \"y\": [8, 1, 2, 2, 8, 0, 0, 0, 0, 1, 0, 0, 0, 0, 0, 0, 0, 0, 1, 0], \"yaxis\": \"y\", \"type\": \"bar\"}, {\"alignmentgroup\": \"True\", \"hovertemplate\": \"type=death<br>date=2/1/20<br>country=%{x}<br>count=%{y}<extra></extra>\", \"legendgroup\": \"death\", \"marker\": {\"color\": \"#EF553B\"}, \"name\": \"death\", \"offsetgroup\": \"death\", \"orientation\": \"v\", \"showlegend\": true, \"textposition\": \"auto\", \"x\": [\"US\", \"Spain\", \"Italy\", \"Russia\", \"Germany\", \"Brazil\", \"Turkey\", \"Iran\", \"Peru\", \"India\", \"Belgium\", \"Saudi Arabia\", \"Mexico\", \"Switzerland\", \"Ecuador\", \"Pakistan\", \"Portugal\", \"Chile\", \"Sweden\", \"Ireland\"], \"xaxis\": \"x\", \"y\": [0, 0, 0, 0, 0, 0, 0, 0, 0, 0, 0, 0, 0, 0, 0, 0, 0, 0, 0, 0], \"yaxis\": \"y\", \"type\": \"bar\"}, {\"alignmentgroup\": \"True\", \"hovertemplate\": \"type=recovered<br>date=2/1/20<br>country=%{x}<br>count=%{y}<extra></extra>\", \"legendgroup\": \"recovered\", \"marker\": {\"color\": \"#00cc96\"}, \"name\": \"recovered\", \"offsetgroup\": \"recovered\", \"orientation\": \"v\", \"showlegend\": true, \"textposition\": \"auto\", \"x\": [\"US\", \"Spain\", \"Italy\", \"Russia\", \"Germany\", \"Brazil\", \"Turkey\", \"Iran\", \"Peru\", \"India\", \"Belgium\", \"Saudi Arabia\", \"Mexico\", \"Switzerland\", \"Ecuador\", \"Pakistan\", \"Portugal\", \"Chile\", \"Sweden\", \"Ireland\"], \"xaxis\": \"x\", \"y\": [0, 0, 0, 0, 0, 0, 0, 0, 0, 0, 0, 0, 0, 0, 0, 0, 0, 0, 0, 0], \"yaxis\": \"y\", \"type\": \"bar\"}], \"name\": \"2/1/20\"}, {\"data\": [{\"alignmentgroup\": \"True\", \"hovertemplate\": \"type=confirmed<br>date=2/2/20<br>country=%{x}<br>count=%{y}<extra></extra>\", \"legendgroup\": \"confirmed\", \"marker\": {\"color\": \"#636efa\"}, \"name\": \"confirmed\", \"offsetgroup\": \"confirmed\", \"orientation\": \"v\", \"showlegend\": true, \"textposition\": \"auto\", \"x\": [\"US\", \"Spain\", \"Italy\", \"Russia\", \"Germany\", \"Brazil\", \"Turkey\", \"Iran\", \"Peru\", \"India\", \"Belgium\", \"Saudi Arabia\", \"Mexico\", \"Switzerland\", \"Ecuador\", \"Pakistan\", \"Portugal\", \"Chile\", \"Sweden\", \"Ireland\"], \"xaxis\": \"x\", \"y\": [8, 1, 2, 2, 10, 0, 0, 0, 0, 2, 0, 0, 0, 0, 0, 0, 0, 0, 1, 0], \"yaxis\": \"y\", \"type\": \"bar\"}, {\"alignmentgroup\": \"True\", \"hovertemplate\": \"type=death<br>date=2/2/20<br>country=%{x}<br>count=%{y}<extra></extra>\", \"legendgroup\": \"death\", \"marker\": {\"color\": \"#EF553B\"}, \"name\": \"death\", \"offsetgroup\": \"death\", \"orientation\": \"v\", \"showlegend\": true, \"textposition\": \"auto\", \"x\": [\"US\", \"Spain\", \"Italy\", \"Russia\", \"Germany\", \"Brazil\", \"Turkey\", \"Iran\", \"Peru\", \"India\", \"Belgium\", \"Saudi Arabia\", \"Mexico\", \"Switzerland\", \"Ecuador\", \"Pakistan\", \"Portugal\", \"Chile\", \"Sweden\", \"Ireland\"], \"xaxis\": \"x\", \"y\": [0, 0, 0, 0, 0, 0, 0, 0, 0, 0, 0, 0, 0, 0, 0, 0, 0, 0, 0, 0], \"yaxis\": \"y\", \"type\": \"bar\"}, {\"alignmentgroup\": \"True\", \"hovertemplate\": \"type=recovered<br>date=2/2/20<br>country=%{x}<br>count=%{y}<extra></extra>\", \"legendgroup\": \"recovered\", \"marker\": {\"color\": \"#00cc96\"}, \"name\": \"recovered\", \"offsetgroup\": \"recovered\", \"orientation\": \"v\", \"showlegend\": true, \"textposition\": \"auto\", \"x\": [\"US\", \"Spain\", \"Italy\", \"Russia\", \"Germany\", \"Brazil\", \"Turkey\", \"Iran\", \"Peru\", \"India\", \"Belgium\", \"Saudi Arabia\", \"Mexico\", \"Switzerland\", \"Ecuador\", \"Pakistan\", \"Portugal\", \"Chile\", \"Sweden\", \"Ireland\"], \"xaxis\": \"x\", \"y\": [0, 0, 0, 0, 0, 0, 0, 0, 0, 0, 0, 0, 0, 0, 0, 0, 0, 0, 0, 0], \"yaxis\": \"y\", \"type\": \"bar\"}], \"name\": \"2/2/20\"}, {\"data\": [{\"alignmentgroup\": \"True\", \"hovertemplate\": \"type=confirmed<br>date=2/3/20<br>country=%{x}<br>count=%{y}<extra></extra>\", \"legendgroup\": \"confirmed\", \"marker\": {\"color\": \"#636efa\"}, \"name\": \"confirmed\", \"offsetgroup\": \"confirmed\", \"orientation\": \"v\", \"showlegend\": true, \"textposition\": \"auto\", \"x\": [\"US\", \"Spain\", \"Italy\", \"Russia\", \"Germany\", \"Brazil\", \"Turkey\", \"Iran\", \"Peru\", \"India\", \"Belgium\", \"Saudi Arabia\", \"Mexico\", \"Switzerland\", \"Ecuador\", \"Pakistan\", \"Portugal\", \"Chile\", \"Sweden\", \"Ireland\"], \"xaxis\": \"x\", \"y\": [11, 1, 2, 2, 12, 0, 0, 0, 0, 3, 0, 0, 0, 0, 0, 0, 0, 0, 1, 0], \"yaxis\": \"y\", \"type\": \"bar\"}, {\"alignmentgroup\": \"True\", \"hovertemplate\": \"type=death<br>date=2/3/20<br>country=%{x}<br>count=%{y}<extra></extra>\", \"legendgroup\": \"death\", \"marker\": {\"color\": \"#EF553B\"}, \"name\": \"death\", \"offsetgroup\": \"death\", \"orientation\": \"v\", \"showlegend\": true, \"textposition\": \"auto\", \"x\": [\"US\", \"Spain\", \"Italy\", \"Russia\", \"Germany\", \"Brazil\", \"Turkey\", \"Iran\", \"Peru\", \"India\", \"Belgium\", \"Saudi Arabia\", \"Mexico\", \"Switzerland\", \"Ecuador\", \"Pakistan\", \"Portugal\", \"Chile\", \"Sweden\", \"Ireland\"], \"xaxis\": \"x\", \"y\": [0, 0, 0, 0, 0, 0, 0, 0, 0, 0, 0, 0, 0, 0, 0, 0, 0, 0, 0, 0], \"yaxis\": \"y\", \"type\": \"bar\"}, {\"alignmentgroup\": \"True\", \"hovertemplate\": \"type=recovered<br>date=2/3/20<br>country=%{x}<br>count=%{y}<extra></extra>\", \"legendgroup\": \"recovered\", \"marker\": {\"color\": \"#00cc96\"}, \"name\": \"recovered\", \"offsetgroup\": \"recovered\", \"orientation\": \"v\", \"showlegend\": true, \"textposition\": \"auto\", \"x\": [\"US\", \"Spain\", \"Italy\", \"Russia\", \"Germany\", \"Brazil\", \"Turkey\", \"Iran\", \"Peru\", \"India\", \"Belgium\", \"Saudi Arabia\", \"Mexico\", \"Switzerland\", \"Ecuador\", \"Pakistan\", \"Portugal\", \"Chile\", \"Sweden\", \"Ireland\"], \"xaxis\": \"x\", \"y\": [0, 0, 0, 0, 0, 0, 0, 0, 0, 0, 0, 0, 0, 0, 0, 0, 0, 0, 0, 0], \"yaxis\": \"y\", \"type\": \"bar\"}], \"name\": \"2/3/20\"}, {\"data\": [{\"alignmentgroup\": \"True\", \"hovertemplate\": \"type=confirmed<br>date=2/4/20<br>country=%{x}<br>count=%{y}<extra></extra>\", \"legendgroup\": \"confirmed\", \"marker\": {\"color\": \"#636efa\"}, \"name\": \"confirmed\", \"offsetgroup\": \"confirmed\", \"orientation\": \"v\", \"showlegend\": true, \"textposition\": \"auto\", \"x\": [\"US\", \"Spain\", \"Italy\", \"Russia\", \"Germany\", \"Brazil\", \"Turkey\", \"Iran\", \"Peru\", \"India\", \"Belgium\", \"Saudi Arabia\", \"Mexico\", \"Switzerland\", \"Ecuador\", \"Pakistan\", \"Portugal\", \"Chile\", \"Sweden\", \"Ireland\"], \"xaxis\": \"x\", \"y\": [11, 1, 2, 2, 12, 0, 0, 0, 0, 3, 1, 0, 0, 0, 0, 0, 0, 0, 1, 0], \"yaxis\": \"y\", \"type\": \"bar\"}, {\"alignmentgroup\": \"True\", \"hovertemplate\": \"type=death<br>date=2/4/20<br>country=%{x}<br>count=%{y}<extra></extra>\", \"legendgroup\": \"death\", \"marker\": {\"color\": \"#EF553B\"}, \"name\": \"death\", \"offsetgroup\": \"death\", \"orientation\": \"v\", \"showlegend\": true, \"textposition\": \"auto\", \"x\": [\"US\", \"Spain\", \"Italy\", \"Russia\", \"Germany\", \"Brazil\", \"Turkey\", \"Iran\", \"Peru\", \"India\", \"Belgium\", \"Saudi Arabia\", \"Mexico\", \"Switzerland\", \"Ecuador\", \"Pakistan\", \"Portugal\", \"Chile\", \"Sweden\", \"Ireland\"], \"xaxis\": \"x\", \"y\": [0, 0, 0, 0, 0, 0, 0, 0, 0, 0, 0, 0, 0, 0, 0, 0, 0, 0, 0, 0], \"yaxis\": \"y\", \"type\": \"bar\"}, {\"alignmentgroup\": \"True\", \"hovertemplate\": \"type=recovered<br>date=2/4/20<br>country=%{x}<br>count=%{y}<extra></extra>\", \"legendgroup\": \"recovered\", \"marker\": {\"color\": \"#00cc96\"}, \"name\": \"recovered\", \"offsetgroup\": \"recovered\", \"orientation\": \"v\", \"showlegend\": true, \"textposition\": \"auto\", \"x\": [\"US\", \"Spain\", \"Italy\", \"Russia\", \"Germany\", \"Brazil\", \"Turkey\", \"Iran\", \"Peru\", \"India\", \"Belgium\", \"Saudi Arabia\", \"Mexico\", \"Switzerland\", \"Ecuador\", \"Pakistan\", \"Portugal\", \"Chile\", \"Sweden\", \"Ireland\"], \"xaxis\": \"x\", \"y\": [0, 0, 0, 0, 0, 0, 0, 0, 0, 0, 0, 0, 0, 0, 0, 0, 0, 0, 0, 0], \"yaxis\": \"y\", \"type\": \"bar\"}], \"name\": \"2/4/20\"}, {\"data\": [{\"alignmentgroup\": \"True\", \"hovertemplate\": \"type=confirmed<br>date=2/5/20<br>country=%{x}<br>count=%{y}<extra></extra>\", \"legendgroup\": \"confirmed\", \"marker\": {\"color\": \"#636efa\"}, \"name\": \"confirmed\", \"offsetgroup\": \"confirmed\", \"orientation\": \"v\", \"showlegend\": true, \"textposition\": \"auto\", \"x\": [\"US\", \"Spain\", \"Italy\", \"Russia\", \"Germany\", \"Brazil\", \"Turkey\", \"Iran\", \"Peru\", \"India\", \"Belgium\", \"Saudi Arabia\", \"Mexico\", \"Switzerland\", \"Ecuador\", \"Pakistan\", \"Portugal\", \"Chile\", \"Sweden\", \"Ireland\"], \"xaxis\": \"x\", \"y\": [11, 1, 2, 2, 12, 0, 0, 0, 0, 3, 1, 0, 0, 0, 0, 0, 0, 0, 1, 0], \"yaxis\": \"y\", \"type\": \"bar\"}, {\"alignmentgroup\": \"True\", \"hovertemplate\": \"type=death<br>date=2/5/20<br>country=%{x}<br>count=%{y}<extra></extra>\", \"legendgroup\": \"death\", \"marker\": {\"color\": \"#EF553B\"}, \"name\": \"death\", \"offsetgroup\": \"death\", \"orientation\": \"v\", \"showlegend\": true, \"textposition\": \"auto\", \"x\": [\"US\", \"Spain\", \"Italy\", \"Russia\", \"Germany\", \"Brazil\", \"Turkey\", \"Iran\", \"Peru\", \"India\", \"Belgium\", \"Saudi Arabia\", \"Mexico\", \"Switzerland\", \"Ecuador\", \"Pakistan\", \"Portugal\", \"Chile\", \"Sweden\", \"Ireland\"], \"xaxis\": \"x\", \"y\": [0, 0, 0, 0, 0, 0, 0, 0, 0, 0, 0, 0, 0, 0, 0, 0, 0, 0, 0, 0], \"yaxis\": \"y\", \"type\": \"bar\"}, {\"alignmentgroup\": \"True\", \"hovertemplate\": \"type=recovered<br>date=2/5/20<br>country=%{x}<br>count=%{y}<extra></extra>\", \"legendgroup\": \"recovered\", \"marker\": {\"color\": \"#00cc96\"}, \"name\": \"recovered\", \"offsetgroup\": \"recovered\", \"orientation\": \"v\", \"showlegend\": true, \"textposition\": \"auto\", \"x\": [\"US\", \"Spain\", \"Italy\", \"Russia\", \"Germany\", \"Brazil\", \"Turkey\", \"Iran\", \"Peru\", \"India\", \"Belgium\", \"Saudi Arabia\", \"Mexico\", \"Switzerland\", \"Ecuador\", \"Pakistan\", \"Portugal\", \"Chile\", \"Sweden\", \"Ireland\"], \"xaxis\": \"x\", \"y\": [0, 0, 0, 0, 0, 0, 0, 0, 0, 0, 0, 0, 0, 0, 0, 0, 0, 0, 0, 0], \"yaxis\": \"y\", \"type\": \"bar\"}], \"name\": \"2/5/20\"}, {\"data\": [{\"alignmentgroup\": \"True\", \"hovertemplate\": \"type=confirmed<br>date=2/6/20<br>country=%{x}<br>count=%{y}<extra></extra>\", \"legendgroup\": \"confirmed\", \"marker\": {\"color\": \"#636efa\"}, \"name\": \"confirmed\", \"offsetgroup\": \"confirmed\", \"orientation\": \"v\", \"showlegend\": true, \"textposition\": \"auto\", \"x\": [\"US\", \"Spain\", \"Italy\", \"Russia\", \"Germany\", \"Brazil\", \"Turkey\", \"Iran\", \"Peru\", \"India\", \"Belgium\", \"Saudi Arabia\", \"Mexico\", \"Switzerland\", \"Ecuador\", \"Pakistan\", \"Portugal\", \"Chile\", \"Sweden\", \"Ireland\"], \"xaxis\": \"x\", \"y\": [11, 1, 2, 2, 12, 0, 0, 0, 0, 3, 1, 0, 0, 0, 0, 0, 0, 0, 1, 0], \"yaxis\": \"y\", \"type\": \"bar\"}, {\"alignmentgroup\": \"True\", \"hovertemplate\": \"type=death<br>date=2/6/20<br>country=%{x}<br>count=%{y}<extra></extra>\", \"legendgroup\": \"death\", \"marker\": {\"color\": \"#EF553B\"}, \"name\": \"death\", \"offsetgroup\": \"death\", \"orientation\": \"v\", \"showlegend\": true, \"textposition\": \"auto\", \"x\": [\"US\", \"Spain\", \"Italy\", \"Russia\", \"Germany\", \"Brazil\", \"Turkey\", \"Iran\", \"Peru\", \"India\", \"Belgium\", \"Saudi Arabia\", \"Mexico\", \"Switzerland\", \"Ecuador\", \"Pakistan\", \"Portugal\", \"Chile\", \"Sweden\", \"Ireland\"], \"xaxis\": \"x\", \"y\": [0, 0, 0, 0, 0, 0, 0, 0, 0, 0, 0, 0, 0, 0, 0, 0, 0, 0, 0, 0], \"yaxis\": \"y\", \"type\": \"bar\"}, {\"alignmentgroup\": \"True\", \"hovertemplate\": \"type=recovered<br>date=2/6/20<br>country=%{x}<br>count=%{y}<extra></extra>\", \"legendgroup\": \"recovered\", \"marker\": {\"color\": \"#00cc96\"}, \"name\": \"recovered\", \"offsetgroup\": \"recovered\", \"orientation\": \"v\", \"showlegend\": true, \"textposition\": \"auto\", \"x\": [\"US\", \"Spain\", \"Italy\", \"Russia\", \"Germany\", \"Brazil\", \"Turkey\", \"Iran\", \"Peru\", \"India\", \"Belgium\", \"Saudi Arabia\", \"Mexico\", \"Switzerland\", \"Ecuador\", \"Pakistan\", \"Portugal\", \"Chile\", \"Sweden\", \"Ireland\"], \"xaxis\": \"x\", \"y\": [0, 0, 0, 0, 0, 0, 0, 0, 0, 0, 0, 0, 0, 0, 0, 0, 0, 0, 0, 0], \"yaxis\": \"y\", \"type\": \"bar\"}], \"name\": \"2/6/20\"}, {\"data\": [{\"alignmentgroup\": \"True\", \"hovertemplate\": \"type=confirmed<br>date=2/7/20<br>country=%{x}<br>count=%{y}<extra></extra>\", \"legendgroup\": \"confirmed\", \"marker\": {\"color\": \"#636efa\"}, \"name\": \"confirmed\", \"offsetgroup\": \"confirmed\", \"orientation\": \"v\", \"showlegend\": true, \"textposition\": \"auto\", \"x\": [\"US\", \"Spain\", \"Italy\", \"Russia\", \"Germany\", \"Brazil\", \"Turkey\", \"Iran\", \"Peru\", \"India\", \"Belgium\", \"Saudi Arabia\", \"Mexico\", \"Switzerland\", \"Ecuador\", \"Pakistan\", \"Portugal\", \"Chile\", \"Sweden\", \"Ireland\"], \"xaxis\": \"x\", \"y\": [11, 1, 3, 2, 13, 0, 0, 0, 0, 3, 1, 0, 0, 0, 0, 0, 0, 0, 1, 0], \"yaxis\": \"y\", \"type\": \"bar\"}, {\"alignmentgroup\": \"True\", \"hovertemplate\": \"type=death<br>date=2/7/20<br>country=%{x}<br>count=%{y}<extra></extra>\", \"legendgroup\": \"death\", \"marker\": {\"color\": \"#EF553B\"}, \"name\": \"death\", \"offsetgroup\": \"death\", \"orientation\": \"v\", \"showlegend\": true, \"textposition\": \"auto\", \"x\": [\"US\", \"Spain\", \"Italy\", \"Russia\", \"Germany\", \"Brazil\", \"Turkey\", \"Iran\", \"Peru\", \"India\", \"Belgium\", \"Saudi Arabia\", \"Mexico\", \"Switzerland\", \"Ecuador\", \"Pakistan\", \"Portugal\", \"Chile\", \"Sweden\", \"Ireland\"], \"xaxis\": \"x\", \"y\": [0, 0, 0, 0, 0, 0, 0, 0, 0, 0, 0, 0, 0, 0, 0, 0, 0, 0, 0, 0], \"yaxis\": \"y\", \"type\": \"bar\"}, {\"alignmentgroup\": \"True\", \"hovertemplate\": \"type=recovered<br>date=2/7/20<br>country=%{x}<br>count=%{y}<extra></extra>\", \"legendgroup\": \"recovered\", \"marker\": {\"color\": \"#00cc96\"}, \"name\": \"recovered\", \"offsetgroup\": \"recovered\", \"orientation\": \"v\", \"showlegend\": true, \"textposition\": \"auto\", \"x\": [\"US\", \"Spain\", \"Italy\", \"Russia\", \"Germany\", \"Brazil\", \"Turkey\", \"Iran\", \"Peru\", \"India\", \"Belgium\", \"Saudi Arabia\", \"Mexico\", \"Switzerland\", \"Ecuador\", \"Pakistan\", \"Portugal\", \"Chile\", \"Sweden\", \"Ireland\"], \"xaxis\": \"x\", \"y\": [0, 0, 0, 0, 0, 0, 0, 0, 0, 0, 0, 0, 0, 0, 0, 0, 0, 0, 0, 0], \"yaxis\": \"y\", \"type\": \"bar\"}], \"name\": \"2/7/20\"}, {\"data\": [{\"alignmentgroup\": \"True\", \"hovertemplate\": \"type=confirmed<br>date=2/8/20<br>country=%{x}<br>count=%{y}<extra></extra>\", \"legendgroup\": \"confirmed\", \"marker\": {\"color\": \"#636efa\"}, \"name\": \"confirmed\", \"offsetgroup\": \"confirmed\", \"orientation\": \"v\", \"showlegend\": true, \"textposition\": \"auto\", \"x\": [\"US\", \"Spain\", \"Italy\", \"Russia\", \"Germany\", \"Brazil\", \"Turkey\", \"Iran\", \"Peru\", \"India\", \"Belgium\", \"Saudi Arabia\", \"Mexico\", \"Switzerland\", \"Ecuador\", \"Pakistan\", \"Portugal\", \"Chile\", \"Sweden\", \"Ireland\"], \"xaxis\": \"x\", \"y\": [11, 1, 3, 2, 13, 0, 0, 0, 0, 3, 1, 0, 0, 0, 0, 0, 0, 0, 1, 0], \"yaxis\": \"y\", \"type\": \"bar\"}, {\"alignmentgroup\": \"True\", \"hovertemplate\": \"type=death<br>date=2/8/20<br>country=%{x}<br>count=%{y}<extra></extra>\", \"legendgroup\": \"death\", \"marker\": {\"color\": \"#EF553B\"}, \"name\": \"death\", \"offsetgroup\": \"death\", \"orientation\": \"v\", \"showlegend\": true, \"textposition\": \"auto\", \"x\": [\"US\", \"Spain\", \"Italy\", \"Russia\", \"Germany\", \"Brazil\", \"Turkey\", \"Iran\", \"Peru\", \"India\", \"Belgium\", \"Saudi Arabia\", \"Mexico\", \"Switzerland\", \"Ecuador\", \"Pakistan\", \"Portugal\", \"Chile\", \"Sweden\", \"Ireland\"], \"xaxis\": \"x\", \"y\": [0, 0, 0, 0, 0, 0, 0, 0, 0, 0, 0, 0, 0, 0, 0, 0, 0, 0, 0, 0], \"yaxis\": \"y\", \"type\": \"bar\"}, {\"alignmentgroup\": \"True\", \"hovertemplate\": \"type=recovered<br>date=2/8/20<br>country=%{x}<br>count=%{y}<extra></extra>\", \"legendgroup\": \"recovered\", \"marker\": {\"color\": \"#00cc96\"}, \"name\": \"recovered\", \"offsetgroup\": \"recovered\", \"orientation\": \"v\", \"showlegend\": true, \"textposition\": \"auto\", \"x\": [\"US\", \"Spain\", \"Italy\", \"Russia\", \"Germany\", \"Brazil\", \"Turkey\", \"Iran\", \"Peru\", \"India\", \"Belgium\", \"Saudi Arabia\", \"Mexico\", \"Switzerland\", \"Ecuador\", \"Pakistan\", \"Portugal\", \"Chile\", \"Sweden\", \"Ireland\"], \"xaxis\": \"x\", \"y\": [0, 0, 0, 0, 0, 0, 0, 0, 0, 0, 0, 0, 0, 0, 0, 0, 0, 0, 0, 0], \"yaxis\": \"y\", \"type\": \"bar\"}], \"name\": \"2/8/20\"}, {\"data\": [{\"alignmentgroup\": \"True\", \"hovertemplate\": \"type=confirmed<br>date=2/9/20<br>country=%{x}<br>count=%{y}<extra></extra>\", \"legendgroup\": \"confirmed\", \"marker\": {\"color\": \"#636efa\"}, \"name\": \"confirmed\", \"offsetgroup\": \"confirmed\", \"orientation\": \"v\", \"showlegend\": true, \"textposition\": \"auto\", \"x\": [\"US\", \"Spain\", \"Italy\", \"Russia\", \"Germany\", \"Brazil\", \"Turkey\", \"Iran\", \"Peru\", \"India\", \"Belgium\", \"Saudi Arabia\", \"Mexico\", \"Switzerland\", \"Ecuador\", \"Pakistan\", \"Portugal\", \"Chile\", \"Sweden\", \"Ireland\"], \"xaxis\": \"x\", \"y\": [8, 2, 3, 2, 14, 0, 0, 0, 0, 3, 1, 0, 0, 0, 0, 0, 0, 0, 1, 0], \"yaxis\": \"y\", \"type\": \"bar\"}, {\"alignmentgroup\": \"True\", \"hovertemplate\": \"type=death<br>date=2/9/20<br>country=%{x}<br>count=%{y}<extra></extra>\", \"legendgroup\": \"death\", \"marker\": {\"color\": \"#EF553B\"}, \"name\": \"death\", \"offsetgroup\": \"death\", \"orientation\": \"v\", \"showlegend\": true, \"textposition\": \"auto\", \"x\": [\"US\", \"Spain\", \"Italy\", \"Russia\", \"Germany\", \"Brazil\", \"Turkey\", \"Iran\", \"Peru\", \"India\", \"Belgium\", \"Saudi Arabia\", \"Mexico\", \"Switzerland\", \"Ecuador\", \"Pakistan\", \"Portugal\", \"Chile\", \"Sweden\", \"Ireland\"], \"xaxis\": \"x\", \"y\": [0, 0, 0, 0, 0, 0, 0, 0, 0, 0, 0, 0, 0, 0, 0, 0, 0, 0, 0, 0], \"yaxis\": \"y\", \"type\": \"bar\"}, {\"alignmentgroup\": \"True\", \"hovertemplate\": \"type=recovered<br>date=2/9/20<br>country=%{x}<br>count=%{y}<extra></extra>\", \"legendgroup\": \"recovered\", \"marker\": {\"color\": \"#00cc96\"}, \"name\": \"recovered\", \"offsetgroup\": \"recovered\", \"orientation\": \"v\", \"showlegend\": true, \"textposition\": \"auto\", \"x\": [\"US\", \"Spain\", \"Italy\", \"Russia\", \"Germany\", \"Brazil\", \"Turkey\", \"Iran\", \"Peru\", \"India\", \"Belgium\", \"Saudi Arabia\", \"Mexico\", \"Switzerland\", \"Ecuador\", \"Pakistan\", \"Portugal\", \"Chile\", \"Sweden\", \"Ireland\"], \"xaxis\": \"x\", \"y\": [3, 0, 0, 0, 0, 0, 0, 0, 0, 0, 0, 0, 0, 0, 0, 0, 0, 0, 0, 0], \"yaxis\": \"y\", \"type\": \"bar\"}], \"name\": \"2/9/20\"}, {\"data\": [{\"alignmentgroup\": \"True\", \"hovertemplate\": \"type=confirmed<br>date=2/10/20<br>country=%{x}<br>count=%{y}<extra></extra>\", \"legendgroup\": \"confirmed\", \"marker\": {\"color\": \"#636efa\"}, \"name\": \"confirmed\", \"offsetgroup\": \"confirmed\", \"orientation\": \"v\", \"showlegend\": true, \"textposition\": \"auto\", \"x\": [\"US\", \"Spain\", \"Italy\", \"Russia\", \"Germany\", \"Brazil\", \"Turkey\", \"Iran\", \"Peru\", \"India\", \"Belgium\", \"Saudi Arabia\", \"Mexico\", \"Switzerland\", \"Ecuador\", \"Pakistan\", \"Portugal\", \"Chile\", \"Sweden\", \"Ireland\"], \"xaxis\": \"x\", \"y\": [8, 2, 3, 2, 14, 0, 0, 0, 0, 3, 1, 0, 0, 0, 0, 0, 0, 0, 1, 0], \"yaxis\": \"y\", \"type\": \"bar\"}, {\"alignmentgroup\": \"True\", \"hovertemplate\": \"type=death<br>date=2/10/20<br>country=%{x}<br>count=%{y}<extra></extra>\", \"legendgroup\": \"death\", \"marker\": {\"color\": \"#EF553B\"}, \"name\": \"death\", \"offsetgroup\": \"death\", \"orientation\": \"v\", \"showlegend\": true, \"textposition\": \"auto\", \"x\": [\"US\", \"Spain\", \"Italy\", \"Russia\", \"Germany\", \"Brazil\", \"Turkey\", \"Iran\", \"Peru\", \"India\", \"Belgium\", \"Saudi Arabia\", \"Mexico\", \"Switzerland\", \"Ecuador\", \"Pakistan\", \"Portugal\", \"Chile\", \"Sweden\", \"Ireland\"], \"xaxis\": \"x\", \"y\": [0, 0, 0, 0, 0, 0, 0, 0, 0, 0, 0, 0, 0, 0, 0, 0, 0, 0, 0, 0], \"yaxis\": \"y\", \"type\": \"bar\"}, {\"alignmentgroup\": \"True\", \"hovertemplate\": \"type=recovered<br>date=2/10/20<br>country=%{x}<br>count=%{y}<extra></extra>\", \"legendgroup\": \"recovered\", \"marker\": {\"color\": \"#00cc96\"}, \"name\": \"recovered\", \"offsetgroup\": \"recovered\", \"orientation\": \"v\", \"showlegend\": true, \"textposition\": \"auto\", \"x\": [\"US\", \"Spain\", \"Italy\", \"Russia\", \"Germany\", \"Brazil\", \"Turkey\", \"Iran\", \"Peru\", \"India\", \"Belgium\", \"Saudi Arabia\", \"Mexico\", \"Switzerland\", \"Ecuador\", \"Pakistan\", \"Portugal\", \"Chile\", \"Sweden\", \"Ireland\"], \"xaxis\": \"x\", \"y\": [3, 0, 0, 0, 0, 0, 0, 0, 0, 0, 0, 0, 0, 0, 0, 0, 0, 0, 0, 0], \"yaxis\": \"y\", \"type\": \"bar\"}], \"name\": \"2/10/20\"}, {\"data\": [{\"alignmentgroup\": \"True\", \"hovertemplate\": \"type=confirmed<br>date=2/11/20<br>country=%{x}<br>count=%{y}<extra></extra>\", \"legendgroup\": \"confirmed\", \"marker\": {\"color\": \"#636efa\"}, \"name\": \"confirmed\", \"offsetgroup\": \"confirmed\", \"orientation\": \"v\", \"showlegend\": true, \"textposition\": \"auto\", \"x\": [\"US\", \"Spain\", \"Italy\", \"Russia\", \"Germany\", \"Brazil\", \"Turkey\", \"Iran\", \"Peru\", \"India\", \"Belgium\", \"Saudi Arabia\", \"Mexico\", \"Switzerland\", \"Ecuador\", \"Pakistan\", \"Portugal\", \"Chile\", \"Sweden\", \"Ireland\"], \"xaxis\": \"x\", \"y\": [9, 2, 3, 2, 16, 0, 0, 0, 0, 3, 1, 0, 0, 0, 0, 0, 0, 0, 1, 0], \"yaxis\": \"y\", \"type\": \"bar\"}, {\"alignmentgroup\": \"True\", \"hovertemplate\": \"type=death<br>date=2/11/20<br>country=%{x}<br>count=%{y}<extra></extra>\", \"legendgroup\": \"death\", \"marker\": {\"color\": \"#EF553B\"}, \"name\": \"death\", \"offsetgroup\": \"death\", \"orientation\": \"v\", \"showlegend\": true, \"textposition\": \"auto\", \"x\": [\"US\", \"Spain\", \"Italy\", \"Russia\", \"Germany\", \"Brazil\", \"Turkey\", \"Iran\", \"Peru\", \"India\", \"Belgium\", \"Saudi Arabia\", \"Mexico\", \"Switzerland\", \"Ecuador\", \"Pakistan\", \"Portugal\", \"Chile\", \"Sweden\", \"Ireland\"], \"xaxis\": \"x\", \"y\": [0, 0, 0, 0, 0, 0, 0, 0, 0, 0, 0, 0, 0, 0, 0, 0, 0, 0, 0, 0], \"yaxis\": \"y\", \"type\": \"bar\"}, {\"alignmentgroup\": \"True\", \"hovertemplate\": \"type=recovered<br>date=2/11/20<br>country=%{x}<br>count=%{y}<extra></extra>\", \"legendgroup\": \"recovered\", \"marker\": {\"color\": \"#00cc96\"}, \"name\": \"recovered\", \"offsetgroup\": \"recovered\", \"orientation\": \"v\", \"showlegend\": true, \"textposition\": \"auto\", \"x\": [\"US\", \"Spain\", \"Italy\", \"Russia\", \"Germany\", \"Brazil\", \"Turkey\", \"Iran\", \"Peru\", \"India\", \"Belgium\", \"Saudi Arabia\", \"Mexico\", \"Switzerland\", \"Ecuador\", \"Pakistan\", \"Portugal\", \"Chile\", \"Sweden\", \"Ireland\"], \"xaxis\": \"x\", \"y\": [3, 0, 0, 0, 0, 0, 0, 0, 0, 0, 0, 0, 0, 0, 0, 0, 0, 0, 0, 0], \"yaxis\": \"y\", \"type\": \"bar\"}], \"name\": \"2/11/20\"}, {\"data\": [{\"alignmentgroup\": \"True\", \"hovertemplate\": \"type=confirmed<br>date=2/12/20<br>country=%{x}<br>count=%{y}<extra></extra>\", \"legendgroup\": \"confirmed\", \"marker\": {\"color\": \"#636efa\"}, \"name\": \"confirmed\", \"offsetgroup\": \"confirmed\", \"orientation\": \"v\", \"showlegend\": true, \"textposition\": \"auto\", \"x\": [\"US\", \"Spain\", \"Italy\", \"Russia\", \"Germany\", \"Brazil\", \"Turkey\", \"Iran\", \"Peru\", \"India\", \"Belgium\", \"Saudi Arabia\", \"Mexico\", \"Switzerland\", \"Ecuador\", \"Pakistan\", \"Portugal\", \"Chile\", \"Sweden\", \"Ireland\"], \"xaxis\": \"x\", \"y\": [9, 2, 3, 0, 16, 0, 0, 0, 0, 3, 1, 0, 0, 0, 0, 0, 0, 0, 1, 0], \"yaxis\": \"y\", \"type\": \"bar\"}, {\"alignmentgroup\": \"True\", \"hovertemplate\": \"type=death<br>date=2/12/20<br>country=%{x}<br>count=%{y}<extra></extra>\", \"legendgroup\": \"death\", \"marker\": {\"color\": \"#EF553B\"}, \"name\": \"death\", \"offsetgroup\": \"death\", \"orientation\": \"v\", \"showlegend\": true, \"textposition\": \"auto\", \"x\": [\"US\", \"Spain\", \"Italy\", \"Russia\", \"Germany\", \"Brazil\", \"Turkey\", \"Iran\", \"Peru\", \"India\", \"Belgium\", \"Saudi Arabia\", \"Mexico\", \"Switzerland\", \"Ecuador\", \"Pakistan\", \"Portugal\", \"Chile\", \"Sweden\", \"Ireland\"], \"xaxis\": \"x\", \"y\": [0, 0, 0, 0, 0, 0, 0, 0, 0, 0, 0, 0, 0, 0, 0, 0, 0, 0, 0, 0], \"yaxis\": \"y\", \"type\": \"bar\"}, {\"alignmentgroup\": \"True\", \"hovertemplate\": \"type=recovered<br>date=2/12/20<br>country=%{x}<br>count=%{y}<extra></extra>\", \"legendgroup\": \"recovered\", \"marker\": {\"color\": \"#00cc96\"}, \"name\": \"recovered\", \"offsetgroup\": \"recovered\", \"orientation\": \"v\", \"showlegend\": true, \"textposition\": \"auto\", \"x\": [\"US\", \"Spain\", \"Italy\", \"Russia\", \"Germany\", \"Brazil\", \"Turkey\", \"Iran\", \"Peru\", \"India\", \"Belgium\", \"Saudi Arabia\", \"Mexico\", \"Switzerland\", \"Ecuador\", \"Pakistan\", \"Portugal\", \"Chile\", \"Sweden\", \"Ireland\"], \"xaxis\": \"x\", \"y\": [3, 0, 0, 2, 0, 0, 0, 0, 0, 0, 0, 0, 0, 0, 0, 0, 0, 0, 0, 0], \"yaxis\": \"y\", \"type\": \"bar\"}], \"name\": \"2/12/20\"}, {\"data\": [{\"alignmentgroup\": \"True\", \"hovertemplate\": \"type=confirmed<br>date=2/13/20<br>country=%{x}<br>count=%{y}<extra></extra>\", \"legendgroup\": \"confirmed\", \"marker\": {\"color\": \"#636efa\"}, \"name\": \"confirmed\", \"offsetgroup\": \"confirmed\", \"orientation\": \"v\", \"showlegend\": true, \"textposition\": \"auto\", \"x\": [\"US\", \"Spain\", \"Italy\", \"Russia\", \"Germany\", \"Brazil\", \"Turkey\", \"Iran\", \"Peru\", \"India\", \"Belgium\", \"Saudi Arabia\", \"Mexico\", \"Switzerland\", \"Ecuador\", \"Pakistan\", \"Portugal\", \"Chile\", \"Sweden\", \"Ireland\"], \"xaxis\": \"x\", \"y\": [10, 2, 3, 0, 15, 0, 0, 0, 0, 3, 1, 0, 0, 0, 0, 0, 0, 0, 1, 0], \"yaxis\": \"y\", \"type\": \"bar\"}, {\"alignmentgroup\": \"True\", \"hovertemplate\": \"type=death<br>date=2/13/20<br>country=%{x}<br>count=%{y}<extra></extra>\", \"legendgroup\": \"death\", \"marker\": {\"color\": \"#EF553B\"}, \"name\": \"death\", \"offsetgroup\": \"death\", \"orientation\": \"v\", \"showlegend\": true, \"textposition\": \"auto\", \"x\": [\"US\", \"Spain\", \"Italy\", \"Russia\", \"Germany\", \"Brazil\", \"Turkey\", \"Iran\", \"Peru\", \"India\", \"Belgium\", \"Saudi Arabia\", \"Mexico\", \"Switzerland\", \"Ecuador\", \"Pakistan\", \"Portugal\", \"Chile\", \"Sweden\", \"Ireland\"], \"xaxis\": \"x\", \"y\": [0, 0, 0, 0, 0, 0, 0, 0, 0, 0, 0, 0, 0, 0, 0, 0, 0, 0, 0, 0], \"yaxis\": \"y\", \"type\": \"bar\"}, {\"alignmentgroup\": \"True\", \"hovertemplate\": \"type=recovered<br>date=2/13/20<br>country=%{x}<br>count=%{y}<extra></extra>\", \"legendgroup\": \"recovered\", \"marker\": {\"color\": \"#00cc96\"}, \"name\": \"recovered\", \"offsetgroup\": \"recovered\", \"orientation\": \"v\", \"showlegend\": true, \"textposition\": \"auto\", \"x\": [\"US\", \"Spain\", \"Italy\", \"Russia\", \"Germany\", \"Brazil\", \"Turkey\", \"Iran\", \"Peru\", \"India\", \"Belgium\", \"Saudi Arabia\", \"Mexico\", \"Switzerland\", \"Ecuador\", \"Pakistan\", \"Portugal\", \"Chile\", \"Sweden\", \"Ireland\"], \"xaxis\": \"x\", \"y\": [3, 0, 0, 2, 1, 0, 0, 0, 0, 0, 0, 0, 0, 0, 0, 0, 0, 0, 0, 0], \"yaxis\": \"y\", \"type\": \"bar\"}], \"name\": \"2/13/20\"}, {\"data\": [{\"alignmentgroup\": \"True\", \"hovertemplate\": \"type=confirmed<br>date=2/14/20<br>country=%{x}<br>count=%{y}<extra></extra>\", \"legendgroup\": \"confirmed\", \"marker\": {\"color\": \"#636efa\"}, \"name\": \"confirmed\", \"offsetgroup\": \"confirmed\", \"orientation\": \"v\", \"showlegend\": true, \"textposition\": \"auto\", \"x\": [\"US\", \"Spain\", \"Italy\", \"Russia\", \"Germany\", \"Brazil\", \"Turkey\", \"Iran\", \"Peru\", \"India\", \"Belgium\", \"Saudi Arabia\", \"Mexico\", \"Switzerland\", \"Ecuador\", \"Pakistan\", \"Portugal\", \"Chile\", \"Sweden\", \"Ireland\"], \"xaxis\": \"x\", \"y\": [10, 2, 3, 0, 15, 0, 0, 0, 0, 3, 1, 0, 0, 0, 0, 0, 0, 0, 1, 0], \"yaxis\": \"y\", \"type\": \"bar\"}, {\"alignmentgroup\": \"True\", \"hovertemplate\": \"type=death<br>date=2/14/20<br>country=%{x}<br>count=%{y}<extra></extra>\", \"legendgroup\": \"death\", \"marker\": {\"color\": \"#EF553B\"}, \"name\": \"death\", \"offsetgroup\": \"death\", \"orientation\": \"v\", \"showlegend\": true, \"textposition\": \"auto\", \"x\": [\"US\", \"Spain\", \"Italy\", \"Russia\", \"Germany\", \"Brazil\", \"Turkey\", \"Iran\", \"Peru\", \"India\", \"Belgium\", \"Saudi Arabia\", \"Mexico\", \"Switzerland\", \"Ecuador\", \"Pakistan\", \"Portugal\", \"Chile\", \"Sweden\", \"Ireland\"], \"xaxis\": \"x\", \"y\": [0, 0, 0, 0, 0, 0, 0, 0, 0, 0, 0, 0, 0, 0, 0, 0, 0, 0, 0, 0], \"yaxis\": \"y\", \"type\": \"bar\"}, {\"alignmentgroup\": \"True\", \"hovertemplate\": \"type=recovered<br>date=2/14/20<br>country=%{x}<br>count=%{y}<extra></extra>\", \"legendgroup\": \"recovered\", \"marker\": {\"color\": \"#00cc96\"}, \"name\": \"recovered\", \"offsetgroup\": \"recovered\", \"orientation\": \"v\", \"showlegend\": true, \"textposition\": \"auto\", \"x\": [\"US\", \"Spain\", \"Italy\", \"Russia\", \"Germany\", \"Brazil\", \"Turkey\", \"Iran\", \"Peru\", \"India\", \"Belgium\", \"Saudi Arabia\", \"Mexico\", \"Switzerland\", \"Ecuador\", \"Pakistan\", \"Portugal\", \"Chile\", \"Sweden\", \"Ireland\"], \"xaxis\": \"x\", \"y\": [3, 0, 0, 2, 1, 0, 0, 0, 0, 0, 0, 0, 0, 0, 0, 0, 0, 0, 0, 0], \"yaxis\": \"y\", \"type\": \"bar\"}], \"name\": \"2/14/20\"}, {\"data\": [{\"alignmentgroup\": \"True\", \"hovertemplate\": \"type=confirmed<br>date=2/15/20<br>country=%{x}<br>count=%{y}<extra></extra>\", \"legendgroup\": \"confirmed\", \"marker\": {\"color\": \"#636efa\"}, \"name\": \"confirmed\", \"offsetgroup\": \"confirmed\", \"orientation\": \"v\", \"showlegend\": true, \"textposition\": \"auto\", \"x\": [\"US\", \"Spain\", \"Italy\", \"Russia\", \"Germany\", \"Brazil\", \"Turkey\", \"Iran\", \"Peru\", \"India\", \"Belgium\", \"Saudi Arabia\", \"Mexico\", \"Switzerland\", \"Ecuador\", \"Pakistan\", \"Portugal\", \"Chile\", \"Sweden\", \"Ireland\"], \"xaxis\": \"x\", \"y\": [10, 0, 3, 0, 15, 0, 0, 0, 0, 3, 1, 0, 0, 0, 0, 0, 0, 0, 1, 0], \"yaxis\": \"y\", \"type\": \"bar\"}, {\"alignmentgroup\": \"True\", \"hovertemplate\": \"type=death<br>date=2/15/20<br>country=%{x}<br>count=%{y}<extra></extra>\", \"legendgroup\": \"death\", \"marker\": {\"color\": \"#EF553B\"}, \"name\": \"death\", \"offsetgroup\": \"death\", \"orientation\": \"v\", \"showlegend\": true, \"textposition\": \"auto\", \"x\": [\"US\", \"Spain\", \"Italy\", \"Russia\", \"Germany\", \"Brazil\", \"Turkey\", \"Iran\", \"Peru\", \"India\", \"Belgium\", \"Saudi Arabia\", \"Mexico\", \"Switzerland\", \"Ecuador\", \"Pakistan\", \"Portugal\", \"Chile\", \"Sweden\", \"Ireland\"], \"xaxis\": \"x\", \"y\": [0, 0, 0, 0, 0, 0, 0, 0, 0, 0, 0, 0, 0, 0, 0, 0, 0, 0, 0, 0], \"yaxis\": \"y\", \"type\": \"bar\"}, {\"alignmentgroup\": \"True\", \"hovertemplate\": \"type=recovered<br>date=2/15/20<br>country=%{x}<br>count=%{y}<extra></extra>\", \"legendgroup\": \"recovered\", \"marker\": {\"color\": \"#00cc96\"}, \"name\": \"recovered\", \"offsetgroup\": \"recovered\", \"orientation\": \"v\", \"showlegend\": true, \"textposition\": \"auto\", \"x\": [\"US\", \"Spain\", \"Italy\", \"Russia\", \"Germany\", \"Brazil\", \"Turkey\", \"Iran\", \"Peru\", \"India\", \"Belgium\", \"Saudi Arabia\", \"Mexico\", \"Switzerland\", \"Ecuador\", \"Pakistan\", \"Portugal\", \"Chile\", \"Sweden\", \"Ireland\"], \"xaxis\": \"x\", \"y\": [3, 2, 0, 2, 1, 0, 0, 0, 0, 0, 0, 0, 0, 0, 0, 0, 0, 0, 0, 0], \"yaxis\": \"y\", \"type\": \"bar\"}], \"name\": \"2/15/20\"}, {\"data\": [{\"alignmentgroup\": \"True\", \"hovertemplate\": \"type=confirmed<br>date=2/16/20<br>country=%{x}<br>count=%{y}<extra></extra>\", \"legendgroup\": \"confirmed\", \"marker\": {\"color\": \"#636efa\"}, \"name\": \"confirmed\", \"offsetgroup\": \"confirmed\", \"orientation\": \"v\", \"showlegend\": true, \"textposition\": \"auto\", \"x\": [\"US\", \"Spain\", \"Italy\", \"Russia\", \"Germany\", \"Brazil\", \"Turkey\", \"Iran\", \"Peru\", \"India\", \"Belgium\", \"Saudi Arabia\", \"Mexico\", \"Switzerland\", \"Ecuador\", \"Pakistan\", \"Portugal\", \"Chile\", \"Sweden\", \"Ireland\"], \"xaxis\": \"x\", \"y\": [10, 0, 3, 0, 15, 0, 0, 0, 0, 0, 1, 0, 0, 0, 0, 0, 0, 0, 1, 0], \"yaxis\": \"y\", \"type\": \"bar\"}, {\"alignmentgroup\": \"True\", \"hovertemplate\": \"type=death<br>date=2/16/20<br>country=%{x}<br>count=%{y}<extra></extra>\", \"legendgroup\": \"death\", \"marker\": {\"color\": \"#EF553B\"}, \"name\": \"death\", \"offsetgroup\": \"death\", \"orientation\": \"v\", \"showlegend\": true, \"textposition\": \"auto\", \"x\": [\"US\", \"Spain\", \"Italy\", \"Russia\", \"Germany\", \"Brazil\", \"Turkey\", \"Iran\", \"Peru\", \"India\", \"Belgium\", \"Saudi Arabia\", \"Mexico\", \"Switzerland\", \"Ecuador\", \"Pakistan\", \"Portugal\", \"Chile\", \"Sweden\", \"Ireland\"], \"xaxis\": \"x\", \"y\": [0, 0, 0, 0, 0, 0, 0, 0, 0, 0, 0, 0, 0, 0, 0, 0, 0, 0, 0, 0], \"yaxis\": \"y\", \"type\": \"bar\"}, {\"alignmentgroup\": \"True\", \"hovertemplate\": \"type=recovered<br>date=2/16/20<br>country=%{x}<br>count=%{y}<extra></extra>\", \"legendgroup\": \"recovered\", \"marker\": {\"color\": \"#00cc96\"}, \"name\": \"recovered\", \"offsetgroup\": \"recovered\", \"orientation\": \"v\", \"showlegend\": true, \"textposition\": \"auto\", \"x\": [\"US\", \"Spain\", \"Italy\", \"Russia\", \"Germany\", \"Brazil\", \"Turkey\", \"Iran\", \"Peru\", \"India\", \"Belgium\", \"Saudi Arabia\", \"Mexico\", \"Switzerland\", \"Ecuador\", \"Pakistan\", \"Portugal\", \"Chile\", \"Sweden\", \"Ireland\"], \"xaxis\": \"x\", \"y\": [3, 2, 0, 2, 1, 0, 0, 0, 0, 3, 0, 0, 0, 0, 0, 0, 0, 0, 0, 0], \"yaxis\": \"y\", \"type\": \"bar\"}], \"name\": \"2/16/20\"}, {\"data\": [{\"alignmentgroup\": \"True\", \"hovertemplate\": \"type=confirmed<br>date=2/17/20<br>country=%{x}<br>count=%{y}<extra></extra>\", \"legendgroup\": \"confirmed\", \"marker\": {\"color\": \"#636efa\"}, \"name\": \"confirmed\", \"offsetgroup\": \"confirmed\", \"orientation\": \"v\", \"showlegend\": true, \"textposition\": \"auto\", \"x\": [\"US\", \"Spain\", \"Italy\", \"Russia\", \"Germany\", \"Brazil\", \"Turkey\", \"Iran\", \"Peru\", \"India\", \"Belgium\", \"Saudi Arabia\", \"Mexico\", \"Switzerland\", \"Ecuador\", \"Pakistan\", \"Portugal\", \"Chile\", \"Sweden\", \"Ireland\"], \"xaxis\": \"x\", \"y\": [10, 0, 3, 0, 15, 0, 0, 0, 0, 0, 0, 0, 0, 0, 0, 0, 0, 0, 1, 0], \"yaxis\": \"y\", \"type\": \"bar\"}, {\"alignmentgroup\": \"True\", \"hovertemplate\": \"type=death<br>date=2/17/20<br>country=%{x}<br>count=%{y}<extra></extra>\", \"legendgroup\": \"death\", \"marker\": {\"color\": \"#EF553B\"}, \"name\": \"death\", \"offsetgroup\": \"death\", \"orientation\": \"v\", \"showlegend\": true, \"textposition\": \"auto\", \"x\": [\"US\", \"Spain\", \"Italy\", \"Russia\", \"Germany\", \"Brazil\", \"Turkey\", \"Iran\", \"Peru\", \"India\", \"Belgium\", \"Saudi Arabia\", \"Mexico\", \"Switzerland\", \"Ecuador\", \"Pakistan\", \"Portugal\", \"Chile\", \"Sweden\", \"Ireland\"], \"xaxis\": \"x\", \"y\": [0, 0, 0, 0, 0, 0, 0, 0, 0, 0, 0, 0, 0, 0, 0, 0, 0, 0, 0, 0], \"yaxis\": \"y\", \"type\": \"bar\"}, {\"alignmentgroup\": \"True\", \"hovertemplate\": \"type=recovered<br>date=2/17/20<br>country=%{x}<br>count=%{y}<extra></extra>\", \"legendgroup\": \"recovered\", \"marker\": {\"color\": \"#00cc96\"}, \"name\": \"recovered\", \"offsetgroup\": \"recovered\", \"orientation\": \"v\", \"showlegend\": true, \"textposition\": \"auto\", \"x\": [\"US\", \"Spain\", \"Italy\", \"Russia\", \"Germany\", \"Brazil\", \"Turkey\", \"Iran\", \"Peru\", \"India\", \"Belgium\", \"Saudi Arabia\", \"Mexico\", \"Switzerland\", \"Ecuador\", \"Pakistan\", \"Portugal\", \"Chile\", \"Sweden\", \"Ireland\"], \"xaxis\": \"x\", \"y\": [3, 2, 0, 2, 1, 0, 0, 0, 0, 3, 1, 0, 0, 0, 0, 0, 0, 0, 0, 0], \"yaxis\": \"y\", \"type\": \"bar\"}], \"name\": \"2/17/20\"}, {\"data\": [{\"alignmentgroup\": \"True\", \"hovertemplate\": \"type=confirmed<br>date=2/18/20<br>country=%{x}<br>count=%{y}<extra></extra>\", \"legendgroup\": \"confirmed\", \"marker\": {\"color\": \"#636efa\"}, \"name\": \"confirmed\", \"offsetgroup\": \"confirmed\", \"orientation\": \"v\", \"showlegend\": true, \"textposition\": \"auto\", \"x\": [\"US\", \"Spain\", \"Italy\", \"Russia\", \"Germany\", \"Brazil\", \"Turkey\", \"Iran\", \"Peru\", \"India\", \"Belgium\", \"Saudi Arabia\", \"Mexico\", \"Switzerland\", \"Ecuador\", \"Pakistan\", \"Portugal\", \"Chile\", \"Sweden\", \"Ireland\"], \"xaxis\": \"x\", \"y\": [10, 0, 3, 0, 4, 0, 0, 0, 0, 0, 0, 0, 0, 0, 0, 0, 0, 0, 1, 0], \"yaxis\": \"y\", \"type\": \"bar\"}, {\"alignmentgroup\": \"True\", \"hovertemplate\": \"type=death<br>date=2/18/20<br>country=%{x}<br>count=%{y}<extra></extra>\", \"legendgroup\": \"death\", \"marker\": {\"color\": \"#EF553B\"}, \"name\": \"death\", \"offsetgroup\": \"death\", \"orientation\": \"v\", \"showlegend\": true, \"textposition\": \"auto\", \"x\": [\"US\", \"Spain\", \"Italy\", \"Russia\", \"Germany\", \"Brazil\", \"Turkey\", \"Iran\", \"Peru\", \"India\", \"Belgium\", \"Saudi Arabia\", \"Mexico\", \"Switzerland\", \"Ecuador\", \"Pakistan\", \"Portugal\", \"Chile\", \"Sweden\", \"Ireland\"], \"xaxis\": \"x\", \"y\": [0, 0, 0, 0, 0, 0, 0, 0, 0, 0, 0, 0, 0, 0, 0, 0, 0, 0, 0, 0], \"yaxis\": \"y\", \"type\": \"bar\"}, {\"alignmentgroup\": \"True\", \"hovertemplate\": \"type=recovered<br>date=2/18/20<br>country=%{x}<br>count=%{y}<extra></extra>\", \"legendgroup\": \"recovered\", \"marker\": {\"color\": \"#00cc96\"}, \"name\": \"recovered\", \"offsetgroup\": \"recovered\", \"orientation\": \"v\", \"showlegend\": true, \"textposition\": \"auto\", \"x\": [\"US\", \"Spain\", \"Italy\", \"Russia\", \"Germany\", \"Brazil\", \"Turkey\", \"Iran\", \"Peru\", \"India\", \"Belgium\", \"Saudi Arabia\", \"Mexico\", \"Switzerland\", \"Ecuador\", \"Pakistan\", \"Portugal\", \"Chile\", \"Sweden\", \"Ireland\"], \"xaxis\": \"x\", \"y\": [3, 2, 0, 2, 12, 0, 0, 0, 0, 3, 1, 0, 0, 0, 0, 0, 0, 0, 0, 0], \"yaxis\": \"y\", \"type\": \"bar\"}], \"name\": \"2/18/20\"}, {\"data\": [{\"alignmentgroup\": \"True\", \"hovertemplate\": \"type=confirmed<br>date=2/19/20<br>country=%{x}<br>count=%{y}<extra></extra>\", \"legendgroup\": \"confirmed\", \"marker\": {\"color\": \"#636efa\"}, \"name\": \"confirmed\", \"offsetgroup\": \"confirmed\", \"orientation\": \"v\", \"showlegend\": true, \"textposition\": \"auto\", \"x\": [\"US\", \"Spain\", \"Italy\", \"Russia\", \"Germany\", \"Brazil\", \"Turkey\", \"Iran\", \"Peru\", \"India\", \"Belgium\", \"Saudi Arabia\", \"Mexico\", \"Switzerland\", \"Ecuador\", \"Pakistan\", \"Portugal\", \"Chile\", \"Sweden\", \"Ireland\"], \"xaxis\": \"x\", \"y\": [10, 0, 3, 0, 4, 0, 0, 0, 0, 0, 0, 0, 0, 0, 0, 0, 0, 0, 1, 0], \"yaxis\": \"y\", \"type\": \"bar\"}, {\"alignmentgroup\": \"True\", \"hovertemplate\": \"type=death<br>date=2/19/20<br>country=%{x}<br>count=%{y}<extra></extra>\", \"legendgroup\": \"death\", \"marker\": {\"color\": \"#EF553B\"}, \"name\": \"death\", \"offsetgroup\": \"death\", \"orientation\": \"v\", \"showlegend\": true, \"textposition\": \"auto\", \"x\": [\"US\", \"Spain\", \"Italy\", \"Russia\", \"Germany\", \"Brazil\", \"Turkey\", \"Iran\", \"Peru\", \"India\", \"Belgium\", \"Saudi Arabia\", \"Mexico\", \"Switzerland\", \"Ecuador\", \"Pakistan\", \"Portugal\", \"Chile\", \"Sweden\", \"Ireland\"], \"xaxis\": \"x\", \"y\": [0, 0, 0, 0, 0, 0, 0, 2, 0, 0, 0, 0, 0, 0, 0, 0, 0, 0, 0, 0], \"yaxis\": \"y\", \"type\": \"bar\"}, {\"alignmentgroup\": \"True\", \"hovertemplate\": \"type=recovered<br>date=2/19/20<br>country=%{x}<br>count=%{y}<extra></extra>\", \"legendgroup\": \"recovered\", \"marker\": {\"color\": \"#00cc96\"}, \"name\": \"recovered\", \"offsetgroup\": \"recovered\", \"orientation\": \"v\", \"showlegend\": true, \"textposition\": \"auto\", \"x\": [\"US\", \"Spain\", \"Italy\", \"Russia\", \"Germany\", \"Brazil\", \"Turkey\", \"Iran\", \"Peru\", \"India\", \"Belgium\", \"Saudi Arabia\", \"Mexico\", \"Switzerland\", \"Ecuador\", \"Pakistan\", \"Portugal\", \"Chile\", \"Sweden\", \"Ireland\"], \"xaxis\": \"x\", \"y\": [3, 2, 0, 2, 12, 0, 0, 0, 0, 3, 1, 0, 0, 0, 0, 0, 0, 0, 0, 0], \"yaxis\": \"y\", \"type\": \"bar\"}], \"name\": \"2/19/20\"}, {\"data\": [{\"alignmentgroup\": \"True\", \"hovertemplate\": \"type=confirmed<br>date=2/20/20<br>country=%{x}<br>count=%{y}<extra></extra>\", \"legendgroup\": \"confirmed\", \"marker\": {\"color\": \"#636efa\"}, \"name\": \"confirmed\", \"offsetgroup\": \"confirmed\", \"orientation\": \"v\", \"showlegend\": true, \"textposition\": \"auto\", \"x\": [\"US\", \"Spain\", \"Italy\", \"Russia\", \"Germany\", \"Brazil\", \"Turkey\", \"Iran\", \"Peru\", \"India\", \"Belgium\", \"Saudi Arabia\", \"Mexico\", \"Switzerland\", \"Ecuador\", \"Pakistan\", \"Portugal\", \"Chile\", \"Sweden\", \"Ireland\"], \"xaxis\": \"x\", \"y\": [10, 0, 3, 0, 4, 0, 0, 3, 0, 0, 0, 0, 0, 0, 0, 0, 0, 0, 1, 0], \"yaxis\": \"y\", \"type\": \"bar\"}, {\"alignmentgroup\": \"True\", \"hovertemplate\": \"type=death<br>date=2/20/20<br>country=%{x}<br>count=%{y}<extra></extra>\", \"legendgroup\": \"death\", \"marker\": {\"color\": \"#EF553B\"}, \"name\": \"death\", \"offsetgroup\": \"death\", \"orientation\": \"v\", \"showlegend\": true, \"textposition\": \"auto\", \"x\": [\"US\", \"Spain\", \"Italy\", \"Russia\", \"Germany\", \"Brazil\", \"Turkey\", \"Iran\", \"Peru\", \"India\", \"Belgium\", \"Saudi Arabia\", \"Mexico\", \"Switzerland\", \"Ecuador\", \"Pakistan\", \"Portugal\", \"Chile\", \"Sweden\", \"Ireland\"], \"xaxis\": \"x\", \"y\": [0, 0, 0, 0, 0, 0, 0, 2, 0, 0, 0, 0, 0, 0, 0, 0, 0, 0, 0, 0], \"yaxis\": \"y\", \"type\": \"bar\"}, {\"alignmentgroup\": \"True\", \"hovertemplate\": \"type=recovered<br>date=2/20/20<br>country=%{x}<br>count=%{y}<extra></extra>\", \"legendgroup\": \"recovered\", \"marker\": {\"color\": \"#00cc96\"}, \"name\": \"recovered\", \"offsetgroup\": \"recovered\", \"orientation\": \"v\", \"showlegend\": true, \"textposition\": \"auto\", \"x\": [\"US\", \"Spain\", \"Italy\", \"Russia\", \"Germany\", \"Brazil\", \"Turkey\", \"Iran\", \"Peru\", \"India\", \"Belgium\", \"Saudi Arabia\", \"Mexico\", \"Switzerland\", \"Ecuador\", \"Pakistan\", \"Portugal\", \"Chile\", \"Sweden\", \"Ireland\"], \"xaxis\": \"x\", \"y\": [3, 2, 0, 2, 12, 0, 0, 0, 0, 3, 1, 0, 0, 0, 0, 0, 0, 0, 0, 0], \"yaxis\": \"y\", \"type\": \"bar\"}], \"name\": \"2/20/20\"}, {\"data\": [{\"alignmentgroup\": \"True\", \"hovertemplate\": \"type=confirmed<br>date=2/21/20<br>country=%{x}<br>count=%{y}<extra></extra>\", \"legendgroup\": \"confirmed\", \"marker\": {\"color\": \"#636efa\"}, \"name\": \"confirmed\", \"offsetgroup\": \"confirmed\", \"orientation\": \"v\", \"showlegend\": true, \"textposition\": \"auto\", \"x\": [\"US\", \"Spain\", \"Italy\", \"Russia\", \"Germany\", \"Brazil\", \"Turkey\", \"Iran\", \"Peru\", \"India\", \"Belgium\", \"Saudi Arabia\", \"Mexico\", \"Switzerland\", \"Ecuador\", \"Pakistan\", \"Portugal\", \"Chile\", \"Sweden\", \"Ireland\"], \"xaxis\": \"x\", \"y\": [10, 0, 19, 0, 2, 0, 0, 14, 0, 0, 0, 0, 0, 0, 0, 0, 0, 0, 1, 0], \"yaxis\": \"y\", \"type\": \"bar\"}, {\"alignmentgroup\": \"True\", \"hovertemplate\": \"type=death<br>date=2/21/20<br>country=%{x}<br>count=%{y}<extra></extra>\", \"legendgroup\": \"death\", \"marker\": {\"color\": \"#EF553B\"}, \"name\": \"death\", \"offsetgroup\": \"death\", \"orientation\": \"v\", \"showlegend\": true, \"textposition\": \"auto\", \"x\": [\"US\", \"Spain\", \"Italy\", \"Russia\", \"Germany\", \"Brazil\", \"Turkey\", \"Iran\", \"Peru\", \"India\", \"Belgium\", \"Saudi Arabia\", \"Mexico\", \"Switzerland\", \"Ecuador\", \"Pakistan\", \"Portugal\", \"Chile\", \"Sweden\", \"Ireland\"], \"xaxis\": \"x\", \"y\": [0, 0, 1, 0, 0, 0, 0, 4, 0, 0, 0, 0, 0, 0, 0, 0, 0, 0, 0, 0], \"yaxis\": \"y\", \"type\": \"bar\"}, {\"alignmentgroup\": \"True\", \"hovertemplate\": \"type=recovered<br>date=2/21/20<br>country=%{x}<br>count=%{y}<extra></extra>\", \"legendgroup\": \"recovered\", \"marker\": {\"color\": \"#00cc96\"}, \"name\": \"recovered\", \"offsetgroup\": \"recovered\", \"orientation\": \"v\", \"showlegend\": true, \"textposition\": \"auto\", \"x\": [\"US\", \"Spain\", \"Italy\", \"Russia\", \"Germany\", \"Brazil\", \"Turkey\", \"Iran\", \"Peru\", \"India\", \"Belgium\", \"Saudi Arabia\", \"Mexico\", \"Switzerland\", \"Ecuador\", \"Pakistan\", \"Portugal\", \"Chile\", \"Sweden\", \"Ireland\"], \"xaxis\": \"x\", \"y\": [5, 2, 0, 2, 14, 0, 0, 0, 0, 3, 1, 0, 0, 0, 0, 0, 0, 0, 0, 0], \"yaxis\": \"y\", \"type\": \"bar\"}], \"name\": \"2/21/20\"}, {\"data\": [{\"alignmentgroup\": \"True\", \"hovertemplate\": \"type=confirmed<br>date=2/22/20<br>country=%{x}<br>count=%{y}<extra></extra>\", \"legendgroup\": \"confirmed\", \"marker\": {\"color\": \"#636efa\"}, \"name\": \"confirmed\", \"offsetgroup\": \"confirmed\", \"orientation\": \"v\", \"showlegend\": true, \"textposition\": \"auto\", \"x\": [\"US\", \"Spain\", \"Italy\", \"Russia\", \"Germany\", \"Brazil\", \"Turkey\", \"Iran\", \"Peru\", \"India\", \"Belgium\", \"Saudi Arabia\", \"Mexico\", \"Switzerland\", \"Ecuador\", \"Pakistan\", \"Portugal\", \"Chile\", \"Sweden\", \"Ireland\"], \"xaxis\": \"x\", \"y\": [10, 0, 59, 0, 2, 0, 0, 23, 0, 0, 0, 0, 0, 0, 0, 0, 0, 0, 1, 0], \"yaxis\": \"y\", \"type\": \"bar\"}, {\"alignmentgroup\": \"True\", \"hovertemplate\": \"type=death<br>date=2/22/20<br>country=%{x}<br>count=%{y}<extra></extra>\", \"legendgroup\": \"death\", \"marker\": {\"color\": \"#EF553B\"}, \"name\": \"death\", \"offsetgroup\": \"death\", \"orientation\": \"v\", \"showlegend\": true, \"textposition\": \"auto\", \"x\": [\"US\", \"Spain\", \"Italy\", \"Russia\", \"Germany\", \"Brazil\", \"Turkey\", \"Iran\", \"Peru\", \"India\", \"Belgium\", \"Saudi Arabia\", \"Mexico\", \"Switzerland\", \"Ecuador\", \"Pakistan\", \"Portugal\", \"Chile\", \"Sweden\", \"Ireland\"], \"xaxis\": \"x\", \"y\": [0, 0, 2, 0, 0, 0, 0, 5, 0, 0, 0, 0, 0, 0, 0, 0, 0, 0, 0, 0], \"yaxis\": \"y\", \"type\": \"bar\"}, {\"alignmentgroup\": \"True\", \"hovertemplate\": \"type=recovered<br>date=2/22/20<br>country=%{x}<br>count=%{y}<extra></extra>\", \"legendgroup\": \"recovered\", \"marker\": {\"color\": \"#00cc96\"}, \"name\": \"recovered\", \"offsetgroup\": \"recovered\", \"orientation\": \"v\", \"showlegend\": true, \"textposition\": \"auto\", \"x\": [\"US\", \"Spain\", \"Italy\", \"Russia\", \"Germany\", \"Brazil\", \"Turkey\", \"Iran\", \"Peru\", \"India\", \"Belgium\", \"Saudi Arabia\", \"Mexico\", \"Switzerland\", \"Ecuador\", \"Pakistan\", \"Portugal\", \"Chile\", \"Sweden\", \"Ireland\"], \"xaxis\": \"x\", \"y\": [5, 2, 1, 2, 14, 0, 0, 0, 0, 3, 1, 0, 0, 0, 0, 0, 0, 0, 0, 0], \"yaxis\": \"y\", \"type\": \"bar\"}], \"name\": \"2/22/20\"}, {\"data\": [{\"alignmentgroup\": \"True\", \"hovertemplate\": \"type=confirmed<br>date=2/23/20<br>country=%{x}<br>count=%{y}<extra></extra>\", \"legendgroup\": \"confirmed\", \"marker\": {\"color\": \"#636efa\"}, \"name\": \"confirmed\", \"offsetgroup\": \"confirmed\", \"orientation\": \"v\", \"showlegend\": true, \"textposition\": \"auto\", \"x\": [\"US\", \"Spain\", \"Italy\", \"Russia\", \"Germany\", \"Brazil\", \"Turkey\", \"Iran\", \"Peru\", \"India\", \"Belgium\", \"Saudi Arabia\", \"Mexico\", \"Switzerland\", \"Ecuador\", \"Pakistan\", \"Portugal\", \"Chile\", \"Sweden\", \"Ireland\"], \"xaxis\": \"x\", \"y\": [10, 0, 150, 0, 2, 0, 0, 35, 0, 0, 0, 0, 0, 0, 0, 0, 0, 0, 1, 0], \"yaxis\": \"y\", \"type\": \"bar\"}, {\"alignmentgroup\": \"True\", \"hovertemplate\": \"type=death<br>date=2/23/20<br>country=%{x}<br>count=%{y}<extra></extra>\", \"legendgroup\": \"death\", \"marker\": {\"color\": \"#EF553B\"}, \"name\": \"death\", \"offsetgroup\": \"death\", \"orientation\": \"v\", \"showlegend\": true, \"textposition\": \"auto\", \"x\": [\"US\", \"Spain\", \"Italy\", \"Russia\", \"Germany\", \"Brazil\", \"Turkey\", \"Iran\", \"Peru\", \"India\", \"Belgium\", \"Saudi Arabia\", \"Mexico\", \"Switzerland\", \"Ecuador\", \"Pakistan\", \"Portugal\", \"Chile\", \"Sweden\", \"Ireland\"], \"xaxis\": \"x\", \"y\": [0, 0, 3, 0, 0, 0, 0, 8, 0, 0, 0, 0, 0, 0, 0, 0, 0, 0, 0, 0], \"yaxis\": \"y\", \"type\": \"bar\"}, {\"alignmentgroup\": \"True\", \"hovertemplate\": \"type=recovered<br>date=2/23/20<br>country=%{x}<br>count=%{y}<extra></extra>\", \"legendgroup\": \"recovered\", \"marker\": {\"color\": \"#00cc96\"}, \"name\": \"recovered\", \"offsetgroup\": \"recovered\", \"orientation\": \"v\", \"showlegend\": true, \"textposition\": \"auto\", \"x\": [\"US\", \"Spain\", \"Italy\", \"Russia\", \"Germany\", \"Brazil\", \"Turkey\", \"Iran\", \"Peru\", \"India\", \"Belgium\", \"Saudi Arabia\", \"Mexico\", \"Switzerland\", \"Ecuador\", \"Pakistan\", \"Portugal\", \"Chile\", \"Sweden\", \"Ireland\"], \"xaxis\": \"x\", \"y\": [5, 2, 2, 2, 14, 0, 0, 0, 0, 3, 1, 0, 0, 0, 0, 0, 0, 0, 0, 0], \"yaxis\": \"y\", \"type\": \"bar\"}], \"name\": \"2/23/20\"}, {\"data\": [{\"alignmentgroup\": \"True\", \"hovertemplate\": \"type=confirmed<br>date=2/24/20<br>country=%{x}<br>count=%{y}<extra></extra>\", \"legendgroup\": \"confirmed\", \"marker\": {\"color\": \"#636efa\"}, \"name\": \"confirmed\", \"offsetgroup\": \"confirmed\", \"orientation\": \"v\", \"showlegend\": true, \"textposition\": \"auto\", \"x\": [\"US\", \"Spain\", \"Italy\", \"Russia\", \"Germany\", \"Brazil\", \"Turkey\", \"Iran\", \"Peru\", \"India\", \"Belgium\", \"Saudi Arabia\", \"Mexico\", \"Switzerland\", \"Ecuador\", \"Pakistan\", \"Portugal\", \"Chile\", \"Sweden\", \"Ireland\"], \"xaxis\": \"x\", \"y\": [46, 0, 221, 0, 2, 0, 0, 49, 0, 0, 0, 0, 0, 0, 0, 0, 0, 0, 1, 0], \"yaxis\": \"y\", \"type\": \"bar\"}, {\"alignmentgroup\": \"True\", \"hovertemplate\": \"type=death<br>date=2/24/20<br>country=%{x}<br>count=%{y}<extra></extra>\", \"legendgroup\": \"death\", \"marker\": {\"color\": \"#EF553B\"}, \"name\": \"death\", \"offsetgroup\": \"death\", \"orientation\": \"v\", \"showlegend\": true, \"textposition\": \"auto\", \"x\": [\"US\", \"Spain\", \"Italy\", \"Russia\", \"Germany\", \"Brazil\", \"Turkey\", \"Iran\", \"Peru\", \"India\", \"Belgium\", \"Saudi Arabia\", \"Mexico\", \"Switzerland\", \"Ecuador\", \"Pakistan\", \"Portugal\", \"Chile\", \"Sweden\", \"Ireland\"], \"xaxis\": \"x\", \"y\": [0, 0, 7, 0, 0, 0, 0, 12, 0, 0, 0, 0, 0, 0, 0, 0, 0, 0, 0, 0], \"yaxis\": \"y\", \"type\": \"bar\"}, {\"alignmentgroup\": \"True\", \"hovertemplate\": \"type=recovered<br>date=2/24/20<br>country=%{x}<br>count=%{y}<extra></extra>\", \"legendgroup\": \"recovered\", \"marker\": {\"color\": \"#00cc96\"}, \"name\": \"recovered\", \"offsetgroup\": \"recovered\", \"orientation\": \"v\", \"showlegend\": true, \"textposition\": \"auto\", \"x\": [\"US\", \"Spain\", \"Italy\", \"Russia\", \"Germany\", \"Brazil\", \"Turkey\", \"Iran\", \"Peru\", \"India\", \"Belgium\", \"Saudi Arabia\", \"Mexico\", \"Switzerland\", \"Ecuador\", \"Pakistan\", \"Portugal\", \"Chile\", \"Sweden\", \"Ireland\"], \"xaxis\": \"x\", \"y\": [5, 2, 1, 2, 14, 0, 0, 0, 0, 3, 1, 0, 0, 0, 0, 0, 0, 0, 0, 0], \"yaxis\": \"y\", \"type\": \"bar\"}], \"name\": \"2/24/20\"}, {\"data\": [{\"alignmentgroup\": \"True\", \"hovertemplate\": \"type=confirmed<br>date=2/25/20<br>country=%{x}<br>count=%{y}<extra></extra>\", \"legendgroup\": \"confirmed\", \"marker\": {\"color\": \"#636efa\"}, \"name\": \"confirmed\", \"offsetgroup\": \"confirmed\", \"orientation\": \"v\", \"showlegend\": true, \"textposition\": \"auto\", \"x\": [\"US\", \"Spain\", \"Italy\", \"Russia\", \"Germany\", \"Brazil\", \"Turkey\", \"Iran\", \"Peru\", \"India\", \"Belgium\", \"Saudi Arabia\", \"Mexico\", \"Switzerland\", \"Ecuador\", \"Pakistan\", \"Portugal\", \"Chile\", \"Sweden\", \"Ireland\"], \"xaxis\": \"x\", \"y\": [45, 4, 311, 0, 3, 0, 0, 79, 0, 0, 0, 0, 0, 1, 0, 0, 0, 0, 1, 0], \"yaxis\": \"y\", \"type\": \"bar\"}, {\"alignmentgroup\": \"True\", \"hovertemplate\": \"type=death<br>date=2/25/20<br>country=%{x}<br>count=%{y}<extra></extra>\", \"legendgroup\": \"death\", \"marker\": {\"color\": \"#EF553B\"}, \"name\": \"death\", \"offsetgroup\": \"death\", \"orientation\": \"v\", \"showlegend\": true, \"textposition\": \"auto\", \"x\": [\"US\", \"Spain\", \"Italy\", \"Russia\", \"Germany\", \"Brazil\", \"Turkey\", \"Iran\", \"Peru\", \"India\", \"Belgium\", \"Saudi Arabia\", \"Mexico\", \"Switzerland\", \"Ecuador\", \"Pakistan\", \"Portugal\", \"Chile\", \"Sweden\", \"Ireland\"], \"xaxis\": \"x\", \"y\": [0, 0, 10, 0, 0, 0, 0, 16, 0, 0, 0, 0, 0, 0, 0, 0, 0, 0, 0, 0], \"yaxis\": \"y\", \"type\": \"bar\"}, {\"alignmentgroup\": \"True\", \"hovertemplate\": \"type=recovered<br>date=2/25/20<br>country=%{x}<br>count=%{y}<extra></extra>\", \"legendgroup\": \"recovered\", \"marker\": {\"color\": \"#00cc96\"}, \"name\": \"recovered\", \"offsetgroup\": \"recovered\", \"orientation\": \"v\", \"showlegend\": true, \"textposition\": \"auto\", \"x\": [\"US\", \"Spain\", \"Italy\", \"Russia\", \"Germany\", \"Brazil\", \"Turkey\", \"Iran\", \"Peru\", \"India\", \"Belgium\", \"Saudi Arabia\", \"Mexico\", \"Switzerland\", \"Ecuador\", \"Pakistan\", \"Portugal\", \"Chile\", \"Sweden\", \"Ireland\"], \"xaxis\": \"x\", \"y\": [6, 2, 1, 2, 14, 0, 0, 0, 0, 3, 1, 0, 0, 0, 0, 0, 0, 0, 0, 0], \"yaxis\": \"y\", \"type\": \"bar\"}], \"name\": \"2/25/20\"}, {\"data\": [{\"alignmentgroup\": \"True\", \"hovertemplate\": \"type=confirmed<br>date=2/26/20<br>country=%{x}<br>count=%{y}<extra></extra>\", \"legendgroup\": \"confirmed\", \"marker\": {\"color\": \"#636efa\"}, \"name\": \"confirmed\", \"offsetgroup\": \"confirmed\", \"orientation\": \"v\", \"showlegend\": true, \"textposition\": \"auto\", \"x\": [\"US\", \"Spain\", \"Italy\", \"Russia\", \"Germany\", \"Brazil\", \"Turkey\", \"Iran\", \"Peru\", \"India\", \"Belgium\", \"Saudi Arabia\", \"Mexico\", \"Switzerland\", \"Ecuador\", \"Pakistan\", \"Portugal\", \"Chile\", \"Sweden\", \"Ireland\"], \"xaxis\": \"x\", \"y\": [51, 11, 438, 0, 12, 1, 0, 71, 0, 0, 0, 0, 0, 1, 0, 2, 0, 0, 2, 0], \"yaxis\": \"y\", \"type\": \"bar\"}, {\"alignmentgroup\": \"True\", \"hovertemplate\": \"type=death<br>date=2/26/20<br>country=%{x}<br>count=%{y}<extra></extra>\", \"legendgroup\": \"death\", \"marker\": {\"color\": \"#EF553B\"}, \"name\": \"death\", \"offsetgroup\": \"death\", \"orientation\": \"v\", \"showlegend\": true, \"textposition\": \"auto\", \"x\": [\"US\", \"Spain\", \"Italy\", \"Russia\", \"Germany\", \"Brazil\", \"Turkey\", \"Iran\", \"Peru\", \"India\", \"Belgium\", \"Saudi Arabia\", \"Mexico\", \"Switzerland\", \"Ecuador\", \"Pakistan\", \"Portugal\", \"Chile\", \"Sweden\", \"Ireland\"], \"xaxis\": \"x\", \"y\": [0, 0, 12, 0, 0, 0, 0, 19, 0, 0, 0, 0, 0, 0, 0, 0, 0, 0, 0, 0], \"yaxis\": \"y\", \"type\": \"bar\"}, {\"alignmentgroup\": \"True\", \"hovertemplate\": \"type=recovered<br>date=2/26/20<br>country=%{x}<br>count=%{y}<extra></extra>\", \"legendgroup\": \"recovered\", \"marker\": {\"color\": \"#00cc96\"}, \"name\": \"recovered\", \"offsetgroup\": \"recovered\", \"orientation\": \"v\", \"showlegend\": true, \"textposition\": \"auto\", \"x\": [\"US\", \"Spain\", \"Italy\", \"Russia\", \"Germany\", \"Brazil\", \"Turkey\", \"Iran\", \"Peru\", \"India\", \"Belgium\", \"Saudi Arabia\", \"Mexico\", \"Switzerland\", \"Ecuador\", \"Pakistan\", \"Portugal\", \"Chile\", \"Sweden\", \"Ireland\"], \"xaxis\": \"x\", \"y\": [6, 2, 3, 2, 15, 0, 0, 49, 0, 3, 1, 0, 0, 0, 0, 0, 0, 0, 0, 0], \"yaxis\": \"y\", \"type\": \"bar\"}], \"name\": \"2/26/20\"}, {\"data\": [{\"alignmentgroup\": \"True\", \"hovertemplate\": \"type=confirmed<br>date=2/27/20<br>country=%{x}<br>count=%{y}<extra></extra>\", \"legendgroup\": \"confirmed\", \"marker\": {\"color\": \"#636efa\"}, \"name\": \"confirmed\", \"offsetgroup\": \"confirmed\", \"orientation\": \"v\", \"showlegend\": true, \"textposition\": \"auto\", \"x\": [\"US\", \"Spain\", \"Italy\", \"Russia\", \"Germany\", \"Brazil\", \"Turkey\", \"Iran\", \"Peru\", \"India\", \"Belgium\", \"Saudi Arabia\", \"Mexico\", \"Switzerland\", \"Ecuador\", \"Pakistan\", \"Portugal\", \"Chile\", \"Sweden\", \"Ireland\"], \"xaxis\": \"x\", \"y\": [52, 13, 593, 0, 30, 1, 0, 170, 0, 0, 0, 0, 0, 8, 0, 2, 0, 0, 7, 0], \"yaxis\": \"y\", \"type\": \"bar\"}, {\"alignmentgroup\": \"True\", \"hovertemplate\": \"type=death<br>date=2/27/20<br>country=%{x}<br>count=%{y}<extra></extra>\", \"legendgroup\": \"death\", \"marker\": {\"color\": \"#EF553B\"}, \"name\": \"death\", \"offsetgroup\": \"death\", \"orientation\": \"v\", \"showlegend\": true, \"textposition\": \"auto\", \"x\": [\"US\", \"Spain\", \"Italy\", \"Russia\", \"Germany\", \"Brazil\", \"Turkey\", \"Iran\", \"Peru\", \"India\", \"Belgium\", \"Saudi Arabia\", \"Mexico\", \"Switzerland\", \"Ecuador\", \"Pakistan\", \"Portugal\", \"Chile\", \"Sweden\", \"Ireland\"], \"xaxis\": \"x\", \"y\": [0, 0, 17, 0, 0, 0, 0, 26, 0, 0, 0, 0, 0, 0, 0, 0, 0, 0, 0, 0], \"yaxis\": \"y\", \"type\": \"bar\"}, {\"alignmentgroup\": \"True\", \"hovertemplate\": \"type=recovered<br>date=2/27/20<br>country=%{x}<br>count=%{y}<extra></extra>\", \"legendgroup\": \"recovered\", \"marker\": {\"color\": \"#00cc96\"}, \"name\": \"recovered\", \"offsetgroup\": \"recovered\", \"orientation\": \"v\", \"showlegend\": true, \"textposition\": \"auto\", \"x\": [\"US\", \"Spain\", \"Italy\", \"Russia\", \"Germany\", \"Brazil\", \"Turkey\", \"Iran\", \"Peru\", \"India\", \"Belgium\", \"Saudi Arabia\", \"Mexico\", \"Switzerland\", \"Ecuador\", \"Pakistan\", \"Portugal\", \"Chile\", \"Sweden\", \"Ireland\"], \"xaxis\": \"x\", \"y\": [6, 2, 45, 2, 16, 0, 0, 49, 0, 3, 1, 0, 0, 0, 0, 0, 0, 0, 0, 0], \"yaxis\": \"y\", \"type\": \"bar\"}], \"name\": \"2/27/20\"}, {\"data\": [{\"alignmentgroup\": \"True\", \"hovertemplate\": \"type=confirmed<br>date=2/28/20<br>country=%{x}<br>count=%{y}<extra></extra>\", \"legendgroup\": \"confirmed\", \"marker\": {\"color\": \"#636efa\"}, \"name\": \"confirmed\", \"offsetgroup\": \"confirmed\", \"orientation\": \"v\", \"showlegend\": true, \"textposition\": \"auto\", \"x\": [\"US\", \"Spain\", \"Italy\", \"Russia\", \"Germany\", \"Brazil\", \"Turkey\", \"Iran\", \"Peru\", \"India\", \"Belgium\", \"Saudi Arabia\", \"Mexico\", \"Switzerland\", \"Ecuador\", \"Pakistan\", \"Portugal\", \"Chile\", \"Sweden\", \"Ireland\"], \"xaxis\": \"x\", \"y\": [53, 30, 821, 0, 32, 1, 0, 281, 0, 0, 0, 0, 1, 8, 0, 2, 0, 0, 7, 0], \"yaxis\": \"y\", \"type\": \"bar\"}, {\"alignmentgroup\": \"True\", \"hovertemplate\": \"type=death<br>date=2/28/20<br>country=%{x}<br>count=%{y}<extra></extra>\", \"legendgroup\": \"death\", \"marker\": {\"color\": \"#EF553B\"}, \"name\": \"death\", \"offsetgroup\": \"death\", \"orientation\": \"v\", \"showlegend\": true, \"textposition\": \"auto\", \"x\": [\"US\", \"Spain\", \"Italy\", \"Russia\", \"Germany\", \"Brazil\", \"Turkey\", \"Iran\", \"Peru\", \"India\", \"Belgium\", \"Saudi Arabia\", \"Mexico\", \"Switzerland\", \"Ecuador\", \"Pakistan\", \"Portugal\", \"Chile\", \"Sweden\", \"Ireland\"], \"xaxis\": \"x\", \"y\": [0, 0, 21, 0, 0, 0, 0, 34, 0, 0, 0, 0, 0, 0, 0, 0, 0, 0, 0, 0], \"yaxis\": \"y\", \"type\": \"bar\"}, {\"alignmentgroup\": \"True\", \"hovertemplate\": \"type=recovered<br>date=2/28/20<br>country=%{x}<br>count=%{y}<extra></extra>\", \"legendgroup\": \"recovered\", \"marker\": {\"color\": \"#00cc96\"}, \"name\": \"recovered\", \"offsetgroup\": \"recovered\", \"orientation\": \"v\", \"showlegend\": true, \"textposition\": \"auto\", \"x\": [\"US\", \"Spain\", \"Italy\", \"Russia\", \"Germany\", \"Brazil\", \"Turkey\", \"Iran\", \"Peru\", \"India\", \"Belgium\", \"Saudi Arabia\", \"Mexico\", \"Switzerland\", \"Ecuador\", \"Pakistan\", \"Portugal\", \"Chile\", \"Sweden\", \"Ireland\"], \"xaxis\": \"x\", \"y\": [7, 2, 46, 2, 16, 0, 0, 73, 0, 3, 1, 0, 0, 0, 0, 0, 0, 0, 0, 0], \"yaxis\": \"y\", \"type\": \"bar\"}], \"name\": \"2/28/20\"}, {\"data\": [{\"alignmentgroup\": \"True\", \"hovertemplate\": \"type=confirmed<br>date=2/29/20<br>country=%{x}<br>count=%{y}<extra></extra>\", \"legendgroup\": \"confirmed\", \"marker\": {\"color\": \"#636efa\"}, \"name\": \"confirmed\", \"offsetgroup\": \"confirmed\", \"orientation\": \"v\", \"showlegend\": true, \"textposition\": \"auto\", \"x\": [\"US\", \"Spain\", \"Italy\", \"Russia\", \"Germany\", \"Brazil\", \"Turkey\", \"Iran\", \"Peru\", \"India\", \"Belgium\", \"Saudi Arabia\", \"Mexico\", \"Switzerland\", \"Ecuador\", \"Pakistan\", \"Portugal\", \"Chile\", \"Sweden\", \"Ireland\"], \"xaxis\": \"x\", \"y\": [60, 43, 1053, 0, 63, 2, 0, 427, 0, 0, 0, 0, 4, 18, 0, 4, 0, 0, 12, 1], \"yaxis\": \"y\", \"type\": \"bar\"}, {\"alignmentgroup\": \"True\", \"hovertemplate\": \"type=death<br>date=2/29/20<br>country=%{x}<br>count=%{y}<extra></extra>\", \"legendgroup\": \"death\", \"marker\": {\"color\": \"#EF553B\"}, \"name\": \"death\", \"offsetgroup\": \"death\", \"orientation\": \"v\", \"showlegend\": true, \"textposition\": \"auto\", \"x\": [\"US\", \"Spain\", \"Italy\", \"Russia\", \"Germany\", \"Brazil\", \"Turkey\", \"Iran\", \"Peru\", \"India\", \"Belgium\", \"Saudi Arabia\", \"Mexico\", \"Switzerland\", \"Ecuador\", \"Pakistan\", \"Portugal\", \"Chile\", \"Sweden\", \"Ireland\"], \"xaxis\": \"x\", \"y\": [1, 0, 29, 0, 0, 0, 0, 43, 0, 0, 0, 0, 0, 0, 0, 0, 0, 0, 0, 0], \"yaxis\": \"y\", \"type\": \"bar\"}, {\"alignmentgroup\": \"True\", \"hovertemplate\": \"type=recovered<br>date=2/29/20<br>country=%{x}<br>count=%{y}<extra></extra>\", \"legendgroup\": \"recovered\", \"marker\": {\"color\": \"#00cc96\"}, \"name\": \"recovered\", \"offsetgroup\": \"recovered\", \"orientation\": \"v\", \"showlegend\": true, \"textposition\": \"auto\", \"x\": [\"US\", \"Spain\", \"Italy\", \"Russia\", \"Germany\", \"Brazil\", \"Turkey\", \"Iran\", \"Peru\", \"India\", \"Belgium\", \"Saudi Arabia\", \"Mexico\", \"Switzerland\", \"Ecuador\", \"Pakistan\", \"Portugal\", \"Chile\", \"Sweden\", \"Ireland\"], \"xaxis\": \"x\", \"y\": [7, 2, 46, 2, 16, 0, 0, 123, 0, 3, 1, 0, 0, 0, 0, 0, 0, 0, 0, 0], \"yaxis\": \"y\", \"type\": \"bar\"}], \"name\": \"2/29/20\"}, {\"data\": [{\"alignmentgroup\": \"True\", \"hovertemplate\": \"type=confirmed<br>date=3/1/20<br>country=%{x}<br>count=%{y}<extra></extra>\", \"legendgroup\": \"confirmed\", \"marker\": {\"color\": \"#636efa\"}, \"name\": \"confirmed\", \"offsetgroup\": \"confirmed\", \"orientation\": \"v\", \"showlegend\": true, \"textposition\": \"auto\", \"x\": [\"US\", \"Spain\", \"Italy\", \"Russia\", \"Germany\", \"Brazil\", \"Turkey\", \"Iran\", \"Peru\", \"India\", \"Belgium\", \"Saudi Arabia\", \"Mexico\", \"Switzerland\", \"Ecuador\", \"Pakistan\", \"Portugal\", \"Chile\", \"Sweden\", \"Ireland\"], \"xaxis\": \"x\", \"y\": [66, 82, 1577, 0, 114, 2, 0, 749, 0, 0, 1, 0, 5, 27, 6, 4, 0, 0, 14, 1], \"yaxis\": \"y\", \"type\": \"bar\"}, {\"alignmentgroup\": \"True\", \"hovertemplate\": \"type=death<br>date=3/1/20<br>country=%{x}<br>count=%{y}<extra></extra>\", \"legendgroup\": \"death\", \"marker\": {\"color\": \"#EF553B\"}, \"name\": \"death\", \"offsetgroup\": \"death\", \"orientation\": \"v\", \"showlegend\": true, \"textposition\": \"auto\", \"x\": [\"US\", \"Spain\", \"Italy\", \"Russia\", \"Germany\", \"Brazil\", \"Turkey\", \"Iran\", \"Peru\", \"India\", \"Belgium\", \"Saudi Arabia\", \"Mexico\", \"Switzerland\", \"Ecuador\", \"Pakistan\", \"Portugal\", \"Chile\", \"Sweden\", \"Ireland\"], \"xaxis\": \"x\", \"y\": [1, 0, 34, 0, 0, 0, 0, 54, 0, 0, 0, 0, 0, 0, 0, 0, 0, 0, 0, 0], \"yaxis\": \"y\", \"type\": \"bar\"}, {\"alignmentgroup\": \"True\", \"hovertemplate\": \"type=recovered<br>date=3/1/20<br>country=%{x}<br>count=%{y}<extra></extra>\", \"legendgroup\": \"recovered\", \"marker\": {\"color\": \"#00cc96\"}, \"name\": \"recovered\", \"offsetgroup\": \"recovered\", \"orientation\": \"v\", \"showlegend\": true, \"textposition\": \"auto\", \"x\": [\"US\", \"Spain\", \"Italy\", \"Russia\", \"Germany\", \"Brazil\", \"Turkey\", \"Iran\", \"Peru\", \"India\", \"Belgium\", \"Saudi Arabia\", \"Mexico\", \"Switzerland\", \"Ecuador\", \"Pakistan\", \"Portugal\", \"Chile\", \"Sweden\", \"Ireland\"], \"xaxis\": \"x\", \"y\": [7, 2, 83, 2, 16, 0, 0, 175, 0, 3, 1, 0, 0, 0, 0, 0, 0, 0, 0, 0], \"yaxis\": \"y\", \"type\": \"bar\"}], \"name\": \"3/1/20\"}, {\"data\": [{\"alignmentgroup\": \"True\", \"hovertemplate\": \"type=confirmed<br>date=3/2/20<br>country=%{x}<br>count=%{y}<extra></extra>\", \"legendgroup\": \"confirmed\", \"marker\": {\"color\": \"#636efa\"}, \"name\": \"confirmed\", \"offsetgroup\": \"confirmed\", \"orientation\": \"v\", \"showlegend\": true, \"textposition\": \"auto\", \"x\": [\"US\", \"Spain\", \"Italy\", \"Russia\", \"Germany\", \"Brazil\", \"Turkey\", \"Iran\", \"Peru\", \"India\", \"Belgium\", \"Saudi Arabia\", \"Mexico\", \"Switzerland\", \"Ecuador\", \"Pakistan\", \"Portugal\", \"Chile\", \"Sweden\", \"Ireland\"], \"xaxis\": \"x\", \"y\": [85, 118, 1835, 1, 143, 2, 0, 1144, 0, 2, 7, 1, 5, 42, 6, 4, 2, 0, 15, 1], \"yaxis\": \"y\", \"type\": \"bar\"}, {\"alignmentgroup\": \"True\", \"hovertemplate\": \"type=death<br>date=3/2/20<br>country=%{x}<br>count=%{y}<extra></extra>\", \"legendgroup\": \"death\", \"marker\": {\"color\": \"#EF553B\"}, \"name\": \"death\", \"offsetgroup\": \"death\", \"orientation\": \"v\", \"showlegend\": true, \"textposition\": \"auto\", \"x\": [\"US\", \"Spain\", \"Italy\", \"Russia\", \"Germany\", \"Brazil\", \"Turkey\", \"Iran\", \"Peru\", \"India\", \"Belgium\", \"Saudi Arabia\", \"Mexico\", \"Switzerland\", \"Ecuador\", \"Pakistan\", \"Portugal\", \"Chile\", \"Sweden\", \"Ireland\"], \"xaxis\": \"x\", \"y\": [6, 0, 52, 0, 0, 0, 0, 66, 0, 0, 0, 0, 0, 0, 0, 0, 0, 0, 0, 0], \"yaxis\": \"y\", \"type\": \"bar\"}, {\"alignmentgroup\": \"True\", \"hovertemplate\": \"type=recovered<br>date=3/2/20<br>country=%{x}<br>count=%{y}<extra></extra>\", \"legendgroup\": \"recovered\", \"marker\": {\"color\": \"#00cc96\"}, \"name\": \"recovered\", \"offsetgroup\": \"recovered\", \"orientation\": \"v\", \"showlegend\": true, \"textposition\": \"auto\", \"x\": [\"US\", \"Spain\", \"Italy\", \"Russia\", \"Germany\", \"Brazil\", \"Turkey\", \"Iran\", \"Peru\", \"India\", \"Belgium\", \"Saudi Arabia\", \"Mexico\", \"Switzerland\", \"Ecuador\", \"Pakistan\", \"Portugal\", \"Chile\", \"Sweden\", \"Ireland\"], \"xaxis\": \"x\", \"y\": [7, 2, 149, 2, 16, 0, 0, 291, 0, 3, 1, 0, 0, 0, 0, 0, 0, 0, 0, 0], \"yaxis\": \"y\", \"type\": \"bar\"}], \"name\": \"3/2/20\"}, {\"data\": [{\"alignmentgroup\": \"True\", \"hovertemplate\": \"type=confirmed<br>date=3/3/20<br>country=%{x}<br>count=%{y}<extra></extra>\", \"legendgroup\": \"confirmed\", \"marker\": {\"color\": \"#636efa\"}, \"name\": \"confirmed\", \"offsetgroup\": \"confirmed\", \"orientation\": \"v\", \"showlegend\": true, \"textposition\": \"auto\", \"x\": [\"US\", \"Spain\", \"Italy\", \"Russia\", \"Germany\", \"Brazil\", \"Turkey\", \"Iran\", \"Peru\", \"India\", \"Belgium\", \"Saudi Arabia\", \"Mexico\", \"Switzerland\", \"Ecuador\", \"Pakistan\", \"Portugal\", \"Chile\", \"Sweden\", \"Ireland\"], \"xaxis\": \"x\", \"y\": [104, 162, 2263, 1, 180, 2, 0, 1968, 0, 2, 12, 1, 4, 54, 7, 5, 2, 1, 21, 2], \"yaxis\": \"y\", \"type\": \"bar\"}, {\"alignmentgroup\": \"True\", \"hovertemplate\": \"type=death<br>date=3/3/20<br>country=%{x}<br>count=%{y}<extra></extra>\", \"legendgroup\": \"death\", \"marker\": {\"color\": \"#EF553B\"}, \"name\": \"death\", \"offsetgroup\": \"death\", \"orientation\": \"v\", \"showlegend\": true, \"textposition\": \"auto\", \"x\": [\"US\", \"Spain\", \"Italy\", \"Russia\", \"Germany\", \"Brazil\", \"Turkey\", \"Iran\", \"Peru\", \"India\", \"Belgium\", \"Saudi Arabia\", \"Mexico\", \"Switzerland\", \"Ecuador\", \"Pakistan\", \"Portugal\", \"Chile\", \"Sweden\", \"Ireland\"], \"xaxis\": \"x\", \"y\": [7, 1, 79, 0, 0, 0, 0, 77, 0, 0, 0, 0, 0, 0, 0, 0, 0, 0, 0, 0], \"yaxis\": \"y\", \"type\": \"bar\"}, {\"alignmentgroup\": \"True\", \"hovertemplate\": \"type=recovered<br>date=3/3/20<br>country=%{x}<br>count=%{y}<extra></extra>\", \"legendgroup\": \"recovered\", \"marker\": {\"color\": \"#00cc96\"}, \"name\": \"recovered\", \"offsetgroup\": \"recovered\", \"orientation\": \"v\", \"showlegend\": true, \"textposition\": \"auto\", \"x\": [\"US\", \"Spain\", \"Italy\", \"Russia\", \"Germany\", \"Brazil\", \"Turkey\", \"Iran\", \"Peru\", \"India\", \"Belgium\", \"Saudi Arabia\", \"Mexico\", \"Switzerland\", \"Ecuador\", \"Pakistan\", \"Portugal\", \"Chile\", \"Sweden\", \"Ireland\"], \"xaxis\": \"x\", \"y\": [7, 2, 160, 2, 16, 0, 0, 291, 0, 3, 1, 0, 1, 2, 0, 0, 0, 0, 0, 0], \"yaxis\": \"y\", \"type\": \"bar\"}], \"name\": \"3/3/20\"}, {\"data\": [{\"alignmentgroup\": \"True\", \"hovertemplate\": \"type=confirmed<br>date=3/4/20<br>country=%{x}<br>count=%{y}<extra></extra>\", \"legendgroup\": \"confirmed\", \"marker\": {\"color\": \"#636efa\"}, \"name\": \"confirmed\", \"offsetgroup\": \"confirmed\", \"orientation\": \"v\", \"showlegend\": true, \"textposition\": \"auto\", \"x\": [\"US\", \"Spain\", \"Italy\", \"Russia\", \"Germany\", \"Brazil\", \"Turkey\", \"Iran\", \"Peru\", \"India\", \"Belgium\", \"Saudi Arabia\", \"Mexico\", \"Switzerland\", \"Ecuador\", \"Pakistan\", \"Portugal\", \"Chile\", \"Sweden\", \"Ireland\"], \"xaxis\": \"x\", \"y\": [131, 218, 2706, 1, 246, 4, 0, 2278, 0, 25, 22, 1, 4, 87, 10, 5, 5, 1, 35, 6], \"yaxis\": \"y\", \"type\": \"bar\"}, {\"alignmentgroup\": \"True\", \"hovertemplate\": \"type=death<br>date=3/4/20<br>country=%{x}<br>count=%{y}<extra></extra>\", \"legendgroup\": \"death\", \"marker\": {\"color\": \"#EF553B\"}, \"name\": \"death\", \"offsetgroup\": \"death\", \"orientation\": \"v\", \"showlegend\": true, \"textposition\": \"auto\", \"x\": [\"US\", \"Spain\", \"Italy\", \"Russia\", \"Germany\", \"Brazil\", \"Turkey\", \"Iran\", \"Peru\", \"India\", \"Belgium\", \"Saudi Arabia\", \"Mexico\", \"Switzerland\", \"Ecuador\", \"Pakistan\", \"Portugal\", \"Chile\", \"Sweden\", \"Ireland\"], \"xaxis\": \"x\", \"y\": [11, 2, 107, 0, 0, 0, 0, 92, 0, 0, 0, 0, 0, 0, 0, 0, 0, 0, 0, 0], \"yaxis\": \"y\", \"type\": \"bar\"}, {\"alignmentgroup\": \"True\", \"hovertemplate\": \"type=recovered<br>date=3/4/20<br>country=%{x}<br>count=%{y}<extra></extra>\", \"legendgroup\": \"recovered\", \"marker\": {\"color\": \"#00cc96\"}, \"name\": \"recovered\", \"offsetgroup\": \"recovered\", \"orientation\": \"v\", \"showlegend\": true, \"textposition\": \"auto\", \"x\": [\"US\", \"Spain\", \"Italy\", \"Russia\", \"Germany\", \"Brazil\", \"Turkey\", \"Iran\", \"Peru\", \"India\", \"Belgium\", \"Saudi Arabia\", \"Mexico\", \"Switzerland\", \"Ecuador\", \"Pakistan\", \"Portugal\", \"Chile\", \"Sweden\", \"Ireland\"], \"xaxis\": \"x\", \"y\": [7, 2, 276, 2, 16, 0, 0, 552, 0, 3, 1, 0, 1, 3, 0, 0, 0, 0, 0, 0], \"yaxis\": \"y\", \"type\": \"bar\"}], \"name\": \"3/4/20\"}, {\"data\": [{\"alignmentgroup\": \"True\", \"hovertemplate\": \"type=confirmed<br>date=3/5/20<br>country=%{x}<br>count=%{y}<extra></extra>\", \"legendgroup\": \"confirmed\", \"marker\": {\"color\": \"#636efa\"}, \"name\": \"confirmed\", \"offsetgroup\": \"confirmed\", \"orientation\": \"v\", \"showlegend\": true, \"textposition\": \"auto\", \"x\": [\"US\", \"Spain\", \"Italy\", \"Russia\", \"Germany\", \"Brazil\", \"Turkey\", \"Iran\", \"Peru\", \"India\", \"Belgium\", \"Saudi Arabia\", \"Mexico\", \"Switzerland\", \"Ecuador\", \"Pakistan\", \"Portugal\", \"Chile\", \"Sweden\", \"Ireland\"], \"xaxis\": \"x\", \"y\": [198, 254, 3296, 2, 466, 4, 0, 2667, 0, 27, 49, 5, 4, 110, 13, 5, 8, 4, 94, 6], \"yaxis\": \"y\", \"type\": \"bar\"}, {\"alignmentgroup\": \"True\", \"hovertemplate\": \"type=death<br>date=3/5/20<br>country=%{x}<br>count=%{y}<extra></extra>\", \"legendgroup\": \"death\", \"marker\": {\"color\": \"#EF553B\"}, \"name\": \"death\", \"offsetgroup\": \"death\", \"orientation\": \"v\", \"showlegend\": true, \"textposition\": \"auto\", \"x\": [\"US\", \"Spain\", \"Italy\", \"Russia\", \"Germany\", \"Brazil\", \"Turkey\", \"Iran\", \"Peru\", \"India\", \"Belgium\", \"Saudi Arabia\", \"Mexico\", \"Switzerland\", \"Ecuador\", \"Pakistan\", \"Portugal\", \"Chile\", \"Sweden\", \"Ireland\"], \"xaxis\": \"x\", \"y\": [12, 3, 148, 0, 0, 0, 0, 107, 0, 0, 0, 0, 0, 1, 0, 0, 0, 0, 0, 0], \"yaxis\": \"y\", \"type\": \"bar\"}, {\"alignmentgroup\": \"True\", \"hovertemplate\": \"type=recovered<br>date=3/5/20<br>country=%{x}<br>count=%{y}<extra></extra>\", \"legendgroup\": \"recovered\", \"marker\": {\"color\": \"#00cc96\"}, \"name\": \"recovered\", \"offsetgroup\": \"recovered\", \"orientation\": \"v\", \"showlegend\": true, \"textposition\": \"auto\", \"x\": [\"US\", \"Spain\", \"Italy\", \"Russia\", \"Germany\", \"Brazil\", \"Turkey\", \"Iran\", \"Peru\", \"India\", \"Belgium\", \"Saudi Arabia\", \"Mexico\", \"Switzerland\", \"Ecuador\", \"Pakistan\", \"Portugal\", \"Chile\", \"Sweden\", \"Ireland\"], \"xaxis\": \"x\", \"y\": [7, 2, 414, 2, 16, 0, 0, 739, 0, 3, 1, 0, 1, 3, 0, 0, 0, 0, 0, 0], \"yaxis\": \"y\", \"type\": \"bar\"}], \"name\": \"3/5/20\"}, {\"data\": [{\"alignmentgroup\": \"True\", \"hovertemplate\": \"type=confirmed<br>date=3/6/20<br>country=%{x}<br>count=%{y}<extra></extra>\", \"legendgroup\": \"confirmed\", \"marker\": {\"color\": \"#636efa\"}, \"name\": \"confirmed\", \"offsetgroup\": \"confirmed\", \"orientation\": \"v\", \"showlegend\": true, \"textposition\": \"auto\", \"x\": [\"US\", \"Spain\", \"Italy\", \"Russia\", \"Germany\", \"Brazil\", \"Turkey\", \"Iran\", \"Peru\", \"India\", \"Belgium\", \"Saudi Arabia\", \"Mexico\", \"Switzerland\", \"Ecuador\", \"Pakistan\", \"Portugal\", \"Chile\", \"Sweden\", \"Ireland\"], \"xaxis\": \"x\", \"y\": [241, 393, 3916, 11, 653, 13, 0, 3710, 1, 28, 108, 5, 5, 210, 13, 6, 13, 4, 101, 18], \"yaxis\": \"y\", \"type\": \"bar\"}, {\"alignmentgroup\": \"True\", \"hovertemplate\": \"type=death<br>date=3/6/20<br>country=%{x}<br>count=%{y}<extra></extra>\", \"legendgroup\": \"death\", \"marker\": {\"color\": \"#EF553B\"}, \"name\": \"death\", \"offsetgroup\": \"death\", \"orientation\": \"v\", \"showlegend\": true, \"textposition\": \"auto\", \"x\": [\"US\", \"Spain\", \"Italy\", \"Russia\", \"Germany\", \"Brazil\", \"Turkey\", \"Iran\", \"Peru\", \"India\", \"Belgium\", \"Saudi Arabia\", \"Mexico\", \"Switzerland\", \"Ecuador\", \"Pakistan\", \"Portugal\", \"Chile\", \"Sweden\", \"Ireland\"], \"xaxis\": \"x\", \"y\": [14, 5, 197, 0, 0, 0, 0, 124, 0, 0, 0, 0, 0, 1, 0, 0, 0, 0, 0, 0], \"yaxis\": \"y\", \"type\": \"bar\"}, {\"alignmentgroup\": \"True\", \"hovertemplate\": \"type=recovered<br>date=3/6/20<br>country=%{x}<br>count=%{y}<extra></extra>\", \"legendgroup\": \"recovered\", \"marker\": {\"color\": \"#00cc96\"}, \"name\": \"recovered\", \"offsetgroup\": \"recovered\", \"orientation\": \"v\", \"showlegend\": true, \"textposition\": \"auto\", \"x\": [\"US\", \"Spain\", \"Italy\", \"Russia\", \"Germany\", \"Brazil\", \"Turkey\", \"Iran\", \"Peru\", \"India\", \"Belgium\", \"Saudi Arabia\", \"Mexico\", \"Switzerland\", \"Ecuador\", \"Pakistan\", \"Portugal\", \"Chile\", \"Sweden\", \"Ireland\"], \"xaxis\": \"x\", \"y\": [7, 2, 523, 2, 17, 0, 0, 913, 0, 3, 1, 0, 1, 3, 0, 0, 0, 0, 0, 0], \"yaxis\": \"y\", \"type\": \"bar\"}], \"name\": \"3/6/20\"}, {\"data\": [{\"alignmentgroup\": \"True\", \"hovertemplate\": \"type=confirmed<br>date=3/7/20<br>country=%{x}<br>count=%{y}<extra></extra>\", \"legendgroup\": \"confirmed\", \"marker\": {\"color\": \"#636efa\"}, \"name\": \"confirmed\", \"offsetgroup\": \"confirmed\", \"orientation\": \"v\", \"showlegend\": true, \"textposition\": \"auto\", \"x\": [\"US\", \"Spain\", \"Italy\", \"Russia\", \"Germany\", \"Brazil\", \"Turkey\", \"Iran\", \"Peru\", \"India\", \"Belgium\", \"Saudi Arabia\", \"Mexico\", \"Switzerland\", \"Ecuador\", \"Pakistan\", \"Portugal\", \"Chile\", \"Sweden\", \"Ireland\"], \"xaxis\": \"x\", \"y\": [378, 460, 5061, 11, 781, 13, 0, 4009, 1, 31, 168, 5, 5, 264, 13, 6, 20, 4, 161, 18], \"yaxis\": \"y\", \"type\": \"bar\"}, {\"alignmentgroup\": \"True\", \"hovertemplate\": \"type=death<br>date=3/7/20<br>country=%{x}<br>count=%{y}<extra></extra>\", \"legendgroup\": \"death\", \"marker\": {\"color\": \"#EF553B\"}, \"name\": \"death\", \"offsetgroup\": \"death\", \"orientation\": \"v\", \"showlegend\": true, \"textposition\": \"auto\", \"x\": [\"US\", \"Spain\", \"Italy\", \"Russia\", \"Germany\", \"Brazil\", \"Turkey\", \"Iran\", \"Peru\", \"India\", \"Belgium\", \"Saudi Arabia\", \"Mexico\", \"Switzerland\", \"Ecuador\", \"Pakistan\", \"Portugal\", \"Chile\", \"Sweden\", \"Ireland\"], \"xaxis\": \"x\", \"y\": [17, 10, 233, 0, 0, 0, 0, 145, 0, 0, 0, 0, 0, 1, 0, 0, 0, 0, 0, 0], \"yaxis\": \"y\", \"type\": \"bar\"}, {\"alignmentgroup\": \"True\", \"hovertemplate\": \"type=recovered<br>date=3/7/20<br>country=%{x}<br>count=%{y}<extra></extra>\", \"legendgroup\": \"recovered\", \"marker\": {\"color\": \"#00cc96\"}, \"name\": \"recovered\", \"offsetgroup\": \"recovered\", \"orientation\": \"v\", \"showlegend\": true, \"textposition\": \"auto\", \"x\": [\"US\", \"Spain\", \"Italy\", \"Russia\", \"Germany\", \"Brazil\", \"Turkey\", \"Iran\", \"Peru\", \"India\", \"Belgium\", \"Saudi Arabia\", \"Mexico\", \"Switzerland\", \"Ecuador\", \"Pakistan\", \"Portugal\", \"Chile\", \"Sweden\", \"Ireland\"], \"xaxis\": \"x\", \"y\": [7, 30, 589, 2, 18, 0, 0, 1669, 0, 3, 1, 0, 1, 3, 0, 0, 0, 0, 0, 0], \"yaxis\": \"y\", \"type\": \"bar\"}], \"name\": \"3/7/20\"}, {\"data\": [{\"alignmentgroup\": \"True\", \"hovertemplate\": \"type=confirmed<br>date=3/8/20<br>country=%{x}<br>count=%{y}<extra></extra>\", \"legendgroup\": \"confirmed\", \"marker\": {\"color\": \"#636efa\"}, \"name\": \"confirmed\", \"offsetgroup\": \"confirmed\", \"orientation\": \"v\", \"showlegend\": true, \"textposition\": \"auto\", \"x\": [\"US\", \"Spain\", \"Italy\", \"Russia\", \"Germany\", \"Brazil\", \"Turkey\", \"Iran\", \"Peru\", \"India\", \"Belgium\", \"Saudi Arabia\", \"Mexico\", \"Switzerland\", \"Ecuador\", \"Pakistan\", \"Portugal\", \"Chile\", \"Sweden\", \"Ireland\"], \"xaxis\": \"x\", \"y\": [490, 626, 6387, 14, 1022, 20, 0, 4238, 6, 36, 199, 11, 6, 332, 14, 5, 30, 8, 203, 19], \"yaxis\": \"y\", \"type\": \"bar\"}, {\"alignmentgroup\": \"True\", \"hovertemplate\": \"type=death<br>date=3/8/20<br>country=%{x}<br>count=%{y}<extra></extra>\", \"legendgroup\": \"death\", \"marker\": {\"color\": \"#EF553B\"}, \"name\": \"death\", \"offsetgroup\": \"death\", \"orientation\": \"v\", \"showlegend\": true, \"textposition\": \"auto\", \"x\": [\"US\", \"Spain\", \"Italy\", \"Russia\", \"Germany\", \"Brazil\", \"Turkey\", \"Iran\", \"Peru\", \"India\", \"Belgium\", \"Saudi Arabia\", \"Mexico\", \"Switzerland\", \"Ecuador\", \"Pakistan\", \"Portugal\", \"Chile\", \"Sweden\", \"Ireland\"], \"xaxis\": \"x\", \"y\": [21, 17, 366, 0, 0, 0, 0, 194, 0, 0, 0, 0, 0, 2, 0, 0, 0, 0, 0, 0], \"yaxis\": \"y\", \"type\": \"bar\"}, {\"alignmentgroup\": \"True\", \"hovertemplate\": \"type=recovered<br>date=3/8/20<br>country=%{x}<br>count=%{y}<extra></extra>\", \"legendgroup\": \"recovered\", \"marker\": {\"color\": \"#00cc96\"}, \"name\": \"recovered\", \"offsetgroup\": \"recovered\", \"orientation\": \"v\", \"showlegend\": true, \"textposition\": \"auto\", \"x\": [\"US\", \"Spain\", \"Italy\", \"Russia\", \"Germany\", \"Brazil\", \"Turkey\", \"Iran\", \"Peru\", \"India\", \"Belgium\", \"Saudi Arabia\", \"Mexico\", \"Switzerland\", \"Ecuador\", \"Pakistan\", \"Portugal\", \"Chile\", \"Sweden\", \"Ireland\"], \"xaxis\": \"x\", \"y\": [7, 30, 622, 3, 18, 0, 0, 2134, 0, 3, 1, 0, 1, 3, 0, 1, 0, 0, 0, 0], \"yaxis\": \"y\", \"type\": \"bar\"}], \"name\": \"3/8/20\"}, {\"data\": [{\"alignmentgroup\": \"True\", \"hovertemplate\": \"type=confirmed<br>date=3/9/20<br>country=%{x}<br>count=%{y}<extra></extra>\", \"legendgroup\": \"confirmed\", \"marker\": {\"color\": \"#636efa\"}, \"name\": \"confirmed\", \"offsetgroup\": \"confirmed\", \"orientation\": \"v\", \"showlegend\": true, \"textposition\": \"auto\", \"x\": [\"US\", \"Spain\", \"Italy\", \"Russia\", \"Germany\", \"Brazil\", \"Turkey\", \"Iran\", \"Peru\", \"India\", \"Belgium\", \"Saudi Arabia\", \"Mexico\", \"Switzerland\", \"Ecuador\", \"Pakistan\", \"Portugal\", \"Chile\", \"Sweden\", \"Ireland\"], \"xaxis\": \"x\", \"y\": [554, 1013, 7985, 14, 1156, 25, 0, 4530, 7, 40, 238, 15, 6, 369, 15, 5, 30, 8, 247, 21], \"yaxis\": \"y\", \"type\": \"bar\"}, {\"alignmentgroup\": \"True\", \"hovertemplate\": \"type=death<br>date=3/9/20<br>country=%{x}<br>count=%{y}<extra></extra>\", \"legendgroup\": \"death\", \"marker\": {\"color\": \"#EF553B\"}, \"name\": \"death\", \"offsetgroup\": \"death\", \"orientation\": \"v\", \"showlegend\": true, \"textposition\": \"auto\", \"x\": [\"US\", \"Spain\", \"Italy\", \"Russia\", \"Germany\", \"Brazil\", \"Turkey\", \"Iran\", \"Peru\", \"India\", \"Belgium\", \"Saudi Arabia\", \"Mexico\", \"Switzerland\", \"Ecuador\", \"Pakistan\", \"Portugal\", \"Chile\", \"Sweden\", \"Ireland\"], \"xaxis\": \"x\", \"y\": [22, 28, 463, 0, 2, 0, 0, 237, 0, 0, 0, 0, 0, 2, 0, 0, 0, 0, 0, 0], \"yaxis\": \"y\", \"type\": \"bar\"}, {\"alignmentgroup\": \"True\", \"hovertemplate\": \"type=recovered<br>date=3/9/20<br>country=%{x}<br>count=%{y}<extra></extra>\", \"legendgroup\": \"recovered\", \"marker\": {\"color\": \"#00cc96\"}, \"name\": \"recovered\", \"offsetgroup\": \"recovered\", \"orientation\": \"v\", \"showlegend\": true, \"textposition\": \"auto\", \"x\": [\"US\", \"Spain\", \"Italy\", \"Russia\", \"Germany\", \"Brazil\", \"Turkey\", \"Iran\", \"Peru\", \"India\", \"Belgium\", \"Saudi Arabia\", \"Mexico\", \"Switzerland\", \"Ecuador\", \"Pakistan\", \"Portugal\", \"Chile\", \"Sweden\", \"Ireland\"], \"xaxis\": \"x\", \"y\": [7, 32, 724, 3, 18, 0, 0, 2394, 0, 3, 1, 0, 1, 3, 0, 1, 0, 0, 1, 0], \"yaxis\": \"y\", \"type\": \"bar\"}], \"name\": \"3/9/20\"}, {\"data\": [{\"alignmentgroup\": \"True\", \"hovertemplate\": \"type=confirmed<br>date=3/10/20<br>country=%{x}<br>count=%{y}<extra></extra>\", \"legendgroup\": \"confirmed\", \"marker\": {\"color\": \"#636efa\"}, \"name\": \"confirmed\", \"offsetgroup\": \"confirmed\", \"orientation\": \"v\", \"showlegend\": true, \"textposition\": \"auto\", \"x\": [\"US\", \"Spain\", \"Italy\", \"Russia\", \"Germany\", \"Brazil\", \"Turkey\", \"Iran\", \"Peru\", \"India\", \"Belgium\", \"Saudi Arabia\", \"Mexico\", \"Switzerland\", \"Ecuador\", \"Pakistan\", \"Portugal\", \"Chile\", \"Sweden\", \"Ireland\"], \"xaxis\": \"x\", \"y\": [923, 1628, 8794, 17, 1437, 31, 0, 5020, 11, 52, 266, 19, 3, 485, 15, 15, 41, 13, 354, 34], \"yaxis\": \"y\", \"type\": \"bar\"}, {\"alignmentgroup\": \"True\", \"hovertemplate\": \"type=death<br>date=3/10/20<br>country=%{x}<br>count=%{y}<extra></extra>\", \"legendgroup\": \"death\", \"marker\": {\"color\": \"#EF553B\"}, \"name\": \"death\", \"offsetgroup\": \"death\", \"orientation\": \"v\", \"showlegend\": true, \"textposition\": \"auto\", \"x\": [\"US\", \"Spain\", \"Italy\", \"Russia\", \"Germany\", \"Brazil\", \"Turkey\", \"Iran\", \"Peru\", \"India\", \"Belgium\", \"Saudi Arabia\", \"Mexico\", \"Switzerland\", \"Ecuador\", \"Pakistan\", \"Portugal\", \"Chile\", \"Sweden\", \"Ireland\"], \"xaxis\": \"x\", \"y\": [28, 35, 631, 0, 2, 0, 0, 291, 0, 0, 0, 0, 0, 3, 0, 0, 0, 0, 0, 0], \"yaxis\": \"y\", \"type\": \"bar\"}, {\"alignmentgroup\": \"True\", \"hovertemplate\": \"type=recovered<br>date=3/10/20<br>country=%{x}<br>count=%{y}<extra></extra>\", \"legendgroup\": \"recovered\", \"marker\": {\"color\": \"#00cc96\"}, \"name\": \"recovered\", \"offsetgroup\": \"recovered\", \"orientation\": \"v\", \"showlegend\": true, \"textposition\": \"auto\", \"x\": [\"US\", \"Spain\", \"Italy\", \"Russia\", \"Germany\", \"Brazil\", \"Turkey\", \"Iran\", \"Peru\", \"India\", \"Belgium\", \"Saudi Arabia\", \"Mexico\", \"Switzerland\", \"Ecuador\", \"Pakistan\", \"Portugal\", \"Chile\", \"Sweden\", \"Ireland\"], \"xaxis\": \"x\", \"y\": [8, 32, 724, 3, 18, 0, 0, 2731, 0, 4, 1, 1, 4, 3, 0, 1, 0, 0, 1, 0], \"yaxis\": \"y\", \"type\": \"bar\"}], \"name\": \"3/10/20\"}, {\"data\": [{\"alignmentgroup\": \"True\", \"hovertemplate\": \"type=confirmed<br>date=3/11/20<br>country=%{x}<br>count=%{y}<extra></extra>\", \"legendgroup\": \"confirmed\", \"marker\": {\"color\": \"#636efa\"}, \"name\": \"confirmed\", \"offsetgroup\": \"confirmed\", \"orientation\": \"v\", \"showlegend\": true, \"textposition\": \"auto\", \"x\": [\"US\", \"Spain\", \"Italy\", \"Russia\", \"Germany\", \"Brazil\", \"Turkey\", \"Iran\", \"Peru\", \"India\", \"Belgium\", \"Saudi Arabia\", \"Mexico\", \"Switzerland\", \"Ecuador\", \"Pakistan\", \"Portugal\", \"Chile\", \"Sweden\", \"Ireland\"], \"xaxis\": \"x\", \"y\": [1237, 2040, 10590, 17, 1880, 38, 1, 5687, 11, 57, 310, 20, 4, 644, 17, 17, 59, 23, 498, 42], \"yaxis\": \"y\", \"type\": \"bar\"}, {\"alignmentgroup\": \"True\", \"hovertemplate\": \"type=death<br>date=3/11/20<br>country=%{x}<br>count=%{y}<extra></extra>\", \"legendgroup\": \"death\", \"marker\": {\"color\": \"#EF553B\"}, \"name\": \"death\", \"offsetgroup\": \"death\", \"orientation\": \"v\", \"showlegend\": true, \"textposition\": \"auto\", \"x\": [\"US\", \"Spain\", \"Italy\", \"Russia\", \"Germany\", \"Brazil\", \"Turkey\", \"Iran\", \"Peru\", \"India\", \"Belgium\", \"Saudi Arabia\", \"Mexico\", \"Switzerland\", \"Ecuador\", \"Pakistan\", \"Portugal\", \"Chile\", \"Sweden\", \"Ireland\"], \"xaxis\": \"x\", \"y\": [36, 54, 827, 0, 3, 0, 0, 354, 0, 1, 3, 0, 0, 4, 0, 0, 0, 0, 1, 1], \"yaxis\": \"y\", \"type\": \"bar\"}, {\"alignmentgroup\": \"True\", \"hovertemplate\": \"type=recovered<br>date=3/11/20<br>country=%{x}<br>count=%{y}<extra></extra>\", \"legendgroup\": \"recovered\", \"marker\": {\"color\": \"#00cc96\"}, \"name\": \"recovered\", \"offsetgroup\": \"recovered\", \"orientation\": \"v\", \"showlegend\": true, \"textposition\": \"auto\", \"x\": [\"US\", \"Spain\", \"Italy\", \"Russia\", \"Germany\", \"Brazil\", \"Turkey\", \"Iran\", \"Peru\", \"India\", \"Belgium\", \"Saudi Arabia\", \"Mexico\", \"Switzerland\", \"Ecuador\", \"Pakistan\", \"Portugal\", \"Chile\", \"Sweden\", \"Ireland\"], \"xaxis\": \"x\", \"y\": [8, 183, 1045, 3, 25, 0, 0, 2959, 0, 4, 1, 1, 4, 4, 0, 2, 0, 0, 1, 0], \"yaxis\": \"y\", \"type\": \"bar\"}], \"name\": \"3/11/20\"}, {\"data\": [{\"alignmentgroup\": \"True\", \"hovertemplate\": \"type=confirmed<br>date=3/12/20<br>country=%{x}<br>count=%{y}<extra></extra>\", \"legendgroup\": \"confirmed\", \"marker\": {\"color\": \"#636efa\"}, \"name\": \"confirmed\", \"offsetgroup\": \"confirmed\", \"orientation\": \"v\", \"showlegend\": true, \"textposition\": \"auto\", \"x\": [\"US\", \"Spain\", \"Italy\", \"Russia\", \"Germany\", \"Brazil\", \"Turkey\", \"Iran\", \"Peru\", \"India\", \"Belgium\", \"Saudi Arabia\", \"Mexico\", \"Switzerland\", \"Ecuador\", \"Pakistan\", \"Portugal\", \"Chile\", \"Sweden\", \"Ireland\"], \"xaxis\": \"x\", \"y\": [1610, 2039, 10590, 25, 2050, 52, 1, 6687, 15, 68, 310, 44, 8, 644, 17, 18, 59, 23, 597, 42], \"yaxis\": \"y\", \"type\": \"bar\"}, {\"alignmentgroup\": \"True\", \"hovertemplate\": \"type=death<br>date=3/12/20<br>country=%{x}<br>count=%{y}<extra></extra>\", \"legendgroup\": \"death\", \"marker\": {\"color\": \"#EF553B\"}, \"name\": \"death\", \"offsetgroup\": \"death\", \"orientation\": \"v\", \"showlegend\": true, \"textposition\": \"auto\", \"x\": [\"US\", \"Spain\", \"Italy\", \"Russia\", \"Germany\", \"Brazil\", \"Turkey\", \"Iran\", \"Peru\", \"India\", \"Belgium\", \"Saudi Arabia\", \"Mexico\", \"Switzerland\", \"Ecuador\", \"Pakistan\", \"Portugal\", \"Chile\", \"Sweden\", \"Ireland\"], \"xaxis\": \"x\", \"y\": [41, 55, 827, 0, 3, 0, 0, 429, 0, 1, 3, 0, 0, 4, 0, 0, 0, 0, 1, 1], \"yaxis\": \"y\", \"type\": \"bar\"}, {\"alignmentgroup\": \"True\", \"hovertemplate\": \"type=recovered<br>date=3/12/20<br>country=%{x}<br>count=%{y}<extra></extra>\", \"legendgroup\": \"recovered\", \"marker\": {\"color\": \"#00cc96\"}, \"name\": \"recovered\", \"offsetgroup\": \"recovered\", \"orientation\": \"v\", \"showlegend\": true, \"textposition\": \"auto\", \"x\": [\"US\", \"Spain\", \"Italy\", \"Russia\", \"Germany\", \"Brazil\", \"Turkey\", \"Iran\", \"Peru\", \"India\", \"Belgium\", \"Saudi Arabia\", \"Mexico\", \"Switzerland\", \"Ecuador\", \"Pakistan\", \"Portugal\", \"Chile\", \"Sweden\", \"Ireland\"], \"xaxis\": \"x\", \"y\": [12, 183, 1045, 3, 25, 0, 0, 2959, 0, 4, 1, 1, 4, 4, 0, 2, 0, 0, 1, 0], \"yaxis\": \"y\", \"type\": \"bar\"}], \"name\": \"3/12/20\"}, {\"data\": [{\"alignmentgroup\": \"True\", \"hovertemplate\": \"type=confirmed<br>date=3/13/20<br>country=%{x}<br>count=%{y}<extra></extra>\", \"legendgroup\": \"confirmed\", \"marker\": {\"color\": \"#636efa\"}, \"name\": \"confirmed\", \"offsetgroup\": \"confirmed\", \"orientation\": \"v\", \"showlegend\": true, \"textposition\": \"auto\", \"x\": [\"US\", \"Spain\", \"Italy\", \"Russia\", \"Germany\", \"Brazil\", \"Turkey\", \"Iran\", \"Peru\", \"India\", \"Belgium\", \"Saudi Arabia\", \"Mexico\", \"Switzerland\", \"Ecuador\", \"Pakistan\", \"Portugal\", \"Chile\", \"Sweden\", \"Ireland\"], \"xaxis\": \"x\", \"y\": [2118, 4906, 14955, 42, 3622, 151, 5, 7891, 28, 76, 555, 85, 22, 1124, 17, 26, 111, 43, 812, 89], \"yaxis\": \"y\", \"type\": \"bar\"}, {\"alignmentgroup\": \"True\", \"hovertemplate\": \"type=death<br>date=3/13/20<br>country=%{x}<br>count=%{y}<extra></extra>\", \"legendgroup\": \"death\", \"marker\": {\"color\": \"#EF553B\"}, \"name\": \"death\", \"offsetgroup\": \"death\", \"orientation\": \"v\", \"showlegend\": true, \"textposition\": \"auto\", \"x\": [\"US\", \"Spain\", \"Italy\", \"Russia\", \"Germany\", \"Brazil\", \"Turkey\", \"Iran\", \"Peru\", \"India\", \"Belgium\", \"Saudi Arabia\", \"Mexico\", \"Switzerland\", \"Ecuador\", \"Pakistan\", \"Portugal\", \"Chile\", \"Sweden\", \"Ireland\"], \"xaxis\": \"x\", \"y\": [49, 133, 1266, 0, 7, 0, 0, 514, 0, 2, 3, 0, 0, 11, 0, 0, 0, 0, 1, 1], \"yaxis\": \"y\", \"type\": \"bar\"}, {\"alignmentgroup\": \"True\", \"hovertemplate\": \"type=recovered<br>date=3/13/20<br>country=%{x}<br>count=%{y}<extra></extra>\", \"legendgroup\": \"recovered\", \"marker\": {\"color\": \"#00cc96\"}, \"name\": \"recovered\", \"offsetgroup\": \"recovered\", \"orientation\": \"v\", \"showlegend\": true, \"textposition\": \"auto\", \"x\": [\"US\", \"Spain\", \"Italy\", \"Russia\", \"Germany\", \"Brazil\", \"Turkey\", \"Iran\", \"Peru\", \"India\", \"Belgium\", \"Saudi Arabia\", \"Mexico\", \"Switzerland\", \"Ecuador\", \"Pakistan\", \"Portugal\", \"Chile\", \"Sweden\", \"Ireland\"], \"xaxis\": \"x\", \"y\": [12, 193, 1439, 3, 46, 0, 0, 2959, 0, 4, 1, 1, 4, 4, 0, 2, 1, 0, 1, 0], \"yaxis\": \"y\", \"type\": \"bar\"}], \"name\": \"3/13/20\"}, {\"data\": [{\"alignmentgroup\": \"True\", \"hovertemplate\": \"type=confirmed<br>date=3/14/20<br>country=%{x}<br>count=%{y}<extra></extra>\", \"legendgroup\": \"confirmed\", \"marker\": {\"color\": \"#636efa\"}, \"name\": \"confirmed\", \"offsetgroup\": \"confirmed\", \"orientation\": \"v\", \"showlegend\": true, \"textposition\": \"auto\", \"x\": [\"US\", \"Spain\", \"Italy\", \"Russia\", \"Germany\", \"Brazil\", \"Turkey\", \"Iran\", \"Peru\", \"India\", \"Belgium\", \"Saudi Arabia\", \"Mexico\", \"Switzerland\", \"Ecuador\", \"Pakistan\", \"Portugal\", \"Chile\", \"Sweden\", \"Ireland\"], \"xaxis\": \"x\", \"y\": [2657, 5679, 17750, 51, 4530, 151, 5, 9159, 38, 96, 684, 102, 37, 1342, 26, 29, 167, 61, 958, 127], \"yaxis\": \"y\", \"type\": \"bar\"}, {\"alignmentgroup\": \"True\", \"hovertemplate\": \"type=death<br>date=3/14/20<br>country=%{x}<br>count=%{y}<extra></extra>\", \"legendgroup\": \"death\", \"marker\": {\"color\": \"#EF553B\"}, \"name\": \"death\", \"offsetgroup\": \"death\", \"orientation\": \"v\", \"showlegend\": true, \"textposition\": \"auto\", \"x\": [\"US\", \"Spain\", \"Italy\", \"Russia\", \"Germany\", \"Brazil\", \"Turkey\", \"Iran\", \"Peru\", \"India\", \"Belgium\", \"Saudi Arabia\", \"Mexico\", \"Switzerland\", \"Ecuador\", \"Pakistan\", \"Portugal\", \"Chile\", \"Sweden\", \"Ireland\"], \"xaxis\": \"x\", \"y\": [58, 195, 1441, 0, 9, 0, 0, 611, 0, 2, 4, 0, 0, 13, 2, 0, 0, 0, 2, 2], \"yaxis\": \"y\", \"type\": \"bar\"}, {\"alignmentgroup\": \"True\", \"hovertemplate\": \"type=recovered<br>date=3/14/20<br>country=%{x}<br>count=%{y}<extra></extra>\", \"legendgroup\": \"recovered\", \"marker\": {\"color\": \"#00cc96\"}, \"name\": \"recovered\", \"offsetgroup\": \"recovered\", \"orientation\": \"v\", \"showlegend\": true, \"textposition\": \"auto\", \"x\": [\"US\", \"Spain\", \"Italy\", \"Russia\", \"Germany\", \"Brazil\", \"Turkey\", \"Iran\", \"Peru\", \"India\", \"Belgium\", \"Saudi Arabia\", \"Mexico\", \"Switzerland\", \"Ecuador\", \"Pakistan\", \"Portugal\", \"Chile\", \"Sweden\", \"Ireland\"], \"xaxis\": \"x\", \"y\": [12, 517, 1966, 8, 46, 0, 0, 2959, 0, 4, 1, 1, 4, 4, 0, 2, 2, 0, 1, 0], \"yaxis\": \"y\", \"type\": \"bar\"}], \"name\": \"3/14/20\"}, {\"data\": [{\"alignmentgroup\": \"True\", \"hovertemplate\": \"type=confirmed<br>date=3/15/20<br>country=%{x}<br>count=%{y}<extra></extra>\", \"legendgroup\": \"confirmed\", \"marker\": {\"color\": \"#636efa\"}, \"name\": \"confirmed\", \"offsetgroup\": \"confirmed\", \"orientation\": \"v\", \"showlegend\": true, \"textposition\": \"auto\", \"x\": [\"US\", \"Spain\", \"Italy\", \"Russia\", \"Germany\", \"Brazil\", \"Turkey\", \"Iran\", \"Peru\", \"India\", \"Belgium\", \"Saudi Arabia\", \"Mexico\", \"Switzerland\", \"Ecuador\", \"Pakistan\", \"Portugal\", \"Chile\", \"Sweden\", \"Ireland\"], \"xaxis\": \"x\", \"y\": [3414, 6992, 20603, 55, 5738, 162, 6, 8624, 43, 98, 881, 102, 49, 2182, 26, 51, 243, 74, 1018, 127], \"yaxis\": \"y\", \"type\": \"bar\"}, {\"alignmentgroup\": \"True\", \"hovertemplate\": \"type=death<br>date=3/15/20<br>country=%{x}<br>count=%{y}<extra></extra>\", \"legendgroup\": \"death\", \"marker\": {\"color\": \"#EF553B\"}, \"name\": \"death\", \"offsetgroup\": \"death\", \"orientation\": \"v\", \"showlegend\": true, \"textposition\": \"auto\", \"x\": [\"US\", \"Spain\", \"Italy\", \"Russia\", \"Germany\", \"Brazil\", \"Turkey\", \"Iran\", \"Peru\", \"India\", \"Belgium\", \"Saudi Arabia\", \"Mexico\", \"Switzerland\", \"Ecuador\", \"Pakistan\", \"Portugal\", \"Chile\", \"Sweden\", \"Ireland\"], \"xaxis\": \"x\", \"y\": [73, 289, 1809, 0, 11, 0, 0, 724, 0, 2, 4, 0, 0, 14, 2, 0, 0, 0, 3, 2], \"yaxis\": \"y\", \"type\": \"bar\"}, {\"alignmentgroup\": \"True\", \"hovertemplate\": \"type=recovered<br>date=3/15/20<br>country=%{x}<br>count=%{y}<extra></extra>\", \"legendgroup\": \"recovered\", \"marker\": {\"color\": \"#00cc96\"}, \"name\": \"recovered\", \"offsetgroup\": \"recovered\", \"orientation\": \"v\", \"showlegend\": true, \"textposition\": \"auto\", \"x\": [\"US\", \"Spain\", \"Italy\", \"Russia\", \"Germany\", \"Brazil\", \"Turkey\", \"Iran\", \"Peru\", \"India\", \"Belgium\", \"Saudi Arabia\", \"Mexico\", \"Switzerland\", \"Ecuador\", \"Pakistan\", \"Portugal\", \"Chile\", \"Sweden\", \"Ireland\"], \"xaxis\": \"x\", \"y\": [12, 517, 2335, 8, 46, 0, 0, 4590, 0, 13, 1, 1, 4, 4, 0, 2, 2, 0, 1, 0], \"yaxis\": \"y\", \"type\": \"bar\"}], \"name\": \"3/15/20\"}, {\"data\": [{\"alignmentgroup\": \"True\", \"hovertemplate\": \"type=confirmed<br>date=3/16/20<br>country=%{x}<br>count=%{y}<extra></extra>\", \"legendgroup\": \"confirmed\", \"marker\": {\"color\": \"#636efa\"}, \"name\": \"confirmed\", \"offsetgroup\": \"confirmed\", \"orientation\": \"v\", \"showlegend\": true, \"textposition\": \"auto\", \"x\": [\"US\", \"Spain\", \"Italy\", \"Russia\", \"Germany\", \"Brazil\", \"Turkey\", \"Iran\", \"Peru\", \"India\", \"Belgium\", \"Saudi Arabia\", \"Mexico\", \"Switzerland\", \"Ecuador\", \"Pakistan\", \"Portugal\", \"Chile\", \"Sweden\", \"Ireland\"], \"xaxis\": \"x\", \"y\": [4516, 9070, 23073, 82, 7188, 199, 18, 9548, 86, 104, 1052, 116, 78, 2182, 35, 134, 328, 155, 1096, 167], \"yaxis\": \"y\", \"type\": \"bar\"}, {\"alignmentgroup\": \"True\", \"hovertemplate\": \"type=death<br>date=3/16/20<br>country=%{x}<br>count=%{y}<extra></extra>\", \"legendgroup\": \"death\", \"marker\": {\"color\": \"#EF553B\"}, \"name\": \"death\", \"offsetgroup\": \"death\", \"orientation\": \"v\", \"showlegend\": true, \"textposition\": \"auto\", \"x\": [\"US\", \"Spain\", \"Italy\", \"Russia\", \"Germany\", \"Brazil\", \"Turkey\", \"Iran\", \"Peru\", \"India\", \"Belgium\", \"Saudi Arabia\", \"Mexico\", \"Switzerland\", \"Ecuador\", \"Pakistan\", \"Portugal\", \"Chile\", \"Sweden\", \"Ireland\"], \"xaxis\": \"x\", \"y\": [99, 342, 2158, 0, 17, 0, 0, 853, 0, 2, 5, 0, 0, 14, 2, 0, 0, 0, 6, 2], \"yaxis\": \"y\", \"type\": \"bar\"}, {\"alignmentgroup\": \"True\", \"hovertemplate\": \"type=recovered<br>date=3/16/20<br>country=%{x}<br>count=%{y}<extra></extra>\", \"legendgroup\": \"recovered\", \"marker\": {\"color\": \"#00cc96\"}, \"name\": \"recovered\", \"offsetgroup\": \"recovered\", \"orientation\": \"v\", \"showlegend\": true, \"textposition\": \"auto\", \"x\": [\"US\", \"Spain\", \"Italy\", \"Russia\", \"Germany\", \"Brazil\", \"Turkey\", \"Iran\", \"Peru\", \"India\", \"Belgium\", \"Saudi Arabia\", \"Mexico\", \"Switzerland\", \"Ecuador\", \"Pakistan\", \"Portugal\", \"Chile\", \"Sweden\", \"Ireland\"], \"xaxis\": \"x\", \"y\": [17, 530, 2749, 8, 67, 1, 0, 4590, 0, 13, 1, 2, 4, 4, 0, 2, 3, 0, 1, 0], \"yaxis\": \"y\", \"type\": \"bar\"}], \"name\": \"3/16/20\"}, {\"data\": [{\"alignmentgroup\": \"True\", \"hovertemplate\": \"type=confirmed<br>date=3/17/20<br>country=%{x}<br>count=%{y}<extra></extra>\", \"legendgroup\": \"confirmed\", \"marker\": {\"color\": \"#636efa\"}, \"name\": \"confirmed\", \"offsetgroup\": \"confirmed\", \"orientation\": \"v\", \"showlegend\": true, \"textposition\": \"auto\", \"x\": [\"US\", \"Spain\", \"Italy\", \"Russia\", \"Germany\", \"Brazil\", \"Turkey\", \"Iran\", \"Peru\", \"India\", \"Belgium\", \"Saudi Arabia\", \"Mexico\", \"Switzerland\", \"Ecuador\", \"Pakistan\", \"Portugal\", \"Chile\", \"Sweden\", \"Ireland\"], \"xaxis\": \"x\", \"y\": [6271, 10187, 26062, 106, 9166, 318, 46, 9792, 116, 125, 1232, 165, 89, 2669, 56, 234, 444, 201, 1182, 216], \"yaxis\": \"y\", \"type\": \"bar\"}, {\"alignmentgroup\": \"True\", \"hovertemplate\": \"type=death<br>date=3/17/20<br>country=%{x}<br>count=%{y}<extra></extra>\", \"legendgroup\": \"death\", \"marker\": {\"color\": \"#EF553B\"}, \"name\": \"death\", \"offsetgroup\": \"death\", \"orientation\": \"v\", \"showlegend\": true, \"textposition\": \"auto\", \"x\": [\"US\", \"Spain\", \"Italy\", \"Russia\", \"Germany\", \"Brazil\", \"Turkey\", \"Iran\", \"Peru\", \"India\", \"Belgium\", \"Saudi Arabia\", \"Mexico\", \"Switzerland\", \"Ecuador\", \"Pakistan\", \"Portugal\", \"Chile\", \"Sweden\", \"Ireland\"], \"xaxis\": \"x\", \"y\": [133, 533, 2503, 0, 24, 1, 1, 988, 0, 3, 10, 0, 0, 27, 2, 0, 1, 0, 7, 2], \"yaxis\": \"y\", \"type\": \"bar\"}, {\"alignmentgroup\": \"True\", \"hovertemplate\": \"type=recovered<br>date=3/17/20<br>country=%{x}<br>count=%{y}<extra></extra>\", \"legendgroup\": \"recovered\", \"marker\": {\"color\": \"#00cc96\"}, \"name\": \"recovered\", \"offsetgroup\": \"recovered\", \"orientation\": \"v\", \"showlegend\": true, \"textposition\": \"auto\", \"x\": [\"US\", \"Spain\", \"Italy\", \"Russia\", \"Germany\", \"Brazil\", \"Turkey\", \"Iran\", \"Peru\", \"India\", \"Belgium\", \"Saudi Arabia\", \"Mexico\", \"Switzerland\", \"Ecuador\", \"Pakistan\", \"Portugal\", \"Chile\", \"Sweden\", \"Ireland\"], \"xaxis\": \"x\", \"y\": [17, 1028, 2941, 8, 67, 2, 0, 5389, 1, 14, 1, 6, 4, 4, 0, 2, 3, 0, 1, 5], \"yaxis\": \"y\", \"type\": \"bar\"}], \"name\": \"3/17/20\"}, {\"data\": [{\"alignmentgroup\": \"True\", \"hovertemplate\": \"type=confirmed<br>date=3/18/20<br>country=%{x}<br>count=%{y}<extra></extra>\", \"legendgroup\": \"confirmed\", \"marker\": {\"color\": \"#636efa\"}, \"name\": \"confirmed\", \"offsetgroup\": \"confirmed\", \"orientation\": \"v\", \"showlegend\": true, \"textposition\": \"auto\", \"x\": [\"US\", \"Spain\", \"Italy\", \"Russia\", \"Germany\", \"Brazil\", \"Turkey\", \"Iran\", \"Peru\", \"India\", \"Belgium\", \"Saudi Arabia\", \"Mexico\", \"Switzerland\", \"Ecuador\", \"Pakistan\", \"Portugal\", \"Chile\", \"Sweden\", \"Ireland\"], \"xaxis\": \"x\", \"y\": [7514, 12206, 28710, 139, 12194, 367, 97, 10837, 144, 139, 1441, 165, 114, 2985, 109, 297, 443, 238, 1268, 285], \"yaxis\": \"y\", \"type\": \"bar\"}, {\"alignmentgroup\": \"True\", \"hovertemplate\": \"type=death<br>date=3/18/20<br>country=%{x}<br>count=%{y}<extra></extra>\", \"legendgroup\": \"death\", \"marker\": {\"color\": \"#EF553B\"}, \"name\": \"death\", \"offsetgroup\": \"death\", \"orientation\": \"v\", \"showlegend\": true, \"textposition\": \"auto\", \"x\": [\"US\", \"Spain\", \"Italy\", \"Russia\", \"Germany\", \"Brazil\", \"Turkey\", \"Iran\", \"Peru\", \"India\", \"Belgium\", \"Saudi Arabia\", \"Mexico\", \"Switzerland\", \"Ecuador\", \"Pakistan\", \"Portugal\", \"Chile\", \"Sweden\", \"Ireland\"], \"xaxis\": \"x\", \"y\": [164, 623, 2978, 0, 28, 3, 1, 1135, 0, 3, 14, 0, 0, 28, 2, 0, 2, 0, 10, 2], \"yaxis\": \"y\", \"type\": \"bar\"}, {\"alignmentgroup\": \"True\", \"hovertemplate\": \"type=recovered<br>date=3/18/20<br>country=%{x}<br>count=%{y}<extra></extra>\", \"legendgroup\": \"recovered\", \"marker\": {\"color\": \"#00cc96\"}, \"name\": \"recovered\", \"offsetgroup\": \"recovered\", \"orientation\": \"v\", \"showlegend\": true, \"textposition\": \"auto\", \"x\": [\"US\", \"Spain\", \"Italy\", \"Russia\", \"Germany\", \"Brazil\", \"Turkey\", \"Iran\", \"Peru\", \"India\", \"Belgium\", \"Saudi Arabia\", \"Mexico\", \"Switzerland\", \"Ecuador\", \"Pakistan\", \"Portugal\", \"Chile\", \"Sweden\", \"Ireland\"], \"xaxis\": \"x\", \"y\": [105, 1081, 4025, 8, 105, 2, 0, 5389, 1, 14, 31, 6, 4, 15, 0, 2, 3, 0, 1, 5], \"yaxis\": \"y\", \"type\": \"bar\"}], \"name\": \"3/18/20\"}, {\"data\": [{\"alignmentgroup\": \"True\", \"hovertemplate\": \"type=confirmed<br>date=3/19/20<br>country=%{x}<br>count=%{y}<extra></extra>\", \"legendgroup\": \"confirmed\", \"marker\": {\"color\": \"#636efa\"}, \"name\": \"confirmed\", \"offsetgroup\": \"confirmed\", \"orientation\": \"v\", \"showlegend\": true, \"textposition\": \"auto\", \"x\": [\"US\", \"Spain\", \"Italy\", \"Russia\", \"Germany\", \"Brazil\", \"Turkey\", \"Iran\", \"Peru\", \"India\", \"Belgium\", \"Saudi Arabia\", \"Mexico\", \"Switzerland\", \"Ecuador\", \"Pakistan\", \"Portugal\", \"Chile\", \"Sweden\", \"Ireland\"], \"xaxis\": \"x\", \"y\": [13368, 16026, 33190, 189, 15163, 613, 189, 11413, 233, 175, 1743, 268, 159, 4019, 196, 439, 779, 238, 1412, 549], \"yaxis\": \"y\", \"type\": \"bar\"}, {\"alignmentgroup\": \"True\", \"hovertemplate\": \"type=death<br>date=3/19/20<br>country=%{x}<br>count=%{y}<extra></extra>\", \"legendgroup\": \"death\", \"marker\": {\"color\": \"#EF553B\"}, \"name\": \"death\", \"offsetgroup\": \"death\", \"orientation\": \"v\", \"showlegend\": true, \"textposition\": \"auto\", \"x\": [\"US\", \"Spain\", \"Italy\", \"Russia\", \"Germany\", \"Brazil\", \"Turkey\", \"Iran\", \"Peru\", \"India\", \"Belgium\", \"Saudi Arabia\", \"Mexico\", \"Switzerland\", \"Ecuador\", \"Pakistan\", \"Portugal\", \"Chile\", \"Sweden\", \"Ireland\"], \"xaxis\": \"x\", \"y\": [258, 830, 3405, 1, 44, 6, 3, 1284, 0, 4, 21, 0, 1, 41, 3, 2, 3, 0, 11, 3], \"yaxis\": \"y\", \"type\": \"bar\"}, {\"alignmentgroup\": \"True\", \"hovertemplate\": \"type=recovered<br>date=3/19/20<br>country=%{x}<br>count=%{y}<extra></extra>\", \"legendgroup\": \"recovered\", \"marker\": {\"color\": \"#00cc96\"}, \"name\": \"recovered\", \"offsetgroup\": \"recovered\", \"orientation\": \"v\", \"showlegend\": true, \"textposition\": \"auto\", \"x\": [\"US\", \"Spain\", \"Italy\", \"Russia\", \"Germany\", \"Brazil\", \"Turkey\", \"Iran\", \"Peru\", \"India\", \"Belgium\", \"Saudi Arabia\", \"Mexico\", \"Switzerland\", \"Ecuador\", \"Pakistan\", \"Portugal\", \"Chile\", \"Sweden\", \"Ireland\"], \"xaxis\": \"x\", \"y\": [121, 1107, 4440, 9, 113, 2, 0, 5710, 1, 15, 31, 6, 4, 15, 0, 13, 3, 0, 16, 5], \"yaxis\": \"y\", \"type\": \"bar\"}], \"name\": \"3/19/20\"}, {\"data\": [{\"alignmentgroup\": \"True\", \"hovertemplate\": \"type=confirmed<br>date=3/20/20<br>country=%{x}<br>count=%{y}<extra></extra>\", \"legendgroup\": \"confirmed\", \"marker\": {\"color\": \"#636efa\"}, \"name\": \"confirmed\", \"offsetgroup\": \"confirmed\", \"orientation\": \"v\", \"showlegend\": true, \"textposition\": \"auto\", \"x\": [\"US\", \"Spain\", \"Italy\", \"Russia\", \"Germany\", \"Brazil\", \"Turkey\", \"Iran\", \"Peru\", \"India\", \"Belgium\", \"Saudi Arabia\", \"Mexico\", \"Switzerland\", \"Ecuador\", \"Pakistan\", \"Portugal\", \"Chile\", \"Sweden\", \"Ireland\"], \"xaxis\": \"x\", \"y\": [18777, 17779, 38549, 243, 19601, 780, 355, 11466, 230, 219, 2219, 336, 197, 5225, 362, 485, 1009, 428, 1607, 675], \"yaxis\": \"y\", \"type\": \"bar\"}, {\"alignmentgroup\": \"True\", \"hovertemplate\": \"type=death<br>date=3/20/20<br>country=%{x}<br>count=%{y}<extra></extra>\", \"legendgroup\": \"death\", \"marker\": {\"color\": \"#EF553B\"}, \"name\": \"death\", \"offsetgroup\": \"death\", \"orientation\": \"v\", \"showlegend\": true, \"textposition\": \"auto\", \"x\": [\"US\", \"Spain\", \"Italy\", \"Russia\", \"Germany\", \"Brazil\", \"Turkey\", \"Iran\", \"Peru\", \"India\", \"Belgium\", \"Saudi Arabia\", \"Mexico\", \"Switzerland\", \"Ecuador\", \"Pakistan\", \"Portugal\", \"Chile\", \"Sweden\", \"Ireland\"], \"xaxis\": \"x\", \"y\": [349, 1043, 4032, 1, 67, 11, 4, 1433, 3, 5, 37, 0, 2, 54, 5, 3, 6, 0, 16, 3], \"yaxis\": \"y\", \"type\": \"bar\"}, {\"alignmentgroup\": \"True\", \"hovertemplate\": \"type=recovered<br>date=3/20/20<br>country=%{x}<br>count=%{y}<extra></extra>\", \"legendgroup\": \"recovered\", \"marker\": {\"color\": \"#00cc96\"}, \"name\": \"recovered\", \"offsetgroup\": \"recovered\", \"orientation\": \"v\", \"showlegend\": true, \"textposition\": \"auto\", \"x\": [\"US\", \"Spain\", \"Italy\", \"Russia\", \"Germany\", \"Brazil\", \"Turkey\", \"Iran\", \"Peru\", \"India\", \"Belgium\", \"Saudi Arabia\", \"Mexico\", \"Switzerland\", \"Ecuador\", \"Pakistan\", \"Portugal\", \"Chile\", \"Sweden\", \"Ireland\"], \"xaxis\": \"x\", \"y\": [147, 1588, 4440, 9, 180, 2, 0, 6745, 1, 20, 1, 8, 4, 15, 0, 13, 5, 6, 16, 5], \"yaxis\": \"y\", \"type\": \"bar\"}], \"name\": \"3/20/20\"}, {\"data\": [{\"alignmentgroup\": \"True\", \"hovertemplate\": \"type=confirmed<br>date=3/21/20<br>country=%{x}<br>count=%{y}<extra></extra>\", \"legendgroup\": \"confirmed\", \"marker\": {\"color\": \"#636efa\"}, \"name\": \"confirmed\", \"offsetgroup\": \"confirmed\", \"orientation\": \"v\", \"showlegend\": true, \"textposition\": \"auto\", \"x\": [\"US\", \"Spain\", \"Italy\", \"Russia\", \"Germany\", \"Brazil\", \"Turkey\", \"Iran\", \"Peru\", \"India\", \"Belgium\", \"Saudi Arabia\", \"Mexico\", \"Switzerland\", \"Ecuador\", \"Pakistan\", \"Portugal\", \"Chile\", \"Sweden\", \"Ireland\"], \"xaxis\": \"x\", \"y\": [24982, 21874, 42681, 293, 21896, 1004, 661, 11419, 312, 303, 2485, 376, 245, 6485, 496, 714, 1263, 531, 1727, 777], \"yaxis\": \"y\", \"type\": \"bar\"}, {\"alignmentgroup\": \"True\", \"hovertemplate\": \"type=death<br>date=3/21/20<br>country=%{x}<br>count=%{y}<extra></extra>\", \"legendgroup\": \"death\", \"marker\": {\"color\": \"#EF553B\"}, \"name\": \"death\", \"offsetgroup\": \"death\", \"orientation\": \"v\", \"showlegend\": true, \"textposition\": \"auto\", \"x\": [\"US\", \"Spain\", \"Italy\", \"Russia\", \"Germany\", \"Brazil\", \"Turkey\", \"Iran\", \"Peru\", \"India\", \"Belgium\", \"Saudi Arabia\", \"Mexico\", \"Switzerland\", \"Ecuador\", \"Pakistan\", \"Portugal\", \"Chile\", \"Sweden\", \"Ireland\"], \"xaxis\": \"x\", \"y\": [442, 1375, 4825, 1, 84, 15, 9, 1556, 5, 4, 67, 0, 2, 75, 7, 3, 12, 0, 20, 3], \"yaxis\": \"y\", \"type\": \"bar\"}, {\"alignmentgroup\": \"True\", \"hovertemplate\": \"type=recovered<br>date=3/21/20<br>country=%{x}<br>count=%{y}<extra></extra>\", \"legendgroup\": \"recovered\", \"marker\": {\"color\": \"#00cc96\"}, \"name\": \"recovered\", \"offsetgroup\": \"recovered\", \"orientation\": \"v\", \"showlegend\": true, \"textposition\": \"auto\", \"x\": [\"US\", \"Spain\", \"Italy\", \"Russia\", \"Germany\", \"Brazil\", \"Turkey\", \"Iran\", \"Peru\", \"India\", \"Belgium\", \"Saudi Arabia\", \"Mexico\", \"Switzerland\", \"Ecuador\", \"Pakistan\", \"Portugal\", \"Chile\", \"Sweden\", \"Ireland\"], \"xaxis\": \"x\", \"y\": [176, 2125, 6072, 12, 233, 2, 0, 7635, 1, 23, 263, 16, 4, 15, 3, 13, 5, 6, 16, 5], \"yaxis\": \"y\", \"type\": \"bar\"}], \"name\": \"3/21/20\"}, {\"data\": [{\"alignmentgroup\": \"True\", \"hovertemplate\": \"type=confirmed<br>date=3/22/20<br>country=%{x}<br>count=%{y}<extra></extra>\", \"legendgroup\": \"confirmed\", \"marker\": {\"color\": \"#636efa\"}, \"name\": \"confirmed\", \"offsetgroup\": \"confirmed\", \"orientation\": \"v\", \"showlegend\": true, \"textposition\": \"auto\", \"x\": [\"US\", \"Spain\", \"Italy\", \"Russia\", \"Germany\", \"Brazil\", \"Turkey\", \"Iran\", \"Peru\", \"India\", \"Belgium\", \"Saudi Arabia\", \"Mexico\", \"Switzerland\", \"Ecuador\", \"Pakistan\", \"Portugal\", \"Chile\", \"Sweden\", \"Ireland\"], \"xaxis\": \"x\", \"y\": [32512, 24421, 46638, 350, 24513, 1519, 1206, 12022, 357, 362, 3063, 495, 309, 7245, 772, 766, 1581, 623, 1897, 897], \"yaxis\": \"y\", \"type\": \"bar\"}, {\"alignmentgroup\": \"True\", \"hovertemplate\": \"type=death<br>date=3/22/20<br>country=%{x}<br>count=%{y}<extra></extra>\", \"legendgroup\": \"death\", \"marker\": {\"color\": \"#EF553B\"}, \"name\": \"death\", \"offsetgroup\": \"death\", \"orientation\": \"v\", \"showlegend\": true, \"textposition\": \"auto\", \"x\": [\"US\", \"Spain\", \"Italy\", \"Russia\", \"Germany\", \"Brazil\", \"Turkey\", \"Iran\", \"Peru\", \"India\", \"Belgium\", \"Saudi Arabia\", \"Mexico\", \"Switzerland\", \"Ecuador\", \"Pakistan\", \"Portugal\", \"Chile\", \"Sweden\", \"Ireland\"], \"xaxis\": \"x\", \"y\": [586, 1772, 5476, 1, 94, 25, 30, 1685, 5, 7, 75, 0, 3, 98, 14, 5, 14, 1, 21, 4], \"yaxis\": \"y\", \"type\": \"bar\"}, {\"alignmentgroup\": \"True\", \"hovertemplate\": \"type=recovered<br>date=3/22/20<br>country=%{x}<br>count=%{y}<extra></extra>\", \"legendgroup\": \"recovered\", \"marker\": {\"color\": \"#00cc96\"}, \"name\": \"recovered\", \"offsetgroup\": \"recovered\", \"orientation\": \"v\", \"showlegend\": true, \"textposition\": \"auto\", \"x\": [\"US\", \"Spain\", \"Italy\", \"Russia\", \"Germany\", \"Brazil\", \"Turkey\", \"Iran\", \"Peru\", \"India\", \"Belgium\", \"Saudi Arabia\", \"Mexico\", \"Switzerland\", \"Ecuador\", \"Pakistan\", \"Portugal\", \"Chile\", \"Sweden\", \"Ireland\"], \"xaxis\": \"x\", \"y\": [178, 2575, 7024, 16, 266, 2, 0, 7931, 1, 27, 263, 16, 4, 131, 3, 5, 5, 8, 16, 5], \"yaxis\": \"y\", \"type\": \"bar\"}], \"name\": \"3/22/20\"}, {\"data\": [{\"alignmentgroup\": \"True\", \"hovertemplate\": \"type=confirmed<br>date=3/23/20<br>country=%{x}<br>count=%{y}<extra></extra>\", \"legendgroup\": \"confirmed\", \"marker\": {\"color\": \"#636efa\"}, \"name\": \"confirmed\", \"offsetgroup\": \"confirmed\", \"orientation\": \"v\", \"showlegend\": true, \"textposition\": \"auto\", \"x\": [\"US\", \"Spain\", \"Italy\", \"Russia\", \"Germany\", \"Brazil\", \"Turkey\", \"Iran\", \"Peru\", \"India\", \"Belgium\", \"Saudi Arabia\", \"Mexico\", \"Switzerland\", \"Ecuador\", \"Pakistan\", \"Portugal\", \"Chile\", \"Sweden\", \"Ireland\"], \"xaxis\": \"x\", \"y\": [42879, 30250, 50826, 421, 28667, 1888, 1492, 13306, 389, 462, 3392, 546, 359, 8544, 960, 864, 2032, 736, 2005, 1114], \"yaxis\": \"y\", \"type\": \"bar\"}, {\"alignmentgroup\": \"True\", \"hovertemplate\": \"type=death<br>date=3/23/20<br>country=%{x}<br>count=%{y}<extra></extra>\", \"legendgroup\": \"death\", \"marker\": {\"color\": \"#EF553B\"}, \"name\": \"death\", \"offsetgroup\": \"death\", \"orientation\": \"v\", \"showlegend\": true, \"textposition\": \"auto\", \"x\": [\"US\", \"Spain\", \"Italy\", \"Russia\", \"Germany\", \"Brazil\", \"Turkey\", \"Iran\", \"Peru\", \"India\", \"Belgium\", \"Saudi Arabia\", \"Mexico\", \"Switzerland\", \"Ecuador\", \"Pakistan\", \"Portugal\", \"Chile\", \"Sweden\", \"Ireland\"], \"xaxis\": \"x\", \"y\": [786, 2311, 6077, 1, 123, 34, 37, 1812, 5, 10, 88, 0, 4, 120, 18, 6, 23, 2, 25, 6], \"yaxis\": \"y\", \"type\": \"bar\"}, {\"alignmentgroup\": \"True\", \"hovertemplate\": \"type=recovered<br>date=3/23/20<br>country=%{x}<br>count=%{y}<extra></extra>\", \"legendgroup\": \"recovered\", \"marker\": {\"color\": \"#00cc96\"}, \"name\": \"recovered\", \"offsetgroup\": \"recovered\", \"orientation\": \"v\", \"showlegend\": true, \"textposition\": \"auto\", \"x\": [\"US\", \"Spain\", \"Italy\", \"Russia\", \"Germany\", \"Brazil\", \"Turkey\", \"Iran\", \"Peru\", \"India\", \"Belgium\", \"Saudi Arabia\", \"Mexico\", \"Switzerland\", \"Ecuador\", \"Pakistan\", \"Portugal\", \"Chile\", \"Sweden\", \"Ireland\"], \"xaxis\": \"x\", \"y\": [178, 2575, 7024, 16, 266, 2, 0, 7931, 1, 27, 263, 16, 4, 131, 3, 5, 5, 8, 16, 5], \"yaxis\": \"y\", \"type\": \"bar\"}], \"name\": \"3/23/20\"}, {\"data\": [{\"alignmentgroup\": \"True\", \"hovertemplate\": \"type=confirmed<br>date=3/24/20<br>country=%{x}<br>count=%{y}<extra></extra>\", \"legendgroup\": \"confirmed\", \"marker\": {\"color\": \"#636efa\"}, \"name\": \"confirmed\", \"offsetgroup\": \"confirmed\", \"orientation\": \"v\", \"showlegend\": true, \"textposition\": \"auto\", \"x\": [\"US\", \"Spain\", \"Italy\", \"Russia\", \"Germany\", \"Brazil\", \"Turkey\", \"Iran\", \"Peru\", \"India\", \"Belgium\", \"Saudi Arabia\", \"Mexico\", \"Switzerland\", \"Ecuador\", \"Pakistan\", \"Portugal\", \"Chile\", \"Sweden\", \"Ireland\"], \"xaxis\": \"x\", \"y\": [52380, 33283, 54030, 472, 29586, 2199, 1828, 13964, 408, 486, 3686, 738, 396, 9624, 1052, 947, 2307, 903, 2234, 1317], \"yaxis\": \"y\", \"type\": \"bar\"}, {\"alignmentgroup\": \"True\", \"hovertemplate\": \"type=death<br>date=3/24/20<br>country=%{x}<br>count=%{y}<extra></extra>\", \"legendgroup\": \"death\", \"marker\": {\"color\": \"#EF553B\"}, \"name\": \"death\", \"offsetgroup\": \"death\", \"orientation\": \"v\", \"showlegend\": true, \"textposition\": \"auto\", \"x\": [\"US\", \"Spain\", \"Italy\", \"Russia\", \"Germany\", \"Brazil\", \"Turkey\", \"Iran\", \"Peru\", \"India\", \"Belgium\", \"Saudi Arabia\", \"Mexico\", \"Switzerland\", \"Ecuador\", \"Pakistan\", \"Portugal\", \"Chile\", \"Sweden\", \"Ireland\"], \"xaxis\": \"x\", \"y\": [1008, 2808, 6820, 1, 157, 46, 44, 1934, 7, 10, 122, 1, 5, 122, 27, 7, 33, 2, 36, 7], \"yaxis\": \"y\", \"type\": \"bar\"}, {\"alignmentgroup\": \"True\", \"hovertemplate\": \"type=recovered<br>date=3/24/20<br>country=%{x}<br>count=%{y}<extra></extra>\", \"legendgroup\": \"recovered\", \"marker\": {\"color\": \"#00cc96\"}, \"name\": \"recovered\", \"offsetgroup\": \"recovered\", \"orientation\": \"v\", \"showlegend\": true, \"textposition\": \"auto\", \"x\": [\"US\", \"Spain\", \"Italy\", \"Russia\", \"Germany\", \"Brazil\", \"Turkey\", \"Iran\", \"Peru\", \"India\", \"Belgium\", \"Saudi Arabia\", \"Mexico\", \"Switzerland\", \"Ecuador\", \"Pakistan\", \"Portugal\", \"Chile\", \"Sweden\", \"Ireland\"], \"xaxis\": \"x\", \"y\": [348, 3794, 8326, 22, 3243, 2, 0, 8913, 1, 40, 461, 28, 4, 131, 3, 18, 22, 17, 16, 5], \"yaxis\": \"y\", \"type\": \"bar\"}], \"name\": \"3/24/20\"}, {\"data\": [{\"alignmentgroup\": \"True\", \"hovertemplate\": \"type=confirmed<br>date=3/25/20<br>country=%{x}<br>count=%{y}<extra></extra>\", \"legendgroup\": \"confirmed\", \"marker\": {\"color\": \"#636efa\"}, \"name\": \"confirmed\", \"offsetgroup\": \"confirmed\", \"orientation\": \"v\", \"showlegend\": true, \"textposition\": \"auto\", \"x\": [\"US\", \"Spain\", \"Italy\", \"Russia\", \"Germany\", \"Brazil\", \"Turkey\", \"Iran\", \"Peru\", \"India\", \"Belgium\", \"Saudi Arabia\", \"Mexico\", \"Switzerland\", \"Ecuador\", \"Pakistan\", \"Portugal\", \"Chile\", \"Sweden\", \"Ireland\"], \"xaxis\": \"x\", \"y\": [64101, 40501, 57521, 626, 33570, 2493, 2348, 15315, 470, 602, 4212, 869, 465, 10613, 1142, 1034, 2930, 1117, 2448, 1550], \"yaxis\": \"y\", \"type\": \"bar\"}, {\"alignmentgroup\": \"True\", \"hovertemplate\": \"type=death<br>date=3/25/20<br>country=%{x}<br>count=%{y}<extra></extra>\", \"legendgroup\": \"death\", \"marker\": {\"color\": \"#EF553B\"}, \"name\": \"death\", \"offsetgroup\": \"death\", \"orientation\": \"v\", \"showlegend\": true, \"textposition\": \"auto\", \"x\": [\"US\", \"Spain\", \"Italy\", \"Russia\", \"Germany\", \"Brazil\", \"Turkey\", \"Iran\", \"Peru\", \"India\", \"Belgium\", \"Saudi Arabia\", \"Mexico\", \"Switzerland\", \"Ecuador\", \"Pakistan\", \"Portugal\", \"Chile\", \"Sweden\", \"Ireland\"], \"xaxis\": \"x\", \"y\": [1316, 3647, 7503, 3, 206, 59, 59, 2077, 9, 12, 178, 2, 6, 153, 28, 8, 43, 3, 62, 9], \"yaxis\": \"y\", \"type\": \"bar\"}, {\"alignmentgroup\": \"True\", \"hovertemplate\": \"type=recovered<br>date=3/25/20<br>country=%{x}<br>count=%{y}<extra></extra>\", \"legendgroup\": \"recovered\", \"marker\": {\"color\": \"#00cc96\"}, \"name\": \"recovered\", \"offsetgroup\": \"recovered\", \"orientation\": \"v\", \"showlegend\": true, \"textposition\": \"auto\", \"x\": [\"US\", \"Spain\", \"Italy\", \"Russia\", \"Germany\", \"Brazil\", \"Turkey\", \"Iran\", \"Peru\", \"India\", \"Belgium\", \"Saudi Arabia\", \"Mexico\", \"Switzerland\", \"Ecuador\", \"Pakistan\", \"Portugal\", \"Chile\", \"Sweden\", \"Ireland\"], \"xaxis\": \"x\", \"y\": [361, 5367, 9362, 29, 3547, 2, 26, 9625, 1, 43, 547, 29, 4, 131, 3, 21, 22, 22, 16, 5], \"yaxis\": \"y\", \"type\": \"bar\"}], \"name\": \"3/25/20\"}, {\"data\": [{\"alignmentgroup\": \"True\", \"hovertemplate\": \"type=confirmed<br>date=3/26/20<br>country=%{x}<br>count=%{y}<extra></extra>\", \"legendgroup\": \"confirmed\", \"marker\": {\"color\": \"#636efa\"}, \"name\": \"confirmed\", \"offsetgroup\": \"confirmed\", \"orientation\": \"v\", \"showlegend\": true, \"textposition\": \"auto\", \"x\": [\"US\", \"Spain\", \"Italy\", \"Russia\", \"Germany\", \"Brazil\", \"Turkey\", \"Iran\", \"Peru\", \"India\", \"Belgium\", \"Saudi Arabia\", \"Mexico\", \"Switzerland\", \"Ecuador\", \"Pakistan\", \"Portugal\", \"Chile\", \"Sweden\", \"Ireland\"], \"xaxis\": \"x\", \"y\": [81429, 46406, 62013, 799, 37998, 2902, 3528, 16715, 557, 662, 5340, 976, 573, 11489, 1366, 1171, 3441, 1280, 2747, 1795], \"yaxis\": \"y\", \"type\": \"bar\"}, {\"alignmentgroup\": \"True\", \"hovertemplate\": \"type=death<br>date=3/26/20<br>country=%{x}<br>count=%{y}<extra></extra>\", \"legendgroup\": \"death\", \"marker\": {\"color\": \"#EF553B\"}, \"name\": \"death\", \"offsetgroup\": \"death\", \"orientation\": \"v\", \"showlegend\": true, \"textposition\": \"auto\", \"x\": [\"US\", \"Spain\", \"Italy\", \"Russia\", \"Germany\", \"Brazil\", \"Turkey\", \"Iran\", \"Peru\", \"India\", \"Belgium\", \"Saudi Arabia\", \"Mexico\", \"Switzerland\", \"Ecuador\", \"Pakistan\", \"Portugal\", \"Chile\", \"Sweden\", \"Ireland\"], \"xaxis\": \"x\", \"y\": [1726, 4365, 8215, 3, 267, 77, 75, 2234, 9, 20, 220, 3, 8, 191, 34, 9, 60, 4, 77, 19], \"yaxis\": \"y\", \"type\": \"bar\"}, {\"alignmentgroup\": \"True\", \"hovertemplate\": \"type=recovered<br>date=3/26/20<br>country=%{x}<br>count=%{y}<extra></extra>\", \"legendgroup\": \"recovered\", \"marker\": {\"color\": \"#00cc96\"}, \"name\": \"recovered\", \"offsetgroup\": \"recovered\", \"orientation\": \"v\", \"showlegend\": true, \"textposition\": \"auto\", \"x\": [\"US\", \"Spain\", \"Italy\", \"Russia\", \"Germany\", \"Brazil\", \"Turkey\", \"Iran\", \"Peru\", \"India\", \"Belgium\", \"Saudi Arabia\", \"Mexico\", \"Switzerland\", \"Ecuador\", \"Pakistan\", \"Portugal\", \"Chile\", \"Sweden\", \"Ireland\"], \"xaxis\": \"x\", \"y\": [681, 7015, 10361, 38, 5673, 6, 26, 10457, 14, 45, 675, 33, 4, 131, 3, 21, 43, 22, 16, 5], \"yaxis\": \"y\", \"type\": \"bar\"}], \"name\": \"3/26/20\"}, {\"data\": [{\"alignmentgroup\": \"True\", \"hovertemplate\": \"type=confirmed<br>date=3/27/20<br>country=%{x}<br>count=%{y}<extra></extra>\", \"legendgroup\": \"confirmed\", \"marker\": {\"color\": \"#636efa\"}, \"name\": \"confirmed\", \"offsetgroup\": \"confirmed\", \"orientation\": \"v\", \"showlegend\": true, \"textposition\": \"auto\", \"x\": [\"US\", \"Spain\", \"Italy\", \"Russia\", \"Germany\", \"Brazil\", \"Turkey\", \"Iran\", \"Peru\", \"India\", \"Belgium\", \"Saudi Arabia\", \"Mexico\", \"Switzerland\", \"Ecuador\", \"Pakistan\", \"Portugal\", \"Chile\", \"Sweden\", \"Ireland\"], \"xaxis\": \"x\", \"y\": [98523, 51224, 66414, 987, 43871, 3319, 5564, 18821, 608, 794, 6137, 1066, 701, 11167, 1556, 1339, 4149, 1562, 2948, 2094], \"yaxis\": \"y\", \"type\": \"bar\"}, {\"alignmentgroup\": \"True\", \"hovertemplate\": \"type=death<br>date=3/27/20<br>country=%{x}<br>count=%{y}<extra></extra>\", \"legendgroup\": \"death\", \"marker\": {\"color\": \"#EF553B\"}, \"name\": \"death\", \"offsetgroup\": \"death\", \"orientation\": \"v\", \"showlegend\": true, \"textposition\": \"auto\", \"x\": [\"US\", \"Spain\", \"Italy\", \"Russia\", \"Germany\", \"Brazil\", \"Turkey\", \"Iran\", \"Peru\", \"India\", \"Belgium\", \"Saudi Arabia\", \"Mexico\", \"Switzerland\", \"Ecuador\", \"Pakistan\", \"Portugal\", \"Chile\", \"Sweden\", \"Ireland\"], \"xaxis\": \"x\", \"y\": [2265, 5138, 9134, 4, 342, 92, 92, 2378, 11, 20, 289, 3, 12, 231, 36, 11, 76, 5, 105, 22], \"yaxis\": \"y\", \"type\": \"bar\"}, {\"alignmentgroup\": \"True\", \"hovertemplate\": \"type=recovered<br>date=3/27/20<br>country=%{x}<br>count=%{y}<extra></extra>\", \"legendgroup\": \"recovered\", \"marker\": {\"color\": \"#00cc96\"}, \"name\": \"recovered\", \"offsetgroup\": \"recovered\", \"orientation\": \"v\", \"showlegend\": true, \"textposition\": \"auto\", \"x\": [\"US\", \"Spain\", \"Italy\", \"Russia\", \"Germany\", \"Brazil\", \"Turkey\", \"Iran\", \"Peru\", \"India\", \"Belgium\", \"Saudi Arabia\", \"Mexico\", \"Switzerland\", \"Ecuador\", \"Pakistan\", \"Portugal\", \"Chile\", \"Sweden\", \"Ireland\"], \"xaxis\": \"x\", \"y\": [869, 9357, 10950, 45, 6658, 6, 42, 11133, 16, 73, 858, 35, 4, 1530, 3, 23, 43, 43, 16, 5], \"yaxis\": \"y\", \"type\": \"bar\"}], \"name\": \"3/27/20\"}, {\"data\": [{\"alignmentgroup\": \"True\", \"hovertemplate\": \"type=confirmed<br>date=3/28/20<br>country=%{x}<br>count=%{y}<extra></extra>\", \"legendgroup\": \"confirmed\", \"marker\": {\"color\": \"#636efa\"}, \"name\": \"confirmed\", \"offsetgroup\": \"confirmed\", \"orientation\": \"v\", \"showlegend\": true, \"textposition\": \"auto\", \"x\": [\"US\", \"Spain\", \"Italy\", \"Russia\", \"Germany\", \"Brazil\", \"Turkey\", \"Iran\", \"Peru\", \"India\", \"Belgium\", \"Saudi Arabia\", \"Mexico\", \"Switzerland\", \"Ecuador\", \"Pakistan\", \"Portugal\", \"Chile\", \"Sweden\", \"Ireland\"], \"xaxis\": \"x\", \"y\": [117662, 54968, 70065, 1211, 48781, 3787, 7224, 21212, 639, 879, 7718, 1162, 828, 12282, 1772, 1454, 5027, 1842, 3326, 2374], \"yaxis\": \"y\", \"type\": \"bar\"}, {\"alignmentgroup\": \"True\", \"hovertemplate\": \"type=death<br>date=3/28/20<br>country=%{x}<br>count=%{y}<extra></extra>\", \"legendgroup\": \"death\", \"marker\": {\"color\": \"#EF553B\"}, \"name\": \"death\", \"offsetgroup\": \"death\", \"orientation\": \"v\", \"showlegend\": true, \"textposition\": \"auto\", \"x\": [\"US\", \"Spain\", \"Italy\", \"Russia\", \"Germany\", \"Brazil\", \"Turkey\", \"Iran\", \"Peru\", \"India\", \"Belgium\", \"Saudi Arabia\", \"Mexico\", \"Switzerland\", \"Ecuador\", \"Pakistan\", \"Portugal\", \"Chile\", \"Sweden\", \"Ireland\"], \"xaxis\": \"x\", \"y\": [2731, 5982, 10023, 4, 433, 111, 108, 2517, 16, 24, 353, 4, 16, 264, 48, 12, 100, 6, 105, 36], \"yaxis\": \"y\", \"type\": \"bar\"}, {\"alignmentgroup\": \"True\", \"hovertemplate\": \"type=recovered<br>date=3/28/20<br>country=%{x}<br>count=%{y}<extra></extra>\", \"legendgroup\": \"recovered\", \"marker\": {\"color\": \"#00cc96\"}, \"name\": \"recovered\", \"offsetgroup\": \"recovered\", \"orientation\": \"v\", \"showlegend\": true, \"textposition\": \"auto\", \"x\": [\"US\", \"Spain\", \"Italy\", \"Russia\", \"Germany\", \"Brazil\", \"Turkey\", \"Iran\", \"Peru\", \"India\", \"Belgium\", \"Saudi Arabia\", \"Mexico\", \"Switzerland\", \"Ecuador\", \"Pakistan\", \"Portugal\", \"Chile\", \"Sweden\", \"Ireland\"], \"xaxis\": \"x\", \"y\": [1072, 12285, 12384, 49, 8481, 6, 70, 11679, 16, 84, 1063, 37, 4, 1530, 3, 29, 43, 61, 16, 5], \"yaxis\": \"y\", \"type\": \"bar\"}], \"name\": \"3/28/20\"}, {\"data\": [{\"alignmentgroup\": \"True\", \"hovertemplate\": \"type=confirmed<br>date=3/29/20<br>country=%{x}<br>count=%{y}<extra></extra>\", \"legendgroup\": \"confirmed\", \"marker\": {\"color\": \"#636efa\"}, \"name\": \"confirmed\", \"offsetgroup\": \"confirmed\", \"orientation\": \"v\", \"showlegend\": true, \"textposition\": \"auto\", \"x\": [\"US\", \"Spain\", \"Italy\", \"Russia\", \"Germany\", \"Brazil\", \"Turkey\", \"Iran\", \"Peru\", \"India\", \"Belgium\", \"Saudi Arabia\", \"Mexico\", \"Switzerland\", \"Ecuador\", \"Pakistan\", \"Portugal\", \"Chile\", \"Sweden\", \"Ireland\"], \"xaxis\": \"x\", \"y\": [134824, 58598, 73880, 1462, 52351, 4114, 8981, 23278, 818, 902, 9046, 1225, 969, 12934, 1863, 1554, 5800, 2057, 3574, 2564], \"yaxis\": \"y\", \"type\": \"bar\"}, {\"alignmentgroup\": \"True\", \"hovertemplate\": \"type=death<br>date=3/29/20<br>country=%{x}<br>count=%{y}<extra></extra>\", \"legendgroup\": \"death\", \"marker\": {\"color\": \"#EF553B\"}, \"name\": \"death\", \"offsetgroup\": \"death\", \"orientation\": \"v\", \"showlegend\": true, \"textposition\": \"auto\", \"x\": [\"US\", \"Spain\", \"Italy\", \"Russia\", \"Germany\", \"Brazil\", \"Turkey\", \"Iran\", \"Peru\", \"India\", \"Belgium\", \"Saudi Arabia\", \"Mexico\", \"Switzerland\", \"Ecuador\", \"Pakistan\", \"Portugal\", \"Chile\", \"Sweden\", \"Ireland\"], \"xaxis\": \"x\", \"y\": [3420, 6803, 10779, 8, 533, 136, 131, 2640, 18, 27, 431, 8, 20, 300, 58, 14, 119, 7, 110, 46], \"yaxis\": \"y\", \"type\": \"bar\"}, {\"alignmentgroup\": \"True\", \"hovertemplate\": \"type=recovered<br>date=3/29/20<br>country=%{x}<br>count=%{y}<extra></extra>\", \"legendgroup\": \"recovered\", \"marker\": {\"color\": \"#00cc96\"}, \"name\": \"recovered\", \"offsetgroup\": \"recovered\", \"orientation\": \"v\", \"showlegend\": true, \"textposition\": \"auto\", \"x\": [\"US\", \"Spain\", \"Italy\", \"Russia\", \"Germany\", \"Brazil\", \"Turkey\", \"Iran\", \"Peru\", \"India\", \"Belgium\", \"Saudi Arabia\", \"Mexico\", \"Switzerland\", \"Ecuador\", \"Pakistan\", \"Portugal\", \"Chile\", \"Sweden\", \"Ireland\"], \"xaxis\": \"x\", \"y\": [2665, 14709, 13030, 64, 9211, 6, 105, 12391, 16, 95, 1359, 66, 4, 1595, 3, 29, 43, 75, 16, 5], \"yaxis\": \"y\", \"type\": \"bar\"}], \"name\": \"3/29/20\"}, {\"data\": [{\"alignmentgroup\": \"True\", \"hovertemplate\": \"type=confirmed<br>date=3/30/20<br>country=%{x}<br>count=%{y}<extra></extra>\", \"legendgroup\": \"confirmed\", \"marker\": {\"color\": \"#636efa\"}, \"name\": \"confirmed\", \"offsetgroup\": \"confirmed\", \"orientation\": \"v\", \"showlegend\": true, \"textposition\": \"auto\", \"x\": [\"US\", \"Spain\", \"Italy\", \"Russia\", \"Germany\", \"Brazil\", \"Turkey\", \"Iran\", \"Peru\", \"India\", \"Belgium\", \"Saudi Arabia\", \"Mexico\", \"Switzerland\", \"Ecuador\", \"Pakistan\", \"Portugal\", \"Chile\", \"Sweden\", \"Ireland\"], \"xaxis\": \"x\", \"y\": [151995, 63460, 75528, 1761, 52740, 4300, 10497, 24827, 873, 1117, 9859, 1330, 1031, 13740, 1899, 1620, 6225, 2285, 3866, 2851], \"yaxis\": \"y\", \"type\": \"bar\"}, {\"alignmentgroup\": \"True\", \"hovertemplate\": \"type=death<br>date=3/30/20<br>country=%{x}<br>count=%{y}<extra></extra>\", \"legendgroup\": \"death\", \"marker\": {\"color\": \"#EF553B\"}, \"name\": \"death\", \"offsetgroup\": \"death\", \"orientation\": \"v\", \"showlegend\": true, \"textposition\": \"auto\", \"x\": [\"US\", \"Spain\", \"Italy\", \"Russia\", \"Germany\", \"Brazil\", \"Turkey\", \"Iran\", \"Peru\", \"India\", \"Belgium\", \"Saudi Arabia\", \"Mexico\", \"Switzerland\", \"Ecuador\", \"Pakistan\", \"Portugal\", \"Chile\", \"Sweden\", \"Ireland\"], \"xaxis\": \"x\", \"y\": [4192, 7716, 11591, 9, 645, 159, 168, 2757, 24, 32, 513, 8, 28, 359, 60, 21, 140, 8, 146, 54], \"yaxis\": \"y\", \"type\": \"bar\"}, {\"alignmentgroup\": \"True\", \"hovertemplate\": \"type=recovered<br>date=3/30/20<br>country=%{x}<br>count=%{y}<extra></extra>\", \"legendgroup\": \"recovered\", \"marker\": {\"color\": \"#00cc96\"}, \"name\": \"recovered\", \"offsetgroup\": \"recovered\", \"orientation\": \"v\", \"showlegend\": true, \"textposition\": \"auto\", \"x\": [\"US\", \"Spain\", \"Italy\", \"Russia\", \"Germany\", \"Brazil\", \"Turkey\", \"Iran\", \"Peru\", \"India\", \"Belgium\", \"Saudi Arabia\", \"Mexico\", \"Switzerland\", \"Ecuador\", \"Pakistan\", \"Portugal\", \"Chile\", \"Sweden\", \"Ireland\"], \"xaxis\": \"x\", \"y\": [5644, 16780, 14620, 66, 13500, 120, 162, 13911, 53, 102, 1527, 115, 35, 1823, 3, 76, 43, 156, 16, 5], \"yaxis\": \"y\", \"type\": \"bar\"}], \"name\": \"3/30/20\"}, {\"data\": [{\"alignmentgroup\": \"True\", \"hovertemplate\": \"type=confirmed<br>date=3/31/20<br>country=%{x}<br>count=%{y}<extra></extra>\", \"legendgroup\": \"confirmed\", \"marker\": {\"color\": \"#636efa\"}, \"name\": \"confirmed\", \"offsetgroup\": \"confirmed\", \"orientation\": \"v\", \"showlegend\": true, \"textposition\": \"auto\", \"x\": [\"US\", \"Spain\", \"Italy\", \"Russia\", \"Germany\", \"Brazil\", \"Turkey\", \"Iran\", \"Peru\", \"India\", \"Belgium\", \"Saudi Arabia\", \"Mexico\", \"Switzerland\", \"Ecuador\", \"Pakistan\", \"Portugal\", \"Chile\", \"Sweden\", \"Ireland\"], \"xaxis\": \"x\", \"y\": [175781, 68200, 77635, 2199, 54933, 5389, 13074, 27051, 641, 1239, 10374, 1388, 1151, 14349, 2111, 1836, 7240, 2570, 4239, 3159], \"yaxis\": \"y\", \"type\": \"bar\"}, {\"alignmentgroup\": \"True\", \"hovertemplate\": \"type=death<br>date=3/31/20<br>country=%{x}<br>count=%{y}<extra></extra>\", \"legendgroup\": \"death\", \"marker\": {\"color\": \"#EF553B\"}, \"name\": \"death\", \"offsetgroup\": \"death\", \"orientation\": \"v\", \"showlegend\": true, \"textposition\": \"auto\", \"x\": [\"US\", \"Spain\", \"Italy\", \"Russia\", \"Germany\", \"Brazil\", \"Turkey\", \"Iran\", \"Peru\", \"India\", \"Belgium\", \"Saudi Arabia\", \"Mexico\", \"Switzerland\", \"Ecuador\", \"Pakistan\", \"Portugal\", \"Chile\", \"Sweden\", \"Ireland\"], \"xaxis\": \"x\", \"y\": [5367, 8464, 12428, 17, 775, 201, 214, 2898, 30, 35, 705, 10, 29, 433, 75, 26, 160, 12, 180, 71], \"yaxis\": \"y\", \"type\": \"bar\"}, {\"alignmentgroup\": \"True\", \"hovertemplate\": \"type=recovered<br>date=3/31/20<br>country=%{x}<br>count=%{y}<extra></extra>\", \"legendgroup\": \"recovered\", \"marker\": {\"color\": \"#00cc96\"}, \"name\": \"recovered\", \"offsetgroup\": \"recovered\", \"orientation\": \"v\", \"showlegend\": true, \"textposition\": \"auto\", \"x\": [\"US\", \"Spain\", \"Italy\", \"Russia\", \"Germany\", \"Brazil\", \"Turkey\", \"Iran\", \"Peru\", \"India\", \"Belgium\", \"Saudi Arabia\", \"Mexico\", \"Switzerland\", \"Ecuador\", \"Pakistan\", \"Portugal\", \"Chile\", \"Sweden\", \"Ireland\"], \"xaxis\": \"x\", \"y\": [7024, 19259, 15729, 121, 16100, 127, 243, 14656, 394, 123, 1696, 165, 35, 1823, 54, 76, 43, 156, 16, 5], \"yaxis\": \"y\", \"type\": \"bar\"}], \"name\": \"3/31/20\"}, {\"data\": [{\"alignmentgroup\": \"True\", \"hovertemplate\": \"type=confirmed<br>date=4/1/20<br>country=%{x}<br>count=%{y}<extra></extra>\", \"legendgroup\": \"confirmed\", \"marker\": {\"color\": \"#636efa\"}, \"name\": \"confirmed\", \"offsetgroup\": \"confirmed\", \"orientation\": \"v\", \"showlegend\": true, \"textposition\": \"auto\", \"x\": [\"US\", \"Spain\", \"Italy\", \"Russia\", \"Germany\", \"Brazil\", \"Turkey\", \"Iran\", \"Peru\", \"India\", \"Belgium\", \"Saudi Arabia\", \"Mexico\", \"Switzerland\", \"Ecuador\", \"Pakistan\", \"Portugal\", \"Chile\", \"Sweden\", \"Ireland\"], \"xaxis\": \"x\", \"y\": [198267, 72084, 80572, 2563, 58252, 6469, 15069, 29084, 891, 1792, 11004, 1440, 1306, 14313, 2597, 1997, 8021, 2781, 4605, 3357], \"yaxis\": \"y\", \"type\": \"bar\"}, {\"alignmentgroup\": \"True\", \"hovertemplate\": \"type=death<br>date=4/1/20<br>country=%{x}<br>count=%{y}<extra></extra>\", \"legendgroup\": \"death\", \"marker\": {\"color\": \"#EF553B\"}, \"name\": \"death\", \"offsetgroup\": \"death\", \"orientation\": \"v\", \"showlegend\": true, \"textposition\": \"auto\", \"x\": [\"US\", \"Spain\", \"Italy\", \"Russia\", \"Germany\", \"Brazil\", \"Turkey\", \"Iran\", \"Peru\", \"India\", \"Belgium\", \"Saudi Arabia\", \"Mexico\", \"Switzerland\", \"Ecuador\", \"Pakistan\", \"Portugal\", \"Chile\", \"Sweden\", \"Ireland\"], \"xaxis\": \"x\", \"y\": [6501, 9387, 13155, 24, 920, 240, 277, 3036, 38, 58, 828, 16, 37, 488, 93, 27, 187, 16, 239, 85], \"yaxis\": \"y\", \"type\": \"bar\"}, {\"alignmentgroup\": \"True\", \"hovertemplate\": \"type=recovered<br>date=4/1/20<br>country=%{x}<br>count=%{y}<extra></extra>\", \"legendgroup\": \"recovered\", \"marker\": {\"color\": \"#00cc96\"}, \"name\": \"recovered\", \"offsetgroup\": \"recovered\", \"orientation\": \"v\", \"showlegend\": true, \"textposition\": \"auto\", \"x\": [\"US\", \"Spain\", \"Italy\", \"Russia\", \"Germany\", \"Brazil\", \"Turkey\", \"Iran\", \"Peru\", \"India\", \"Belgium\", \"Saudi Arabia\", \"Mexico\", \"Switzerland\", \"Ecuador\", \"Pakistan\", \"Portugal\", \"Chile\", \"Sweden\", \"Ireland\"], \"xaxis\": \"x\", \"y\": [8474, 22647, 16847, 190, 18700, 127, 333, 15473, 394, 148, 2132, 264, 35, 2967, 58, 94, 43, 234, 103, 5], \"yaxis\": \"y\", \"type\": \"bar\"}], \"name\": \"4/1/20\"}, {\"data\": [{\"alignmentgroup\": \"True\", \"hovertemplate\": \"type=confirmed<br>date=4/2/20<br>country=%{x}<br>count=%{y}<extra></extra>\", \"legendgroup\": \"confirmed\", \"marker\": {\"color\": \"#636efa\"}, \"name\": \"confirmed\", \"offsetgroup\": \"confirmed\", \"orientation\": \"v\", \"showlegend\": true, \"textposition\": \"auto\", \"x\": [\"US\", \"Spain\", \"Italy\", \"Russia\", \"Germany\", \"Brazil\", \"Turkey\", \"Iran\", \"Peru\", \"India\", \"Belgium\", \"Saudi Arabia\", \"Mexico\", \"Switzerland\", \"Ecuador\", \"Pakistan\", \"Portugal\", \"Chile\", \"Sweden\", \"Ireland\"], \"xaxis\": \"x\", \"y\": [226700, 74974, 83049, 3283, 61247, 7593, 17364, 30597, 822, 2280, 11842, 1536, 1425, 14278, 2978, 2262, 8757, 3051, 5157, 3746], \"yaxis\": \"y\", \"type\": \"bar\"}, {\"alignmentgroup\": \"True\", \"hovertemplate\": \"type=death<br>date=4/2/20<br>country=%{x}<br>count=%{y}<extra></extra>\", \"legendgroup\": \"death\", \"marker\": {\"color\": \"#EF553B\"}, \"name\": \"death\", \"offsetgroup\": \"death\", \"orientation\": \"v\", \"showlegend\": true, \"textposition\": \"auto\", \"x\": [\"US\", \"Spain\", \"Italy\", \"Russia\", \"Germany\", \"Brazil\", \"Turkey\", \"Iran\", \"Peru\", \"India\", \"Belgium\", \"Saudi Arabia\", \"Mexico\", \"Switzerland\", \"Ecuador\", \"Pakistan\", \"Portugal\", \"Chile\", \"Sweden\", \"Ireland\"], \"xaxis\": \"x\", \"y\": [7921, 10348, 13915, 30, 1107, 324, 356, 3160, 55, 72, 1011, 21, 50, 536, 120, 34, 209, 18, 308, 98], \"yaxis\": \"y\", \"type\": \"bar\"}, {\"alignmentgroup\": \"True\", \"hovertemplate\": \"type=recovered<br>date=4/2/20<br>country=%{x}<br>count=%{y}<extra></extra>\", \"legendgroup\": \"recovered\", \"marker\": {\"color\": \"#00cc96\"}, \"name\": \"recovered\", \"offsetgroup\": \"recovered\", \"orientation\": \"v\", \"showlegend\": true, \"textposition\": \"auto\", \"x\": [\"US\", \"Spain\", \"Italy\", \"Russia\", \"Germany\", \"Brazil\", \"Turkey\", \"Iran\", \"Peru\", \"India\", \"Belgium\", \"Saudi Arabia\", \"Mexico\", \"Switzerland\", \"Ecuador\", \"Pakistan\", \"Portugal\", \"Chile\", \"Sweden\", \"Ireland\"], \"xaxis\": \"x\", \"y\": [9001, 26743, 18278, 235, 22440, 127, 415, 16711, 537, 191, 2495, 328, 35, 4013, 65, 125, 68, 335, 103, 5], \"yaxis\": \"y\", \"type\": \"bar\"}], \"name\": \"4/2/20\"}, {\"data\": [{\"alignmentgroup\": \"True\", \"hovertemplate\": \"type=confirmed<br>date=4/3/20<br>country=%{x}<br>count=%{y}<extra></extra>\", \"legendgroup\": \"confirmed\", \"marker\": {\"color\": \"#636efa\"}, \"name\": \"confirmed\", \"offsetgroup\": \"confirmed\", \"orientation\": \"v\", \"showlegend\": true, \"textposition\": \"auto\", \"x\": [\"US\", \"Spain\", \"Italy\", \"Russia\", \"Germany\", \"Brazil\", \"Turkey\", \"Iran\", \"Peru\", \"India\", \"Belgium\", \"Saudi Arabia\", \"Mexico\", \"Switzerland\", \"Ecuador\", \"Pakistan\", \"Portugal\", \"Chile\", \"Sweden\", \"Ireland\"], \"xaxis\": \"x\", \"y\": [256414, 77488, 85388, 3834, 65309, 8570, 20012, 31954, 997, 2303, 12755, 1663, 995, 14169, 3158, 2520, 9572, 3288, 5568, 4148], \"yaxis\": \"y\", \"type\": \"bar\"}, {\"alignmentgroup\": \"True\", \"hovertemplate\": \"type=death<br>date=4/3/20<br>country=%{x}<br>count=%{y}<extra></extra>\", \"legendgroup\": \"death\", \"marker\": {\"color\": \"#EF553B\"}, \"name\": \"death\", \"offsetgroup\": \"death\", \"orientation\": \"v\", \"showlegend\": true, \"textposition\": \"auto\", \"x\": [\"US\", \"Spain\", \"Italy\", \"Russia\", \"Germany\", \"Brazil\", \"Turkey\", \"Iran\", \"Peru\", \"India\", \"Belgium\", \"Saudi Arabia\", \"Mexico\", \"Switzerland\", \"Ecuador\", \"Pakistan\", \"Portugal\", \"Chile\", \"Sweden\", \"Ireland\"], \"xaxis\": \"x\", \"y\": [9246, 11198, 14681, 34, 1275, 359, 425, 3294, 61, 72, 1143, 25, 60, 591, 145, 40, 246, 22, 358, 120], \"yaxis\": \"y\", \"type\": \"bar\"}, {\"alignmentgroup\": \"True\", \"hovertemplate\": \"type=recovered<br>date=4/3/20<br>country=%{x}<br>count=%{y}<extra></extra>\", \"legendgroup\": \"recovered\", \"marker\": {\"color\": \"#00cc96\"}, \"name\": \"recovered\", \"offsetgroup\": \"recovered\", \"orientation\": \"v\", \"showlegend\": true, \"textposition\": \"auto\", \"x\": [\"US\", \"Spain\", \"Italy\", \"Russia\", \"Germany\", \"Brazil\", \"Turkey\", \"Iran\", \"Peru\", \"India\", \"Belgium\", \"Saudi Arabia\", \"Mexico\", \"Switzerland\", \"Ecuador\", \"Pakistan\", \"Portugal\", \"Chile\", \"Sweden\", \"Ireland\"], \"xaxis\": \"x\", \"y\": [9707, 30513, 19758, 281, 24575, 127, 484, 17935, 537, 192, 2872, 351, 633, 4846, 65, 126, 68, 427, 205, 5], \"yaxis\": \"y\", \"type\": \"bar\"}], \"name\": \"4/3/20\"}, {\"data\": [{\"alignmentgroup\": \"True\", \"hovertemplate\": \"type=confirmed<br>date=4/4/20<br>country=%{x}<br>count=%{y}<extra></extra>\", \"legendgroup\": \"confirmed\", \"marker\": {\"color\": \"#636efa\"}, \"name\": \"confirmed\", \"offsetgroup\": \"confirmed\", \"orientation\": \"v\", \"showlegend\": true, \"textposition\": \"auto\", \"x\": [\"US\", \"Spain\", \"Italy\", \"Russia\", \"Germany\", \"Brazil\", \"Turkey\", \"Iran\", \"Peru\", \"India\", \"Belgium\", \"Saudi Arabia\", \"Mexico\", \"Switzerland\", \"Ecuador\", \"Pakistan\", \"Portugal\", \"Chile\", \"Sweden\", \"Ireland\"], \"xaxis\": \"x\", \"y\": [283143, 80002, 88274, 4355, 68248, 9788, 22647, 32555, 759, 2767, 13901, 1730, 1178, 13424, 3193, 2646, 10183, 3606, 5865, 4442], \"yaxis\": \"y\", \"type\": \"bar\"}, {\"alignmentgroup\": \"True\", \"hovertemplate\": \"type=death<br>date=4/4/20<br>country=%{x}<br>count=%{y}<extra></extra>\", \"legendgroup\": \"death\", \"marker\": {\"color\": \"#EF553B\"}, \"name\": \"death\", \"offsetgroup\": \"death\", \"orientation\": \"v\", \"showlegend\": true, \"textposition\": \"auto\", \"x\": [\"US\", \"Spain\", \"Italy\", \"Russia\", \"Germany\", \"Brazil\", \"Turkey\", \"Iran\", \"Peru\", \"India\", \"Belgium\", \"Saudi Arabia\", \"Mexico\", \"Switzerland\", \"Ecuador\", \"Pakistan\", \"Portugal\", \"Chile\", \"Sweden\", \"Ireland\"], \"xaxis\": \"x\", \"y\": [10855, 11947, 15362, 43, 1444, 445, 501, 3452, 73, 86, 1283, 29, 79, 666, 172, 41, 266, 27, 373, 137], \"yaxis\": \"y\", \"type\": \"bar\"}, {\"alignmentgroup\": \"True\", \"hovertemplate\": \"type=recovered<br>date=4/4/20<br>country=%{x}<br>count=%{y}<extra></extra>\", \"legendgroup\": \"recovered\", \"marker\": {\"color\": \"#00cc96\"}, \"name\": \"recovered\", \"offsetgroup\": \"recovered\", \"orientation\": \"v\", \"showlegend\": true, \"textposition\": \"auto\", \"x\": [\"US\", \"Spain\", \"Italy\", \"Russia\", \"Germany\", \"Brazil\", \"Turkey\", \"Iran\", \"Peru\", \"India\", \"Belgium\", \"Saudi Arabia\", \"Mexico\", \"Switzerland\", \"Ecuador\", \"Pakistan\", \"Portugal\", \"Chile\", \"Sweden\", \"Ireland\"], \"xaxis\": \"x\", \"y\": [14652, 34219, 20996, 333, 26400, 127, 786, 19736, 914, 229, 3247, 420, 633, 6415, 100, 131, 75, 528, 205, 25], \"yaxis\": \"y\", \"type\": \"bar\"}], \"name\": \"4/4/20\"}, {\"data\": [{\"alignmentgroup\": \"True\", \"hovertemplate\": \"type=confirmed<br>date=4/5/20<br>country=%{x}<br>count=%{y}<extra></extra>\", \"legendgroup\": \"confirmed\", \"marker\": {\"color\": \"#636efa\"}, \"name\": \"confirmed\", \"offsetgroup\": \"confirmed\", \"orientation\": \"v\", \"showlegend\": true, \"textposition\": \"auto\", \"x\": [\"US\", \"Spain\", \"Italy\", \"Russia\", \"Germany\", \"Brazil\", \"Turkey\", \"Iran\", \"Peru\", \"India\", \"Belgium\", \"Saudi Arabia\", \"Mexico\", \"Switzerland\", \"Ecuador\", \"Pakistan\", \"Portugal\", \"Chile\", \"Sweden\", \"Ireland\"], \"xaxis\": \"x\", \"y\": [306979, 80925, 91246, 4989, 69839, 10517, 25453, 34887, 1209, 3260, 14493, 1880, 1416, 13970, 3366, 2899, 10908, 3819, 6224, 4811], \"yaxis\": \"y\", \"type\": \"bar\"}, {\"alignmentgroup\": \"True\", \"hovertemplate\": \"type=death<br>date=4/5/20<br>country=%{x}<br>count=%{y}<extra></extra>\", \"legendgroup\": \"death\", \"marker\": {\"color\": \"#EF553B\"}, \"name\": \"death\", \"offsetgroup\": \"death\", \"orientation\": \"v\", \"showlegend\": true, \"textposition\": \"auto\", \"x\": [\"US\", \"Spain\", \"Italy\", \"Russia\", \"Germany\", \"Brazil\", \"Turkey\", \"Iran\", \"Peru\", \"India\", \"Belgium\", \"Saudi Arabia\", \"Mexico\", \"Switzerland\", \"Ecuador\", \"Pakistan\", \"Portugal\", \"Chile\", \"Sweden\", \"Ireland\"], \"xaxis\": \"x\", \"y\": [12375, 12641, 15887, 45, 1584, 486, 574, 3603, 83, 99, 1447, 34, 94, 715, 180, 47, 295, 34, 401, 158], \"yaxis\": \"y\", \"type\": \"bar\"}, {\"alignmentgroup\": \"True\", \"hovertemplate\": \"type=recovered<br>date=4/5/20<br>country=%{x}<br>count=%{y}<extra></extra>\", \"legendgroup\": \"recovered\", \"marker\": {\"color\": \"#00cc96\"}, \"name\": \"recovered\", \"offsetgroup\": \"recovered\", \"orientation\": \"v\", \"showlegend\": true, \"textposition\": \"auto\", \"x\": [\"US\", \"Spain\", \"Italy\", \"Russia\", \"Germany\", \"Brazil\", \"Turkey\", \"Iran\", \"Peru\", \"India\", \"Belgium\", \"Saudi Arabia\", \"Mexico\", \"Switzerland\", \"Ecuador\", \"Pakistan\", \"Portugal\", \"Chile\", \"Sweden\", \"Ireland\"], \"xaxis\": \"x\", \"y\": [17448, 38080, 21815, 355, 28700, 127, 1042, 19736, 989, 229, 3751, 488, 633, 6415, 100, 211, 75, 618, 205, 25], \"yaxis\": \"y\", \"type\": \"bar\"}], \"name\": \"4/5/20\"}, {\"data\": [{\"alignmentgroup\": \"True\", \"hovertemplate\": \"type=confirmed<br>date=4/6/20<br>country=%{x}<br>count=%{y}<extra></extra>\", \"legendgroup\": \"confirmed\", \"marker\": {\"color\": \"#636efa\"}, \"name\": \"confirmed\", \"offsetgroup\": \"confirmed\", \"orientation\": \"v\", \"showlegend\": true, \"textposition\": \"auto\", \"x\": [\"US\", \"Spain\", \"Italy\", \"Russia\", \"Germany\", \"Brazil\", \"Turkey\", \"Iran\", \"Peru\", \"India\", \"Belgium\", \"Saudi Arabia\", \"Mexico\", \"Switzerland\", \"Ecuador\", \"Pakistan\", \"Portugal\", \"Chile\", \"Sweden\", \"Ireland\"], \"xaxis\": \"x\", \"y\": [332842, 82897, 93187, 5890, 72864, 11470, 28242, 32525, 1472, 4267, 15196, 2016, 1681, 12836, 3456, 3454, 11279, 4050, 6524, 5165], \"yaxis\": \"y\", \"type\": \"bar\"}, {\"alignmentgroup\": \"True\", \"hovertemplate\": \"type=death<br>date=4/6/20<br>country=%{x}<br>count=%{y}<extra></extra>\", \"legendgroup\": \"death\", \"marker\": {\"color\": \"#EF553B\"}, \"name\": \"death\", \"offsetgroup\": \"death\", \"orientation\": \"v\", \"showlegend\": true, \"textposition\": \"auto\", \"x\": [\"US\", \"Spain\", \"Italy\", \"Russia\", \"Germany\", \"Brazil\", \"Turkey\", \"Iran\", \"Peru\", \"India\", \"Belgium\", \"Saudi Arabia\", \"Mexico\", \"Switzerland\", \"Ecuador\", \"Pakistan\", \"Portugal\", \"Chile\", \"Sweden\", \"Ireland\"], \"xaxis\": \"x\", \"y\": [13894, 13341, 16523, 47, 1810, 564, 649, 3739, 92, 136, 1632, 38, 125, 765, 191, 53, 311, 37, 477, 174], \"yaxis\": \"y\", \"type\": \"bar\"}, {\"alignmentgroup\": \"True\", \"hovertemplate\": \"type=recovered<br>date=4/6/20<br>country=%{x}<br>count=%{y}<extra></extra>\", \"legendgroup\": \"recovered\", \"marker\": {\"color\": \"#00cc96\"}, \"name\": \"recovered\", \"offsetgroup\": \"recovered\", \"orientation\": \"v\", \"showlegend\": true, \"textposition\": \"auto\", \"x\": [\"US\", \"Spain\", \"Italy\", \"Russia\", \"Germany\", \"Brazil\", \"Turkey\", \"Iran\", \"Peru\", \"India\", \"Belgium\", \"Saudi Arabia\", \"Mexico\", \"Switzerland\", \"Ecuador\", \"Pakistan\", \"Portugal\", \"Chile\", \"Sweden\", \"Ireland\"], \"xaxis\": \"x\", \"y\": [19581, 40437, 22837, 406, 28700, 127, 1326, 24236, 997, 375, 3986, 551, 633, 8056, 100, 259, 140, 728, 205, 25], \"yaxis\": \"y\", \"type\": \"bar\"}], \"name\": \"4/6/20\"}, {\"data\": [{\"alignmentgroup\": \"True\", \"hovertemplate\": \"type=confirmed<br>date=4/7/20<br>country=%{x}<br>count=%{y}<extra></extra>\", \"legendgroup\": \"confirmed\", \"marker\": {\"color\": \"#636efa\"}, \"name\": \"confirmed\", \"offsetgroup\": \"confirmed\", \"orientation\": \"v\", \"showlegend\": true, \"textposition\": \"auto\", \"x\": [\"US\", \"Spain\", \"Italy\", \"Russia\", \"Germany\", \"Brazil\", \"Turkey\", \"Iran\", \"Peru\", \"India\", \"Belgium\", \"Saudi Arabia\", \"Mexico\", \"Switzerland\", \"Ecuador\", \"Pakistan\", \"Portugal\", \"Chile\", \"Sweden\", \"Ireland\"], \"xaxis\": \"x\", \"y\": [359167, 84689, 94067, 6945, 69566, 13221, 31802, 31678, 1546, 4740, 16002, 2139, 2011, 12728, 3456, 3549, 11913, 4175, 6897, 5474], \"yaxis\": \"y\", \"type\": \"bar\"}, {\"alignmentgroup\": \"True\", \"hovertemplate\": \"type=death<br>date=4/7/20<br>country=%{x}<br>count=%{y}<extra></extra>\", \"legendgroup\": \"death\", \"marker\": {\"color\": \"#EF553B\"}, \"name\": \"death\", \"offsetgroup\": \"death\", \"orientation\": \"v\", \"showlegend\": true, \"textposition\": \"auto\", \"x\": [\"US\", \"Spain\", \"Italy\", \"Russia\", \"Germany\", \"Brazil\", \"Turkey\", \"Iran\", \"Peru\", \"India\", \"Belgium\", \"Saudi Arabia\", \"Mexico\", \"Switzerland\", \"Ecuador\", \"Pakistan\", \"Portugal\", \"Chile\", \"Sweden\", \"Ireland\"], \"xaxis\": \"x\", \"y\": [16191, 14045, 17127, 58, 2016, 686, 725, 3872, 107, 150, 2035, 41, 141, 821, 191, 57, 345, 43, 591, 210], \"yaxis\": \"y\", \"type\": \"bar\"}, {\"alignmentgroup\": \"True\", \"hovertemplate\": \"type=recovered<br>date=4/7/20<br>country=%{x}<br>count=%{y}<extra></extra>\", \"legendgroup\": \"recovered\", \"marker\": {\"color\": \"#00cc96\"}, \"name\": \"recovered\", \"offsetgroup\": \"recovered\", \"orientation\": \"v\", \"showlegend\": true, \"textposition\": \"auto\", \"x\": [\"US\", \"Spain\", \"Italy\", \"Russia\", \"Germany\", \"Brazil\", \"Turkey\", \"Iran\", \"Peru\", \"India\", \"Belgium\", \"Saudi Arabia\", \"Mexico\", \"Switzerland\", \"Ecuador\", \"Pakistan\", \"Portugal\", \"Chile\", \"Sweden\", \"Ireland\"], \"xaxis\": \"x\", \"y\": [21763, 43208, 24392, 494, 36081, 127, 1582, 27039, 1301, 421, 4157, 615, 633, 8704, 100, 429, 184, 898, 205, 25], \"yaxis\": \"y\", \"type\": \"bar\"}], \"name\": \"4/7/20\"}, {\"data\": [{\"alignmentgroup\": \"True\", \"hovertemplate\": \"type=confirmed<br>date=4/8/20<br>country=%{x}<br>count=%{y}<extra></extra>\", \"legendgroup\": \"confirmed\", \"marker\": {\"color\": \"#636efa\"}, \"name\": \"confirmed\", \"offsetgroup\": \"confirmed\", \"orientation\": \"v\", \"showlegend\": true, \"textposition\": \"auto\", \"x\": [\"US\", \"Spain\", \"Italy\", \"Russia\", \"Germany\", \"Brazil\", \"Turkey\", \"Iran\", \"Peru\", \"India\", \"Belgium\", \"Saudi Arabia\", \"Mexico\", \"Switzerland\", \"Ecuador\", \"Pakistan\", \"Portugal\", \"Chile\", \"Sweden\", \"Ireland\"], \"xaxis\": \"x\", \"y\": [386825, 85407, 95262, 8029, 64647, 15224, 35568, 30781, 2888, 5232, 16482, 2260, 2374, 12585, 4068, 3735, 12565, 4383, 7527, 5814], \"yaxis\": \"y\", \"type\": \"bar\"}, {\"alignmentgroup\": \"True\", \"hovertemplate\": \"type=death<br>date=4/8/20<br>country=%{x}<br>count=%{y}<extra></extra>\", \"legendgroup\": \"death\", \"marker\": {\"color\": \"#EF553B\"}, \"name\": \"death\", \"offsetgroup\": \"death\", \"orientation\": \"v\", \"showlegend\": true, \"textposition\": \"auto\", \"x\": [\"US\", \"Spain\", \"Italy\", \"Russia\", \"Germany\", \"Brazil\", \"Turkey\", \"Iran\", \"Peru\", \"India\", \"Belgium\", \"Saudi Arabia\", \"Mexico\", \"Switzerland\", \"Ecuador\", \"Pakistan\", \"Portugal\", \"Chile\", \"Sweden\", \"Ireland\"], \"xaxis\": \"x\", \"y\": [18270, 14792, 17669, 63, 2349, 819, 812, 3993, 121, 178, 2240, 41, 174, 895, 242, 61, 380, 48, 687, 235], \"yaxis\": \"y\", \"type\": \"bar\"}, {\"alignmentgroup\": \"True\", \"hovertemplate\": \"type=recovered<br>date=4/8/20<br>country=%{x}<br>count=%{y}<extra></extra>\", \"legendgroup\": \"recovered\", \"marker\": {\"color\": \"#00cc96\"}, \"name\": \"recovered\", \"offsetgroup\": \"recovered\", \"orientation\": \"v\", \"showlegend\": true, \"textposition\": \"auto\", \"x\": [\"US\", \"Spain\", \"Italy\", \"Russia\", \"Germany\", \"Brazil\", \"Turkey\", \"Iran\", \"Peru\", \"India\", \"Belgium\", \"Saudi Arabia\", \"Mexico\", \"Switzerland\", \"Ecuador\", \"Pakistan\", \"Portugal\", \"Chile\", \"Sweden\", \"Ireland\"], \"xaxis\": \"x\", \"y\": [23559, 48021, 26491, 580, 46300, 127, 1846, 29812, 1333, 506, 4681, 631, 633, 9800, 140, 467, 196, 1115, 205, 25], \"yaxis\": \"y\", \"type\": \"bar\"}], \"name\": \"4/8/20\"}, {\"data\": [{\"alignmentgroup\": \"True\", \"hovertemplate\": \"type=confirmed<br>date=4/9/20<br>country=%{x}<br>count=%{y}<extra></extra>\", \"legendgroup\": \"confirmed\", \"marker\": {\"color\": \"#636efa\"}, \"name\": \"confirmed\", \"offsetgroup\": \"confirmed\", \"orientation\": \"v\", \"showlegend\": true, \"textposition\": \"auto\", \"x\": [\"US\", \"Spain\", \"Italy\", \"Russia\", \"Germany\", \"Brazil\", \"Turkey\", \"Iran\", \"Peru\", \"India\", \"Belgium\", \"Saudi Arabia\", \"Mexico\", \"Switzerland\", \"Ecuador\", \"Pakistan\", \"Portugal\", \"Chile\", \"Sweden\", \"Ireland\"], \"xaxis\": \"x\", \"y\": [417115, 85610, 96877, 9357, 63167, 16969, 39232, 29801, 3680, 5879, 17296, 2577, 2614, 12503, 4354, 3852, 13342, 4641, 8143, 6286], \"yaxis\": \"y\", \"type\": \"bar\"}, {\"alignmentgroup\": \"True\", \"hovertemplate\": \"type=death<br>date=4/9/20<br>country=%{x}<br>count=%{y}<extra></extra>\", \"legendgroup\": \"death\", \"marker\": {\"color\": \"#EF553B\"}, \"name\": \"death\", \"offsetgroup\": \"death\", \"orientation\": \"v\", \"showlegend\": true, \"textposition\": \"auto\", \"x\": [\"US\", \"Spain\", \"Italy\", \"Russia\", \"Germany\", \"Brazil\", \"Turkey\", \"Iran\", \"Peru\", \"India\", \"Belgium\", \"Saudi Arabia\", \"Mexico\", \"Switzerland\", \"Ecuador\", \"Pakistan\", \"Portugal\", \"Chile\", \"Sweden\", \"Ireland\"], \"xaxis\": \"x\", \"y\": [20255, 15447, 18279, 76, 2607, 950, 908, 4110, 138, 226, 2523, 44, 194, 948, 272, 65, 409, 57, 793, 263], \"yaxis\": \"y\", \"type\": \"bar\"}, {\"alignmentgroup\": \"True\", \"hovertemplate\": \"type=recovered<br>date=4/9/20<br>country=%{x}<br>count=%{y}<extra></extra>\", \"legendgroup\": \"recovered\", \"marker\": {\"color\": \"#00cc96\"}, \"name\": \"recovered\", \"offsetgroup\": \"recovered\", \"orientation\": \"v\", \"showlegend\": true, \"textposition\": \"auto\", \"x\": [\"US\", \"Spain\", \"Italy\", \"Russia\", \"Germany\", \"Brazil\", \"Turkey\", \"Iran\", \"Peru\", \"India\", \"Belgium\", \"Saudi Arabia\", \"Mexico\", \"Switzerland\", \"Ecuador\", \"Pakistan\", \"Portugal\", \"Chile\", \"Sweden\", \"Ireland\"], \"xaxis\": \"x\", \"y\": [25410, 52165, 28470, 698, 52407, 173, 2142, 32309, 1438, 620, 5164, 666, 633, 10600, 339, 572, 205, 1274, 205, 25], \"yaxis\": \"y\", \"type\": \"bar\"}], \"name\": \"4/9/20\"}, {\"data\": [{\"alignmentgroup\": \"True\", \"hovertemplate\": \"type=confirmed<br>date=4/10/20<br>country=%{x}<br>count=%{y}<extra></extra>\", \"legendgroup\": \"confirmed\", \"marker\": {\"color\": \"#636efa\"}, \"name\": \"confirmed\", \"offsetgroup\": \"confirmed\", \"orientation\": \"v\", \"showlegend\": true, \"textposition\": \"auto\", \"x\": [\"US\", \"Spain\", \"Italy\", \"Russia\", \"Germany\", \"Brazil\", \"Turkey\", \"Iran\", \"Peru\", \"India\", \"Belgium\", \"Saudi Arabia\", \"Mexico\", \"Switzerland\", \"Ecuador\", \"Pakistan\", \"Portugal\", \"Chile\", \"Sweden\", \"Ireland\"], \"xaxis\": \"x\", \"y\": [445412, 86524, 98273, 11028, 65491, 18408, 43600, 28495, 4159, 6578, 18080, 2919, 2978, 12449, 6496, 3902, 14804, 4865, 8434, 7777], \"yaxis\": \"y\", \"type\": \"bar\"}, {\"alignmentgroup\": \"True\", \"hovertemplate\": \"type=death<br>date=4/10/20<br>country=%{x}<br>count=%{y}<extra></extra>\", \"legendgroup\": \"death\", \"marker\": {\"color\": \"#EF553B\"}, \"name\": \"death\", \"offsetgroup\": \"death\", \"orientation\": \"v\", \"showlegend\": true, \"textposition\": \"auto\", \"x\": [\"US\", \"Spain\", \"Italy\", \"Russia\", \"Germany\", \"Brazil\", \"Turkey\", \"Iran\", \"Peru\", \"India\", \"Belgium\", \"Saudi Arabia\", \"Mexico\", \"Switzerland\", \"Ecuador\", \"Pakistan\", \"Portugal\", \"Chile\", \"Sweden\", \"Ireland\"], \"xaxis\": \"x\", \"y\": [22333, 16081, 18849, 94, 2767, 1057, 1006, 4232, 169, 246, 3019, 47, 233, 1002, 297, 66, 435, 65, 870, 287], \"yaxis\": \"y\", \"type\": \"bar\"}, {\"alignmentgroup\": \"True\", \"hovertemplate\": \"type=recovered<br>date=4/10/20<br>country=%{x}<br>count=%{y}<extra></extra>\", \"legendgroup\": \"recovered\", \"marker\": {\"color\": \"#00cc96\"}, \"name\": \"recovered\", \"offsetgroup\": \"recovered\", \"orientation\": \"v\", \"showlegend\": true, \"textposition\": \"auto\", \"x\": [\"US\", \"Spain\", \"Italy\", \"Russia\", \"Germany\", \"Brazil\", \"Turkey\", \"Iran\", \"Peru\", \"India\", \"Belgium\", \"Saudi Arabia\", \"Mexico\", \"Switzerland\", \"Ecuador\", \"Pakistan\", \"Portugal\", \"Chile\", \"Sweden\", \"Ireland\"], \"xaxis\": \"x\", \"y\": [28790, 55668, 30455, 795, 53913, 173, 2423, 35465, 1569, 774, 5568, 685, 633, 11100, 368, 727, 233, 1571, 381, 25], \"yaxis\": \"y\", \"type\": \"bar\"}], \"name\": \"4/10/20\"}, {\"data\": [{\"alignmentgroup\": \"True\", \"hovertemplate\": \"type=confirmed<br>date=4/11/20<br>country=%{x}<br>count=%{y}<extra></extra>\", \"legendgroup\": \"confirmed\", \"marker\": {\"color\": \"#636efa\"}, \"name\": \"confirmed\", \"offsetgroup\": \"confirmed\", \"orientation\": \"v\", \"showlegend\": true, \"textposition\": \"auto\", \"x\": [\"US\", \"Spain\", \"Italy\", \"Russia\", \"Germany\", \"Brazil\", \"Turkey\", \"Iran\", \"Peru\", \"India\", \"Belgium\", \"Saudi Arabia\", \"Mexico\", \"Switzerland\", \"Ecuador\", \"Pakistan\", \"Portugal\", \"Chile\", \"Sweden\", \"Ireland\"], \"xaxis\": \"x\", \"y\": [470784, 87312, 100269, 12433, 64772, 19430, 48101, 23725, 4928, 7189, 18686, 3261, 3313, 11971, 6531, 4163, 15251, 4990, 8883, 8583], \"yaxis\": \"y\", \"type\": \"bar\"}, {\"alignmentgroup\": \"True\", \"hovertemplate\": \"type=death<br>date=4/11/20<br>country=%{x}<br>count=%{y}<extra></extra>\", \"legendgroup\": \"death\", \"marker\": {\"color\": \"#EF553B\"}, \"name\": \"death\", \"offsetgroup\": \"death\", \"orientation\": \"v\", \"showlegend\": true, \"textposition\": \"auto\", \"x\": [\"US\", \"Spain\", \"Italy\", \"Russia\", \"Germany\", \"Brazil\", \"Turkey\", \"Iran\", \"Peru\", \"India\", \"Belgium\", \"Saudi Arabia\", \"Mexico\", \"Switzerland\", \"Ecuador\", \"Pakistan\", \"Portugal\", \"Chile\", \"Sweden\", \"Ireland\"], \"xaxis\": \"x\", \"y\": [24342, 16606, 19468, 106, 2736, 1124, 1101, 4357, 181, 288, 3346, 52, 273, 1036, 315, 86, 470, 73, 887, 320], \"yaxis\": \"y\", \"type\": \"bar\"}, {\"alignmentgroup\": \"True\", \"hovertemplate\": \"type=recovered<br>date=4/11/20<br>country=%{x}<br>count=%{y}<extra></extra>\", \"legendgroup\": \"recovered\", \"marker\": {\"color\": \"#00cc96\"}, \"name\": \"recovered\", \"offsetgroup\": \"recovered\", \"orientation\": \"v\", \"showlegend\": true, \"textposition\": \"auto\", \"x\": [\"US\", \"Spain\", \"Italy\", \"Russia\", \"Germany\", \"Brazil\", \"Turkey\", \"Iran\", \"Peru\", \"India\", \"Belgium\", \"Saudi Arabia\", \"Mexico\", \"Switzerland\", \"Ecuador\", \"Pakistan\", \"Portugal\", \"Chile\", \"Sweden\", \"Ireland\"], \"xaxis\": \"x\", \"y\": [31270, 59109, 32534, 1045, 57400, 173, 2965, 41947, 1739, 969, 5986, 720, 633, 12100, 411, 762, 266, 1864, 381, 25], \"yaxis\": \"y\", \"type\": \"bar\"}], \"name\": \"4/11/20\"}, {\"data\": [{\"alignmentgroup\": \"True\", \"hovertemplate\": \"type=confirmed<br>date=4/12/20<br>country=%{x}<br>count=%{y}<extra></extra>\", \"legendgroup\": \"confirmed\", \"marker\": {\"color\": \"#636efa\"}, \"name\": \"confirmed\", \"offsetgroup\": \"confirmed\", \"orientation\": \"v\", \"showlegend\": true, \"textposition\": \"auto\", \"x\": [\"US\", \"Spain\", \"Italy\", \"Russia\", \"Germany\", \"Brazil\", \"Turkey\", \"Iran\", \"Peru\", \"India\", \"Belgium\", \"Saudi Arabia\", \"Mexico\", \"Switzerland\", \"Ecuador\", \"Pakistan\", \"Portugal\", \"Chile\", \"Sweden\", \"Ireland\"], \"xaxis\": \"x\", \"y\": [496239, 87231, 102253, 14349, 64532, 20796, 52312, 23318, 5528, 7794, 19584, 3642, 2593, 11609, 6632, 4111, 15804, 5074, 9203, 9296], \"yaxis\": \"y\", \"type\": \"bar\"}, {\"alignmentgroup\": \"True\", \"hovertemplate\": \"type=death<br>date=4/12/20<br>country=%{x}<br>count=%{y}<extra></extra>\", \"legendgroup\": \"death\", \"marker\": {\"color\": \"#EF553B\"}, \"name\": \"death\", \"offsetgroup\": \"death\", \"orientation\": \"v\", \"showlegend\": true, \"textposition\": \"auto\", \"x\": [\"US\", \"Spain\", \"Italy\", \"Russia\", \"Germany\", \"Brazil\", \"Turkey\", \"Iran\", \"Peru\", \"India\", \"Belgium\", \"Saudi Arabia\", \"Mexico\", \"Switzerland\", \"Ecuador\", \"Pakistan\", \"Portugal\", \"Chile\", \"Sweden\", \"Ireland\"], \"xaxis\": \"x\", \"y\": [26086, 17209, 19899, 130, 3022, 1223, 1198, 4474, 193, 331, 3600, 59, 296, 1106, 333, 91, 504, 80, 899, 334], \"yaxis\": \"y\", \"type\": \"bar\"}, {\"alignmentgroup\": \"True\", \"hovertemplate\": \"type=recovered<br>date=4/12/20<br>country=%{x}<br>count=%{y}<extra></extra>\", \"legendgroup\": \"recovered\", \"marker\": {\"color\": \"#00cc96\"}, \"name\": \"recovered\", \"offsetgroup\": \"recovered\", \"orientation\": \"v\", \"showlegend\": true, \"textposition\": \"auto\", \"x\": [\"US\", \"Spain\", \"Italy\", \"Russia\", \"Germany\", \"Brazil\", \"Turkey\", \"Iran\", \"Peru\", \"India\", \"Belgium\", \"Saudi Arabia\", \"Mexico\", \"Switzerland\", \"Ecuador\", \"Pakistan\", \"Portugal\", \"Chile\", \"Sweden\", \"Ireland\"], \"xaxis\": \"x\", \"y\": [32988, 62391, 34211, 1291, 60300, 173, 3446, 43894, 1798, 1080, 6463, 761, 1772, 12700, 501, 1028, 277, 2059, 381, 25], \"yaxis\": \"y\", \"type\": \"bar\"}], \"name\": \"4/12/20\"}, {\"data\": [{\"alignmentgroup\": \"True\", \"hovertemplate\": \"type=confirmed<br>date=4/13/20<br>country=%{x}<br>count=%{y}<extra></extra>\", \"legendgroup\": \"confirmed\", \"marker\": {\"color\": \"#636efa\"}, \"name\": \"confirmed\", \"offsetgroup\": \"confirmed\", \"orientation\": \"v\", \"showlegend\": true, \"textposition\": \"auto\", \"x\": [\"US\", \"Spain\", \"Italy\", \"Russia\", \"Germany\", \"Brazil\", \"Turkey\", \"Iran\", \"Peru\", \"India\", \"Belgium\", \"Saudi Arabia\", \"Mexico\", \"Switzerland\", \"Ecuador\", \"Pakistan\", \"Portugal\", \"Chile\", \"Sweden\", \"Ireland\"], \"xaxis\": \"x\", \"y\": [509267, 87616, 103616, 16710, 62578, 21929, 55796, 22735, 6926, 8914, 19979, 4064, 2839, 10850, 6577, 4308, 16122, 5076, 9648, 10257], \"yaxis\": \"y\", \"type\": \"bar\"}, {\"alignmentgroup\": \"True\", \"hovertemplate\": \"type=death<br>date=4/13/20<br>country=%{x}<br>count=%{y}<extra></extra>\", \"legendgroup\": \"death\", \"marker\": {\"color\": \"#EF553B\"}, \"name\": \"death\", \"offsetgroup\": \"death\", \"orientation\": \"v\", \"showlegend\": true, \"textposition\": \"auto\", \"x\": [\"US\", \"Spain\", \"Italy\", \"Russia\", \"Germany\", \"Brazil\", \"Turkey\", \"Iran\", \"Peru\", \"India\", \"Belgium\", \"Saudi Arabia\", \"Mexico\", \"Switzerland\", \"Ecuador\", \"Pakistan\", \"Portugal\", \"Chile\", \"Sweden\", \"Ireland\"], \"xaxis\": \"x\", \"y\": [27870, 17756, 20465, 148, 3194, 1328, 1296, 4585, 216, 358, 3903, 65, 332, 1138, 355, 93, 535, 82, 919, 365], \"yaxis\": \"y\", \"type\": \"bar\"}, {\"alignmentgroup\": \"True\", \"hovertemplate\": \"type=recovered<br>date=4/13/20<br>country=%{x}<br>count=%{y}<extra></extra>\", \"legendgroup\": \"recovered\", \"marker\": {\"color\": \"#00cc96\"}, \"name\": \"recovered\", \"offsetgroup\": \"recovered\", \"orientation\": \"v\", \"showlegend\": true, \"textposition\": \"auto\", \"x\": [\"US\", \"Spain\", \"Italy\", \"Russia\", \"Germany\", \"Brazil\", \"Turkey\", \"Iran\", \"Peru\", \"India\", \"Belgium\", \"Saudi Arabia\", \"Mexico\", \"Switzerland\", \"Ecuador\", \"Pakistan\", \"Portugal\", \"Chile\", \"Sweden\", \"Ireland\"], \"xaxis\": \"x\", \"y\": [43482, 64727, 35435, 1470, 64300, 173, 3957, 45983, 2642, 1181, 6707, 805, 1843, 13700, 597, 1095, 277, 2367, 381, 25], \"yaxis\": \"y\", \"type\": \"bar\"}], \"name\": \"4/13/20\"}, {\"data\": [{\"alignmentgroup\": \"True\", \"hovertemplate\": \"type=confirmed<br>date=4/14/20<br>country=%{x}<br>count=%{y}<extra></extra>\", \"legendgroup\": \"confirmed\", \"marker\": {\"color\": \"#636efa\"}, \"name\": \"confirmed\", \"offsetgroup\": \"confirmed\", \"orientation\": \"v\", \"showlegend\": true, \"textposition\": \"auto\", \"x\": [\"US\", \"Spain\", \"Italy\", \"Russia\", \"Germany\", \"Brazil\", \"Turkey\", \"Iran\", \"Peru\", \"India\", \"Belgium\", \"Saudi Arabia\", \"Mexico\", \"Switzerland\", \"Ecuador\", \"Pakistan\", \"Portugal\", \"Chile\", \"Sweden\", \"Ireland\"], \"xaxis\": \"x\", \"y\": [529645, 86981, 104291, 19238, 59865, 20684, 58909, 22065, 7204, 9735, 20094, 4407, 3029, 11062, 6538, 4363, 16534, 5179, 10031, 11048], \"yaxis\": \"y\", \"type\": \"bar\"}, {\"alignmentgroup\": \"True\", \"hovertemplate\": \"type=death<br>date=4/14/20<br>country=%{x}<br>count=%{y}<extra></extra>\", \"legendgroup\": \"death\", \"marker\": {\"color\": \"#EF553B\"}, \"name\": \"death\", \"offsetgroup\": \"death\", \"orientation\": \"v\", \"showlegend\": true, \"textposition\": \"auto\", \"x\": [\"US\", \"Spain\", \"Italy\", \"Russia\", \"Germany\", \"Brazil\", \"Turkey\", \"Iran\", \"Peru\", \"India\", \"Belgium\", \"Saudi Arabia\", \"Mexico\", \"Switzerland\", \"Ecuador\", \"Pakistan\", \"Portugal\", \"Chile\", \"Sweden\", \"Ireland\"], \"xaxis\": \"x\", \"y\": [30262, 18056, 21067, 170, 3294, 1532, 1403, 4683, 230, 393, 4157, 73, 406, 1174, 369, 96, 567, 92, 1033, 406], \"yaxis\": \"y\", \"type\": \"bar\"}, {\"alignmentgroup\": \"True\", \"hovertemplate\": \"type=recovered<br>date=4/14/20<br>country=%{x}<br>count=%{y}<extra></extra>\", \"legendgroup\": \"recovered\", \"marker\": {\"color\": \"#00cc96\"}, \"name\": \"recovered\", \"offsetgroup\": \"recovered\", \"orientation\": \"v\", \"showlegend\": true, \"textposition\": \"auto\", \"x\": [\"US\", \"Spain\", \"Italy\", \"Russia\", \"Germany\", \"Brazil\", \"Turkey\", \"Iran\", \"Peru\", \"India\", \"Belgium\", \"Saudi Arabia\", \"Mexico\", \"Switzerland\", \"Ecuador\", \"Pakistan\", \"Portugal\", \"Chile\", \"Sweden\", \"Ireland\"], \"xaxis\": \"x\", \"y\": [47763, 67504, 37130, 1694, 68200, 3046, 4799, 48129, 2869, 1359, 6868, 889, 1964, 13700, 696, 1378, 347, 2646, 381, 25], \"yaxis\": \"y\", \"type\": \"bar\"}], \"name\": \"4/14/20\"}, {\"data\": [{\"alignmentgroup\": \"True\", \"hovertemplate\": \"type=confirmed<br>date=4/15/20<br>country=%{x}<br>count=%{y}<extra></extra>\", \"legendgroup\": \"confirmed\", \"marker\": {\"color\": \"#636efa\"}, \"name\": \"confirmed\", \"offsetgroup\": \"confirmed\", \"orientation\": \"v\", \"showlegend\": true, \"textposition\": \"auto\", \"x\": [\"US\", \"Spain\", \"Italy\", \"Russia\", \"Germany\", \"Brazil\", \"Turkey\", \"Iran\", \"Peru\", \"India\", \"Belgium\", \"Saudi Arabia\", \"Mexico\", \"Switzerland\", \"Ecuador\", \"Pakistan\", \"Portugal\", \"Chile\", \"Sweden\", \"Ireland\"], \"xaxis\": \"x\", \"y\": [551520, 88083, 105418, 22306, 58349, 12558, 62200, 21679, 8113, 10485, 22026, 4852, 3273, 9697, 6690, 4826, 17109, 5242, 10343, 12026], \"yaxis\": \"y\", \"type\": \"bar\"}, {\"alignmentgroup\": \"True\", \"hovertemplate\": \"type=death<br>date=4/15/20<br>country=%{x}<br>count=%{y}<extra></extra>\", \"legendgroup\": \"death\", \"marker\": {\"color\": \"#EF553B\"}, \"name\": \"death\", \"offsetgroup\": \"death\", \"orientation\": \"v\", \"showlegend\": true, \"textposition\": \"auto\", \"x\": [\"US\", \"Spain\", \"Italy\", \"Russia\", \"Germany\", \"Brazil\", \"Turkey\", \"Iran\", \"Peru\", \"India\", \"Belgium\", \"Saudi Arabia\", \"Mexico\", \"Switzerland\", \"Ecuador\", \"Pakistan\", \"Portugal\", \"Chile\", \"Sweden\", \"Ireland\"], \"xaxis\": \"x\", \"y\": [32734, 18708, 21645, 198, 3804, 1736, 1518, 4777, 254, 405, 4440, 79, 449, 1239, 388, 111, 599, 94, 1203, 444], \"yaxis\": \"y\", \"type\": \"bar\"}, {\"alignmentgroup\": \"True\", \"hovertemplate\": \"type=recovered<br>date=4/15/20<br>country=%{x}<br>count=%{y}<extra></extra>\", \"legendgroup\": \"recovered\", \"marker\": {\"color\": \"#00cc96\"}, \"name\": \"recovered\", \"offsetgroup\": \"recovered\", \"orientation\": \"v\", \"showlegend\": true, \"textposition\": \"auto\", \"x\": [\"US\", \"Spain\", \"Italy\", \"Russia\", \"Germany\", \"Brazil\", \"Turkey\", \"Iran\", \"Peru\", \"India\", \"Belgium\", \"Saudi Arabia\", \"Mexico\", \"Switzerland\", \"Ecuador\", \"Pakistan\", \"Portugal\", \"Chile\", \"Sweden\", \"Ireland\"], \"xaxis\": \"x\", \"y\": [52096, 70853, 38092, 1986, 72600, 14026, 5674, 49933, 3108, 1432, 7107, 931, 2125, 15400, 780, 1446, 383, 2937, 381, 77], \"yaxis\": \"y\", \"type\": \"bar\"}], \"name\": \"4/15/20\"}, {\"data\": [{\"alignmentgroup\": \"True\", \"hovertemplate\": \"type=confirmed<br>date=4/16/20<br>country=%{x}<br>count=%{y}<extra></extra>\", \"legendgroup\": \"confirmed\", \"marker\": {\"color\": \"#636efa\"}, \"name\": \"confirmed\", \"offsetgroup\": \"confirmed\", \"orientation\": \"v\", \"showlegend\": true, \"textposition\": \"auto\", \"x\": [\"US\", \"Spain\", \"Italy\", \"Russia\", \"Germany\", \"Brazil\", \"Turkey\", \"Iran\", \"Peru\", \"India\", \"Belgium\", \"Saudi Arabia\", \"Mexico\", \"Switzerland\", \"Ecuador\", \"Pakistan\", \"Portugal\", \"Chile\", \"Sweden\", \"Ireland\"], \"xaxis\": \"x\", \"y\": [578062, 90836, 106607, 25402, 56646, 14475, 65461, 20897, 6097, 11214, 22390, 5307, 3686, 9551, 6984, 5146, 17719, 5403, 10657, 12708], \"yaxis\": \"y\", \"type\": \"bar\"}, {\"alignmentgroup\": \"True\", \"hovertemplate\": \"type=death<br>date=4/16/20<br>country=%{x}<br>count=%{y}<extra></extra>\", \"legendgroup\": \"death\", \"marker\": {\"color\": \"#EF553B\"}, \"name\": \"death\", \"offsetgroup\": \"death\", \"orientation\": \"v\", \"showlegend\": true, \"textposition\": \"auto\", \"x\": [\"US\", \"Spain\", \"Italy\", \"Russia\", \"Germany\", \"Brazil\", \"Turkey\", \"Iran\", \"Peru\", \"India\", \"Belgium\", \"Saudi Arabia\", \"Mexico\", \"Switzerland\", \"Ecuador\", \"Pakistan\", \"Portugal\", \"Chile\", \"Sweden\", \"Ireland\"], \"xaxis\": \"x\", \"y\": [34827, 19315, 22170, 232, 4052, 1924, 1643, 4869, 274, 448, 4857, 83, 486, 1281, 403, 128, 629, 105, 1333, 486], \"yaxis\": \"y\", \"type\": \"bar\"}, {\"alignmentgroup\": \"True\", \"hovertemplate\": \"type=recovered<br>date=4/16/20<br>country=%{x}<br>count=%{y}<extra></extra>\", \"legendgroup\": \"recovered\", \"marker\": {\"color\": \"#00cc96\"}, \"name\": \"recovered\", \"offsetgroup\": \"recovered\", \"orientation\": \"v\", \"showlegend\": true, \"textposition\": \"auto\", \"x\": [\"US\", \"Spain\", \"Italy\", \"Russia\", \"Germany\", \"Brazil\", \"Turkey\", \"Iran\", \"Peru\", \"India\", \"Belgium\", \"Saudi Arabia\", \"Mexico\", \"Switzerland\", \"Ecuador\", \"Pakistan\", \"Portugal\", \"Chile\", \"Sweden\", \"Ireland\"], \"xaxis\": \"x\", \"y\": [54703, 74797, 40164, 2304, 77000, 14026, 7089, 52229, 6120, 1768, 7562, 990, 2125, 15900, 838, 1645, 493, 3299, 550, 77], \"yaxis\": \"y\", \"type\": \"bar\"}], \"name\": \"4/16/20\"}, {\"data\": [{\"alignmentgroup\": \"True\", \"hovertemplate\": \"type=confirmed<br>date=4/17/20<br>country=%{x}<br>count=%{y}<extra></extra>\", \"legendgroup\": \"confirmed\", \"marker\": {\"color\": \"#636efa\"}, \"name\": \"confirmed\", \"offsetgroup\": \"confirmed\", \"orientation\": \"v\", \"showlegend\": true, \"textposition\": \"auto\", \"x\": [\"US\", \"Spain\", \"Italy\", \"Russia\", \"Germany\", \"Brazil\", \"Turkey\", \"Iran\", \"Peru\", \"India\", \"Belgium\", \"Saudi Arabia\", \"Mexico\", \"Switzerland\", \"Ecuador\", \"Pakistan\", \"Portugal\", \"Chile\", \"Sweden\", \"Ireland\"], \"xaxis\": \"x\", \"y\": [603750, 96040, 106962, 29145, 53931, 17515, 68146, 20472, 6648, 11825, 23014, 6006, 4204, 9351, 7191, 5125, 17846, 5515, 11266, 13373], \"yaxis\": \"y\", \"type\": \"bar\"}, {\"alignmentgroup\": \"True\", \"hovertemplate\": \"type=death<br>date=4/17/20<br>country=%{x}<br>count=%{y}<extra></extra>\", \"legendgroup\": \"death\", \"marker\": {\"color\": \"#EF553B\"}, \"name\": \"death\", \"offsetgroup\": \"death\", \"orientation\": \"v\", \"showlegend\": true, \"textposition\": \"auto\", \"x\": [\"US\", \"Spain\", \"Italy\", \"Russia\", \"Germany\", \"Brazil\", \"Turkey\", \"Iran\", \"Peru\", \"India\", \"Belgium\", \"Saudi Arabia\", \"Mexico\", \"Switzerland\", \"Ecuador\", \"Pakistan\", \"Portugal\", \"Chile\", \"Sweden\", \"Ireland\"], \"xaxis\": \"x\", \"y\": [37411, 20002, 22745, 273, 4352, 2141, 1769, 4958, 300, 486, 5163, 87, 546, 1327, 421, 135, 657, 116, 1400, 530], \"yaxis\": \"y\", \"type\": \"bar\"}, {\"alignmentgroup\": \"True\", \"hovertemplate\": \"type=recovered<br>date=4/17/20<br>country=%{x}<br>count=%{y}<extra></extra>\", \"legendgroup\": \"recovered\", \"marker\": {\"color\": \"#00cc96\"}, \"name\": \"recovered\", \"offsetgroup\": \"recovered\", \"orientation\": \"v\", \"showlegend\": true, \"textposition\": \"auto\", \"x\": [\"US\", \"Spain\", \"Italy\", \"Russia\", \"Germany\", \"Brazil\", \"Turkey\", \"Iran\", \"Peru\", \"India\", \"Belgium\", \"Saudi Arabia\", \"Mexico\", \"Switzerland\", \"Ecuador\", \"Pakistan\", \"Portugal\", \"Chile\", \"Sweden\", \"Ireland\"], \"xaxis\": \"x\", \"y\": [58545, 74797, 42727, 2590, 83114, 14026, 8631, 54064, 6541, 2041, 7961, 1049, 2125, 16400, 838, 1765, 519, 3621, 550, 77], \"yaxis\": \"y\", \"type\": \"bar\"}], \"name\": \"4/17/20\"}, {\"data\": [{\"alignmentgroup\": \"True\", \"hovertemplate\": \"type=confirmed<br>date=4/18/20<br>country=%{x}<br>count=%{y}<extra></extra>\", \"legendgroup\": \"confirmed\", \"marker\": {\"color\": \"#636efa\"}, \"name\": \"confirmed\", \"offsetgroup\": \"confirmed\", \"orientation\": \"v\", \"showlegend\": true, \"textposition\": \"auto\", \"x\": [\"US\", \"Spain\", \"Italy\", \"Russia\", \"Germany\", \"Brazil\", \"Turkey\", \"Iran\", \"Peru\", \"India\", \"Belgium\", \"Saudi Arabia\", \"Mexico\", \"Switzerland\", \"Ecuador\", \"Pakistan\", \"Portugal\", \"Chile\", \"Sweden\", \"Ireland\"], \"xaxis\": \"x\", \"y\": [627604, 96886, 107771, 33423, 53483, 20278, 69986, 19850, 7388, 12738, 23382, 6853, 4722, 8936, 7558, 5663, 18388, 5569, 11761, 14110], \"yaxis\": \"y\", \"type\": \"bar\"}, {\"alignmentgroup\": \"True\", \"hovertemplate\": \"type=death<br>date=4/18/20<br>country=%{x}<br>count=%{y}<extra></extra>\", \"legendgroup\": \"death\", \"marker\": {\"color\": \"#EF553B\"}, \"name\": \"death\", \"offsetgroup\": \"death\", \"orientation\": \"v\", \"showlegend\": true, \"textposition\": \"auto\", \"x\": [\"US\", \"Spain\", \"Italy\", \"Russia\", \"Germany\", \"Brazil\", \"Turkey\", \"Iran\", \"Peru\", \"India\", \"Belgium\", \"Saudi Arabia\", \"Mexico\", \"Switzerland\", \"Ecuador\", \"Pakistan\", \"Portugal\", \"Chile\", \"Sweden\", \"Ireland\"], \"xaxis\": \"x\", \"y\": [39753, 20043, 23227, 313, 4459, 2354, 1890, 5031, 348, 521, 5453, 92, 650, 1368, 456, 143, 687, 126, 1511, 571], \"yaxis\": \"y\", \"type\": \"bar\"}, {\"alignmentgroup\": \"True\", \"hovertemplate\": \"type=recovered<br>date=4/18/20<br>country=%{x}<br>count=%{y}<extra></extra>\", \"legendgroup\": \"recovered\", \"marker\": {\"color\": \"#00cc96\"}, \"name\": \"recovered\", \"offsetgroup\": \"recovered\", \"orientation\": \"v\", \"showlegend\": true, \"textposition\": \"auto\", \"x\": [\"US\", \"Spain\", \"Italy\", \"Russia\", \"Germany\", \"Brazil\", \"Turkey\", \"Iran\", \"Peru\", \"India\", \"Belgium\", \"Saudi Arabia\", \"Mexico\", \"Switzerland\", \"Ecuador\", \"Pakistan\", \"Portugal\", \"Chile\", \"Sweden\", \"Ireland\"], \"xaxis\": \"x\", \"y\": [64840, 74797, 44927, 3057, 85400, 14026, 10453, 55987, 6684, 2463, 8348, 1329, 2125, 17100, 1008, 1832, 610, 4035, 550, 77], \"yaxis\": \"y\", \"type\": \"bar\"}], \"name\": \"4/18/20\"}, {\"data\": [{\"alignmentgroup\": \"True\", \"hovertemplate\": \"type=confirmed<br>date=4/19/20<br>country=%{x}<br>count=%{y}<extra></extra>\", \"legendgroup\": \"confirmed\", \"marker\": {\"color\": \"#636efa\"}, \"name\": \"confirmed\", \"offsetgroup\": \"confirmed\", \"orientation\": \"v\", \"showlegend\": true, \"textposition\": \"auto\", \"x\": [\"US\", \"Spain\", \"Italy\", \"Russia\", \"Germany\", \"Brazil\", \"Turkey\", \"Iran\", \"Peru\", \"India\", \"Belgium\", \"Saudi Arabia\", \"Mexico\", \"Switzerland\", \"Ecuador\", \"Pakistan\", \"Portugal\", \"Chile\", \"Sweden\", \"Ireland\"], \"xaxis\": \"x\", \"y\": [647527, 100864, 108257, 39201, 52598, 14062, 72313, 20070, 8417, 14202, 24056, 7867, 4948, 8547, 7933, 6312, 18882, 5617, 12295, 14564], \"yaxis\": \"y\", \"type\": \"bar\"}, {\"alignmentgroup\": \"True\", \"hovertemplate\": \"type=death<br>date=4/19/20<br>country=%{x}<br>count=%{y}<extra></extra>\", \"legendgroup\": \"death\", \"marker\": {\"color\": \"#EF553B\"}, \"name\": \"death\", \"offsetgroup\": \"death\", \"orientation\": \"v\", \"showlegend\": true, \"textposition\": \"auto\", \"x\": [\"US\", \"Spain\", \"Italy\", \"Russia\", \"Germany\", \"Brazil\", \"Turkey\", \"Iran\", \"Peru\", \"India\", \"Belgium\", \"Saudi Arabia\", \"Mexico\", \"Switzerland\", \"Ecuador\", \"Pakistan\", \"Portugal\", \"Chile\", \"Sweden\", \"Ireland\"], \"xaxis\": \"x\", \"y\": [40945, 20453, 23660, 361, 4586, 2462, 2017, 5118, 400, 559, 5683, 97, 686, 1393, 474, 168, 714, 133, 1540, 610], \"yaxis\": \"y\", \"type\": \"bar\"}, {\"alignmentgroup\": \"True\", \"hovertemplate\": \"type=recovered<br>date=4/19/20<br>country=%{x}<br>count=%{y}<extra></extra>\", \"legendgroup\": \"recovered\", \"marker\": {\"color\": \"#00cc96\"}, \"name\": \"recovered\", \"offsetgroup\": \"recovered\", \"orientation\": \"v\", \"showlegend\": true, \"textposition\": \"auto\", \"x\": [\"US\", \"Spain\", \"Italy\", \"Russia\", \"Germany\", \"Brazil\", \"Turkey\", \"Iran\", \"Peru\", \"India\", \"Belgium\", \"Saudi Arabia\", \"Mexico\", \"Switzerland\", \"Ecuador\", \"Pakistan\", \"Portugal\", \"Chile\", \"Sweden\", \"Ireland\"], \"xaxis\": \"x\", \"y\": [70337, 77357, 47055, 3291, 88000, 22130, 11976, 57023, 6811, 2854, 8757, 1398, 2627, 17800, 1061, 1868, 610, 4338, 550, 77], \"yaxis\": \"y\", \"type\": \"bar\"}], \"name\": \"4/19/20\"}, {\"data\": [{\"alignmentgroup\": \"True\", \"hovertemplate\": \"type=confirmed<br>date=4/20/20<br>country=%{x}<br>count=%{y}<extra></extra>\", \"legendgroup\": \"confirmed\", \"marker\": {\"color\": \"#636efa\"}, \"name\": \"confirmed\", \"offsetgroup\": \"confirmed\", \"orientation\": \"v\", \"showlegend\": true, \"textposition\": \"auto\", \"x\": [\"US\", \"Spain\", \"Italy\", \"Russia\", \"Germany\", \"Brazil\", \"Turkey\", \"Iran\", \"Peru\", \"India\", \"Belgium\", \"Saudi Arabia\", \"Mexico\", \"Switzerland\", \"Ecuador\", \"Pakistan\", \"Portugal\", \"Chile\", \"Sweden\", \"Ireland\"], \"xaxis\": \"x\", \"y\": [669338, 98771, 108237, 43270, 50703, 16026, 75410, 19023, 8912, 14674, 25260, 8891, 5433, 7915, 8471, 6272, 19518, 5692, 12647, 14888], \"yaxis\": \"y\", \"type\": \"bar\"}, {\"alignmentgroup\": \"True\", \"hovertemplate\": \"type=death<br>date=4/20/20<br>country=%{x}<br>count=%{y}<extra></extra>\", \"legendgroup\": \"death\", \"marker\": {\"color\": \"#EF553B\"}, \"name\": \"death\", \"offsetgroup\": \"death\", \"orientation\": \"v\", \"showlegend\": true, \"textposition\": \"auto\", \"x\": [\"US\", \"Spain\", \"Italy\", \"Russia\", \"Germany\", \"Brazil\", \"Turkey\", \"Iran\", \"Peru\", \"India\", \"Belgium\", \"Saudi Arabia\", \"Mexico\", \"Switzerland\", \"Ecuador\", \"Pakistan\", \"Portugal\", \"Chile\", \"Sweden\", \"Ireland\"], \"xaxis\": \"x\", \"y\": [42659, 20852, 24114, 405, 4862, 2587, 2140, 5209, 445, 592, 5828, 103, 712, 1429, 507, 176, 735, 139, 1580, 687], \"yaxis\": \"y\", \"type\": \"bar\"}, {\"alignmentgroup\": \"True\", \"hovertemplate\": \"type=recovered<br>date=4/20/20<br>country=%{x}<br>count=%{y}<extra></extra>\", \"legendgroup\": \"recovered\", \"marker\": {\"color\": \"#00cc96\"}, \"name\": \"recovered\", \"offsetgroup\": \"recovered\", \"orientation\": \"v\", \"showlegend\": true, \"textposition\": \"auto\", \"x\": [\"US\", \"Spain\", \"Italy\", \"Russia\", \"Germany\", \"Brazil\", \"Turkey\", \"Iran\", \"Peru\", \"India\", \"Belgium\", \"Saudi Arabia\", \"Mexico\", \"Switzerland\", \"Ecuador\", \"Pakistan\", \"Portugal\", \"Chile\", \"Sweden\", \"Ireland\"], \"xaxis\": \"x\", \"y\": [72329, 80587, 48877, 3446, 91500, 22130, 13430, 59273, 6968, 3273, 8895, 1490, 2627, 18600, 1150, 1970, 610, 4676, 550, 77], \"yaxis\": \"y\", \"type\": \"bar\"}], \"name\": \"4/20/20\"}, {\"data\": [{\"alignmentgroup\": \"True\", \"hovertemplate\": \"type=confirmed<br>date=4/21/20<br>country=%{x}<br>count=%{y}<extra></extra>\", \"legendgroup\": \"confirmed\", \"marker\": {\"color\": \"#636efa\"}, \"name\": \"confirmed\", \"offsetgroup\": \"confirmed\", \"orientation\": \"v\", \"showlegend\": true, \"textposition\": \"auto\", \"x\": [\"US\", \"Spain\", \"Italy\", \"Russia\", \"Germany\", \"Brazil\", \"Turkey\", \"Iran\", \"Peru\", \"India\", \"Belgium\", \"Saudi Arabia\", \"Mexico\", \"Switzerland\", \"Ecuador\", \"Pakistan\", \"Portugal\", \"Chile\", \"Sweden\", \"Ireland\"], \"xaxis\": \"x\", \"y\": [691575, 100382, 107709, 48434, 48058, 17347, 78414, 18540, 10371, 15460, 25956, 9882, 6017, 7185, 8671, 7291, 19700, 5716, 13007, 6077], \"yaxis\": \"y\", \"type\": \"bar\"}, {\"alignmentgroup\": \"True\", \"hovertemplate\": \"type=death<br>date=4/21/20<br>country=%{x}<br>count=%{y}<extra></extra>\", \"legendgroup\": \"death\", \"marker\": {\"color\": \"#EF553B\"}, \"name\": \"death\", \"offsetgroup\": \"death\", \"orientation\": \"v\", \"showlegend\": true, \"textposition\": \"auto\", \"x\": [\"US\", \"Spain\", \"Italy\", \"Russia\", \"Germany\", \"Brazil\", \"Turkey\", \"Iran\", \"Peru\", \"India\", \"Belgium\", \"Saudi Arabia\", \"Mexico\", \"Switzerland\", \"Ecuador\", \"Pakistan\", \"Portugal\", \"Chile\", \"Sweden\", \"Ireland\"], \"xaxis\": \"x\", \"y\": [45086, 21282, 24648, 456, 5033, 2741, 2259, 5297, 484, 645, 5998, 109, 857, 1478, 520, 201, 762, 147, 1765, 730], \"yaxis\": \"y\", \"type\": \"bar\"}, {\"alignmentgroup\": \"True\", \"hovertemplate\": \"type=recovered<br>date=4/21/20<br>country=%{x}<br>count=%{y}<extra></extra>\", \"legendgroup\": \"recovered\", \"marker\": {\"color\": \"#00cc96\"}, \"name\": \"recovered\", \"offsetgroup\": \"recovered\", \"orientation\": \"v\", \"showlegend\": true, \"textposition\": \"auto\", \"x\": [\"US\", \"Spain\", \"Italy\", \"Russia\", \"Germany\", \"Brazil\", \"Turkey\", \"Iran\", \"Peru\", \"India\", \"Belgium\", \"Saudi Arabia\", \"Mexico\", \"Switzerland\", \"Ecuador\", \"Pakistan\", \"Portugal\", \"Chile\", \"Sweden\", \"Ireland\"], \"xaxis\": \"x\", \"y\": [75204, 82514, 51600, 3873, 95200, 22991, 14918, 60965, 6982, 3975, 9002, 1640, 2627, 19400, 1207, 2073, 917, 4969, 550, 9233], \"yaxis\": \"y\", \"type\": \"bar\"}], \"name\": \"4/21/20\"}, {\"data\": [{\"alignmentgroup\": \"True\", \"hovertemplate\": \"type=confirmed<br>date=4/22/20<br>country=%{x}<br>count=%{y}<extra></extra>\", \"legendgroup\": \"confirmed\", \"marker\": {\"color\": \"#636efa\"}, \"name\": \"confirmed\", \"offsetgroup\": \"confirmed\", \"orientation\": \"v\", \"showlegend\": true, \"textposition\": \"auto\", \"x\": [\"US\", \"Spain\", \"Italy\", \"Russia\", \"Germany\", \"Brazil\", \"Turkey\", \"Iran\", \"Peru\", \"India\", \"Belgium\", \"Saudi Arabia\", \"Mexico\", \"Switzerland\", \"Ecuador\", \"Pakistan\", \"Portugal\", \"Chile\", \"Sweden\", \"Ireland\"], \"xaxis\": \"x\", \"y\": [715573, 100757, 107699, 53066, 45969, 17533, 79821, 17492, 11693, 16319, 26194, 10846, 6947, 6859, 9051, 7708, 20054, 5750, 13517, 6669], \"yaxis\": \"y\", \"type\": \"bar\"}, {\"alignmentgroup\": \"True\", \"hovertemplate\": \"type=death<br>date=4/22/20<br>country=%{x}<br>count=%{y}<extra></extra>\", \"legendgroup\": \"death\", \"marker\": {\"color\": \"#EF553B\"}, \"name\": \"death\", \"offsetgroup\": \"death\", \"orientation\": \"v\", \"showlegend\": true, \"textposition\": \"auto\", \"x\": [\"US\", \"Spain\", \"Italy\", \"Russia\", \"Germany\", \"Brazil\", \"Turkey\", \"Iran\", \"Peru\", \"India\", \"Belgium\", \"Saudi Arabia\", \"Mexico\", \"Switzerland\", \"Ecuador\", \"Pakistan\", \"Portugal\", \"Chile\", \"Sweden\", \"Ireland\"], \"xaxis\": \"x\", \"y\": [47412, 21717, 25085, 513, 5279, 2906, 2376, 5391, 530, 681, 6262, 114, 970, 1509, 537, 212, 785, 160, 1937, 769], \"yaxis\": \"y\", \"type\": \"bar\"}, {\"alignmentgroup\": \"True\", \"hovertemplate\": \"type=recovered<br>date=4/22/20<br>country=%{x}<br>count=%{y}<extra></extra>\", \"legendgroup\": \"recovered\", \"marker\": {\"color\": \"#00cc96\"}, \"name\": \"recovered\", \"offsetgroup\": \"recovered\", \"orientation\": \"v\", \"showlegend\": true, \"textposition\": \"auto\", \"x\": [\"US\", \"Spain\", \"Italy\", \"Russia\", \"Germany\", \"Brazil\", \"Turkey\", \"Iran\", \"Peru\", \"India\", \"Belgium\", \"Saudi Arabia\", \"Mexico\", \"Switzerland\", \"Ecuador\", \"Pakistan\", \"Portugal\", \"Chile\", \"Sweden\", \"Ireland\"], \"xaxis\": \"x\", \"y\": [77366, 85915, 54543, 4420, 99400, 25318, 16477, 63113, 7027, 4370, 9433, 1812, 2627, 19900, 1262, 2156, 1143, 5386, 550, 9233], \"yaxis\": \"y\", \"type\": \"bar\"}], \"name\": \"4/22/20\"}, {\"data\": [{\"alignmentgroup\": \"True\", \"hovertemplate\": \"type=confirmed<br>date=4/23/20<br>country=%{x}<br>count=%{y}<extra></extra>\", \"legendgroup\": \"confirmed\", \"marker\": {\"color\": \"#636efa\"}, \"name\": \"confirmed\", \"offsetgroup\": \"confirmed\", \"orientation\": \"v\", \"showlegend\": true, \"textposition\": \"auto\", \"x\": [\"US\", \"Spain\", \"Italy\", \"Russia\", \"Germany\", \"Brazil\", \"Turkey\", \"Iran\", \"Peru\", \"India\", \"Belgium\", \"Saudi Arabia\", \"Mexico\", \"Switzerland\", \"Ecuador\", \"Pakistan\", \"Portugal\", \"Chile\", \"Sweden\", \"Ireland\"], \"xaxis\": \"x\", \"y\": [739243, 101617, 106848, 57327, 44254, 20132, 80808, 16702, 12920, 17344, 26507, 11884, 7937, 6347, 9295, 8391, 20332, 5840, 14184, 7580], \"yaxis\": \"y\", \"type\": \"bar\"}, {\"alignmentgroup\": \"True\", \"hovertemplate\": \"type=death<br>date=4/23/20<br>country=%{x}<br>count=%{y}<extra></extra>\", \"legendgroup\": \"death\", \"marker\": {\"color\": \"#EF553B\"}, \"name\": \"death\", \"offsetgroup\": \"death\", \"orientation\": \"v\", \"showlegend\": true, \"textposition\": \"auto\", \"x\": [\"US\", \"Spain\", \"Italy\", \"Russia\", \"Germany\", \"Brazil\", \"Turkey\", \"Iran\", \"Peru\", \"India\", \"Belgium\", \"Saudi Arabia\", \"Mexico\", \"Switzerland\", \"Ecuador\", \"Pakistan\", \"Portugal\", \"Chile\", \"Sweden\", \"Ireland\"], \"xaxis\": \"x\", \"y\": [49724, 22157, 25549, 555, 5575, 3331, 2491, 5481, 572, 721, 6490, 121, 1069, 1549, 560, 237, 820, 168, 2021, 794], \"yaxis\": \"y\", \"type\": \"bar\"}, {\"alignmentgroup\": \"True\", \"hovertemplate\": \"type=recovered<br>date=4/23/20<br>country=%{x}<br>count=%{y}<extra></extra>\", \"legendgroup\": \"recovered\", \"marker\": {\"color\": \"#00cc96\"}, \"name\": \"recovered\", \"offsetgroup\": \"recovered\", \"orientation\": \"v\", \"showlegend\": true, \"textposition\": \"auto\", \"x\": [\"US\", \"Spain\", \"Italy\", \"Russia\", \"Germany\", \"Brazil\", \"Turkey\", \"Iran\", \"Peru\", \"India\", \"Belgium\", \"Saudi Arabia\", \"Mexico\", \"Switzerland\", \"Ecuador\", \"Pakistan\", \"Portugal\", \"Chile\", \"Sweden\", \"Ireland\"], \"xaxis\": \"x\", \"y\": [80203, 89250, 57576, 4891, 103300, 26573, 18491, 64843, 7422, 5012, 9800, 1925, 2627, 20600, 1328, 2527, 1201, 5804, 550, 9233], \"yaxis\": \"y\", \"type\": \"bar\"}], \"name\": \"4/23/20\"}, {\"data\": [{\"alignmentgroup\": \"True\", \"hovertemplate\": \"type=confirmed<br>date=4/24/20<br>country=%{x}<br>count=%{y}<extra></extra>\", \"legendgroup\": \"confirmed\", \"marker\": {\"color\": \"#636efa\"}, \"name\": \"confirmed\", \"offsetgroup\": \"confirmed\", \"orientation\": \"v\", \"showlegend\": true, \"textposition\": \"auto\", \"x\": [\"US\", \"Spain\", \"Italy\", \"Russia\", \"Germany\", \"Brazil\", \"Turkey\", \"Iran\", \"Peru\", \"India\", \"Belgium\", \"Saudi Arabia\", \"Mexico\", \"Switzerland\", \"Ecuador\", \"Pakistan\", \"Portugal\", \"Chile\", \"Sweden\", \"Ireland\"], \"xaxis\": \"x\", \"y\": [754786, 88111, 106527, 62439, 39439, 22684, 80575, 16021, 13518, 18252, 27492, 12926, 9024, 6088, 20777, 8932, 20715, 5805, 14410, 7937], \"yaxis\": \"y\", \"type\": \"bar\"}, {\"alignmentgroup\": \"True\", \"hovertemplate\": \"type=death<br>date=4/24/20<br>country=%{x}<br>count=%{y}<extra></extra>\", \"legendgroup\": \"death\", \"marker\": {\"color\": \"#EF553B\"}, \"name\": \"death\", \"offsetgroup\": \"death\", \"orientation\": \"v\", \"showlegend\": true, \"textposition\": \"auto\", \"x\": [\"US\", \"Spain\", \"Italy\", \"Russia\", \"Germany\", \"Brazil\", \"Turkey\", \"Iran\", \"Peru\", \"India\", \"Belgium\", \"Saudi Arabia\", \"Mexico\", \"Switzerland\", \"Ecuador\", \"Pakistan\", \"Portugal\", \"Chile\", \"Sweden\", \"Ireland\"], \"xaxis\": \"x\", \"y\": [51493, 22524, 25969, 615, 5760, 3704, 2600, 5574, 634, 780, 6679, 127, 1221, 1589, 576, 253, 854, 174, 2152, 1014], \"yaxis\": \"y\", \"type\": \"bar\"}, {\"alignmentgroup\": \"True\", \"hovertemplate\": \"type=recovered<br>date=4/24/20<br>country=%{x}<br>count=%{y}<extra></extra>\", \"legendgroup\": \"recovered\", \"marker\": {\"color\": \"#00cc96\"}, \"name\": \"recovered\", \"offsetgroup\": \"recovered\", \"orientation\": \"v\", \"showlegend\": true, \"textposition\": \"auto\", \"x\": [\"US\", \"Spain\", \"Italy\", \"Russia\", \"Germany\", \"Brazil\", \"Turkey\", \"Iran\", \"Peru\", \"India\", \"Belgium\", \"Saudi Arabia\", \"Mexico\", \"Switzerland\", \"Ecuador\", \"Pakistan\", \"Portugal\", \"Chile\", \"Sweden\", \"Ireland\"], \"xaxis\": \"x\", \"y\": [99079, 92355, 60498, 5568, 109800, 27655, 21737, 66599, 7496, 5498, 10122, 2049, 2627, 21000, 1366, 2755, 1228, 6327, 1005, 9233], \"yaxis\": \"y\", \"type\": \"bar\"}], \"name\": \"4/24/20\"}, {\"data\": [{\"alignmentgroup\": \"True\", \"hovertemplate\": \"type=confirmed<br>date=4/25/20<br>country=%{x}<br>count=%{y}<extra></extra>\", \"legendgroup\": \"confirmed\", \"marker\": {\"color\": \"#636efa\"}, \"name\": \"confirmed\", \"offsetgroup\": \"confirmed\", \"orientation\": \"v\", \"showlegend\": true, \"textposition\": \"auto\", \"x\": [\"US\", \"Spain\", \"Italy\", \"Russia\", \"Germany\", \"Brazil\", \"Turkey\", \"Iran\", \"Peru\", \"India\", \"Belgium\", \"Saudi Arabia\", \"Mexico\", \"Switzerland\", \"Ecuador\", \"Pakistan\", \"Portugal\", \"Chile\", \"Sweden\", \"Ireland\"], \"xaxis\": \"x\", \"y\": [784027, 87295, 105847, 67657, 40836, 26107, 79485, 15485, 16834, 19519, 27991, 13948, 5388, 5995, 20777, 9588, 21235, 5931, 14980, 8265], \"yaxis\": \"y\", \"type\": \"bar\"}, {\"alignmentgroup\": \"True\", \"hovertemplate\": \"type=death<br>date=4/25/20<br>country=%{x}<br>count=%{y}<extra></extra>\", \"legendgroup\": \"death\", \"marker\": {\"color\": \"#EF553B\"}, \"name\": \"death\", \"offsetgroup\": \"death\", \"orientation\": \"v\", \"showlegend\": true, \"textposition\": \"auto\", \"x\": [\"US\", \"Spain\", \"Italy\", \"Russia\", \"Germany\", \"Brazil\", \"Turkey\", \"Iran\", \"Peru\", \"India\", \"Belgium\", \"Saudi Arabia\", \"Mexico\", \"Switzerland\", \"Ecuador\", \"Pakistan\", \"Portugal\", \"Chile\", \"Sweden\", \"Ireland\"], \"xaxis\": \"x\", \"y\": [53755, 22902, 26384, 681, 5877, 4057, 2706, 5650, 700, 825, 6917, 136, 1305, 1599, 576, 269, 880, 181, 2192, 1063], \"yaxis\": \"y\", \"type\": \"bar\"}, {\"alignmentgroup\": \"True\", \"hovertemplate\": \"type=recovered<br>date=4/25/20<br>country=%{x}<br>count=%{y}<extra></extra>\", \"legendgroup\": \"recovered\", \"marker\": {\"color\": \"#00cc96\"}, \"name\": \"recovered\", \"offsetgroup\": \"recovered\", \"orientation\": \"v\", \"showlegend\": true, \"textposition\": \"auto\", \"x\": [\"US\", \"Spain\", \"Italy\", \"Russia\", \"Germany\", \"Brazil\", \"Turkey\", \"Iran\", \"Peru\", \"India\", \"Belgium\", \"Saudi Arabia\", \"Mexico\", \"Switzerland\", \"Ecuador\", \"Pakistan\", \"Portugal\", \"Chile\", \"Sweden\", \"Ireland\"], \"xaxis\": \"x\", \"y\": [100372, 95708, 63120, 6250, 109800, 29160, 25582, 68193, 7797, 5939, 10417, 2215, 7149, 21300, 1366, 2866, 1277, 6746, 1005, 9233], \"yaxis\": \"y\", \"type\": \"bar\"}], \"name\": \"4/25/20\"}, {\"data\": [{\"alignmentgroup\": \"True\", \"hovertemplate\": \"type=confirmed<br>date=4/26/20<br>country=%{x}<br>count=%{y}<extra></extra>\", \"legendgroup\": \"confirmed\", \"marker\": {\"color\": \"#636efa\"}, \"name\": \"confirmed\", \"offsetgroup\": \"confirmed\", \"orientation\": \"v\", \"showlegend\": true, \"textposition\": \"auto\", \"x\": [\"US\", \"Spain\", \"Italy\", \"Russia\", \"Germany\", \"Brazil\", \"Turkey\", \"Iran\", \"Peru\", \"India\", \"Belgium\", \"Saudi Arabia\", \"Mexico\", \"Switzerland\", \"Ecuador\", \"Pakistan\", \"Portugal\", \"Chile\", \"Sweden\", \"Ireland\"], \"xaxis\": \"x\", \"y\": [803916, 86072, 106103, 73435, 39794, 28662, 78185, 15114, 18701, 20486, 28255, 15026, 4972, 5651, 20777, 10111, 21632, 6118, 15441, 8942], \"yaxis\": \"y\", \"type\": \"bar\"}, {\"alignmentgroup\": \"True\", \"hovertemplate\": \"type=death<br>date=4/26/20<br>country=%{x}<br>count=%{y}<extra></extra>\", \"legendgroup\": \"death\", \"marker\": {\"color\": \"#EF553B\"}, \"name\": \"death\", \"offsetgroup\": \"death\", \"orientation\": \"v\", \"showlegend\": true, \"textposition\": \"auto\", \"x\": [\"US\", \"Spain\", \"Italy\", \"Russia\", \"Germany\", \"Brazil\", \"Turkey\", \"Iran\", \"Peru\", \"India\", \"Belgium\", \"Saudi Arabia\", \"Mexico\", \"Switzerland\", \"Ecuador\", \"Pakistan\", \"Portugal\", \"Chile\", \"Sweden\", \"Ireland\"], \"xaxis\": \"x\", \"y\": [54881, 23190, 26644, 747, 5976, 4286, 2805, 5710, 728, 881, 7094, 139, 1351, 1610, 576, 281, 903, 189, 2194, 1087], \"yaxis\": \"y\", \"type\": \"bar\"}, {\"alignmentgroup\": \"True\", \"hovertemplate\": \"type=recovered<br>date=4/26/20<br>country=%{x}<br>count=%{y}<extra></extra>\", \"legendgroup\": \"recovered\", \"marker\": {\"color\": \"#00cc96\"}, \"name\": \"recovered\", \"offsetgroup\": \"recovered\", \"orientation\": \"v\", \"showlegend\": true, \"textposition\": \"auto\", \"x\": [\"US\", \"Spain\", \"Italy\", \"Russia\", \"Germany\", \"Brazil\", \"Turkey\", \"Iran\", \"Peru\", \"India\", \"Belgium\", \"Saudi Arabia\", \"Mexico\", \"Switzerland\", \"Ecuador\", \"Pakistan\", \"Portugal\", \"Chile\", \"Sweden\", \"Ireland\"], \"xaxis\": \"x\", \"y\": [106988, 98372, 64928, 6767, 112000, 30152, 29140, 69657, 8088, 6523, 10785, 2357, 8354, 21800, 1366, 2936, 1329, 7024, 1005, 9233], \"yaxis\": \"y\", \"type\": \"bar\"}], \"name\": \"4/26/20\"}, {\"data\": [{\"alignmentgroup\": \"True\", \"hovertemplate\": \"type=confirmed<br>date=4/27/20<br>country=%{x}<br>count=%{y}<extra></extra>\", \"legendgroup\": \"confirmed\", \"marker\": {\"color\": \"#636efa\"}, \"name\": \"confirmed\", \"offsetgroup\": \"confirmed\", \"orientation\": \"v\", \"showlegend\": true, \"textposition\": \"auto\", \"x\": [\"US\", \"Spain\", \"Italy\", \"Russia\", \"Germany\", \"Brazil\", \"Turkey\", \"Iran\", \"Peru\", \"India\", \"Belgium\", \"Saudi Arabia\", \"Mexico\", \"Switzerland\", \"Ecuador\", \"Pakistan\", \"Portugal\", \"Chile\", \"Sweden\", \"Ireland\"], \"xaxis\": \"x\", \"y\": [820554, 85069, 105813, 79007, 38132, 31701, 75570, 14733, 19492, 21375, 28602, 16136, 5009, 5299, 21020, 10594, 21742, 6288, 15647, 9313], \"yaxis\": \"y\", \"type\": \"bar\"}, {\"alignmentgroup\": \"True\", \"hovertemplate\": \"type=death<br>date=4/27/20<br>country=%{x}<br>count=%{y}<extra></extra>\", \"legendgroup\": \"death\", \"marker\": {\"color\": \"#EF553B\"}, \"name\": \"death\", \"offsetgroup\": \"death\", \"orientation\": \"v\", \"showlegend\": true, \"textposition\": \"auto\", \"x\": [\"US\", \"Spain\", \"Italy\", \"Russia\", \"Germany\", \"Brazil\", \"Turkey\", \"Iran\", \"Peru\", \"India\", \"Belgium\", \"Saudi Arabia\", \"Mexico\", \"Switzerland\", \"Ecuador\", \"Pakistan\", \"Portugal\", \"Chile\", \"Sweden\", \"Ireland\"], \"xaxis\": \"x\", \"y\": [56219, 23521, 26977, 794, 6126, 4603, 2900, 5806, 782, 939, 7207, 144, 1434, 1665, 663, 292, 928, 198, 2274, 1102], \"yaxis\": \"y\", \"type\": \"bar\"}, {\"alignmentgroup\": \"True\", \"hovertemplate\": \"type=recovered<br>date=4/27/20<br>country=%{x}<br>count=%{y}<extra></extra>\", \"legendgroup\": \"recovered\", \"marker\": {\"color\": \"#00cc96\"}, \"name\": \"recovered\", \"offsetgroup\": \"recovered\", \"orientation\": \"v\", \"showlegend\": true, \"textposition\": \"auto\", \"x\": [\"US\", \"Spain\", \"Italy\", \"Russia\", \"Germany\", \"Brazil\", \"Turkey\", \"Iran\", \"Peru\", \"India\", \"Belgium\", \"Saudi Arabia\", \"Mexico\", \"Switzerland\", \"Ecuador\", \"Pakistan\", \"Portugal\", \"Chile\", \"Sweden\", \"Ireland\"], \"xaxis\": \"x\", \"y\": [111424, 100875, 66624, 7346, 114500, 31142, 33791, 70933, 8425, 7137, 10878, 2531, 9086, 22200, 1557, 3029, 1357, 7327, 1005, 9233], \"yaxis\": \"y\", \"type\": \"bar\"}], \"name\": \"4/27/20\"}, {\"data\": [{\"alignmentgroup\": \"True\", \"hovertemplate\": \"type=confirmed<br>date=4/28/20<br>country=%{x}<br>count=%{y}<extra></extra>\", \"legendgroup\": \"confirmed\", \"marker\": {\"color\": \"#636efa\"}, \"name\": \"confirmed\", \"offsetgroup\": \"confirmed\", \"orientation\": \"v\", \"showlegend\": true, \"textposition\": \"auto\", \"x\": [\"US\", \"Spain\", \"Italy\", \"Russia\", \"Germany\", \"Brazil\", \"Turkey\", \"Iran\", \"Peru\", \"India\", \"Belgium\", \"Saudi Arabia\", \"Mexico\", \"Switzerland\", \"Ecuador\", \"Pakistan\", \"Portugal\", \"Chile\", \"Sweden\", \"Ireland\"], \"xaxis\": \"x\", \"y\": [838291, 84403, 105205, 84235, 36198, 35608, 72852, 14268, 21157, 22569, 29060, 17141, 3760, 4965, 21830, 11067, 21985, 6448, 16261, 9485], \"yaxis\": \"y\", \"type\": \"bar\"}, {\"alignmentgroup\": \"True\", \"hovertemplate\": \"type=death<br>date=4/28/20<br>country=%{x}<br>count=%{y}<extra></extra>\", \"legendgroup\": \"death\", \"marker\": {\"color\": \"#EF553B\"}, \"name\": \"death\", \"offsetgroup\": \"death\", \"orientation\": \"v\", \"showlegend\": true, \"textposition\": \"auto\", \"x\": [\"US\", \"Spain\", \"Italy\", \"Russia\", \"Germany\", \"Brazil\", \"Turkey\", \"Iran\", \"Peru\", \"India\", \"Belgium\", \"Saudi Arabia\", \"Mexico\", \"Switzerland\", \"Ecuador\", \"Pakistan\", \"Portugal\", \"Chile\", \"Sweden\", \"Ireland\"], \"xaxis\": \"x\", \"y\": [58355, 23822, 27359, 867, 6314, 5083, 2992, 5877, 854, 1008, 7331, 152, 1569, 1699, 871, 312, 948, 207, 2355, 1159], \"yaxis\": \"y\", \"type\": \"bar\"}, {\"alignmentgroup\": \"True\", \"hovertemplate\": \"type=recovered<br>date=4/28/20<br>country=%{x}<br>count=%{y}<extra></extra>\", \"legendgroup\": \"recovered\", \"marker\": {\"color\": \"#00cc96\"}, \"name\": \"recovered\", \"offsetgroup\": \"recovered\", \"orientation\": \"v\", \"showlegend\": true, \"textposition\": \"auto\", \"x\": [\"US\", \"Spain\", \"Italy\", \"Russia\", \"Germany\", \"Brazil\", \"Turkey\", \"Iran\", \"Peru\", \"India\", \"Belgium\", \"Saudi Arabia\", \"Mexico\", \"Switzerland\", \"Ecuador\", \"Pakistan\", \"Portugal\", \"Chile\", \"Sweden\", \"Ireland\"], \"xaxis\": \"x\", \"y\": [115936, 102548, 68941, 8456, 117400, 32544, 38809, 72439, 9179, 7747, 10943, 2784, 11423, 22600, 1557, 3233, 1389, 7710, 1005, 9233], \"yaxis\": \"y\", \"type\": \"bar\"}], \"name\": \"4/28/20\"}, {\"data\": [{\"alignmentgroup\": \"True\", \"hovertemplate\": \"type=confirmed<br>date=4/29/20<br>country=%{x}<br>count=%{y}<extra></extra>\", \"legendgroup\": \"confirmed\", \"marker\": {\"color\": \"#636efa\"}, \"name\": \"confirmed\", \"offsetgroup\": \"confirmed\", \"orientation\": \"v\", \"showlegend\": true, \"textposition\": \"auto\", \"x\": [\"US\", \"Spain\", \"Italy\", \"Russia\", \"Germany\", \"Brazil\", \"Turkey\", \"Iran\", \"Peru\", \"India\", \"Belgium\", \"Saudi Arabia\", \"Mexico\", \"Switzerland\", \"Ecuador\", \"Pakistan\", \"Portugal\", \"Chile\", \"Sweden\", \"Ireland\"], \"xaxis\": \"x\", \"y\": [858222, 79695, 104657, 88141, 34672, 40040, 70468, 13909, 22951, 23546, 29075, 18292, 4644, 5091, 22235, 11757, 22062, 6612, 16835, 5677], \"yaxis\": \"y\", \"type\": \"bar\"}, {\"alignmentgroup\": \"True\", \"hovertemplate\": \"type=death<br>date=4/29/20<br>country=%{x}<br>count=%{y}<extra></extra>\", \"legendgroup\": \"death\", \"marker\": {\"color\": \"#EF553B\"}, \"name\": \"death\", \"offsetgroup\": \"death\", \"orientation\": \"v\", \"showlegend\": true, \"textposition\": \"auto\", \"x\": [\"US\", \"Spain\", \"Italy\", \"Russia\", \"Germany\", \"Brazil\", \"Turkey\", \"Iran\", \"Peru\", \"India\", \"Belgium\", \"Saudi Arabia\", \"Mexico\", \"Switzerland\", \"Ecuador\", \"Pakistan\", \"Portugal\", \"Chile\", \"Sweden\", \"Ireland\"], \"xaxis\": \"x\", \"y\": [60967, 24275, 27682, 972, 6467, 5513, 3081, 5957, 943, 1079, 7501, 157, 1732, 1716, 883, 343, 973, 216, 2462, 1190], \"yaxis\": \"y\", \"type\": \"bar\"}, {\"alignmentgroup\": \"True\", \"hovertemplate\": \"type=recovered<br>date=4/29/20<br>country=%{x}<br>count=%{y}<extra></extra>\", \"legendgroup\": \"recovered\", \"marker\": {\"color\": \"#00cc96\"}, \"name\": \"recovered\", \"offsetgroup\": \"recovered\", \"orientation\": \"v\", \"showlegend\": true, \"textposition\": \"auto\", \"x\": [\"US\", \"Spain\", \"Italy\", \"Russia\", \"Germany\", \"Brazil\", \"Turkey\", \"Iran\", \"Peru\", \"India\", \"Belgium\", \"Saudi Arabia\", \"Mexico\", \"Switzerland\", \"Ecuador\", \"Pakistan\", \"Portugal\", \"Chile\", \"Sweden\", \"Ireland\"], \"xaxis\": \"x\", \"y\": [120720, 108947, 71252, 10286, 120400, 34132, 44040, 73791, 10037, 8437, 11283, 2953, 11423, 22600, 1557, 3425, 1470, 8057, 1005, 13386], \"yaxis\": \"y\", \"type\": \"bar\"}], \"name\": \"4/29/20\"}, {\"data\": [{\"alignmentgroup\": \"True\", \"hovertemplate\": \"type=confirmed<br>date=4/30/20<br>country=%{x}<br>count=%{y}<extra></extra>\", \"legendgroup\": \"confirmed\", \"marker\": {\"color\": \"#636efa\"}, \"name\": \"confirmed\", \"offsetgroup\": \"confirmed\", \"orientation\": \"v\", \"showlegend\": true, \"textposition\": \"auto\", \"x\": [\"US\", \"Spain\", \"Italy\", \"Russia\", \"Germany\", \"Brazil\", \"Turkey\", \"Iran\", \"Peru\", \"India\", \"Belgium\", \"Saudi Arabia\", \"Mexico\", \"Switzerland\", \"Ecuador\", \"Pakistan\", \"Portugal\", \"Chile\", \"Sweden\", \"Ireland\"], \"xaxis\": \"x\", \"y\": [852481, 76842, 101551, 93806, 32886, 45246, 68144, 13509, 25520, 24641, 29349, 19428, 5942, 4449, 22476, 12117, 22537, 7216, 17501, 5994], \"yaxis\": \"y\", \"type\": \"bar\"}, {\"alignmentgroup\": \"True\", \"hovertemplate\": \"type=death<br>date=4/30/20<br>country=%{x}<br>count=%{y}<extra></extra>\", \"legendgroup\": \"death\", \"marker\": {\"color\": \"#EF553B\"}, \"name\": \"death\", \"offsetgroup\": \"death\", \"orientation\": \"v\", \"showlegend\": true, \"textposition\": \"auto\", \"x\": [\"US\", \"Spain\", \"Italy\", \"Russia\", \"Germany\", \"Brazil\", \"Turkey\", \"Iran\", \"Peru\", \"India\", \"Belgium\", \"Saudi Arabia\", \"Mexico\", \"Switzerland\", \"Ecuador\", \"Pakistan\", \"Portugal\", \"Chile\", \"Sweden\", \"Ireland\"], \"xaxis\": \"x\", \"y\": [62996, 24543, 27967, 1073, 6623, 6006, 3174, 6028, 1051, 1154, 7594, 162, 1859, 1737, 900, 385, 989, 227, 2586, 1232], \"yaxis\": \"y\", \"type\": \"bar\"}, {\"alignmentgroup\": \"True\", \"hovertemplate\": \"type=recovered<br>date=4/30/20<br>country=%{x}<br>count=%{y}<extra></extra>\", \"legendgroup\": \"recovered\", \"marker\": {\"color\": \"#00cc96\"}, \"name\": \"recovered\", \"offsetgroup\": \"recovered\", \"orientation\": \"v\", \"showlegend\": true, \"textposition\": \"auto\", \"x\": [\"US\", \"Spain\", \"Italy\", \"Russia\", \"Germany\", \"Brazil\", \"Turkey\", \"Iran\", \"Peru\", \"India\", \"Belgium\", \"Saudi Arabia\", \"Mexico\", \"Switzerland\", \"Ecuador\", \"Pakistan\", \"Portugal\", \"Chile\", \"Sweden\", \"Ireland\"], \"xaxis\": \"x\", \"y\": [153947, 112050, 75945, 11619, 123500, 35935, 48886, 75103, 10405, 9068, 11576, 3163, 11423, 23400, 1558, 4315, 1519, 8580, 1005, 13386], \"yaxis\": \"y\", \"type\": \"bar\"}], \"name\": \"4/30/20\"}, {\"data\": [{\"alignmentgroup\": \"True\", \"hovertemplate\": \"type=confirmed<br>date=5/1/20<br>country=%{x}<br>count=%{y}<extra></extra>\", \"legendgroup\": \"confirmed\", \"marker\": {\"color\": \"#636efa\"}, \"name\": \"confirmed\", \"offsetgroup\": \"confirmed\", \"orientation\": \"v\", \"showlegend\": true, \"textposition\": \"auto\", \"x\": [\"US\", \"Spain\", \"Italy\", \"Russia\", \"Germany\", \"Brazil\", \"Turkey\", \"Iran\", \"Peru\", \"India\", \"Belgium\", \"Saudi Arabia\", \"Mexico\", \"Switzerland\", \"Ecuador\", \"Pakistan\", \"Portugal\", \"Chile\", \"Sweden\", \"Ireland\"], \"xaxis\": \"x\", \"y\": [874503, 76842, 100943, 100042, 30441, 47751, 65326, 13237, 28206, 26027, 29437, 20373, 6390, 4051, 23360, 12982, 22697, 7756, 17862, 6182], \"yaxis\": \"y\", \"type\": \"bar\"}, {\"alignmentgroup\": \"True\", \"hovertemplate\": \"type=death<br>date=5/1/20<br>country=%{x}<br>count=%{y}<extra></extra>\", \"legendgroup\": \"death\", \"marker\": {\"color\": \"#EF553B\"}, \"name\": \"death\", \"offsetgroup\": \"death\", \"orientation\": \"v\", \"showlegend\": true, \"textposition\": \"auto\", \"x\": [\"US\", \"Spain\", \"Italy\", \"Russia\", \"Germany\", \"Brazil\", \"Turkey\", \"Iran\", \"Peru\", \"India\", \"Belgium\", \"Saudi Arabia\", \"Mexico\", \"Switzerland\", \"Ecuador\", \"Pakistan\", \"Portugal\", \"Chile\", \"Sweden\", \"Ireland\"], \"xaxis\": \"x\", \"y\": [64943, 24543, 28236, 1169, 6736, 6412, 3258, 6091, 1124, 1223, 7703, 169, 1972, 1754, 1063, 417, 1007, 234, 2653, 1265], \"yaxis\": \"y\", \"type\": \"bar\"}, {\"alignmentgroup\": \"True\", \"hovertemplate\": \"type=recovered<br>date=5/1/20<br>country=%{x}<br>count=%{y}<extra></extra>\", \"legendgroup\": \"recovered\", \"marker\": {\"color\": \"#00cc96\"}, \"name\": \"recovered\", \"offsetgroup\": \"recovered\", \"orientation\": \"v\", \"showlegend\": true, \"textposition\": \"auto\", \"x\": [\"US\", \"Spain\", \"Italy\", \"Russia\", \"Germany\", \"Brazil\", \"Turkey\", \"Iran\", \"Peru\", \"India\", \"Belgium\", \"Saudi Arabia\", \"Mexico\", \"Switzerland\", \"Ecuador\", \"Pakistan\", \"Portugal\", \"Chile\", \"Sweden\", \"Ireland\"], \"xaxis\": \"x\", \"y\": [164015, 112050, 78249, 13220, 126900, 38039, 53808, 76318, 11129, 10007, 11892, 3555, 12377, 23900, 1913, 4715, 1647, 9018, 1005, 13386], \"yaxis\": \"y\", \"type\": \"bar\"}], \"name\": \"5/1/20\"}, {\"data\": [{\"alignmentgroup\": \"True\", \"hovertemplate\": \"type=confirmed<br>date=5/2/20<br>country=%{x}<br>count=%{y}<extra></extra>\", \"legendgroup\": \"confirmed\", \"marker\": {\"color\": \"#636efa\"}, \"name\": \"confirmed\", \"offsetgroup\": \"confirmed\", \"orientation\": \"v\", \"showlegend\": true, \"textposition\": \"auto\", \"x\": [\"US\", \"Spain\", \"Italy\", \"Russia\", \"Germany\", \"Brazil\", \"Turkey\", \"Iran\", \"Peru\", \"India\", \"Belgium\", \"Saudi Arabia\", \"Mexico\", \"Switzerland\", \"Ecuador\", \"Pakistan\", \"Portugal\", \"Chile\", \"Sweden\", \"Ireland\"], \"xaxis\": \"x\", \"y\": [890788, 74234, 100704, 107819, 29155, 49402, 62780, 12942, 28900, 27557, 29541, 21518, 7650, 3855, 23961, 13846, 22496, 8616, 18408, 6504], \"yaxis\": \"y\", \"type\": \"bar\"}, {\"alignmentgroup\": \"True\", \"hovertemplate\": \"type=death<br>date=5/2/20<br>country=%{x}<br>count=%{y}<extra></extra>\", \"legendgroup\": \"death\", \"marker\": {\"color\": \"#EF553B\"}, \"name\": \"death\", \"offsetgroup\": \"death\", \"orientation\": \"v\", \"showlegend\": true, \"textposition\": \"auto\", \"x\": [\"US\", \"Spain\", \"Italy\", \"Russia\", \"Germany\", \"Brazil\", \"Turkey\", \"Iran\", \"Peru\", \"India\", \"Belgium\", \"Saudi Arabia\", \"Mexico\", \"Switzerland\", \"Ecuador\", \"Pakistan\", \"Portugal\", \"Chile\", \"Sweden\", \"Ireland\"], \"xaxis\": \"x\", \"y\": [66369, 25100, 28710, 1222, 6812, 6761, 3336, 6156, 1200, 1323, 7765, 176, 2061, 1762, 1371, 440, 1023, 247, 2669, 1286], \"yaxis\": \"y\", \"type\": \"bar\"}, {\"alignmentgroup\": \"True\", \"hovertemplate\": \"type=recovered<br>date=5/2/20<br>country=%{x}<br>count=%{y}<extra></extra>\", \"legendgroup\": \"recovered\", \"marker\": {\"color\": \"#00cc96\"}, \"name\": \"recovered\", \"offsetgroup\": \"recovered\", \"orientation\": \"v\", \"showlegend\": true, \"textposition\": \"auto\", \"x\": [\"US\", \"Spain\", \"Italy\", \"Russia\", \"Germany\", \"Brazil\", \"Turkey\", \"Iran\", \"Peru\", \"India\", \"Belgium\", \"Saudi Arabia\", \"Mexico\", \"Switzerland\", \"Ecuador\", \"Pakistan\", \"Portugal\", \"Chile\", \"Sweden\", \"Ireland\"], \"xaxis\": \"x\", \"y\": [175382, 117248, 79914, 15013, 129000, 40937, 58259, 77350, 12434, 10819, 12211, 3765, 12377, 24200, 2132, 4817, 1671, 9572, 1005, 13386], \"yaxis\": \"y\", \"type\": \"bar\"}], \"name\": \"5/2/20\"}, {\"data\": [{\"alignmentgroup\": \"True\", \"hovertemplate\": \"type=confirmed<br>date=5/3/20<br>country=%{x}<br>count=%{y}<extra></extra>\", \"legendgroup\": \"confirmed\", \"marker\": {\"color\": \"#636efa\"}, \"name\": \"confirmed\", \"offsetgroup\": \"confirmed\", \"orientation\": \"v\", \"showlegend\": true, \"textposition\": \"auto\", \"x\": [\"US\", \"Spain\", \"Italy\", \"Russia\", \"Germany\", \"Brazil\", \"Turkey\", \"Iran\", \"Peru\", \"India\", \"Belgium\", \"Saudi Arabia\", \"Mexico\", \"Switzerland\", \"Ecuador\", \"Pakistan\", \"Portugal\", \"Chile\", \"Sweden\", \"Ireland\"], \"xaxis\": \"x\", \"y\": [910206, 73300, 100179, 116768, 28198, 51784, 59497, 12799, 31092, 29339, 29753, 22693, 7870, 3643, 24674, 14513, 22550, 9362, 18633, 6817], \"yaxis\": \"y\", \"type\": \"bar\"}, {\"alignmentgroup\": \"True\", \"hovertemplate\": \"type=death<br>date=5/3/20<br>country=%{x}<br>count=%{y}<extra></extra>\", \"legendgroup\": \"death\", \"marker\": {\"color\": \"#EF553B\"}, \"name\": \"death\", \"offsetgroup\": \"death\", \"orientation\": \"v\", \"showlegend\": true, \"textposition\": \"auto\", \"x\": [\"US\", \"Spain\", \"Italy\", \"Russia\", \"Germany\", \"Brazil\", \"Turkey\", \"Iran\", \"Peru\", \"India\", \"Belgium\", \"Saudi Arabia\", \"Mexico\", \"Switzerland\", \"Ecuador\", \"Pakistan\", \"Portugal\", \"Chile\", \"Sweden\", \"Ireland\"], \"xaxis\": \"x\", \"y\": [67682, 25264, 28884, 1280, 6866, 7051, 3397, 6203, 1286, 1391, 7844, 184, 2154, 1762, 1564, 457, 1043, 260, 2679, 1303], \"yaxis\": \"y\", \"type\": \"bar\"}, {\"alignmentgroup\": \"True\", \"hovertemplate\": \"type=recovered<br>date=5/3/20<br>country=%{x}<br>count=%{y}<extra></extra>\", \"legendgroup\": \"recovered\", \"marker\": {\"color\": \"#00cc96\"}, \"name\": \"recovered\", \"offsetgroup\": \"recovered\", \"orientation\": \"v\", \"showlegend\": true, \"textposition\": \"auto\", \"x\": [\"US\", \"Spain\", \"Italy\", \"Russia\", \"Germany\", \"Brazil\", \"Turkey\", \"Iran\", \"Peru\", \"India\", \"Belgium\", \"Saudi Arabia\", \"Mexico\", \"Switzerland\", \"Ecuador\", \"Pakistan\", \"Portugal\", \"Chile\", \"Sweden\", \"Ireland\"], \"xaxis\": \"x\", \"y\": [180152, 118902, 81654, 16639, 130600, 42991, 63151, 78422, 13550, 11775, 12309, 4134, 13447, 24500, 3300, 5114, 1689, 10041, 1005, 13386], \"yaxis\": \"y\", \"type\": \"bar\"}], \"name\": \"5/3/20\"}, {\"data\": [{\"alignmentgroup\": \"True\", \"hovertemplate\": \"type=confirmed<br>date=5/4/20<br>country=%{x}<br>count=%{y}<extra></extra>\", \"legendgroup\": \"confirmed\", \"marker\": {\"color\": \"#636efa\"}, \"name\": \"confirmed\", \"offsetgroup\": \"confirmed\", \"orientation\": \"v\", \"showlegend\": true, \"textposition\": \"auto\", \"x\": [\"US\", \"Spain\", \"Italy\", \"Russia\", \"Germany\", \"Brazil\", \"Turkey\", \"Iran\", \"Peru\", \"India\", \"Belgium\", \"Saudi Arabia\", \"Mexico\", \"Switzerland\", \"Ecuador\", \"Pakistan\", \"Portugal\", \"Chile\", \"Sweden\", \"Ireland\"], \"xaxis\": \"x\", \"y\": [924273, 71240, 99980, 125817, 26459, 55438, 56032, 12991, 31601, 32024, 29965, 23989, 9187, 2997, 26879, 14830, 22749, 9958, 15878, 7067], \"yaxis\": \"y\", \"type\": \"bar\"}, {\"alignmentgroup\": \"True\", \"hovertemplate\": \"type=death<br>date=5/4/20<br>country=%{x}<br>count=%{y}<extra></extra>\", \"legendgroup\": \"death\", \"marker\": {\"color\": \"#EF553B\"}, \"name\": \"death\", \"offsetgroup\": \"death\", \"orientation\": \"v\", \"showlegend\": true, \"textposition\": \"auto\", \"x\": [\"US\", \"Spain\", \"Italy\", \"Russia\", \"Germany\", \"Brazil\", \"Turkey\", \"Iran\", \"Peru\", \"India\", \"Belgium\", \"Saudi Arabia\", \"Mexico\", \"Switzerland\", \"Ecuador\", \"Pakistan\", \"Portugal\", \"Chile\", \"Sweden\", \"Ireland\"], \"xaxis\": \"x\", \"y\": [68922, 25428, 29079, 1356, 6993, 7367, 3461, 6277, 1344, 1566, 7924, 191, 2271, 1784, 1569, 476, 1063, 270, 2769, 1319], \"yaxis\": \"y\", \"type\": \"bar\"}, {\"alignmentgroup\": \"True\", \"hovertemplate\": \"type=recovered<br>date=5/4/20<br>country=%{x}<br>count=%{y}<extra></extra>\", \"legendgroup\": \"recovered\", \"marker\": {\"color\": \"#00cc96\"}, \"name\": \"recovered\", \"offsetgroup\": \"recovered\", \"orientation\": \"v\", \"showlegend\": true, \"textposition\": \"auto\", \"x\": [\"US\", \"Spain\", \"Italy\", \"Russia\", \"Germany\", \"Brazil\", \"Turkey\", \"Iran\", \"Peru\", \"India\", \"Belgium\", \"Saudi Arabia\", \"Mexico\", \"Switzerland\", \"Ecuador\", \"Pakistan\", \"Portugal\", \"Chile\", \"Sweden\", \"Ireland\"], \"xaxis\": \"x\", \"y\": [187180, 121343, 82879, 18095, 132700, 45815, 68166, 79379, 14427, 12847, 12378, 4476, 13447, 25200, 3433, 5635, 1712, 10415, 4074, 13386], \"yaxis\": \"y\", \"type\": \"bar\"}], \"name\": \"5/4/20\"}, {\"data\": [{\"alignmentgroup\": \"True\", \"hovertemplate\": \"type=confirmed<br>date=5/5/20<br>country=%{x}<br>count=%{y}<extra></extra>\", \"legendgroup\": \"confirmed\", \"marker\": {\"color\": \"#636efa\"}, \"name\": \"confirmed\", \"offsetgroup\": \"confirmed\", \"orientation\": \"v\", \"showlegend\": true, \"textposition\": \"auto\", \"x\": [\"US\", \"Spain\", \"Italy\", \"Russia\", \"Germany\", \"Brazil\", \"Turkey\", \"Iran\", \"Peru\", \"India\", \"Belgium\", \"Saudi Arabia\", \"Mexico\", \"Switzerland\", \"Ecuador\", \"Pakistan\", \"Portugal\", \"Chile\", \"Sweden\", \"Ireland\"], \"xaxis\": \"x\", \"y\": [943496, 70230, 98467, 134054, 24914, 59296, 52686, 13155, 34332, 33565, 30052, 24620, 6708, 2814, 26879, 15734, 22885, 11031, 16288, 7258], \"yaxis\": \"y\", \"type\": \"bar\"}, {\"alignmentgroup\": \"True\", \"hovertemplate\": \"type=death<br>date=5/5/20<br>country=%{x}<br>count=%{y}<extra></extra>\", \"legendgroup\": \"death\", \"marker\": {\"color\": \"#EF553B\"}, \"name\": \"death\", \"offsetgroup\": \"death\", \"orientation\": \"v\", \"showlegend\": true, \"textposition\": \"auto\", \"x\": [\"US\", \"Spain\", \"Italy\", \"Russia\", \"Germany\", \"Brazil\", \"Turkey\", \"Iran\", \"Peru\", \"India\", \"Belgium\", \"Saudi Arabia\", \"Mexico\", \"Switzerland\", \"Ecuador\", \"Pakistan\", \"Portugal\", \"Chile\", \"Sweden\", \"Ireland\"], \"xaxis\": \"x\", \"y\": [71064, 25613, 29315, 1451, 6993, 7938, 3520, 6340, 1444, 1693, 8016, 200, 2507, 1795, 1569, 514, 1074, 275, 2854, 1339], \"yaxis\": \"y\", \"type\": \"bar\"}, {\"alignmentgroup\": \"True\", \"hovertemplate\": \"type=recovered<br>date=5/5/20<br>country=%{x}<br>count=%{y}<extra></extra>\", \"legendgroup\": \"recovered\", \"marker\": {\"color\": \"#00cc96\"}, \"name\": \"recovered\", \"offsetgroup\": \"recovered\", \"orientation\": \"v\", \"showlegend\": true, \"textposition\": \"auto\", \"x\": [\"US\", \"Spain\", \"Italy\", \"Russia\", \"Germany\", \"Brazil\", \"Turkey\", \"Iran\", \"Peru\", \"India\", \"Belgium\", \"Saudi Arabia\", \"Mexico\", \"Switzerland\", \"Ecuador\", \"Pakistan\", \"Portugal\", \"Chile\", \"Sweden\", \"Ireland\"], \"xaxis\": \"x\", \"y\": [189791, 123486, 85231, 19865, 135100, 48221, 73285, 80475, 15413, 14142, 12441, 5431, 16810, 25400, 3433, 5801, 1743, 10710, 4074, 13386], \"yaxis\": \"y\", \"type\": \"bar\"}], \"name\": \"5/5/20\"}, {\"data\": [{\"alignmentgroup\": \"True\", \"hovertemplate\": \"type=confirmed<br>date=5/6/20<br>country=%{x}<br>count=%{y}<extra></extra>\", \"legendgroup\": \"confirmed\", \"marker\": {\"color\": \"#636efa\"}, \"name\": \"confirmed\", \"offsetgroup\": \"confirmed\", \"orientation\": \"v\", \"showlegend\": true, \"textposition\": \"auto\", \"x\": [\"US\", \"Spain\", \"Italy\", \"Russia\", \"Germany\", \"Brazil\", \"Turkey\", \"Iran\", \"Peru\", \"India\", \"Belgium\", \"Saudi Arabia\", \"Mexico\", \"Switzerland\", \"Ecuador\", \"Pakistan\", \"Portugal\", \"Chile\", \"Sweden\", \"Ireland\"], \"xaxis\": \"x\", \"y\": [965966, 68466, 91528, 143065, 20987, 66653, 49958, 13645, 35757, 35871, 29711, 24946, 7149, 2555, 26830, 17045, 23017, 11578, 16903, 3763], \"yaxis\": \"y\", \"type\": \"bar\"}, {\"alignmentgroup\": \"True\", \"hovertemplate\": \"type=death<br>date=5/6/20<br>country=%{x}<br>count=%{y}<extra></extra>\", \"legendgroup\": \"death\", \"marker\": {\"color\": \"#EF553B\"}, \"name\": \"death\", \"offsetgroup\": \"death\", \"orientation\": \"v\", \"showlegend\": true, \"textposition\": \"auto\", \"x\": [\"US\", \"Spain\", \"Italy\", \"Russia\", \"Germany\", \"Brazil\", \"Turkey\", \"Iran\", \"Peru\", \"India\", \"Belgium\", \"Saudi Arabia\", \"Mexico\", \"Switzerland\", \"Ecuador\", \"Pakistan\", \"Portugal\", \"Chile\", \"Sweden\", \"Ireland\"], \"xaxis\": \"x\", \"y\": [73455, 25857, 29684, 1537, 7275, 8588, 3584, 6418, 1533, 1785, 8339, 209, 2704, 1805, 1618, 564, 1089, 281, 2941, 1375], \"yaxis\": \"y\", \"type\": \"bar\"}, {\"alignmentgroup\": \"True\", \"hovertemplate\": \"type=recovered<br>date=5/6/20<br>country=%{x}<br>count=%{y}<extra></extra>\", \"legendgroup\": \"recovered\", \"marker\": {\"color\": \"#00cc96\"}, \"name\": \"recovered\", \"offsetgroup\": \"recovered\", \"orientation\": \"v\", \"showlegend\": true, \"textposition\": \"auto\", \"x\": [\"US\", \"Spain\", \"Italy\", \"Russia\", \"Germany\", \"Brazil\", \"Turkey\", \"Iran\", \"Peru\", \"India\", \"Belgium\", \"Saudi Arabia\", \"Mexico\", \"Switzerland\", \"Ecuador\", \"Pakistan\", \"Portugal\", \"Chile\", \"Sweden\", \"Ireland\"], \"xaxis\": \"x\", \"y\": [189910, 126002, 93245, 21327, 139900, 51370, 78202, 81587, 17527, 15331, 12731, 6783, 17781, 25700, 3433, 6464, 2076, 11189, 4074, 17110], \"yaxis\": \"y\", \"type\": \"bar\"}], \"name\": \"5/6/20\"}, {\"data\": [{\"alignmentgroup\": \"True\", \"hovertemplate\": \"type=confirmed<br>date=5/7/20<br>country=%{x}<br>count=%{y}<extra></extra>\", \"legendgroup\": \"confirmed\", \"marker\": {\"color\": \"#636efa\"}, \"name\": \"confirmed\", \"offsetgroup\": \"confirmed\", \"orientation\": \"v\", \"showlegend\": true, \"textposition\": \"auto\", \"x\": [\"US\", \"Spain\", \"Italy\", \"Russia\", \"Germany\", \"Brazil\", \"Turkey\", \"Iran\", \"Peru\", \"India\", \"Belgium\", \"Saudi Arabia\", \"Mexico\", \"Switzerland\", \"Ecuador\", \"Pakistan\", \"Portugal\", \"Chile\", \"Sweden\", \"Ireland\"], \"xaxis\": \"x\", \"y\": [986325, 66866, 89624, 151732, 20338, 71233, 47096, 13905, 38511, 37686, 30025, 25714, 8874, 2416, 25211, 17595, 23352, 12632, 16612, 3872], \"yaxis\": \"y\", \"type\": \"bar\"}, {\"alignmentgroup\": \"True\", \"hovertemplate\": \"type=death<br>date=5/7/20<br>country=%{x}<br>count=%{y}<extra></extra>\", \"legendgroup\": \"death\", \"marker\": {\"color\": \"#EF553B\"}, \"name\": \"death\", \"offsetgroup\": \"death\", \"orientation\": \"v\", \"showlegend\": true, \"textposition\": \"auto\", \"x\": [\"US\", \"Spain\", \"Italy\", \"Russia\", \"Germany\", \"Brazil\", \"Turkey\", \"Iran\", \"Peru\", \"India\", \"Belgium\", \"Saudi Arabia\", \"Mexico\", \"Switzerland\", \"Ecuador\", \"Pakistan\", \"Portugal\", \"Chile\", \"Sweden\", \"Ireland\"], \"xaxis\": \"x\", \"y\": [75662, 26070, 29958, 1625, 7392, 9190, 3641, 6486, 1627, 1889, 8415, 219, 2961, 1810, 1654, 585, 1105, 285, 3040, 1403], \"yaxis\": \"y\", \"type\": \"bar\"}, {\"alignmentgroup\": \"True\", \"hovertemplate\": \"type=recovered<br>date=5/7/20<br>country=%{x}<br>count=%{y}<extra></extra>\", \"legendgroup\": \"recovered\", \"marker\": {\"color\": \"#00cc96\"}, \"name\": \"recovered\", \"offsetgroup\": \"recovered\", \"orientation\": \"v\", \"showlegend\": true, \"textposition\": \"auto\", \"x\": [\"US\", \"Spain\", \"Italy\", \"Russia\", \"Germany\", \"Brazil\", \"Turkey\", \"Iran\", \"Peru\", \"India\", \"Belgium\", \"Saudi Arabia\", \"Mexico\", \"Switzerland\", \"Ecuador\", \"Pakistan\", \"Portugal\", \"Chile\", \"Sweden\", \"Ireland\"], \"xaxis\": \"x\", \"y\": [195036, 128511, 96276, 23803, 141700, 55350, 82984, 82744, 18388, 16776, 12980, 7798, 17781, 25900, 3433, 6464, 2258, 11664, 4971, 17110], \"yaxis\": \"y\", \"type\": \"bar\"}], \"name\": \"5/7/20\"}, {\"data\": [{\"alignmentgroup\": \"True\", \"hovertemplate\": \"type=confirmed<br>date=5/8/20<br>country=%{x}<br>count=%{y}<extra></extra>\", \"legendgroup\": \"confirmed\", \"marker\": {\"color\": \"#636efa\"}, \"name\": \"confirmed\", \"offsetgroup\": \"confirmed\", \"orientation\": \"v\", \"showlegend\": true, \"textposition\": \"auto\", \"x\": [\"US\", \"Spain\", \"Italy\", \"Russia\", \"Germany\", \"Brazil\", \"Turkey\", \"Iran\", \"Peru\", \"India\", \"Belgium\", \"Saudi Arabia\", \"Mexico\", \"Switzerland\", \"Ecuador\", \"Pakistan\", \"Portugal\", \"Chile\", \"Sweden\", \"Ireland\"], \"xaxis\": \"x\", \"y\": [1007756, 65410, 87961, 159528, 21378, 77580, 45484, 14313, 41121, 39823, 30289, 26083, 8048, 2284, 23681, 18306, 23732, 13518, 17119, 4002], \"yaxis\": \"y\", \"type\": \"bar\"}, {\"alignmentgroup\": \"True\", \"hovertemplate\": \"type=death<br>date=5/8/20<br>country=%{x}<br>count=%{y}<extra></extra>\", \"legendgroup\": \"death\", \"marker\": {\"color\": \"#EF553B\"}, \"name\": \"death\", \"offsetgroup\": \"death\", \"orientation\": \"v\", \"showlegend\": true, \"textposition\": \"auto\", \"x\": [\"US\", \"Spain\", \"Italy\", \"Russia\", \"Germany\", \"Brazil\", \"Turkey\", \"Iran\", \"Peru\", \"India\", \"Belgium\", \"Saudi Arabia\", \"Mexico\", \"Switzerland\", \"Ecuador\", \"Pakistan\", \"Portugal\", \"Chile\", \"Sweden\", \"Ireland\"], \"xaxis\": \"x\", \"y\": [77180, 26299, 30201, 1723, 7510, 10017, 3689, 6541, 1714, 1985, 8521, 229, 3160, 1823, 1704, 599, 1114, 294, 3175, 1429], \"yaxis\": \"y\", \"type\": \"bar\"}, {\"alignmentgroup\": \"True\", \"hovertemplate\": \"type=recovered<br>date=5/8/20<br>country=%{x}<br>count=%{y}<extra></extra>\", \"legendgroup\": \"recovered\", \"marker\": {\"color\": \"#00cc96\"}, \"name\": \"recovered\", \"offsetgroup\": \"recovered\", \"orientation\": \"v\", \"showlegend\": true, \"textposition\": \"auto\", \"x\": [\"US\", \"Spain\", \"Italy\", \"Russia\", \"Germany\", \"Brazil\", \"Turkey\", \"Iran\", \"Peru\", \"India\", \"Belgium\", \"Saudi Arabia\", \"Mexico\", \"Switzerland\", \"Ecuador\", \"Pakistan\", \"Portugal\", \"Chile\", \"Sweden\", \"Ireland\"], \"xaxis\": \"x\", \"y\": [198993, 131148, 99023, 26608, 141700, 59297, 86396, 83837, 19012, 17887, 13201, 9120, 20314, 26100, 3433, 7530, 2422, 12160, 4971, 17110], \"yaxis\": \"y\", \"type\": \"bar\"}], \"name\": \"5/8/20\"}, {\"data\": [{\"alignmentgroup\": \"True\", \"hovertemplate\": \"type=confirmed<br>date=5/9/20<br>country=%{x}<br>count=%{y}<extra></extra>\", \"legendgroup\": \"confirmed\", \"marker\": {\"color\": \"#636efa\"}, \"name\": \"confirmed\", \"offsetgroup\": \"confirmed\", \"orientation\": \"v\", \"showlegend\": true, \"textposition\": \"auto\", \"x\": [\"US\", \"Spain\", \"Italy\", \"Russia\", \"Germany\", \"Brazil\", \"Turkey\", \"Iran\", \"Peru\", \"India\", \"Belgium\", \"Saudi Arabia\", \"Mexico\", \"Switzerland\", \"Ecuador\", \"Pakistan\", \"Portugal\", \"Chile\", \"Sweden\", \"Ireland\"], \"xaxis\": \"x\", \"y\": [1018221, 63148, 84842, 164933, 20475, 83720, 43896, 14567, 42955, 41406, 30604, 26753, 8283, 2021, 23921, 20291, 23781, 14248, 17730, 4204], \"yaxis\": \"y\", \"type\": \"bar\"}, {\"alignmentgroup\": \"True\", \"hovertemplate\": \"type=death<br>date=5/9/20<br>country=%{x}<br>count=%{y}<extra></extra>\", \"legendgroup\": \"death\", \"marker\": {\"color\": \"#EF553B\"}, \"name\": \"death\", \"offsetgroup\": \"death\", \"orientation\": \"v\", \"showlegend\": true, \"textposition\": \"auto\", \"x\": [\"US\", \"Spain\", \"Italy\", \"Russia\", \"Germany\", \"Brazil\", \"Turkey\", \"Iran\", \"Peru\", \"India\", \"Belgium\", \"Saudi Arabia\", \"Mexico\", \"Switzerland\", \"Ecuador\", \"Pakistan\", \"Portugal\", \"Chile\", \"Sweden\", \"Ireland\"], \"xaxis\": \"x\", \"y\": [78795, 26478, 30395, 1827, 7549, 10656, 3739, 6589, 1814, 2101, 8581, 239, 3353, 1830, 1717, 636, 1126, 304, 3220, 1446], \"yaxis\": \"y\", \"type\": \"bar\"}, {\"alignmentgroup\": \"True\", \"hovertemplate\": \"type=recovered<br>date=5/9/20<br>country=%{x}<br>count=%{y}<extra></extra>\", \"legendgroup\": \"recovered\", \"marker\": {\"color\": \"#00cc96\"}, \"name\": \"recovered\", \"offsetgroup\": \"recovered\", \"orientation\": \"v\", \"showlegend\": true, \"textposition\": \"auto\", \"x\": [\"US\", \"Spain\", \"Italy\", \"Russia\", \"Germany\", \"Brazil\", \"Turkey\", \"Iran\", \"Peru\", \"India\", \"Belgium\", \"Saudi Arabia\", \"Mexico\", \"Switzerland\", \"Ecuador\", \"Pakistan\", \"Portugal\", \"Chile\", \"Sweden\", \"Ireland\"], \"xaxis\": \"x\", \"y\": [212534, 133952, 103031, 31916, 143300, 61685, 89480, 85064, 20246, 19301, 13411, 10144, 21824, 26400, 3433, 7809, 2499, 12667, 4971, 17110], \"yaxis\": \"y\", \"type\": \"bar\"}], \"name\": \"5/9/20\"}]);\n",
       "                        }).then(function(){\n",
       "                            Plotly.animate('c9535148-9fd8-49de-909a-a6fb860ba3cc', null);\n",
       "                        }).then(function(){\n",
       "                            \n",
       "var gd = document.getElementById('c9535148-9fd8-49de-909a-a6fb860ba3cc');\n",
       "var x = new MutationObserver(function (mutations, observer) {{\n",
       "        var display = window.getComputedStyle(gd).display;\n",
       "        if (!display || display === 'none') {{\n",
       "            console.log([gd, 'removed!']);\n",
       "            Plotly.purge(gd);\n",
       "            observer.disconnect();\n",
       "        }}\n",
       "}});\n",
       "\n",
       "// Listen for the removal of the full notebook cells\n",
       "var notebookContainer = gd.closest('#notebook-container');\n",
       "if (notebookContainer) {{\n",
       "    x.observe(notebookContainer, {childList: true});\n",
       "}}\n",
       "\n",
       "// Listen for the clearing of the current output cell\n",
       "var outputEl = gd.closest('.output');\n",
       "if (outputEl) {{\n",
       "    x.observe(outputEl, {childList: true});\n",
       "}}\n",
       "\n",
       "                        })\n",
       "                };\n",
       "                });\n",
       "            </script>\n",
       "        </div>"
      ]
     },
     "metadata": {},
     "output_type": "display_data"
    }
   ],
   "source": [
    "\n",
    "import plotly.graph_objects as go\n",
    "import pandas as pd\n",
    "import plotly.express as px\n",
    "import numpy as np\n",
    "import plotly.io as pio \n",
    "import plotly.offline as pyo\n",
    "\n",
    "df1 = top_20_time_series.reset_index()\n",
    "df2 = top_20_time_series_deaths.reset_index()\n",
    "df3 = top_20_time_series_recovered.reset_index()\n",
    "\n",
    "countries = df1.columns\n",
    "y_max = df1[countries[1]].max()\n",
    "dates = df1['index']\n",
    "\n",
    "df1_melt= df1.melt(id_vars='index')\n",
    "df2_melt= df2.melt(id_vars='index')\n",
    "df3_melt= df3.melt(id_vars='index')\n",
    "\n",
    "df1_long = pd.concat([df1_melt,pd.DataFrame(np.tile('confirmed', len(df1_melt)))], axis=1)\n",
    "df1_long.columns = ['date','country', 'count', 'type']\n",
    "df2_long = pd.concat([df2_melt,pd.DataFrame(np.tile('death',len(df1_melt)))], axis=1)\n",
    "df2_long.columns = ['date','country', 'count',  'type']\n",
    "df3_long = pd.concat([df3_melt,pd.DataFrame(np.tile('recovered',len(df1_melt)))], axis=1)\n",
    "df3_long.columns = ['date','country', 'count',  'type']\n",
    "df1_long['count'] = df1_long['count']-df2_long['count']-df3_long['count']  #subtracting death and recov from total \n",
    "df_long = pd.concat([df1_long, df2_long, df3_long])\n",
    "\n",
    "#country_list = np.append(np.array('Top_20'), countries)\n",
    "fig = px.bar(df_long, x='country', y='count', color=\"type\",\n",
    "  animation_frame='date', range_y=[0, y_max+10000],title = 'Covid19 Confirmed/Death/Recovered')\n",
    "\n",
    "pio.write_html(fig, file='COVID19_ConfirmedxDeathsxRecovered_timeseries.html', auto_open=True)\n",
    "        \n",
    "pyo.iplot(fig)\n",
    "#plotly.offline.plot(fig)\n"
   ]
  }
 ],
 "metadata": {
  "kernelspec": {
   "display_name": "Python 3",
   "language": "python",
   "name": "python3"
  },
  "language_info": {
   "codemirror_mode": {
    "name": "ipython",
    "version": 3
   },
   "file_extension": ".py",
   "mimetype": "text/x-python",
   "name": "python",
   "nbconvert_exporter": "python",
   "pygments_lexer": "ipython3",
   "version": "3.8.0"
  }
 },
 "nbformat": 4,
 "nbformat_minor": 4
}
